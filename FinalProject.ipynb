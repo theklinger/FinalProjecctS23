{
 "cells": [
  {
   "cell_type": "code",
   "execution_count": 1,
   "id": "bf00a5af",
   "metadata": {},
   "outputs": [],
   "source": [
    "import pandas as pd\n",
    "from matplotlib import pyplot as plt\n",
    "import plotly.express as px\n",
    "import numpy as np"
   ]
  },
  {
   "cell_type": "code",
   "execution_count": 2,
   "id": "d86de3ec",
   "metadata": {},
   "outputs": [],
   "source": [
    "data = pd.read_csv('Weapons15to19.csv')\n"
   ]
  },
  {
   "cell_type": "code",
   "execution_count": 3,
   "id": "b49ef5e5",
   "metadata": {},
   "outputs": [
    {
     "data": {
      "text/html": [
       "<div>\n",
       "<style scoped>\n",
       "    .dataframe tbody tr th:only-of-type {\n",
       "        vertical-align: middle;\n",
       "    }\n",
       "\n",
       "    .dataframe tbody tr th {\n",
       "        vertical-align: top;\n",
       "    }\n",
       "\n",
       "    .dataframe thead th {\n",
       "        text-align: right;\n",
       "    }\n",
       "</style>\n",
       "<table border=\"1\" class=\"dataframe\">\n",
       "  <thead>\n",
       "    <tr style=\"text-align: right;\">\n",
       "      <th></th>\n",
       "      <th>Year</th>\n",
       "      <th>State</th>\n",
       "      <th>TotalMurders</th>\n",
       "      <th>TotalFirearms</th>\n",
       "      <th>Handguns</th>\n",
       "      <th>Rifles</th>\n",
       "      <th>Shotguns</th>\n",
       "      <th>FirearmsUnknown</th>\n",
       "      <th>KnivesBlades</th>\n",
       "      <th>OtherWeapons</th>\n",
       "      <th>HandsFeetetc</th>\n",
       "    </tr>\n",
       "  </thead>\n",
       "  <tbody>\n",
       "    <tr>\n",
       "      <th>0</th>\n",
       "      <td>2018</td>\n",
       "      <td>Texas</td>\n",
       "      <td>1301</td>\n",
       "      <td>956</td>\n",
       "      <td>522</td>\n",
       "      <td>33</td>\n",
       "      <td>37</td>\n",
       "      <td>364</td>\n",
       "      <td>128</td>\n",
       "      <td>133</td>\n",
       "      <td>84</td>\n",
       "    </tr>\n",
       "    <tr>\n",
       "      <th>1</th>\n",
       "      <td>2018</td>\n",
       "      <td>Utah</td>\n",
       "      <td>59</td>\n",
       "      <td>28</td>\n",
       "      <td>17</td>\n",
       "      <td>1</td>\n",
       "      <td>0</td>\n",
       "      <td>10</td>\n",
       "      <td>12</td>\n",
       "      <td>10</td>\n",
       "      <td>9</td>\n",
       "    </tr>\n",
       "    <tr>\n",
       "      <th>2</th>\n",
       "      <td>2018</td>\n",
       "      <td>Vermont</td>\n",
       "      <td>10</td>\n",
       "      <td>3</td>\n",
       "      <td>3</td>\n",
       "      <td>0</td>\n",
       "      <td>0</td>\n",
       "      <td>0</td>\n",
       "      <td>0</td>\n",
       "      <td>5</td>\n",
       "      <td>2</td>\n",
       "    </tr>\n",
       "    <tr>\n",
       "      <th>3</th>\n",
       "      <td>2018</td>\n",
       "      <td>Virginia</td>\n",
       "      <td>391</td>\n",
       "      <td>297</td>\n",
       "      <td>141</td>\n",
       "      <td>8</td>\n",
       "      <td>5</td>\n",
       "      <td>143</td>\n",
       "      <td>30</td>\n",
       "      <td>49</td>\n",
       "      <td>15</td>\n",
       "    </tr>\n",
       "    <tr>\n",
       "      <th>4</th>\n",
       "      <td>2018</td>\n",
       "      <td>Washington</td>\n",
       "      <td>232</td>\n",
       "      <td>138</td>\n",
       "      <td>76</td>\n",
       "      <td>2</td>\n",
       "      <td>5</td>\n",
       "      <td>55</td>\n",
       "      <td>45</td>\n",
       "      <td>35</td>\n",
       "      <td>14</td>\n",
       "    </tr>\n",
       "    <tr>\n",
       "      <th>...</th>\n",
       "      <td>...</td>\n",
       "      <td>...</td>\n",
       "      <td>...</td>\n",
       "      <td>...</td>\n",
       "      <td>...</td>\n",
       "      <td>...</td>\n",
       "      <td>...</td>\n",
       "      <td>...</td>\n",
       "      <td>...</td>\n",
       "      <td>...</td>\n",
       "      <td>...</td>\n",
       "    </tr>\n",
       "    <tr>\n",
       "      <th>250</th>\n",
       "      <td>2019</td>\n",
       "      <td>Virginia</td>\n",
       "      <td>427</td>\n",
       "      <td>323</td>\n",
       "      <td>150</td>\n",
       "      <td>15</td>\n",
       "      <td>9</td>\n",
       "      <td>149</td>\n",
       "      <td>40</td>\n",
       "      <td>49</td>\n",
       "      <td>15</td>\n",
       "    </tr>\n",
       "    <tr>\n",
       "      <th>251</th>\n",
       "      <td>2019</td>\n",
       "      <td>Washington</td>\n",
       "      <td>194</td>\n",
       "      <td>135</td>\n",
       "      <td>89</td>\n",
       "      <td>5</td>\n",
       "      <td>3</td>\n",
       "      <td>38</td>\n",
       "      <td>23</td>\n",
       "      <td>24</td>\n",
       "      <td>12</td>\n",
       "    </tr>\n",
       "    <tr>\n",
       "      <th>252</th>\n",
       "      <td>2019</td>\n",
       "      <td>West Virginia</td>\n",
       "      <td>72</td>\n",
       "      <td>48</td>\n",
       "      <td>23</td>\n",
       "      <td>7</td>\n",
       "      <td>2</td>\n",
       "      <td>16</td>\n",
       "      <td>6</td>\n",
       "      <td>15</td>\n",
       "      <td>3</td>\n",
       "    </tr>\n",
       "    <tr>\n",
       "      <th>253</th>\n",
       "      <td>2019</td>\n",
       "      <td>Wisconsin</td>\n",
       "      <td>178</td>\n",
       "      <td>119</td>\n",
       "      <td>53</td>\n",
       "      <td>3</td>\n",
       "      <td>3</td>\n",
       "      <td>60</td>\n",
       "      <td>25</td>\n",
       "      <td>27</td>\n",
       "      <td>7</td>\n",
       "    </tr>\n",
       "    <tr>\n",
       "      <th>254</th>\n",
       "      <td>2019</td>\n",
       "      <td>Wyoming</td>\n",
       "      <td>13</td>\n",
       "      <td>9</td>\n",
       "      <td>7</td>\n",
       "      <td>0</td>\n",
       "      <td>0</td>\n",
       "      <td>2</td>\n",
       "      <td>3</td>\n",
       "      <td>0</td>\n",
       "      <td>1</td>\n",
       "    </tr>\n",
       "  </tbody>\n",
       "</table>\n",
       "<p>255 rows × 11 columns</p>\n",
       "</div>"
      ],
      "text/plain": [
       "     Year          State  TotalMurders  TotalFirearms  Handguns  Rifles  \\\n",
       "0    2018          Texas          1301            956       522      33   \n",
       "1    2018           Utah            59             28        17       1   \n",
       "2    2018        Vermont            10              3         3       0   \n",
       "3    2018       Virginia           391            297       141       8   \n",
       "4    2018     Washington           232            138        76       2   \n",
       "..    ...            ...           ...            ...       ...     ...   \n",
       "250  2019       Virginia           427            323       150      15   \n",
       "251  2019     Washington           194            135        89       5   \n",
       "252  2019  West Virginia            72             48        23       7   \n",
       "253  2019      Wisconsin           178            119        53       3   \n",
       "254  2019        Wyoming            13              9         7       0   \n",
       "\n",
       "     Shotguns  FirearmsUnknown  KnivesBlades  OtherWeapons  HandsFeetetc  \n",
       "0          37              364           128           133            84  \n",
       "1           0               10            12            10             9  \n",
       "2           0                0             0             5             2  \n",
       "3           5              143            30            49            15  \n",
       "4           5               55            45            35            14  \n",
       "..        ...              ...           ...           ...           ...  \n",
       "250         9              149            40            49            15  \n",
       "251         3               38            23            24            12  \n",
       "252         2               16             6            15             3  \n",
       "253         3               60            25            27             7  \n",
       "254         0                2             3             0             1  \n",
       "\n",
       "[255 rows x 11 columns]"
      ]
     },
     "execution_count": 3,
     "metadata": {},
     "output_type": "execute_result"
    }
   ],
   "source": [
    "data"
   ]
  },
  {
   "cell_type": "code",
   "execution_count": 4,
   "id": "44ae8e30",
   "metadata": {},
   "outputs": [
    {
     "data": {
      "text/html": [
       "<div>\n",
       "<style scoped>\n",
       "    .dataframe tbody tr th:only-of-type {\n",
       "        vertical-align: middle;\n",
       "    }\n",
       "\n",
       "    .dataframe tbody tr th {\n",
       "        vertical-align: top;\n",
       "    }\n",
       "\n",
       "    .dataframe thead tr th {\n",
       "        text-align: left;\n",
       "    }\n",
       "\n",
       "    .dataframe thead tr:last-of-type th {\n",
       "        text-align: right;\n",
       "    }\n",
       "</style>\n",
       "<table border=\"1\" class=\"dataframe\">\n",
       "  <thead>\n",
       "    <tr>\n",
       "      <th></th>\n",
       "      <th></th>\n",
       "      <th colspan=\"8\" halign=\"left\">TotalMurders</th>\n",
       "      <th colspan=\"2\" halign=\"left\">TotalFirearms</th>\n",
       "      <th>...</th>\n",
       "      <th colspan=\"2\" halign=\"left\">OtherWeapons</th>\n",
       "      <th colspan=\"8\" halign=\"left\">HandsFeetetc</th>\n",
       "    </tr>\n",
       "    <tr>\n",
       "      <th></th>\n",
       "      <th></th>\n",
       "      <th>count</th>\n",
       "      <th>mean</th>\n",
       "      <th>std</th>\n",
       "      <th>min</th>\n",
       "      <th>25%</th>\n",
       "      <th>50%</th>\n",
       "      <th>75%</th>\n",
       "      <th>max</th>\n",
       "      <th>count</th>\n",
       "      <th>mean</th>\n",
       "      <th>...</th>\n",
       "      <th>75%</th>\n",
       "      <th>max</th>\n",
       "      <th>count</th>\n",
       "      <th>mean</th>\n",
       "      <th>std</th>\n",
       "      <th>min</th>\n",
       "      <th>25%</th>\n",
       "      <th>50%</th>\n",
       "      <th>75%</th>\n",
       "      <th>max</th>\n",
       "    </tr>\n",
       "    <tr>\n",
       "      <th>Year</th>\n",
       "      <th>State</th>\n",
       "      <th></th>\n",
       "      <th></th>\n",
       "      <th></th>\n",
       "      <th></th>\n",
       "      <th></th>\n",
       "      <th></th>\n",
       "      <th></th>\n",
       "      <th></th>\n",
       "      <th></th>\n",
       "      <th></th>\n",
       "      <th></th>\n",
       "      <th></th>\n",
       "      <th></th>\n",
       "      <th></th>\n",
       "      <th></th>\n",
       "      <th></th>\n",
       "      <th></th>\n",
       "      <th></th>\n",
       "      <th></th>\n",
       "      <th></th>\n",
       "      <th></th>\n",
       "    </tr>\n",
       "  </thead>\n",
       "  <tbody>\n",
       "    <tr>\n",
       "      <th rowspan=\"5\" valign=\"top\">2015</th>\n",
       "      <th>Alabama</th>\n",
       "      <td>1.0</td>\n",
       "      <td>3.0</td>\n",
       "      <td>NaN</td>\n",
       "      <td>3.0</td>\n",
       "      <td>3.0</td>\n",
       "      <td>3.0</td>\n",
       "      <td>3.0</td>\n",
       "      <td>3.0</td>\n",
       "      <td>1.0</td>\n",
       "      <td>3.0</td>\n",
       "      <td>...</td>\n",
       "      <td>0.0</td>\n",
       "      <td>0.0</td>\n",
       "      <td>1.0</td>\n",
       "      <td>0.0</td>\n",
       "      <td>NaN</td>\n",
       "      <td>0.0</td>\n",
       "      <td>0.0</td>\n",
       "      <td>0.0</td>\n",
       "      <td>0.0</td>\n",
       "      <td>0.0</td>\n",
       "    </tr>\n",
       "    <tr>\n",
       "      <th>Alaska</th>\n",
       "      <td>1.0</td>\n",
       "      <td>57.0</td>\n",
       "      <td>NaN</td>\n",
       "      <td>57.0</td>\n",
       "      <td>57.0</td>\n",
       "      <td>57.0</td>\n",
       "      <td>57.0</td>\n",
       "      <td>57.0</td>\n",
       "      <td>1.0</td>\n",
       "      <td>39.0</td>\n",
       "      <td>...</td>\n",
       "      <td>8.0</td>\n",
       "      <td>8.0</td>\n",
       "      <td>1.0</td>\n",
       "      <td>3.0</td>\n",
       "      <td>NaN</td>\n",
       "      <td>3.0</td>\n",
       "      <td>3.0</td>\n",
       "      <td>3.0</td>\n",
       "      <td>3.0</td>\n",
       "      <td>3.0</td>\n",
       "    </tr>\n",
       "    <tr>\n",
       "      <th>Arizona</th>\n",
       "      <td>1.0</td>\n",
       "      <td>278.0</td>\n",
       "      <td>NaN</td>\n",
       "      <td>278.0</td>\n",
       "      <td>278.0</td>\n",
       "      <td>278.0</td>\n",
       "      <td>278.0</td>\n",
       "      <td>278.0</td>\n",
       "      <td>1.0</td>\n",
       "      <td>171.0</td>\n",
       "      <td>...</td>\n",
       "      <td>55.0</td>\n",
       "      <td>55.0</td>\n",
       "      <td>1.0</td>\n",
       "      <td>10.0</td>\n",
       "      <td>NaN</td>\n",
       "      <td>10.0</td>\n",
       "      <td>10.0</td>\n",
       "      <td>10.0</td>\n",
       "      <td>10.0</td>\n",
       "      <td>10.0</td>\n",
       "    </tr>\n",
       "    <tr>\n",
       "      <th>Arkansas</th>\n",
       "      <td>1.0</td>\n",
       "      <td>164.0</td>\n",
       "      <td>NaN</td>\n",
       "      <td>164.0</td>\n",
       "      <td>164.0</td>\n",
       "      <td>164.0</td>\n",
       "      <td>164.0</td>\n",
       "      <td>164.0</td>\n",
       "      <td>1.0</td>\n",
       "      <td>110.0</td>\n",
       "      <td>...</td>\n",
       "      <td>30.0</td>\n",
       "      <td>30.0</td>\n",
       "      <td>1.0</td>\n",
       "      <td>6.0</td>\n",
       "      <td>NaN</td>\n",
       "      <td>6.0</td>\n",
       "      <td>6.0</td>\n",
       "      <td>6.0</td>\n",
       "      <td>6.0</td>\n",
       "      <td>6.0</td>\n",
       "    </tr>\n",
       "    <tr>\n",
       "      <th>California</th>\n",
       "      <td>1.0</td>\n",
       "      <td>1861.0</td>\n",
       "      <td>NaN</td>\n",
       "      <td>1861.0</td>\n",
       "      <td>1861.0</td>\n",
       "      <td>1861.0</td>\n",
       "      <td>1861.0</td>\n",
       "      <td>1861.0</td>\n",
       "      <td>1.0</td>\n",
       "      <td>1275.0</td>\n",
       "      <td>...</td>\n",
       "      <td>233.0</td>\n",
       "      <td>233.0</td>\n",
       "      <td>1.0</td>\n",
       "      <td>90.0</td>\n",
       "      <td>NaN</td>\n",
       "      <td>90.0</td>\n",
       "      <td>90.0</td>\n",
       "      <td>90.0</td>\n",
       "      <td>90.0</td>\n",
       "      <td>90.0</td>\n",
       "    </tr>\n",
       "    <tr>\n",
       "      <th>...</th>\n",
       "      <th>...</th>\n",
       "      <td>...</td>\n",
       "      <td>...</td>\n",
       "      <td>...</td>\n",
       "      <td>...</td>\n",
       "      <td>...</td>\n",
       "      <td>...</td>\n",
       "      <td>...</td>\n",
       "      <td>...</td>\n",
       "      <td>...</td>\n",
       "      <td>...</td>\n",
       "      <td>...</td>\n",
       "      <td>...</td>\n",
       "      <td>...</td>\n",
       "      <td>...</td>\n",
       "      <td>...</td>\n",
       "      <td>...</td>\n",
       "      <td>...</td>\n",
       "      <td>...</td>\n",
       "      <td>...</td>\n",
       "      <td>...</td>\n",
       "      <td>...</td>\n",
       "    </tr>\n",
       "    <tr>\n",
       "      <th rowspan=\"5\" valign=\"top\">2019</th>\n",
       "      <th>Virginia</th>\n",
       "      <td>1.0</td>\n",
       "      <td>427.0</td>\n",
       "      <td>NaN</td>\n",
       "      <td>427.0</td>\n",
       "      <td>427.0</td>\n",
       "      <td>427.0</td>\n",
       "      <td>427.0</td>\n",
       "      <td>427.0</td>\n",
       "      <td>1.0</td>\n",
       "      <td>323.0</td>\n",
       "      <td>...</td>\n",
       "      <td>49.0</td>\n",
       "      <td>49.0</td>\n",
       "      <td>1.0</td>\n",
       "      <td>15.0</td>\n",
       "      <td>NaN</td>\n",
       "      <td>15.0</td>\n",
       "      <td>15.0</td>\n",
       "      <td>15.0</td>\n",
       "      <td>15.0</td>\n",
       "      <td>15.0</td>\n",
       "    </tr>\n",
       "    <tr>\n",
       "      <th>Washington</th>\n",
       "      <td>1.0</td>\n",
       "      <td>194.0</td>\n",
       "      <td>NaN</td>\n",
       "      <td>194.0</td>\n",
       "      <td>194.0</td>\n",
       "      <td>194.0</td>\n",
       "      <td>194.0</td>\n",
       "      <td>194.0</td>\n",
       "      <td>1.0</td>\n",
       "      <td>135.0</td>\n",
       "      <td>...</td>\n",
       "      <td>24.0</td>\n",
       "      <td>24.0</td>\n",
       "      <td>1.0</td>\n",
       "      <td>12.0</td>\n",
       "      <td>NaN</td>\n",
       "      <td>12.0</td>\n",
       "      <td>12.0</td>\n",
       "      <td>12.0</td>\n",
       "      <td>12.0</td>\n",
       "      <td>12.0</td>\n",
       "    </tr>\n",
       "    <tr>\n",
       "      <th>West Virginia</th>\n",
       "      <td>1.0</td>\n",
       "      <td>72.0</td>\n",
       "      <td>NaN</td>\n",
       "      <td>72.0</td>\n",
       "      <td>72.0</td>\n",
       "      <td>72.0</td>\n",
       "      <td>72.0</td>\n",
       "      <td>72.0</td>\n",
       "      <td>1.0</td>\n",
       "      <td>48.0</td>\n",
       "      <td>...</td>\n",
       "      <td>15.0</td>\n",
       "      <td>15.0</td>\n",
       "      <td>1.0</td>\n",
       "      <td>3.0</td>\n",
       "      <td>NaN</td>\n",
       "      <td>3.0</td>\n",
       "      <td>3.0</td>\n",
       "      <td>3.0</td>\n",
       "      <td>3.0</td>\n",
       "      <td>3.0</td>\n",
       "    </tr>\n",
       "    <tr>\n",
       "      <th>Wisconsin</th>\n",
       "      <td>1.0</td>\n",
       "      <td>178.0</td>\n",
       "      <td>NaN</td>\n",
       "      <td>178.0</td>\n",
       "      <td>178.0</td>\n",
       "      <td>178.0</td>\n",
       "      <td>178.0</td>\n",
       "      <td>178.0</td>\n",
       "      <td>1.0</td>\n",
       "      <td>119.0</td>\n",
       "      <td>...</td>\n",
       "      <td>27.0</td>\n",
       "      <td>27.0</td>\n",
       "      <td>1.0</td>\n",
       "      <td>7.0</td>\n",
       "      <td>NaN</td>\n",
       "      <td>7.0</td>\n",
       "      <td>7.0</td>\n",
       "      <td>7.0</td>\n",
       "      <td>7.0</td>\n",
       "      <td>7.0</td>\n",
       "    </tr>\n",
       "    <tr>\n",
       "      <th>Wyoming</th>\n",
       "      <td>1.0</td>\n",
       "      <td>13.0</td>\n",
       "      <td>NaN</td>\n",
       "      <td>13.0</td>\n",
       "      <td>13.0</td>\n",
       "      <td>13.0</td>\n",
       "      <td>13.0</td>\n",
       "      <td>13.0</td>\n",
       "      <td>1.0</td>\n",
       "      <td>9.0</td>\n",
       "      <td>...</td>\n",
       "      <td>0.0</td>\n",
       "      <td>0.0</td>\n",
       "      <td>1.0</td>\n",
       "      <td>1.0</td>\n",
       "      <td>NaN</td>\n",
       "      <td>1.0</td>\n",
       "      <td>1.0</td>\n",
       "      <td>1.0</td>\n",
       "      <td>1.0</td>\n",
       "      <td>1.0</td>\n",
       "    </tr>\n",
       "  </tbody>\n",
       "</table>\n",
       "<p>255 rows × 72 columns</p>\n",
       "</div>"
      ],
      "text/plain": [
       "                   TotalMurders                                              \\\n",
       "                          count    mean std     min     25%     50%     75%   \n",
       "Year State                                                                    \n",
       "2015 Alabama                1.0     3.0 NaN     3.0     3.0     3.0     3.0   \n",
       "     Alaska                 1.0    57.0 NaN    57.0    57.0    57.0    57.0   \n",
       "     Arizona                1.0   278.0 NaN   278.0   278.0   278.0   278.0   \n",
       "     Arkansas               1.0   164.0 NaN   164.0   164.0   164.0   164.0   \n",
       "     California             1.0  1861.0 NaN  1861.0  1861.0  1861.0  1861.0   \n",
       "...                         ...     ...  ..     ...     ...     ...     ...   \n",
       "2019 Virginia               1.0   427.0 NaN   427.0   427.0   427.0   427.0   \n",
       "     Washington             1.0   194.0 NaN   194.0   194.0   194.0   194.0   \n",
       "     West Virginia          1.0    72.0 NaN    72.0    72.0    72.0    72.0   \n",
       "     Wisconsin              1.0   178.0 NaN   178.0   178.0   178.0   178.0   \n",
       "     Wyoming                1.0    13.0 NaN    13.0    13.0    13.0    13.0   \n",
       "\n",
       "                           TotalFirearms          ... OtherWeapons         \\\n",
       "                       max         count    mean  ...          75%    max   \n",
       "Year State                                        ...                       \n",
       "2015 Alabama           3.0           1.0     3.0  ...          0.0    0.0   \n",
       "     Alaska           57.0           1.0    39.0  ...          8.0    8.0   \n",
       "     Arizona         278.0           1.0   171.0  ...         55.0   55.0   \n",
       "     Arkansas        164.0           1.0   110.0  ...         30.0   30.0   \n",
       "     California     1861.0           1.0  1275.0  ...        233.0  233.0   \n",
       "...                    ...           ...     ...  ...          ...    ...   \n",
       "2019 Virginia        427.0           1.0   323.0  ...         49.0   49.0   \n",
       "     Washington      194.0           1.0   135.0  ...         24.0   24.0   \n",
       "     West Virginia    72.0           1.0    48.0  ...         15.0   15.0   \n",
       "     Wisconsin       178.0           1.0   119.0  ...         27.0   27.0   \n",
       "     Wyoming          13.0           1.0     9.0  ...          0.0    0.0   \n",
       "\n",
       "                   HandsFeetetc                                          \n",
       "                          count  mean std   min   25%   50%   75%   max  \n",
       "Year State                                                               \n",
       "2015 Alabama                1.0   0.0 NaN   0.0   0.0   0.0   0.0   0.0  \n",
       "     Alaska                 1.0   3.0 NaN   3.0   3.0   3.0   3.0   3.0  \n",
       "     Arizona                1.0  10.0 NaN  10.0  10.0  10.0  10.0  10.0  \n",
       "     Arkansas               1.0   6.0 NaN   6.0   6.0   6.0   6.0   6.0  \n",
       "     California             1.0  90.0 NaN  90.0  90.0  90.0  90.0  90.0  \n",
       "...                         ...   ...  ..   ...   ...   ...   ...   ...  \n",
       "2019 Virginia               1.0  15.0 NaN  15.0  15.0  15.0  15.0  15.0  \n",
       "     Washington             1.0  12.0 NaN  12.0  12.0  12.0  12.0  12.0  \n",
       "     West Virginia          1.0   3.0 NaN   3.0   3.0   3.0   3.0   3.0  \n",
       "     Wisconsin              1.0   7.0 NaN   7.0   7.0   7.0   7.0   7.0  \n",
       "     Wyoming                1.0   1.0 NaN   1.0   1.0   1.0   1.0   1.0  \n",
       "\n",
       "[255 rows x 72 columns]"
      ]
     },
     "execution_count": 4,
     "metadata": {},
     "output_type": "execute_result"
    }
   ],
   "source": [
    "data_group = data.astype({'Year': 'category', 'State': 'category'})\n",
    "data_to_display = data_group.groupby(['Year', 'State']).describe()\n",
    "data_to_display"
   ]
  },
  {
   "cell_type": "code",
   "execution_count": 5,
   "id": "49ca3eca",
   "metadata": {},
   "outputs": [
    {
     "data": {
      "text/plain": [
       "MultiIndex([(2015,              'Alabama'),\n",
       "            (2015,               'Alaska'),\n",
       "            (2015,              'Arizona'),\n",
       "            (2015,             'Arkansas'),\n",
       "            (2015,           'California'),\n",
       "            (2015,             'Colorado'),\n",
       "            (2015,          'Connecticut'),\n",
       "            (2015,             'Delaware'),\n",
       "            (2015, 'District of Columbia'),\n",
       "            (2015,              'Georgia'),\n",
       "            ...\n",
       "            (2019,         'South Dakota'),\n",
       "            (2019,            'Tennessee'),\n",
       "            (2019,                'Texas'),\n",
       "            (2019,                 'Utah'),\n",
       "            (2019,              'Vermont'),\n",
       "            (2019,             'Virginia'),\n",
       "            (2019,           'Washington'),\n",
       "            (2019,        'West Virginia'),\n",
       "            (2019,            'Wisconsin'),\n",
       "            (2019,              'Wyoming')],\n",
       "           names=['Year', 'State'], length=255)"
      ]
     },
     "execution_count": 5,
     "metadata": {},
     "output_type": "execute_result"
    }
   ],
   "source": [
    "data_to_display.index"
   ]
  },
  {
   "cell_type": "code",
   "execution_count": 76,
   "id": "e3002e97",
   "metadata": {
    "collapsed": true
   },
   "outputs": [
    {
     "data": {
      "text/plain": [
       "[2000,\n",
       " 2000,\n",
       " 2000,\n",
       " 2000,\n",
       " 2000,\n",
       " 2000,\n",
       " 2000,\n",
       " 2000,\n",
       " 2000,\n",
       " 2000,\n",
       " 2000,\n",
       " 2000,\n",
       " 2000,\n",
       " 2000,\n",
       " 2001,\n",
       " 2001,\n",
       " 2001,\n",
       " 2001,\n",
       " 2001,\n",
       " 2001,\n",
       " 2001,\n",
       " 2001,\n",
       " 2001,\n",
       " 2001,\n",
       " 2001,\n",
       " 2001,\n",
       " 2001,\n",
       " 2001,\n",
       " 2002,\n",
       " 2002,\n",
       " 2002,\n",
       " 2002,\n",
       " 2002,\n",
       " 2002,\n",
       " 2002,\n",
       " 2002,\n",
       " 2002,\n",
       " 2002,\n",
       " 2002,\n",
       " 2002,\n",
       " 2002,\n",
       " 2002,\n",
       " 2003,\n",
       " 2003,\n",
       " 2003,\n",
       " 2003,\n",
       " 2003,\n",
       " 2003,\n",
       " 2003,\n",
       " 2003,\n",
       " 2003,\n",
       " 2003,\n",
       " 2003,\n",
       " 2003,\n",
       " 2003,\n",
       " 2003,\n",
       " 2004,\n",
       " 2004,\n",
       " 2004,\n",
       " 2004,\n",
       " 2004,\n",
       " 2004,\n",
       " 2004,\n",
       " 2004,\n",
       " 2004,\n",
       " 2004,\n",
       " 2004,\n",
       " 2004,\n",
       " 2004,\n",
       " 2004,\n",
       " 2005,\n",
       " 2005,\n",
       " 2005,\n",
       " 2005,\n",
       " 2005,\n",
       " 2005,\n",
       " 2005,\n",
       " 2005,\n",
       " 2005,\n",
       " 2005,\n",
       " 2005,\n",
       " 2005,\n",
       " 2005,\n",
       " 2006,\n",
       " 2006,\n",
       " 2006,\n",
       " 2006,\n",
       " 2006,\n",
       " 2006,\n",
       " 2006,\n",
       " 2006,\n",
       " 2006,\n",
       " 2006,\n",
       " 2006,\n",
       " 2006,\n",
       " 2006,\n",
       " 2007,\n",
       " 2007,\n",
       " 2007,\n",
       " 2007,\n",
       " 2007,\n",
       " 2007,\n",
       " 2007,\n",
       " 2007,\n",
       " 2007,\n",
       " 2007,\n",
       " 2007,\n",
       " 2007,\n",
       " 2007,\n",
       " 2007,\n",
       " 2008,\n",
       " 2008,\n",
       " 2008,\n",
       " 2008,\n",
       " 2008,\n",
       " 2008,\n",
       " 2008,\n",
       " 2008,\n",
       " 2008,\n",
       " 2008,\n",
       " 2008,\n",
       " 2008,\n",
       " 2008,\n",
       " 2008,\n",
       " 2009,\n",
       " 2009,\n",
       " 2009,\n",
       " 2009,\n",
       " 2009,\n",
       " 2009,\n",
       " 2009,\n",
       " 2009,\n",
       " 2009,\n",
       " 2009,\n",
       " 2009,\n",
       " 2009,\n",
       " 2009,\n",
       " 2009,\n",
       " 2010,\n",
       " 2010,\n",
       " 2010,\n",
       " 2010,\n",
       " 2010,\n",
       " 2010,\n",
       " 2010,\n",
       " 2010,\n",
       " 2010,\n",
       " 2010,\n",
       " 2010,\n",
       " 2010,\n",
       " 2010,\n",
       " 2010,\n",
       " 2010,\n",
       " 2011,\n",
       " 2011,\n",
       " 2011,\n",
       " 2011,\n",
       " 2011,\n",
       " 2011,\n",
       " 2011,\n",
       " 2011,\n",
       " 2011,\n",
       " 2011,\n",
       " 2011,\n",
       " 2011,\n",
       " 2011,\n",
       " 2011,\n",
       " 2011,\n",
       " 2012,\n",
       " 2012,\n",
       " 2012,\n",
       " 2012,\n",
       " 2012,\n",
       " 2012,\n",
       " 2012,\n",
       " 2012,\n",
       " 2012,\n",
       " 2012,\n",
       " 2012,\n",
       " 2012,\n",
       " 2012,\n",
       " 2012,\n",
       " 2012,\n",
       " 2012,\n",
       " 2013,\n",
       " 2013,\n",
       " 2013,\n",
       " 2013,\n",
       " 2013,\n",
       " 2013,\n",
       " 2013,\n",
       " 2013,\n",
       " 2013,\n",
       " 2013,\n",
       " 2013,\n",
       " 2013,\n",
       " 2013,\n",
       " 2013,\n",
       " 2013,\n",
       " 2013,\n",
       " 2014,\n",
       " 2014,\n",
       " 2014,\n",
       " 2014,\n",
       " 2014,\n",
       " 2014,\n",
       " 2014,\n",
       " 2014,\n",
       " 2014,\n",
       " 2014,\n",
       " 2014,\n",
       " 2014,\n",
       " 2014,\n",
       " 2014,\n",
       " 2014,\n",
       " 2014,\n",
       " 2015,\n",
       " 2015,\n",
       " 2015,\n",
       " 2015,\n",
       " 2015,\n",
       " 2015,\n",
       " 2015,\n",
       " 2015,\n",
       " 2015,\n",
       " 2015,\n",
       " 2015,\n",
       " 2015,\n",
       " 2015,\n",
       " 2015,\n",
       " 2015,\n",
       " 2016,\n",
       " 2016,\n",
       " 2016,\n",
       " 2016,\n",
       " 2016,\n",
       " 2016,\n",
       " 2016,\n",
       " 2016,\n",
       " 2016,\n",
       " 2016,\n",
       " 2016,\n",
       " 2016,\n",
       " 2016,\n",
       " 2016,\n",
       " 2016,\n",
       " 2017,\n",
       " 2017,\n",
       " 2017,\n",
       " 2017,\n",
       " 2017,\n",
       " 2017,\n",
       " 2017,\n",
       " 2017,\n",
       " 2017,\n",
       " 2017,\n",
       " 2017,\n",
       " 2017,\n",
       " 2017,\n",
       " 2017,\n",
       " 2017,\n",
       " 2018,\n",
       " 2018,\n",
       " 2018,\n",
       " 2018,\n",
       " 2018,\n",
       " 2018,\n",
       " 2018,\n",
       " 2018,\n",
       " 2018,\n",
       " 2018,\n",
       " 2018,\n",
       " 2018,\n",
       " 2018,\n",
       " 2018,\n",
       " 2018,\n",
       " 2019,\n",
       " 2019,\n",
       " 2019,\n",
       " 2019,\n",
       " 2019,\n",
       " 2019,\n",
       " 2019,\n",
       " 2019,\n",
       " 2019,\n",
       " 2019,\n",
       " 2019,\n",
       " 2019,\n",
       " 2019,\n",
       " 2019,\n",
       " 2019,\n",
       " 2020,\n",
       " 2020,\n",
       " 2020,\n",
       " 2020,\n",
       " 2020,\n",
       " 2020,\n",
       " 2020,\n",
       " 2020,\n",
       " 2020,\n",
       " 2020,\n",
       " 2020,\n",
       " 2020,\n",
       " 2020,\n",
       " 2020,\n",
       " 2020,\n",
       " 2021,\n",
       " 2021,\n",
       " 2021,\n",
       " 2021,\n",
       " 2021,\n",
       " 2021,\n",
       " 2021,\n",
       " 2021,\n",
       " 2021,\n",
       " 2021,\n",
       " 2021,\n",
       " 2021,\n",
       " 2021,\n",
       " 2021,\n",
       " 2021,\n",
       " 2022,\n",
       " 2022,\n",
       " 2022,\n",
       " 2022,\n",
       " 2022,\n",
       " 2022,\n",
       " 2022,\n",
       " 2022,\n",
       " 2022,\n",
       " 2022,\n",
       " 2022,\n",
       " 2022,\n",
       " 2022,\n",
       " 2022]"
      ]
     },
     "execution_count": 76,
     "metadata": {},
     "output_type": "execute_result"
    }
   ],
   "source": [
    "[x[0] for x in data_to_display.index]"
   ]
  },
  {
   "cell_type": "code",
   "execution_count": 6,
   "id": "b62053d2",
   "metadata": {},
   "outputs": [
    {
     "data": {
      "text/plain": [
       "['Alabama',\n",
       " 'Alaska',\n",
       " 'Arizona',\n",
       " 'Arkansas',\n",
       " 'California',\n",
       " 'Colorado',\n",
       " 'Connecticut',\n",
       " 'Delaware',\n",
       " 'District of Columbia',\n",
       " 'Georgia',\n",
       " 'Guam',\n",
       " 'Hawaii',\n",
       " 'Idaho',\n",
       " 'Illinois',\n",
       " 'Indiana',\n",
       " 'Iowa',\n",
       " 'Kansas',\n",
       " 'Kentucky',\n",
       " 'Louisiana',\n",
       " 'Maine',\n",
       " 'Maryland',\n",
       " 'Massachusetts',\n",
       " 'Michigan',\n",
       " 'Minnesota',\n",
       " 'Mississippi',\n",
       " 'Missouri',\n",
       " 'Montana',\n",
       " 'Nebraska',\n",
       " 'Nevada',\n",
       " 'New Hampshire',\n",
       " 'New Jersey',\n",
       " 'New Mexico',\n",
       " 'New York',\n",
       " 'North Carolina',\n",
       " 'North Dakota',\n",
       " 'Ohio',\n",
       " 'Oklahoma',\n",
       " 'Oregon',\n",
       " 'Pennsylvania',\n",
       " 'Rhode Island',\n",
       " 'South Carolina',\n",
       " 'South Dakota',\n",
       " 'Tennessee',\n",
       " 'Texas',\n",
       " 'U.S. Virgin Islands',\n",
       " 'Utah',\n",
       " 'Vermont',\n",
       " 'Virginia',\n",
       " 'Washington',\n",
       " 'West Virginia',\n",
       " 'Wisconsin',\n",
       " 'Wyoming',\n",
       " 'Alabama',\n",
       " 'Alaska',\n",
       " 'Arizona',\n",
       " 'Arkansas',\n",
       " 'California',\n",
       " 'Colorado',\n",
       " 'Connecticut',\n",
       " 'Delaware',\n",
       " 'District of Columbia',\n",
       " 'Georgia',\n",
       " 'Hawaii',\n",
       " 'Idaho',\n",
       " 'Illinois',\n",
       " 'Indiana',\n",
       " 'Iowa',\n",
       " 'Kansas',\n",
       " 'Kentucky',\n",
       " 'Louisiana',\n",
       " 'Maine',\n",
       " 'Maryland',\n",
       " 'Massachusetts',\n",
       " 'Michigan',\n",
       " 'Minnesota',\n",
       " 'Mississippi',\n",
       " 'Missouri',\n",
       " 'Montana',\n",
       " 'Nebraska',\n",
       " 'Nevada',\n",
       " 'New Hampshire',\n",
       " 'New Jersey',\n",
       " 'New Mexico',\n",
       " 'New York',\n",
       " 'North Carolina',\n",
       " 'North Dakota',\n",
       " 'Ohio',\n",
       " 'Oklahoma',\n",
       " 'Oregon',\n",
       " 'Pennsylvania',\n",
       " 'Rhode Island',\n",
       " 'South Carolina',\n",
       " 'South Dakota',\n",
       " 'Tennessee',\n",
       " 'Texas',\n",
       " 'U.S. Virgin Islands',\n",
       " 'Utah',\n",
       " 'Vermont',\n",
       " 'Virginia',\n",
       " 'Washington',\n",
       " 'West Virginia',\n",
       " 'Wisconsin',\n",
       " 'Wyoming',\n",
       " 'Alabama',\n",
       " 'Alaska',\n",
       " 'Arizona',\n",
       " 'Arkansas',\n",
       " 'California',\n",
       " 'Colorado',\n",
       " 'Connecticut',\n",
       " 'Delaware',\n",
       " 'District of Columbia',\n",
       " 'Georgia',\n",
       " 'Guam',\n",
       " 'Hawaii',\n",
       " 'Idaho',\n",
       " 'Illinois',\n",
       " 'Indiana',\n",
       " 'Iowa',\n",
       " 'Kansas',\n",
       " 'Kentucky',\n",
       " 'Louisiana',\n",
       " 'Maine',\n",
       " 'Maryland',\n",
       " 'Massachusetts',\n",
       " 'Michigan',\n",
       " 'Minnesota',\n",
       " 'Mississippi',\n",
       " 'Missouri',\n",
       " 'Montana',\n",
       " 'Nebraska',\n",
       " 'Nevada',\n",
       " 'New Hampshire',\n",
       " 'New Jersey',\n",
       " 'New Mexico',\n",
       " 'New York',\n",
       " 'North Carolina',\n",
       " 'North Dakota',\n",
       " 'Ohio',\n",
       " 'Oklahoma',\n",
       " 'Oregon',\n",
       " 'Pennsylvania',\n",
       " 'Rhode Island',\n",
       " 'South Carolina',\n",
       " 'South Dakota',\n",
       " 'Tennessee',\n",
       " 'Texas',\n",
       " 'Utah',\n",
       " 'Vermont',\n",
       " 'Virginia',\n",
       " 'Washington',\n",
       " 'West Virginia',\n",
       " 'Wisconsin',\n",
       " 'Wyoming',\n",
       " 'Alabama',\n",
       " 'Alaska',\n",
       " 'Arizona',\n",
       " 'Arkansas',\n",
       " 'California',\n",
       " 'Colorado',\n",
       " 'Connecticut',\n",
       " 'Delaware',\n",
       " 'District of Columbia',\n",
       " 'Georgia',\n",
       " 'Hawaii',\n",
       " 'Idaho',\n",
       " 'Illinois',\n",
       " 'Indiana',\n",
       " 'Iowa',\n",
       " 'Kansas',\n",
       " 'Kentucky',\n",
       " 'Louisiana',\n",
       " 'Maine',\n",
       " 'Maryland',\n",
       " 'Massachusetts',\n",
       " 'Michigan',\n",
       " 'Minnesota',\n",
       " 'Mississippi',\n",
       " 'Missouri',\n",
       " 'Montana',\n",
       " 'Nebraska',\n",
       " 'Nevada',\n",
       " 'New Hampshire',\n",
       " 'New Jersey',\n",
       " 'New Mexico',\n",
       " 'New York',\n",
       " 'North Carolina',\n",
       " 'North Dakota',\n",
       " 'Ohio',\n",
       " 'Oklahoma',\n",
       " 'Oregon',\n",
       " 'Pennsylvania',\n",
       " 'Rhode Island',\n",
       " 'South Carolina',\n",
       " 'South Dakota',\n",
       " 'Tennessee',\n",
       " 'Texas',\n",
       " 'Utah',\n",
       " 'Vermont',\n",
       " 'Virginia',\n",
       " 'Washington',\n",
       " 'West Virginia',\n",
       " 'Wisconsin',\n",
       " 'Wyoming',\n",
       " 'Alabama',\n",
       " 'Alaska',\n",
       " 'Arizona',\n",
       " 'Arkansas',\n",
       " 'California',\n",
       " 'Colorado',\n",
       " 'Connecticut',\n",
       " 'Delaware',\n",
       " 'District of Columbia',\n",
       " 'Florida',\n",
       " 'Georgia',\n",
       " 'Hawaii',\n",
       " 'Idaho',\n",
       " 'Illinois',\n",
       " 'Indiana',\n",
       " 'Iowa',\n",
       " 'Kansas',\n",
       " 'Kentucky',\n",
       " 'Louisiana',\n",
       " 'Maine',\n",
       " 'Maryland',\n",
       " 'Massachusetts',\n",
       " 'Michigan',\n",
       " 'Minnesota',\n",
       " 'Mississippi',\n",
       " 'Missouri',\n",
       " 'Montana',\n",
       " 'Nebraska',\n",
       " 'Nevada',\n",
       " 'New Hampshire',\n",
       " 'New Jersey',\n",
       " 'New Mexico',\n",
       " 'New York',\n",
       " 'North Carolina',\n",
       " 'North Dakota',\n",
       " 'Ohio',\n",
       " 'Oklahoma',\n",
       " 'Oregon',\n",
       " 'Pennsylvania',\n",
       " 'Rhode Island',\n",
       " 'South Carolina',\n",
       " 'South Dakota',\n",
       " 'Tennessee',\n",
       " 'Texas',\n",
       " 'Utah',\n",
       " 'Vermont',\n",
       " 'Virginia',\n",
       " 'Washington',\n",
       " 'West Virginia',\n",
       " 'Wisconsin',\n",
       " 'Wyoming']"
      ]
     },
     "execution_count": 6,
     "metadata": {},
     "output_type": "execute_result"
    }
   ],
   "source": [
    "[x[1] for x in data_to_display.index]"
   ]
  },
  {
   "cell_type": "code",
   "execution_count": 7,
   "id": "a9f53a62",
   "metadata": {},
   "outputs": [
    {
     "data": {
      "text/plain": [
       "[3.0,\n",
       " 39.0,\n",
       " 171.0,\n",
       " 110.0,\n",
       " 1275.0,\n",
       " 115.0,\n",
       " 73.0,\n",
       " 52.0,\n",
       " 121.0,\n",
       " 464.0,\n",
       " 3.0,\n",
       " 4.0,\n",
       " 24.0,\n",
       " 440.0,\n",
       " 209.0,\n",
       " 49.0,\n",
       " 91.0,\n",
       " 141.0,\n",
       " 379.0,\n",
       " 16.0,\n",
       " 279.0,\n",
       " 81.0,\n",
       " 389.0,\n",
       " 79.0,\n",
       " 126.0,\n",
       " 418.0,\n",
       " 18.0,\n",
       " 43.0,\n",
       " 113.0,\n",
       " 8.0,\n",
       " 255.0,\n",
       " 56.0,\n",
       " 383.0,\n",
       " 353.0,\n",
       " 9.0,\n",
       " 316.0,\n",
       " 149.0,\n",
       " 34.0,\n",
       " 497.0,\n",
       " 10.0,\n",
       " 312.0,\n",
       " 12.0,\n",
       " 297.0,\n",
       " 906.0,\n",
       " 26.0,\n",
       " 34.0,\n",
       " 8.0,\n",
       " 275.0,\n",
       " 141.0,\n",
       " 30.0,\n",
       " 170.0,\n",
       " 10.0,\n",
       " 1.0,\n",
       " 43.0,\n",
       " 227.0,\n",
       " 151.0,\n",
       " 1368.0,\n",
       " 136.0,\n",
       " 48.0,\n",
       " 41.0,\n",
       " 105.0,\n",
       " 522.0,\n",
       " 19.0,\n",
       " 17.0,\n",
       " 799.0,\n",
       " 287.0,\n",
       " 43.0,\n",
       " 61.0,\n",
       " 207.0,\n",
       " 445.0,\n",
       " 11.0,\n",
       " 328.0,\n",
       " 85.0,\n",
       " 443.0,\n",
       " 60.0,\n",
       " 128.0,\n",
       " 437.0,\n",
       " 17.0,\n",
       " 30.0,\n",
       " 141.0,\n",
       " 8.0,\n",
       " 278.0,\n",
       " 60.0,\n",
       " 367.0,\n",
       " 421.0,\n",
       " 8.0,\n",
       " 452.0,\n",
       " 171.0,\n",
       " 51.0,\n",
       " 486.0,\n",
       " 12.0,\n",
       " 281.0,\n",
       " 7.0,\n",
       " 356.0,\n",
       " 1066.0,\n",
       " 34.0,\n",
       " 42.0,\n",
       " 6.0,\n",
       " 352.0,\n",
       " 127.0,\n",
       " 47.0,\n",
       " 166.0,\n",
       " 6.0,\n",
       " 1.0,\n",
       " 37.0,\n",
       " 249.0,\n",
       " 168.0,\n",
       " 1274.0,\n",
       " 137.0,\n",
       " 72.0,\n",
       " 44.0,\n",
       " 90.0,\n",
       " 542.0,\n",
       " 0.0,\n",
       " 4.0,\n",
       " 13.0,\n",
       " 693.0,\n",
       " 291.0,\n",
       " 57.0,\n",
       " 79.0,\n",
       " 192.0,\n",
       " 460.0,\n",
       " 12.0,\n",
       " 370.0,\n",
       " 99.0,\n",
       " 381.0,\n",
       " 69.0,\n",
       " 111.0,\n",
       " 514.0,\n",
       " 17.0,\n",
       " 31.0,\n",
       " 201.0,\n",
       " 7.0,\n",
       " 242.0,\n",
       " 71.0,\n",
       " 292.0,\n",
       " 413.0,\n",
       " 5.0,\n",
       " 485.0,\n",
       " 163.0,\n",
       " 58.0,\n",
       " 567.0,\n",
       " 8.0,\n",
       " 312.0,\n",
       " 8.0,\n",
       " 407.0,\n",
       " 1012.0,\n",
       " 46.0,\n",
       " 6.0,\n",
       " 338.0,\n",
       " 134.0,\n",
       " 45.0,\n",
       " 149.0,\n",
       " 6.0,\n",
       " 2.0,\n",
       " 31.0,\n",
       " 203.0,\n",
       " 156.0,\n",
       " 1177.0,\n",
       " 147.0,\n",
       " 54.0,\n",
       " 40.0,\n",
       " 120.0,\n",
       " 460.0,\n",
       " 11.0,\n",
       " 19.0,\n",
       " 708.0,\n",
       " 294.0,\n",
       " 20.0,\n",
       " 78.0,\n",
       " 179.0,\n",
       " 436.0,\n",
       " 11.0,\n",
       " 388.0,\n",
       " 93.0,\n",
       " 394.0,\n",
       " 49.0,\n",
       " 118.0,\n",
       " 473.0,\n",
       " 17.0,\n",
       " 26.0,\n",
       " 134.0,\n",
       " 12.0,\n",
       " 202.0,\n",
       " 87.0,\n",
       " 313.0,\n",
       " 346.0,\n",
       " 9.0,\n",
       " 383.0,\n",
       " 134.0,\n",
       " 48.0,\n",
       " 580.0,\n",
       " 12.0,\n",
       " 296.0,\n",
       " 8.0,\n",
       " 397.0,\n",
       " 956.0,\n",
       " 28.0,\n",
       " 3.0,\n",
       " 297.0,\n",
       " 138.0,\n",
       " 34.0,\n",
       " 136.0,\n",
       " 8.0,\n",
       " 3.0,\n",
       " 44.0,\n",
       " 213.0,\n",
       " 177.0,\n",
       " 1142.0,\n",
       " 135.0,\n",
       " 65.0,\n",
       " 40.0,\n",
       " 136.0,\n",
       " 0.0,\n",
       " 367.0,\n",
       " 9.0,\n",
       " 16.0,\n",
       " 647.0,\n",
       " 185.0,\n",
       " 36.0,\n",
       " 56.0,\n",
       " 174.0,\n",
       " 433.0,\n",
       " 13.0,\n",
       " 460.0,\n",
       " 86.0,\n",
       " 379.0,\n",
       " 79.0,\n",
       " 153.0,\n",
       " 486.0,\n",
       " 16.0,\n",
       " 35.0,\n",
       " 94.0,\n",
       " 16.0,\n",
       " 176.0,\n",
       " 96.0,\n",
       " 298.0,\n",
       " 383.0,\n",
       " 13.0,\n",
       " 382.0,\n",
       " 189.0,\n",
       " 61.0,\n",
       " 429.0,\n",
       " 10.0,\n",
       " 381.0,\n",
       " 7.0,\n",
       " 391.0,\n",
       " 1064.0,\n",
       " 41.0,\n",
       " 8.0,\n",
       " 323.0,\n",
       " 135.0,\n",
       " 48.0,\n",
       " 119.0,\n",
       " 9.0]"
      ]
     },
     "execution_count": 7,
     "metadata": {},
     "output_type": "execute_result"
    }
   ],
   "source": [
    "data_to_display['TotalFirearms']['mean'].values.tolist()"
   ]
  },
  {
   "cell_type": "code",
   "execution_count": 13,
   "id": "dc4d9f25",
   "metadata": {
    "scrolled": false
   },
   "outputs": [
    {
     "data": {
      "application/vnd.plotly.v1+json": {
       "config": {
        "plotlyServerURL": "https://plot.ly"
       },
       "data": [
        {
         "hovertemplate": "color=Alabama<br>symbol=Alabama<br>x=%{x}<br>y=%{y}<extra></extra>",
         "legendgroup": "Alabama, Alabama",
         "line": {
          "color": "#636efa",
          "dash": "solid"
         },
         "marker": {
          "symbol": "circle"
         },
         "mode": "markers+lines",
         "name": "Alabama, Alabama",
         "orientation": "v",
         "showlegend": true,
         "type": "scatter",
         "x": [
          2015,
          2016,
          2017,
          2018,
          2019
         ],
         "xaxis": "x",
         "y": [
          0,
          0,
          0,
          0,
          0
         ],
         "yaxis": "y"
        },
        {
         "hovertemplate": "color=Alaska<br>symbol=Alaska<br>x=%{x}<br>y=%{y}<extra></extra>",
         "legendgroup": "Alaska, Alaska",
         "line": {
          "color": "#EF553B",
          "dash": "solid"
         },
         "marker": {
          "symbol": "diamond"
         },
         "mode": "markers+lines",
         "name": "Alaska, Alaska",
         "orientation": "v",
         "showlegend": true,
         "type": "scatter",
         "x": [
          2015,
          2016,
          2017,
          2018,
          2019
         ],
         "xaxis": "x",
         "y": [
          2,
          4,
          3,
          3,
          1
         ],
         "yaxis": "y"
        },
        {
         "hovertemplate": "color=Arizona<br>symbol=Arizona<br>x=%{x}<br>y=%{y}<extra></extra>",
         "legendgroup": "Arizona, Arizona",
         "line": {
          "color": "#00cc96",
          "dash": "solid"
         },
         "marker": {
          "symbol": "square"
         },
         "mode": "markers+lines",
         "name": "Arizona, Arizona",
         "orientation": "v",
         "showlegend": true,
         "type": "scatter",
         "x": [
          2015,
          2016,
          2017,
          2018,
          2019
         ],
         "xaxis": "x",
         "y": [
          4,
          16,
          8,
          12,
          6
         ],
         "yaxis": "y"
        },
        {
         "hovertemplate": "color=Arkansas<br>symbol=Arkansas<br>x=%{x}<br>y=%{y}<extra></extra>",
         "legendgroup": "Arkansas, Arkansas",
         "line": {
          "color": "#ab63fa",
          "dash": "solid"
         },
         "marker": {
          "symbol": "x"
         },
         "mode": "markers+lines",
         "name": "Arkansas, Arkansas",
         "orientation": "v",
         "showlegend": true,
         "type": "scatter",
         "x": [
          2015,
          2016,
          2017,
          2018,
          2019
         ],
         "xaxis": "x",
         "y": [
          10,
          11,
          11,
          6,
          10
         ],
         "yaxis": "y"
        },
        {
         "hovertemplate": "color=California<br>symbol=California<br>x=%{x}<br>y=%{y}<extra></extra>",
         "legendgroup": "California, California",
         "line": {
          "color": "#FFA15A",
          "dash": "solid"
         },
         "marker": {
          "symbol": "cross"
         },
         "mode": "markers+lines",
         "name": "California, California",
         "orientation": "v",
         "showlegend": true,
         "type": "scatter",
         "x": [
          2015,
          2016,
          2017,
          2018,
          2019
         ],
         "xaxis": "x",
         "y": [
          34,
          37,
          37,
          24,
          34
         ],
         "yaxis": "y"
        },
        {
         "hovertemplate": "color=Colorado<br>symbol=Colorado<br>x=%{x}<br>y=%{y}<extra></extra>",
         "legendgroup": "Colorado, Colorado",
         "line": {
          "color": "#19d3f3",
          "dash": "solid"
         },
         "marker": {
          "symbol": "circle"
         },
         "mode": "markers+lines",
         "name": "Colorado, Colorado",
         "orientation": "v",
         "showlegend": true,
         "type": "scatter",
         "x": [
          2015,
          2016,
          2017,
          2018,
          2019
         ],
         "xaxis": "x",
         "y": [
          12,
          4,
          7,
          2,
          5
         ],
         "yaxis": "y"
        },
        {
         "hovertemplate": "color=Connecticut<br>symbol=Connecticut<br>x=%{x}<br>y=%{y}<extra></extra>",
         "legendgroup": "Connecticut, Connecticut",
         "line": {
          "color": "#FF6692",
          "dash": "solid"
         },
         "marker": {
          "symbol": "diamond"
         },
         "mode": "markers+lines",
         "name": "Connecticut, Connecticut",
         "orientation": "v",
         "showlegend": true,
         "type": "scatter",
         "x": [
          2015,
          2016,
          2017,
          2018,
          2019
         ],
         "xaxis": "x",
         "y": [
          0,
          0,
          0,
          2,
          1
         ],
         "yaxis": "y"
        },
        {
         "hovertemplate": "color=Delaware<br>symbol=Delaware<br>x=%{x}<br>y=%{y}<extra></extra>",
         "legendgroup": "Delaware, Delaware",
         "line": {
          "color": "#B6E880",
          "dash": "solid"
         },
         "marker": {
          "symbol": "square"
         },
         "mode": "markers+lines",
         "name": "Delaware, Delaware",
         "orientation": "v",
         "showlegend": true,
         "type": "scatter",
         "x": [
          2015,
          2016,
          2017,
          2018,
          2019
         ],
         "xaxis": "x",
         "y": [
          0,
          0,
          0,
          1,
          0
         ],
         "yaxis": "y"
        },
        {
         "hovertemplate": "color=District of Columbia<br>symbol=District of Columbia<br>x=%{x}<br>y=%{y}<extra></extra>",
         "legendgroup": "District of Columbia, District of Columbia",
         "line": {
          "color": "#FF97FF",
          "dash": "solid"
         },
         "marker": {
          "symbol": "x"
         },
         "mode": "markers+lines",
         "name": "District of Columbia, District of Columbia",
         "orientation": "v",
         "showlegend": true,
         "type": "scatter",
         "x": [
          2015,
          2016,
          2017,
          2018,
          2019
         ],
         "xaxis": "x",
         "y": [
          1,
          0,
          0,
          0,
          0
         ],
         "yaxis": "y"
        },
        {
         "hovertemplate": "color=Georgia<br>symbol=Georgia<br>x=%{x}<br>y=%{y}<extra></extra>",
         "legendgroup": "Georgia, Georgia",
         "line": {
          "color": "#FECB52",
          "dash": "solid"
         },
         "marker": {
          "symbol": "cross"
         },
         "mode": "markers+lines",
         "name": "Georgia, Georgia",
         "orientation": "v",
         "showlegend": true,
         "type": "scatter",
         "x": [
          2015,
          2016,
          2017,
          2018,
          2019
         ],
         "xaxis": "x",
         "y": [
          16,
          20,
          15,
          11,
          14
         ],
         "yaxis": "y"
        },
        {
         "hovertemplate": "color=Guam<br>symbol=Guam<br>x=%{x}<br>y=%{y}<extra></extra>",
         "legendgroup": "Guam, Guam",
         "line": {
          "color": "#636efa",
          "dash": "solid"
         },
         "marker": {
          "symbol": "circle"
         },
         "mode": "markers+lines",
         "name": "Guam, Guam",
         "orientation": "v",
         "showlegend": true,
         "type": "scatter",
         "x": [
          2015,
          2017
         ],
         "xaxis": "x",
         "y": [
          0,
          0
         ],
         "yaxis": "y"
        },
        {
         "hovertemplate": "color=Hawaii<br>symbol=Hawaii<br>x=%{x}<br>y=%{y}<extra></extra>",
         "legendgroup": "Hawaii, Hawaii",
         "line": {
          "color": "#EF553B",
          "dash": "solid"
         },
         "marker": {
          "symbol": "diamond"
         },
         "mode": "markers+lines",
         "name": "Hawaii, Hawaii",
         "orientation": "v",
         "showlegend": true,
         "type": "scatter",
         "x": [
          2015,
          2016,
          2017,
          2018,
          2019
         ],
         "xaxis": "x",
         "y": [
          1,
          3,
          1,
          1,
          0
         ],
         "yaxis": "y"
        },
        {
         "hovertemplate": "color=Idaho<br>symbol=Idaho<br>x=%{x}<br>y=%{y}<extra></extra>",
         "legendgroup": "Idaho, Idaho",
         "line": {
          "color": "#00cc96",
          "dash": "solid"
         },
         "marker": {
          "symbol": "square"
         },
         "mode": "markers+lines",
         "name": "Idaho, Idaho",
         "orientation": "v",
         "showlegend": true,
         "type": "scatter",
         "x": [
          2015,
          2016,
          2017,
          2018,
          2019
         ],
         "xaxis": "x",
         "y": [
          4,
          1,
          4,
          2,
          0
         ],
         "yaxis": "y"
        },
        {
         "hovertemplate": "color=Illinois<br>symbol=Illinois<br>x=%{x}<br>y=%{y}<extra></extra>",
         "legendgroup": "Illinois, Illinois",
         "line": {
          "color": "#ab63fa",
          "dash": "solid"
         },
         "marker": {
          "symbol": "x"
         },
         "mode": "markers+lines",
         "name": "Illinois, Illinois",
         "orientation": "v",
         "showlegend": true,
         "type": "scatter",
         "x": [
          2015,
          2016,
          2017,
          2018,
          2019
         ],
         "xaxis": "x",
         "y": [
          2,
          14,
          24,
          14,
          7
         ],
         "yaxis": "y"
        },
        {
         "hovertemplate": "color=Indiana<br>symbol=Indiana<br>x=%{x}<br>y=%{y}<extra></extra>",
         "legendgroup": "Indiana, Indiana",
         "line": {
          "color": "#FFA15A",
          "dash": "solid"
         },
         "marker": {
          "symbol": "cross"
         },
         "mode": "markers+lines",
         "name": "Indiana, Indiana",
         "orientation": "v",
         "showlegend": true,
         "type": "scatter",
         "x": [
          2015,
          2016,
          2017,
          2018,
          2019
         ],
         "xaxis": "x",
         "y": [
          9,
          12,
          14,
          10,
          3
         ],
         "yaxis": "y"
        },
        {
         "hovertemplate": "color=Iowa<br>symbol=Iowa<br>x=%{x}<br>y=%{y}<extra></extra>",
         "legendgroup": "Iowa, Iowa",
         "line": {
          "color": "#19d3f3",
          "dash": "solid"
         },
         "marker": {
          "symbol": "circle"
         },
         "mode": "markers+lines",
         "name": "Iowa, Iowa",
         "orientation": "v",
         "showlegend": true,
         "type": "scatter",
         "x": [
          2015,
          2016,
          2017,
          2018,
          2019
         ],
         "xaxis": "x",
         "y": [
          0,
          2,
          1,
          2,
          0
         ],
         "yaxis": "y"
        },
        {
         "hovertemplate": "color=Kansas<br>symbol=Kansas<br>x=%{x}<br>y=%{y}<extra></extra>",
         "legendgroup": "Kansas, Kansas",
         "line": {
          "color": "#FF6692",
          "dash": "solid"
         },
         "marker": {
          "symbol": "diamond"
         },
         "mode": "markers+lines",
         "name": "Kansas, Kansas",
         "orientation": "v",
         "showlegend": true,
         "type": "scatter",
         "x": [
          2015,
          2016,
          2017,
          2018,
          2019
         ],
         "xaxis": "x",
         "y": [
          4,
          5,
          4,
          0,
          1
         ],
         "yaxis": "y"
        },
        {
         "hovertemplate": "color=Kentucky<br>symbol=Kentucky<br>x=%{x}<br>y=%{y}<extra></extra>",
         "legendgroup": "Kentucky, Kentucky",
         "line": {
          "color": "#B6E880",
          "dash": "solid"
         },
         "marker": {
          "symbol": "square"
         },
         "mode": "markers+lines",
         "name": "Kentucky, Kentucky",
         "orientation": "v",
         "showlegend": true,
         "type": "scatter",
         "x": [
          2015,
          2016,
          2017,
          2018,
          2019
         ],
         "xaxis": "x",
         "y": [
          1,
          7,
          6,
          12,
          9
         ],
         "yaxis": "y"
        },
        {
         "hovertemplate": "color=Louisiana<br>symbol=Louisiana<br>x=%{x}<br>y=%{y}<extra></extra>",
         "legendgroup": "Louisiana, Louisiana",
         "line": {
          "color": "#FF97FF",
          "dash": "solid"
         },
         "marker": {
          "symbol": "x"
         },
         "mode": "markers+lines",
         "name": "Louisiana, Louisiana",
         "orientation": "v",
         "showlegend": true,
         "type": "scatter",
         "x": [
          2015,
          2016,
          2017,
          2018,
          2019
         ],
         "xaxis": "x",
         "y": [
          7,
          26,
          23,
          12,
          21
         ],
         "yaxis": "y"
        },
        {
         "hovertemplate": "color=Maine<br>symbol=Maine<br>x=%{x}<br>y=%{y}<extra></extra>",
         "legendgroup": "Maine, Maine",
         "line": {
          "color": "#FECB52",
          "dash": "solid"
         },
         "marker": {
          "symbol": "cross"
         },
         "mode": "markers+lines",
         "name": "Maine, Maine",
         "orientation": "v",
         "showlegend": true,
         "type": "scatter",
         "x": [
          2015,
          2016,
          2017,
          2018,
          2019
         ],
         "xaxis": "x",
         "y": [
          0,
          1,
          0,
          0,
          0
         ],
         "yaxis": "y"
        },
        {
         "hovertemplate": "color=Maryland<br>symbol=Maryland<br>x=%{x}<br>y=%{y}<extra></extra>",
         "legendgroup": "Maryland, Maryland",
         "line": {
          "color": "#636efa",
          "dash": "solid"
         },
         "marker": {
          "symbol": "circle"
         },
         "mode": "markers+lines",
         "name": "Maryland, Maryland",
         "orientation": "v",
         "showlegend": true,
         "type": "scatter",
         "x": [
          2015,
          2016,
          2017,
          2018,
          2019
         ],
         "xaxis": "x",
         "y": [
          3,
          2,
          5,
          1,
          3
         ],
         "yaxis": "y"
        },
        {
         "hovertemplate": "color=Massachusetts<br>symbol=Massachusetts<br>x=%{x}<br>y=%{y}<extra></extra>",
         "legendgroup": "Massachusetts, Massachusetts",
         "line": {
          "color": "#EF553B",
          "dash": "solid"
         },
         "marker": {
          "symbol": "diamond"
         },
         "mode": "markers+lines",
         "name": "Massachusetts, Massachusetts",
         "orientation": "v",
         "showlegend": true,
         "type": "scatter",
         "x": [
          2015,
          2016,
          2017,
          2018,
          2019
         ],
         "xaxis": "x",
         "y": [
          1,
          0,
          0,
          0,
          0
         ],
         "yaxis": "y"
        },
        {
         "hovertemplate": "color=Michigan<br>symbol=Michigan<br>x=%{x}<br>y=%{y}<extra></extra>",
         "legendgroup": "Michigan, Michigan",
         "line": {
          "color": "#00cc96",
          "dash": "solid"
         },
         "marker": {
          "symbol": "square"
         },
         "mode": "markers+lines",
         "name": "Michigan, Michigan",
         "orientation": "v",
         "showlegend": true,
         "type": "scatter",
         "x": [
          2015,
          2016,
          2017,
          2018,
          2019
         ],
         "xaxis": "x",
         "y": [
          10,
          15,
          13,
          17,
          13
         ],
         "yaxis": "y"
        },
        {
         "hovertemplate": "color=Minnesota<br>symbol=Minnesota<br>x=%{x}<br>y=%{y}<extra></extra>",
         "legendgroup": "Minnesota, Minnesota",
         "line": {
          "color": "#ab63fa",
          "dash": "solid"
         },
         "marker": {
          "symbol": "x"
         },
         "mode": "markers+lines",
         "name": "Minnesota, Minnesota",
         "orientation": "v",
         "showlegend": true,
         "type": "scatter",
         "x": [
          2015,
          2016,
          2017,
          2018,
          2019
         ],
         "xaxis": "x",
         "y": [
          6,
          2,
          1,
          4,
          0
         ],
         "yaxis": "y"
        },
        {
         "hovertemplate": "color=Mississippi<br>symbol=Mississippi<br>x=%{x}<br>y=%{y}<extra></extra>",
         "legendgroup": "Mississippi, Mississippi",
         "line": {
          "color": "#FFA15A",
          "dash": "solid"
         },
         "marker": {
          "symbol": "cross"
         },
         "mode": "markers+lines",
         "name": "Mississippi, Mississippi",
         "orientation": "v",
         "showlegend": true,
         "type": "scatter",
         "x": [
          2015,
          2016,
          2017,
          2018,
          2019
         ],
         "xaxis": "x",
         "y": [
          3,
          4,
          4,
          3,
          4
         ],
         "yaxis": "y"
        },
        {
         "hovertemplate": "color=Missouri<br>symbol=Missouri<br>x=%{x}<br>y=%{y}<extra></extra>",
         "legendgroup": "Missouri, Missouri",
         "line": {
          "color": "#19d3f3",
          "dash": "solid"
         },
         "marker": {
          "symbol": "circle"
         },
         "mode": "markers+lines",
         "name": "Missouri, Missouri",
         "orientation": "v",
         "showlegend": true,
         "type": "scatter",
         "x": [
          2015,
          2016,
          2017,
          2018,
          2019
         ],
         "xaxis": "x",
         "y": [
          12,
          23,
          22,
          16,
          26
         ],
         "yaxis": "y"
        },
        {
         "hovertemplate": "color=Montana<br>symbol=Montana<br>x=%{x}<br>y=%{y}<extra></extra>",
         "legendgroup": "Montana, Montana",
         "line": {
          "color": "#FF6692",
          "dash": "solid"
         },
         "marker": {
          "symbol": "diamond"
         },
         "mode": "markers+lines",
         "name": "Montana, Montana",
         "orientation": "v",
         "showlegend": true,
         "type": "scatter",
         "x": [
          2015,
          2016,
          2017,
          2018,
          2019
         ],
         "xaxis": "x",
         "y": [
          0,
          4,
          2,
          3,
          1
         ],
         "yaxis": "y"
        },
        {
         "hovertemplate": "color=Nebraska<br>symbol=Nebraska<br>x=%{x}<br>y=%{y}<extra></extra>",
         "legendgroup": "Nebraska, Nebraska",
         "line": {
          "color": "#B6E880",
          "dash": "solid"
         },
         "marker": {
          "symbol": "square"
         },
         "mode": "markers+lines",
         "name": "Nebraska, Nebraska",
         "orientation": "v",
         "showlegend": true,
         "type": "scatter",
         "x": [
          2015,
          2016,
          2017,
          2018,
          2019
         ],
         "xaxis": "x",
         "y": [
          1,
          0,
          2,
          0,
          2
         ],
         "yaxis": "y"
        },
        {
         "hovertemplate": "color=Nevada<br>symbol=Nevada<br>x=%{x}<br>y=%{y}<extra></extra>",
         "legendgroup": "Nevada, Nevada",
         "line": {
          "color": "#FF97FF",
          "dash": "solid"
         },
         "marker": {
          "symbol": "x"
         },
         "mode": "markers+lines",
         "name": "Nevada, Nevada",
         "orientation": "v",
         "showlegend": true,
         "type": "scatter",
         "x": [
          2015,
          2016,
          2017,
          2018,
          2019
         ],
         "xaxis": "x",
         "y": [
          1,
          2,
          58,
          1,
          5
         ],
         "yaxis": "y"
        },
        {
         "hovertemplate": "color=New Hampshire<br>symbol=New Hampshire<br>x=%{x}<br>y=%{y}<extra></extra>",
         "legendgroup": "New Hampshire, New Hampshire",
         "line": {
          "color": "#FECB52",
          "dash": "solid"
         },
         "marker": {
          "symbol": "cross"
         },
         "mode": "markers+lines",
         "name": "New Hampshire, New Hampshire",
         "orientation": "v",
         "showlegend": true,
         "type": "scatter",
         "x": [
          2015,
          2016,
          2017,
          2018,
          2019
         ],
         "xaxis": "x",
         "y": [
          0,
          1,
          0,
          0,
          0
         ],
         "yaxis": "y"
        },
        {
         "hovertemplate": "color=New Jersey<br>symbol=New Jersey<br>x=%{x}<br>y=%{y}<extra></extra>",
         "legendgroup": "New Jersey, New Jersey",
         "line": {
          "color": "#636efa",
          "dash": "solid"
         },
         "marker": {
          "symbol": "circle"
         },
         "mode": "markers+lines",
         "name": "New Jersey, New Jersey",
         "orientation": "v",
         "showlegend": true,
         "type": "scatter",
         "x": [
          2015,
          2016,
          2017,
          2018,
          2019
         ],
         "xaxis": "x",
         "y": [
          3,
          1,
          7,
          0,
          2
         ],
         "yaxis": "y"
        },
        {
         "hovertemplate": "color=New Mexico<br>symbol=New Mexico<br>x=%{x}<br>y=%{y}<extra></extra>",
         "legendgroup": "New Mexico, New Mexico",
         "line": {
          "color": "#EF553B",
          "dash": "solid"
         },
         "marker": {
          "symbol": "diamond"
         },
         "mode": "markers+lines",
         "name": "New Mexico, New Mexico",
         "orientation": "v",
         "showlegend": true,
         "type": "scatter",
         "x": [
          2015,
          2016,
          2017,
          2018,
          2019
         ],
         "xaxis": "x",
         "y": [
          1,
          1,
          2,
          3,
          1
         ],
         "yaxis": "y"
        },
        {
         "hovertemplate": "color=New York<br>symbol=New York<br>x=%{x}<br>y=%{y}<extra></extra>",
         "legendgroup": "New York, New York",
         "line": {
          "color": "#00cc96",
          "dash": "solid"
         },
         "marker": {
          "symbol": "square"
         },
         "mode": "markers+lines",
         "name": "New York, New York",
         "orientation": "v",
         "showlegend": true,
         "type": "scatter",
         "x": [
          2015,
          2016,
          2017,
          2018,
          2019
         ],
         "xaxis": "x",
         "y": [
          1,
          2,
          6,
          6,
          3
         ],
         "yaxis": "y"
        },
        {
         "hovertemplate": "color=North Carolina<br>symbol=North Carolina<br>x=%{x}<br>y=%{y}<extra></extra>",
         "legendgroup": "North Carolina, North Carolina",
         "line": {
          "color": "#ab63fa",
          "dash": "solid"
         },
         "marker": {
          "symbol": "x"
         },
         "mode": "markers+lines",
         "name": "North Carolina, North Carolina",
         "orientation": "v",
         "showlegend": true,
         "type": "scatter",
         "x": [
          2015,
          2016,
          2017,
          2018,
          2019
         ],
         "xaxis": "x",
         "y": [
          10,
          20,
          9,
          15,
          26
         ],
         "yaxis": "y"
        },
        {
         "hovertemplate": "color=North Dakota<br>symbol=North Dakota<br>x=%{x}<br>y=%{y}<extra></extra>",
         "legendgroup": "North Dakota, North Dakota",
         "line": {
          "color": "#FFA15A",
          "dash": "solid"
         },
         "marker": {
          "symbol": "cross"
         },
         "mode": "markers+lines",
         "name": "North Dakota, North Dakota",
         "orientation": "v",
         "showlegend": true,
         "type": "scatter",
         "x": [
          2015,
          2016,
          2017,
          2018,
          2019
         ],
         "xaxis": "x",
         "y": [
          0,
          2,
          1,
          0,
          2
         ],
         "yaxis": "y"
        },
        {
         "hovertemplate": "color=Ohio<br>symbol=Ohio<br>x=%{x}<br>y=%{y}<extra></extra>",
         "legendgroup": "Ohio, Ohio",
         "line": {
          "color": "#19d3f3",
          "dash": "solid"
         },
         "marker": {
          "symbol": "circle"
         },
         "mode": "markers+lines",
         "name": "Ohio, Ohio",
         "orientation": "v",
         "showlegend": true,
         "type": "scatter",
         "x": [
          2015,
          2016,
          2017,
          2018,
          2019
         ],
         "xaxis": "x",
         "y": [
          12,
          7,
          5,
          3,
          13
         ],
         "yaxis": "y"
        },
        {
         "hovertemplate": "color=Oklahoma<br>symbol=Oklahoma<br>x=%{x}<br>y=%{y}<extra></extra>",
         "legendgroup": "Oklahoma, Oklahoma",
         "line": {
          "color": "#FF6692",
          "dash": "solid"
         },
         "marker": {
          "symbol": "diamond"
         },
         "mode": "markers+lines",
         "name": "Oklahoma, Oklahoma",
         "orientation": "v",
         "showlegend": true,
         "type": "scatter",
         "x": [
          2015,
          2016,
          2017,
          2018,
          2019
         ],
         "xaxis": "x",
         "y": [
          8,
          9,
          5,
          7,
          11
         ],
         "yaxis": "y"
        },
        {
         "hovertemplate": "color=Oregon<br>symbol=Oregon<br>x=%{x}<br>y=%{y}<extra></extra>",
         "legendgroup": "Oregon, Oregon",
         "line": {
          "color": "#B6E880",
          "dash": "solid"
         },
         "marker": {
          "symbol": "square"
         },
         "mode": "markers+lines",
         "name": "Oregon, Oregon",
         "orientation": "v",
         "showlegend": true,
         "type": "scatter",
         "x": [
          2015,
          2016,
          2017,
          2018,
          2019
         ],
         "xaxis": "x",
         "y": [
          1,
          6,
          2,
          3,
          1
         ],
         "yaxis": "y"
        },
        {
         "hovertemplate": "color=Pennsylvania<br>symbol=Pennsylvania<br>x=%{x}<br>y=%{y}<extra></extra>",
         "legendgroup": "Pennsylvania, Pennsylvania",
         "line": {
          "color": "#FF97FF",
          "dash": "solid"
         },
         "marker": {
          "symbol": "x"
         },
         "mode": "markers+lines",
         "name": "Pennsylvania, Pennsylvania",
         "orientation": "v",
         "showlegend": true,
         "type": "scatter",
         "x": [
          2015,
          2016,
          2017,
          2018,
          2019
         ],
         "xaxis": "x",
         "y": [
          10,
          10,
          11,
          17,
          11
         ],
         "yaxis": "y"
        },
        {
         "hovertemplate": "color=Rhode Island<br>symbol=Rhode Island<br>x=%{x}<br>y=%{y}<extra></extra>",
         "legendgroup": "Rhode Island, Rhode Island",
         "line": {
          "color": "#FECB52",
          "dash": "solid"
         },
         "marker": {
          "symbol": "cross"
         },
         "mode": "markers+lines",
         "name": "Rhode Island, Rhode Island",
         "orientation": "v",
         "showlegend": true,
         "type": "scatter",
         "x": [
          2015,
          2016,
          2017,
          2018,
          2019
         ],
         "xaxis": "x",
         "y": [
          0,
          0,
          0,
          1,
          0
         ],
         "yaxis": "y"
        },
        {
         "hovertemplate": "color=South Carolina<br>symbol=South Carolina<br>x=%{x}<br>y=%{y}<extra></extra>",
         "legendgroup": "South Carolina, South Carolina",
         "line": {
          "color": "#636efa",
          "dash": "solid"
         },
         "marker": {
          "symbol": "circle"
         },
         "mode": "markers+lines",
         "name": "South Carolina, South Carolina",
         "orientation": "v",
         "showlegend": true,
         "type": "scatter",
         "x": [
          2015,
          2016,
          2017,
          2018,
          2019
         ],
         "xaxis": "x",
         "y": [
          7,
          7,
          11,
          8,
          9
         ],
         "yaxis": "y"
        },
        {
         "hovertemplate": "color=South Dakota<br>symbol=South Dakota<br>x=%{x}<br>y=%{y}<extra></extra>",
         "legendgroup": "South Dakota, South Dakota",
         "line": {
          "color": "#EF553B",
          "dash": "solid"
         },
         "marker": {
          "symbol": "diamond"
         },
         "mode": "markers+lines",
         "name": "South Dakota, South Dakota",
         "orientation": "v",
         "showlegend": true,
         "type": "scatter",
         "x": [
          2015,
          2016,
          2017,
          2018,
          2019
         ],
         "xaxis": "x",
         "y": [
          1,
          0,
          0,
          0,
          1
         ],
         "yaxis": "y"
        },
        {
         "hovertemplate": "color=Tennessee<br>symbol=Tennessee<br>x=%{x}<br>y=%{y}<extra></extra>",
         "legendgroup": "Tennessee, Tennessee",
         "line": {
          "color": "#00cc96",
          "dash": "solid"
         },
         "marker": {
          "symbol": "square"
         },
         "mode": "markers+lines",
         "name": "Tennessee, Tennessee",
         "orientation": "v",
         "showlegend": true,
         "type": "scatter",
         "x": [
          2015,
          2016,
          2017,
          2018,
          2019
         ],
         "xaxis": "x",
         "y": [
          13,
          10,
          19,
          26,
          13
         ],
         "yaxis": "y"
        },
        {
         "hovertemplate": "color=Texas<br>symbol=Texas<br>x=%{x}<br>y=%{y}<extra></extra>",
         "legendgroup": "Texas, Texas",
         "line": {
          "color": "#ab63fa",
          "dash": "solid"
         },
         "marker": {
          "symbol": "x"
         },
         "mode": "markers+lines",
         "name": "Texas, Texas",
         "orientation": "v",
         "showlegend": true,
         "type": "scatter",
         "x": [
          2015,
          2016,
          2017,
          2018,
          2019
         ],
         "xaxis": "x",
         "y": [
          19,
          51,
          40,
          33,
          72
         ],
         "yaxis": "y"
        },
        {
         "hovertemplate": "color=U.S. Virgin Islands<br>symbol=U.S. Virgin Islands<br>x=%{x}<br>y=%{y}<extra></extra>",
         "legendgroup": "U.S. Virgin Islands, U.S. Virgin Islands",
         "line": {
          "color": "#FFA15A",
          "dash": "solid"
         },
         "marker": {
          "symbol": "cross"
         },
         "mode": "markers+lines",
         "name": "U.S. Virgin Islands, U.S. Virgin Islands",
         "orientation": "v",
         "showlegend": true,
         "type": "scatter",
         "x": [
          2015,
          2016
         ],
         "xaxis": "x",
         "y": [
          1,
          0
         ],
         "yaxis": "y"
        },
        {
         "hovertemplate": "color=Utah<br>symbol=Utah<br>x=%{x}<br>y=%{y}<extra></extra>",
         "legendgroup": "Utah, Utah",
         "line": {
          "color": "#19d3f3",
          "dash": "solid"
         },
         "marker": {
          "symbol": "circle"
         },
         "mode": "markers+lines",
         "name": "Utah, Utah",
         "orientation": "v",
         "showlegend": true,
         "type": "scatter",
         "x": [
          2015,
          2016,
          2017,
          2018,
          2019
         ],
         "xaxis": "x",
         "y": [
          2,
          1,
          0,
          1,
          1
         ],
         "yaxis": "y"
        },
        {
         "hovertemplate": "color=Vermont<br>symbol=Vermont<br>x=%{x}<br>y=%{y}<extra></extra>",
         "legendgroup": "Vermont, Vermont",
         "line": {
          "color": "#FF6692",
          "dash": "solid"
         },
         "marker": {
          "symbol": "diamond"
         },
         "mode": "markers+lines",
         "name": "Vermont, Vermont",
         "orientation": "v",
         "showlegend": true,
         "type": "scatter",
         "x": [
          2015,
          2016,
          2017,
          2018,
          2019
         ],
         "xaxis": "x",
         "y": [
          4,
          2,
          0,
          0,
          2
         ],
         "yaxis": "y"
        },
        {
         "hovertemplate": "color=Virginia<br>symbol=Virginia<br>x=%{x}<br>y=%{y}<extra></extra>",
         "legendgroup": "Virginia, Virginia",
         "line": {
          "color": "#B6E880",
          "dash": "solid"
         },
         "marker": {
          "symbol": "square"
         },
         "mode": "markers+lines",
         "name": "Virginia, Virginia",
         "orientation": "v",
         "showlegend": true,
         "type": "scatter",
         "x": [
          2015,
          2016,
          2017,
          2018,
          2019
         ],
         "xaxis": "x",
         "y": [
          6,
          10,
          11,
          8,
          15
         ],
         "yaxis": "y"
        },
        {
         "hovertemplate": "color=Washington<br>symbol=Washington<br>x=%{x}<br>y=%{y}<extra></extra>",
         "legendgroup": "Washington, Washington",
         "line": {
          "color": "#FF97FF",
          "dash": "solid"
         },
         "marker": {
          "symbol": "x"
         },
         "mode": "markers+lines",
         "name": "Washington, Washington",
         "orientation": "v",
         "showlegend": true,
         "type": "scatter",
         "x": [
          2015,
          2016,
          2017,
          2018,
          2019
         ],
         "xaxis": "x",
         "y": [
          3,
          11,
          1,
          2,
          5
         ],
         "yaxis": "y"
        },
        {
         "hovertemplate": "color=West Virginia<br>symbol=West Virginia<br>x=%{x}<br>y=%{y}<extra></extra>",
         "legendgroup": "West Virginia, West Virginia",
         "line": {
          "color": "#FECB52",
          "dash": "solid"
         },
         "marker": {
          "symbol": "cross"
         },
         "mode": "markers+lines",
         "name": "West Virginia, West Virginia",
         "orientation": "v",
         "showlegend": true,
         "type": "scatter",
         "x": [
          2015,
          2016,
          2017,
          2018,
          2019
         ],
         "xaxis": "x",
         "y": [
          1,
          2,
          4,
          1,
          7
         ],
         "yaxis": "y"
        },
        {
         "hovertemplate": "color=Wisconsin<br>symbol=Wisconsin<br>x=%{x}<br>y=%{y}<extra></extra>",
         "legendgroup": "Wisconsin, Wisconsin",
         "line": {
          "color": "#636efa",
          "dash": "solid"
         },
         "marker": {
          "symbol": "circle"
         },
         "mode": "markers+lines",
         "name": "Wisconsin, Wisconsin",
         "orientation": "v",
         "showlegend": true,
         "type": "scatter",
         "x": [
          2015,
          2016,
          2017,
          2018,
          2019
         ],
         "xaxis": "x",
         "y": [
          5,
          6,
          4,
          4,
          3
         ],
         "yaxis": "y"
        },
        {
         "hovertemplate": "color=Wyoming<br>symbol=Wyoming<br>x=%{x}<br>y=%{y}<extra></extra>",
         "legendgroup": "Wyoming, Wyoming",
         "line": {
          "color": "#EF553B",
          "dash": "solid"
         },
         "marker": {
          "symbol": "diamond"
         },
         "mode": "markers+lines",
         "name": "Wyoming, Wyoming",
         "orientation": "v",
         "showlegend": true,
         "type": "scatter",
         "x": [
          2015,
          2016,
          2017,
          2018,
          2019
         ],
         "xaxis": "x",
         "y": [
          0,
          0,
          0,
          0,
          0
         ],
         "yaxis": "y"
        },
        {
         "hovertemplate": "color=Florida<br>symbol=Florida<br>x=%{x}<br>y=%{y}<extra></extra>",
         "legendgroup": "Florida, Florida",
         "line": {
          "color": "#00cc96",
          "dash": "solid"
         },
         "marker": {
          "symbol": "square"
         },
         "mode": "markers+lines",
         "name": "Florida, Florida",
         "orientation": "v",
         "showlegend": true,
         "type": "scatter",
         "x": [
          2019
         ],
         "xaxis": "x",
         "y": [
          0
         ],
         "yaxis": "y"
        }
       ],
       "layout": {
        "legend": {
         "title": {
          "text": "State"
         },
         "tracegroupgap": 0
        },
        "margin": {
         "t": 60
        },
        "template": {
         "data": {
          "bar": [
           {
            "error_x": {
             "color": "#2a3f5f"
            },
            "error_y": {
             "color": "#2a3f5f"
            },
            "marker": {
             "line": {
              "color": "#E5ECF6",
              "width": 0.5
             },
             "pattern": {
              "fillmode": "overlay",
              "size": 10,
              "solidity": 0.2
             }
            },
            "type": "bar"
           }
          ],
          "barpolar": [
           {
            "marker": {
             "line": {
              "color": "#E5ECF6",
              "width": 0.5
             },
             "pattern": {
              "fillmode": "overlay",
              "size": 10,
              "solidity": 0.2
             }
            },
            "type": "barpolar"
           }
          ],
          "carpet": [
           {
            "aaxis": {
             "endlinecolor": "#2a3f5f",
             "gridcolor": "white",
             "linecolor": "white",
             "minorgridcolor": "white",
             "startlinecolor": "#2a3f5f"
            },
            "baxis": {
             "endlinecolor": "#2a3f5f",
             "gridcolor": "white",
             "linecolor": "white",
             "minorgridcolor": "white",
             "startlinecolor": "#2a3f5f"
            },
            "type": "carpet"
           }
          ],
          "choropleth": [
           {
            "colorbar": {
             "outlinewidth": 0,
             "ticks": ""
            },
            "type": "choropleth"
           }
          ],
          "contour": [
           {
            "colorbar": {
             "outlinewidth": 0,
             "ticks": ""
            },
            "colorscale": [
             [
              0,
              "#0d0887"
             ],
             [
              0.1111111111111111,
              "#46039f"
             ],
             [
              0.2222222222222222,
              "#7201a8"
             ],
             [
              0.3333333333333333,
              "#9c179e"
             ],
             [
              0.4444444444444444,
              "#bd3786"
             ],
             [
              0.5555555555555556,
              "#d8576b"
             ],
             [
              0.6666666666666666,
              "#ed7953"
             ],
             [
              0.7777777777777778,
              "#fb9f3a"
             ],
             [
              0.8888888888888888,
              "#fdca26"
             ],
             [
              1,
              "#f0f921"
             ]
            ],
            "type": "contour"
           }
          ],
          "contourcarpet": [
           {
            "colorbar": {
             "outlinewidth": 0,
             "ticks": ""
            },
            "type": "contourcarpet"
           }
          ],
          "heatmap": [
           {
            "colorbar": {
             "outlinewidth": 0,
             "ticks": ""
            },
            "colorscale": [
             [
              0,
              "#0d0887"
             ],
             [
              0.1111111111111111,
              "#46039f"
             ],
             [
              0.2222222222222222,
              "#7201a8"
             ],
             [
              0.3333333333333333,
              "#9c179e"
             ],
             [
              0.4444444444444444,
              "#bd3786"
             ],
             [
              0.5555555555555556,
              "#d8576b"
             ],
             [
              0.6666666666666666,
              "#ed7953"
             ],
             [
              0.7777777777777778,
              "#fb9f3a"
             ],
             [
              0.8888888888888888,
              "#fdca26"
             ],
             [
              1,
              "#f0f921"
             ]
            ],
            "type": "heatmap"
           }
          ],
          "heatmapgl": [
           {
            "colorbar": {
             "outlinewidth": 0,
             "ticks": ""
            },
            "colorscale": [
             [
              0,
              "#0d0887"
             ],
             [
              0.1111111111111111,
              "#46039f"
             ],
             [
              0.2222222222222222,
              "#7201a8"
             ],
             [
              0.3333333333333333,
              "#9c179e"
             ],
             [
              0.4444444444444444,
              "#bd3786"
             ],
             [
              0.5555555555555556,
              "#d8576b"
             ],
             [
              0.6666666666666666,
              "#ed7953"
             ],
             [
              0.7777777777777778,
              "#fb9f3a"
             ],
             [
              0.8888888888888888,
              "#fdca26"
             ],
             [
              1,
              "#f0f921"
             ]
            ],
            "type": "heatmapgl"
           }
          ],
          "histogram": [
           {
            "marker": {
             "pattern": {
              "fillmode": "overlay",
              "size": 10,
              "solidity": 0.2
             }
            },
            "type": "histogram"
           }
          ],
          "histogram2d": [
           {
            "colorbar": {
             "outlinewidth": 0,
             "ticks": ""
            },
            "colorscale": [
             [
              0,
              "#0d0887"
             ],
             [
              0.1111111111111111,
              "#46039f"
             ],
             [
              0.2222222222222222,
              "#7201a8"
             ],
             [
              0.3333333333333333,
              "#9c179e"
             ],
             [
              0.4444444444444444,
              "#bd3786"
             ],
             [
              0.5555555555555556,
              "#d8576b"
             ],
             [
              0.6666666666666666,
              "#ed7953"
             ],
             [
              0.7777777777777778,
              "#fb9f3a"
             ],
             [
              0.8888888888888888,
              "#fdca26"
             ],
             [
              1,
              "#f0f921"
             ]
            ],
            "type": "histogram2d"
           }
          ],
          "histogram2dcontour": [
           {
            "colorbar": {
             "outlinewidth": 0,
             "ticks": ""
            },
            "colorscale": [
             [
              0,
              "#0d0887"
             ],
             [
              0.1111111111111111,
              "#46039f"
             ],
             [
              0.2222222222222222,
              "#7201a8"
             ],
             [
              0.3333333333333333,
              "#9c179e"
             ],
             [
              0.4444444444444444,
              "#bd3786"
             ],
             [
              0.5555555555555556,
              "#d8576b"
             ],
             [
              0.6666666666666666,
              "#ed7953"
             ],
             [
              0.7777777777777778,
              "#fb9f3a"
             ],
             [
              0.8888888888888888,
              "#fdca26"
             ],
             [
              1,
              "#f0f921"
             ]
            ],
            "type": "histogram2dcontour"
           }
          ],
          "mesh3d": [
           {
            "colorbar": {
             "outlinewidth": 0,
             "ticks": ""
            },
            "type": "mesh3d"
           }
          ],
          "parcoords": [
           {
            "line": {
             "colorbar": {
              "outlinewidth": 0,
              "ticks": ""
             }
            },
            "type": "parcoords"
           }
          ],
          "pie": [
           {
            "automargin": true,
            "type": "pie"
           }
          ],
          "scatter": [
           {
            "fillpattern": {
             "fillmode": "overlay",
             "size": 10,
             "solidity": 0.2
            },
            "type": "scatter"
           }
          ],
          "scatter3d": [
           {
            "line": {
             "colorbar": {
              "outlinewidth": 0,
              "ticks": ""
             }
            },
            "marker": {
             "colorbar": {
              "outlinewidth": 0,
              "ticks": ""
             }
            },
            "type": "scatter3d"
           }
          ],
          "scattercarpet": [
           {
            "marker": {
             "colorbar": {
              "outlinewidth": 0,
              "ticks": ""
             }
            },
            "type": "scattercarpet"
           }
          ],
          "scattergeo": [
           {
            "marker": {
             "colorbar": {
              "outlinewidth": 0,
              "ticks": ""
             }
            },
            "type": "scattergeo"
           }
          ],
          "scattergl": [
           {
            "marker": {
             "colorbar": {
              "outlinewidth": 0,
              "ticks": ""
             }
            },
            "type": "scattergl"
           }
          ],
          "scattermapbox": [
           {
            "marker": {
             "colorbar": {
              "outlinewidth": 0,
              "ticks": ""
             }
            },
            "type": "scattermapbox"
           }
          ],
          "scatterpolar": [
           {
            "marker": {
             "colorbar": {
              "outlinewidth": 0,
              "ticks": ""
             }
            },
            "type": "scatterpolar"
           }
          ],
          "scatterpolargl": [
           {
            "marker": {
             "colorbar": {
              "outlinewidth": 0,
              "ticks": ""
             }
            },
            "type": "scatterpolargl"
           }
          ],
          "scatterternary": [
           {
            "marker": {
             "colorbar": {
              "outlinewidth": 0,
              "ticks": ""
             }
            },
            "type": "scatterternary"
           }
          ],
          "surface": [
           {
            "colorbar": {
             "outlinewidth": 0,
             "ticks": ""
            },
            "colorscale": [
             [
              0,
              "#0d0887"
             ],
             [
              0.1111111111111111,
              "#46039f"
             ],
             [
              0.2222222222222222,
              "#7201a8"
             ],
             [
              0.3333333333333333,
              "#9c179e"
             ],
             [
              0.4444444444444444,
              "#bd3786"
             ],
             [
              0.5555555555555556,
              "#d8576b"
             ],
             [
              0.6666666666666666,
              "#ed7953"
             ],
             [
              0.7777777777777778,
              "#fb9f3a"
             ],
             [
              0.8888888888888888,
              "#fdca26"
             ],
             [
              1,
              "#f0f921"
             ]
            ],
            "type": "surface"
           }
          ],
          "table": [
           {
            "cells": {
             "fill": {
              "color": "#EBF0F8"
             },
             "line": {
              "color": "white"
             }
            },
            "header": {
             "fill": {
              "color": "#C8D4E3"
             },
             "line": {
              "color": "white"
             }
            },
            "type": "table"
           }
          ]
         },
         "layout": {
          "annotationdefaults": {
           "arrowcolor": "#2a3f5f",
           "arrowhead": 0,
           "arrowwidth": 1
          },
          "autotypenumbers": "strict",
          "coloraxis": {
           "colorbar": {
            "outlinewidth": 0,
            "ticks": ""
           }
          },
          "colorscale": {
           "diverging": [
            [
             0,
             "#8e0152"
            ],
            [
             0.1,
             "#c51b7d"
            ],
            [
             0.2,
             "#de77ae"
            ],
            [
             0.3,
             "#f1b6da"
            ],
            [
             0.4,
             "#fde0ef"
            ],
            [
             0.5,
             "#f7f7f7"
            ],
            [
             0.6,
             "#e6f5d0"
            ],
            [
             0.7,
             "#b8e186"
            ],
            [
             0.8,
             "#7fbc41"
            ],
            [
             0.9,
             "#4d9221"
            ],
            [
             1,
             "#276419"
            ]
           ],
           "sequential": [
            [
             0,
             "#0d0887"
            ],
            [
             0.1111111111111111,
             "#46039f"
            ],
            [
             0.2222222222222222,
             "#7201a8"
            ],
            [
             0.3333333333333333,
             "#9c179e"
            ],
            [
             0.4444444444444444,
             "#bd3786"
            ],
            [
             0.5555555555555556,
             "#d8576b"
            ],
            [
             0.6666666666666666,
             "#ed7953"
            ],
            [
             0.7777777777777778,
             "#fb9f3a"
            ],
            [
             0.8888888888888888,
             "#fdca26"
            ],
            [
             1,
             "#f0f921"
            ]
           ],
           "sequentialminus": [
            [
             0,
             "#0d0887"
            ],
            [
             0.1111111111111111,
             "#46039f"
            ],
            [
             0.2222222222222222,
             "#7201a8"
            ],
            [
             0.3333333333333333,
             "#9c179e"
            ],
            [
             0.4444444444444444,
             "#bd3786"
            ],
            [
             0.5555555555555556,
             "#d8576b"
            ],
            [
             0.6666666666666666,
             "#ed7953"
            ],
            [
             0.7777777777777778,
             "#fb9f3a"
            ],
            [
             0.8888888888888888,
             "#fdca26"
            ],
            [
             1,
             "#f0f921"
            ]
           ]
          },
          "colorway": [
           "#636efa",
           "#EF553B",
           "#00cc96",
           "#ab63fa",
           "#FFA15A",
           "#19d3f3",
           "#FF6692",
           "#B6E880",
           "#FF97FF",
           "#FECB52"
          ],
          "font": {
           "color": "#2a3f5f"
          },
          "geo": {
           "bgcolor": "white",
           "lakecolor": "white",
           "landcolor": "#E5ECF6",
           "showlakes": true,
           "showland": true,
           "subunitcolor": "white"
          },
          "hoverlabel": {
           "align": "left"
          },
          "hovermode": "closest",
          "mapbox": {
           "style": "light"
          },
          "paper_bgcolor": "white",
          "plot_bgcolor": "#E5ECF6",
          "polar": {
           "angularaxis": {
            "gridcolor": "white",
            "linecolor": "white",
            "ticks": ""
           },
           "bgcolor": "#E5ECF6",
           "radialaxis": {
            "gridcolor": "white",
            "linecolor": "white",
            "ticks": ""
           }
          },
          "scene": {
           "xaxis": {
            "backgroundcolor": "#E5ECF6",
            "gridcolor": "white",
            "gridwidth": 2,
            "linecolor": "white",
            "showbackground": true,
            "ticks": "",
            "zerolinecolor": "white"
           },
           "yaxis": {
            "backgroundcolor": "#E5ECF6",
            "gridcolor": "white",
            "gridwidth": 2,
            "linecolor": "white",
            "showbackground": true,
            "ticks": "",
            "zerolinecolor": "white"
           },
           "zaxis": {
            "backgroundcolor": "#E5ECF6",
            "gridcolor": "white",
            "gridwidth": 2,
            "linecolor": "white",
            "showbackground": true,
            "ticks": "",
            "zerolinecolor": "white"
           }
          },
          "shapedefaults": {
           "line": {
            "color": "#2a3f5f"
           }
          },
          "ternary": {
           "aaxis": {
            "gridcolor": "white",
            "linecolor": "white",
            "ticks": ""
           },
           "baxis": {
            "gridcolor": "white",
            "linecolor": "white",
            "ticks": ""
           },
           "bgcolor": "#E5ECF6",
           "caxis": {
            "gridcolor": "white",
            "linecolor": "white",
            "ticks": ""
           }
          },
          "title": {
           "x": 0.05
          },
          "xaxis": {
           "automargin": true,
           "gridcolor": "white",
           "linecolor": "white",
           "ticks": "",
           "title": {
            "standoff": 15
           },
           "zerolinecolor": "white",
           "zerolinewidth": 2
          },
          "yaxis": {
           "automargin": true,
           "gridcolor": "white",
           "linecolor": "white",
           "ticks": "",
           "title": {
            "standoff": 15
           },
           "zerolinecolor": "white",
           "zerolinewidth": 2
          }
         }
        },
        "title": {
         "text": "ALL Firearm Murders per state per year"
        },
        "xaxis": {
         "anchor": "y",
         "domain": [
          0,
          1
         ],
         "showgrid": true,
         "tickangle": 45,
         "title": {
          "text": "Year"
         }
        },
        "yaxis": {
         "anchor": "x",
         "domain": [
          0,
          1
         ],
         "title": {
          "text": "Firearm related Murders"
         }
        }
       }
      },
      "text/html": [
       "<div>                            <div id=\"30a6d503-5fcb-44c0-a24d-5ce461a942f1\" class=\"plotly-graph-div\" style=\"height:525px; width:100%;\"></div>            <script type=\"text/javascript\">                require([\"plotly\"], function(Plotly) {                    window.PLOTLYENV=window.PLOTLYENV || {};                                    if (document.getElementById(\"30a6d503-5fcb-44c0-a24d-5ce461a942f1\")) {                    Plotly.newPlot(                        \"30a6d503-5fcb-44c0-a24d-5ce461a942f1\",                        [{\"hovertemplate\":\"color=Alabama<br>symbol=Alabama<br>x=%{x}<br>y=%{y}<extra></extra>\",\"legendgroup\":\"Alabama, Alabama\",\"line\":{\"color\":\"#636efa\",\"dash\":\"solid\"},\"marker\":{\"symbol\":\"circle\"},\"mode\":\"markers+lines\",\"name\":\"Alabama, Alabama\",\"orientation\":\"v\",\"showlegend\":true,\"x\":[2015,2016,2017,2018,2019],\"xaxis\":\"x\",\"y\":[0.0,0.0,0.0,0.0,0.0],\"yaxis\":\"y\",\"type\":\"scatter\"},{\"hovertemplate\":\"color=Alaska<br>symbol=Alaska<br>x=%{x}<br>y=%{y}<extra></extra>\",\"legendgroup\":\"Alaska, Alaska\",\"line\":{\"color\":\"#EF553B\",\"dash\":\"solid\"},\"marker\":{\"symbol\":\"diamond\"},\"mode\":\"markers+lines\",\"name\":\"Alaska, Alaska\",\"orientation\":\"v\",\"showlegend\":true,\"x\":[2015,2016,2017,2018,2019],\"xaxis\":\"x\",\"y\":[2.0,4.0,3.0,3.0,1.0],\"yaxis\":\"y\",\"type\":\"scatter\"},{\"hovertemplate\":\"color=Arizona<br>symbol=Arizona<br>x=%{x}<br>y=%{y}<extra></extra>\",\"legendgroup\":\"Arizona, Arizona\",\"line\":{\"color\":\"#00cc96\",\"dash\":\"solid\"},\"marker\":{\"symbol\":\"square\"},\"mode\":\"markers+lines\",\"name\":\"Arizona, Arizona\",\"orientation\":\"v\",\"showlegend\":true,\"x\":[2015,2016,2017,2018,2019],\"xaxis\":\"x\",\"y\":[4.0,16.0,8.0,12.0,6.0],\"yaxis\":\"y\",\"type\":\"scatter\"},{\"hovertemplate\":\"color=Arkansas<br>symbol=Arkansas<br>x=%{x}<br>y=%{y}<extra></extra>\",\"legendgroup\":\"Arkansas, Arkansas\",\"line\":{\"color\":\"#ab63fa\",\"dash\":\"solid\"},\"marker\":{\"symbol\":\"x\"},\"mode\":\"markers+lines\",\"name\":\"Arkansas, Arkansas\",\"orientation\":\"v\",\"showlegend\":true,\"x\":[2015,2016,2017,2018,2019],\"xaxis\":\"x\",\"y\":[10.0,11.0,11.0,6.0,10.0],\"yaxis\":\"y\",\"type\":\"scatter\"},{\"hovertemplate\":\"color=California<br>symbol=California<br>x=%{x}<br>y=%{y}<extra></extra>\",\"legendgroup\":\"California, California\",\"line\":{\"color\":\"#FFA15A\",\"dash\":\"solid\"},\"marker\":{\"symbol\":\"cross\"},\"mode\":\"markers+lines\",\"name\":\"California, California\",\"orientation\":\"v\",\"showlegend\":true,\"x\":[2015,2016,2017,2018,2019],\"xaxis\":\"x\",\"y\":[34.0,37.0,37.0,24.0,34.0],\"yaxis\":\"y\",\"type\":\"scatter\"},{\"hovertemplate\":\"color=Colorado<br>symbol=Colorado<br>x=%{x}<br>y=%{y}<extra></extra>\",\"legendgroup\":\"Colorado, Colorado\",\"line\":{\"color\":\"#19d3f3\",\"dash\":\"solid\"},\"marker\":{\"symbol\":\"circle\"},\"mode\":\"markers+lines\",\"name\":\"Colorado, Colorado\",\"orientation\":\"v\",\"showlegend\":true,\"x\":[2015,2016,2017,2018,2019],\"xaxis\":\"x\",\"y\":[12.0,4.0,7.0,2.0,5.0],\"yaxis\":\"y\",\"type\":\"scatter\"},{\"hovertemplate\":\"color=Connecticut<br>symbol=Connecticut<br>x=%{x}<br>y=%{y}<extra></extra>\",\"legendgroup\":\"Connecticut, Connecticut\",\"line\":{\"color\":\"#FF6692\",\"dash\":\"solid\"},\"marker\":{\"symbol\":\"diamond\"},\"mode\":\"markers+lines\",\"name\":\"Connecticut, Connecticut\",\"orientation\":\"v\",\"showlegend\":true,\"x\":[2015,2016,2017,2018,2019],\"xaxis\":\"x\",\"y\":[0.0,0.0,0.0,2.0,1.0],\"yaxis\":\"y\",\"type\":\"scatter\"},{\"hovertemplate\":\"color=Delaware<br>symbol=Delaware<br>x=%{x}<br>y=%{y}<extra></extra>\",\"legendgroup\":\"Delaware, Delaware\",\"line\":{\"color\":\"#B6E880\",\"dash\":\"solid\"},\"marker\":{\"symbol\":\"square\"},\"mode\":\"markers+lines\",\"name\":\"Delaware, Delaware\",\"orientation\":\"v\",\"showlegend\":true,\"x\":[2015,2016,2017,2018,2019],\"xaxis\":\"x\",\"y\":[0.0,0.0,0.0,1.0,0.0],\"yaxis\":\"y\",\"type\":\"scatter\"},{\"hovertemplate\":\"color=District of Columbia<br>symbol=District of Columbia<br>x=%{x}<br>y=%{y}<extra></extra>\",\"legendgroup\":\"District of Columbia, District of Columbia\",\"line\":{\"color\":\"#FF97FF\",\"dash\":\"solid\"},\"marker\":{\"symbol\":\"x\"},\"mode\":\"markers+lines\",\"name\":\"District of Columbia, District of Columbia\",\"orientation\":\"v\",\"showlegend\":true,\"x\":[2015,2016,2017,2018,2019],\"xaxis\":\"x\",\"y\":[1.0,0.0,0.0,0.0,0.0],\"yaxis\":\"y\",\"type\":\"scatter\"},{\"hovertemplate\":\"color=Georgia<br>symbol=Georgia<br>x=%{x}<br>y=%{y}<extra></extra>\",\"legendgroup\":\"Georgia, Georgia\",\"line\":{\"color\":\"#FECB52\",\"dash\":\"solid\"},\"marker\":{\"symbol\":\"cross\"},\"mode\":\"markers+lines\",\"name\":\"Georgia, Georgia\",\"orientation\":\"v\",\"showlegend\":true,\"x\":[2015,2016,2017,2018,2019],\"xaxis\":\"x\",\"y\":[16.0,20.0,15.0,11.0,14.0],\"yaxis\":\"y\",\"type\":\"scatter\"},{\"hovertemplate\":\"color=Guam<br>symbol=Guam<br>x=%{x}<br>y=%{y}<extra></extra>\",\"legendgroup\":\"Guam, Guam\",\"line\":{\"color\":\"#636efa\",\"dash\":\"solid\"},\"marker\":{\"symbol\":\"circle\"},\"mode\":\"markers+lines\",\"name\":\"Guam, Guam\",\"orientation\":\"v\",\"showlegend\":true,\"x\":[2015,2017],\"xaxis\":\"x\",\"y\":[0.0,0.0],\"yaxis\":\"y\",\"type\":\"scatter\"},{\"hovertemplate\":\"color=Hawaii<br>symbol=Hawaii<br>x=%{x}<br>y=%{y}<extra></extra>\",\"legendgroup\":\"Hawaii, Hawaii\",\"line\":{\"color\":\"#EF553B\",\"dash\":\"solid\"},\"marker\":{\"symbol\":\"diamond\"},\"mode\":\"markers+lines\",\"name\":\"Hawaii, Hawaii\",\"orientation\":\"v\",\"showlegend\":true,\"x\":[2015,2016,2017,2018,2019],\"xaxis\":\"x\",\"y\":[1.0,3.0,1.0,1.0,0.0],\"yaxis\":\"y\",\"type\":\"scatter\"},{\"hovertemplate\":\"color=Idaho<br>symbol=Idaho<br>x=%{x}<br>y=%{y}<extra></extra>\",\"legendgroup\":\"Idaho, Idaho\",\"line\":{\"color\":\"#00cc96\",\"dash\":\"solid\"},\"marker\":{\"symbol\":\"square\"},\"mode\":\"markers+lines\",\"name\":\"Idaho, Idaho\",\"orientation\":\"v\",\"showlegend\":true,\"x\":[2015,2016,2017,2018,2019],\"xaxis\":\"x\",\"y\":[4.0,1.0,4.0,2.0,0.0],\"yaxis\":\"y\",\"type\":\"scatter\"},{\"hovertemplate\":\"color=Illinois<br>symbol=Illinois<br>x=%{x}<br>y=%{y}<extra></extra>\",\"legendgroup\":\"Illinois, Illinois\",\"line\":{\"color\":\"#ab63fa\",\"dash\":\"solid\"},\"marker\":{\"symbol\":\"x\"},\"mode\":\"markers+lines\",\"name\":\"Illinois, Illinois\",\"orientation\":\"v\",\"showlegend\":true,\"x\":[2015,2016,2017,2018,2019],\"xaxis\":\"x\",\"y\":[2.0,14.0,24.0,14.0,7.0],\"yaxis\":\"y\",\"type\":\"scatter\"},{\"hovertemplate\":\"color=Indiana<br>symbol=Indiana<br>x=%{x}<br>y=%{y}<extra></extra>\",\"legendgroup\":\"Indiana, Indiana\",\"line\":{\"color\":\"#FFA15A\",\"dash\":\"solid\"},\"marker\":{\"symbol\":\"cross\"},\"mode\":\"markers+lines\",\"name\":\"Indiana, Indiana\",\"orientation\":\"v\",\"showlegend\":true,\"x\":[2015,2016,2017,2018,2019],\"xaxis\":\"x\",\"y\":[9.0,12.0,14.0,10.0,3.0],\"yaxis\":\"y\",\"type\":\"scatter\"},{\"hovertemplate\":\"color=Iowa<br>symbol=Iowa<br>x=%{x}<br>y=%{y}<extra></extra>\",\"legendgroup\":\"Iowa, Iowa\",\"line\":{\"color\":\"#19d3f3\",\"dash\":\"solid\"},\"marker\":{\"symbol\":\"circle\"},\"mode\":\"markers+lines\",\"name\":\"Iowa, Iowa\",\"orientation\":\"v\",\"showlegend\":true,\"x\":[2015,2016,2017,2018,2019],\"xaxis\":\"x\",\"y\":[0.0,2.0,1.0,2.0,0.0],\"yaxis\":\"y\",\"type\":\"scatter\"},{\"hovertemplate\":\"color=Kansas<br>symbol=Kansas<br>x=%{x}<br>y=%{y}<extra></extra>\",\"legendgroup\":\"Kansas, Kansas\",\"line\":{\"color\":\"#FF6692\",\"dash\":\"solid\"},\"marker\":{\"symbol\":\"diamond\"},\"mode\":\"markers+lines\",\"name\":\"Kansas, Kansas\",\"orientation\":\"v\",\"showlegend\":true,\"x\":[2015,2016,2017,2018,2019],\"xaxis\":\"x\",\"y\":[4.0,5.0,4.0,0.0,1.0],\"yaxis\":\"y\",\"type\":\"scatter\"},{\"hovertemplate\":\"color=Kentucky<br>symbol=Kentucky<br>x=%{x}<br>y=%{y}<extra></extra>\",\"legendgroup\":\"Kentucky, Kentucky\",\"line\":{\"color\":\"#B6E880\",\"dash\":\"solid\"},\"marker\":{\"symbol\":\"square\"},\"mode\":\"markers+lines\",\"name\":\"Kentucky, Kentucky\",\"orientation\":\"v\",\"showlegend\":true,\"x\":[2015,2016,2017,2018,2019],\"xaxis\":\"x\",\"y\":[1.0,7.0,6.0,12.0,9.0],\"yaxis\":\"y\",\"type\":\"scatter\"},{\"hovertemplate\":\"color=Louisiana<br>symbol=Louisiana<br>x=%{x}<br>y=%{y}<extra></extra>\",\"legendgroup\":\"Louisiana, Louisiana\",\"line\":{\"color\":\"#FF97FF\",\"dash\":\"solid\"},\"marker\":{\"symbol\":\"x\"},\"mode\":\"markers+lines\",\"name\":\"Louisiana, Louisiana\",\"orientation\":\"v\",\"showlegend\":true,\"x\":[2015,2016,2017,2018,2019],\"xaxis\":\"x\",\"y\":[7.0,26.0,23.0,12.0,21.0],\"yaxis\":\"y\",\"type\":\"scatter\"},{\"hovertemplate\":\"color=Maine<br>symbol=Maine<br>x=%{x}<br>y=%{y}<extra></extra>\",\"legendgroup\":\"Maine, Maine\",\"line\":{\"color\":\"#FECB52\",\"dash\":\"solid\"},\"marker\":{\"symbol\":\"cross\"},\"mode\":\"markers+lines\",\"name\":\"Maine, Maine\",\"orientation\":\"v\",\"showlegend\":true,\"x\":[2015,2016,2017,2018,2019],\"xaxis\":\"x\",\"y\":[0.0,1.0,0.0,0.0,0.0],\"yaxis\":\"y\",\"type\":\"scatter\"},{\"hovertemplate\":\"color=Maryland<br>symbol=Maryland<br>x=%{x}<br>y=%{y}<extra></extra>\",\"legendgroup\":\"Maryland, Maryland\",\"line\":{\"color\":\"#636efa\",\"dash\":\"solid\"},\"marker\":{\"symbol\":\"circle\"},\"mode\":\"markers+lines\",\"name\":\"Maryland, Maryland\",\"orientation\":\"v\",\"showlegend\":true,\"x\":[2015,2016,2017,2018,2019],\"xaxis\":\"x\",\"y\":[3.0,2.0,5.0,1.0,3.0],\"yaxis\":\"y\",\"type\":\"scatter\"},{\"hovertemplate\":\"color=Massachusetts<br>symbol=Massachusetts<br>x=%{x}<br>y=%{y}<extra></extra>\",\"legendgroup\":\"Massachusetts, Massachusetts\",\"line\":{\"color\":\"#EF553B\",\"dash\":\"solid\"},\"marker\":{\"symbol\":\"diamond\"},\"mode\":\"markers+lines\",\"name\":\"Massachusetts, Massachusetts\",\"orientation\":\"v\",\"showlegend\":true,\"x\":[2015,2016,2017,2018,2019],\"xaxis\":\"x\",\"y\":[1.0,0.0,0.0,0.0,0.0],\"yaxis\":\"y\",\"type\":\"scatter\"},{\"hovertemplate\":\"color=Michigan<br>symbol=Michigan<br>x=%{x}<br>y=%{y}<extra></extra>\",\"legendgroup\":\"Michigan, Michigan\",\"line\":{\"color\":\"#00cc96\",\"dash\":\"solid\"},\"marker\":{\"symbol\":\"square\"},\"mode\":\"markers+lines\",\"name\":\"Michigan, Michigan\",\"orientation\":\"v\",\"showlegend\":true,\"x\":[2015,2016,2017,2018,2019],\"xaxis\":\"x\",\"y\":[10.0,15.0,13.0,17.0,13.0],\"yaxis\":\"y\",\"type\":\"scatter\"},{\"hovertemplate\":\"color=Minnesota<br>symbol=Minnesota<br>x=%{x}<br>y=%{y}<extra></extra>\",\"legendgroup\":\"Minnesota, Minnesota\",\"line\":{\"color\":\"#ab63fa\",\"dash\":\"solid\"},\"marker\":{\"symbol\":\"x\"},\"mode\":\"markers+lines\",\"name\":\"Minnesota, Minnesota\",\"orientation\":\"v\",\"showlegend\":true,\"x\":[2015,2016,2017,2018,2019],\"xaxis\":\"x\",\"y\":[6.0,2.0,1.0,4.0,0.0],\"yaxis\":\"y\",\"type\":\"scatter\"},{\"hovertemplate\":\"color=Mississippi<br>symbol=Mississippi<br>x=%{x}<br>y=%{y}<extra></extra>\",\"legendgroup\":\"Mississippi, Mississippi\",\"line\":{\"color\":\"#FFA15A\",\"dash\":\"solid\"},\"marker\":{\"symbol\":\"cross\"},\"mode\":\"markers+lines\",\"name\":\"Mississippi, Mississippi\",\"orientation\":\"v\",\"showlegend\":true,\"x\":[2015,2016,2017,2018,2019],\"xaxis\":\"x\",\"y\":[3.0,4.0,4.0,3.0,4.0],\"yaxis\":\"y\",\"type\":\"scatter\"},{\"hovertemplate\":\"color=Missouri<br>symbol=Missouri<br>x=%{x}<br>y=%{y}<extra></extra>\",\"legendgroup\":\"Missouri, Missouri\",\"line\":{\"color\":\"#19d3f3\",\"dash\":\"solid\"},\"marker\":{\"symbol\":\"circle\"},\"mode\":\"markers+lines\",\"name\":\"Missouri, Missouri\",\"orientation\":\"v\",\"showlegend\":true,\"x\":[2015,2016,2017,2018,2019],\"xaxis\":\"x\",\"y\":[12.0,23.0,22.0,16.0,26.0],\"yaxis\":\"y\",\"type\":\"scatter\"},{\"hovertemplate\":\"color=Montana<br>symbol=Montana<br>x=%{x}<br>y=%{y}<extra></extra>\",\"legendgroup\":\"Montana, Montana\",\"line\":{\"color\":\"#FF6692\",\"dash\":\"solid\"},\"marker\":{\"symbol\":\"diamond\"},\"mode\":\"markers+lines\",\"name\":\"Montana, Montana\",\"orientation\":\"v\",\"showlegend\":true,\"x\":[2015,2016,2017,2018,2019],\"xaxis\":\"x\",\"y\":[0.0,4.0,2.0,3.0,1.0],\"yaxis\":\"y\",\"type\":\"scatter\"},{\"hovertemplate\":\"color=Nebraska<br>symbol=Nebraska<br>x=%{x}<br>y=%{y}<extra></extra>\",\"legendgroup\":\"Nebraska, Nebraska\",\"line\":{\"color\":\"#B6E880\",\"dash\":\"solid\"},\"marker\":{\"symbol\":\"square\"},\"mode\":\"markers+lines\",\"name\":\"Nebraska, Nebraska\",\"orientation\":\"v\",\"showlegend\":true,\"x\":[2015,2016,2017,2018,2019],\"xaxis\":\"x\",\"y\":[1.0,0.0,2.0,0.0,2.0],\"yaxis\":\"y\",\"type\":\"scatter\"},{\"hovertemplate\":\"color=Nevada<br>symbol=Nevada<br>x=%{x}<br>y=%{y}<extra></extra>\",\"legendgroup\":\"Nevada, Nevada\",\"line\":{\"color\":\"#FF97FF\",\"dash\":\"solid\"},\"marker\":{\"symbol\":\"x\"},\"mode\":\"markers+lines\",\"name\":\"Nevada, Nevada\",\"orientation\":\"v\",\"showlegend\":true,\"x\":[2015,2016,2017,2018,2019],\"xaxis\":\"x\",\"y\":[1.0,2.0,58.0,1.0,5.0],\"yaxis\":\"y\",\"type\":\"scatter\"},{\"hovertemplate\":\"color=New Hampshire<br>symbol=New Hampshire<br>x=%{x}<br>y=%{y}<extra></extra>\",\"legendgroup\":\"New Hampshire, New Hampshire\",\"line\":{\"color\":\"#FECB52\",\"dash\":\"solid\"},\"marker\":{\"symbol\":\"cross\"},\"mode\":\"markers+lines\",\"name\":\"New Hampshire, New Hampshire\",\"orientation\":\"v\",\"showlegend\":true,\"x\":[2015,2016,2017,2018,2019],\"xaxis\":\"x\",\"y\":[0.0,1.0,0.0,0.0,0.0],\"yaxis\":\"y\",\"type\":\"scatter\"},{\"hovertemplate\":\"color=New Jersey<br>symbol=New Jersey<br>x=%{x}<br>y=%{y}<extra></extra>\",\"legendgroup\":\"New Jersey, New Jersey\",\"line\":{\"color\":\"#636efa\",\"dash\":\"solid\"},\"marker\":{\"symbol\":\"circle\"},\"mode\":\"markers+lines\",\"name\":\"New Jersey, New Jersey\",\"orientation\":\"v\",\"showlegend\":true,\"x\":[2015,2016,2017,2018,2019],\"xaxis\":\"x\",\"y\":[3.0,1.0,7.0,0.0,2.0],\"yaxis\":\"y\",\"type\":\"scatter\"},{\"hovertemplate\":\"color=New Mexico<br>symbol=New Mexico<br>x=%{x}<br>y=%{y}<extra></extra>\",\"legendgroup\":\"New Mexico, New Mexico\",\"line\":{\"color\":\"#EF553B\",\"dash\":\"solid\"},\"marker\":{\"symbol\":\"diamond\"},\"mode\":\"markers+lines\",\"name\":\"New Mexico, New Mexico\",\"orientation\":\"v\",\"showlegend\":true,\"x\":[2015,2016,2017,2018,2019],\"xaxis\":\"x\",\"y\":[1.0,1.0,2.0,3.0,1.0],\"yaxis\":\"y\",\"type\":\"scatter\"},{\"hovertemplate\":\"color=New York<br>symbol=New York<br>x=%{x}<br>y=%{y}<extra></extra>\",\"legendgroup\":\"New York, New York\",\"line\":{\"color\":\"#00cc96\",\"dash\":\"solid\"},\"marker\":{\"symbol\":\"square\"},\"mode\":\"markers+lines\",\"name\":\"New York, New York\",\"orientation\":\"v\",\"showlegend\":true,\"x\":[2015,2016,2017,2018,2019],\"xaxis\":\"x\",\"y\":[1.0,2.0,6.0,6.0,3.0],\"yaxis\":\"y\",\"type\":\"scatter\"},{\"hovertemplate\":\"color=North Carolina<br>symbol=North Carolina<br>x=%{x}<br>y=%{y}<extra></extra>\",\"legendgroup\":\"North Carolina, North Carolina\",\"line\":{\"color\":\"#ab63fa\",\"dash\":\"solid\"},\"marker\":{\"symbol\":\"x\"},\"mode\":\"markers+lines\",\"name\":\"North Carolina, North Carolina\",\"orientation\":\"v\",\"showlegend\":true,\"x\":[2015,2016,2017,2018,2019],\"xaxis\":\"x\",\"y\":[10.0,20.0,9.0,15.0,26.0],\"yaxis\":\"y\",\"type\":\"scatter\"},{\"hovertemplate\":\"color=North Dakota<br>symbol=North Dakota<br>x=%{x}<br>y=%{y}<extra></extra>\",\"legendgroup\":\"North Dakota, North Dakota\",\"line\":{\"color\":\"#FFA15A\",\"dash\":\"solid\"},\"marker\":{\"symbol\":\"cross\"},\"mode\":\"markers+lines\",\"name\":\"North Dakota, North Dakota\",\"orientation\":\"v\",\"showlegend\":true,\"x\":[2015,2016,2017,2018,2019],\"xaxis\":\"x\",\"y\":[0.0,2.0,1.0,0.0,2.0],\"yaxis\":\"y\",\"type\":\"scatter\"},{\"hovertemplate\":\"color=Ohio<br>symbol=Ohio<br>x=%{x}<br>y=%{y}<extra></extra>\",\"legendgroup\":\"Ohio, Ohio\",\"line\":{\"color\":\"#19d3f3\",\"dash\":\"solid\"},\"marker\":{\"symbol\":\"circle\"},\"mode\":\"markers+lines\",\"name\":\"Ohio, Ohio\",\"orientation\":\"v\",\"showlegend\":true,\"x\":[2015,2016,2017,2018,2019],\"xaxis\":\"x\",\"y\":[12.0,7.0,5.0,3.0,13.0],\"yaxis\":\"y\",\"type\":\"scatter\"},{\"hovertemplate\":\"color=Oklahoma<br>symbol=Oklahoma<br>x=%{x}<br>y=%{y}<extra></extra>\",\"legendgroup\":\"Oklahoma, Oklahoma\",\"line\":{\"color\":\"#FF6692\",\"dash\":\"solid\"},\"marker\":{\"symbol\":\"diamond\"},\"mode\":\"markers+lines\",\"name\":\"Oklahoma, Oklahoma\",\"orientation\":\"v\",\"showlegend\":true,\"x\":[2015,2016,2017,2018,2019],\"xaxis\":\"x\",\"y\":[8.0,9.0,5.0,7.0,11.0],\"yaxis\":\"y\",\"type\":\"scatter\"},{\"hovertemplate\":\"color=Oregon<br>symbol=Oregon<br>x=%{x}<br>y=%{y}<extra></extra>\",\"legendgroup\":\"Oregon, Oregon\",\"line\":{\"color\":\"#B6E880\",\"dash\":\"solid\"},\"marker\":{\"symbol\":\"square\"},\"mode\":\"markers+lines\",\"name\":\"Oregon, Oregon\",\"orientation\":\"v\",\"showlegend\":true,\"x\":[2015,2016,2017,2018,2019],\"xaxis\":\"x\",\"y\":[1.0,6.0,2.0,3.0,1.0],\"yaxis\":\"y\",\"type\":\"scatter\"},{\"hovertemplate\":\"color=Pennsylvania<br>symbol=Pennsylvania<br>x=%{x}<br>y=%{y}<extra></extra>\",\"legendgroup\":\"Pennsylvania, Pennsylvania\",\"line\":{\"color\":\"#FF97FF\",\"dash\":\"solid\"},\"marker\":{\"symbol\":\"x\"},\"mode\":\"markers+lines\",\"name\":\"Pennsylvania, Pennsylvania\",\"orientation\":\"v\",\"showlegend\":true,\"x\":[2015,2016,2017,2018,2019],\"xaxis\":\"x\",\"y\":[10.0,10.0,11.0,17.0,11.0],\"yaxis\":\"y\",\"type\":\"scatter\"},{\"hovertemplate\":\"color=Rhode Island<br>symbol=Rhode Island<br>x=%{x}<br>y=%{y}<extra></extra>\",\"legendgroup\":\"Rhode Island, Rhode Island\",\"line\":{\"color\":\"#FECB52\",\"dash\":\"solid\"},\"marker\":{\"symbol\":\"cross\"},\"mode\":\"markers+lines\",\"name\":\"Rhode Island, Rhode Island\",\"orientation\":\"v\",\"showlegend\":true,\"x\":[2015,2016,2017,2018,2019],\"xaxis\":\"x\",\"y\":[0.0,0.0,0.0,1.0,0.0],\"yaxis\":\"y\",\"type\":\"scatter\"},{\"hovertemplate\":\"color=South Carolina<br>symbol=South Carolina<br>x=%{x}<br>y=%{y}<extra></extra>\",\"legendgroup\":\"South Carolina, South Carolina\",\"line\":{\"color\":\"#636efa\",\"dash\":\"solid\"},\"marker\":{\"symbol\":\"circle\"},\"mode\":\"markers+lines\",\"name\":\"South Carolina, South Carolina\",\"orientation\":\"v\",\"showlegend\":true,\"x\":[2015,2016,2017,2018,2019],\"xaxis\":\"x\",\"y\":[7.0,7.0,11.0,8.0,9.0],\"yaxis\":\"y\",\"type\":\"scatter\"},{\"hovertemplate\":\"color=South Dakota<br>symbol=South Dakota<br>x=%{x}<br>y=%{y}<extra></extra>\",\"legendgroup\":\"South Dakota, South Dakota\",\"line\":{\"color\":\"#EF553B\",\"dash\":\"solid\"},\"marker\":{\"symbol\":\"diamond\"},\"mode\":\"markers+lines\",\"name\":\"South Dakota, South Dakota\",\"orientation\":\"v\",\"showlegend\":true,\"x\":[2015,2016,2017,2018,2019],\"xaxis\":\"x\",\"y\":[1.0,0.0,0.0,0.0,1.0],\"yaxis\":\"y\",\"type\":\"scatter\"},{\"hovertemplate\":\"color=Tennessee<br>symbol=Tennessee<br>x=%{x}<br>y=%{y}<extra></extra>\",\"legendgroup\":\"Tennessee, Tennessee\",\"line\":{\"color\":\"#00cc96\",\"dash\":\"solid\"},\"marker\":{\"symbol\":\"square\"},\"mode\":\"markers+lines\",\"name\":\"Tennessee, Tennessee\",\"orientation\":\"v\",\"showlegend\":true,\"x\":[2015,2016,2017,2018,2019],\"xaxis\":\"x\",\"y\":[13.0,10.0,19.0,26.0,13.0],\"yaxis\":\"y\",\"type\":\"scatter\"},{\"hovertemplate\":\"color=Texas<br>symbol=Texas<br>x=%{x}<br>y=%{y}<extra></extra>\",\"legendgroup\":\"Texas, Texas\",\"line\":{\"color\":\"#ab63fa\",\"dash\":\"solid\"},\"marker\":{\"symbol\":\"x\"},\"mode\":\"markers+lines\",\"name\":\"Texas, Texas\",\"orientation\":\"v\",\"showlegend\":true,\"x\":[2015,2016,2017,2018,2019],\"xaxis\":\"x\",\"y\":[19.0,51.0,40.0,33.0,72.0],\"yaxis\":\"y\",\"type\":\"scatter\"},{\"hovertemplate\":\"color=U.S. Virgin Islands<br>symbol=U.S. Virgin Islands<br>x=%{x}<br>y=%{y}<extra></extra>\",\"legendgroup\":\"U.S. Virgin Islands, U.S. Virgin Islands\",\"line\":{\"color\":\"#FFA15A\",\"dash\":\"solid\"},\"marker\":{\"symbol\":\"cross\"},\"mode\":\"markers+lines\",\"name\":\"U.S. Virgin Islands, U.S. Virgin Islands\",\"orientation\":\"v\",\"showlegend\":true,\"x\":[2015,2016],\"xaxis\":\"x\",\"y\":[1.0,0.0],\"yaxis\":\"y\",\"type\":\"scatter\"},{\"hovertemplate\":\"color=Utah<br>symbol=Utah<br>x=%{x}<br>y=%{y}<extra></extra>\",\"legendgroup\":\"Utah, Utah\",\"line\":{\"color\":\"#19d3f3\",\"dash\":\"solid\"},\"marker\":{\"symbol\":\"circle\"},\"mode\":\"markers+lines\",\"name\":\"Utah, Utah\",\"orientation\":\"v\",\"showlegend\":true,\"x\":[2015,2016,2017,2018,2019],\"xaxis\":\"x\",\"y\":[2.0,1.0,0.0,1.0,1.0],\"yaxis\":\"y\",\"type\":\"scatter\"},{\"hovertemplate\":\"color=Vermont<br>symbol=Vermont<br>x=%{x}<br>y=%{y}<extra></extra>\",\"legendgroup\":\"Vermont, Vermont\",\"line\":{\"color\":\"#FF6692\",\"dash\":\"solid\"},\"marker\":{\"symbol\":\"diamond\"},\"mode\":\"markers+lines\",\"name\":\"Vermont, Vermont\",\"orientation\":\"v\",\"showlegend\":true,\"x\":[2015,2016,2017,2018,2019],\"xaxis\":\"x\",\"y\":[4.0,2.0,0.0,0.0,2.0],\"yaxis\":\"y\",\"type\":\"scatter\"},{\"hovertemplate\":\"color=Virginia<br>symbol=Virginia<br>x=%{x}<br>y=%{y}<extra></extra>\",\"legendgroup\":\"Virginia, Virginia\",\"line\":{\"color\":\"#B6E880\",\"dash\":\"solid\"},\"marker\":{\"symbol\":\"square\"},\"mode\":\"markers+lines\",\"name\":\"Virginia, Virginia\",\"orientation\":\"v\",\"showlegend\":true,\"x\":[2015,2016,2017,2018,2019],\"xaxis\":\"x\",\"y\":[6.0,10.0,11.0,8.0,15.0],\"yaxis\":\"y\",\"type\":\"scatter\"},{\"hovertemplate\":\"color=Washington<br>symbol=Washington<br>x=%{x}<br>y=%{y}<extra></extra>\",\"legendgroup\":\"Washington, Washington\",\"line\":{\"color\":\"#FF97FF\",\"dash\":\"solid\"},\"marker\":{\"symbol\":\"x\"},\"mode\":\"markers+lines\",\"name\":\"Washington, Washington\",\"orientation\":\"v\",\"showlegend\":true,\"x\":[2015,2016,2017,2018,2019],\"xaxis\":\"x\",\"y\":[3.0,11.0,1.0,2.0,5.0],\"yaxis\":\"y\",\"type\":\"scatter\"},{\"hovertemplate\":\"color=West Virginia<br>symbol=West Virginia<br>x=%{x}<br>y=%{y}<extra></extra>\",\"legendgroup\":\"West Virginia, West Virginia\",\"line\":{\"color\":\"#FECB52\",\"dash\":\"solid\"},\"marker\":{\"symbol\":\"cross\"},\"mode\":\"markers+lines\",\"name\":\"West Virginia, West Virginia\",\"orientation\":\"v\",\"showlegend\":true,\"x\":[2015,2016,2017,2018,2019],\"xaxis\":\"x\",\"y\":[1.0,2.0,4.0,1.0,7.0],\"yaxis\":\"y\",\"type\":\"scatter\"},{\"hovertemplate\":\"color=Wisconsin<br>symbol=Wisconsin<br>x=%{x}<br>y=%{y}<extra></extra>\",\"legendgroup\":\"Wisconsin, Wisconsin\",\"line\":{\"color\":\"#636efa\",\"dash\":\"solid\"},\"marker\":{\"symbol\":\"circle\"},\"mode\":\"markers+lines\",\"name\":\"Wisconsin, Wisconsin\",\"orientation\":\"v\",\"showlegend\":true,\"x\":[2015,2016,2017,2018,2019],\"xaxis\":\"x\",\"y\":[5.0,6.0,4.0,4.0,3.0],\"yaxis\":\"y\",\"type\":\"scatter\"},{\"hovertemplate\":\"color=Wyoming<br>symbol=Wyoming<br>x=%{x}<br>y=%{y}<extra></extra>\",\"legendgroup\":\"Wyoming, Wyoming\",\"line\":{\"color\":\"#EF553B\",\"dash\":\"solid\"},\"marker\":{\"symbol\":\"diamond\"},\"mode\":\"markers+lines\",\"name\":\"Wyoming, Wyoming\",\"orientation\":\"v\",\"showlegend\":true,\"x\":[2015,2016,2017,2018,2019],\"xaxis\":\"x\",\"y\":[0.0,0.0,0.0,0.0,0.0],\"yaxis\":\"y\",\"type\":\"scatter\"},{\"hovertemplate\":\"color=Florida<br>symbol=Florida<br>x=%{x}<br>y=%{y}<extra></extra>\",\"legendgroup\":\"Florida, Florida\",\"line\":{\"color\":\"#00cc96\",\"dash\":\"solid\"},\"marker\":{\"symbol\":\"square\"},\"mode\":\"markers+lines\",\"name\":\"Florida, Florida\",\"orientation\":\"v\",\"showlegend\":true,\"x\":[2019],\"xaxis\":\"x\",\"y\":[0.0],\"yaxis\":\"y\",\"type\":\"scatter\"}],                        {\"template\":{\"data\":{\"histogram2dcontour\":[{\"type\":\"histogram2dcontour\",\"colorbar\":{\"outlinewidth\":0,\"ticks\":\"\"},\"colorscale\":[[0.0,\"#0d0887\"],[0.1111111111111111,\"#46039f\"],[0.2222222222222222,\"#7201a8\"],[0.3333333333333333,\"#9c179e\"],[0.4444444444444444,\"#bd3786\"],[0.5555555555555556,\"#d8576b\"],[0.6666666666666666,\"#ed7953\"],[0.7777777777777778,\"#fb9f3a\"],[0.8888888888888888,\"#fdca26\"],[1.0,\"#f0f921\"]]}],\"choropleth\":[{\"type\":\"choropleth\",\"colorbar\":{\"outlinewidth\":0,\"ticks\":\"\"}}],\"histogram2d\":[{\"type\":\"histogram2d\",\"colorbar\":{\"outlinewidth\":0,\"ticks\":\"\"},\"colorscale\":[[0.0,\"#0d0887\"],[0.1111111111111111,\"#46039f\"],[0.2222222222222222,\"#7201a8\"],[0.3333333333333333,\"#9c179e\"],[0.4444444444444444,\"#bd3786\"],[0.5555555555555556,\"#d8576b\"],[0.6666666666666666,\"#ed7953\"],[0.7777777777777778,\"#fb9f3a\"],[0.8888888888888888,\"#fdca26\"],[1.0,\"#f0f921\"]]}],\"heatmap\":[{\"type\":\"heatmap\",\"colorbar\":{\"outlinewidth\":0,\"ticks\":\"\"},\"colorscale\":[[0.0,\"#0d0887\"],[0.1111111111111111,\"#46039f\"],[0.2222222222222222,\"#7201a8\"],[0.3333333333333333,\"#9c179e\"],[0.4444444444444444,\"#bd3786\"],[0.5555555555555556,\"#d8576b\"],[0.6666666666666666,\"#ed7953\"],[0.7777777777777778,\"#fb9f3a\"],[0.8888888888888888,\"#fdca26\"],[1.0,\"#f0f921\"]]}],\"heatmapgl\":[{\"type\":\"heatmapgl\",\"colorbar\":{\"outlinewidth\":0,\"ticks\":\"\"},\"colorscale\":[[0.0,\"#0d0887\"],[0.1111111111111111,\"#46039f\"],[0.2222222222222222,\"#7201a8\"],[0.3333333333333333,\"#9c179e\"],[0.4444444444444444,\"#bd3786\"],[0.5555555555555556,\"#d8576b\"],[0.6666666666666666,\"#ed7953\"],[0.7777777777777778,\"#fb9f3a\"],[0.8888888888888888,\"#fdca26\"],[1.0,\"#f0f921\"]]}],\"contourcarpet\":[{\"type\":\"contourcarpet\",\"colorbar\":{\"outlinewidth\":0,\"ticks\":\"\"}}],\"contour\":[{\"type\":\"contour\",\"colorbar\":{\"outlinewidth\":0,\"ticks\":\"\"},\"colorscale\":[[0.0,\"#0d0887\"],[0.1111111111111111,\"#46039f\"],[0.2222222222222222,\"#7201a8\"],[0.3333333333333333,\"#9c179e\"],[0.4444444444444444,\"#bd3786\"],[0.5555555555555556,\"#d8576b\"],[0.6666666666666666,\"#ed7953\"],[0.7777777777777778,\"#fb9f3a\"],[0.8888888888888888,\"#fdca26\"],[1.0,\"#f0f921\"]]}],\"surface\":[{\"type\":\"surface\",\"colorbar\":{\"outlinewidth\":0,\"ticks\":\"\"},\"colorscale\":[[0.0,\"#0d0887\"],[0.1111111111111111,\"#46039f\"],[0.2222222222222222,\"#7201a8\"],[0.3333333333333333,\"#9c179e\"],[0.4444444444444444,\"#bd3786\"],[0.5555555555555556,\"#d8576b\"],[0.6666666666666666,\"#ed7953\"],[0.7777777777777778,\"#fb9f3a\"],[0.8888888888888888,\"#fdca26\"],[1.0,\"#f0f921\"]]}],\"mesh3d\":[{\"type\":\"mesh3d\",\"colorbar\":{\"outlinewidth\":0,\"ticks\":\"\"}}],\"scatter\":[{\"fillpattern\":{\"fillmode\":\"overlay\",\"size\":10,\"solidity\":0.2},\"type\":\"scatter\"}],\"parcoords\":[{\"type\":\"parcoords\",\"line\":{\"colorbar\":{\"outlinewidth\":0,\"ticks\":\"\"}}}],\"scatterpolargl\":[{\"type\":\"scatterpolargl\",\"marker\":{\"colorbar\":{\"outlinewidth\":0,\"ticks\":\"\"}}}],\"bar\":[{\"error_x\":{\"color\":\"#2a3f5f\"},\"error_y\":{\"color\":\"#2a3f5f\"},\"marker\":{\"line\":{\"color\":\"#E5ECF6\",\"width\":0.5},\"pattern\":{\"fillmode\":\"overlay\",\"size\":10,\"solidity\":0.2}},\"type\":\"bar\"}],\"scattergeo\":[{\"type\":\"scattergeo\",\"marker\":{\"colorbar\":{\"outlinewidth\":0,\"ticks\":\"\"}}}],\"scatterpolar\":[{\"type\":\"scatterpolar\",\"marker\":{\"colorbar\":{\"outlinewidth\":0,\"ticks\":\"\"}}}],\"histogram\":[{\"marker\":{\"pattern\":{\"fillmode\":\"overlay\",\"size\":10,\"solidity\":0.2}},\"type\":\"histogram\"}],\"scattergl\":[{\"type\":\"scattergl\",\"marker\":{\"colorbar\":{\"outlinewidth\":0,\"ticks\":\"\"}}}],\"scatter3d\":[{\"type\":\"scatter3d\",\"line\":{\"colorbar\":{\"outlinewidth\":0,\"ticks\":\"\"}},\"marker\":{\"colorbar\":{\"outlinewidth\":0,\"ticks\":\"\"}}}],\"scattermapbox\":[{\"type\":\"scattermapbox\",\"marker\":{\"colorbar\":{\"outlinewidth\":0,\"ticks\":\"\"}}}],\"scatterternary\":[{\"type\":\"scatterternary\",\"marker\":{\"colorbar\":{\"outlinewidth\":0,\"ticks\":\"\"}}}],\"scattercarpet\":[{\"type\":\"scattercarpet\",\"marker\":{\"colorbar\":{\"outlinewidth\":0,\"ticks\":\"\"}}}],\"carpet\":[{\"aaxis\":{\"endlinecolor\":\"#2a3f5f\",\"gridcolor\":\"white\",\"linecolor\":\"white\",\"minorgridcolor\":\"white\",\"startlinecolor\":\"#2a3f5f\"},\"baxis\":{\"endlinecolor\":\"#2a3f5f\",\"gridcolor\":\"white\",\"linecolor\":\"white\",\"minorgridcolor\":\"white\",\"startlinecolor\":\"#2a3f5f\"},\"type\":\"carpet\"}],\"table\":[{\"cells\":{\"fill\":{\"color\":\"#EBF0F8\"},\"line\":{\"color\":\"white\"}},\"header\":{\"fill\":{\"color\":\"#C8D4E3\"},\"line\":{\"color\":\"white\"}},\"type\":\"table\"}],\"barpolar\":[{\"marker\":{\"line\":{\"color\":\"#E5ECF6\",\"width\":0.5},\"pattern\":{\"fillmode\":\"overlay\",\"size\":10,\"solidity\":0.2}},\"type\":\"barpolar\"}],\"pie\":[{\"automargin\":true,\"type\":\"pie\"}]},\"layout\":{\"autotypenumbers\":\"strict\",\"colorway\":[\"#636efa\",\"#EF553B\",\"#00cc96\",\"#ab63fa\",\"#FFA15A\",\"#19d3f3\",\"#FF6692\",\"#B6E880\",\"#FF97FF\",\"#FECB52\"],\"font\":{\"color\":\"#2a3f5f\"},\"hovermode\":\"closest\",\"hoverlabel\":{\"align\":\"left\"},\"paper_bgcolor\":\"white\",\"plot_bgcolor\":\"#E5ECF6\",\"polar\":{\"bgcolor\":\"#E5ECF6\",\"angularaxis\":{\"gridcolor\":\"white\",\"linecolor\":\"white\",\"ticks\":\"\"},\"radialaxis\":{\"gridcolor\":\"white\",\"linecolor\":\"white\",\"ticks\":\"\"}},\"ternary\":{\"bgcolor\":\"#E5ECF6\",\"aaxis\":{\"gridcolor\":\"white\",\"linecolor\":\"white\",\"ticks\":\"\"},\"baxis\":{\"gridcolor\":\"white\",\"linecolor\":\"white\",\"ticks\":\"\"},\"caxis\":{\"gridcolor\":\"white\",\"linecolor\":\"white\",\"ticks\":\"\"}},\"coloraxis\":{\"colorbar\":{\"outlinewidth\":0,\"ticks\":\"\"}},\"colorscale\":{\"sequential\":[[0.0,\"#0d0887\"],[0.1111111111111111,\"#46039f\"],[0.2222222222222222,\"#7201a8\"],[0.3333333333333333,\"#9c179e\"],[0.4444444444444444,\"#bd3786\"],[0.5555555555555556,\"#d8576b\"],[0.6666666666666666,\"#ed7953\"],[0.7777777777777778,\"#fb9f3a\"],[0.8888888888888888,\"#fdca26\"],[1.0,\"#f0f921\"]],\"sequentialminus\":[[0.0,\"#0d0887\"],[0.1111111111111111,\"#46039f\"],[0.2222222222222222,\"#7201a8\"],[0.3333333333333333,\"#9c179e\"],[0.4444444444444444,\"#bd3786\"],[0.5555555555555556,\"#d8576b\"],[0.6666666666666666,\"#ed7953\"],[0.7777777777777778,\"#fb9f3a\"],[0.8888888888888888,\"#fdca26\"],[1.0,\"#f0f921\"]],\"diverging\":[[0,\"#8e0152\"],[0.1,\"#c51b7d\"],[0.2,\"#de77ae\"],[0.3,\"#f1b6da\"],[0.4,\"#fde0ef\"],[0.5,\"#f7f7f7\"],[0.6,\"#e6f5d0\"],[0.7,\"#b8e186\"],[0.8,\"#7fbc41\"],[0.9,\"#4d9221\"],[1,\"#276419\"]]},\"xaxis\":{\"gridcolor\":\"white\",\"linecolor\":\"white\",\"ticks\":\"\",\"title\":{\"standoff\":15},\"zerolinecolor\":\"white\",\"automargin\":true,\"zerolinewidth\":2},\"yaxis\":{\"gridcolor\":\"white\",\"linecolor\":\"white\",\"ticks\":\"\",\"title\":{\"standoff\":15},\"zerolinecolor\":\"white\",\"automargin\":true,\"zerolinewidth\":2},\"scene\":{\"xaxis\":{\"backgroundcolor\":\"#E5ECF6\",\"gridcolor\":\"white\",\"linecolor\":\"white\",\"showbackground\":true,\"ticks\":\"\",\"zerolinecolor\":\"white\",\"gridwidth\":2},\"yaxis\":{\"backgroundcolor\":\"#E5ECF6\",\"gridcolor\":\"white\",\"linecolor\":\"white\",\"showbackground\":true,\"ticks\":\"\",\"zerolinecolor\":\"white\",\"gridwidth\":2},\"zaxis\":{\"backgroundcolor\":\"#E5ECF6\",\"gridcolor\":\"white\",\"linecolor\":\"white\",\"showbackground\":true,\"ticks\":\"\",\"zerolinecolor\":\"white\",\"gridwidth\":2}},\"shapedefaults\":{\"line\":{\"color\":\"#2a3f5f\"}},\"annotationdefaults\":{\"arrowcolor\":\"#2a3f5f\",\"arrowhead\":0,\"arrowwidth\":1},\"geo\":{\"bgcolor\":\"white\",\"landcolor\":\"#E5ECF6\",\"subunitcolor\":\"white\",\"showland\":true,\"showlakes\":true,\"lakecolor\":\"white\"},\"title\":{\"x\":0.05},\"mapbox\":{\"style\":\"light\"}}},\"xaxis\":{\"anchor\":\"y\",\"domain\":[0.0,1.0],\"title\":{\"text\":\"Year\"},\"tickangle\":45,\"showgrid\":true},\"yaxis\":{\"anchor\":\"x\",\"domain\":[0.0,1.0],\"title\":{\"text\":\"Firearm related Murders\"}},\"legend\":{\"title\":{\"text\":\"State\"},\"tracegroupgap\":0},\"margin\":{\"t\":60},\"title\":{\"text\":\"ALL Firearm Murders per state per year\"}},                        {\"responsive\": true}                    ).then(function(){\n",
       "                            \n",
       "var gd = document.getElementById('30a6d503-5fcb-44c0-a24d-5ce461a942f1');\n",
       "var x = new MutationObserver(function (mutations, observer) {{\n",
       "        var display = window.getComputedStyle(gd).display;\n",
       "        if (!display || display === 'none') {{\n",
       "            console.log([gd, 'removed!']);\n",
       "            Plotly.purge(gd);\n",
       "            observer.disconnect();\n",
       "        }}\n",
       "}});\n",
       "\n",
       "// Listen for the removal of the full notebook cells\n",
       "var notebookContainer = gd.closest('#notebook-container');\n",
       "if (notebookContainer) {{\n",
       "    x.observe(notebookContainer, {childList: true});\n",
       "}}\n",
       "\n",
       "// Listen for the clearing of the current output cell\n",
       "var outputEl = gd.closest('.output');\n",
       "if (outputEl) {{\n",
       "    x.observe(outputEl, {childList: true});\n",
       "}}\n",
       "\n",
       "                        })                };                });            </script>        </div>"
      ]
     },
     "metadata": {},
     "output_type": "display_data"
    }
   ],
   "source": [
    "Year = [x[0] for x in data_to_display.index]\n",
    "TotalFirearms = data_to_display['Rifles']['mean'].values.tolist()\n",
    "State = [x[1] for x in data_to_display.index]\n",
    "\n",
    "\n",
    "fig = px.line(x=Year,\n",
    "              y=TotalFirearms, \n",
    "              symbol=State,\n",
    "              color=State,\n",
    "              markers=True\n",
    "              )\n",
    "\n",
    "fig.update_layout(title='ALL Firearm Murders per state per year',\n",
    "                  xaxis_title='Year',\n",
    "                  yaxis_title='Firearm related Murders',\n",
    "                  legend_title='State'\n",
    "                  )\n",
    "#fig.update_xaxes(tickvals=Year, tickangle=45)\n",
    "fig.update_xaxes(tickangle=45, showgrid=True)\n",
    "                 \n",
    "fig.show()\n",
    "\n",
    " "
   ]
  },
  {
   "cell_type": "code",
   "execution_count": 18,
   "id": "8a5caa72",
   "metadata": {},
   "outputs": [
    {
     "data": {
      "application/vnd.plotly.v1+json": {
       "config": {
        "plotlyServerURL": "https://plot.ly"
       },
       "data": [
        {
         "hovertemplate": "color=Alabama<br>animation_frame=2015<br>x=%{x}<br>y=%{y}<extra></extra>",
         "ids": [
          "Alabama"
         ],
         "legendgroup": "Alabama",
         "line": {
          "color": "#2E91E5",
          "dash": "solid"
         },
         "marker": {
          "symbol": "circle"
         },
         "mode": "markers+lines",
         "name": "Alabama",
         "orientation": "v",
         "showlegend": true,
         "type": "scatter",
         "x": [
          2015
         ],
         "xaxis": "x",
         "y": [
          3
         ],
         "yaxis": "y"
        },
        {
         "hovertemplate": "color=Alaska<br>animation_frame=2015<br>x=%{x}<br>y=%{y}<extra></extra>",
         "ids": [
          "Alaska"
         ],
         "legendgroup": "Alaska",
         "line": {
          "color": "#E15F99",
          "dash": "solid"
         },
         "marker": {
          "symbol": "circle"
         },
         "mode": "markers+lines",
         "name": "Alaska",
         "orientation": "v",
         "showlegend": true,
         "type": "scatter",
         "x": [
          2015
         ],
         "xaxis": "x",
         "y": [
          39
         ],
         "yaxis": "y"
        },
        {
         "hovertemplate": "color=Arizona<br>animation_frame=2015<br>x=%{x}<br>y=%{y}<extra></extra>",
         "ids": [
          "Arizona"
         ],
         "legendgroup": "Arizona",
         "line": {
          "color": "#1CA71C",
          "dash": "solid"
         },
         "marker": {
          "symbol": "circle"
         },
         "mode": "markers+lines",
         "name": "Arizona",
         "orientation": "v",
         "showlegend": true,
         "type": "scatter",
         "x": [
          2015
         ],
         "xaxis": "x",
         "y": [
          171
         ],
         "yaxis": "y"
        },
        {
         "hovertemplate": "color=Arkansas<br>animation_frame=2015<br>x=%{x}<br>y=%{y}<extra></extra>",
         "ids": [
          "Arkansas"
         ],
         "legendgroup": "Arkansas",
         "line": {
          "color": "#FB0D0D",
          "dash": "solid"
         },
         "marker": {
          "symbol": "circle"
         },
         "mode": "markers+lines",
         "name": "Arkansas",
         "orientation": "v",
         "showlegend": true,
         "type": "scatter",
         "x": [
          2015
         ],
         "xaxis": "x",
         "y": [
          110
         ],
         "yaxis": "y"
        },
        {
         "hovertemplate": "color=California<br>animation_frame=2015<br>x=%{x}<br>y=%{y}<extra></extra>",
         "ids": [
          "California"
         ],
         "legendgroup": "California",
         "line": {
          "color": "#DA16FF",
          "dash": "solid"
         },
         "marker": {
          "symbol": "circle"
         },
         "mode": "markers+lines",
         "name": "California",
         "orientation": "v",
         "showlegend": true,
         "type": "scatter",
         "x": [
          2015
         ],
         "xaxis": "x",
         "y": [
          1275
         ],
         "yaxis": "y"
        },
        {
         "hovertemplate": "color=Colorado<br>animation_frame=2015<br>x=%{x}<br>y=%{y}<extra></extra>",
         "ids": [
          "Colorado"
         ],
         "legendgroup": "Colorado",
         "line": {
          "color": "#222A2A",
          "dash": "solid"
         },
         "marker": {
          "symbol": "circle"
         },
         "mode": "markers+lines",
         "name": "Colorado",
         "orientation": "v",
         "showlegend": true,
         "type": "scatter",
         "x": [
          2015
         ],
         "xaxis": "x",
         "y": [
          115
         ],
         "yaxis": "y"
        },
        {
         "hovertemplate": "color=Connecticut<br>animation_frame=2015<br>x=%{x}<br>y=%{y}<extra></extra>",
         "ids": [
          "Connecticut"
         ],
         "legendgroup": "Connecticut",
         "line": {
          "color": "#B68100",
          "dash": "solid"
         },
         "marker": {
          "symbol": "circle"
         },
         "mode": "markers+lines",
         "name": "Connecticut",
         "orientation": "v",
         "showlegend": true,
         "type": "scatter",
         "x": [
          2015
         ],
         "xaxis": "x",
         "y": [
          73
         ],
         "yaxis": "y"
        },
        {
         "hovertemplate": "color=Delaware<br>animation_frame=2015<br>x=%{x}<br>y=%{y}<extra></extra>",
         "ids": [
          "Delaware"
         ],
         "legendgroup": "Delaware",
         "line": {
          "color": "#750D86",
          "dash": "solid"
         },
         "marker": {
          "symbol": "circle"
         },
         "mode": "markers+lines",
         "name": "Delaware",
         "orientation": "v",
         "showlegend": true,
         "type": "scatter",
         "x": [
          2015
         ],
         "xaxis": "x",
         "y": [
          52
         ],
         "yaxis": "y"
        },
        {
         "hovertemplate": "color=District of Columbia<br>animation_frame=2015<br>x=%{x}<br>y=%{y}<extra></extra>",
         "ids": [
          "District of Columbia"
         ],
         "legendgroup": "District of Columbia",
         "line": {
          "color": "#EB663B",
          "dash": "solid"
         },
         "marker": {
          "symbol": "circle"
         },
         "mode": "markers+lines",
         "name": "District of Columbia",
         "orientation": "v",
         "showlegend": true,
         "type": "scatter",
         "x": [
          2015
         ],
         "xaxis": "x",
         "y": [
          121
         ],
         "yaxis": "y"
        },
        {
         "hovertemplate": "color=Georgia<br>animation_frame=2015<br>x=%{x}<br>y=%{y}<extra></extra>",
         "ids": [
          "Georgia"
         ],
         "legendgroup": "Georgia",
         "line": {
          "color": "#511CFB",
          "dash": "solid"
         },
         "marker": {
          "symbol": "circle"
         },
         "mode": "markers+lines",
         "name": "Georgia",
         "orientation": "v",
         "showlegend": true,
         "type": "scatter",
         "x": [
          2015
         ],
         "xaxis": "x",
         "y": [
          464
         ],
         "yaxis": "y"
        },
        {
         "hovertemplate": "color=Guam<br>animation_frame=2015<br>x=%{x}<br>y=%{y}<extra></extra>",
         "ids": [
          "Guam"
         ],
         "legendgroup": "Guam",
         "line": {
          "color": "#00A08B",
          "dash": "solid"
         },
         "marker": {
          "symbol": "circle"
         },
         "mode": "markers+lines",
         "name": "Guam",
         "orientation": "v",
         "showlegend": true,
         "type": "scatter",
         "x": [
          2015
         ],
         "xaxis": "x",
         "y": [
          3
         ],
         "yaxis": "y"
        },
        {
         "hovertemplate": "color=Hawaii<br>animation_frame=2015<br>x=%{x}<br>y=%{y}<extra></extra>",
         "ids": [
          "Hawaii"
         ],
         "legendgroup": "Hawaii",
         "line": {
          "color": "#FB00D1",
          "dash": "solid"
         },
         "marker": {
          "symbol": "circle"
         },
         "mode": "markers+lines",
         "name": "Hawaii",
         "orientation": "v",
         "showlegend": true,
         "type": "scatter",
         "x": [
          2015
         ],
         "xaxis": "x",
         "y": [
          4
         ],
         "yaxis": "y"
        },
        {
         "hovertemplate": "color=Idaho<br>animation_frame=2015<br>x=%{x}<br>y=%{y}<extra></extra>",
         "ids": [
          "Idaho"
         ],
         "legendgroup": "Idaho",
         "line": {
          "color": "#FC0080",
          "dash": "solid"
         },
         "marker": {
          "symbol": "circle"
         },
         "mode": "markers+lines",
         "name": "Idaho",
         "orientation": "v",
         "showlegend": true,
         "type": "scatter",
         "x": [
          2015
         ],
         "xaxis": "x",
         "y": [
          24
         ],
         "yaxis": "y"
        },
        {
         "hovertemplate": "color=Illinois<br>animation_frame=2015<br>x=%{x}<br>y=%{y}<extra></extra>",
         "ids": [
          "Illinois"
         ],
         "legendgroup": "Illinois",
         "line": {
          "color": "#B2828D",
          "dash": "solid"
         },
         "marker": {
          "symbol": "circle"
         },
         "mode": "markers+lines",
         "name": "Illinois",
         "orientation": "v",
         "showlegend": true,
         "type": "scatter",
         "x": [
          2015
         ],
         "xaxis": "x",
         "y": [
          440
         ],
         "yaxis": "y"
        },
        {
         "hovertemplate": "color=Indiana<br>animation_frame=2015<br>x=%{x}<br>y=%{y}<extra></extra>",
         "ids": [
          "Indiana"
         ],
         "legendgroup": "Indiana",
         "line": {
          "color": "#6C7C32",
          "dash": "solid"
         },
         "marker": {
          "symbol": "circle"
         },
         "mode": "markers+lines",
         "name": "Indiana",
         "orientation": "v",
         "showlegend": true,
         "type": "scatter",
         "x": [
          2015
         ],
         "xaxis": "x",
         "y": [
          209
         ],
         "yaxis": "y"
        },
        {
         "hovertemplate": "color=Iowa<br>animation_frame=2015<br>x=%{x}<br>y=%{y}<extra></extra>",
         "ids": [
          "Iowa"
         ],
         "legendgroup": "Iowa",
         "line": {
          "color": "#778AAE",
          "dash": "solid"
         },
         "marker": {
          "symbol": "circle"
         },
         "mode": "markers+lines",
         "name": "Iowa",
         "orientation": "v",
         "showlegend": true,
         "type": "scatter",
         "x": [
          2015
         ],
         "xaxis": "x",
         "y": [
          49
         ],
         "yaxis": "y"
        },
        {
         "hovertemplate": "color=Kansas<br>animation_frame=2015<br>x=%{x}<br>y=%{y}<extra></extra>",
         "ids": [
          "Kansas"
         ],
         "legendgroup": "Kansas",
         "line": {
          "color": "#862A16",
          "dash": "solid"
         },
         "marker": {
          "symbol": "circle"
         },
         "mode": "markers+lines",
         "name": "Kansas",
         "orientation": "v",
         "showlegend": true,
         "type": "scatter",
         "x": [
          2015
         ],
         "xaxis": "x",
         "y": [
          91
         ],
         "yaxis": "y"
        },
        {
         "hovertemplate": "color=Kentucky<br>animation_frame=2015<br>x=%{x}<br>y=%{y}<extra></extra>",
         "ids": [
          "Kentucky"
         ],
         "legendgroup": "Kentucky",
         "line": {
          "color": "#A777F1",
          "dash": "solid"
         },
         "marker": {
          "symbol": "circle"
         },
         "mode": "markers+lines",
         "name": "Kentucky",
         "orientation": "v",
         "showlegend": true,
         "type": "scatter",
         "x": [
          2015
         ],
         "xaxis": "x",
         "y": [
          141
         ],
         "yaxis": "y"
        },
        {
         "hovertemplate": "color=Louisiana<br>animation_frame=2015<br>x=%{x}<br>y=%{y}<extra></extra>",
         "ids": [
          "Louisiana"
         ],
         "legendgroup": "Louisiana",
         "line": {
          "color": "#620042",
          "dash": "solid"
         },
         "marker": {
          "symbol": "circle"
         },
         "mode": "markers+lines",
         "name": "Louisiana",
         "orientation": "v",
         "showlegend": true,
         "type": "scatter",
         "x": [
          2015
         ],
         "xaxis": "x",
         "y": [
          379
         ],
         "yaxis": "y"
        },
        {
         "hovertemplate": "color=Maine<br>animation_frame=2015<br>x=%{x}<br>y=%{y}<extra></extra>",
         "ids": [
          "Maine"
         ],
         "legendgroup": "Maine",
         "line": {
          "color": "#1616A7",
          "dash": "solid"
         },
         "marker": {
          "symbol": "circle"
         },
         "mode": "markers+lines",
         "name": "Maine",
         "orientation": "v",
         "showlegend": true,
         "type": "scatter",
         "x": [
          2015
         ],
         "xaxis": "x",
         "y": [
          16
         ],
         "yaxis": "y"
        },
        {
         "hovertemplate": "color=Maryland<br>animation_frame=2015<br>x=%{x}<br>y=%{y}<extra></extra>",
         "ids": [
          "Maryland"
         ],
         "legendgroup": "Maryland",
         "line": {
          "color": "#DA60CA",
          "dash": "solid"
         },
         "marker": {
          "symbol": "circle"
         },
         "mode": "markers+lines",
         "name": "Maryland",
         "orientation": "v",
         "showlegend": true,
         "type": "scatter",
         "x": [
          2015
         ],
         "xaxis": "x",
         "y": [
          279
         ],
         "yaxis": "y"
        },
        {
         "hovertemplate": "color=Massachusetts<br>animation_frame=2015<br>x=%{x}<br>y=%{y}<extra></extra>",
         "ids": [
          "Massachusetts"
         ],
         "legendgroup": "Massachusetts",
         "line": {
          "color": "#6C4516",
          "dash": "solid"
         },
         "marker": {
          "symbol": "circle"
         },
         "mode": "markers+lines",
         "name": "Massachusetts",
         "orientation": "v",
         "showlegend": true,
         "type": "scatter",
         "x": [
          2015
         ],
         "xaxis": "x",
         "y": [
          81
         ],
         "yaxis": "y"
        },
        {
         "hovertemplate": "color=Michigan<br>animation_frame=2015<br>x=%{x}<br>y=%{y}<extra></extra>",
         "ids": [
          "Michigan"
         ],
         "legendgroup": "Michigan",
         "line": {
          "color": "#0D2A63",
          "dash": "solid"
         },
         "marker": {
          "symbol": "circle"
         },
         "mode": "markers+lines",
         "name": "Michigan",
         "orientation": "v",
         "showlegend": true,
         "type": "scatter",
         "x": [
          2015
         ],
         "xaxis": "x",
         "y": [
          389
         ],
         "yaxis": "y"
        },
        {
         "hovertemplate": "color=Minnesota<br>animation_frame=2015<br>x=%{x}<br>y=%{y}<extra></extra>",
         "ids": [
          "Minnesota"
         ],
         "legendgroup": "Minnesota",
         "line": {
          "color": "#AF0038",
          "dash": "solid"
         },
         "marker": {
          "symbol": "circle"
         },
         "mode": "markers+lines",
         "name": "Minnesota",
         "orientation": "v",
         "showlegend": true,
         "type": "scatter",
         "x": [
          2015
         ],
         "xaxis": "x",
         "y": [
          79
         ],
         "yaxis": "y"
        },
        {
         "hovertemplate": "color=Mississippi<br>animation_frame=2015<br>x=%{x}<br>y=%{y}<extra></extra>",
         "ids": [
          "Mississippi"
         ],
         "legendgroup": "Mississippi",
         "line": {
          "color": "#2E91E5",
          "dash": "solid"
         },
         "marker": {
          "symbol": "circle"
         },
         "mode": "markers+lines",
         "name": "Mississippi",
         "orientation": "v",
         "showlegend": true,
         "type": "scatter",
         "x": [
          2015
         ],
         "xaxis": "x",
         "y": [
          126
         ],
         "yaxis": "y"
        },
        {
         "hovertemplate": "color=Missouri<br>animation_frame=2015<br>x=%{x}<br>y=%{y}<extra></extra>",
         "ids": [
          "Missouri"
         ],
         "legendgroup": "Missouri",
         "line": {
          "color": "#E15F99",
          "dash": "solid"
         },
         "marker": {
          "symbol": "circle"
         },
         "mode": "markers+lines",
         "name": "Missouri",
         "orientation": "v",
         "showlegend": true,
         "type": "scatter",
         "x": [
          2015
         ],
         "xaxis": "x",
         "y": [
          418
         ],
         "yaxis": "y"
        },
        {
         "hovertemplate": "color=Montana<br>animation_frame=2015<br>x=%{x}<br>y=%{y}<extra></extra>",
         "ids": [
          "Montana"
         ],
         "legendgroup": "Montana",
         "line": {
          "color": "#1CA71C",
          "dash": "solid"
         },
         "marker": {
          "symbol": "circle"
         },
         "mode": "markers+lines",
         "name": "Montana",
         "orientation": "v",
         "showlegend": true,
         "type": "scatter",
         "x": [
          2015
         ],
         "xaxis": "x",
         "y": [
          18
         ],
         "yaxis": "y"
        },
        {
         "hovertemplate": "color=Nebraska<br>animation_frame=2015<br>x=%{x}<br>y=%{y}<extra></extra>",
         "ids": [
          "Nebraska"
         ],
         "legendgroup": "Nebraska",
         "line": {
          "color": "#FB0D0D",
          "dash": "solid"
         },
         "marker": {
          "symbol": "circle"
         },
         "mode": "markers+lines",
         "name": "Nebraska",
         "orientation": "v",
         "showlegend": true,
         "type": "scatter",
         "x": [
          2015
         ],
         "xaxis": "x",
         "y": [
          43
         ],
         "yaxis": "y"
        },
        {
         "hovertemplate": "color=Nevada<br>animation_frame=2015<br>x=%{x}<br>y=%{y}<extra></extra>",
         "ids": [
          "Nevada"
         ],
         "legendgroup": "Nevada",
         "line": {
          "color": "#DA16FF",
          "dash": "solid"
         },
         "marker": {
          "symbol": "circle"
         },
         "mode": "markers+lines",
         "name": "Nevada",
         "orientation": "v",
         "showlegend": true,
         "type": "scatter",
         "x": [
          2015
         ],
         "xaxis": "x",
         "y": [
          113
         ],
         "yaxis": "y"
        },
        {
         "hovertemplate": "color=New Hampshire<br>animation_frame=2015<br>x=%{x}<br>y=%{y}<extra></extra>",
         "ids": [
          "New Hampshire"
         ],
         "legendgroup": "New Hampshire",
         "line": {
          "color": "#222A2A",
          "dash": "solid"
         },
         "marker": {
          "symbol": "circle"
         },
         "mode": "markers+lines",
         "name": "New Hampshire",
         "orientation": "v",
         "showlegend": true,
         "type": "scatter",
         "x": [
          2015
         ],
         "xaxis": "x",
         "y": [
          8
         ],
         "yaxis": "y"
        },
        {
         "hovertemplate": "color=New Jersey<br>animation_frame=2015<br>x=%{x}<br>y=%{y}<extra></extra>",
         "ids": [
          "New Jersey"
         ],
         "legendgroup": "New Jersey",
         "line": {
          "color": "#B68100",
          "dash": "solid"
         },
         "marker": {
          "symbol": "circle"
         },
         "mode": "markers+lines",
         "name": "New Jersey",
         "orientation": "v",
         "showlegend": true,
         "type": "scatter",
         "x": [
          2015
         ],
         "xaxis": "x",
         "y": [
          255
         ],
         "yaxis": "y"
        },
        {
         "hovertemplate": "color=New Mexico<br>animation_frame=2015<br>x=%{x}<br>y=%{y}<extra></extra>",
         "ids": [
          "New Mexico"
         ],
         "legendgroup": "New Mexico",
         "line": {
          "color": "#750D86",
          "dash": "solid"
         },
         "marker": {
          "symbol": "circle"
         },
         "mode": "markers+lines",
         "name": "New Mexico",
         "orientation": "v",
         "showlegend": true,
         "type": "scatter",
         "x": [
          2015
         ],
         "xaxis": "x",
         "y": [
          56
         ],
         "yaxis": "y"
        },
        {
         "hovertemplate": "color=New York<br>animation_frame=2015<br>x=%{x}<br>y=%{y}<extra></extra>",
         "ids": [
          "New York"
         ],
         "legendgroup": "New York",
         "line": {
          "color": "#EB663B",
          "dash": "solid"
         },
         "marker": {
          "symbol": "circle"
         },
         "mode": "markers+lines",
         "name": "New York",
         "orientation": "v",
         "showlegend": true,
         "type": "scatter",
         "x": [
          2015
         ],
         "xaxis": "x",
         "y": [
          383
         ],
         "yaxis": "y"
        },
        {
         "hovertemplate": "color=North Carolina<br>animation_frame=2015<br>x=%{x}<br>y=%{y}<extra></extra>",
         "ids": [
          "North Carolina"
         ],
         "legendgroup": "North Carolina",
         "line": {
          "color": "#511CFB",
          "dash": "solid"
         },
         "marker": {
          "symbol": "circle"
         },
         "mode": "markers+lines",
         "name": "North Carolina",
         "orientation": "v",
         "showlegend": true,
         "type": "scatter",
         "x": [
          2015
         ],
         "xaxis": "x",
         "y": [
          353
         ],
         "yaxis": "y"
        },
        {
         "hovertemplate": "color=North Dakota<br>animation_frame=2015<br>x=%{x}<br>y=%{y}<extra></extra>",
         "ids": [
          "North Dakota"
         ],
         "legendgroup": "North Dakota",
         "line": {
          "color": "#00A08B",
          "dash": "solid"
         },
         "marker": {
          "symbol": "circle"
         },
         "mode": "markers+lines",
         "name": "North Dakota",
         "orientation": "v",
         "showlegend": true,
         "type": "scatter",
         "x": [
          2015
         ],
         "xaxis": "x",
         "y": [
          9
         ],
         "yaxis": "y"
        },
        {
         "hovertemplate": "color=Ohio<br>animation_frame=2015<br>x=%{x}<br>y=%{y}<extra></extra>",
         "ids": [
          "Ohio"
         ],
         "legendgroup": "Ohio",
         "line": {
          "color": "#FB00D1",
          "dash": "solid"
         },
         "marker": {
          "symbol": "circle"
         },
         "mode": "markers+lines",
         "name": "Ohio",
         "orientation": "v",
         "showlegend": true,
         "type": "scatter",
         "x": [
          2015
         ],
         "xaxis": "x",
         "y": [
          316
         ],
         "yaxis": "y"
        },
        {
         "hovertemplate": "color=Oklahoma<br>animation_frame=2015<br>x=%{x}<br>y=%{y}<extra></extra>",
         "ids": [
          "Oklahoma"
         ],
         "legendgroup": "Oklahoma",
         "line": {
          "color": "#FC0080",
          "dash": "solid"
         },
         "marker": {
          "symbol": "circle"
         },
         "mode": "markers+lines",
         "name": "Oklahoma",
         "orientation": "v",
         "showlegend": true,
         "type": "scatter",
         "x": [
          2015
         ],
         "xaxis": "x",
         "y": [
          149
         ],
         "yaxis": "y"
        },
        {
         "hovertemplate": "color=Oregon<br>animation_frame=2015<br>x=%{x}<br>y=%{y}<extra></extra>",
         "ids": [
          "Oregon"
         ],
         "legendgroup": "Oregon",
         "line": {
          "color": "#B2828D",
          "dash": "solid"
         },
         "marker": {
          "symbol": "circle"
         },
         "mode": "markers+lines",
         "name": "Oregon",
         "orientation": "v",
         "showlegend": true,
         "type": "scatter",
         "x": [
          2015
         ],
         "xaxis": "x",
         "y": [
          34
         ],
         "yaxis": "y"
        },
        {
         "hovertemplate": "color=Pennsylvania<br>animation_frame=2015<br>x=%{x}<br>y=%{y}<extra></extra>",
         "ids": [
          "Pennsylvania"
         ],
         "legendgroup": "Pennsylvania",
         "line": {
          "color": "#6C7C32",
          "dash": "solid"
         },
         "marker": {
          "symbol": "circle"
         },
         "mode": "markers+lines",
         "name": "Pennsylvania",
         "orientation": "v",
         "showlegend": true,
         "type": "scatter",
         "x": [
          2015
         ],
         "xaxis": "x",
         "y": [
          497
         ],
         "yaxis": "y"
        },
        {
         "hovertemplate": "color=Rhode Island<br>animation_frame=2015<br>x=%{x}<br>y=%{y}<extra></extra>",
         "ids": [
          "Rhode Island"
         ],
         "legendgroup": "Rhode Island",
         "line": {
          "color": "#778AAE",
          "dash": "solid"
         },
         "marker": {
          "symbol": "circle"
         },
         "mode": "markers+lines",
         "name": "Rhode Island",
         "orientation": "v",
         "showlegend": true,
         "type": "scatter",
         "x": [
          2015
         ],
         "xaxis": "x",
         "y": [
          10
         ],
         "yaxis": "y"
        },
        {
         "hovertemplate": "color=South Carolina<br>animation_frame=2015<br>x=%{x}<br>y=%{y}<extra></extra>",
         "ids": [
          "South Carolina"
         ],
         "legendgroup": "South Carolina",
         "line": {
          "color": "#862A16",
          "dash": "solid"
         },
         "marker": {
          "symbol": "circle"
         },
         "mode": "markers+lines",
         "name": "South Carolina",
         "orientation": "v",
         "showlegend": true,
         "type": "scatter",
         "x": [
          2015
         ],
         "xaxis": "x",
         "y": [
          312
         ],
         "yaxis": "y"
        },
        {
         "hovertemplate": "color=South Dakota<br>animation_frame=2015<br>x=%{x}<br>y=%{y}<extra></extra>",
         "ids": [
          "South Dakota"
         ],
         "legendgroup": "South Dakota",
         "line": {
          "color": "#A777F1",
          "dash": "solid"
         },
         "marker": {
          "symbol": "circle"
         },
         "mode": "markers+lines",
         "name": "South Dakota",
         "orientation": "v",
         "showlegend": true,
         "type": "scatter",
         "x": [
          2015
         ],
         "xaxis": "x",
         "y": [
          12
         ],
         "yaxis": "y"
        },
        {
         "hovertemplate": "color=Tennessee<br>animation_frame=2015<br>x=%{x}<br>y=%{y}<extra></extra>",
         "ids": [
          "Tennessee"
         ],
         "legendgroup": "Tennessee",
         "line": {
          "color": "#620042",
          "dash": "solid"
         },
         "marker": {
          "symbol": "circle"
         },
         "mode": "markers+lines",
         "name": "Tennessee",
         "orientation": "v",
         "showlegend": true,
         "type": "scatter",
         "x": [
          2015
         ],
         "xaxis": "x",
         "y": [
          297
         ],
         "yaxis": "y"
        },
        {
         "hovertemplate": "color=Texas<br>animation_frame=2015<br>x=%{x}<br>y=%{y}<extra></extra>",
         "ids": [
          "Texas"
         ],
         "legendgroup": "Texas",
         "line": {
          "color": "#1616A7",
          "dash": "solid"
         },
         "marker": {
          "symbol": "circle"
         },
         "mode": "markers+lines",
         "name": "Texas",
         "orientation": "v",
         "showlegend": true,
         "type": "scatter",
         "x": [
          2015
         ],
         "xaxis": "x",
         "y": [
          906
         ],
         "yaxis": "y"
        },
        {
         "hovertemplate": "color=U.S. Virgin Islands<br>animation_frame=2015<br>x=%{x}<br>y=%{y}<extra></extra>",
         "ids": [
          "U.S. Virgin Islands"
         ],
         "legendgroup": "U.S. Virgin Islands",
         "line": {
          "color": "#DA60CA",
          "dash": "solid"
         },
         "marker": {
          "symbol": "circle"
         },
         "mode": "markers+lines",
         "name": "U.S. Virgin Islands",
         "orientation": "v",
         "showlegend": true,
         "type": "scatter",
         "x": [
          2015
         ],
         "xaxis": "x",
         "y": [
          26
         ],
         "yaxis": "y"
        },
        {
         "hovertemplate": "color=Utah<br>animation_frame=2015<br>x=%{x}<br>y=%{y}<extra></extra>",
         "ids": [
          "Utah"
         ],
         "legendgroup": "Utah",
         "line": {
          "color": "#6C4516",
          "dash": "solid"
         },
         "marker": {
          "symbol": "circle"
         },
         "mode": "markers+lines",
         "name": "Utah",
         "orientation": "v",
         "showlegend": true,
         "type": "scatter",
         "x": [
          2015
         ],
         "xaxis": "x",
         "y": [
          34
         ],
         "yaxis": "y"
        },
        {
         "hovertemplate": "color=Vermont<br>animation_frame=2015<br>x=%{x}<br>y=%{y}<extra></extra>",
         "ids": [
          "Vermont"
         ],
         "legendgroup": "Vermont",
         "line": {
          "color": "#0D2A63",
          "dash": "solid"
         },
         "marker": {
          "symbol": "circle"
         },
         "mode": "markers+lines",
         "name": "Vermont",
         "orientation": "v",
         "showlegend": true,
         "type": "scatter",
         "x": [
          2015
         ],
         "xaxis": "x",
         "y": [
          8
         ],
         "yaxis": "y"
        },
        {
         "hovertemplate": "color=Virginia<br>animation_frame=2015<br>x=%{x}<br>y=%{y}<extra></extra>",
         "ids": [
          "Virginia"
         ],
         "legendgroup": "Virginia",
         "line": {
          "color": "#AF0038",
          "dash": "solid"
         },
         "marker": {
          "symbol": "circle"
         },
         "mode": "markers+lines",
         "name": "Virginia",
         "orientation": "v",
         "showlegend": true,
         "type": "scatter",
         "x": [
          2015
         ],
         "xaxis": "x",
         "y": [
          275
         ],
         "yaxis": "y"
        },
        {
         "hovertemplate": "color=Washington<br>animation_frame=2015<br>x=%{x}<br>y=%{y}<extra></extra>",
         "ids": [
          "Washington"
         ],
         "legendgroup": "Washington",
         "line": {
          "color": "#2E91E5",
          "dash": "solid"
         },
         "marker": {
          "symbol": "circle"
         },
         "mode": "markers+lines",
         "name": "Washington",
         "orientation": "v",
         "showlegend": true,
         "type": "scatter",
         "x": [
          2015
         ],
         "xaxis": "x",
         "y": [
          141
         ],
         "yaxis": "y"
        },
        {
         "hovertemplate": "color=West Virginia<br>animation_frame=2015<br>x=%{x}<br>y=%{y}<extra></extra>",
         "ids": [
          "West Virginia"
         ],
         "legendgroup": "West Virginia",
         "line": {
          "color": "#E15F99",
          "dash": "solid"
         },
         "marker": {
          "symbol": "circle"
         },
         "mode": "markers+lines",
         "name": "West Virginia",
         "orientation": "v",
         "showlegend": true,
         "type": "scatter",
         "x": [
          2015
         ],
         "xaxis": "x",
         "y": [
          30
         ],
         "yaxis": "y"
        },
        {
         "hovertemplate": "color=Wisconsin<br>animation_frame=2015<br>x=%{x}<br>y=%{y}<extra></extra>",
         "ids": [
          "Wisconsin"
         ],
         "legendgroup": "Wisconsin",
         "line": {
          "color": "#1CA71C",
          "dash": "solid"
         },
         "marker": {
          "symbol": "circle"
         },
         "mode": "markers+lines",
         "name": "Wisconsin",
         "orientation": "v",
         "showlegend": true,
         "type": "scatter",
         "x": [
          2015
         ],
         "xaxis": "x",
         "y": [
          170
         ],
         "yaxis": "y"
        },
        {
         "hovertemplate": "color=Wyoming<br>animation_frame=2015<br>x=%{x}<br>y=%{y}<extra></extra>",
         "ids": [
          "Wyoming"
         ],
         "legendgroup": "Wyoming",
         "line": {
          "color": "#FB0D0D",
          "dash": "solid"
         },
         "marker": {
          "symbol": "circle"
         },
         "mode": "markers+lines",
         "name": "Wyoming",
         "orientation": "v",
         "showlegend": true,
         "type": "scatter",
         "x": [
          2015
         ],
         "xaxis": "x",
         "y": [
          10
         ],
         "yaxis": "y"
        }
       ],
       "frames": [
        {
         "data": [
          {
           "hovertemplate": "color=Alabama<br>animation_frame=2015<br>x=%{x}<br>y=%{y}<extra></extra>",
           "ids": [
            "Alabama"
           ],
           "legendgroup": "Alabama",
           "line": {
            "color": "#2E91E5",
            "dash": "solid"
           },
           "marker": {
            "symbol": "circle"
           },
           "mode": "markers+lines",
           "name": "Alabama",
           "orientation": "v",
           "showlegend": true,
           "type": "scatter",
           "x": [
            2015
           ],
           "xaxis": "x",
           "y": [
            3
           ],
           "yaxis": "y"
          },
          {
           "hovertemplate": "color=Alaska<br>animation_frame=2015<br>x=%{x}<br>y=%{y}<extra></extra>",
           "ids": [
            "Alaska"
           ],
           "legendgroup": "Alaska",
           "line": {
            "color": "#E15F99",
            "dash": "solid"
           },
           "marker": {
            "symbol": "circle"
           },
           "mode": "markers+lines",
           "name": "Alaska",
           "orientation": "v",
           "showlegend": true,
           "type": "scatter",
           "x": [
            2015
           ],
           "xaxis": "x",
           "y": [
            39
           ],
           "yaxis": "y"
          },
          {
           "hovertemplate": "color=Arizona<br>animation_frame=2015<br>x=%{x}<br>y=%{y}<extra></extra>",
           "ids": [
            "Arizona"
           ],
           "legendgroup": "Arizona",
           "line": {
            "color": "#1CA71C",
            "dash": "solid"
           },
           "marker": {
            "symbol": "circle"
           },
           "mode": "markers+lines",
           "name": "Arizona",
           "orientation": "v",
           "showlegend": true,
           "type": "scatter",
           "x": [
            2015
           ],
           "xaxis": "x",
           "y": [
            171
           ],
           "yaxis": "y"
          },
          {
           "hovertemplate": "color=Arkansas<br>animation_frame=2015<br>x=%{x}<br>y=%{y}<extra></extra>",
           "ids": [
            "Arkansas"
           ],
           "legendgroup": "Arkansas",
           "line": {
            "color": "#FB0D0D",
            "dash": "solid"
           },
           "marker": {
            "symbol": "circle"
           },
           "mode": "markers+lines",
           "name": "Arkansas",
           "orientation": "v",
           "showlegend": true,
           "type": "scatter",
           "x": [
            2015
           ],
           "xaxis": "x",
           "y": [
            110
           ],
           "yaxis": "y"
          },
          {
           "hovertemplate": "color=California<br>animation_frame=2015<br>x=%{x}<br>y=%{y}<extra></extra>",
           "ids": [
            "California"
           ],
           "legendgroup": "California",
           "line": {
            "color": "#DA16FF",
            "dash": "solid"
           },
           "marker": {
            "symbol": "circle"
           },
           "mode": "markers+lines",
           "name": "California",
           "orientation": "v",
           "showlegend": true,
           "type": "scatter",
           "x": [
            2015
           ],
           "xaxis": "x",
           "y": [
            1275
           ],
           "yaxis": "y"
          },
          {
           "hovertemplate": "color=Colorado<br>animation_frame=2015<br>x=%{x}<br>y=%{y}<extra></extra>",
           "ids": [
            "Colorado"
           ],
           "legendgroup": "Colorado",
           "line": {
            "color": "#222A2A",
            "dash": "solid"
           },
           "marker": {
            "symbol": "circle"
           },
           "mode": "markers+lines",
           "name": "Colorado",
           "orientation": "v",
           "showlegend": true,
           "type": "scatter",
           "x": [
            2015
           ],
           "xaxis": "x",
           "y": [
            115
           ],
           "yaxis": "y"
          },
          {
           "hovertemplate": "color=Connecticut<br>animation_frame=2015<br>x=%{x}<br>y=%{y}<extra></extra>",
           "ids": [
            "Connecticut"
           ],
           "legendgroup": "Connecticut",
           "line": {
            "color": "#B68100",
            "dash": "solid"
           },
           "marker": {
            "symbol": "circle"
           },
           "mode": "markers+lines",
           "name": "Connecticut",
           "orientation": "v",
           "showlegend": true,
           "type": "scatter",
           "x": [
            2015
           ],
           "xaxis": "x",
           "y": [
            73
           ],
           "yaxis": "y"
          },
          {
           "hovertemplate": "color=Delaware<br>animation_frame=2015<br>x=%{x}<br>y=%{y}<extra></extra>",
           "ids": [
            "Delaware"
           ],
           "legendgroup": "Delaware",
           "line": {
            "color": "#750D86",
            "dash": "solid"
           },
           "marker": {
            "symbol": "circle"
           },
           "mode": "markers+lines",
           "name": "Delaware",
           "orientation": "v",
           "showlegend": true,
           "type": "scatter",
           "x": [
            2015
           ],
           "xaxis": "x",
           "y": [
            52
           ],
           "yaxis": "y"
          },
          {
           "hovertemplate": "color=District of Columbia<br>animation_frame=2015<br>x=%{x}<br>y=%{y}<extra></extra>",
           "ids": [
            "District of Columbia"
           ],
           "legendgroup": "District of Columbia",
           "line": {
            "color": "#EB663B",
            "dash": "solid"
           },
           "marker": {
            "symbol": "circle"
           },
           "mode": "markers+lines",
           "name": "District of Columbia",
           "orientation": "v",
           "showlegend": true,
           "type": "scatter",
           "x": [
            2015
           ],
           "xaxis": "x",
           "y": [
            121
           ],
           "yaxis": "y"
          },
          {
           "hovertemplate": "color=Georgia<br>animation_frame=2015<br>x=%{x}<br>y=%{y}<extra></extra>",
           "ids": [
            "Georgia"
           ],
           "legendgroup": "Georgia",
           "line": {
            "color": "#511CFB",
            "dash": "solid"
           },
           "marker": {
            "symbol": "circle"
           },
           "mode": "markers+lines",
           "name": "Georgia",
           "orientation": "v",
           "showlegend": true,
           "type": "scatter",
           "x": [
            2015
           ],
           "xaxis": "x",
           "y": [
            464
           ],
           "yaxis": "y"
          },
          {
           "hovertemplate": "color=Guam<br>animation_frame=2015<br>x=%{x}<br>y=%{y}<extra></extra>",
           "ids": [
            "Guam"
           ],
           "legendgroup": "Guam",
           "line": {
            "color": "#00A08B",
            "dash": "solid"
           },
           "marker": {
            "symbol": "circle"
           },
           "mode": "markers+lines",
           "name": "Guam",
           "orientation": "v",
           "showlegend": true,
           "type": "scatter",
           "x": [
            2015
           ],
           "xaxis": "x",
           "y": [
            3
           ],
           "yaxis": "y"
          },
          {
           "hovertemplate": "color=Hawaii<br>animation_frame=2015<br>x=%{x}<br>y=%{y}<extra></extra>",
           "ids": [
            "Hawaii"
           ],
           "legendgroup": "Hawaii",
           "line": {
            "color": "#FB00D1",
            "dash": "solid"
           },
           "marker": {
            "symbol": "circle"
           },
           "mode": "markers+lines",
           "name": "Hawaii",
           "orientation": "v",
           "showlegend": true,
           "type": "scatter",
           "x": [
            2015
           ],
           "xaxis": "x",
           "y": [
            4
           ],
           "yaxis": "y"
          },
          {
           "hovertemplate": "color=Idaho<br>animation_frame=2015<br>x=%{x}<br>y=%{y}<extra></extra>",
           "ids": [
            "Idaho"
           ],
           "legendgroup": "Idaho",
           "line": {
            "color": "#FC0080",
            "dash": "solid"
           },
           "marker": {
            "symbol": "circle"
           },
           "mode": "markers+lines",
           "name": "Idaho",
           "orientation": "v",
           "showlegend": true,
           "type": "scatter",
           "x": [
            2015
           ],
           "xaxis": "x",
           "y": [
            24
           ],
           "yaxis": "y"
          },
          {
           "hovertemplate": "color=Illinois<br>animation_frame=2015<br>x=%{x}<br>y=%{y}<extra></extra>",
           "ids": [
            "Illinois"
           ],
           "legendgroup": "Illinois",
           "line": {
            "color": "#B2828D",
            "dash": "solid"
           },
           "marker": {
            "symbol": "circle"
           },
           "mode": "markers+lines",
           "name": "Illinois",
           "orientation": "v",
           "showlegend": true,
           "type": "scatter",
           "x": [
            2015
           ],
           "xaxis": "x",
           "y": [
            440
           ],
           "yaxis": "y"
          },
          {
           "hovertemplate": "color=Indiana<br>animation_frame=2015<br>x=%{x}<br>y=%{y}<extra></extra>",
           "ids": [
            "Indiana"
           ],
           "legendgroup": "Indiana",
           "line": {
            "color": "#6C7C32",
            "dash": "solid"
           },
           "marker": {
            "symbol": "circle"
           },
           "mode": "markers+lines",
           "name": "Indiana",
           "orientation": "v",
           "showlegend": true,
           "type": "scatter",
           "x": [
            2015
           ],
           "xaxis": "x",
           "y": [
            209
           ],
           "yaxis": "y"
          },
          {
           "hovertemplate": "color=Iowa<br>animation_frame=2015<br>x=%{x}<br>y=%{y}<extra></extra>",
           "ids": [
            "Iowa"
           ],
           "legendgroup": "Iowa",
           "line": {
            "color": "#778AAE",
            "dash": "solid"
           },
           "marker": {
            "symbol": "circle"
           },
           "mode": "markers+lines",
           "name": "Iowa",
           "orientation": "v",
           "showlegend": true,
           "type": "scatter",
           "x": [
            2015
           ],
           "xaxis": "x",
           "y": [
            49
           ],
           "yaxis": "y"
          },
          {
           "hovertemplate": "color=Kansas<br>animation_frame=2015<br>x=%{x}<br>y=%{y}<extra></extra>",
           "ids": [
            "Kansas"
           ],
           "legendgroup": "Kansas",
           "line": {
            "color": "#862A16",
            "dash": "solid"
           },
           "marker": {
            "symbol": "circle"
           },
           "mode": "markers+lines",
           "name": "Kansas",
           "orientation": "v",
           "showlegend": true,
           "type": "scatter",
           "x": [
            2015
           ],
           "xaxis": "x",
           "y": [
            91
           ],
           "yaxis": "y"
          },
          {
           "hovertemplate": "color=Kentucky<br>animation_frame=2015<br>x=%{x}<br>y=%{y}<extra></extra>",
           "ids": [
            "Kentucky"
           ],
           "legendgroup": "Kentucky",
           "line": {
            "color": "#A777F1",
            "dash": "solid"
           },
           "marker": {
            "symbol": "circle"
           },
           "mode": "markers+lines",
           "name": "Kentucky",
           "orientation": "v",
           "showlegend": true,
           "type": "scatter",
           "x": [
            2015
           ],
           "xaxis": "x",
           "y": [
            141
           ],
           "yaxis": "y"
          },
          {
           "hovertemplate": "color=Louisiana<br>animation_frame=2015<br>x=%{x}<br>y=%{y}<extra></extra>",
           "ids": [
            "Louisiana"
           ],
           "legendgroup": "Louisiana",
           "line": {
            "color": "#620042",
            "dash": "solid"
           },
           "marker": {
            "symbol": "circle"
           },
           "mode": "markers+lines",
           "name": "Louisiana",
           "orientation": "v",
           "showlegend": true,
           "type": "scatter",
           "x": [
            2015
           ],
           "xaxis": "x",
           "y": [
            379
           ],
           "yaxis": "y"
          },
          {
           "hovertemplate": "color=Maine<br>animation_frame=2015<br>x=%{x}<br>y=%{y}<extra></extra>",
           "ids": [
            "Maine"
           ],
           "legendgroup": "Maine",
           "line": {
            "color": "#1616A7",
            "dash": "solid"
           },
           "marker": {
            "symbol": "circle"
           },
           "mode": "markers+lines",
           "name": "Maine",
           "orientation": "v",
           "showlegend": true,
           "type": "scatter",
           "x": [
            2015
           ],
           "xaxis": "x",
           "y": [
            16
           ],
           "yaxis": "y"
          },
          {
           "hovertemplate": "color=Maryland<br>animation_frame=2015<br>x=%{x}<br>y=%{y}<extra></extra>",
           "ids": [
            "Maryland"
           ],
           "legendgroup": "Maryland",
           "line": {
            "color": "#DA60CA",
            "dash": "solid"
           },
           "marker": {
            "symbol": "circle"
           },
           "mode": "markers+lines",
           "name": "Maryland",
           "orientation": "v",
           "showlegend": true,
           "type": "scatter",
           "x": [
            2015
           ],
           "xaxis": "x",
           "y": [
            279
           ],
           "yaxis": "y"
          },
          {
           "hovertemplate": "color=Massachusetts<br>animation_frame=2015<br>x=%{x}<br>y=%{y}<extra></extra>",
           "ids": [
            "Massachusetts"
           ],
           "legendgroup": "Massachusetts",
           "line": {
            "color": "#6C4516",
            "dash": "solid"
           },
           "marker": {
            "symbol": "circle"
           },
           "mode": "markers+lines",
           "name": "Massachusetts",
           "orientation": "v",
           "showlegend": true,
           "type": "scatter",
           "x": [
            2015
           ],
           "xaxis": "x",
           "y": [
            81
           ],
           "yaxis": "y"
          },
          {
           "hovertemplate": "color=Michigan<br>animation_frame=2015<br>x=%{x}<br>y=%{y}<extra></extra>",
           "ids": [
            "Michigan"
           ],
           "legendgroup": "Michigan",
           "line": {
            "color": "#0D2A63",
            "dash": "solid"
           },
           "marker": {
            "symbol": "circle"
           },
           "mode": "markers+lines",
           "name": "Michigan",
           "orientation": "v",
           "showlegend": true,
           "type": "scatter",
           "x": [
            2015
           ],
           "xaxis": "x",
           "y": [
            389
           ],
           "yaxis": "y"
          },
          {
           "hovertemplate": "color=Minnesota<br>animation_frame=2015<br>x=%{x}<br>y=%{y}<extra></extra>",
           "ids": [
            "Minnesota"
           ],
           "legendgroup": "Minnesota",
           "line": {
            "color": "#AF0038",
            "dash": "solid"
           },
           "marker": {
            "symbol": "circle"
           },
           "mode": "markers+lines",
           "name": "Minnesota",
           "orientation": "v",
           "showlegend": true,
           "type": "scatter",
           "x": [
            2015
           ],
           "xaxis": "x",
           "y": [
            79
           ],
           "yaxis": "y"
          },
          {
           "hovertemplate": "color=Mississippi<br>animation_frame=2015<br>x=%{x}<br>y=%{y}<extra></extra>",
           "ids": [
            "Mississippi"
           ],
           "legendgroup": "Mississippi",
           "line": {
            "color": "#2E91E5",
            "dash": "solid"
           },
           "marker": {
            "symbol": "circle"
           },
           "mode": "markers+lines",
           "name": "Mississippi",
           "orientation": "v",
           "showlegend": true,
           "type": "scatter",
           "x": [
            2015
           ],
           "xaxis": "x",
           "y": [
            126
           ],
           "yaxis": "y"
          },
          {
           "hovertemplate": "color=Missouri<br>animation_frame=2015<br>x=%{x}<br>y=%{y}<extra></extra>",
           "ids": [
            "Missouri"
           ],
           "legendgroup": "Missouri",
           "line": {
            "color": "#E15F99",
            "dash": "solid"
           },
           "marker": {
            "symbol": "circle"
           },
           "mode": "markers+lines",
           "name": "Missouri",
           "orientation": "v",
           "showlegend": true,
           "type": "scatter",
           "x": [
            2015
           ],
           "xaxis": "x",
           "y": [
            418
           ],
           "yaxis": "y"
          },
          {
           "hovertemplate": "color=Montana<br>animation_frame=2015<br>x=%{x}<br>y=%{y}<extra></extra>",
           "ids": [
            "Montana"
           ],
           "legendgroup": "Montana",
           "line": {
            "color": "#1CA71C",
            "dash": "solid"
           },
           "marker": {
            "symbol": "circle"
           },
           "mode": "markers+lines",
           "name": "Montana",
           "orientation": "v",
           "showlegend": true,
           "type": "scatter",
           "x": [
            2015
           ],
           "xaxis": "x",
           "y": [
            18
           ],
           "yaxis": "y"
          },
          {
           "hovertemplate": "color=Nebraska<br>animation_frame=2015<br>x=%{x}<br>y=%{y}<extra></extra>",
           "ids": [
            "Nebraska"
           ],
           "legendgroup": "Nebraska",
           "line": {
            "color": "#FB0D0D",
            "dash": "solid"
           },
           "marker": {
            "symbol": "circle"
           },
           "mode": "markers+lines",
           "name": "Nebraska",
           "orientation": "v",
           "showlegend": true,
           "type": "scatter",
           "x": [
            2015
           ],
           "xaxis": "x",
           "y": [
            43
           ],
           "yaxis": "y"
          },
          {
           "hovertemplate": "color=Nevada<br>animation_frame=2015<br>x=%{x}<br>y=%{y}<extra></extra>",
           "ids": [
            "Nevada"
           ],
           "legendgroup": "Nevada",
           "line": {
            "color": "#DA16FF",
            "dash": "solid"
           },
           "marker": {
            "symbol": "circle"
           },
           "mode": "markers+lines",
           "name": "Nevada",
           "orientation": "v",
           "showlegend": true,
           "type": "scatter",
           "x": [
            2015
           ],
           "xaxis": "x",
           "y": [
            113
           ],
           "yaxis": "y"
          },
          {
           "hovertemplate": "color=New Hampshire<br>animation_frame=2015<br>x=%{x}<br>y=%{y}<extra></extra>",
           "ids": [
            "New Hampshire"
           ],
           "legendgroup": "New Hampshire",
           "line": {
            "color": "#222A2A",
            "dash": "solid"
           },
           "marker": {
            "symbol": "circle"
           },
           "mode": "markers+lines",
           "name": "New Hampshire",
           "orientation": "v",
           "showlegend": true,
           "type": "scatter",
           "x": [
            2015
           ],
           "xaxis": "x",
           "y": [
            8
           ],
           "yaxis": "y"
          },
          {
           "hovertemplate": "color=New Jersey<br>animation_frame=2015<br>x=%{x}<br>y=%{y}<extra></extra>",
           "ids": [
            "New Jersey"
           ],
           "legendgroup": "New Jersey",
           "line": {
            "color": "#B68100",
            "dash": "solid"
           },
           "marker": {
            "symbol": "circle"
           },
           "mode": "markers+lines",
           "name": "New Jersey",
           "orientation": "v",
           "showlegend": true,
           "type": "scatter",
           "x": [
            2015
           ],
           "xaxis": "x",
           "y": [
            255
           ],
           "yaxis": "y"
          },
          {
           "hovertemplate": "color=New Mexico<br>animation_frame=2015<br>x=%{x}<br>y=%{y}<extra></extra>",
           "ids": [
            "New Mexico"
           ],
           "legendgroup": "New Mexico",
           "line": {
            "color": "#750D86",
            "dash": "solid"
           },
           "marker": {
            "symbol": "circle"
           },
           "mode": "markers+lines",
           "name": "New Mexico",
           "orientation": "v",
           "showlegend": true,
           "type": "scatter",
           "x": [
            2015
           ],
           "xaxis": "x",
           "y": [
            56
           ],
           "yaxis": "y"
          },
          {
           "hovertemplate": "color=New York<br>animation_frame=2015<br>x=%{x}<br>y=%{y}<extra></extra>",
           "ids": [
            "New York"
           ],
           "legendgroup": "New York",
           "line": {
            "color": "#EB663B",
            "dash": "solid"
           },
           "marker": {
            "symbol": "circle"
           },
           "mode": "markers+lines",
           "name": "New York",
           "orientation": "v",
           "showlegend": true,
           "type": "scatter",
           "x": [
            2015
           ],
           "xaxis": "x",
           "y": [
            383
           ],
           "yaxis": "y"
          },
          {
           "hovertemplate": "color=North Carolina<br>animation_frame=2015<br>x=%{x}<br>y=%{y}<extra></extra>",
           "ids": [
            "North Carolina"
           ],
           "legendgroup": "North Carolina",
           "line": {
            "color": "#511CFB",
            "dash": "solid"
           },
           "marker": {
            "symbol": "circle"
           },
           "mode": "markers+lines",
           "name": "North Carolina",
           "orientation": "v",
           "showlegend": true,
           "type": "scatter",
           "x": [
            2015
           ],
           "xaxis": "x",
           "y": [
            353
           ],
           "yaxis": "y"
          },
          {
           "hovertemplate": "color=North Dakota<br>animation_frame=2015<br>x=%{x}<br>y=%{y}<extra></extra>",
           "ids": [
            "North Dakota"
           ],
           "legendgroup": "North Dakota",
           "line": {
            "color": "#00A08B",
            "dash": "solid"
           },
           "marker": {
            "symbol": "circle"
           },
           "mode": "markers+lines",
           "name": "North Dakota",
           "orientation": "v",
           "showlegend": true,
           "type": "scatter",
           "x": [
            2015
           ],
           "xaxis": "x",
           "y": [
            9
           ],
           "yaxis": "y"
          },
          {
           "hovertemplate": "color=Ohio<br>animation_frame=2015<br>x=%{x}<br>y=%{y}<extra></extra>",
           "ids": [
            "Ohio"
           ],
           "legendgroup": "Ohio",
           "line": {
            "color": "#FB00D1",
            "dash": "solid"
           },
           "marker": {
            "symbol": "circle"
           },
           "mode": "markers+lines",
           "name": "Ohio",
           "orientation": "v",
           "showlegend": true,
           "type": "scatter",
           "x": [
            2015
           ],
           "xaxis": "x",
           "y": [
            316
           ],
           "yaxis": "y"
          },
          {
           "hovertemplate": "color=Oklahoma<br>animation_frame=2015<br>x=%{x}<br>y=%{y}<extra></extra>",
           "ids": [
            "Oklahoma"
           ],
           "legendgroup": "Oklahoma",
           "line": {
            "color": "#FC0080",
            "dash": "solid"
           },
           "marker": {
            "symbol": "circle"
           },
           "mode": "markers+lines",
           "name": "Oklahoma",
           "orientation": "v",
           "showlegend": true,
           "type": "scatter",
           "x": [
            2015
           ],
           "xaxis": "x",
           "y": [
            149
           ],
           "yaxis": "y"
          },
          {
           "hovertemplate": "color=Oregon<br>animation_frame=2015<br>x=%{x}<br>y=%{y}<extra></extra>",
           "ids": [
            "Oregon"
           ],
           "legendgroup": "Oregon",
           "line": {
            "color": "#B2828D",
            "dash": "solid"
           },
           "marker": {
            "symbol": "circle"
           },
           "mode": "markers+lines",
           "name": "Oregon",
           "orientation": "v",
           "showlegend": true,
           "type": "scatter",
           "x": [
            2015
           ],
           "xaxis": "x",
           "y": [
            34
           ],
           "yaxis": "y"
          },
          {
           "hovertemplate": "color=Pennsylvania<br>animation_frame=2015<br>x=%{x}<br>y=%{y}<extra></extra>",
           "ids": [
            "Pennsylvania"
           ],
           "legendgroup": "Pennsylvania",
           "line": {
            "color": "#6C7C32",
            "dash": "solid"
           },
           "marker": {
            "symbol": "circle"
           },
           "mode": "markers+lines",
           "name": "Pennsylvania",
           "orientation": "v",
           "showlegend": true,
           "type": "scatter",
           "x": [
            2015
           ],
           "xaxis": "x",
           "y": [
            497
           ],
           "yaxis": "y"
          },
          {
           "hovertemplate": "color=Rhode Island<br>animation_frame=2015<br>x=%{x}<br>y=%{y}<extra></extra>",
           "ids": [
            "Rhode Island"
           ],
           "legendgroup": "Rhode Island",
           "line": {
            "color": "#778AAE",
            "dash": "solid"
           },
           "marker": {
            "symbol": "circle"
           },
           "mode": "markers+lines",
           "name": "Rhode Island",
           "orientation": "v",
           "showlegend": true,
           "type": "scatter",
           "x": [
            2015
           ],
           "xaxis": "x",
           "y": [
            10
           ],
           "yaxis": "y"
          },
          {
           "hovertemplate": "color=South Carolina<br>animation_frame=2015<br>x=%{x}<br>y=%{y}<extra></extra>",
           "ids": [
            "South Carolina"
           ],
           "legendgroup": "South Carolina",
           "line": {
            "color": "#862A16",
            "dash": "solid"
           },
           "marker": {
            "symbol": "circle"
           },
           "mode": "markers+lines",
           "name": "South Carolina",
           "orientation": "v",
           "showlegend": true,
           "type": "scatter",
           "x": [
            2015
           ],
           "xaxis": "x",
           "y": [
            312
           ],
           "yaxis": "y"
          },
          {
           "hovertemplate": "color=South Dakota<br>animation_frame=2015<br>x=%{x}<br>y=%{y}<extra></extra>",
           "ids": [
            "South Dakota"
           ],
           "legendgroup": "South Dakota",
           "line": {
            "color": "#A777F1",
            "dash": "solid"
           },
           "marker": {
            "symbol": "circle"
           },
           "mode": "markers+lines",
           "name": "South Dakota",
           "orientation": "v",
           "showlegend": true,
           "type": "scatter",
           "x": [
            2015
           ],
           "xaxis": "x",
           "y": [
            12
           ],
           "yaxis": "y"
          },
          {
           "hovertemplate": "color=Tennessee<br>animation_frame=2015<br>x=%{x}<br>y=%{y}<extra></extra>",
           "ids": [
            "Tennessee"
           ],
           "legendgroup": "Tennessee",
           "line": {
            "color": "#620042",
            "dash": "solid"
           },
           "marker": {
            "symbol": "circle"
           },
           "mode": "markers+lines",
           "name": "Tennessee",
           "orientation": "v",
           "showlegend": true,
           "type": "scatter",
           "x": [
            2015
           ],
           "xaxis": "x",
           "y": [
            297
           ],
           "yaxis": "y"
          },
          {
           "hovertemplate": "color=Texas<br>animation_frame=2015<br>x=%{x}<br>y=%{y}<extra></extra>",
           "ids": [
            "Texas"
           ],
           "legendgroup": "Texas",
           "line": {
            "color": "#1616A7",
            "dash": "solid"
           },
           "marker": {
            "symbol": "circle"
           },
           "mode": "markers+lines",
           "name": "Texas",
           "orientation": "v",
           "showlegend": true,
           "type": "scatter",
           "x": [
            2015
           ],
           "xaxis": "x",
           "y": [
            906
           ],
           "yaxis": "y"
          },
          {
           "hovertemplate": "color=U.S. Virgin Islands<br>animation_frame=2015<br>x=%{x}<br>y=%{y}<extra></extra>",
           "ids": [
            "U.S. Virgin Islands"
           ],
           "legendgroup": "U.S. Virgin Islands",
           "line": {
            "color": "#DA60CA",
            "dash": "solid"
           },
           "marker": {
            "symbol": "circle"
           },
           "mode": "markers+lines",
           "name": "U.S. Virgin Islands",
           "orientation": "v",
           "showlegend": true,
           "type": "scatter",
           "x": [
            2015
           ],
           "xaxis": "x",
           "y": [
            26
           ],
           "yaxis": "y"
          },
          {
           "hovertemplate": "color=Utah<br>animation_frame=2015<br>x=%{x}<br>y=%{y}<extra></extra>",
           "ids": [
            "Utah"
           ],
           "legendgroup": "Utah",
           "line": {
            "color": "#6C4516",
            "dash": "solid"
           },
           "marker": {
            "symbol": "circle"
           },
           "mode": "markers+lines",
           "name": "Utah",
           "orientation": "v",
           "showlegend": true,
           "type": "scatter",
           "x": [
            2015
           ],
           "xaxis": "x",
           "y": [
            34
           ],
           "yaxis": "y"
          },
          {
           "hovertemplate": "color=Vermont<br>animation_frame=2015<br>x=%{x}<br>y=%{y}<extra></extra>",
           "ids": [
            "Vermont"
           ],
           "legendgroup": "Vermont",
           "line": {
            "color": "#0D2A63",
            "dash": "solid"
           },
           "marker": {
            "symbol": "circle"
           },
           "mode": "markers+lines",
           "name": "Vermont",
           "orientation": "v",
           "showlegend": true,
           "type": "scatter",
           "x": [
            2015
           ],
           "xaxis": "x",
           "y": [
            8
           ],
           "yaxis": "y"
          },
          {
           "hovertemplate": "color=Virginia<br>animation_frame=2015<br>x=%{x}<br>y=%{y}<extra></extra>",
           "ids": [
            "Virginia"
           ],
           "legendgroup": "Virginia",
           "line": {
            "color": "#AF0038",
            "dash": "solid"
           },
           "marker": {
            "symbol": "circle"
           },
           "mode": "markers+lines",
           "name": "Virginia",
           "orientation": "v",
           "showlegend": true,
           "type": "scatter",
           "x": [
            2015
           ],
           "xaxis": "x",
           "y": [
            275
           ],
           "yaxis": "y"
          },
          {
           "hovertemplate": "color=Washington<br>animation_frame=2015<br>x=%{x}<br>y=%{y}<extra></extra>",
           "ids": [
            "Washington"
           ],
           "legendgroup": "Washington",
           "line": {
            "color": "#2E91E5",
            "dash": "solid"
           },
           "marker": {
            "symbol": "circle"
           },
           "mode": "markers+lines",
           "name": "Washington",
           "orientation": "v",
           "showlegend": true,
           "type": "scatter",
           "x": [
            2015
           ],
           "xaxis": "x",
           "y": [
            141
           ],
           "yaxis": "y"
          },
          {
           "hovertemplate": "color=West Virginia<br>animation_frame=2015<br>x=%{x}<br>y=%{y}<extra></extra>",
           "ids": [
            "West Virginia"
           ],
           "legendgroup": "West Virginia",
           "line": {
            "color": "#E15F99",
            "dash": "solid"
           },
           "marker": {
            "symbol": "circle"
           },
           "mode": "markers+lines",
           "name": "West Virginia",
           "orientation": "v",
           "showlegend": true,
           "type": "scatter",
           "x": [
            2015
           ],
           "xaxis": "x",
           "y": [
            30
           ],
           "yaxis": "y"
          },
          {
           "hovertemplate": "color=Wisconsin<br>animation_frame=2015<br>x=%{x}<br>y=%{y}<extra></extra>",
           "ids": [
            "Wisconsin"
           ],
           "legendgroup": "Wisconsin",
           "line": {
            "color": "#1CA71C",
            "dash": "solid"
           },
           "marker": {
            "symbol": "circle"
           },
           "mode": "markers+lines",
           "name": "Wisconsin",
           "orientation": "v",
           "showlegend": true,
           "type": "scatter",
           "x": [
            2015
           ],
           "xaxis": "x",
           "y": [
            170
           ],
           "yaxis": "y"
          },
          {
           "hovertemplate": "color=Wyoming<br>animation_frame=2015<br>x=%{x}<br>y=%{y}<extra></extra>",
           "ids": [
            "Wyoming"
           ],
           "legendgroup": "Wyoming",
           "line": {
            "color": "#FB0D0D",
            "dash": "solid"
           },
           "marker": {
            "symbol": "circle"
           },
           "mode": "markers+lines",
           "name": "Wyoming",
           "orientation": "v",
           "showlegend": true,
           "type": "scatter",
           "x": [
            2015
           ],
           "xaxis": "x",
           "y": [
            10
           ],
           "yaxis": "y"
          }
         ],
         "name": "2015"
        },
        {
         "data": [
          {
           "hovertemplate": "color=Alabama<br>animation_frame=2016<br>x=%{x}<br>y=%{y}<extra></extra>",
           "ids": [
            "Alabama"
           ],
           "legendgroup": "Alabama",
           "line": {
            "color": "#2E91E5",
            "dash": "solid"
           },
           "marker": {
            "symbol": "circle"
           },
           "mode": "markers+lines",
           "name": "Alabama",
           "orientation": "v",
           "showlegend": true,
           "type": "scatter",
           "x": [
            2016
           ],
           "xaxis": "x",
           "y": [
            1
           ],
           "yaxis": "y"
          },
          {
           "hovertemplate": "color=Alaska<br>animation_frame=2016<br>x=%{x}<br>y=%{y}<extra></extra>",
           "ids": [
            "Alaska"
           ],
           "legendgroup": "Alaska",
           "line": {
            "color": "#E15F99",
            "dash": "solid"
           },
           "marker": {
            "symbol": "circle"
           },
           "mode": "markers+lines",
           "name": "Alaska",
           "orientation": "v",
           "showlegend": true,
           "type": "scatter",
           "x": [
            2016
           ],
           "xaxis": "x",
           "y": [
            43
           ],
           "yaxis": "y"
          },
          {
           "hovertemplate": "color=Arizona<br>animation_frame=2016<br>x=%{x}<br>y=%{y}<extra></extra>",
           "ids": [
            "Arizona"
           ],
           "legendgroup": "Arizona",
           "line": {
            "color": "#1CA71C",
            "dash": "solid"
           },
           "marker": {
            "symbol": "circle"
           },
           "mode": "markers+lines",
           "name": "Arizona",
           "orientation": "v",
           "showlegend": true,
           "type": "scatter",
           "x": [
            2016
           ],
           "xaxis": "x",
           "y": [
            227
           ],
           "yaxis": "y"
          },
          {
           "hovertemplate": "color=Arkansas<br>animation_frame=2016<br>x=%{x}<br>y=%{y}<extra></extra>",
           "ids": [
            "Arkansas"
           ],
           "legendgroup": "Arkansas",
           "line": {
            "color": "#FB0D0D",
            "dash": "solid"
           },
           "marker": {
            "symbol": "circle"
           },
           "mode": "markers+lines",
           "name": "Arkansas",
           "orientation": "v",
           "showlegend": true,
           "type": "scatter",
           "x": [
            2016
           ],
           "xaxis": "x",
           "y": [
            151
           ],
           "yaxis": "y"
          },
          {
           "hovertemplate": "color=California<br>animation_frame=2016<br>x=%{x}<br>y=%{y}<extra></extra>",
           "ids": [
            "California"
           ],
           "legendgroup": "California",
           "line": {
            "color": "#DA16FF",
            "dash": "solid"
           },
           "marker": {
            "symbol": "circle"
           },
           "mode": "markers+lines",
           "name": "California",
           "orientation": "v",
           "showlegend": true,
           "type": "scatter",
           "x": [
            2016
           ],
           "xaxis": "x",
           "y": [
            1368
           ],
           "yaxis": "y"
          },
          {
           "hovertemplate": "color=Colorado<br>animation_frame=2016<br>x=%{x}<br>y=%{y}<extra></extra>",
           "ids": [
            "Colorado"
           ],
           "legendgroup": "Colorado",
           "line": {
            "color": "#222A2A",
            "dash": "solid"
           },
           "marker": {
            "symbol": "circle"
           },
           "mode": "markers+lines",
           "name": "Colorado",
           "orientation": "v",
           "showlegend": true,
           "type": "scatter",
           "x": [
            2016
           ],
           "xaxis": "x",
           "y": [
            136
           ],
           "yaxis": "y"
          },
          {
           "hovertemplate": "color=Connecticut<br>animation_frame=2016<br>x=%{x}<br>y=%{y}<extra></extra>",
           "ids": [
            "Connecticut"
           ],
           "legendgroup": "Connecticut",
           "line": {
            "color": "#B68100",
            "dash": "solid"
           },
           "marker": {
            "symbol": "circle"
           },
           "mode": "markers+lines",
           "name": "Connecticut",
           "orientation": "v",
           "showlegend": true,
           "type": "scatter",
           "x": [
            2016
           ],
           "xaxis": "x",
           "y": [
            48
           ],
           "yaxis": "y"
          },
          {
           "hovertemplate": "color=Delaware<br>animation_frame=2016<br>x=%{x}<br>y=%{y}<extra></extra>",
           "ids": [
            "Delaware"
           ],
           "legendgroup": "Delaware",
           "line": {
            "color": "#750D86",
            "dash": "solid"
           },
           "marker": {
            "symbol": "circle"
           },
           "mode": "markers+lines",
           "name": "Delaware",
           "orientation": "v",
           "showlegend": true,
           "type": "scatter",
           "x": [
            2016
           ],
           "xaxis": "x",
           "y": [
            41
           ],
           "yaxis": "y"
          },
          {
           "hovertemplate": "color=District of Columbia<br>animation_frame=2016<br>x=%{x}<br>y=%{y}<extra></extra>",
           "ids": [
            "District of Columbia"
           ],
           "legendgroup": "District of Columbia",
           "line": {
            "color": "#EB663B",
            "dash": "solid"
           },
           "marker": {
            "symbol": "circle"
           },
           "mode": "markers+lines",
           "name": "District of Columbia",
           "orientation": "v",
           "showlegend": true,
           "type": "scatter",
           "x": [
            2016
           ],
           "xaxis": "x",
           "y": [
            105
           ],
           "yaxis": "y"
          },
          {
           "hovertemplate": "color=Georgia<br>animation_frame=2016<br>x=%{x}<br>y=%{y}<extra></extra>",
           "ids": [
            "Georgia"
           ],
           "legendgroup": "Georgia",
           "line": {
            "color": "#511CFB",
            "dash": "solid"
           },
           "marker": {
            "symbol": "circle"
           },
           "mode": "markers+lines",
           "name": "Georgia",
           "orientation": "v",
           "showlegend": true,
           "type": "scatter",
           "x": [
            2016
           ],
           "xaxis": "x",
           "y": [
            522
           ],
           "yaxis": "y"
          },
          {
           "hovertemplate": "color=Hawaii<br>animation_frame=2016<br>x=%{x}<br>y=%{y}<extra></extra>",
           "ids": [
            "Hawaii"
           ],
           "legendgroup": "Hawaii",
           "line": {
            "color": "#FB00D1",
            "dash": "solid"
           },
           "marker": {
            "symbol": "circle"
           },
           "mode": "markers+lines",
           "name": "Hawaii",
           "orientation": "v",
           "showlegend": true,
           "type": "scatter",
           "x": [
            2016
           ],
           "xaxis": "x",
           "y": [
            19
           ],
           "yaxis": "y"
          },
          {
           "hovertemplate": "color=Idaho<br>animation_frame=2016<br>x=%{x}<br>y=%{y}<extra></extra>",
           "ids": [
            "Idaho"
           ],
           "legendgroup": "Idaho",
           "line": {
            "color": "#FC0080",
            "dash": "solid"
           },
           "marker": {
            "symbol": "circle"
           },
           "mode": "markers+lines",
           "name": "Idaho",
           "orientation": "v",
           "showlegend": true,
           "type": "scatter",
           "x": [
            2016
           ],
           "xaxis": "x",
           "y": [
            17
           ],
           "yaxis": "y"
          },
          {
           "hovertemplate": "color=Illinois<br>animation_frame=2016<br>x=%{x}<br>y=%{y}<extra></extra>",
           "ids": [
            "Illinois"
           ],
           "legendgroup": "Illinois",
           "line": {
            "color": "#B2828D",
            "dash": "solid"
           },
           "marker": {
            "symbol": "circle"
           },
           "mode": "markers+lines",
           "name": "Illinois",
           "orientation": "v",
           "showlegend": true,
           "type": "scatter",
           "x": [
            2016
           ],
           "xaxis": "x",
           "y": [
            799
           ],
           "yaxis": "y"
          },
          {
           "hovertemplate": "color=Indiana<br>animation_frame=2016<br>x=%{x}<br>y=%{y}<extra></extra>",
           "ids": [
            "Indiana"
           ],
           "legendgroup": "Indiana",
           "line": {
            "color": "#6C7C32",
            "dash": "solid"
           },
           "marker": {
            "symbol": "circle"
           },
           "mode": "markers+lines",
           "name": "Indiana",
           "orientation": "v",
           "showlegend": true,
           "type": "scatter",
           "x": [
            2016
           ],
           "xaxis": "x",
           "y": [
            287
           ],
           "yaxis": "y"
          },
          {
           "hovertemplate": "color=Iowa<br>animation_frame=2016<br>x=%{x}<br>y=%{y}<extra></extra>",
           "ids": [
            "Iowa"
           ],
           "legendgroup": "Iowa",
           "line": {
            "color": "#778AAE",
            "dash": "solid"
           },
           "marker": {
            "symbol": "circle"
           },
           "mode": "markers+lines",
           "name": "Iowa",
           "orientation": "v",
           "showlegend": true,
           "type": "scatter",
           "x": [
            2016
           ],
           "xaxis": "x",
           "y": [
            43
           ],
           "yaxis": "y"
          },
          {
           "hovertemplate": "color=Kansas<br>animation_frame=2016<br>x=%{x}<br>y=%{y}<extra></extra>",
           "ids": [
            "Kansas"
           ],
           "legendgroup": "Kansas",
           "line": {
            "color": "#862A16",
            "dash": "solid"
           },
           "marker": {
            "symbol": "circle"
           },
           "mode": "markers+lines",
           "name": "Kansas",
           "orientation": "v",
           "showlegend": true,
           "type": "scatter",
           "x": [
            2016
           ],
           "xaxis": "x",
           "y": [
            61
           ],
           "yaxis": "y"
          },
          {
           "hovertemplate": "color=Kentucky<br>animation_frame=2016<br>x=%{x}<br>y=%{y}<extra></extra>",
           "ids": [
            "Kentucky"
           ],
           "legendgroup": "Kentucky",
           "line": {
            "color": "#A777F1",
            "dash": "solid"
           },
           "marker": {
            "symbol": "circle"
           },
           "mode": "markers+lines",
           "name": "Kentucky",
           "orientation": "v",
           "showlegend": true,
           "type": "scatter",
           "x": [
            2016
           ],
           "xaxis": "x",
           "y": [
            207
           ],
           "yaxis": "y"
          },
          {
           "hovertemplate": "color=Louisiana<br>animation_frame=2016<br>x=%{x}<br>y=%{y}<extra></extra>",
           "ids": [
            "Louisiana"
           ],
           "legendgroup": "Louisiana",
           "line": {
            "color": "#620042",
            "dash": "solid"
           },
           "marker": {
            "symbol": "circle"
           },
           "mode": "markers+lines",
           "name": "Louisiana",
           "orientation": "v",
           "showlegend": true,
           "type": "scatter",
           "x": [
            2016
           ],
           "xaxis": "x",
           "y": [
            445
           ],
           "yaxis": "y"
          },
          {
           "hovertemplate": "color=Maine<br>animation_frame=2016<br>x=%{x}<br>y=%{y}<extra></extra>",
           "ids": [
            "Maine"
           ],
           "legendgroup": "Maine",
           "line": {
            "color": "#1616A7",
            "dash": "solid"
           },
           "marker": {
            "symbol": "circle"
           },
           "mode": "markers+lines",
           "name": "Maine",
           "orientation": "v",
           "showlegend": true,
           "type": "scatter",
           "x": [
            2016
           ],
           "xaxis": "x",
           "y": [
            11
           ],
           "yaxis": "y"
          },
          {
           "hovertemplate": "color=Maryland<br>animation_frame=2016<br>x=%{x}<br>y=%{y}<extra></extra>",
           "ids": [
            "Maryland"
           ],
           "legendgroup": "Maryland",
           "line": {
            "color": "#DA60CA",
            "dash": "solid"
           },
           "marker": {
            "symbol": "circle"
           },
           "mode": "markers+lines",
           "name": "Maryland",
           "orientation": "v",
           "showlegend": true,
           "type": "scatter",
           "x": [
            2016
           ],
           "xaxis": "x",
           "y": [
            328
           ],
           "yaxis": "y"
          },
          {
           "hovertemplate": "color=Massachusetts<br>animation_frame=2016<br>x=%{x}<br>y=%{y}<extra></extra>",
           "ids": [
            "Massachusetts"
           ],
           "legendgroup": "Massachusetts",
           "line": {
            "color": "#6C4516",
            "dash": "solid"
           },
           "marker": {
            "symbol": "circle"
           },
           "mode": "markers+lines",
           "name": "Massachusetts",
           "orientation": "v",
           "showlegend": true,
           "type": "scatter",
           "x": [
            2016
           ],
           "xaxis": "x",
           "y": [
            85
           ],
           "yaxis": "y"
          },
          {
           "hovertemplate": "color=Michigan<br>animation_frame=2016<br>x=%{x}<br>y=%{y}<extra></extra>",
           "ids": [
            "Michigan"
           ],
           "legendgroup": "Michigan",
           "line": {
            "color": "#0D2A63",
            "dash": "solid"
           },
           "marker": {
            "symbol": "circle"
           },
           "mode": "markers+lines",
           "name": "Michigan",
           "orientation": "v",
           "showlegend": true,
           "type": "scatter",
           "x": [
            2016
           ],
           "xaxis": "x",
           "y": [
            443
           ],
           "yaxis": "y"
          },
          {
           "hovertemplate": "color=Minnesota<br>animation_frame=2016<br>x=%{x}<br>y=%{y}<extra></extra>",
           "ids": [
            "Minnesota"
           ],
           "legendgroup": "Minnesota",
           "line": {
            "color": "#AF0038",
            "dash": "solid"
           },
           "marker": {
            "symbol": "circle"
           },
           "mode": "markers+lines",
           "name": "Minnesota",
           "orientation": "v",
           "showlegend": true,
           "type": "scatter",
           "x": [
            2016
           ],
           "xaxis": "x",
           "y": [
            60
           ],
           "yaxis": "y"
          },
          {
           "hovertemplate": "color=Mississippi<br>animation_frame=2016<br>x=%{x}<br>y=%{y}<extra></extra>",
           "ids": [
            "Mississippi"
           ],
           "legendgroup": "Mississippi",
           "line": {
            "color": "#2E91E5",
            "dash": "solid"
           },
           "marker": {
            "symbol": "circle"
           },
           "mode": "markers+lines",
           "name": "Mississippi",
           "orientation": "v",
           "showlegend": true,
           "type": "scatter",
           "x": [
            2016
           ],
           "xaxis": "x",
           "y": [
            128
           ],
           "yaxis": "y"
          },
          {
           "hovertemplate": "color=Missouri<br>animation_frame=2016<br>x=%{x}<br>y=%{y}<extra></extra>",
           "ids": [
            "Missouri"
           ],
           "legendgroup": "Missouri",
           "line": {
            "color": "#E15F99",
            "dash": "solid"
           },
           "marker": {
            "symbol": "circle"
           },
           "mode": "markers+lines",
           "name": "Missouri",
           "orientation": "v",
           "showlegend": true,
           "type": "scatter",
           "x": [
            2016
           ],
           "xaxis": "x",
           "y": [
            437
           ],
           "yaxis": "y"
          },
          {
           "hovertemplate": "color=Montana<br>animation_frame=2016<br>x=%{x}<br>y=%{y}<extra></extra>",
           "ids": [
            "Montana"
           ],
           "legendgroup": "Montana",
           "line": {
            "color": "#1CA71C",
            "dash": "solid"
           },
           "marker": {
            "symbol": "circle"
           },
           "mode": "markers+lines",
           "name": "Montana",
           "orientation": "v",
           "showlegend": true,
           "type": "scatter",
           "x": [
            2016
           ],
           "xaxis": "x",
           "y": [
            17
           ],
           "yaxis": "y"
          },
          {
           "hovertemplate": "color=Nebraska<br>animation_frame=2016<br>x=%{x}<br>y=%{y}<extra></extra>",
           "ids": [
            "Nebraska"
           ],
           "legendgroup": "Nebraska",
           "line": {
            "color": "#FB0D0D",
            "dash": "solid"
           },
           "marker": {
            "symbol": "circle"
           },
           "mode": "markers+lines",
           "name": "Nebraska",
           "orientation": "v",
           "showlegend": true,
           "type": "scatter",
           "x": [
            2016
           ],
           "xaxis": "x",
           "y": [
            30
           ],
           "yaxis": "y"
          },
          {
           "hovertemplate": "color=Nevada<br>animation_frame=2016<br>x=%{x}<br>y=%{y}<extra></extra>",
           "ids": [
            "Nevada"
           ],
           "legendgroup": "Nevada",
           "line": {
            "color": "#DA16FF",
            "dash": "solid"
           },
           "marker": {
            "symbol": "circle"
           },
           "mode": "markers+lines",
           "name": "Nevada",
           "orientation": "v",
           "showlegend": true,
           "type": "scatter",
           "x": [
            2016
           ],
           "xaxis": "x",
           "y": [
            141
           ],
           "yaxis": "y"
          },
          {
           "hovertemplate": "color=New Hampshire<br>animation_frame=2016<br>x=%{x}<br>y=%{y}<extra></extra>",
           "ids": [
            "New Hampshire"
           ],
           "legendgroup": "New Hampshire",
           "line": {
            "color": "#222A2A",
            "dash": "solid"
           },
           "marker": {
            "symbol": "circle"
           },
           "mode": "markers+lines",
           "name": "New Hampshire",
           "orientation": "v",
           "showlegend": true,
           "type": "scatter",
           "x": [
            2016
           ],
           "xaxis": "x",
           "y": [
            8
           ],
           "yaxis": "y"
          },
          {
           "hovertemplate": "color=New Jersey<br>animation_frame=2016<br>x=%{x}<br>y=%{y}<extra></extra>",
           "ids": [
            "New Jersey"
           ],
           "legendgroup": "New Jersey",
           "line": {
            "color": "#B68100",
            "dash": "solid"
           },
           "marker": {
            "symbol": "circle"
           },
           "mode": "markers+lines",
           "name": "New Jersey",
           "orientation": "v",
           "showlegend": true,
           "type": "scatter",
           "x": [
            2016
           ],
           "xaxis": "x",
           "y": [
            278
           ],
           "yaxis": "y"
          },
          {
           "hovertemplate": "color=New Mexico<br>animation_frame=2016<br>x=%{x}<br>y=%{y}<extra></extra>",
           "ids": [
            "New Mexico"
           ],
           "legendgroup": "New Mexico",
           "line": {
            "color": "#750D86",
            "dash": "solid"
           },
           "marker": {
            "symbol": "circle"
           },
           "mode": "markers+lines",
           "name": "New Mexico",
           "orientation": "v",
           "showlegend": true,
           "type": "scatter",
           "x": [
            2016
           ],
           "xaxis": "x",
           "y": [
            60
           ],
           "yaxis": "y"
          },
          {
           "hovertemplate": "color=New York<br>animation_frame=2016<br>x=%{x}<br>y=%{y}<extra></extra>",
           "ids": [
            "New York"
           ],
           "legendgroup": "New York",
           "line": {
            "color": "#EB663B",
            "dash": "solid"
           },
           "marker": {
            "symbol": "circle"
           },
           "mode": "markers+lines",
           "name": "New York",
           "orientation": "v",
           "showlegend": true,
           "type": "scatter",
           "x": [
            2016
           ],
           "xaxis": "x",
           "y": [
            367
           ],
           "yaxis": "y"
          },
          {
           "hovertemplate": "color=North Carolina<br>animation_frame=2016<br>x=%{x}<br>y=%{y}<extra></extra>",
           "ids": [
            "North Carolina"
           ],
           "legendgroup": "North Carolina",
           "line": {
            "color": "#511CFB",
            "dash": "solid"
           },
           "marker": {
            "symbol": "circle"
           },
           "mode": "markers+lines",
           "name": "North Carolina",
           "orientation": "v",
           "showlegend": true,
           "type": "scatter",
           "x": [
            2016
           ],
           "xaxis": "x",
           "y": [
            421
           ],
           "yaxis": "y"
          },
          {
           "hovertemplate": "color=North Dakota<br>animation_frame=2016<br>x=%{x}<br>y=%{y}<extra></extra>",
           "ids": [
            "North Dakota"
           ],
           "legendgroup": "North Dakota",
           "line": {
            "color": "#00A08B",
            "dash": "solid"
           },
           "marker": {
            "symbol": "circle"
           },
           "mode": "markers+lines",
           "name": "North Dakota",
           "orientation": "v",
           "showlegend": true,
           "type": "scatter",
           "x": [
            2016
           ],
           "xaxis": "x",
           "y": [
            8
           ],
           "yaxis": "y"
          },
          {
           "hovertemplate": "color=Ohio<br>animation_frame=2016<br>x=%{x}<br>y=%{y}<extra></extra>",
           "ids": [
            "Ohio"
           ],
           "legendgroup": "Ohio",
           "line": {
            "color": "#FB00D1",
            "dash": "solid"
           },
           "marker": {
            "symbol": "circle"
           },
           "mode": "markers+lines",
           "name": "Ohio",
           "orientation": "v",
           "showlegend": true,
           "type": "scatter",
           "x": [
            2016
           ],
           "xaxis": "x",
           "y": [
            452
           ],
           "yaxis": "y"
          },
          {
           "hovertemplate": "color=Oklahoma<br>animation_frame=2016<br>x=%{x}<br>y=%{y}<extra></extra>",
           "ids": [
            "Oklahoma"
           ],
           "legendgroup": "Oklahoma",
           "line": {
            "color": "#FC0080",
            "dash": "solid"
           },
           "marker": {
            "symbol": "circle"
           },
           "mode": "markers+lines",
           "name": "Oklahoma",
           "orientation": "v",
           "showlegend": true,
           "type": "scatter",
           "x": [
            2016
           ],
           "xaxis": "x",
           "y": [
            171
           ],
           "yaxis": "y"
          },
          {
           "hovertemplate": "color=Oregon<br>animation_frame=2016<br>x=%{x}<br>y=%{y}<extra></extra>",
           "ids": [
            "Oregon"
           ],
           "legendgroup": "Oregon",
           "line": {
            "color": "#B2828D",
            "dash": "solid"
           },
           "marker": {
            "symbol": "circle"
           },
           "mode": "markers+lines",
           "name": "Oregon",
           "orientation": "v",
           "showlegend": true,
           "type": "scatter",
           "x": [
            2016
           ],
           "xaxis": "x",
           "y": [
            51
           ],
           "yaxis": "y"
          },
          {
           "hovertemplate": "color=Pennsylvania<br>animation_frame=2016<br>x=%{x}<br>y=%{y}<extra></extra>",
           "ids": [
            "Pennsylvania"
           ],
           "legendgroup": "Pennsylvania",
           "line": {
            "color": "#6C7C32",
            "dash": "solid"
           },
           "marker": {
            "symbol": "circle"
           },
           "mode": "markers+lines",
           "name": "Pennsylvania",
           "orientation": "v",
           "showlegend": true,
           "type": "scatter",
           "x": [
            2016
           ],
           "xaxis": "x",
           "y": [
            486
           ],
           "yaxis": "y"
          },
          {
           "hovertemplate": "color=Rhode Island<br>animation_frame=2016<br>x=%{x}<br>y=%{y}<extra></extra>",
           "ids": [
            "Rhode Island"
           ],
           "legendgroup": "Rhode Island",
           "line": {
            "color": "#778AAE",
            "dash": "solid"
           },
           "marker": {
            "symbol": "circle"
           },
           "mode": "markers+lines",
           "name": "Rhode Island",
           "orientation": "v",
           "showlegend": true,
           "type": "scatter",
           "x": [
            2016
           ],
           "xaxis": "x",
           "y": [
            12
           ],
           "yaxis": "y"
          },
          {
           "hovertemplate": "color=South Carolina<br>animation_frame=2016<br>x=%{x}<br>y=%{y}<extra></extra>",
           "ids": [
            "South Carolina"
           ],
           "legendgroup": "South Carolina",
           "line": {
            "color": "#862A16",
            "dash": "solid"
           },
           "marker": {
            "symbol": "circle"
           },
           "mode": "markers+lines",
           "name": "South Carolina",
           "orientation": "v",
           "showlegend": true,
           "type": "scatter",
           "x": [
            2016
           ],
           "xaxis": "x",
           "y": [
            281
           ],
           "yaxis": "y"
          },
          {
           "hovertemplate": "color=South Dakota<br>animation_frame=2016<br>x=%{x}<br>y=%{y}<extra></extra>",
           "ids": [
            "South Dakota"
           ],
           "legendgroup": "South Dakota",
           "line": {
            "color": "#A777F1",
            "dash": "solid"
           },
           "marker": {
            "symbol": "circle"
           },
           "mode": "markers+lines",
           "name": "South Dakota",
           "orientation": "v",
           "showlegend": true,
           "type": "scatter",
           "x": [
            2016
           ],
           "xaxis": "x",
           "y": [
            7
           ],
           "yaxis": "y"
          },
          {
           "hovertemplate": "color=Tennessee<br>animation_frame=2016<br>x=%{x}<br>y=%{y}<extra></extra>",
           "ids": [
            "Tennessee"
           ],
           "legendgroup": "Tennessee",
           "line": {
            "color": "#620042",
            "dash": "solid"
           },
           "marker": {
            "symbol": "circle"
           },
           "mode": "markers+lines",
           "name": "Tennessee",
           "orientation": "v",
           "showlegend": true,
           "type": "scatter",
           "x": [
            2016
           ],
           "xaxis": "x",
           "y": [
            356
           ],
           "yaxis": "y"
          },
          {
           "hovertemplate": "color=Texas<br>animation_frame=2016<br>x=%{x}<br>y=%{y}<extra></extra>",
           "ids": [
            "Texas"
           ],
           "legendgroup": "Texas",
           "line": {
            "color": "#1616A7",
            "dash": "solid"
           },
           "marker": {
            "symbol": "circle"
           },
           "mode": "markers+lines",
           "name": "Texas",
           "orientation": "v",
           "showlegend": true,
           "type": "scatter",
           "x": [
            2016
           ],
           "xaxis": "x",
           "y": [
            1066
           ],
           "yaxis": "y"
          },
          {
           "hovertemplate": "color=U.S. Virgin Islands<br>animation_frame=2016<br>x=%{x}<br>y=%{y}<extra></extra>",
           "ids": [
            "U.S. Virgin Islands"
           ],
           "legendgroup": "U.S. Virgin Islands",
           "line": {
            "color": "#DA60CA",
            "dash": "solid"
           },
           "marker": {
            "symbol": "circle"
           },
           "mode": "markers+lines",
           "name": "U.S. Virgin Islands",
           "orientation": "v",
           "showlegend": true,
           "type": "scatter",
           "x": [
            2016
           ],
           "xaxis": "x",
           "y": [
            34
           ],
           "yaxis": "y"
          },
          {
           "hovertemplate": "color=Utah<br>animation_frame=2016<br>x=%{x}<br>y=%{y}<extra></extra>",
           "ids": [
            "Utah"
           ],
           "legendgroup": "Utah",
           "line": {
            "color": "#6C4516",
            "dash": "solid"
           },
           "marker": {
            "symbol": "circle"
           },
           "mode": "markers+lines",
           "name": "Utah",
           "orientation": "v",
           "showlegend": true,
           "type": "scatter",
           "x": [
            2016
           ],
           "xaxis": "x",
           "y": [
            42
           ],
           "yaxis": "y"
          },
          {
           "hovertemplate": "color=Vermont<br>animation_frame=2016<br>x=%{x}<br>y=%{y}<extra></extra>",
           "ids": [
            "Vermont"
           ],
           "legendgroup": "Vermont",
           "line": {
            "color": "#0D2A63",
            "dash": "solid"
           },
           "marker": {
            "symbol": "circle"
           },
           "mode": "markers+lines",
           "name": "Vermont",
           "orientation": "v",
           "showlegend": true,
           "type": "scatter",
           "x": [
            2016
           ],
           "xaxis": "x",
           "y": [
            6
           ],
           "yaxis": "y"
          },
          {
           "hovertemplate": "color=Virginia<br>animation_frame=2016<br>x=%{x}<br>y=%{y}<extra></extra>",
           "ids": [
            "Virginia"
           ],
           "legendgroup": "Virginia",
           "line": {
            "color": "#AF0038",
            "dash": "solid"
           },
           "marker": {
            "symbol": "circle"
           },
           "mode": "markers+lines",
           "name": "Virginia",
           "orientation": "v",
           "showlegend": true,
           "type": "scatter",
           "x": [
            2016
           ],
           "xaxis": "x",
           "y": [
            352
           ],
           "yaxis": "y"
          },
          {
           "hovertemplate": "color=Washington<br>animation_frame=2016<br>x=%{x}<br>y=%{y}<extra></extra>",
           "ids": [
            "Washington"
           ],
           "legendgroup": "Washington",
           "line": {
            "color": "#2E91E5",
            "dash": "solid"
           },
           "marker": {
            "symbol": "circle"
           },
           "mode": "markers+lines",
           "name": "Washington",
           "orientation": "v",
           "showlegend": true,
           "type": "scatter",
           "x": [
            2016
           ],
           "xaxis": "x",
           "y": [
            127
           ],
           "yaxis": "y"
          },
          {
           "hovertemplate": "color=West Virginia<br>animation_frame=2016<br>x=%{x}<br>y=%{y}<extra></extra>",
           "ids": [
            "West Virginia"
           ],
           "legendgroup": "West Virginia",
           "line": {
            "color": "#E15F99",
            "dash": "solid"
           },
           "marker": {
            "symbol": "circle"
           },
           "mode": "markers+lines",
           "name": "West Virginia",
           "orientation": "v",
           "showlegend": true,
           "type": "scatter",
           "x": [
            2016
           ],
           "xaxis": "x",
           "y": [
            47
           ],
           "yaxis": "y"
          },
          {
           "hovertemplate": "color=Wisconsin<br>animation_frame=2016<br>x=%{x}<br>y=%{y}<extra></extra>",
           "ids": [
            "Wisconsin"
           ],
           "legendgroup": "Wisconsin",
           "line": {
            "color": "#1CA71C",
            "dash": "solid"
           },
           "marker": {
            "symbol": "circle"
           },
           "mode": "markers+lines",
           "name": "Wisconsin",
           "orientation": "v",
           "showlegend": true,
           "type": "scatter",
           "x": [
            2016
           ],
           "xaxis": "x",
           "y": [
            166
           ],
           "yaxis": "y"
          },
          {
           "hovertemplate": "color=Wyoming<br>animation_frame=2016<br>x=%{x}<br>y=%{y}<extra></extra>",
           "ids": [
            "Wyoming"
           ],
           "legendgroup": "Wyoming",
           "line": {
            "color": "#FB0D0D",
            "dash": "solid"
           },
           "marker": {
            "symbol": "circle"
           },
           "mode": "markers+lines",
           "name": "Wyoming",
           "orientation": "v",
           "showlegend": true,
           "type": "scatter",
           "x": [
            2016
           ],
           "xaxis": "x",
           "y": [
            6
           ],
           "yaxis": "y"
          }
         ],
         "name": "2016"
        },
        {
         "data": [
          {
           "hovertemplate": "color=Alabama<br>animation_frame=2017<br>x=%{x}<br>y=%{y}<extra></extra>",
           "ids": [
            "Alabama"
           ],
           "legendgroup": "Alabama",
           "line": {
            "color": "#2E91E5",
            "dash": "solid"
           },
           "marker": {
            "symbol": "circle"
           },
           "mode": "markers+lines",
           "name": "Alabama",
           "orientation": "v",
           "showlegend": true,
           "type": "scatter",
           "x": [
            2017
           ],
           "xaxis": "x",
           "y": [
            1
           ],
           "yaxis": "y"
          },
          {
           "hovertemplate": "color=Alaska<br>animation_frame=2017<br>x=%{x}<br>y=%{y}<extra></extra>",
           "ids": [
            "Alaska"
           ],
           "legendgroup": "Alaska",
           "line": {
            "color": "#E15F99",
            "dash": "solid"
           },
           "marker": {
            "symbol": "circle"
           },
           "mode": "markers+lines",
           "name": "Alaska",
           "orientation": "v",
           "showlegend": true,
           "type": "scatter",
           "x": [
            2017
           ],
           "xaxis": "x",
           "y": [
            37
           ],
           "yaxis": "y"
          },
          {
           "hovertemplate": "color=Arizona<br>animation_frame=2017<br>x=%{x}<br>y=%{y}<extra></extra>",
           "ids": [
            "Arizona"
           ],
           "legendgroup": "Arizona",
           "line": {
            "color": "#1CA71C",
            "dash": "solid"
           },
           "marker": {
            "symbol": "circle"
           },
           "mode": "markers+lines",
           "name": "Arizona",
           "orientation": "v",
           "showlegend": true,
           "type": "scatter",
           "x": [
            2017
           ],
           "xaxis": "x",
           "y": [
            249
           ],
           "yaxis": "y"
          },
          {
           "hovertemplate": "color=Arkansas<br>animation_frame=2017<br>x=%{x}<br>y=%{y}<extra></extra>",
           "ids": [
            "Arkansas"
           ],
           "legendgroup": "Arkansas",
           "line": {
            "color": "#FB0D0D",
            "dash": "solid"
           },
           "marker": {
            "symbol": "circle"
           },
           "mode": "markers+lines",
           "name": "Arkansas",
           "orientation": "v",
           "showlegend": true,
           "type": "scatter",
           "x": [
            2017
           ],
           "xaxis": "x",
           "y": [
            168
           ],
           "yaxis": "y"
          },
          {
           "hovertemplate": "color=California<br>animation_frame=2017<br>x=%{x}<br>y=%{y}<extra></extra>",
           "ids": [
            "California"
           ],
           "legendgroup": "California",
           "line": {
            "color": "#DA16FF",
            "dash": "solid"
           },
           "marker": {
            "symbol": "circle"
           },
           "mode": "markers+lines",
           "name": "California",
           "orientation": "v",
           "showlegend": true,
           "type": "scatter",
           "x": [
            2017
           ],
           "xaxis": "x",
           "y": [
            1274
           ],
           "yaxis": "y"
          },
          {
           "hovertemplate": "color=Colorado<br>animation_frame=2017<br>x=%{x}<br>y=%{y}<extra></extra>",
           "ids": [
            "Colorado"
           ],
           "legendgroup": "Colorado",
           "line": {
            "color": "#222A2A",
            "dash": "solid"
           },
           "marker": {
            "symbol": "circle"
           },
           "mode": "markers+lines",
           "name": "Colorado",
           "orientation": "v",
           "showlegend": true,
           "type": "scatter",
           "x": [
            2017
           ],
           "xaxis": "x",
           "y": [
            137
           ],
           "yaxis": "y"
          },
          {
           "hovertemplate": "color=Connecticut<br>animation_frame=2017<br>x=%{x}<br>y=%{y}<extra></extra>",
           "ids": [
            "Connecticut"
           ],
           "legendgroup": "Connecticut",
           "line": {
            "color": "#B68100",
            "dash": "solid"
           },
           "marker": {
            "symbol": "circle"
           },
           "mode": "markers+lines",
           "name": "Connecticut",
           "orientation": "v",
           "showlegend": true,
           "type": "scatter",
           "x": [
            2017
           ],
           "xaxis": "x",
           "y": [
            72
           ],
           "yaxis": "y"
          },
          {
           "hovertemplate": "color=Delaware<br>animation_frame=2017<br>x=%{x}<br>y=%{y}<extra></extra>",
           "ids": [
            "Delaware"
           ],
           "legendgroup": "Delaware",
           "line": {
            "color": "#750D86",
            "dash": "solid"
           },
           "marker": {
            "symbol": "circle"
           },
           "mode": "markers+lines",
           "name": "Delaware",
           "orientation": "v",
           "showlegend": true,
           "type": "scatter",
           "x": [
            2017
           ],
           "xaxis": "x",
           "y": [
            44
           ],
           "yaxis": "y"
          },
          {
           "hovertemplate": "color=District of Columbia<br>animation_frame=2017<br>x=%{x}<br>y=%{y}<extra></extra>",
           "ids": [
            "District of Columbia"
           ],
           "legendgroup": "District of Columbia",
           "line": {
            "color": "#EB663B",
            "dash": "solid"
           },
           "marker": {
            "symbol": "circle"
           },
           "mode": "markers+lines",
           "name": "District of Columbia",
           "orientation": "v",
           "showlegend": true,
           "type": "scatter",
           "x": [
            2017
           ],
           "xaxis": "x",
           "y": [
            90
           ],
           "yaxis": "y"
          },
          {
           "hovertemplate": "color=Georgia<br>animation_frame=2017<br>x=%{x}<br>y=%{y}<extra></extra>",
           "ids": [
            "Georgia"
           ],
           "legendgroup": "Georgia",
           "line": {
            "color": "#511CFB",
            "dash": "solid"
           },
           "marker": {
            "symbol": "circle"
           },
           "mode": "markers+lines",
           "name": "Georgia",
           "orientation": "v",
           "showlegend": true,
           "type": "scatter",
           "x": [
            2017
           ],
           "xaxis": "x",
           "y": [
            542
           ],
           "yaxis": "y"
          },
          {
           "hovertemplate": "color=Guam<br>animation_frame=2017<br>x=%{x}<br>y=%{y}<extra></extra>",
           "ids": [
            "Guam"
           ],
           "legendgroup": "Guam",
           "line": {
            "color": "#00A08B",
            "dash": "solid"
           },
           "marker": {
            "symbol": "circle"
           },
           "mode": "markers+lines",
           "name": "Guam",
           "orientation": "v",
           "showlegend": true,
           "type": "scatter",
           "x": [
            2017
           ],
           "xaxis": "x",
           "y": [
            0
           ],
           "yaxis": "y"
          },
          {
           "hovertemplate": "color=Hawaii<br>animation_frame=2017<br>x=%{x}<br>y=%{y}<extra></extra>",
           "ids": [
            "Hawaii"
           ],
           "legendgroup": "Hawaii",
           "line": {
            "color": "#FB00D1",
            "dash": "solid"
           },
           "marker": {
            "symbol": "circle"
           },
           "mode": "markers+lines",
           "name": "Hawaii",
           "orientation": "v",
           "showlegend": true,
           "type": "scatter",
           "x": [
            2017
           ],
           "xaxis": "x",
           "y": [
            4
           ],
           "yaxis": "y"
          },
          {
           "hovertemplate": "color=Idaho<br>animation_frame=2017<br>x=%{x}<br>y=%{y}<extra></extra>",
           "ids": [
            "Idaho"
           ],
           "legendgroup": "Idaho",
           "line": {
            "color": "#FC0080",
            "dash": "solid"
           },
           "marker": {
            "symbol": "circle"
           },
           "mode": "markers+lines",
           "name": "Idaho",
           "orientation": "v",
           "showlegend": true,
           "type": "scatter",
           "x": [
            2017
           ],
           "xaxis": "x",
           "y": [
            13
           ],
           "yaxis": "y"
          },
          {
           "hovertemplate": "color=Illinois<br>animation_frame=2017<br>x=%{x}<br>y=%{y}<extra></extra>",
           "ids": [
            "Illinois"
           ],
           "legendgroup": "Illinois",
           "line": {
            "color": "#B2828D",
            "dash": "solid"
           },
           "marker": {
            "symbol": "circle"
           },
           "mode": "markers+lines",
           "name": "Illinois",
           "orientation": "v",
           "showlegend": true,
           "type": "scatter",
           "x": [
            2017
           ],
           "xaxis": "x",
           "y": [
            693
           ],
           "yaxis": "y"
          },
          {
           "hovertemplate": "color=Indiana<br>animation_frame=2017<br>x=%{x}<br>y=%{y}<extra></extra>",
           "ids": [
            "Indiana"
           ],
           "legendgroup": "Indiana",
           "line": {
            "color": "#6C7C32",
            "dash": "solid"
           },
           "marker": {
            "symbol": "circle"
           },
           "mode": "markers+lines",
           "name": "Indiana",
           "orientation": "v",
           "showlegend": true,
           "type": "scatter",
           "x": [
            2017
           ],
           "xaxis": "x",
           "y": [
            291
           ],
           "yaxis": "y"
          },
          {
           "hovertemplate": "color=Iowa<br>animation_frame=2017<br>x=%{x}<br>y=%{y}<extra></extra>",
           "ids": [
            "Iowa"
           ],
           "legendgroup": "Iowa",
           "line": {
            "color": "#778AAE",
            "dash": "solid"
           },
           "marker": {
            "symbol": "circle"
           },
           "mode": "markers+lines",
           "name": "Iowa",
           "orientation": "v",
           "showlegend": true,
           "type": "scatter",
           "x": [
            2017
           ],
           "xaxis": "x",
           "y": [
            57
           ],
           "yaxis": "y"
          },
          {
           "hovertemplate": "color=Kansas<br>animation_frame=2017<br>x=%{x}<br>y=%{y}<extra></extra>",
           "ids": [
            "Kansas"
           ],
           "legendgroup": "Kansas",
           "line": {
            "color": "#862A16",
            "dash": "solid"
           },
           "marker": {
            "symbol": "circle"
           },
           "mode": "markers+lines",
           "name": "Kansas",
           "orientation": "v",
           "showlegend": true,
           "type": "scatter",
           "x": [
            2017
           ],
           "xaxis": "x",
           "y": [
            79
           ],
           "yaxis": "y"
          },
          {
           "hovertemplate": "color=Kentucky<br>animation_frame=2017<br>x=%{x}<br>y=%{y}<extra></extra>",
           "ids": [
            "Kentucky"
           ],
           "legendgroup": "Kentucky",
           "line": {
            "color": "#A777F1",
            "dash": "solid"
           },
           "marker": {
            "symbol": "circle"
           },
           "mode": "markers+lines",
           "name": "Kentucky",
           "orientation": "v",
           "showlegend": true,
           "type": "scatter",
           "x": [
            2017
           ],
           "xaxis": "x",
           "y": [
            192
           ],
           "yaxis": "y"
          },
          {
           "hovertemplate": "color=Louisiana<br>animation_frame=2017<br>x=%{x}<br>y=%{y}<extra></extra>",
           "ids": [
            "Louisiana"
           ],
           "legendgroup": "Louisiana",
           "line": {
            "color": "#620042",
            "dash": "solid"
           },
           "marker": {
            "symbol": "circle"
           },
           "mode": "markers+lines",
           "name": "Louisiana",
           "orientation": "v",
           "showlegend": true,
           "type": "scatter",
           "x": [
            2017
           ],
           "xaxis": "x",
           "y": [
            460
           ],
           "yaxis": "y"
          },
          {
           "hovertemplate": "color=Maine<br>animation_frame=2017<br>x=%{x}<br>y=%{y}<extra></extra>",
           "ids": [
            "Maine"
           ],
           "legendgroup": "Maine",
           "line": {
            "color": "#1616A7",
            "dash": "solid"
           },
           "marker": {
            "symbol": "circle"
           },
           "mode": "markers+lines",
           "name": "Maine",
           "orientation": "v",
           "showlegend": true,
           "type": "scatter",
           "x": [
            2017
           ],
           "xaxis": "x",
           "y": [
            12
           ],
           "yaxis": "y"
          },
          {
           "hovertemplate": "color=Maryland<br>animation_frame=2017<br>x=%{x}<br>y=%{y}<extra></extra>",
           "ids": [
            "Maryland"
           ],
           "legendgroup": "Maryland",
           "line": {
            "color": "#DA60CA",
            "dash": "solid"
           },
           "marker": {
            "symbol": "circle"
           },
           "mode": "markers+lines",
           "name": "Maryland",
           "orientation": "v",
           "showlegend": true,
           "type": "scatter",
           "x": [
            2017
           ],
           "xaxis": "x",
           "y": [
            370
           ],
           "yaxis": "y"
          },
          {
           "hovertemplate": "color=Massachusetts<br>animation_frame=2017<br>x=%{x}<br>y=%{y}<extra></extra>",
           "ids": [
            "Massachusetts"
           ],
           "legendgroup": "Massachusetts",
           "line": {
            "color": "#6C4516",
            "dash": "solid"
           },
           "marker": {
            "symbol": "circle"
           },
           "mode": "markers+lines",
           "name": "Massachusetts",
           "orientation": "v",
           "showlegend": true,
           "type": "scatter",
           "x": [
            2017
           ],
           "xaxis": "x",
           "y": [
            99
           ],
           "yaxis": "y"
          },
          {
           "hovertemplate": "color=Michigan<br>animation_frame=2017<br>x=%{x}<br>y=%{y}<extra></extra>",
           "ids": [
            "Michigan"
           ],
           "legendgroup": "Michigan",
           "line": {
            "color": "#0D2A63",
            "dash": "solid"
           },
           "marker": {
            "symbol": "circle"
           },
           "mode": "markers+lines",
           "name": "Michigan",
           "orientation": "v",
           "showlegend": true,
           "type": "scatter",
           "x": [
            2017
           ],
           "xaxis": "x",
           "y": [
            381
           ],
           "yaxis": "y"
          },
          {
           "hovertemplate": "color=Minnesota<br>animation_frame=2017<br>x=%{x}<br>y=%{y}<extra></extra>",
           "ids": [
            "Minnesota"
           ],
           "legendgroup": "Minnesota",
           "line": {
            "color": "#AF0038",
            "dash": "solid"
           },
           "marker": {
            "symbol": "circle"
           },
           "mode": "markers+lines",
           "name": "Minnesota",
           "orientation": "v",
           "showlegend": true,
           "type": "scatter",
           "x": [
            2017
           ],
           "xaxis": "x",
           "y": [
            69
           ],
           "yaxis": "y"
          },
          {
           "hovertemplate": "color=Mississippi<br>animation_frame=2017<br>x=%{x}<br>y=%{y}<extra></extra>",
           "ids": [
            "Mississippi"
           ],
           "legendgroup": "Mississippi",
           "line": {
            "color": "#2E91E5",
            "dash": "solid"
           },
           "marker": {
            "symbol": "circle"
           },
           "mode": "markers+lines",
           "name": "Mississippi",
           "orientation": "v",
           "showlegend": true,
           "type": "scatter",
           "x": [
            2017
           ],
           "xaxis": "x",
           "y": [
            111
           ],
           "yaxis": "y"
          },
          {
           "hovertemplate": "color=Missouri<br>animation_frame=2017<br>x=%{x}<br>y=%{y}<extra></extra>",
           "ids": [
            "Missouri"
           ],
           "legendgroup": "Missouri",
           "line": {
            "color": "#E15F99",
            "dash": "solid"
           },
           "marker": {
            "symbol": "circle"
           },
           "mode": "markers+lines",
           "name": "Missouri",
           "orientation": "v",
           "showlegend": true,
           "type": "scatter",
           "x": [
            2017
           ],
           "xaxis": "x",
           "y": [
            514
           ],
           "yaxis": "y"
          },
          {
           "hovertemplate": "color=Montana<br>animation_frame=2017<br>x=%{x}<br>y=%{y}<extra></extra>",
           "ids": [
            "Montana"
           ],
           "legendgroup": "Montana",
           "line": {
            "color": "#1CA71C",
            "dash": "solid"
           },
           "marker": {
            "symbol": "circle"
           },
           "mode": "markers+lines",
           "name": "Montana",
           "orientation": "v",
           "showlegend": true,
           "type": "scatter",
           "x": [
            2017
           ],
           "xaxis": "x",
           "y": [
            17
           ],
           "yaxis": "y"
          },
          {
           "hovertemplate": "color=Nebraska<br>animation_frame=2017<br>x=%{x}<br>y=%{y}<extra></extra>",
           "ids": [
            "Nebraska"
           ],
           "legendgroup": "Nebraska",
           "line": {
            "color": "#FB0D0D",
            "dash": "solid"
           },
           "marker": {
            "symbol": "circle"
           },
           "mode": "markers+lines",
           "name": "Nebraska",
           "orientation": "v",
           "showlegend": true,
           "type": "scatter",
           "x": [
            2017
           ],
           "xaxis": "x",
           "y": [
            31
           ],
           "yaxis": "y"
          },
          {
           "hovertemplate": "color=Nevada<br>animation_frame=2017<br>x=%{x}<br>y=%{y}<extra></extra>",
           "ids": [
            "Nevada"
           ],
           "legendgroup": "Nevada",
           "line": {
            "color": "#DA16FF",
            "dash": "solid"
           },
           "marker": {
            "symbol": "circle"
           },
           "mode": "markers+lines",
           "name": "Nevada",
           "orientation": "v",
           "showlegend": true,
           "type": "scatter",
           "x": [
            2017
           ],
           "xaxis": "x",
           "y": [
            201
           ],
           "yaxis": "y"
          },
          {
           "hovertemplate": "color=New Hampshire<br>animation_frame=2017<br>x=%{x}<br>y=%{y}<extra></extra>",
           "ids": [
            "New Hampshire"
           ],
           "legendgroup": "New Hampshire",
           "line": {
            "color": "#222A2A",
            "dash": "solid"
           },
           "marker": {
            "symbol": "circle"
           },
           "mode": "markers+lines",
           "name": "New Hampshire",
           "orientation": "v",
           "showlegend": true,
           "type": "scatter",
           "x": [
            2017
           ],
           "xaxis": "x",
           "y": [
            7
           ],
           "yaxis": "y"
          },
          {
           "hovertemplate": "color=New Jersey<br>animation_frame=2017<br>x=%{x}<br>y=%{y}<extra></extra>",
           "ids": [
            "New Jersey"
           ],
           "legendgroup": "New Jersey",
           "line": {
            "color": "#B68100",
            "dash": "solid"
           },
           "marker": {
            "symbol": "circle"
           },
           "mode": "markers+lines",
           "name": "New Jersey",
           "orientation": "v",
           "showlegend": true,
           "type": "scatter",
           "x": [
            2017
           ],
           "xaxis": "x",
           "y": [
            242
           ],
           "yaxis": "y"
          },
          {
           "hovertemplate": "color=New Mexico<br>animation_frame=2017<br>x=%{x}<br>y=%{y}<extra></extra>",
           "ids": [
            "New Mexico"
           ],
           "legendgroup": "New Mexico",
           "line": {
            "color": "#750D86",
            "dash": "solid"
           },
           "marker": {
            "symbol": "circle"
           },
           "mode": "markers+lines",
           "name": "New Mexico",
           "orientation": "v",
           "showlegend": true,
           "type": "scatter",
           "x": [
            2017
           ],
           "xaxis": "x",
           "y": [
            71
           ],
           "yaxis": "y"
          },
          {
           "hovertemplate": "color=New York<br>animation_frame=2017<br>x=%{x}<br>y=%{y}<extra></extra>",
           "ids": [
            "New York"
           ],
           "legendgroup": "New York",
           "line": {
            "color": "#EB663B",
            "dash": "solid"
           },
           "marker": {
            "symbol": "circle"
           },
           "mode": "markers+lines",
           "name": "New York",
           "orientation": "v",
           "showlegend": true,
           "type": "scatter",
           "x": [
            2017
           ],
           "xaxis": "x",
           "y": [
            292
           ],
           "yaxis": "y"
          },
          {
           "hovertemplate": "color=North Carolina<br>animation_frame=2017<br>x=%{x}<br>y=%{y}<extra></extra>",
           "ids": [
            "North Carolina"
           ],
           "legendgroup": "North Carolina",
           "line": {
            "color": "#511CFB",
            "dash": "solid"
           },
           "marker": {
            "symbol": "circle"
           },
           "mode": "markers+lines",
           "name": "North Carolina",
           "orientation": "v",
           "showlegend": true,
           "type": "scatter",
           "x": [
            2017
           ],
           "xaxis": "x",
           "y": [
            413
           ],
           "yaxis": "y"
          },
          {
           "hovertemplate": "color=North Dakota<br>animation_frame=2017<br>x=%{x}<br>y=%{y}<extra></extra>",
           "ids": [
            "North Dakota"
           ],
           "legendgroup": "North Dakota",
           "line": {
            "color": "#00A08B",
            "dash": "solid"
           },
           "marker": {
            "symbol": "circle"
           },
           "mode": "markers+lines",
           "name": "North Dakota",
           "orientation": "v",
           "showlegend": true,
           "type": "scatter",
           "x": [
            2017
           ],
           "xaxis": "x",
           "y": [
            5
           ],
           "yaxis": "y"
          },
          {
           "hovertemplate": "color=Ohio<br>animation_frame=2017<br>x=%{x}<br>y=%{y}<extra></extra>",
           "ids": [
            "Ohio"
           ],
           "legendgroup": "Ohio",
           "line": {
            "color": "#FB00D1",
            "dash": "solid"
           },
           "marker": {
            "symbol": "circle"
           },
           "mode": "markers+lines",
           "name": "Ohio",
           "orientation": "v",
           "showlegend": true,
           "type": "scatter",
           "x": [
            2017
           ],
           "xaxis": "x",
           "y": [
            485
           ],
           "yaxis": "y"
          },
          {
           "hovertemplate": "color=Oklahoma<br>animation_frame=2017<br>x=%{x}<br>y=%{y}<extra></extra>",
           "ids": [
            "Oklahoma"
           ],
           "legendgroup": "Oklahoma",
           "line": {
            "color": "#FC0080",
            "dash": "solid"
           },
           "marker": {
            "symbol": "circle"
           },
           "mode": "markers+lines",
           "name": "Oklahoma",
           "orientation": "v",
           "showlegend": true,
           "type": "scatter",
           "x": [
            2017
           ],
           "xaxis": "x",
           "y": [
            163
           ],
           "yaxis": "y"
          },
          {
           "hovertemplate": "color=Oregon<br>animation_frame=2017<br>x=%{x}<br>y=%{y}<extra></extra>",
           "ids": [
            "Oregon"
           ],
           "legendgroup": "Oregon",
           "line": {
            "color": "#B2828D",
            "dash": "solid"
           },
           "marker": {
            "symbol": "circle"
           },
           "mode": "markers+lines",
           "name": "Oregon",
           "orientation": "v",
           "showlegend": true,
           "type": "scatter",
           "x": [
            2017
           ],
           "xaxis": "x",
           "y": [
            58
           ],
           "yaxis": "y"
          },
          {
           "hovertemplate": "color=Pennsylvania<br>animation_frame=2017<br>x=%{x}<br>y=%{y}<extra></extra>",
           "ids": [
            "Pennsylvania"
           ],
           "legendgroup": "Pennsylvania",
           "line": {
            "color": "#6C7C32",
            "dash": "solid"
           },
           "marker": {
            "symbol": "circle"
           },
           "mode": "markers+lines",
           "name": "Pennsylvania",
           "orientation": "v",
           "showlegend": true,
           "type": "scatter",
           "x": [
            2017
           ],
           "xaxis": "x",
           "y": [
            567
           ],
           "yaxis": "y"
          },
          {
           "hovertemplate": "color=Rhode Island<br>animation_frame=2017<br>x=%{x}<br>y=%{y}<extra></extra>",
           "ids": [
            "Rhode Island"
           ],
           "legendgroup": "Rhode Island",
           "line": {
            "color": "#778AAE",
            "dash": "solid"
           },
           "marker": {
            "symbol": "circle"
           },
           "mode": "markers+lines",
           "name": "Rhode Island",
           "orientation": "v",
           "showlegend": true,
           "type": "scatter",
           "x": [
            2017
           ],
           "xaxis": "x",
           "y": [
            8
           ],
           "yaxis": "y"
          },
          {
           "hovertemplate": "color=South Carolina<br>animation_frame=2017<br>x=%{x}<br>y=%{y}<extra></extra>",
           "ids": [
            "South Carolina"
           ],
           "legendgroup": "South Carolina",
           "line": {
            "color": "#862A16",
            "dash": "solid"
           },
           "marker": {
            "symbol": "circle"
           },
           "mode": "markers+lines",
           "name": "South Carolina",
           "orientation": "v",
           "showlegend": true,
           "type": "scatter",
           "x": [
            2017
           ],
           "xaxis": "x",
           "y": [
            312
           ],
           "yaxis": "y"
          },
          {
           "hovertemplate": "color=South Dakota<br>animation_frame=2017<br>x=%{x}<br>y=%{y}<extra></extra>",
           "ids": [
            "South Dakota"
           ],
           "legendgroup": "South Dakota",
           "line": {
            "color": "#A777F1",
            "dash": "solid"
           },
           "marker": {
            "symbol": "circle"
           },
           "mode": "markers+lines",
           "name": "South Dakota",
           "orientation": "v",
           "showlegend": true,
           "type": "scatter",
           "x": [
            2017
           ],
           "xaxis": "x",
           "y": [
            8
           ],
           "yaxis": "y"
          },
          {
           "hovertemplate": "color=Tennessee<br>animation_frame=2017<br>x=%{x}<br>y=%{y}<extra></extra>",
           "ids": [
            "Tennessee"
           ],
           "legendgroup": "Tennessee",
           "line": {
            "color": "#620042",
            "dash": "solid"
           },
           "marker": {
            "symbol": "circle"
           },
           "mode": "markers+lines",
           "name": "Tennessee",
           "orientation": "v",
           "showlegend": true,
           "type": "scatter",
           "x": [
            2017
           ],
           "xaxis": "x",
           "y": [
            407
           ],
           "yaxis": "y"
          },
          {
           "hovertemplate": "color=Texas<br>animation_frame=2017<br>x=%{x}<br>y=%{y}<extra></extra>",
           "ids": [
            "Texas"
           ],
           "legendgroup": "Texas",
           "line": {
            "color": "#1616A7",
            "dash": "solid"
           },
           "marker": {
            "symbol": "circle"
           },
           "mode": "markers+lines",
           "name": "Texas",
           "orientation": "v",
           "showlegend": true,
           "type": "scatter",
           "x": [
            2017
           ],
           "xaxis": "x",
           "y": [
            1012
           ],
           "yaxis": "y"
          },
          {
           "hovertemplate": "color=Utah<br>animation_frame=2017<br>x=%{x}<br>y=%{y}<extra></extra>",
           "ids": [
            "Utah"
           ],
           "legendgroup": "Utah",
           "line": {
            "color": "#6C4516",
            "dash": "solid"
           },
           "marker": {
            "symbol": "circle"
           },
           "mode": "markers+lines",
           "name": "Utah",
           "orientation": "v",
           "showlegend": true,
           "type": "scatter",
           "x": [
            2017
           ],
           "xaxis": "x",
           "y": [
            46
           ],
           "yaxis": "y"
          },
          {
           "hovertemplate": "color=Vermont<br>animation_frame=2017<br>x=%{x}<br>y=%{y}<extra></extra>",
           "ids": [
            "Vermont"
           ],
           "legendgroup": "Vermont",
           "line": {
            "color": "#0D2A63",
            "dash": "solid"
           },
           "marker": {
            "symbol": "circle"
           },
           "mode": "markers+lines",
           "name": "Vermont",
           "orientation": "v",
           "showlegend": true,
           "type": "scatter",
           "x": [
            2017
           ],
           "xaxis": "x",
           "y": [
            6
           ],
           "yaxis": "y"
          },
          {
           "hovertemplate": "color=Virginia<br>animation_frame=2017<br>x=%{x}<br>y=%{y}<extra></extra>",
           "ids": [
            "Virginia"
           ],
           "legendgroup": "Virginia",
           "line": {
            "color": "#AF0038",
            "dash": "solid"
           },
           "marker": {
            "symbol": "circle"
           },
           "mode": "markers+lines",
           "name": "Virginia",
           "orientation": "v",
           "showlegend": true,
           "type": "scatter",
           "x": [
            2017
           ],
           "xaxis": "x",
           "y": [
            338
           ],
           "yaxis": "y"
          },
          {
           "hovertemplate": "color=Washington<br>animation_frame=2017<br>x=%{x}<br>y=%{y}<extra></extra>",
           "ids": [
            "Washington"
           ],
           "legendgroup": "Washington",
           "line": {
            "color": "#2E91E5",
            "dash": "solid"
           },
           "marker": {
            "symbol": "circle"
           },
           "mode": "markers+lines",
           "name": "Washington",
           "orientation": "v",
           "showlegend": true,
           "type": "scatter",
           "x": [
            2017
           ],
           "xaxis": "x",
           "y": [
            134
           ],
           "yaxis": "y"
          },
          {
           "hovertemplate": "color=West Virginia<br>animation_frame=2017<br>x=%{x}<br>y=%{y}<extra></extra>",
           "ids": [
            "West Virginia"
           ],
           "legendgroup": "West Virginia",
           "line": {
            "color": "#E15F99",
            "dash": "solid"
           },
           "marker": {
            "symbol": "circle"
           },
           "mode": "markers+lines",
           "name": "West Virginia",
           "orientation": "v",
           "showlegend": true,
           "type": "scatter",
           "x": [
            2017
           ],
           "xaxis": "x",
           "y": [
            45
           ],
           "yaxis": "y"
          },
          {
           "hovertemplate": "color=Wisconsin<br>animation_frame=2017<br>x=%{x}<br>y=%{y}<extra></extra>",
           "ids": [
            "Wisconsin"
           ],
           "legendgroup": "Wisconsin",
           "line": {
            "color": "#1CA71C",
            "dash": "solid"
           },
           "marker": {
            "symbol": "circle"
           },
           "mode": "markers+lines",
           "name": "Wisconsin",
           "orientation": "v",
           "showlegend": true,
           "type": "scatter",
           "x": [
            2017
           ],
           "xaxis": "x",
           "y": [
            149
           ],
           "yaxis": "y"
          },
          {
           "hovertemplate": "color=Wyoming<br>animation_frame=2017<br>x=%{x}<br>y=%{y}<extra></extra>",
           "ids": [
            "Wyoming"
           ],
           "legendgroup": "Wyoming",
           "line": {
            "color": "#FB0D0D",
            "dash": "solid"
           },
           "marker": {
            "symbol": "circle"
           },
           "mode": "markers+lines",
           "name": "Wyoming",
           "orientation": "v",
           "showlegend": true,
           "type": "scatter",
           "x": [
            2017
           ],
           "xaxis": "x",
           "y": [
            6
           ],
           "yaxis": "y"
          }
         ],
         "name": "2017"
        },
        {
         "data": [
          {
           "hovertemplate": "color=Alabama<br>animation_frame=2018<br>x=%{x}<br>y=%{y}<extra></extra>",
           "ids": [
            "Alabama"
           ],
           "legendgroup": "Alabama",
           "line": {
            "color": "#2E91E5",
            "dash": "solid"
           },
           "marker": {
            "symbol": "circle"
           },
           "mode": "markers+lines",
           "name": "Alabama",
           "orientation": "v",
           "showlegend": true,
           "type": "scatter",
           "x": [
            2018
           ],
           "xaxis": "x",
           "y": [
            2
           ],
           "yaxis": "y"
          },
          {
           "hovertemplate": "color=Alaska<br>animation_frame=2018<br>x=%{x}<br>y=%{y}<extra></extra>",
           "ids": [
            "Alaska"
           ],
           "legendgroup": "Alaska",
           "line": {
            "color": "#E15F99",
            "dash": "solid"
           },
           "marker": {
            "symbol": "circle"
           },
           "mode": "markers+lines",
           "name": "Alaska",
           "orientation": "v",
           "showlegend": true,
           "type": "scatter",
           "x": [
            2018
           ],
           "xaxis": "x",
           "y": [
            31
           ],
           "yaxis": "y"
          },
          {
           "hovertemplate": "color=Arizona<br>animation_frame=2018<br>x=%{x}<br>y=%{y}<extra></extra>",
           "ids": [
            "Arizona"
           ],
           "legendgroup": "Arizona",
           "line": {
            "color": "#1CA71C",
            "dash": "solid"
           },
           "marker": {
            "symbol": "circle"
           },
           "mode": "markers+lines",
           "name": "Arizona",
           "orientation": "v",
           "showlegend": true,
           "type": "scatter",
           "x": [
            2018
           ],
           "xaxis": "x",
           "y": [
            203
           ],
           "yaxis": "y"
          },
          {
           "hovertemplate": "color=Arkansas<br>animation_frame=2018<br>x=%{x}<br>y=%{y}<extra></extra>",
           "ids": [
            "Arkansas"
           ],
           "legendgroup": "Arkansas",
           "line": {
            "color": "#FB0D0D",
            "dash": "solid"
           },
           "marker": {
            "symbol": "circle"
           },
           "mode": "markers+lines",
           "name": "Arkansas",
           "orientation": "v",
           "showlegend": true,
           "type": "scatter",
           "x": [
            2018
           ],
           "xaxis": "x",
           "y": [
            156
           ],
           "yaxis": "y"
          },
          {
           "hovertemplate": "color=California<br>animation_frame=2018<br>x=%{x}<br>y=%{y}<extra></extra>",
           "ids": [
            "California"
           ],
           "legendgroup": "California",
           "line": {
            "color": "#DA16FF",
            "dash": "solid"
           },
           "marker": {
            "symbol": "circle"
           },
           "mode": "markers+lines",
           "name": "California",
           "orientation": "v",
           "showlegend": true,
           "type": "scatter",
           "x": [
            2018
           ],
           "xaxis": "x",
           "y": [
            1177
           ],
           "yaxis": "y"
          },
          {
           "hovertemplate": "color=Colorado<br>animation_frame=2018<br>x=%{x}<br>y=%{y}<extra></extra>",
           "ids": [
            "Colorado"
           ],
           "legendgroup": "Colorado",
           "line": {
            "color": "#222A2A",
            "dash": "solid"
           },
           "marker": {
            "symbol": "circle"
           },
           "mode": "markers+lines",
           "name": "Colorado",
           "orientation": "v",
           "showlegend": true,
           "type": "scatter",
           "x": [
            2018
           ],
           "xaxis": "x",
           "y": [
            147
           ],
           "yaxis": "y"
          },
          {
           "hovertemplate": "color=Connecticut<br>animation_frame=2018<br>x=%{x}<br>y=%{y}<extra></extra>",
           "ids": [
            "Connecticut"
           ],
           "legendgroup": "Connecticut",
           "line": {
            "color": "#B68100",
            "dash": "solid"
           },
           "marker": {
            "symbol": "circle"
           },
           "mode": "markers+lines",
           "name": "Connecticut",
           "orientation": "v",
           "showlegend": true,
           "type": "scatter",
           "x": [
            2018
           ],
           "xaxis": "x",
           "y": [
            54
           ],
           "yaxis": "y"
          },
          {
           "hovertemplate": "color=Delaware<br>animation_frame=2018<br>x=%{x}<br>y=%{y}<extra></extra>",
           "ids": [
            "Delaware"
           ],
           "legendgroup": "Delaware",
           "line": {
            "color": "#750D86",
            "dash": "solid"
           },
           "marker": {
            "symbol": "circle"
           },
           "mode": "markers+lines",
           "name": "Delaware",
           "orientation": "v",
           "showlegend": true,
           "type": "scatter",
           "x": [
            2018
           ],
           "xaxis": "x",
           "y": [
            40
           ],
           "yaxis": "y"
          },
          {
           "hovertemplate": "color=District of Columbia<br>animation_frame=2018<br>x=%{x}<br>y=%{y}<extra></extra>",
           "ids": [
            "District of Columbia"
           ],
           "legendgroup": "District of Columbia",
           "line": {
            "color": "#EB663B",
            "dash": "solid"
           },
           "marker": {
            "symbol": "circle"
           },
           "mode": "markers+lines",
           "name": "District of Columbia",
           "orientation": "v",
           "showlegend": true,
           "type": "scatter",
           "x": [
            2018
           ],
           "xaxis": "x",
           "y": [
            120
           ],
           "yaxis": "y"
          },
          {
           "hovertemplate": "color=Georgia<br>animation_frame=2018<br>x=%{x}<br>y=%{y}<extra></extra>",
           "ids": [
            "Georgia"
           ],
           "legendgroup": "Georgia",
           "line": {
            "color": "#511CFB",
            "dash": "solid"
           },
           "marker": {
            "symbol": "circle"
           },
           "mode": "markers+lines",
           "name": "Georgia",
           "orientation": "v",
           "showlegend": true,
           "type": "scatter",
           "x": [
            2018
           ],
           "xaxis": "x",
           "y": [
            460
           ],
           "yaxis": "y"
          },
          {
           "hovertemplate": "color=Hawaii<br>animation_frame=2018<br>x=%{x}<br>y=%{y}<extra></extra>",
           "ids": [
            "Hawaii"
           ],
           "legendgroup": "Hawaii",
           "line": {
            "color": "#FB00D1",
            "dash": "solid"
           },
           "marker": {
            "symbol": "circle"
           },
           "mode": "markers+lines",
           "name": "Hawaii",
           "orientation": "v",
           "showlegend": true,
           "type": "scatter",
           "x": [
            2018
           ],
           "xaxis": "x",
           "y": [
            11
           ],
           "yaxis": "y"
          },
          {
           "hovertemplate": "color=Idaho<br>animation_frame=2018<br>x=%{x}<br>y=%{y}<extra></extra>",
           "ids": [
            "Idaho"
           ],
           "legendgroup": "Idaho",
           "line": {
            "color": "#FC0080",
            "dash": "solid"
           },
           "marker": {
            "symbol": "circle"
           },
           "mode": "markers+lines",
           "name": "Idaho",
           "orientation": "v",
           "showlegend": true,
           "type": "scatter",
           "x": [
            2018
           ],
           "xaxis": "x",
           "y": [
            19
           ],
           "yaxis": "y"
          },
          {
           "hovertemplate": "color=Illinois<br>animation_frame=2018<br>x=%{x}<br>y=%{y}<extra></extra>",
           "ids": [
            "Illinois"
           ],
           "legendgroup": "Illinois",
           "line": {
            "color": "#B2828D",
            "dash": "solid"
           },
           "marker": {
            "symbol": "circle"
           },
           "mode": "markers+lines",
           "name": "Illinois",
           "orientation": "v",
           "showlegend": true,
           "type": "scatter",
           "x": [
            2018
           ],
           "xaxis": "x",
           "y": [
            708
           ],
           "yaxis": "y"
          },
          {
           "hovertemplate": "color=Indiana<br>animation_frame=2018<br>x=%{x}<br>y=%{y}<extra></extra>",
           "ids": [
            "Indiana"
           ],
           "legendgroup": "Indiana",
           "line": {
            "color": "#6C7C32",
            "dash": "solid"
           },
           "marker": {
            "symbol": "circle"
           },
           "mode": "markers+lines",
           "name": "Indiana",
           "orientation": "v",
           "showlegend": true,
           "type": "scatter",
           "x": [
            2018
           ],
           "xaxis": "x",
           "y": [
            294
           ],
           "yaxis": "y"
          },
          {
           "hovertemplate": "color=Iowa<br>animation_frame=2018<br>x=%{x}<br>y=%{y}<extra></extra>",
           "ids": [
            "Iowa"
           ],
           "legendgroup": "Iowa",
           "line": {
            "color": "#778AAE",
            "dash": "solid"
           },
           "marker": {
            "symbol": "circle"
           },
           "mode": "markers+lines",
           "name": "Iowa",
           "orientation": "v",
           "showlegend": true,
           "type": "scatter",
           "x": [
            2018
           ],
           "xaxis": "x",
           "y": [
            20
           ],
           "yaxis": "y"
          },
          {
           "hovertemplate": "color=Kansas<br>animation_frame=2018<br>x=%{x}<br>y=%{y}<extra></extra>",
           "ids": [
            "Kansas"
           ],
           "legendgroup": "Kansas",
           "line": {
            "color": "#862A16",
            "dash": "solid"
           },
           "marker": {
            "symbol": "circle"
           },
           "mode": "markers+lines",
           "name": "Kansas",
           "orientation": "v",
           "showlegend": true,
           "type": "scatter",
           "x": [
            2018
           ],
           "xaxis": "x",
           "y": [
            78
           ],
           "yaxis": "y"
          },
          {
           "hovertemplate": "color=Kentucky<br>animation_frame=2018<br>x=%{x}<br>y=%{y}<extra></extra>",
           "ids": [
            "Kentucky"
           ],
           "legendgroup": "Kentucky",
           "line": {
            "color": "#A777F1",
            "dash": "solid"
           },
           "marker": {
            "symbol": "circle"
           },
           "mode": "markers+lines",
           "name": "Kentucky",
           "orientation": "v",
           "showlegend": true,
           "type": "scatter",
           "x": [
            2018
           ],
           "xaxis": "x",
           "y": [
            179
           ],
           "yaxis": "y"
          },
          {
           "hovertemplate": "color=Louisiana<br>animation_frame=2018<br>x=%{x}<br>y=%{y}<extra></extra>",
           "ids": [
            "Louisiana"
           ],
           "legendgroup": "Louisiana",
           "line": {
            "color": "#620042",
            "dash": "solid"
           },
           "marker": {
            "symbol": "circle"
           },
           "mode": "markers+lines",
           "name": "Louisiana",
           "orientation": "v",
           "showlegend": true,
           "type": "scatter",
           "x": [
            2018
           ],
           "xaxis": "x",
           "y": [
            436
           ],
           "yaxis": "y"
          },
          {
           "hovertemplate": "color=Maine<br>animation_frame=2018<br>x=%{x}<br>y=%{y}<extra></extra>",
           "ids": [
            "Maine"
           ],
           "legendgroup": "Maine",
           "line": {
            "color": "#1616A7",
            "dash": "solid"
           },
           "marker": {
            "symbol": "circle"
           },
           "mode": "markers+lines",
           "name": "Maine",
           "orientation": "v",
           "showlegend": true,
           "type": "scatter",
           "x": [
            2018
           ],
           "xaxis": "x",
           "y": [
            11
           ],
           "yaxis": "y"
          },
          {
           "hovertemplate": "color=Maryland<br>animation_frame=2018<br>x=%{x}<br>y=%{y}<extra></extra>",
           "ids": [
            "Maryland"
           ],
           "legendgroup": "Maryland",
           "line": {
            "color": "#DA60CA",
            "dash": "solid"
           },
           "marker": {
            "symbol": "circle"
           },
           "mode": "markers+lines",
           "name": "Maryland",
           "orientation": "v",
           "showlegend": true,
           "type": "scatter",
           "x": [
            2018
           ],
           "xaxis": "x",
           "y": [
            388
           ],
           "yaxis": "y"
          },
          {
           "hovertemplate": "color=Massachusetts<br>animation_frame=2018<br>x=%{x}<br>y=%{y}<extra></extra>",
           "ids": [
            "Massachusetts"
           ],
           "legendgroup": "Massachusetts",
           "line": {
            "color": "#6C4516",
            "dash": "solid"
           },
           "marker": {
            "symbol": "circle"
           },
           "mode": "markers+lines",
           "name": "Massachusetts",
           "orientation": "v",
           "showlegend": true,
           "type": "scatter",
           "x": [
            2018
           ],
           "xaxis": "x",
           "y": [
            93
           ],
           "yaxis": "y"
          },
          {
           "hovertemplate": "color=Michigan<br>animation_frame=2018<br>x=%{x}<br>y=%{y}<extra></extra>",
           "ids": [
            "Michigan"
           ],
           "legendgroup": "Michigan",
           "line": {
            "color": "#0D2A63",
            "dash": "solid"
           },
           "marker": {
            "symbol": "circle"
           },
           "mode": "markers+lines",
           "name": "Michigan",
           "orientation": "v",
           "showlegend": true,
           "type": "scatter",
           "x": [
            2018
           ],
           "xaxis": "x",
           "y": [
            394
           ],
           "yaxis": "y"
          },
          {
           "hovertemplate": "color=Minnesota<br>animation_frame=2018<br>x=%{x}<br>y=%{y}<extra></extra>",
           "ids": [
            "Minnesota"
           ],
           "legendgroup": "Minnesota",
           "line": {
            "color": "#AF0038",
            "dash": "solid"
           },
           "marker": {
            "symbol": "circle"
           },
           "mode": "markers+lines",
           "name": "Minnesota",
           "orientation": "v",
           "showlegend": true,
           "type": "scatter",
           "x": [
            2018
           ],
           "xaxis": "x",
           "y": [
            49
           ],
           "yaxis": "y"
          },
          {
           "hovertemplate": "color=Mississippi<br>animation_frame=2018<br>x=%{x}<br>y=%{y}<extra></extra>",
           "ids": [
            "Mississippi"
           ],
           "legendgroup": "Mississippi",
           "line": {
            "color": "#2E91E5",
            "dash": "solid"
           },
           "marker": {
            "symbol": "circle"
           },
           "mode": "markers+lines",
           "name": "Mississippi",
           "orientation": "v",
           "showlegend": true,
           "type": "scatter",
           "x": [
            2018
           ],
           "xaxis": "x",
           "y": [
            118
           ],
           "yaxis": "y"
          },
          {
           "hovertemplate": "color=Missouri<br>animation_frame=2018<br>x=%{x}<br>y=%{y}<extra></extra>",
           "ids": [
            "Missouri"
           ],
           "legendgroup": "Missouri",
           "line": {
            "color": "#E15F99",
            "dash": "solid"
           },
           "marker": {
            "symbol": "circle"
           },
           "mode": "markers+lines",
           "name": "Missouri",
           "orientation": "v",
           "showlegend": true,
           "type": "scatter",
           "x": [
            2018
           ],
           "xaxis": "x",
           "y": [
            473
           ],
           "yaxis": "y"
          },
          {
           "hovertemplate": "color=Montana<br>animation_frame=2018<br>x=%{x}<br>y=%{y}<extra></extra>",
           "ids": [
            "Montana"
           ],
           "legendgroup": "Montana",
           "line": {
            "color": "#1CA71C",
            "dash": "solid"
           },
           "marker": {
            "symbol": "circle"
           },
           "mode": "markers+lines",
           "name": "Montana",
           "orientation": "v",
           "showlegend": true,
           "type": "scatter",
           "x": [
            2018
           ],
           "xaxis": "x",
           "y": [
            17
           ],
           "yaxis": "y"
          },
          {
           "hovertemplate": "color=Nebraska<br>animation_frame=2018<br>x=%{x}<br>y=%{y}<extra></extra>",
           "ids": [
            "Nebraska"
           ],
           "legendgroup": "Nebraska",
           "line": {
            "color": "#FB0D0D",
            "dash": "solid"
           },
           "marker": {
            "symbol": "circle"
           },
           "mode": "markers+lines",
           "name": "Nebraska",
           "orientation": "v",
           "showlegend": true,
           "type": "scatter",
           "x": [
            2018
           ],
           "xaxis": "x",
           "y": [
            26
           ],
           "yaxis": "y"
          },
          {
           "hovertemplate": "color=Nevada<br>animation_frame=2018<br>x=%{x}<br>y=%{y}<extra></extra>",
           "ids": [
            "Nevada"
           ],
           "legendgroup": "Nevada",
           "line": {
            "color": "#DA16FF",
            "dash": "solid"
           },
           "marker": {
            "symbol": "circle"
           },
           "mode": "markers+lines",
           "name": "Nevada",
           "orientation": "v",
           "showlegend": true,
           "type": "scatter",
           "x": [
            2018
           ],
           "xaxis": "x",
           "y": [
            134
           ],
           "yaxis": "y"
          },
          {
           "hovertemplate": "color=New Hampshire<br>animation_frame=2018<br>x=%{x}<br>y=%{y}<extra></extra>",
           "ids": [
            "New Hampshire"
           ],
           "legendgroup": "New Hampshire",
           "line": {
            "color": "#222A2A",
            "dash": "solid"
           },
           "marker": {
            "symbol": "circle"
           },
           "mode": "markers+lines",
           "name": "New Hampshire",
           "orientation": "v",
           "showlegend": true,
           "type": "scatter",
           "x": [
            2018
           ],
           "xaxis": "x",
           "y": [
            12
           ],
           "yaxis": "y"
          },
          {
           "hovertemplate": "color=New Jersey<br>animation_frame=2018<br>x=%{x}<br>y=%{y}<extra></extra>",
           "ids": [
            "New Jersey"
           ],
           "legendgroup": "New Jersey",
           "line": {
            "color": "#B68100",
            "dash": "solid"
           },
           "marker": {
            "symbol": "circle"
           },
           "mode": "markers+lines",
           "name": "New Jersey",
           "orientation": "v",
           "showlegend": true,
           "type": "scatter",
           "x": [
            2018
           ],
           "xaxis": "x",
           "y": [
            202
           ],
           "yaxis": "y"
          },
          {
           "hovertemplate": "color=New Mexico<br>animation_frame=2018<br>x=%{x}<br>y=%{y}<extra></extra>",
           "ids": [
            "New Mexico"
           ],
           "legendgroup": "New Mexico",
           "line": {
            "color": "#750D86",
            "dash": "solid"
           },
           "marker": {
            "symbol": "circle"
           },
           "mode": "markers+lines",
           "name": "New Mexico",
           "orientation": "v",
           "showlegend": true,
           "type": "scatter",
           "x": [
            2018
           ],
           "xaxis": "x",
           "y": [
            87
           ],
           "yaxis": "y"
          },
          {
           "hovertemplate": "color=New York<br>animation_frame=2018<br>x=%{x}<br>y=%{y}<extra></extra>",
           "ids": [
            "New York"
           ],
           "legendgroup": "New York",
           "line": {
            "color": "#EB663B",
            "dash": "solid"
           },
           "marker": {
            "symbol": "circle"
           },
           "mode": "markers+lines",
           "name": "New York",
           "orientation": "v",
           "showlegend": true,
           "type": "scatter",
           "x": [
            2018
           ],
           "xaxis": "x",
           "y": [
            313
           ],
           "yaxis": "y"
          },
          {
           "hovertemplate": "color=North Carolina<br>animation_frame=2018<br>x=%{x}<br>y=%{y}<extra></extra>",
           "ids": [
            "North Carolina"
           ],
           "legendgroup": "North Carolina",
           "line": {
            "color": "#511CFB",
            "dash": "solid"
           },
           "marker": {
            "symbol": "circle"
           },
           "mode": "markers+lines",
           "name": "North Carolina",
           "orientation": "v",
           "showlegend": true,
           "type": "scatter",
           "x": [
            2018
           ],
           "xaxis": "x",
           "y": [
            346
           ],
           "yaxis": "y"
          },
          {
           "hovertemplate": "color=North Dakota<br>animation_frame=2018<br>x=%{x}<br>y=%{y}<extra></extra>",
           "ids": [
            "North Dakota"
           ],
           "legendgroup": "North Dakota",
           "line": {
            "color": "#00A08B",
            "dash": "solid"
           },
           "marker": {
            "symbol": "circle"
           },
           "mode": "markers+lines",
           "name": "North Dakota",
           "orientation": "v",
           "showlegend": true,
           "type": "scatter",
           "x": [
            2018
           ],
           "xaxis": "x",
           "y": [
            9
           ],
           "yaxis": "y"
          },
          {
           "hovertemplate": "color=Ohio<br>animation_frame=2018<br>x=%{x}<br>y=%{y}<extra></extra>",
           "ids": [
            "Ohio"
           ],
           "legendgroup": "Ohio",
           "line": {
            "color": "#FB00D1",
            "dash": "solid"
           },
           "marker": {
            "symbol": "circle"
           },
           "mode": "markers+lines",
           "name": "Ohio",
           "orientation": "v",
           "showlegend": true,
           "type": "scatter",
           "x": [
            2018
           ],
           "xaxis": "x",
           "y": [
            383
           ],
           "yaxis": "y"
          },
          {
           "hovertemplate": "color=Oklahoma<br>animation_frame=2018<br>x=%{x}<br>y=%{y}<extra></extra>",
           "ids": [
            "Oklahoma"
           ],
           "legendgroup": "Oklahoma",
           "line": {
            "color": "#FC0080",
            "dash": "solid"
           },
           "marker": {
            "symbol": "circle"
           },
           "mode": "markers+lines",
           "name": "Oklahoma",
           "orientation": "v",
           "showlegend": true,
           "type": "scatter",
           "x": [
            2018
           ],
           "xaxis": "x",
           "y": [
            134
           ],
           "yaxis": "y"
          },
          {
           "hovertemplate": "color=Oregon<br>animation_frame=2018<br>x=%{x}<br>y=%{y}<extra></extra>",
           "ids": [
            "Oregon"
           ],
           "legendgroup": "Oregon",
           "line": {
            "color": "#B2828D",
            "dash": "solid"
           },
           "marker": {
            "symbol": "circle"
           },
           "mode": "markers+lines",
           "name": "Oregon",
           "orientation": "v",
           "showlegend": true,
           "type": "scatter",
           "x": [
            2018
           ],
           "xaxis": "x",
           "y": [
            48
           ],
           "yaxis": "y"
          },
          {
           "hovertemplate": "color=Pennsylvania<br>animation_frame=2018<br>x=%{x}<br>y=%{y}<extra></extra>",
           "ids": [
            "Pennsylvania"
           ],
           "legendgroup": "Pennsylvania",
           "line": {
            "color": "#6C7C32",
            "dash": "solid"
           },
           "marker": {
            "symbol": "circle"
           },
           "mode": "markers+lines",
           "name": "Pennsylvania",
           "orientation": "v",
           "showlegend": true,
           "type": "scatter",
           "x": [
            2018
           ],
           "xaxis": "x",
           "y": [
            580
           ],
           "yaxis": "y"
          },
          {
           "hovertemplate": "color=Rhode Island<br>animation_frame=2018<br>x=%{x}<br>y=%{y}<extra></extra>",
           "ids": [
            "Rhode Island"
           ],
           "legendgroup": "Rhode Island",
           "line": {
            "color": "#778AAE",
            "dash": "solid"
           },
           "marker": {
            "symbol": "circle"
           },
           "mode": "markers+lines",
           "name": "Rhode Island",
           "orientation": "v",
           "showlegend": true,
           "type": "scatter",
           "x": [
            2018
           ],
           "xaxis": "x",
           "y": [
            12
           ],
           "yaxis": "y"
          },
          {
           "hovertemplate": "color=South Carolina<br>animation_frame=2018<br>x=%{x}<br>y=%{y}<extra></extra>",
           "ids": [
            "South Carolina"
           ],
           "legendgroup": "South Carolina",
           "line": {
            "color": "#862A16",
            "dash": "solid"
           },
           "marker": {
            "symbol": "circle"
           },
           "mode": "markers+lines",
           "name": "South Carolina",
           "orientation": "v",
           "showlegend": true,
           "type": "scatter",
           "x": [
            2018
           ],
           "xaxis": "x",
           "y": [
            296
           ],
           "yaxis": "y"
          },
          {
           "hovertemplate": "color=South Dakota<br>animation_frame=2018<br>x=%{x}<br>y=%{y}<extra></extra>",
           "ids": [
            "South Dakota"
           ],
           "legendgroup": "South Dakota",
           "line": {
            "color": "#A777F1",
            "dash": "solid"
           },
           "marker": {
            "symbol": "circle"
           },
           "mode": "markers+lines",
           "name": "South Dakota",
           "orientation": "v",
           "showlegend": true,
           "type": "scatter",
           "x": [
            2018
           ],
           "xaxis": "x",
           "y": [
            8
           ],
           "yaxis": "y"
          },
          {
           "hovertemplate": "color=Tennessee<br>animation_frame=2018<br>x=%{x}<br>y=%{y}<extra></extra>",
           "ids": [
            "Tennessee"
           ],
           "legendgroup": "Tennessee",
           "line": {
            "color": "#620042",
            "dash": "solid"
           },
           "marker": {
            "symbol": "circle"
           },
           "mode": "markers+lines",
           "name": "Tennessee",
           "orientation": "v",
           "showlegend": true,
           "type": "scatter",
           "x": [
            2018
           ],
           "xaxis": "x",
           "y": [
            397
           ],
           "yaxis": "y"
          },
          {
           "hovertemplate": "color=Texas<br>animation_frame=2018<br>x=%{x}<br>y=%{y}<extra></extra>",
           "ids": [
            "Texas"
           ],
           "legendgroup": "Texas",
           "line": {
            "color": "#1616A7",
            "dash": "solid"
           },
           "marker": {
            "symbol": "circle"
           },
           "mode": "markers+lines",
           "name": "Texas",
           "orientation": "v",
           "showlegend": true,
           "type": "scatter",
           "x": [
            2018
           ],
           "xaxis": "x",
           "y": [
            956
           ],
           "yaxis": "y"
          },
          {
           "hovertemplate": "color=Utah<br>animation_frame=2018<br>x=%{x}<br>y=%{y}<extra></extra>",
           "ids": [
            "Utah"
           ],
           "legendgroup": "Utah",
           "line": {
            "color": "#6C4516",
            "dash": "solid"
           },
           "marker": {
            "symbol": "circle"
           },
           "mode": "markers+lines",
           "name": "Utah",
           "orientation": "v",
           "showlegend": true,
           "type": "scatter",
           "x": [
            2018
           ],
           "xaxis": "x",
           "y": [
            28
           ],
           "yaxis": "y"
          },
          {
           "hovertemplate": "color=Vermont<br>animation_frame=2018<br>x=%{x}<br>y=%{y}<extra></extra>",
           "ids": [
            "Vermont"
           ],
           "legendgroup": "Vermont",
           "line": {
            "color": "#0D2A63",
            "dash": "solid"
           },
           "marker": {
            "symbol": "circle"
           },
           "mode": "markers+lines",
           "name": "Vermont",
           "orientation": "v",
           "showlegend": true,
           "type": "scatter",
           "x": [
            2018
           ],
           "xaxis": "x",
           "y": [
            3
           ],
           "yaxis": "y"
          },
          {
           "hovertemplate": "color=Virginia<br>animation_frame=2018<br>x=%{x}<br>y=%{y}<extra></extra>",
           "ids": [
            "Virginia"
           ],
           "legendgroup": "Virginia",
           "line": {
            "color": "#AF0038",
            "dash": "solid"
           },
           "marker": {
            "symbol": "circle"
           },
           "mode": "markers+lines",
           "name": "Virginia",
           "orientation": "v",
           "showlegend": true,
           "type": "scatter",
           "x": [
            2018
           ],
           "xaxis": "x",
           "y": [
            297
           ],
           "yaxis": "y"
          },
          {
           "hovertemplate": "color=Washington<br>animation_frame=2018<br>x=%{x}<br>y=%{y}<extra></extra>",
           "ids": [
            "Washington"
           ],
           "legendgroup": "Washington",
           "line": {
            "color": "#2E91E5",
            "dash": "solid"
           },
           "marker": {
            "symbol": "circle"
           },
           "mode": "markers+lines",
           "name": "Washington",
           "orientation": "v",
           "showlegend": true,
           "type": "scatter",
           "x": [
            2018
           ],
           "xaxis": "x",
           "y": [
            138
           ],
           "yaxis": "y"
          },
          {
           "hovertemplate": "color=West Virginia<br>animation_frame=2018<br>x=%{x}<br>y=%{y}<extra></extra>",
           "ids": [
            "West Virginia"
           ],
           "legendgroup": "West Virginia",
           "line": {
            "color": "#E15F99",
            "dash": "solid"
           },
           "marker": {
            "symbol": "circle"
           },
           "mode": "markers+lines",
           "name": "West Virginia",
           "orientation": "v",
           "showlegend": true,
           "type": "scatter",
           "x": [
            2018
           ],
           "xaxis": "x",
           "y": [
            34
           ],
           "yaxis": "y"
          },
          {
           "hovertemplate": "color=Wisconsin<br>animation_frame=2018<br>x=%{x}<br>y=%{y}<extra></extra>",
           "ids": [
            "Wisconsin"
           ],
           "legendgroup": "Wisconsin",
           "line": {
            "color": "#1CA71C",
            "dash": "solid"
           },
           "marker": {
            "symbol": "circle"
           },
           "mode": "markers+lines",
           "name": "Wisconsin",
           "orientation": "v",
           "showlegend": true,
           "type": "scatter",
           "x": [
            2018
           ],
           "xaxis": "x",
           "y": [
            136
           ],
           "yaxis": "y"
          },
          {
           "hovertemplate": "color=Wyoming<br>animation_frame=2018<br>x=%{x}<br>y=%{y}<extra></extra>",
           "ids": [
            "Wyoming"
           ],
           "legendgroup": "Wyoming",
           "line": {
            "color": "#FB0D0D",
            "dash": "solid"
           },
           "marker": {
            "symbol": "circle"
           },
           "mode": "markers+lines",
           "name": "Wyoming",
           "orientation": "v",
           "showlegend": true,
           "type": "scatter",
           "x": [
            2018
           ],
           "xaxis": "x",
           "y": [
            8
           ],
           "yaxis": "y"
          }
         ],
         "name": "2018"
        },
        {
         "data": [
          {
           "hovertemplate": "color=Alabama<br>animation_frame=2019<br>x=%{x}<br>y=%{y}<extra></extra>",
           "ids": [
            "Alabama"
           ],
           "legendgroup": "Alabama",
           "line": {
            "color": "#2E91E5",
            "dash": "solid"
           },
           "marker": {
            "symbol": "circle"
           },
           "mode": "markers+lines",
           "name": "Alabama",
           "orientation": "v",
           "showlegend": true,
           "type": "scatter",
           "x": [
            2019
           ],
           "xaxis": "x",
           "y": [
            3
           ],
           "yaxis": "y"
          },
          {
           "hovertemplate": "color=Alaska<br>animation_frame=2019<br>x=%{x}<br>y=%{y}<extra></extra>",
           "ids": [
            "Alaska"
           ],
           "legendgroup": "Alaska",
           "line": {
            "color": "#E15F99",
            "dash": "solid"
           },
           "marker": {
            "symbol": "circle"
           },
           "mode": "markers+lines",
           "name": "Alaska",
           "orientation": "v",
           "showlegend": true,
           "type": "scatter",
           "x": [
            2019
           ],
           "xaxis": "x",
           "y": [
            44
           ],
           "yaxis": "y"
          },
          {
           "hovertemplate": "color=Arizona<br>animation_frame=2019<br>x=%{x}<br>y=%{y}<extra></extra>",
           "ids": [
            "Arizona"
           ],
           "legendgroup": "Arizona",
           "line": {
            "color": "#1CA71C",
            "dash": "solid"
           },
           "marker": {
            "symbol": "circle"
           },
           "mode": "markers+lines",
           "name": "Arizona",
           "orientation": "v",
           "showlegend": true,
           "type": "scatter",
           "x": [
            2019
           ],
           "xaxis": "x",
           "y": [
            213
           ],
           "yaxis": "y"
          },
          {
           "hovertemplate": "color=Arkansas<br>animation_frame=2019<br>x=%{x}<br>y=%{y}<extra></extra>",
           "ids": [
            "Arkansas"
           ],
           "legendgroup": "Arkansas",
           "line": {
            "color": "#FB0D0D",
            "dash": "solid"
           },
           "marker": {
            "symbol": "circle"
           },
           "mode": "markers+lines",
           "name": "Arkansas",
           "orientation": "v",
           "showlegend": true,
           "type": "scatter",
           "x": [
            2019
           ],
           "xaxis": "x",
           "y": [
            177
           ],
           "yaxis": "y"
          },
          {
           "hovertemplate": "color=California<br>animation_frame=2019<br>x=%{x}<br>y=%{y}<extra></extra>",
           "ids": [
            "California"
           ],
           "legendgroup": "California",
           "line": {
            "color": "#DA16FF",
            "dash": "solid"
           },
           "marker": {
            "symbol": "circle"
           },
           "mode": "markers+lines",
           "name": "California",
           "orientation": "v",
           "showlegend": true,
           "type": "scatter",
           "x": [
            2019
           ],
           "xaxis": "x",
           "y": [
            1142
           ],
           "yaxis": "y"
          },
          {
           "hovertemplate": "color=Colorado<br>animation_frame=2019<br>x=%{x}<br>y=%{y}<extra></extra>",
           "ids": [
            "Colorado"
           ],
           "legendgroup": "Colorado",
           "line": {
            "color": "#222A2A",
            "dash": "solid"
           },
           "marker": {
            "symbol": "circle"
           },
           "mode": "markers+lines",
           "name": "Colorado",
           "orientation": "v",
           "showlegend": true,
           "type": "scatter",
           "x": [
            2019
           ],
           "xaxis": "x",
           "y": [
            135
           ],
           "yaxis": "y"
          },
          {
           "hovertemplate": "color=Connecticut<br>animation_frame=2019<br>x=%{x}<br>y=%{y}<extra></extra>",
           "ids": [
            "Connecticut"
           ],
           "legendgroup": "Connecticut",
           "line": {
            "color": "#B68100",
            "dash": "solid"
           },
           "marker": {
            "symbol": "circle"
           },
           "mode": "markers+lines",
           "name": "Connecticut",
           "orientation": "v",
           "showlegend": true,
           "type": "scatter",
           "x": [
            2019
           ],
           "xaxis": "x",
           "y": [
            65
           ],
           "yaxis": "y"
          },
          {
           "hovertemplate": "color=Delaware<br>animation_frame=2019<br>x=%{x}<br>y=%{y}<extra></extra>",
           "ids": [
            "Delaware"
           ],
           "legendgroup": "Delaware",
           "line": {
            "color": "#750D86",
            "dash": "solid"
           },
           "marker": {
            "symbol": "circle"
           },
           "mode": "markers+lines",
           "name": "Delaware",
           "orientation": "v",
           "showlegend": true,
           "type": "scatter",
           "x": [
            2019
           ],
           "xaxis": "x",
           "y": [
            40
           ],
           "yaxis": "y"
          },
          {
           "hovertemplate": "color=District of Columbia<br>animation_frame=2019<br>x=%{x}<br>y=%{y}<extra></extra>",
           "ids": [
            "District of Columbia"
           ],
           "legendgroup": "District of Columbia",
           "line": {
            "color": "#EB663B",
            "dash": "solid"
           },
           "marker": {
            "symbol": "circle"
           },
           "mode": "markers+lines",
           "name": "District of Columbia",
           "orientation": "v",
           "showlegend": true,
           "type": "scatter",
           "x": [
            2019
           ],
           "xaxis": "x",
           "y": [
            136
           ],
           "yaxis": "y"
          },
          {
           "hovertemplate": "color=Georgia<br>animation_frame=2019<br>x=%{x}<br>y=%{y}<extra></extra>",
           "ids": [
            "Georgia"
           ],
           "legendgroup": "Georgia",
           "line": {
            "color": "#511CFB",
            "dash": "solid"
           },
           "marker": {
            "symbol": "circle"
           },
           "mode": "markers+lines",
           "name": "Georgia",
           "orientation": "v",
           "showlegend": true,
           "type": "scatter",
           "x": [
            2019
           ],
           "xaxis": "x",
           "y": [
            367
           ],
           "yaxis": "y"
          },
          {
           "hovertemplate": "color=Hawaii<br>animation_frame=2019<br>x=%{x}<br>y=%{y}<extra></extra>",
           "ids": [
            "Hawaii"
           ],
           "legendgroup": "Hawaii",
           "line": {
            "color": "#FB00D1",
            "dash": "solid"
           },
           "marker": {
            "symbol": "circle"
           },
           "mode": "markers+lines",
           "name": "Hawaii",
           "orientation": "v",
           "showlegend": true,
           "type": "scatter",
           "x": [
            2019
           ],
           "xaxis": "x",
           "y": [
            9
           ],
           "yaxis": "y"
          },
          {
           "hovertemplate": "color=Idaho<br>animation_frame=2019<br>x=%{x}<br>y=%{y}<extra></extra>",
           "ids": [
            "Idaho"
           ],
           "legendgroup": "Idaho",
           "line": {
            "color": "#FC0080",
            "dash": "solid"
           },
           "marker": {
            "symbol": "circle"
           },
           "mode": "markers+lines",
           "name": "Idaho",
           "orientation": "v",
           "showlegend": true,
           "type": "scatter",
           "x": [
            2019
           ],
           "xaxis": "x",
           "y": [
            16
           ],
           "yaxis": "y"
          },
          {
           "hovertemplate": "color=Illinois<br>animation_frame=2019<br>x=%{x}<br>y=%{y}<extra></extra>",
           "ids": [
            "Illinois"
           ],
           "legendgroup": "Illinois",
           "line": {
            "color": "#B2828D",
            "dash": "solid"
           },
           "marker": {
            "symbol": "circle"
           },
           "mode": "markers+lines",
           "name": "Illinois",
           "orientation": "v",
           "showlegend": true,
           "type": "scatter",
           "x": [
            2019
           ],
           "xaxis": "x",
           "y": [
            647
           ],
           "yaxis": "y"
          },
          {
           "hovertemplate": "color=Indiana<br>animation_frame=2019<br>x=%{x}<br>y=%{y}<extra></extra>",
           "ids": [
            "Indiana"
           ],
           "legendgroup": "Indiana",
           "line": {
            "color": "#6C7C32",
            "dash": "solid"
           },
           "marker": {
            "symbol": "circle"
           },
           "mode": "markers+lines",
           "name": "Indiana",
           "orientation": "v",
           "showlegend": true,
           "type": "scatter",
           "x": [
            2019
           ],
           "xaxis": "x",
           "y": [
            185
           ],
           "yaxis": "y"
          },
          {
           "hovertemplate": "color=Iowa<br>animation_frame=2019<br>x=%{x}<br>y=%{y}<extra></extra>",
           "ids": [
            "Iowa"
           ],
           "legendgroup": "Iowa",
           "line": {
            "color": "#778AAE",
            "dash": "solid"
           },
           "marker": {
            "symbol": "circle"
           },
           "mode": "markers+lines",
           "name": "Iowa",
           "orientation": "v",
           "showlegend": true,
           "type": "scatter",
           "x": [
            2019
           ],
           "xaxis": "x",
           "y": [
            36
           ],
           "yaxis": "y"
          },
          {
           "hovertemplate": "color=Kansas<br>animation_frame=2019<br>x=%{x}<br>y=%{y}<extra></extra>",
           "ids": [
            "Kansas"
           ],
           "legendgroup": "Kansas",
           "line": {
            "color": "#862A16",
            "dash": "solid"
           },
           "marker": {
            "symbol": "circle"
           },
           "mode": "markers+lines",
           "name": "Kansas",
           "orientation": "v",
           "showlegend": true,
           "type": "scatter",
           "x": [
            2019
           ],
           "xaxis": "x",
           "y": [
            56
           ],
           "yaxis": "y"
          },
          {
           "hovertemplate": "color=Kentucky<br>animation_frame=2019<br>x=%{x}<br>y=%{y}<extra></extra>",
           "ids": [
            "Kentucky"
           ],
           "legendgroup": "Kentucky",
           "line": {
            "color": "#A777F1",
            "dash": "solid"
           },
           "marker": {
            "symbol": "circle"
           },
           "mode": "markers+lines",
           "name": "Kentucky",
           "orientation": "v",
           "showlegend": true,
           "type": "scatter",
           "x": [
            2019
           ],
           "xaxis": "x",
           "y": [
            174
           ],
           "yaxis": "y"
          },
          {
           "hovertemplate": "color=Louisiana<br>animation_frame=2019<br>x=%{x}<br>y=%{y}<extra></extra>",
           "ids": [
            "Louisiana"
           ],
           "legendgroup": "Louisiana",
           "line": {
            "color": "#620042",
            "dash": "solid"
           },
           "marker": {
            "symbol": "circle"
           },
           "mode": "markers+lines",
           "name": "Louisiana",
           "orientation": "v",
           "showlegend": true,
           "type": "scatter",
           "x": [
            2019
           ],
           "xaxis": "x",
           "y": [
            433
           ],
           "yaxis": "y"
          },
          {
           "hovertemplate": "color=Maine<br>animation_frame=2019<br>x=%{x}<br>y=%{y}<extra></extra>",
           "ids": [
            "Maine"
           ],
           "legendgroup": "Maine",
           "line": {
            "color": "#1616A7",
            "dash": "solid"
           },
           "marker": {
            "symbol": "circle"
           },
           "mode": "markers+lines",
           "name": "Maine",
           "orientation": "v",
           "showlegend": true,
           "type": "scatter",
           "x": [
            2019
           ],
           "xaxis": "x",
           "y": [
            13
           ],
           "yaxis": "y"
          },
          {
           "hovertemplate": "color=Maryland<br>animation_frame=2019<br>x=%{x}<br>y=%{y}<extra></extra>",
           "ids": [
            "Maryland"
           ],
           "legendgroup": "Maryland",
           "line": {
            "color": "#DA60CA",
            "dash": "solid"
           },
           "marker": {
            "symbol": "circle"
           },
           "mode": "markers+lines",
           "name": "Maryland",
           "orientation": "v",
           "showlegend": true,
           "type": "scatter",
           "x": [
            2019
           ],
           "xaxis": "x",
           "y": [
            460
           ],
           "yaxis": "y"
          },
          {
           "hovertemplate": "color=Massachusetts<br>animation_frame=2019<br>x=%{x}<br>y=%{y}<extra></extra>",
           "ids": [
            "Massachusetts"
           ],
           "legendgroup": "Massachusetts",
           "line": {
            "color": "#6C4516",
            "dash": "solid"
           },
           "marker": {
            "symbol": "circle"
           },
           "mode": "markers+lines",
           "name": "Massachusetts",
           "orientation": "v",
           "showlegend": true,
           "type": "scatter",
           "x": [
            2019
           ],
           "xaxis": "x",
           "y": [
            86
           ],
           "yaxis": "y"
          },
          {
           "hovertemplate": "color=Michigan<br>animation_frame=2019<br>x=%{x}<br>y=%{y}<extra></extra>",
           "ids": [
            "Michigan"
           ],
           "legendgroup": "Michigan",
           "line": {
            "color": "#0D2A63",
            "dash": "solid"
           },
           "marker": {
            "symbol": "circle"
           },
           "mode": "markers+lines",
           "name": "Michigan",
           "orientation": "v",
           "showlegend": true,
           "type": "scatter",
           "x": [
            2019
           ],
           "xaxis": "x",
           "y": [
            379
           ],
           "yaxis": "y"
          },
          {
           "hovertemplate": "color=Minnesota<br>animation_frame=2019<br>x=%{x}<br>y=%{y}<extra></extra>",
           "ids": [
            "Minnesota"
           ],
           "legendgroup": "Minnesota",
           "line": {
            "color": "#AF0038",
            "dash": "solid"
           },
           "marker": {
            "symbol": "circle"
           },
           "mode": "markers+lines",
           "name": "Minnesota",
           "orientation": "v",
           "showlegend": true,
           "type": "scatter",
           "x": [
            2019
           ],
           "xaxis": "x",
           "y": [
            79
           ],
           "yaxis": "y"
          },
          {
           "hovertemplate": "color=Mississippi<br>animation_frame=2019<br>x=%{x}<br>y=%{y}<extra></extra>",
           "ids": [
            "Mississippi"
           ],
           "legendgroup": "Mississippi",
           "line": {
            "color": "#2E91E5",
            "dash": "solid"
           },
           "marker": {
            "symbol": "circle"
           },
           "mode": "markers+lines",
           "name": "Mississippi",
           "orientation": "v",
           "showlegend": true,
           "type": "scatter",
           "x": [
            2019
           ],
           "xaxis": "x",
           "y": [
            153
           ],
           "yaxis": "y"
          },
          {
           "hovertemplate": "color=Missouri<br>animation_frame=2019<br>x=%{x}<br>y=%{y}<extra></extra>",
           "ids": [
            "Missouri"
           ],
           "legendgroup": "Missouri",
           "line": {
            "color": "#E15F99",
            "dash": "solid"
           },
           "marker": {
            "symbol": "circle"
           },
           "mode": "markers+lines",
           "name": "Missouri",
           "orientation": "v",
           "showlegend": true,
           "type": "scatter",
           "x": [
            2019
           ],
           "xaxis": "x",
           "y": [
            486
           ],
           "yaxis": "y"
          },
          {
           "hovertemplate": "color=Montana<br>animation_frame=2019<br>x=%{x}<br>y=%{y}<extra></extra>",
           "ids": [
            "Montana"
           ],
           "legendgroup": "Montana",
           "line": {
            "color": "#1CA71C",
            "dash": "solid"
           },
           "marker": {
            "symbol": "circle"
           },
           "mode": "markers+lines",
           "name": "Montana",
           "orientation": "v",
           "showlegend": true,
           "type": "scatter",
           "x": [
            2019
           ],
           "xaxis": "x",
           "y": [
            16
           ],
           "yaxis": "y"
          },
          {
           "hovertemplate": "color=Nebraska<br>animation_frame=2019<br>x=%{x}<br>y=%{y}<extra></extra>",
           "ids": [
            "Nebraska"
           ],
           "legendgroup": "Nebraska",
           "line": {
            "color": "#FB0D0D",
            "dash": "solid"
           },
           "marker": {
            "symbol": "circle"
           },
           "mode": "markers+lines",
           "name": "Nebraska",
           "orientation": "v",
           "showlegend": true,
           "type": "scatter",
           "x": [
            2019
           ],
           "xaxis": "x",
           "y": [
            35
           ],
           "yaxis": "y"
          },
          {
           "hovertemplate": "color=Nevada<br>animation_frame=2019<br>x=%{x}<br>y=%{y}<extra></extra>",
           "ids": [
            "Nevada"
           ],
           "legendgroup": "Nevada",
           "line": {
            "color": "#DA16FF",
            "dash": "solid"
           },
           "marker": {
            "symbol": "circle"
           },
           "mode": "markers+lines",
           "name": "Nevada",
           "orientation": "v",
           "showlegend": true,
           "type": "scatter",
           "x": [
            2019
           ],
           "xaxis": "x",
           "y": [
            94
           ],
           "yaxis": "y"
          },
          {
           "hovertemplate": "color=New Hampshire<br>animation_frame=2019<br>x=%{x}<br>y=%{y}<extra></extra>",
           "ids": [
            "New Hampshire"
           ],
           "legendgroup": "New Hampshire",
           "line": {
            "color": "#222A2A",
            "dash": "solid"
           },
           "marker": {
            "symbol": "circle"
           },
           "mode": "markers+lines",
           "name": "New Hampshire",
           "orientation": "v",
           "showlegend": true,
           "type": "scatter",
           "x": [
            2019
           ],
           "xaxis": "x",
           "y": [
            16
           ],
           "yaxis": "y"
          },
          {
           "hovertemplate": "color=New Jersey<br>animation_frame=2019<br>x=%{x}<br>y=%{y}<extra></extra>",
           "ids": [
            "New Jersey"
           ],
           "legendgroup": "New Jersey",
           "line": {
            "color": "#B68100",
            "dash": "solid"
           },
           "marker": {
            "symbol": "circle"
           },
           "mode": "markers+lines",
           "name": "New Jersey",
           "orientation": "v",
           "showlegend": true,
           "type": "scatter",
           "x": [
            2019
           ],
           "xaxis": "x",
           "y": [
            176
           ],
           "yaxis": "y"
          },
          {
           "hovertemplate": "color=New Mexico<br>animation_frame=2019<br>x=%{x}<br>y=%{y}<extra></extra>",
           "ids": [
            "New Mexico"
           ],
           "legendgroup": "New Mexico",
           "line": {
            "color": "#750D86",
            "dash": "solid"
           },
           "marker": {
            "symbol": "circle"
           },
           "mode": "markers+lines",
           "name": "New Mexico",
           "orientation": "v",
           "showlegend": true,
           "type": "scatter",
           "x": [
            2019
           ],
           "xaxis": "x",
           "y": [
            96
           ],
           "yaxis": "y"
          },
          {
           "hovertemplate": "color=New York<br>animation_frame=2019<br>x=%{x}<br>y=%{y}<extra></extra>",
           "ids": [
            "New York"
           ],
           "legendgroup": "New York",
           "line": {
            "color": "#EB663B",
            "dash": "solid"
           },
           "marker": {
            "symbol": "circle"
           },
           "mode": "markers+lines",
           "name": "New York",
           "orientation": "v",
           "showlegend": true,
           "type": "scatter",
           "x": [
            2019
           ],
           "xaxis": "x",
           "y": [
            298
           ],
           "yaxis": "y"
          },
          {
           "hovertemplate": "color=North Carolina<br>animation_frame=2019<br>x=%{x}<br>y=%{y}<extra></extra>",
           "ids": [
            "North Carolina"
           ],
           "legendgroup": "North Carolina",
           "line": {
            "color": "#511CFB",
            "dash": "solid"
           },
           "marker": {
            "symbol": "circle"
           },
           "mode": "markers+lines",
           "name": "North Carolina",
           "orientation": "v",
           "showlegend": true,
           "type": "scatter",
           "x": [
            2019
           ],
           "xaxis": "x",
           "y": [
            383
           ],
           "yaxis": "y"
          },
          {
           "hovertemplate": "color=North Dakota<br>animation_frame=2019<br>x=%{x}<br>y=%{y}<extra></extra>",
           "ids": [
            "North Dakota"
           ],
           "legendgroup": "North Dakota",
           "line": {
            "color": "#00A08B",
            "dash": "solid"
           },
           "marker": {
            "symbol": "circle"
           },
           "mode": "markers+lines",
           "name": "North Dakota",
           "orientation": "v",
           "showlegend": true,
           "type": "scatter",
           "x": [
            2019
           ],
           "xaxis": "x",
           "y": [
            13
           ],
           "yaxis": "y"
          },
          {
           "hovertemplate": "color=Ohio<br>animation_frame=2019<br>x=%{x}<br>y=%{y}<extra></extra>",
           "ids": [
            "Ohio"
           ],
           "legendgroup": "Ohio",
           "line": {
            "color": "#FB00D1",
            "dash": "solid"
           },
           "marker": {
            "symbol": "circle"
           },
           "mode": "markers+lines",
           "name": "Ohio",
           "orientation": "v",
           "showlegend": true,
           "type": "scatter",
           "x": [
            2019
           ],
           "xaxis": "x",
           "y": [
            382
           ],
           "yaxis": "y"
          },
          {
           "hovertemplate": "color=Oklahoma<br>animation_frame=2019<br>x=%{x}<br>y=%{y}<extra></extra>",
           "ids": [
            "Oklahoma"
           ],
           "legendgroup": "Oklahoma",
           "line": {
            "color": "#FC0080",
            "dash": "solid"
           },
           "marker": {
            "symbol": "circle"
           },
           "mode": "markers+lines",
           "name": "Oklahoma",
           "orientation": "v",
           "showlegend": true,
           "type": "scatter",
           "x": [
            2019
           ],
           "xaxis": "x",
           "y": [
            189
           ],
           "yaxis": "y"
          },
          {
           "hovertemplate": "color=Oregon<br>animation_frame=2019<br>x=%{x}<br>y=%{y}<extra></extra>",
           "ids": [
            "Oregon"
           ],
           "legendgroup": "Oregon",
           "line": {
            "color": "#B2828D",
            "dash": "solid"
           },
           "marker": {
            "symbol": "circle"
           },
           "mode": "markers+lines",
           "name": "Oregon",
           "orientation": "v",
           "showlegend": true,
           "type": "scatter",
           "x": [
            2019
           ],
           "xaxis": "x",
           "y": [
            61
           ],
           "yaxis": "y"
          },
          {
           "hovertemplate": "color=Pennsylvania<br>animation_frame=2019<br>x=%{x}<br>y=%{y}<extra></extra>",
           "ids": [
            "Pennsylvania"
           ],
           "legendgroup": "Pennsylvania",
           "line": {
            "color": "#6C7C32",
            "dash": "solid"
           },
           "marker": {
            "symbol": "circle"
           },
           "mode": "markers+lines",
           "name": "Pennsylvania",
           "orientation": "v",
           "showlegend": true,
           "type": "scatter",
           "x": [
            2019
           ],
           "xaxis": "x",
           "y": [
            429
           ],
           "yaxis": "y"
          },
          {
           "hovertemplate": "color=Rhode Island<br>animation_frame=2019<br>x=%{x}<br>y=%{y}<extra></extra>",
           "ids": [
            "Rhode Island"
           ],
           "legendgroup": "Rhode Island",
           "line": {
            "color": "#778AAE",
            "dash": "solid"
           },
           "marker": {
            "symbol": "circle"
           },
           "mode": "markers+lines",
           "name": "Rhode Island",
           "orientation": "v",
           "showlegend": true,
           "type": "scatter",
           "x": [
            2019
           ],
           "xaxis": "x",
           "y": [
            10
           ],
           "yaxis": "y"
          },
          {
           "hovertemplate": "color=South Carolina<br>animation_frame=2019<br>x=%{x}<br>y=%{y}<extra></extra>",
           "ids": [
            "South Carolina"
           ],
           "legendgroup": "South Carolina",
           "line": {
            "color": "#862A16",
            "dash": "solid"
           },
           "marker": {
            "symbol": "circle"
           },
           "mode": "markers+lines",
           "name": "South Carolina",
           "orientation": "v",
           "showlegend": true,
           "type": "scatter",
           "x": [
            2019
           ],
           "xaxis": "x",
           "y": [
            381
           ],
           "yaxis": "y"
          },
          {
           "hovertemplate": "color=South Dakota<br>animation_frame=2019<br>x=%{x}<br>y=%{y}<extra></extra>",
           "ids": [
            "South Dakota"
           ],
           "legendgroup": "South Dakota",
           "line": {
            "color": "#A777F1",
            "dash": "solid"
           },
           "marker": {
            "symbol": "circle"
           },
           "mode": "markers+lines",
           "name": "South Dakota",
           "orientation": "v",
           "showlegend": true,
           "type": "scatter",
           "x": [
            2019
           ],
           "xaxis": "x",
           "y": [
            7
           ],
           "yaxis": "y"
          },
          {
           "hovertemplate": "color=Tennessee<br>animation_frame=2019<br>x=%{x}<br>y=%{y}<extra></extra>",
           "ids": [
            "Tennessee"
           ],
           "legendgroup": "Tennessee",
           "line": {
            "color": "#620042",
            "dash": "solid"
           },
           "marker": {
            "symbol": "circle"
           },
           "mode": "markers+lines",
           "name": "Tennessee",
           "orientation": "v",
           "showlegend": true,
           "type": "scatter",
           "x": [
            2019
           ],
           "xaxis": "x",
           "y": [
            391
           ],
           "yaxis": "y"
          },
          {
           "hovertemplate": "color=Texas<br>animation_frame=2019<br>x=%{x}<br>y=%{y}<extra></extra>",
           "ids": [
            "Texas"
           ],
           "legendgroup": "Texas",
           "line": {
            "color": "#1616A7",
            "dash": "solid"
           },
           "marker": {
            "symbol": "circle"
           },
           "mode": "markers+lines",
           "name": "Texas",
           "orientation": "v",
           "showlegend": true,
           "type": "scatter",
           "x": [
            2019
           ],
           "xaxis": "x",
           "y": [
            1064
           ],
           "yaxis": "y"
          },
          {
           "hovertemplate": "color=Utah<br>animation_frame=2019<br>x=%{x}<br>y=%{y}<extra></extra>",
           "ids": [
            "Utah"
           ],
           "legendgroup": "Utah",
           "line": {
            "color": "#6C4516",
            "dash": "solid"
           },
           "marker": {
            "symbol": "circle"
           },
           "mode": "markers+lines",
           "name": "Utah",
           "orientation": "v",
           "showlegend": true,
           "type": "scatter",
           "x": [
            2019
           ],
           "xaxis": "x",
           "y": [
            41
           ],
           "yaxis": "y"
          },
          {
           "hovertemplate": "color=Vermont<br>animation_frame=2019<br>x=%{x}<br>y=%{y}<extra></extra>",
           "ids": [
            "Vermont"
           ],
           "legendgroup": "Vermont",
           "line": {
            "color": "#0D2A63",
            "dash": "solid"
           },
           "marker": {
            "symbol": "circle"
           },
           "mode": "markers+lines",
           "name": "Vermont",
           "orientation": "v",
           "showlegend": true,
           "type": "scatter",
           "x": [
            2019
           ],
           "xaxis": "x",
           "y": [
            8
           ],
           "yaxis": "y"
          },
          {
           "hovertemplate": "color=Virginia<br>animation_frame=2019<br>x=%{x}<br>y=%{y}<extra></extra>",
           "ids": [
            "Virginia"
           ],
           "legendgroup": "Virginia",
           "line": {
            "color": "#AF0038",
            "dash": "solid"
           },
           "marker": {
            "symbol": "circle"
           },
           "mode": "markers+lines",
           "name": "Virginia",
           "orientation": "v",
           "showlegend": true,
           "type": "scatter",
           "x": [
            2019
           ],
           "xaxis": "x",
           "y": [
            323
           ],
           "yaxis": "y"
          },
          {
           "hovertemplate": "color=Washington<br>animation_frame=2019<br>x=%{x}<br>y=%{y}<extra></extra>",
           "ids": [
            "Washington"
           ],
           "legendgroup": "Washington",
           "line": {
            "color": "#2E91E5",
            "dash": "solid"
           },
           "marker": {
            "symbol": "circle"
           },
           "mode": "markers+lines",
           "name": "Washington",
           "orientation": "v",
           "showlegend": true,
           "type": "scatter",
           "x": [
            2019
           ],
           "xaxis": "x",
           "y": [
            135
           ],
           "yaxis": "y"
          },
          {
           "hovertemplate": "color=West Virginia<br>animation_frame=2019<br>x=%{x}<br>y=%{y}<extra></extra>",
           "ids": [
            "West Virginia"
           ],
           "legendgroup": "West Virginia",
           "line": {
            "color": "#E15F99",
            "dash": "solid"
           },
           "marker": {
            "symbol": "circle"
           },
           "mode": "markers+lines",
           "name": "West Virginia",
           "orientation": "v",
           "showlegend": true,
           "type": "scatter",
           "x": [
            2019
           ],
           "xaxis": "x",
           "y": [
            48
           ],
           "yaxis": "y"
          },
          {
           "hovertemplate": "color=Wisconsin<br>animation_frame=2019<br>x=%{x}<br>y=%{y}<extra></extra>",
           "ids": [
            "Wisconsin"
           ],
           "legendgroup": "Wisconsin",
           "line": {
            "color": "#1CA71C",
            "dash": "solid"
           },
           "marker": {
            "symbol": "circle"
           },
           "mode": "markers+lines",
           "name": "Wisconsin",
           "orientation": "v",
           "showlegend": true,
           "type": "scatter",
           "x": [
            2019
           ],
           "xaxis": "x",
           "y": [
            119
           ],
           "yaxis": "y"
          },
          {
           "hovertemplate": "color=Wyoming<br>animation_frame=2019<br>x=%{x}<br>y=%{y}<extra></extra>",
           "ids": [
            "Wyoming"
           ],
           "legendgroup": "Wyoming",
           "line": {
            "color": "#FB0D0D",
            "dash": "solid"
           },
           "marker": {
            "symbol": "circle"
           },
           "mode": "markers+lines",
           "name": "Wyoming",
           "orientation": "v",
           "showlegend": true,
           "type": "scatter",
           "x": [
            2019
           ],
           "xaxis": "x",
           "y": [
            9
           ],
           "yaxis": "y"
          },
          {
           "hovertemplate": "color=Florida<br>animation_frame=2019<br>x=%{x}<br>y=%{y}<extra></extra>",
           "ids": [
            "Florida"
           ],
           "legendgroup": "Florida",
           "line": {
            "color": "#DA16FF",
            "dash": "solid"
           },
           "marker": {
            "symbol": "circle"
           },
           "mode": "markers+lines",
           "name": "Florida",
           "orientation": "v",
           "showlegend": true,
           "type": "scatter",
           "x": [
            2019
           ],
           "xaxis": "x",
           "y": [
            0
           ],
           "yaxis": "y"
          }
         ],
         "name": "2019"
        }
       ],
       "layout": {
        "legend": {
         "title": {
          "text": "color"
         },
         "tracegroupgap": 0
        },
        "margin": {
         "t": 60
        },
        "sliders": [
         {
          "active": 0,
          "currentvalue": {
           "prefix": "animation_frame="
          },
          "len": 0.9,
          "pad": {
           "b": 10,
           "t": 60
          },
          "steps": [
           {
            "args": [
             [
              "2015"
             ],
             {
              "frame": {
               "duration": 0,
               "redraw": false
              },
              "fromcurrent": true,
              "mode": "immediate",
              "transition": {
               "duration": 0,
               "easing": "linear"
              }
             }
            ],
            "label": "2015",
            "method": "animate"
           },
           {
            "args": [
             [
              "2016"
             ],
             {
              "frame": {
               "duration": 0,
               "redraw": false
              },
              "fromcurrent": true,
              "mode": "immediate",
              "transition": {
               "duration": 0,
               "easing": "linear"
              }
             }
            ],
            "label": "2016",
            "method": "animate"
           },
           {
            "args": [
             [
              "2017"
             ],
             {
              "frame": {
               "duration": 0,
               "redraw": false
              },
              "fromcurrent": true,
              "mode": "immediate",
              "transition": {
               "duration": 0,
               "easing": "linear"
              }
             }
            ],
            "label": "2017",
            "method": "animate"
           },
           {
            "args": [
             [
              "2018"
             ],
             {
              "frame": {
               "duration": 0,
               "redraw": false
              },
              "fromcurrent": true,
              "mode": "immediate",
              "transition": {
               "duration": 0,
               "easing": "linear"
              }
             }
            ],
            "label": "2018",
            "method": "animate"
           },
           {
            "args": [
             [
              "2019"
             ],
             {
              "frame": {
               "duration": 0,
               "redraw": false
              },
              "fromcurrent": true,
              "mode": "immediate",
              "transition": {
               "duration": 0,
               "easing": "linear"
              }
             }
            ],
            "label": "2019",
            "method": "animate"
           }
          ],
          "x": 0.1,
          "xanchor": "left",
          "y": 0,
          "yanchor": "top"
         }
        ],
        "template": {
         "data": {
          "bar": [
           {
            "error_x": {
             "color": "#2a3f5f"
            },
            "error_y": {
             "color": "#2a3f5f"
            },
            "marker": {
             "line": {
              "color": "#E5ECF6",
              "width": 0.5
             },
             "pattern": {
              "fillmode": "overlay",
              "size": 10,
              "solidity": 0.2
             }
            },
            "type": "bar"
           }
          ],
          "barpolar": [
           {
            "marker": {
             "line": {
              "color": "#E5ECF6",
              "width": 0.5
             },
             "pattern": {
              "fillmode": "overlay",
              "size": 10,
              "solidity": 0.2
             }
            },
            "type": "barpolar"
           }
          ],
          "carpet": [
           {
            "aaxis": {
             "endlinecolor": "#2a3f5f",
             "gridcolor": "white",
             "linecolor": "white",
             "minorgridcolor": "white",
             "startlinecolor": "#2a3f5f"
            },
            "baxis": {
             "endlinecolor": "#2a3f5f",
             "gridcolor": "white",
             "linecolor": "white",
             "minorgridcolor": "white",
             "startlinecolor": "#2a3f5f"
            },
            "type": "carpet"
           }
          ],
          "choropleth": [
           {
            "colorbar": {
             "outlinewidth": 0,
             "ticks": ""
            },
            "type": "choropleth"
           }
          ],
          "contour": [
           {
            "colorbar": {
             "outlinewidth": 0,
             "ticks": ""
            },
            "colorscale": [
             [
              0,
              "#0d0887"
             ],
             [
              0.1111111111111111,
              "#46039f"
             ],
             [
              0.2222222222222222,
              "#7201a8"
             ],
             [
              0.3333333333333333,
              "#9c179e"
             ],
             [
              0.4444444444444444,
              "#bd3786"
             ],
             [
              0.5555555555555556,
              "#d8576b"
             ],
             [
              0.6666666666666666,
              "#ed7953"
             ],
             [
              0.7777777777777778,
              "#fb9f3a"
             ],
             [
              0.8888888888888888,
              "#fdca26"
             ],
             [
              1,
              "#f0f921"
             ]
            ],
            "type": "contour"
           }
          ],
          "contourcarpet": [
           {
            "colorbar": {
             "outlinewidth": 0,
             "ticks": ""
            },
            "type": "contourcarpet"
           }
          ],
          "heatmap": [
           {
            "colorbar": {
             "outlinewidth": 0,
             "ticks": ""
            },
            "colorscale": [
             [
              0,
              "#0d0887"
             ],
             [
              0.1111111111111111,
              "#46039f"
             ],
             [
              0.2222222222222222,
              "#7201a8"
             ],
             [
              0.3333333333333333,
              "#9c179e"
             ],
             [
              0.4444444444444444,
              "#bd3786"
             ],
             [
              0.5555555555555556,
              "#d8576b"
             ],
             [
              0.6666666666666666,
              "#ed7953"
             ],
             [
              0.7777777777777778,
              "#fb9f3a"
             ],
             [
              0.8888888888888888,
              "#fdca26"
             ],
             [
              1,
              "#f0f921"
             ]
            ],
            "type": "heatmap"
           }
          ],
          "heatmapgl": [
           {
            "colorbar": {
             "outlinewidth": 0,
             "ticks": ""
            },
            "colorscale": [
             [
              0,
              "#0d0887"
             ],
             [
              0.1111111111111111,
              "#46039f"
             ],
             [
              0.2222222222222222,
              "#7201a8"
             ],
             [
              0.3333333333333333,
              "#9c179e"
             ],
             [
              0.4444444444444444,
              "#bd3786"
             ],
             [
              0.5555555555555556,
              "#d8576b"
             ],
             [
              0.6666666666666666,
              "#ed7953"
             ],
             [
              0.7777777777777778,
              "#fb9f3a"
             ],
             [
              0.8888888888888888,
              "#fdca26"
             ],
             [
              1,
              "#f0f921"
             ]
            ],
            "type": "heatmapgl"
           }
          ],
          "histogram": [
           {
            "marker": {
             "pattern": {
              "fillmode": "overlay",
              "size": 10,
              "solidity": 0.2
             }
            },
            "type": "histogram"
           }
          ],
          "histogram2d": [
           {
            "colorbar": {
             "outlinewidth": 0,
             "ticks": ""
            },
            "colorscale": [
             [
              0,
              "#0d0887"
             ],
             [
              0.1111111111111111,
              "#46039f"
             ],
             [
              0.2222222222222222,
              "#7201a8"
             ],
             [
              0.3333333333333333,
              "#9c179e"
             ],
             [
              0.4444444444444444,
              "#bd3786"
             ],
             [
              0.5555555555555556,
              "#d8576b"
             ],
             [
              0.6666666666666666,
              "#ed7953"
             ],
             [
              0.7777777777777778,
              "#fb9f3a"
             ],
             [
              0.8888888888888888,
              "#fdca26"
             ],
             [
              1,
              "#f0f921"
             ]
            ],
            "type": "histogram2d"
           }
          ],
          "histogram2dcontour": [
           {
            "colorbar": {
             "outlinewidth": 0,
             "ticks": ""
            },
            "colorscale": [
             [
              0,
              "#0d0887"
             ],
             [
              0.1111111111111111,
              "#46039f"
             ],
             [
              0.2222222222222222,
              "#7201a8"
             ],
             [
              0.3333333333333333,
              "#9c179e"
             ],
             [
              0.4444444444444444,
              "#bd3786"
             ],
             [
              0.5555555555555556,
              "#d8576b"
             ],
             [
              0.6666666666666666,
              "#ed7953"
             ],
             [
              0.7777777777777778,
              "#fb9f3a"
             ],
             [
              0.8888888888888888,
              "#fdca26"
             ],
             [
              1,
              "#f0f921"
             ]
            ],
            "type": "histogram2dcontour"
           }
          ],
          "mesh3d": [
           {
            "colorbar": {
             "outlinewidth": 0,
             "ticks": ""
            },
            "type": "mesh3d"
           }
          ],
          "parcoords": [
           {
            "line": {
             "colorbar": {
              "outlinewidth": 0,
              "ticks": ""
             }
            },
            "type": "parcoords"
           }
          ],
          "pie": [
           {
            "automargin": true,
            "type": "pie"
           }
          ],
          "scatter": [
           {
            "fillpattern": {
             "fillmode": "overlay",
             "size": 10,
             "solidity": 0.2
            },
            "type": "scatter"
           }
          ],
          "scatter3d": [
           {
            "line": {
             "colorbar": {
              "outlinewidth": 0,
              "ticks": ""
             }
            },
            "marker": {
             "colorbar": {
              "outlinewidth": 0,
              "ticks": ""
             }
            },
            "type": "scatter3d"
           }
          ],
          "scattercarpet": [
           {
            "marker": {
             "colorbar": {
              "outlinewidth": 0,
              "ticks": ""
             }
            },
            "type": "scattercarpet"
           }
          ],
          "scattergeo": [
           {
            "marker": {
             "colorbar": {
              "outlinewidth": 0,
              "ticks": ""
             }
            },
            "type": "scattergeo"
           }
          ],
          "scattergl": [
           {
            "marker": {
             "colorbar": {
              "outlinewidth": 0,
              "ticks": ""
             }
            },
            "type": "scattergl"
           }
          ],
          "scattermapbox": [
           {
            "marker": {
             "colorbar": {
              "outlinewidth": 0,
              "ticks": ""
             }
            },
            "type": "scattermapbox"
           }
          ],
          "scatterpolar": [
           {
            "marker": {
             "colorbar": {
              "outlinewidth": 0,
              "ticks": ""
             }
            },
            "type": "scatterpolar"
           }
          ],
          "scatterpolargl": [
           {
            "marker": {
             "colorbar": {
              "outlinewidth": 0,
              "ticks": ""
             }
            },
            "type": "scatterpolargl"
           }
          ],
          "scatterternary": [
           {
            "marker": {
             "colorbar": {
              "outlinewidth": 0,
              "ticks": ""
             }
            },
            "type": "scatterternary"
           }
          ],
          "surface": [
           {
            "colorbar": {
             "outlinewidth": 0,
             "ticks": ""
            },
            "colorscale": [
             [
              0,
              "#0d0887"
             ],
             [
              0.1111111111111111,
              "#46039f"
             ],
             [
              0.2222222222222222,
              "#7201a8"
             ],
             [
              0.3333333333333333,
              "#9c179e"
             ],
             [
              0.4444444444444444,
              "#bd3786"
             ],
             [
              0.5555555555555556,
              "#d8576b"
             ],
             [
              0.6666666666666666,
              "#ed7953"
             ],
             [
              0.7777777777777778,
              "#fb9f3a"
             ],
             [
              0.8888888888888888,
              "#fdca26"
             ],
             [
              1,
              "#f0f921"
             ]
            ],
            "type": "surface"
           }
          ],
          "table": [
           {
            "cells": {
             "fill": {
              "color": "#EBF0F8"
             },
             "line": {
              "color": "white"
             }
            },
            "header": {
             "fill": {
              "color": "#C8D4E3"
             },
             "line": {
              "color": "white"
             }
            },
            "type": "table"
           }
          ]
         },
         "layout": {
          "annotationdefaults": {
           "arrowcolor": "#2a3f5f",
           "arrowhead": 0,
           "arrowwidth": 1
          },
          "autotypenumbers": "strict",
          "coloraxis": {
           "colorbar": {
            "outlinewidth": 0,
            "ticks": ""
           }
          },
          "colorscale": {
           "diverging": [
            [
             0,
             "#8e0152"
            ],
            [
             0.1,
             "#c51b7d"
            ],
            [
             0.2,
             "#de77ae"
            ],
            [
             0.3,
             "#f1b6da"
            ],
            [
             0.4,
             "#fde0ef"
            ],
            [
             0.5,
             "#f7f7f7"
            ],
            [
             0.6,
             "#e6f5d0"
            ],
            [
             0.7,
             "#b8e186"
            ],
            [
             0.8,
             "#7fbc41"
            ],
            [
             0.9,
             "#4d9221"
            ],
            [
             1,
             "#276419"
            ]
           ],
           "sequential": [
            [
             0,
             "#0d0887"
            ],
            [
             0.1111111111111111,
             "#46039f"
            ],
            [
             0.2222222222222222,
             "#7201a8"
            ],
            [
             0.3333333333333333,
             "#9c179e"
            ],
            [
             0.4444444444444444,
             "#bd3786"
            ],
            [
             0.5555555555555556,
             "#d8576b"
            ],
            [
             0.6666666666666666,
             "#ed7953"
            ],
            [
             0.7777777777777778,
             "#fb9f3a"
            ],
            [
             0.8888888888888888,
             "#fdca26"
            ],
            [
             1,
             "#f0f921"
            ]
           ],
           "sequentialminus": [
            [
             0,
             "#0d0887"
            ],
            [
             0.1111111111111111,
             "#46039f"
            ],
            [
             0.2222222222222222,
             "#7201a8"
            ],
            [
             0.3333333333333333,
             "#9c179e"
            ],
            [
             0.4444444444444444,
             "#bd3786"
            ],
            [
             0.5555555555555556,
             "#d8576b"
            ],
            [
             0.6666666666666666,
             "#ed7953"
            ],
            [
             0.7777777777777778,
             "#fb9f3a"
            ],
            [
             0.8888888888888888,
             "#fdca26"
            ],
            [
             1,
             "#f0f921"
            ]
           ]
          },
          "colorway": [
           "#636efa",
           "#EF553B",
           "#00cc96",
           "#ab63fa",
           "#FFA15A",
           "#19d3f3",
           "#FF6692",
           "#B6E880",
           "#FF97FF",
           "#FECB52"
          ],
          "font": {
           "color": "#2a3f5f"
          },
          "geo": {
           "bgcolor": "white",
           "lakecolor": "white",
           "landcolor": "#E5ECF6",
           "showlakes": true,
           "showland": true,
           "subunitcolor": "white"
          },
          "hoverlabel": {
           "align": "left"
          },
          "hovermode": "closest",
          "mapbox": {
           "style": "light"
          },
          "paper_bgcolor": "white",
          "plot_bgcolor": "#E5ECF6",
          "polar": {
           "angularaxis": {
            "gridcolor": "white",
            "linecolor": "white",
            "ticks": ""
           },
           "bgcolor": "#E5ECF6",
           "radialaxis": {
            "gridcolor": "white",
            "linecolor": "white",
            "ticks": ""
           }
          },
          "scene": {
           "xaxis": {
            "backgroundcolor": "#E5ECF6",
            "gridcolor": "white",
            "gridwidth": 2,
            "linecolor": "white",
            "showbackground": true,
            "ticks": "",
            "zerolinecolor": "white"
           },
           "yaxis": {
            "backgroundcolor": "#E5ECF6",
            "gridcolor": "white",
            "gridwidth": 2,
            "linecolor": "white",
            "showbackground": true,
            "ticks": "",
            "zerolinecolor": "white"
           },
           "zaxis": {
            "backgroundcolor": "#E5ECF6",
            "gridcolor": "white",
            "gridwidth": 2,
            "linecolor": "white",
            "showbackground": true,
            "ticks": "",
            "zerolinecolor": "white"
           }
          },
          "shapedefaults": {
           "line": {
            "color": "#2a3f5f"
           }
          },
          "ternary": {
           "aaxis": {
            "gridcolor": "white",
            "linecolor": "white",
            "ticks": ""
           },
           "baxis": {
            "gridcolor": "white",
            "linecolor": "white",
            "ticks": ""
           },
           "bgcolor": "#E5ECF6",
           "caxis": {
            "gridcolor": "white",
            "linecolor": "white",
            "ticks": ""
           }
          },
          "title": {
           "x": 0.05
          },
          "xaxis": {
           "automargin": true,
           "gridcolor": "white",
           "linecolor": "white",
           "ticks": "",
           "title": {
            "standoff": 15
           },
           "zerolinecolor": "white",
           "zerolinewidth": 2
          },
          "yaxis": {
           "automargin": true,
           "gridcolor": "white",
           "linecolor": "white",
           "ticks": "",
           "title": {
            "standoff": 15
           },
           "zerolinecolor": "white",
           "zerolinewidth": 2
          }
         }
        },
        "title": {
         "text": ""
        },
        "updatemenus": [
         {
          "buttons": [
           {
            "args": [
             null,
             {
              "frame": {
               "duration": 500,
               "redraw": false
              },
              "fromcurrent": true,
              "mode": "immediate",
              "transition": {
               "duration": 500,
               "easing": "linear"
              }
             }
            ],
            "label": "&#9654;",
            "method": "animate"
           },
           {
            "args": [
             [
              null
             ],
             {
              "frame": {
               "duration": 0,
               "redraw": false
              },
              "fromcurrent": true,
              "mode": "immediate",
              "transition": {
               "duration": 0,
               "easing": "linear"
              }
             }
            ],
            "label": "&#9724;",
            "method": "animate"
           }
          ],
          "direction": "left",
          "pad": {
           "r": 10,
           "t": 70
          },
          "showactive": false,
          "type": "buttons",
          "x": 0.1,
          "xanchor": "right",
          "y": 0,
          "yanchor": "top"
         }
        ],
        "xaxis": {
         "anchor": "y",
         "domain": [
          0,
          1
         ],
         "range": [
          3.304059466217599,
          3.3053513694466234
         ],
         "tickangle": 45,
         "title": {
          "text": "Year"
         },
         "type": "log"
        },
        "yaxis": {
         "anchor": "x",
         "domain": [
          0,
          1
         ],
         "range": [
          0,
          1500
         ],
         "title": {
          "text": "Firearm Murders"
         }
        }
       }
      },
      "text/html": [
       "<div>                            <div id=\"d2799e23-8b02-48f5-95a6-c7da5a035c34\" class=\"plotly-graph-div\" style=\"height:525px; width:100%;\"></div>            <script type=\"text/javascript\">                require([\"plotly\"], function(Plotly) {                    window.PLOTLYENV=window.PLOTLYENV || {};                                    if (document.getElementById(\"d2799e23-8b02-48f5-95a6-c7da5a035c34\")) {                    Plotly.newPlot(                        \"d2799e23-8b02-48f5-95a6-c7da5a035c34\",                        [{\"hovertemplate\":\"color=Alabama<br>animation_frame=2015<br>x=%{x}<br>y=%{y}<extra></extra>\",\"ids\":[\"Alabama\"],\"legendgroup\":\"Alabama\",\"line\":{\"color\":\"#2E91E5\",\"dash\":\"solid\"},\"marker\":{\"symbol\":\"circle\"},\"mode\":\"markers+lines\",\"name\":\"Alabama\",\"orientation\":\"v\",\"showlegend\":true,\"x\":[2015],\"xaxis\":\"x\",\"y\":[3.0],\"yaxis\":\"y\",\"type\":\"scatter\"},{\"hovertemplate\":\"color=Alaska<br>animation_frame=2015<br>x=%{x}<br>y=%{y}<extra></extra>\",\"ids\":[\"Alaska\"],\"legendgroup\":\"Alaska\",\"line\":{\"color\":\"#E15F99\",\"dash\":\"solid\"},\"marker\":{\"symbol\":\"circle\"},\"mode\":\"markers+lines\",\"name\":\"Alaska\",\"orientation\":\"v\",\"showlegend\":true,\"x\":[2015],\"xaxis\":\"x\",\"y\":[39.0],\"yaxis\":\"y\",\"type\":\"scatter\"},{\"hovertemplate\":\"color=Arizona<br>animation_frame=2015<br>x=%{x}<br>y=%{y}<extra></extra>\",\"ids\":[\"Arizona\"],\"legendgroup\":\"Arizona\",\"line\":{\"color\":\"#1CA71C\",\"dash\":\"solid\"},\"marker\":{\"symbol\":\"circle\"},\"mode\":\"markers+lines\",\"name\":\"Arizona\",\"orientation\":\"v\",\"showlegend\":true,\"x\":[2015],\"xaxis\":\"x\",\"y\":[171.0],\"yaxis\":\"y\",\"type\":\"scatter\"},{\"hovertemplate\":\"color=Arkansas<br>animation_frame=2015<br>x=%{x}<br>y=%{y}<extra></extra>\",\"ids\":[\"Arkansas\"],\"legendgroup\":\"Arkansas\",\"line\":{\"color\":\"#FB0D0D\",\"dash\":\"solid\"},\"marker\":{\"symbol\":\"circle\"},\"mode\":\"markers+lines\",\"name\":\"Arkansas\",\"orientation\":\"v\",\"showlegend\":true,\"x\":[2015],\"xaxis\":\"x\",\"y\":[110.0],\"yaxis\":\"y\",\"type\":\"scatter\"},{\"hovertemplate\":\"color=California<br>animation_frame=2015<br>x=%{x}<br>y=%{y}<extra></extra>\",\"ids\":[\"California\"],\"legendgroup\":\"California\",\"line\":{\"color\":\"#DA16FF\",\"dash\":\"solid\"},\"marker\":{\"symbol\":\"circle\"},\"mode\":\"markers+lines\",\"name\":\"California\",\"orientation\":\"v\",\"showlegend\":true,\"x\":[2015],\"xaxis\":\"x\",\"y\":[1275.0],\"yaxis\":\"y\",\"type\":\"scatter\"},{\"hovertemplate\":\"color=Colorado<br>animation_frame=2015<br>x=%{x}<br>y=%{y}<extra></extra>\",\"ids\":[\"Colorado\"],\"legendgroup\":\"Colorado\",\"line\":{\"color\":\"#222A2A\",\"dash\":\"solid\"},\"marker\":{\"symbol\":\"circle\"},\"mode\":\"markers+lines\",\"name\":\"Colorado\",\"orientation\":\"v\",\"showlegend\":true,\"x\":[2015],\"xaxis\":\"x\",\"y\":[115.0],\"yaxis\":\"y\",\"type\":\"scatter\"},{\"hovertemplate\":\"color=Connecticut<br>animation_frame=2015<br>x=%{x}<br>y=%{y}<extra></extra>\",\"ids\":[\"Connecticut\"],\"legendgroup\":\"Connecticut\",\"line\":{\"color\":\"#B68100\",\"dash\":\"solid\"},\"marker\":{\"symbol\":\"circle\"},\"mode\":\"markers+lines\",\"name\":\"Connecticut\",\"orientation\":\"v\",\"showlegend\":true,\"x\":[2015],\"xaxis\":\"x\",\"y\":[73.0],\"yaxis\":\"y\",\"type\":\"scatter\"},{\"hovertemplate\":\"color=Delaware<br>animation_frame=2015<br>x=%{x}<br>y=%{y}<extra></extra>\",\"ids\":[\"Delaware\"],\"legendgroup\":\"Delaware\",\"line\":{\"color\":\"#750D86\",\"dash\":\"solid\"},\"marker\":{\"symbol\":\"circle\"},\"mode\":\"markers+lines\",\"name\":\"Delaware\",\"orientation\":\"v\",\"showlegend\":true,\"x\":[2015],\"xaxis\":\"x\",\"y\":[52.0],\"yaxis\":\"y\",\"type\":\"scatter\"},{\"hovertemplate\":\"color=District of Columbia<br>animation_frame=2015<br>x=%{x}<br>y=%{y}<extra></extra>\",\"ids\":[\"District of Columbia\"],\"legendgroup\":\"District of Columbia\",\"line\":{\"color\":\"#EB663B\",\"dash\":\"solid\"},\"marker\":{\"symbol\":\"circle\"},\"mode\":\"markers+lines\",\"name\":\"District of Columbia\",\"orientation\":\"v\",\"showlegend\":true,\"x\":[2015],\"xaxis\":\"x\",\"y\":[121.0],\"yaxis\":\"y\",\"type\":\"scatter\"},{\"hovertemplate\":\"color=Georgia<br>animation_frame=2015<br>x=%{x}<br>y=%{y}<extra></extra>\",\"ids\":[\"Georgia\"],\"legendgroup\":\"Georgia\",\"line\":{\"color\":\"#511CFB\",\"dash\":\"solid\"},\"marker\":{\"symbol\":\"circle\"},\"mode\":\"markers+lines\",\"name\":\"Georgia\",\"orientation\":\"v\",\"showlegend\":true,\"x\":[2015],\"xaxis\":\"x\",\"y\":[464.0],\"yaxis\":\"y\",\"type\":\"scatter\"},{\"hovertemplate\":\"color=Guam<br>animation_frame=2015<br>x=%{x}<br>y=%{y}<extra></extra>\",\"ids\":[\"Guam\"],\"legendgroup\":\"Guam\",\"line\":{\"color\":\"#00A08B\",\"dash\":\"solid\"},\"marker\":{\"symbol\":\"circle\"},\"mode\":\"markers+lines\",\"name\":\"Guam\",\"orientation\":\"v\",\"showlegend\":true,\"x\":[2015],\"xaxis\":\"x\",\"y\":[3.0],\"yaxis\":\"y\",\"type\":\"scatter\"},{\"hovertemplate\":\"color=Hawaii<br>animation_frame=2015<br>x=%{x}<br>y=%{y}<extra></extra>\",\"ids\":[\"Hawaii\"],\"legendgroup\":\"Hawaii\",\"line\":{\"color\":\"#FB00D1\",\"dash\":\"solid\"},\"marker\":{\"symbol\":\"circle\"},\"mode\":\"markers+lines\",\"name\":\"Hawaii\",\"orientation\":\"v\",\"showlegend\":true,\"x\":[2015],\"xaxis\":\"x\",\"y\":[4.0],\"yaxis\":\"y\",\"type\":\"scatter\"},{\"hovertemplate\":\"color=Idaho<br>animation_frame=2015<br>x=%{x}<br>y=%{y}<extra></extra>\",\"ids\":[\"Idaho\"],\"legendgroup\":\"Idaho\",\"line\":{\"color\":\"#FC0080\",\"dash\":\"solid\"},\"marker\":{\"symbol\":\"circle\"},\"mode\":\"markers+lines\",\"name\":\"Idaho\",\"orientation\":\"v\",\"showlegend\":true,\"x\":[2015],\"xaxis\":\"x\",\"y\":[24.0],\"yaxis\":\"y\",\"type\":\"scatter\"},{\"hovertemplate\":\"color=Illinois<br>animation_frame=2015<br>x=%{x}<br>y=%{y}<extra></extra>\",\"ids\":[\"Illinois\"],\"legendgroup\":\"Illinois\",\"line\":{\"color\":\"#B2828D\",\"dash\":\"solid\"},\"marker\":{\"symbol\":\"circle\"},\"mode\":\"markers+lines\",\"name\":\"Illinois\",\"orientation\":\"v\",\"showlegend\":true,\"x\":[2015],\"xaxis\":\"x\",\"y\":[440.0],\"yaxis\":\"y\",\"type\":\"scatter\"},{\"hovertemplate\":\"color=Indiana<br>animation_frame=2015<br>x=%{x}<br>y=%{y}<extra></extra>\",\"ids\":[\"Indiana\"],\"legendgroup\":\"Indiana\",\"line\":{\"color\":\"#6C7C32\",\"dash\":\"solid\"},\"marker\":{\"symbol\":\"circle\"},\"mode\":\"markers+lines\",\"name\":\"Indiana\",\"orientation\":\"v\",\"showlegend\":true,\"x\":[2015],\"xaxis\":\"x\",\"y\":[209.0],\"yaxis\":\"y\",\"type\":\"scatter\"},{\"hovertemplate\":\"color=Iowa<br>animation_frame=2015<br>x=%{x}<br>y=%{y}<extra></extra>\",\"ids\":[\"Iowa\"],\"legendgroup\":\"Iowa\",\"line\":{\"color\":\"#778AAE\",\"dash\":\"solid\"},\"marker\":{\"symbol\":\"circle\"},\"mode\":\"markers+lines\",\"name\":\"Iowa\",\"orientation\":\"v\",\"showlegend\":true,\"x\":[2015],\"xaxis\":\"x\",\"y\":[49.0],\"yaxis\":\"y\",\"type\":\"scatter\"},{\"hovertemplate\":\"color=Kansas<br>animation_frame=2015<br>x=%{x}<br>y=%{y}<extra></extra>\",\"ids\":[\"Kansas\"],\"legendgroup\":\"Kansas\",\"line\":{\"color\":\"#862A16\",\"dash\":\"solid\"},\"marker\":{\"symbol\":\"circle\"},\"mode\":\"markers+lines\",\"name\":\"Kansas\",\"orientation\":\"v\",\"showlegend\":true,\"x\":[2015],\"xaxis\":\"x\",\"y\":[91.0],\"yaxis\":\"y\",\"type\":\"scatter\"},{\"hovertemplate\":\"color=Kentucky<br>animation_frame=2015<br>x=%{x}<br>y=%{y}<extra></extra>\",\"ids\":[\"Kentucky\"],\"legendgroup\":\"Kentucky\",\"line\":{\"color\":\"#A777F1\",\"dash\":\"solid\"},\"marker\":{\"symbol\":\"circle\"},\"mode\":\"markers+lines\",\"name\":\"Kentucky\",\"orientation\":\"v\",\"showlegend\":true,\"x\":[2015],\"xaxis\":\"x\",\"y\":[141.0],\"yaxis\":\"y\",\"type\":\"scatter\"},{\"hovertemplate\":\"color=Louisiana<br>animation_frame=2015<br>x=%{x}<br>y=%{y}<extra></extra>\",\"ids\":[\"Louisiana\"],\"legendgroup\":\"Louisiana\",\"line\":{\"color\":\"#620042\",\"dash\":\"solid\"},\"marker\":{\"symbol\":\"circle\"},\"mode\":\"markers+lines\",\"name\":\"Louisiana\",\"orientation\":\"v\",\"showlegend\":true,\"x\":[2015],\"xaxis\":\"x\",\"y\":[379.0],\"yaxis\":\"y\",\"type\":\"scatter\"},{\"hovertemplate\":\"color=Maine<br>animation_frame=2015<br>x=%{x}<br>y=%{y}<extra></extra>\",\"ids\":[\"Maine\"],\"legendgroup\":\"Maine\",\"line\":{\"color\":\"#1616A7\",\"dash\":\"solid\"},\"marker\":{\"symbol\":\"circle\"},\"mode\":\"markers+lines\",\"name\":\"Maine\",\"orientation\":\"v\",\"showlegend\":true,\"x\":[2015],\"xaxis\":\"x\",\"y\":[16.0],\"yaxis\":\"y\",\"type\":\"scatter\"},{\"hovertemplate\":\"color=Maryland<br>animation_frame=2015<br>x=%{x}<br>y=%{y}<extra></extra>\",\"ids\":[\"Maryland\"],\"legendgroup\":\"Maryland\",\"line\":{\"color\":\"#DA60CA\",\"dash\":\"solid\"},\"marker\":{\"symbol\":\"circle\"},\"mode\":\"markers+lines\",\"name\":\"Maryland\",\"orientation\":\"v\",\"showlegend\":true,\"x\":[2015],\"xaxis\":\"x\",\"y\":[279.0],\"yaxis\":\"y\",\"type\":\"scatter\"},{\"hovertemplate\":\"color=Massachusetts<br>animation_frame=2015<br>x=%{x}<br>y=%{y}<extra></extra>\",\"ids\":[\"Massachusetts\"],\"legendgroup\":\"Massachusetts\",\"line\":{\"color\":\"#6C4516\",\"dash\":\"solid\"},\"marker\":{\"symbol\":\"circle\"},\"mode\":\"markers+lines\",\"name\":\"Massachusetts\",\"orientation\":\"v\",\"showlegend\":true,\"x\":[2015],\"xaxis\":\"x\",\"y\":[81.0],\"yaxis\":\"y\",\"type\":\"scatter\"},{\"hovertemplate\":\"color=Michigan<br>animation_frame=2015<br>x=%{x}<br>y=%{y}<extra></extra>\",\"ids\":[\"Michigan\"],\"legendgroup\":\"Michigan\",\"line\":{\"color\":\"#0D2A63\",\"dash\":\"solid\"},\"marker\":{\"symbol\":\"circle\"},\"mode\":\"markers+lines\",\"name\":\"Michigan\",\"orientation\":\"v\",\"showlegend\":true,\"x\":[2015],\"xaxis\":\"x\",\"y\":[389.0],\"yaxis\":\"y\",\"type\":\"scatter\"},{\"hovertemplate\":\"color=Minnesota<br>animation_frame=2015<br>x=%{x}<br>y=%{y}<extra></extra>\",\"ids\":[\"Minnesota\"],\"legendgroup\":\"Minnesota\",\"line\":{\"color\":\"#AF0038\",\"dash\":\"solid\"},\"marker\":{\"symbol\":\"circle\"},\"mode\":\"markers+lines\",\"name\":\"Minnesota\",\"orientation\":\"v\",\"showlegend\":true,\"x\":[2015],\"xaxis\":\"x\",\"y\":[79.0],\"yaxis\":\"y\",\"type\":\"scatter\"},{\"hovertemplate\":\"color=Mississippi<br>animation_frame=2015<br>x=%{x}<br>y=%{y}<extra></extra>\",\"ids\":[\"Mississippi\"],\"legendgroup\":\"Mississippi\",\"line\":{\"color\":\"#2E91E5\",\"dash\":\"solid\"},\"marker\":{\"symbol\":\"circle\"},\"mode\":\"markers+lines\",\"name\":\"Mississippi\",\"orientation\":\"v\",\"showlegend\":true,\"x\":[2015],\"xaxis\":\"x\",\"y\":[126.0],\"yaxis\":\"y\",\"type\":\"scatter\"},{\"hovertemplate\":\"color=Missouri<br>animation_frame=2015<br>x=%{x}<br>y=%{y}<extra></extra>\",\"ids\":[\"Missouri\"],\"legendgroup\":\"Missouri\",\"line\":{\"color\":\"#E15F99\",\"dash\":\"solid\"},\"marker\":{\"symbol\":\"circle\"},\"mode\":\"markers+lines\",\"name\":\"Missouri\",\"orientation\":\"v\",\"showlegend\":true,\"x\":[2015],\"xaxis\":\"x\",\"y\":[418.0],\"yaxis\":\"y\",\"type\":\"scatter\"},{\"hovertemplate\":\"color=Montana<br>animation_frame=2015<br>x=%{x}<br>y=%{y}<extra></extra>\",\"ids\":[\"Montana\"],\"legendgroup\":\"Montana\",\"line\":{\"color\":\"#1CA71C\",\"dash\":\"solid\"},\"marker\":{\"symbol\":\"circle\"},\"mode\":\"markers+lines\",\"name\":\"Montana\",\"orientation\":\"v\",\"showlegend\":true,\"x\":[2015],\"xaxis\":\"x\",\"y\":[18.0],\"yaxis\":\"y\",\"type\":\"scatter\"},{\"hovertemplate\":\"color=Nebraska<br>animation_frame=2015<br>x=%{x}<br>y=%{y}<extra></extra>\",\"ids\":[\"Nebraska\"],\"legendgroup\":\"Nebraska\",\"line\":{\"color\":\"#FB0D0D\",\"dash\":\"solid\"},\"marker\":{\"symbol\":\"circle\"},\"mode\":\"markers+lines\",\"name\":\"Nebraska\",\"orientation\":\"v\",\"showlegend\":true,\"x\":[2015],\"xaxis\":\"x\",\"y\":[43.0],\"yaxis\":\"y\",\"type\":\"scatter\"},{\"hovertemplate\":\"color=Nevada<br>animation_frame=2015<br>x=%{x}<br>y=%{y}<extra></extra>\",\"ids\":[\"Nevada\"],\"legendgroup\":\"Nevada\",\"line\":{\"color\":\"#DA16FF\",\"dash\":\"solid\"},\"marker\":{\"symbol\":\"circle\"},\"mode\":\"markers+lines\",\"name\":\"Nevada\",\"orientation\":\"v\",\"showlegend\":true,\"x\":[2015],\"xaxis\":\"x\",\"y\":[113.0],\"yaxis\":\"y\",\"type\":\"scatter\"},{\"hovertemplate\":\"color=New Hampshire<br>animation_frame=2015<br>x=%{x}<br>y=%{y}<extra></extra>\",\"ids\":[\"New Hampshire\"],\"legendgroup\":\"New Hampshire\",\"line\":{\"color\":\"#222A2A\",\"dash\":\"solid\"},\"marker\":{\"symbol\":\"circle\"},\"mode\":\"markers+lines\",\"name\":\"New Hampshire\",\"orientation\":\"v\",\"showlegend\":true,\"x\":[2015],\"xaxis\":\"x\",\"y\":[8.0],\"yaxis\":\"y\",\"type\":\"scatter\"},{\"hovertemplate\":\"color=New Jersey<br>animation_frame=2015<br>x=%{x}<br>y=%{y}<extra></extra>\",\"ids\":[\"New Jersey\"],\"legendgroup\":\"New Jersey\",\"line\":{\"color\":\"#B68100\",\"dash\":\"solid\"},\"marker\":{\"symbol\":\"circle\"},\"mode\":\"markers+lines\",\"name\":\"New Jersey\",\"orientation\":\"v\",\"showlegend\":true,\"x\":[2015],\"xaxis\":\"x\",\"y\":[255.0],\"yaxis\":\"y\",\"type\":\"scatter\"},{\"hovertemplate\":\"color=New Mexico<br>animation_frame=2015<br>x=%{x}<br>y=%{y}<extra></extra>\",\"ids\":[\"New Mexico\"],\"legendgroup\":\"New Mexico\",\"line\":{\"color\":\"#750D86\",\"dash\":\"solid\"},\"marker\":{\"symbol\":\"circle\"},\"mode\":\"markers+lines\",\"name\":\"New Mexico\",\"orientation\":\"v\",\"showlegend\":true,\"x\":[2015],\"xaxis\":\"x\",\"y\":[56.0],\"yaxis\":\"y\",\"type\":\"scatter\"},{\"hovertemplate\":\"color=New York<br>animation_frame=2015<br>x=%{x}<br>y=%{y}<extra></extra>\",\"ids\":[\"New York\"],\"legendgroup\":\"New York\",\"line\":{\"color\":\"#EB663B\",\"dash\":\"solid\"},\"marker\":{\"symbol\":\"circle\"},\"mode\":\"markers+lines\",\"name\":\"New York\",\"orientation\":\"v\",\"showlegend\":true,\"x\":[2015],\"xaxis\":\"x\",\"y\":[383.0],\"yaxis\":\"y\",\"type\":\"scatter\"},{\"hovertemplate\":\"color=North Carolina<br>animation_frame=2015<br>x=%{x}<br>y=%{y}<extra></extra>\",\"ids\":[\"North Carolina\"],\"legendgroup\":\"North Carolina\",\"line\":{\"color\":\"#511CFB\",\"dash\":\"solid\"},\"marker\":{\"symbol\":\"circle\"},\"mode\":\"markers+lines\",\"name\":\"North Carolina\",\"orientation\":\"v\",\"showlegend\":true,\"x\":[2015],\"xaxis\":\"x\",\"y\":[353.0],\"yaxis\":\"y\",\"type\":\"scatter\"},{\"hovertemplate\":\"color=North Dakota<br>animation_frame=2015<br>x=%{x}<br>y=%{y}<extra></extra>\",\"ids\":[\"North Dakota\"],\"legendgroup\":\"North Dakota\",\"line\":{\"color\":\"#00A08B\",\"dash\":\"solid\"},\"marker\":{\"symbol\":\"circle\"},\"mode\":\"markers+lines\",\"name\":\"North Dakota\",\"orientation\":\"v\",\"showlegend\":true,\"x\":[2015],\"xaxis\":\"x\",\"y\":[9.0],\"yaxis\":\"y\",\"type\":\"scatter\"},{\"hovertemplate\":\"color=Ohio<br>animation_frame=2015<br>x=%{x}<br>y=%{y}<extra></extra>\",\"ids\":[\"Ohio\"],\"legendgroup\":\"Ohio\",\"line\":{\"color\":\"#FB00D1\",\"dash\":\"solid\"},\"marker\":{\"symbol\":\"circle\"},\"mode\":\"markers+lines\",\"name\":\"Ohio\",\"orientation\":\"v\",\"showlegend\":true,\"x\":[2015],\"xaxis\":\"x\",\"y\":[316.0],\"yaxis\":\"y\",\"type\":\"scatter\"},{\"hovertemplate\":\"color=Oklahoma<br>animation_frame=2015<br>x=%{x}<br>y=%{y}<extra></extra>\",\"ids\":[\"Oklahoma\"],\"legendgroup\":\"Oklahoma\",\"line\":{\"color\":\"#FC0080\",\"dash\":\"solid\"},\"marker\":{\"symbol\":\"circle\"},\"mode\":\"markers+lines\",\"name\":\"Oklahoma\",\"orientation\":\"v\",\"showlegend\":true,\"x\":[2015],\"xaxis\":\"x\",\"y\":[149.0],\"yaxis\":\"y\",\"type\":\"scatter\"},{\"hovertemplate\":\"color=Oregon<br>animation_frame=2015<br>x=%{x}<br>y=%{y}<extra></extra>\",\"ids\":[\"Oregon\"],\"legendgroup\":\"Oregon\",\"line\":{\"color\":\"#B2828D\",\"dash\":\"solid\"},\"marker\":{\"symbol\":\"circle\"},\"mode\":\"markers+lines\",\"name\":\"Oregon\",\"orientation\":\"v\",\"showlegend\":true,\"x\":[2015],\"xaxis\":\"x\",\"y\":[34.0],\"yaxis\":\"y\",\"type\":\"scatter\"},{\"hovertemplate\":\"color=Pennsylvania<br>animation_frame=2015<br>x=%{x}<br>y=%{y}<extra></extra>\",\"ids\":[\"Pennsylvania\"],\"legendgroup\":\"Pennsylvania\",\"line\":{\"color\":\"#6C7C32\",\"dash\":\"solid\"},\"marker\":{\"symbol\":\"circle\"},\"mode\":\"markers+lines\",\"name\":\"Pennsylvania\",\"orientation\":\"v\",\"showlegend\":true,\"x\":[2015],\"xaxis\":\"x\",\"y\":[497.0],\"yaxis\":\"y\",\"type\":\"scatter\"},{\"hovertemplate\":\"color=Rhode Island<br>animation_frame=2015<br>x=%{x}<br>y=%{y}<extra></extra>\",\"ids\":[\"Rhode Island\"],\"legendgroup\":\"Rhode Island\",\"line\":{\"color\":\"#778AAE\",\"dash\":\"solid\"},\"marker\":{\"symbol\":\"circle\"},\"mode\":\"markers+lines\",\"name\":\"Rhode Island\",\"orientation\":\"v\",\"showlegend\":true,\"x\":[2015],\"xaxis\":\"x\",\"y\":[10.0],\"yaxis\":\"y\",\"type\":\"scatter\"},{\"hovertemplate\":\"color=South Carolina<br>animation_frame=2015<br>x=%{x}<br>y=%{y}<extra></extra>\",\"ids\":[\"South Carolina\"],\"legendgroup\":\"South Carolina\",\"line\":{\"color\":\"#862A16\",\"dash\":\"solid\"},\"marker\":{\"symbol\":\"circle\"},\"mode\":\"markers+lines\",\"name\":\"South Carolina\",\"orientation\":\"v\",\"showlegend\":true,\"x\":[2015],\"xaxis\":\"x\",\"y\":[312.0],\"yaxis\":\"y\",\"type\":\"scatter\"},{\"hovertemplate\":\"color=South Dakota<br>animation_frame=2015<br>x=%{x}<br>y=%{y}<extra></extra>\",\"ids\":[\"South Dakota\"],\"legendgroup\":\"South Dakota\",\"line\":{\"color\":\"#A777F1\",\"dash\":\"solid\"},\"marker\":{\"symbol\":\"circle\"},\"mode\":\"markers+lines\",\"name\":\"South Dakota\",\"orientation\":\"v\",\"showlegend\":true,\"x\":[2015],\"xaxis\":\"x\",\"y\":[12.0],\"yaxis\":\"y\",\"type\":\"scatter\"},{\"hovertemplate\":\"color=Tennessee<br>animation_frame=2015<br>x=%{x}<br>y=%{y}<extra></extra>\",\"ids\":[\"Tennessee\"],\"legendgroup\":\"Tennessee\",\"line\":{\"color\":\"#620042\",\"dash\":\"solid\"},\"marker\":{\"symbol\":\"circle\"},\"mode\":\"markers+lines\",\"name\":\"Tennessee\",\"orientation\":\"v\",\"showlegend\":true,\"x\":[2015],\"xaxis\":\"x\",\"y\":[297.0],\"yaxis\":\"y\",\"type\":\"scatter\"},{\"hovertemplate\":\"color=Texas<br>animation_frame=2015<br>x=%{x}<br>y=%{y}<extra></extra>\",\"ids\":[\"Texas\"],\"legendgroup\":\"Texas\",\"line\":{\"color\":\"#1616A7\",\"dash\":\"solid\"},\"marker\":{\"symbol\":\"circle\"},\"mode\":\"markers+lines\",\"name\":\"Texas\",\"orientation\":\"v\",\"showlegend\":true,\"x\":[2015],\"xaxis\":\"x\",\"y\":[906.0],\"yaxis\":\"y\",\"type\":\"scatter\"},{\"hovertemplate\":\"color=U.S. Virgin Islands<br>animation_frame=2015<br>x=%{x}<br>y=%{y}<extra></extra>\",\"ids\":[\"U.S. Virgin Islands\"],\"legendgroup\":\"U.S. Virgin Islands\",\"line\":{\"color\":\"#DA60CA\",\"dash\":\"solid\"},\"marker\":{\"symbol\":\"circle\"},\"mode\":\"markers+lines\",\"name\":\"U.S. Virgin Islands\",\"orientation\":\"v\",\"showlegend\":true,\"x\":[2015],\"xaxis\":\"x\",\"y\":[26.0],\"yaxis\":\"y\",\"type\":\"scatter\"},{\"hovertemplate\":\"color=Utah<br>animation_frame=2015<br>x=%{x}<br>y=%{y}<extra></extra>\",\"ids\":[\"Utah\"],\"legendgroup\":\"Utah\",\"line\":{\"color\":\"#6C4516\",\"dash\":\"solid\"},\"marker\":{\"symbol\":\"circle\"},\"mode\":\"markers+lines\",\"name\":\"Utah\",\"orientation\":\"v\",\"showlegend\":true,\"x\":[2015],\"xaxis\":\"x\",\"y\":[34.0],\"yaxis\":\"y\",\"type\":\"scatter\"},{\"hovertemplate\":\"color=Vermont<br>animation_frame=2015<br>x=%{x}<br>y=%{y}<extra></extra>\",\"ids\":[\"Vermont\"],\"legendgroup\":\"Vermont\",\"line\":{\"color\":\"#0D2A63\",\"dash\":\"solid\"},\"marker\":{\"symbol\":\"circle\"},\"mode\":\"markers+lines\",\"name\":\"Vermont\",\"orientation\":\"v\",\"showlegend\":true,\"x\":[2015],\"xaxis\":\"x\",\"y\":[8.0],\"yaxis\":\"y\",\"type\":\"scatter\"},{\"hovertemplate\":\"color=Virginia<br>animation_frame=2015<br>x=%{x}<br>y=%{y}<extra></extra>\",\"ids\":[\"Virginia\"],\"legendgroup\":\"Virginia\",\"line\":{\"color\":\"#AF0038\",\"dash\":\"solid\"},\"marker\":{\"symbol\":\"circle\"},\"mode\":\"markers+lines\",\"name\":\"Virginia\",\"orientation\":\"v\",\"showlegend\":true,\"x\":[2015],\"xaxis\":\"x\",\"y\":[275.0],\"yaxis\":\"y\",\"type\":\"scatter\"},{\"hovertemplate\":\"color=Washington<br>animation_frame=2015<br>x=%{x}<br>y=%{y}<extra></extra>\",\"ids\":[\"Washington\"],\"legendgroup\":\"Washington\",\"line\":{\"color\":\"#2E91E5\",\"dash\":\"solid\"},\"marker\":{\"symbol\":\"circle\"},\"mode\":\"markers+lines\",\"name\":\"Washington\",\"orientation\":\"v\",\"showlegend\":true,\"x\":[2015],\"xaxis\":\"x\",\"y\":[141.0],\"yaxis\":\"y\",\"type\":\"scatter\"},{\"hovertemplate\":\"color=West Virginia<br>animation_frame=2015<br>x=%{x}<br>y=%{y}<extra></extra>\",\"ids\":[\"West Virginia\"],\"legendgroup\":\"West Virginia\",\"line\":{\"color\":\"#E15F99\",\"dash\":\"solid\"},\"marker\":{\"symbol\":\"circle\"},\"mode\":\"markers+lines\",\"name\":\"West Virginia\",\"orientation\":\"v\",\"showlegend\":true,\"x\":[2015],\"xaxis\":\"x\",\"y\":[30.0],\"yaxis\":\"y\",\"type\":\"scatter\"},{\"hovertemplate\":\"color=Wisconsin<br>animation_frame=2015<br>x=%{x}<br>y=%{y}<extra></extra>\",\"ids\":[\"Wisconsin\"],\"legendgroup\":\"Wisconsin\",\"line\":{\"color\":\"#1CA71C\",\"dash\":\"solid\"},\"marker\":{\"symbol\":\"circle\"},\"mode\":\"markers+lines\",\"name\":\"Wisconsin\",\"orientation\":\"v\",\"showlegend\":true,\"x\":[2015],\"xaxis\":\"x\",\"y\":[170.0],\"yaxis\":\"y\",\"type\":\"scatter\"},{\"hovertemplate\":\"color=Wyoming<br>animation_frame=2015<br>x=%{x}<br>y=%{y}<extra></extra>\",\"ids\":[\"Wyoming\"],\"legendgroup\":\"Wyoming\",\"line\":{\"color\":\"#FB0D0D\",\"dash\":\"solid\"},\"marker\":{\"symbol\":\"circle\"},\"mode\":\"markers+lines\",\"name\":\"Wyoming\",\"orientation\":\"v\",\"showlegend\":true,\"x\":[2015],\"xaxis\":\"x\",\"y\":[10.0],\"yaxis\":\"y\",\"type\":\"scatter\"}],                        {\"template\":{\"data\":{\"histogram2dcontour\":[{\"type\":\"histogram2dcontour\",\"colorbar\":{\"outlinewidth\":0,\"ticks\":\"\"},\"colorscale\":[[0.0,\"#0d0887\"],[0.1111111111111111,\"#46039f\"],[0.2222222222222222,\"#7201a8\"],[0.3333333333333333,\"#9c179e\"],[0.4444444444444444,\"#bd3786\"],[0.5555555555555556,\"#d8576b\"],[0.6666666666666666,\"#ed7953\"],[0.7777777777777778,\"#fb9f3a\"],[0.8888888888888888,\"#fdca26\"],[1.0,\"#f0f921\"]]}],\"choropleth\":[{\"type\":\"choropleth\",\"colorbar\":{\"outlinewidth\":0,\"ticks\":\"\"}}],\"histogram2d\":[{\"type\":\"histogram2d\",\"colorbar\":{\"outlinewidth\":0,\"ticks\":\"\"},\"colorscale\":[[0.0,\"#0d0887\"],[0.1111111111111111,\"#46039f\"],[0.2222222222222222,\"#7201a8\"],[0.3333333333333333,\"#9c179e\"],[0.4444444444444444,\"#bd3786\"],[0.5555555555555556,\"#d8576b\"],[0.6666666666666666,\"#ed7953\"],[0.7777777777777778,\"#fb9f3a\"],[0.8888888888888888,\"#fdca26\"],[1.0,\"#f0f921\"]]}],\"heatmap\":[{\"type\":\"heatmap\",\"colorbar\":{\"outlinewidth\":0,\"ticks\":\"\"},\"colorscale\":[[0.0,\"#0d0887\"],[0.1111111111111111,\"#46039f\"],[0.2222222222222222,\"#7201a8\"],[0.3333333333333333,\"#9c179e\"],[0.4444444444444444,\"#bd3786\"],[0.5555555555555556,\"#d8576b\"],[0.6666666666666666,\"#ed7953\"],[0.7777777777777778,\"#fb9f3a\"],[0.8888888888888888,\"#fdca26\"],[1.0,\"#f0f921\"]]}],\"heatmapgl\":[{\"type\":\"heatmapgl\",\"colorbar\":{\"outlinewidth\":0,\"ticks\":\"\"},\"colorscale\":[[0.0,\"#0d0887\"],[0.1111111111111111,\"#46039f\"],[0.2222222222222222,\"#7201a8\"],[0.3333333333333333,\"#9c179e\"],[0.4444444444444444,\"#bd3786\"],[0.5555555555555556,\"#d8576b\"],[0.6666666666666666,\"#ed7953\"],[0.7777777777777778,\"#fb9f3a\"],[0.8888888888888888,\"#fdca26\"],[1.0,\"#f0f921\"]]}],\"contourcarpet\":[{\"type\":\"contourcarpet\",\"colorbar\":{\"outlinewidth\":0,\"ticks\":\"\"}}],\"contour\":[{\"type\":\"contour\",\"colorbar\":{\"outlinewidth\":0,\"ticks\":\"\"},\"colorscale\":[[0.0,\"#0d0887\"],[0.1111111111111111,\"#46039f\"],[0.2222222222222222,\"#7201a8\"],[0.3333333333333333,\"#9c179e\"],[0.4444444444444444,\"#bd3786\"],[0.5555555555555556,\"#d8576b\"],[0.6666666666666666,\"#ed7953\"],[0.7777777777777778,\"#fb9f3a\"],[0.8888888888888888,\"#fdca26\"],[1.0,\"#f0f921\"]]}],\"surface\":[{\"type\":\"surface\",\"colorbar\":{\"outlinewidth\":0,\"ticks\":\"\"},\"colorscale\":[[0.0,\"#0d0887\"],[0.1111111111111111,\"#46039f\"],[0.2222222222222222,\"#7201a8\"],[0.3333333333333333,\"#9c179e\"],[0.4444444444444444,\"#bd3786\"],[0.5555555555555556,\"#d8576b\"],[0.6666666666666666,\"#ed7953\"],[0.7777777777777778,\"#fb9f3a\"],[0.8888888888888888,\"#fdca26\"],[1.0,\"#f0f921\"]]}],\"mesh3d\":[{\"type\":\"mesh3d\",\"colorbar\":{\"outlinewidth\":0,\"ticks\":\"\"}}],\"scatter\":[{\"fillpattern\":{\"fillmode\":\"overlay\",\"size\":10,\"solidity\":0.2},\"type\":\"scatter\"}],\"parcoords\":[{\"type\":\"parcoords\",\"line\":{\"colorbar\":{\"outlinewidth\":0,\"ticks\":\"\"}}}],\"scatterpolargl\":[{\"type\":\"scatterpolargl\",\"marker\":{\"colorbar\":{\"outlinewidth\":0,\"ticks\":\"\"}}}],\"bar\":[{\"error_x\":{\"color\":\"#2a3f5f\"},\"error_y\":{\"color\":\"#2a3f5f\"},\"marker\":{\"line\":{\"color\":\"#E5ECF6\",\"width\":0.5},\"pattern\":{\"fillmode\":\"overlay\",\"size\":10,\"solidity\":0.2}},\"type\":\"bar\"}],\"scattergeo\":[{\"type\":\"scattergeo\",\"marker\":{\"colorbar\":{\"outlinewidth\":0,\"ticks\":\"\"}}}],\"scatterpolar\":[{\"type\":\"scatterpolar\",\"marker\":{\"colorbar\":{\"outlinewidth\":0,\"ticks\":\"\"}}}],\"histogram\":[{\"marker\":{\"pattern\":{\"fillmode\":\"overlay\",\"size\":10,\"solidity\":0.2}},\"type\":\"histogram\"}],\"scattergl\":[{\"type\":\"scattergl\",\"marker\":{\"colorbar\":{\"outlinewidth\":0,\"ticks\":\"\"}}}],\"scatter3d\":[{\"type\":\"scatter3d\",\"line\":{\"colorbar\":{\"outlinewidth\":0,\"ticks\":\"\"}},\"marker\":{\"colorbar\":{\"outlinewidth\":0,\"ticks\":\"\"}}}],\"scattermapbox\":[{\"type\":\"scattermapbox\",\"marker\":{\"colorbar\":{\"outlinewidth\":0,\"ticks\":\"\"}}}],\"scatterternary\":[{\"type\":\"scatterternary\",\"marker\":{\"colorbar\":{\"outlinewidth\":0,\"ticks\":\"\"}}}],\"scattercarpet\":[{\"type\":\"scattercarpet\",\"marker\":{\"colorbar\":{\"outlinewidth\":0,\"ticks\":\"\"}}}],\"carpet\":[{\"aaxis\":{\"endlinecolor\":\"#2a3f5f\",\"gridcolor\":\"white\",\"linecolor\":\"white\",\"minorgridcolor\":\"white\",\"startlinecolor\":\"#2a3f5f\"},\"baxis\":{\"endlinecolor\":\"#2a3f5f\",\"gridcolor\":\"white\",\"linecolor\":\"white\",\"minorgridcolor\":\"white\",\"startlinecolor\":\"#2a3f5f\"},\"type\":\"carpet\"}],\"table\":[{\"cells\":{\"fill\":{\"color\":\"#EBF0F8\"},\"line\":{\"color\":\"white\"}},\"header\":{\"fill\":{\"color\":\"#C8D4E3\"},\"line\":{\"color\":\"white\"}},\"type\":\"table\"}],\"barpolar\":[{\"marker\":{\"line\":{\"color\":\"#E5ECF6\",\"width\":0.5},\"pattern\":{\"fillmode\":\"overlay\",\"size\":10,\"solidity\":0.2}},\"type\":\"barpolar\"}],\"pie\":[{\"automargin\":true,\"type\":\"pie\"}]},\"layout\":{\"autotypenumbers\":\"strict\",\"colorway\":[\"#636efa\",\"#EF553B\",\"#00cc96\",\"#ab63fa\",\"#FFA15A\",\"#19d3f3\",\"#FF6692\",\"#B6E880\",\"#FF97FF\",\"#FECB52\"],\"font\":{\"color\":\"#2a3f5f\"},\"hovermode\":\"closest\",\"hoverlabel\":{\"align\":\"left\"},\"paper_bgcolor\":\"white\",\"plot_bgcolor\":\"#E5ECF6\",\"polar\":{\"bgcolor\":\"#E5ECF6\",\"angularaxis\":{\"gridcolor\":\"white\",\"linecolor\":\"white\",\"ticks\":\"\"},\"radialaxis\":{\"gridcolor\":\"white\",\"linecolor\":\"white\",\"ticks\":\"\"}},\"ternary\":{\"bgcolor\":\"#E5ECF6\",\"aaxis\":{\"gridcolor\":\"white\",\"linecolor\":\"white\",\"ticks\":\"\"},\"baxis\":{\"gridcolor\":\"white\",\"linecolor\":\"white\",\"ticks\":\"\"},\"caxis\":{\"gridcolor\":\"white\",\"linecolor\":\"white\",\"ticks\":\"\"}},\"coloraxis\":{\"colorbar\":{\"outlinewidth\":0,\"ticks\":\"\"}},\"colorscale\":{\"sequential\":[[0.0,\"#0d0887\"],[0.1111111111111111,\"#46039f\"],[0.2222222222222222,\"#7201a8\"],[0.3333333333333333,\"#9c179e\"],[0.4444444444444444,\"#bd3786\"],[0.5555555555555556,\"#d8576b\"],[0.6666666666666666,\"#ed7953\"],[0.7777777777777778,\"#fb9f3a\"],[0.8888888888888888,\"#fdca26\"],[1.0,\"#f0f921\"]],\"sequentialminus\":[[0.0,\"#0d0887\"],[0.1111111111111111,\"#46039f\"],[0.2222222222222222,\"#7201a8\"],[0.3333333333333333,\"#9c179e\"],[0.4444444444444444,\"#bd3786\"],[0.5555555555555556,\"#d8576b\"],[0.6666666666666666,\"#ed7953\"],[0.7777777777777778,\"#fb9f3a\"],[0.8888888888888888,\"#fdca26\"],[1.0,\"#f0f921\"]],\"diverging\":[[0,\"#8e0152\"],[0.1,\"#c51b7d\"],[0.2,\"#de77ae\"],[0.3,\"#f1b6da\"],[0.4,\"#fde0ef\"],[0.5,\"#f7f7f7\"],[0.6,\"#e6f5d0\"],[0.7,\"#b8e186\"],[0.8,\"#7fbc41\"],[0.9,\"#4d9221\"],[1,\"#276419\"]]},\"xaxis\":{\"gridcolor\":\"white\",\"linecolor\":\"white\",\"ticks\":\"\",\"title\":{\"standoff\":15},\"zerolinecolor\":\"white\",\"automargin\":true,\"zerolinewidth\":2},\"yaxis\":{\"gridcolor\":\"white\",\"linecolor\":\"white\",\"ticks\":\"\",\"title\":{\"standoff\":15},\"zerolinecolor\":\"white\",\"automargin\":true,\"zerolinewidth\":2},\"scene\":{\"xaxis\":{\"backgroundcolor\":\"#E5ECF6\",\"gridcolor\":\"white\",\"linecolor\":\"white\",\"showbackground\":true,\"ticks\":\"\",\"zerolinecolor\":\"white\",\"gridwidth\":2},\"yaxis\":{\"backgroundcolor\":\"#E5ECF6\",\"gridcolor\":\"white\",\"linecolor\":\"white\",\"showbackground\":true,\"ticks\":\"\",\"zerolinecolor\":\"white\",\"gridwidth\":2},\"zaxis\":{\"backgroundcolor\":\"#E5ECF6\",\"gridcolor\":\"white\",\"linecolor\":\"white\",\"showbackground\":true,\"ticks\":\"\",\"zerolinecolor\":\"white\",\"gridwidth\":2}},\"shapedefaults\":{\"line\":{\"color\":\"#2a3f5f\"}},\"annotationdefaults\":{\"arrowcolor\":\"#2a3f5f\",\"arrowhead\":0,\"arrowwidth\":1},\"geo\":{\"bgcolor\":\"white\",\"landcolor\":\"#E5ECF6\",\"subunitcolor\":\"white\",\"showland\":true,\"showlakes\":true,\"lakecolor\":\"white\"},\"title\":{\"x\":0.05},\"mapbox\":{\"style\":\"light\"}}},\"xaxis\":{\"anchor\":\"y\",\"domain\":[0.0,1.0],\"title\":{\"text\":\"Year\"},\"type\":\"log\",\"range\":[3.304059466217599,3.3053513694466234],\"tickangle\":45},\"yaxis\":{\"anchor\":\"x\",\"domain\":[0.0,1.0],\"title\":{\"text\":\"Firearm Murders\"},\"range\":[0,1500]},\"legend\":{\"title\":{\"text\":\"color\"},\"tracegroupgap\":0},\"margin\":{\"t\":60},\"updatemenus\":[{\"buttons\":[{\"args\":[null,{\"frame\":{\"duration\":500,\"redraw\":false},\"mode\":\"immediate\",\"fromcurrent\":true,\"transition\":{\"duration\":500,\"easing\":\"linear\"}}],\"label\":\"&#9654;\",\"method\":\"animate\"},{\"args\":[[null],{\"frame\":{\"duration\":0,\"redraw\":false},\"mode\":\"immediate\",\"fromcurrent\":true,\"transition\":{\"duration\":0,\"easing\":\"linear\"}}],\"label\":\"&#9724;\",\"method\":\"animate\"}],\"direction\":\"left\",\"pad\":{\"r\":10,\"t\":70},\"showactive\":false,\"type\":\"buttons\",\"x\":0.1,\"xanchor\":\"right\",\"y\":0,\"yanchor\":\"top\"}],\"sliders\":[{\"active\":0,\"currentvalue\":{\"prefix\":\"animation_frame=\"},\"len\":0.9,\"pad\":{\"b\":10,\"t\":60},\"steps\":[{\"args\":[[\"2015\"],{\"frame\":{\"duration\":0,\"redraw\":false},\"mode\":\"immediate\",\"fromcurrent\":true,\"transition\":{\"duration\":0,\"easing\":\"linear\"}}],\"label\":\"2015\",\"method\":\"animate\"},{\"args\":[[\"2016\"],{\"frame\":{\"duration\":0,\"redraw\":false},\"mode\":\"immediate\",\"fromcurrent\":true,\"transition\":{\"duration\":0,\"easing\":\"linear\"}}],\"label\":\"2016\",\"method\":\"animate\"},{\"args\":[[\"2017\"],{\"frame\":{\"duration\":0,\"redraw\":false},\"mode\":\"immediate\",\"fromcurrent\":true,\"transition\":{\"duration\":0,\"easing\":\"linear\"}}],\"label\":\"2017\",\"method\":\"animate\"},{\"args\":[[\"2018\"],{\"frame\":{\"duration\":0,\"redraw\":false},\"mode\":\"immediate\",\"fromcurrent\":true,\"transition\":{\"duration\":0,\"easing\":\"linear\"}}],\"label\":\"2018\",\"method\":\"animate\"},{\"args\":[[\"2019\"],{\"frame\":{\"duration\":0,\"redraw\":false},\"mode\":\"immediate\",\"fromcurrent\":true,\"transition\":{\"duration\":0,\"easing\":\"linear\"}}],\"label\":\"2019\",\"method\":\"animate\"}],\"x\":0.1,\"xanchor\":\"left\",\"y\":0,\"yanchor\":\"top\"}],\"title\":{\"text\":\"\"}},                        {\"responsive\": true}                    ).then(function(){\n",
       "                            Plotly.addFrames('d2799e23-8b02-48f5-95a6-c7da5a035c34', [{\"data\":[{\"hovertemplate\":\"color=Alabama<br>animation_frame=2015<br>x=%{x}<br>y=%{y}<extra></extra>\",\"ids\":[\"Alabama\"],\"legendgroup\":\"Alabama\",\"line\":{\"color\":\"#2E91E5\",\"dash\":\"solid\"},\"marker\":{\"symbol\":\"circle\"},\"mode\":\"markers+lines\",\"name\":\"Alabama\",\"orientation\":\"v\",\"showlegend\":true,\"x\":[2015],\"xaxis\":\"x\",\"y\":[3.0],\"yaxis\":\"y\",\"type\":\"scatter\"},{\"hovertemplate\":\"color=Alaska<br>animation_frame=2015<br>x=%{x}<br>y=%{y}<extra></extra>\",\"ids\":[\"Alaska\"],\"legendgroup\":\"Alaska\",\"line\":{\"color\":\"#E15F99\",\"dash\":\"solid\"},\"marker\":{\"symbol\":\"circle\"},\"mode\":\"markers+lines\",\"name\":\"Alaska\",\"orientation\":\"v\",\"showlegend\":true,\"x\":[2015],\"xaxis\":\"x\",\"y\":[39.0],\"yaxis\":\"y\",\"type\":\"scatter\"},{\"hovertemplate\":\"color=Arizona<br>animation_frame=2015<br>x=%{x}<br>y=%{y}<extra></extra>\",\"ids\":[\"Arizona\"],\"legendgroup\":\"Arizona\",\"line\":{\"color\":\"#1CA71C\",\"dash\":\"solid\"},\"marker\":{\"symbol\":\"circle\"},\"mode\":\"markers+lines\",\"name\":\"Arizona\",\"orientation\":\"v\",\"showlegend\":true,\"x\":[2015],\"xaxis\":\"x\",\"y\":[171.0],\"yaxis\":\"y\",\"type\":\"scatter\"},{\"hovertemplate\":\"color=Arkansas<br>animation_frame=2015<br>x=%{x}<br>y=%{y}<extra></extra>\",\"ids\":[\"Arkansas\"],\"legendgroup\":\"Arkansas\",\"line\":{\"color\":\"#FB0D0D\",\"dash\":\"solid\"},\"marker\":{\"symbol\":\"circle\"},\"mode\":\"markers+lines\",\"name\":\"Arkansas\",\"orientation\":\"v\",\"showlegend\":true,\"x\":[2015],\"xaxis\":\"x\",\"y\":[110.0],\"yaxis\":\"y\",\"type\":\"scatter\"},{\"hovertemplate\":\"color=California<br>animation_frame=2015<br>x=%{x}<br>y=%{y}<extra></extra>\",\"ids\":[\"California\"],\"legendgroup\":\"California\",\"line\":{\"color\":\"#DA16FF\",\"dash\":\"solid\"},\"marker\":{\"symbol\":\"circle\"},\"mode\":\"markers+lines\",\"name\":\"California\",\"orientation\":\"v\",\"showlegend\":true,\"x\":[2015],\"xaxis\":\"x\",\"y\":[1275.0],\"yaxis\":\"y\",\"type\":\"scatter\"},{\"hovertemplate\":\"color=Colorado<br>animation_frame=2015<br>x=%{x}<br>y=%{y}<extra></extra>\",\"ids\":[\"Colorado\"],\"legendgroup\":\"Colorado\",\"line\":{\"color\":\"#222A2A\",\"dash\":\"solid\"},\"marker\":{\"symbol\":\"circle\"},\"mode\":\"markers+lines\",\"name\":\"Colorado\",\"orientation\":\"v\",\"showlegend\":true,\"x\":[2015],\"xaxis\":\"x\",\"y\":[115.0],\"yaxis\":\"y\",\"type\":\"scatter\"},{\"hovertemplate\":\"color=Connecticut<br>animation_frame=2015<br>x=%{x}<br>y=%{y}<extra></extra>\",\"ids\":[\"Connecticut\"],\"legendgroup\":\"Connecticut\",\"line\":{\"color\":\"#B68100\",\"dash\":\"solid\"},\"marker\":{\"symbol\":\"circle\"},\"mode\":\"markers+lines\",\"name\":\"Connecticut\",\"orientation\":\"v\",\"showlegend\":true,\"x\":[2015],\"xaxis\":\"x\",\"y\":[73.0],\"yaxis\":\"y\",\"type\":\"scatter\"},{\"hovertemplate\":\"color=Delaware<br>animation_frame=2015<br>x=%{x}<br>y=%{y}<extra></extra>\",\"ids\":[\"Delaware\"],\"legendgroup\":\"Delaware\",\"line\":{\"color\":\"#750D86\",\"dash\":\"solid\"},\"marker\":{\"symbol\":\"circle\"},\"mode\":\"markers+lines\",\"name\":\"Delaware\",\"orientation\":\"v\",\"showlegend\":true,\"x\":[2015],\"xaxis\":\"x\",\"y\":[52.0],\"yaxis\":\"y\",\"type\":\"scatter\"},{\"hovertemplate\":\"color=District of Columbia<br>animation_frame=2015<br>x=%{x}<br>y=%{y}<extra></extra>\",\"ids\":[\"District of Columbia\"],\"legendgroup\":\"District of Columbia\",\"line\":{\"color\":\"#EB663B\",\"dash\":\"solid\"},\"marker\":{\"symbol\":\"circle\"},\"mode\":\"markers+lines\",\"name\":\"District of Columbia\",\"orientation\":\"v\",\"showlegend\":true,\"x\":[2015],\"xaxis\":\"x\",\"y\":[121.0],\"yaxis\":\"y\",\"type\":\"scatter\"},{\"hovertemplate\":\"color=Georgia<br>animation_frame=2015<br>x=%{x}<br>y=%{y}<extra></extra>\",\"ids\":[\"Georgia\"],\"legendgroup\":\"Georgia\",\"line\":{\"color\":\"#511CFB\",\"dash\":\"solid\"},\"marker\":{\"symbol\":\"circle\"},\"mode\":\"markers+lines\",\"name\":\"Georgia\",\"orientation\":\"v\",\"showlegend\":true,\"x\":[2015],\"xaxis\":\"x\",\"y\":[464.0],\"yaxis\":\"y\",\"type\":\"scatter\"},{\"hovertemplate\":\"color=Guam<br>animation_frame=2015<br>x=%{x}<br>y=%{y}<extra></extra>\",\"ids\":[\"Guam\"],\"legendgroup\":\"Guam\",\"line\":{\"color\":\"#00A08B\",\"dash\":\"solid\"},\"marker\":{\"symbol\":\"circle\"},\"mode\":\"markers+lines\",\"name\":\"Guam\",\"orientation\":\"v\",\"showlegend\":true,\"x\":[2015],\"xaxis\":\"x\",\"y\":[3.0],\"yaxis\":\"y\",\"type\":\"scatter\"},{\"hovertemplate\":\"color=Hawaii<br>animation_frame=2015<br>x=%{x}<br>y=%{y}<extra></extra>\",\"ids\":[\"Hawaii\"],\"legendgroup\":\"Hawaii\",\"line\":{\"color\":\"#FB00D1\",\"dash\":\"solid\"},\"marker\":{\"symbol\":\"circle\"},\"mode\":\"markers+lines\",\"name\":\"Hawaii\",\"orientation\":\"v\",\"showlegend\":true,\"x\":[2015],\"xaxis\":\"x\",\"y\":[4.0],\"yaxis\":\"y\",\"type\":\"scatter\"},{\"hovertemplate\":\"color=Idaho<br>animation_frame=2015<br>x=%{x}<br>y=%{y}<extra></extra>\",\"ids\":[\"Idaho\"],\"legendgroup\":\"Idaho\",\"line\":{\"color\":\"#FC0080\",\"dash\":\"solid\"},\"marker\":{\"symbol\":\"circle\"},\"mode\":\"markers+lines\",\"name\":\"Idaho\",\"orientation\":\"v\",\"showlegend\":true,\"x\":[2015],\"xaxis\":\"x\",\"y\":[24.0],\"yaxis\":\"y\",\"type\":\"scatter\"},{\"hovertemplate\":\"color=Illinois<br>animation_frame=2015<br>x=%{x}<br>y=%{y}<extra></extra>\",\"ids\":[\"Illinois\"],\"legendgroup\":\"Illinois\",\"line\":{\"color\":\"#B2828D\",\"dash\":\"solid\"},\"marker\":{\"symbol\":\"circle\"},\"mode\":\"markers+lines\",\"name\":\"Illinois\",\"orientation\":\"v\",\"showlegend\":true,\"x\":[2015],\"xaxis\":\"x\",\"y\":[440.0],\"yaxis\":\"y\",\"type\":\"scatter\"},{\"hovertemplate\":\"color=Indiana<br>animation_frame=2015<br>x=%{x}<br>y=%{y}<extra></extra>\",\"ids\":[\"Indiana\"],\"legendgroup\":\"Indiana\",\"line\":{\"color\":\"#6C7C32\",\"dash\":\"solid\"},\"marker\":{\"symbol\":\"circle\"},\"mode\":\"markers+lines\",\"name\":\"Indiana\",\"orientation\":\"v\",\"showlegend\":true,\"x\":[2015],\"xaxis\":\"x\",\"y\":[209.0],\"yaxis\":\"y\",\"type\":\"scatter\"},{\"hovertemplate\":\"color=Iowa<br>animation_frame=2015<br>x=%{x}<br>y=%{y}<extra></extra>\",\"ids\":[\"Iowa\"],\"legendgroup\":\"Iowa\",\"line\":{\"color\":\"#778AAE\",\"dash\":\"solid\"},\"marker\":{\"symbol\":\"circle\"},\"mode\":\"markers+lines\",\"name\":\"Iowa\",\"orientation\":\"v\",\"showlegend\":true,\"x\":[2015],\"xaxis\":\"x\",\"y\":[49.0],\"yaxis\":\"y\",\"type\":\"scatter\"},{\"hovertemplate\":\"color=Kansas<br>animation_frame=2015<br>x=%{x}<br>y=%{y}<extra></extra>\",\"ids\":[\"Kansas\"],\"legendgroup\":\"Kansas\",\"line\":{\"color\":\"#862A16\",\"dash\":\"solid\"},\"marker\":{\"symbol\":\"circle\"},\"mode\":\"markers+lines\",\"name\":\"Kansas\",\"orientation\":\"v\",\"showlegend\":true,\"x\":[2015],\"xaxis\":\"x\",\"y\":[91.0],\"yaxis\":\"y\",\"type\":\"scatter\"},{\"hovertemplate\":\"color=Kentucky<br>animation_frame=2015<br>x=%{x}<br>y=%{y}<extra></extra>\",\"ids\":[\"Kentucky\"],\"legendgroup\":\"Kentucky\",\"line\":{\"color\":\"#A777F1\",\"dash\":\"solid\"},\"marker\":{\"symbol\":\"circle\"},\"mode\":\"markers+lines\",\"name\":\"Kentucky\",\"orientation\":\"v\",\"showlegend\":true,\"x\":[2015],\"xaxis\":\"x\",\"y\":[141.0],\"yaxis\":\"y\",\"type\":\"scatter\"},{\"hovertemplate\":\"color=Louisiana<br>animation_frame=2015<br>x=%{x}<br>y=%{y}<extra></extra>\",\"ids\":[\"Louisiana\"],\"legendgroup\":\"Louisiana\",\"line\":{\"color\":\"#620042\",\"dash\":\"solid\"},\"marker\":{\"symbol\":\"circle\"},\"mode\":\"markers+lines\",\"name\":\"Louisiana\",\"orientation\":\"v\",\"showlegend\":true,\"x\":[2015],\"xaxis\":\"x\",\"y\":[379.0],\"yaxis\":\"y\",\"type\":\"scatter\"},{\"hovertemplate\":\"color=Maine<br>animation_frame=2015<br>x=%{x}<br>y=%{y}<extra></extra>\",\"ids\":[\"Maine\"],\"legendgroup\":\"Maine\",\"line\":{\"color\":\"#1616A7\",\"dash\":\"solid\"},\"marker\":{\"symbol\":\"circle\"},\"mode\":\"markers+lines\",\"name\":\"Maine\",\"orientation\":\"v\",\"showlegend\":true,\"x\":[2015],\"xaxis\":\"x\",\"y\":[16.0],\"yaxis\":\"y\",\"type\":\"scatter\"},{\"hovertemplate\":\"color=Maryland<br>animation_frame=2015<br>x=%{x}<br>y=%{y}<extra></extra>\",\"ids\":[\"Maryland\"],\"legendgroup\":\"Maryland\",\"line\":{\"color\":\"#DA60CA\",\"dash\":\"solid\"},\"marker\":{\"symbol\":\"circle\"},\"mode\":\"markers+lines\",\"name\":\"Maryland\",\"orientation\":\"v\",\"showlegend\":true,\"x\":[2015],\"xaxis\":\"x\",\"y\":[279.0],\"yaxis\":\"y\",\"type\":\"scatter\"},{\"hovertemplate\":\"color=Massachusetts<br>animation_frame=2015<br>x=%{x}<br>y=%{y}<extra></extra>\",\"ids\":[\"Massachusetts\"],\"legendgroup\":\"Massachusetts\",\"line\":{\"color\":\"#6C4516\",\"dash\":\"solid\"},\"marker\":{\"symbol\":\"circle\"},\"mode\":\"markers+lines\",\"name\":\"Massachusetts\",\"orientation\":\"v\",\"showlegend\":true,\"x\":[2015],\"xaxis\":\"x\",\"y\":[81.0],\"yaxis\":\"y\",\"type\":\"scatter\"},{\"hovertemplate\":\"color=Michigan<br>animation_frame=2015<br>x=%{x}<br>y=%{y}<extra></extra>\",\"ids\":[\"Michigan\"],\"legendgroup\":\"Michigan\",\"line\":{\"color\":\"#0D2A63\",\"dash\":\"solid\"},\"marker\":{\"symbol\":\"circle\"},\"mode\":\"markers+lines\",\"name\":\"Michigan\",\"orientation\":\"v\",\"showlegend\":true,\"x\":[2015],\"xaxis\":\"x\",\"y\":[389.0],\"yaxis\":\"y\",\"type\":\"scatter\"},{\"hovertemplate\":\"color=Minnesota<br>animation_frame=2015<br>x=%{x}<br>y=%{y}<extra></extra>\",\"ids\":[\"Minnesota\"],\"legendgroup\":\"Minnesota\",\"line\":{\"color\":\"#AF0038\",\"dash\":\"solid\"},\"marker\":{\"symbol\":\"circle\"},\"mode\":\"markers+lines\",\"name\":\"Minnesota\",\"orientation\":\"v\",\"showlegend\":true,\"x\":[2015],\"xaxis\":\"x\",\"y\":[79.0],\"yaxis\":\"y\",\"type\":\"scatter\"},{\"hovertemplate\":\"color=Mississippi<br>animation_frame=2015<br>x=%{x}<br>y=%{y}<extra></extra>\",\"ids\":[\"Mississippi\"],\"legendgroup\":\"Mississippi\",\"line\":{\"color\":\"#2E91E5\",\"dash\":\"solid\"},\"marker\":{\"symbol\":\"circle\"},\"mode\":\"markers+lines\",\"name\":\"Mississippi\",\"orientation\":\"v\",\"showlegend\":true,\"x\":[2015],\"xaxis\":\"x\",\"y\":[126.0],\"yaxis\":\"y\",\"type\":\"scatter\"},{\"hovertemplate\":\"color=Missouri<br>animation_frame=2015<br>x=%{x}<br>y=%{y}<extra></extra>\",\"ids\":[\"Missouri\"],\"legendgroup\":\"Missouri\",\"line\":{\"color\":\"#E15F99\",\"dash\":\"solid\"},\"marker\":{\"symbol\":\"circle\"},\"mode\":\"markers+lines\",\"name\":\"Missouri\",\"orientation\":\"v\",\"showlegend\":true,\"x\":[2015],\"xaxis\":\"x\",\"y\":[418.0],\"yaxis\":\"y\",\"type\":\"scatter\"},{\"hovertemplate\":\"color=Montana<br>animation_frame=2015<br>x=%{x}<br>y=%{y}<extra></extra>\",\"ids\":[\"Montana\"],\"legendgroup\":\"Montana\",\"line\":{\"color\":\"#1CA71C\",\"dash\":\"solid\"},\"marker\":{\"symbol\":\"circle\"},\"mode\":\"markers+lines\",\"name\":\"Montana\",\"orientation\":\"v\",\"showlegend\":true,\"x\":[2015],\"xaxis\":\"x\",\"y\":[18.0],\"yaxis\":\"y\",\"type\":\"scatter\"},{\"hovertemplate\":\"color=Nebraska<br>animation_frame=2015<br>x=%{x}<br>y=%{y}<extra></extra>\",\"ids\":[\"Nebraska\"],\"legendgroup\":\"Nebraska\",\"line\":{\"color\":\"#FB0D0D\",\"dash\":\"solid\"},\"marker\":{\"symbol\":\"circle\"},\"mode\":\"markers+lines\",\"name\":\"Nebraska\",\"orientation\":\"v\",\"showlegend\":true,\"x\":[2015],\"xaxis\":\"x\",\"y\":[43.0],\"yaxis\":\"y\",\"type\":\"scatter\"},{\"hovertemplate\":\"color=Nevada<br>animation_frame=2015<br>x=%{x}<br>y=%{y}<extra></extra>\",\"ids\":[\"Nevada\"],\"legendgroup\":\"Nevada\",\"line\":{\"color\":\"#DA16FF\",\"dash\":\"solid\"},\"marker\":{\"symbol\":\"circle\"},\"mode\":\"markers+lines\",\"name\":\"Nevada\",\"orientation\":\"v\",\"showlegend\":true,\"x\":[2015],\"xaxis\":\"x\",\"y\":[113.0],\"yaxis\":\"y\",\"type\":\"scatter\"},{\"hovertemplate\":\"color=New Hampshire<br>animation_frame=2015<br>x=%{x}<br>y=%{y}<extra></extra>\",\"ids\":[\"New Hampshire\"],\"legendgroup\":\"New Hampshire\",\"line\":{\"color\":\"#222A2A\",\"dash\":\"solid\"},\"marker\":{\"symbol\":\"circle\"},\"mode\":\"markers+lines\",\"name\":\"New Hampshire\",\"orientation\":\"v\",\"showlegend\":true,\"x\":[2015],\"xaxis\":\"x\",\"y\":[8.0],\"yaxis\":\"y\",\"type\":\"scatter\"},{\"hovertemplate\":\"color=New Jersey<br>animation_frame=2015<br>x=%{x}<br>y=%{y}<extra></extra>\",\"ids\":[\"New Jersey\"],\"legendgroup\":\"New Jersey\",\"line\":{\"color\":\"#B68100\",\"dash\":\"solid\"},\"marker\":{\"symbol\":\"circle\"},\"mode\":\"markers+lines\",\"name\":\"New Jersey\",\"orientation\":\"v\",\"showlegend\":true,\"x\":[2015],\"xaxis\":\"x\",\"y\":[255.0],\"yaxis\":\"y\",\"type\":\"scatter\"},{\"hovertemplate\":\"color=New Mexico<br>animation_frame=2015<br>x=%{x}<br>y=%{y}<extra></extra>\",\"ids\":[\"New Mexico\"],\"legendgroup\":\"New Mexico\",\"line\":{\"color\":\"#750D86\",\"dash\":\"solid\"},\"marker\":{\"symbol\":\"circle\"},\"mode\":\"markers+lines\",\"name\":\"New Mexico\",\"orientation\":\"v\",\"showlegend\":true,\"x\":[2015],\"xaxis\":\"x\",\"y\":[56.0],\"yaxis\":\"y\",\"type\":\"scatter\"},{\"hovertemplate\":\"color=New York<br>animation_frame=2015<br>x=%{x}<br>y=%{y}<extra></extra>\",\"ids\":[\"New York\"],\"legendgroup\":\"New York\",\"line\":{\"color\":\"#EB663B\",\"dash\":\"solid\"},\"marker\":{\"symbol\":\"circle\"},\"mode\":\"markers+lines\",\"name\":\"New York\",\"orientation\":\"v\",\"showlegend\":true,\"x\":[2015],\"xaxis\":\"x\",\"y\":[383.0],\"yaxis\":\"y\",\"type\":\"scatter\"},{\"hovertemplate\":\"color=North Carolina<br>animation_frame=2015<br>x=%{x}<br>y=%{y}<extra></extra>\",\"ids\":[\"North Carolina\"],\"legendgroup\":\"North Carolina\",\"line\":{\"color\":\"#511CFB\",\"dash\":\"solid\"},\"marker\":{\"symbol\":\"circle\"},\"mode\":\"markers+lines\",\"name\":\"North Carolina\",\"orientation\":\"v\",\"showlegend\":true,\"x\":[2015],\"xaxis\":\"x\",\"y\":[353.0],\"yaxis\":\"y\",\"type\":\"scatter\"},{\"hovertemplate\":\"color=North Dakota<br>animation_frame=2015<br>x=%{x}<br>y=%{y}<extra></extra>\",\"ids\":[\"North Dakota\"],\"legendgroup\":\"North Dakota\",\"line\":{\"color\":\"#00A08B\",\"dash\":\"solid\"},\"marker\":{\"symbol\":\"circle\"},\"mode\":\"markers+lines\",\"name\":\"North Dakota\",\"orientation\":\"v\",\"showlegend\":true,\"x\":[2015],\"xaxis\":\"x\",\"y\":[9.0],\"yaxis\":\"y\",\"type\":\"scatter\"},{\"hovertemplate\":\"color=Ohio<br>animation_frame=2015<br>x=%{x}<br>y=%{y}<extra></extra>\",\"ids\":[\"Ohio\"],\"legendgroup\":\"Ohio\",\"line\":{\"color\":\"#FB00D1\",\"dash\":\"solid\"},\"marker\":{\"symbol\":\"circle\"},\"mode\":\"markers+lines\",\"name\":\"Ohio\",\"orientation\":\"v\",\"showlegend\":true,\"x\":[2015],\"xaxis\":\"x\",\"y\":[316.0],\"yaxis\":\"y\",\"type\":\"scatter\"},{\"hovertemplate\":\"color=Oklahoma<br>animation_frame=2015<br>x=%{x}<br>y=%{y}<extra></extra>\",\"ids\":[\"Oklahoma\"],\"legendgroup\":\"Oklahoma\",\"line\":{\"color\":\"#FC0080\",\"dash\":\"solid\"},\"marker\":{\"symbol\":\"circle\"},\"mode\":\"markers+lines\",\"name\":\"Oklahoma\",\"orientation\":\"v\",\"showlegend\":true,\"x\":[2015],\"xaxis\":\"x\",\"y\":[149.0],\"yaxis\":\"y\",\"type\":\"scatter\"},{\"hovertemplate\":\"color=Oregon<br>animation_frame=2015<br>x=%{x}<br>y=%{y}<extra></extra>\",\"ids\":[\"Oregon\"],\"legendgroup\":\"Oregon\",\"line\":{\"color\":\"#B2828D\",\"dash\":\"solid\"},\"marker\":{\"symbol\":\"circle\"},\"mode\":\"markers+lines\",\"name\":\"Oregon\",\"orientation\":\"v\",\"showlegend\":true,\"x\":[2015],\"xaxis\":\"x\",\"y\":[34.0],\"yaxis\":\"y\",\"type\":\"scatter\"},{\"hovertemplate\":\"color=Pennsylvania<br>animation_frame=2015<br>x=%{x}<br>y=%{y}<extra></extra>\",\"ids\":[\"Pennsylvania\"],\"legendgroup\":\"Pennsylvania\",\"line\":{\"color\":\"#6C7C32\",\"dash\":\"solid\"},\"marker\":{\"symbol\":\"circle\"},\"mode\":\"markers+lines\",\"name\":\"Pennsylvania\",\"orientation\":\"v\",\"showlegend\":true,\"x\":[2015],\"xaxis\":\"x\",\"y\":[497.0],\"yaxis\":\"y\",\"type\":\"scatter\"},{\"hovertemplate\":\"color=Rhode Island<br>animation_frame=2015<br>x=%{x}<br>y=%{y}<extra></extra>\",\"ids\":[\"Rhode Island\"],\"legendgroup\":\"Rhode Island\",\"line\":{\"color\":\"#778AAE\",\"dash\":\"solid\"},\"marker\":{\"symbol\":\"circle\"},\"mode\":\"markers+lines\",\"name\":\"Rhode Island\",\"orientation\":\"v\",\"showlegend\":true,\"x\":[2015],\"xaxis\":\"x\",\"y\":[10.0],\"yaxis\":\"y\",\"type\":\"scatter\"},{\"hovertemplate\":\"color=South Carolina<br>animation_frame=2015<br>x=%{x}<br>y=%{y}<extra></extra>\",\"ids\":[\"South Carolina\"],\"legendgroup\":\"South Carolina\",\"line\":{\"color\":\"#862A16\",\"dash\":\"solid\"},\"marker\":{\"symbol\":\"circle\"},\"mode\":\"markers+lines\",\"name\":\"South Carolina\",\"orientation\":\"v\",\"showlegend\":true,\"x\":[2015],\"xaxis\":\"x\",\"y\":[312.0],\"yaxis\":\"y\",\"type\":\"scatter\"},{\"hovertemplate\":\"color=South Dakota<br>animation_frame=2015<br>x=%{x}<br>y=%{y}<extra></extra>\",\"ids\":[\"South Dakota\"],\"legendgroup\":\"South Dakota\",\"line\":{\"color\":\"#A777F1\",\"dash\":\"solid\"},\"marker\":{\"symbol\":\"circle\"},\"mode\":\"markers+lines\",\"name\":\"South Dakota\",\"orientation\":\"v\",\"showlegend\":true,\"x\":[2015],\"xaxis\":\"x\",\"y\":[12.0],\"yaxis\":\"y\",\"type\":\"scatter\"},{\"hovertemplate\":\"color=Tennessee<br>animation_frame=2015<br>x=%{x}<br>y=%{y}<extra></extra>\",\"ids\":[\"Tennessee\"],\"legendgroup\":\"Tennessee\",\"line\":{\"color\":\"#620042\",\"dash\":\"solid\"},\"marker\":{\"symbol\":\"circle\"},\"mode\":\"markers+lines\",\"name\":\"Tennessee\",\"orientation\":\"v\",\"showlegend\":true,\"x\":[2015],\"xaxis\":\"x\",\"y\":[297.0],\"yaxis\":\"y\",\"type\":\"scatter\"},{\"hovertemplate\":\"color=Texas<br>animation_frame=2015<br>x=%{x}<br>y=%{y}<extra></extra>\",\"ids\":[\"Texas\"],\"legendgroup\":\"Texas\",\"line\":{\"color\":\"#1616A7\",\"dash\":\"solid\"},\"marker\":{\"symbol\":\"circle\"},\"mode\":\"markers+lines\",\"name\":\"Texas\",\"orientation\":\"v\",\"showlegend\":true,\"x\":[2015],\"xaxis\":\"x\",\"y\":[906.0],\"yaxis\":\"y\",\"type\":\"scatter\"},{\"hovertemplate\":\"color=U.S. Virgin Islands<br>animation_frame=2015<br>x=%{x}<br>y=%{y}<extra></extra>\",\"ids\":[\"U.S. Virgin Islands\"],\"legendgroup\":\"U.S. Virgin Islands\",\"line\":{\"color\":\"#DA60CA\",\"dash\":\"solid\"},\"marker\":{\"symbol\":\"circle\"},\"mode\":\"markers+lines\",\"name\":\"U.S. Virgin Islands\",\"orientation\":\"v\",\"showlegend\":true,\"x\":[2015],\"xaxis\":\"x\",\"y\":[26.0],\"yaxis\":\"y\",\"type\":\"scatter\"},{\"hovertemplate\":\"color=Utah<br>animation_frame=2015<br>x=%{x}<br>y=%{y}<extra></extra>\",\"ids\":[\"Utah\"],\"legendgroup\":\"Utah\",\"line\":{\"color\":\"#6C4516\",\"dash\":\"solid\"},\"marker\":{\"symbol\":\"circle\"},\"mode\":\"markers+lines\",\"name\":\"Utah\",\"orientation\":\"v\",\"showlegend\":true,\"x\":[2015],\"xaxis\":\"x\",\"y\":[34.0],\"yaxis\":\"y\",\"type\":\"scatter\"},{\"hovertemplate\":\"color=Vermont<br>animation_frame=2015<br>x=%{x}<br>y=%{y}<extra></extra>\",\"ids\":[\"Vermont\"],\"legendgroup\":\"Vermont\",\"line\":{\"color\":\"#0D2A63\",\"dash\":\"solid\"},\"marker\":{\"symbol\":\"circle\"},\"mode\":\"markers+lines\",\"name\":\"Vermont\",\"orientation\":\"v\",\"showlegend\":true,\"x\":[2015],\"xaxis\":\"x\",\"y\":[8.0],\"yaxis\":\"y\",\"type\":\"scatter\"},{\"hovertemplate\":\"color=Virginia<br>animation_frame=2015<br>x=%{x}<br>y=%{y}<extra></extra>\",\"ids\":[\"Virginia\"],\"legendgroup\":\"Virginia\",\"line\":{\"color\":\"#AF0038\",\"dash\":\"solid\"},\"marker\":{\"symbol\":\"circle\"},\"mode\":\"markers+lines\",\"name\":\"Virginia\",\"orientation\":\"v\",\"showlegend\":true,\"x\":[2015],\"xaxis\":\"x\",\"y\":[275.0],\"yaxis\":\"y\",\"type\":\"scatter\"},{\"hovertemplate\":\"color=Washington<br>animation_frame=2015<br>x=%{x}<br>y=%{y}<extra></extra>\",\"ids\":[\"Washington\"],\"legendgroup\":\"Washington\",\"line\":{\"color\":\"#2E91E5\",\"dash\":\"solid\"},\"marker\":{\"symbol\":\"circle\"},\"mode\":\"markers+lines\",\"name\":\"Washington\",\"orientation\":\"v\",\"showlegend\":true,\"x\":[2015],\"xaxis\":\"x\",\"y\":[141.0],\"yaxis\":\"y\",\"type\":\"scatter\"},{\"hovertemplate\":\"color=West Virginia<br>animation_frame=2015<br>x=%{x}<br>y=%{y}<extra></extra>\",\"ids\":[\"West Virginia\"],\"legendgroup\":\"West Virginia\",\"line\":{\"color\":\"#E15F99\",\"dash\":\"solid\"},\"marker\":{\"symbol\":\"circle\"},\"mode\":\"markers+lines\",\"name\":\"West Virginia\",\"orientation\":\"v\",\"showlegend\":true,\"x\":[2015],\"xaxis\":\"x\",\"y\":[30.0],\"yaxis\":\"y\",\"type\":\"scatter\"},{\"hovertemplate\":\"color=Wisconsin<br>animation_frame=2015<br>x=%{x}<br>y=%{y}<extra></extra>\",\"ids\":[\"Wisconsin\"],\"legendgroup\":\"Wisconsin\",\"line\":{\"color\":\"#1CA71C\",\"dash\":\"solid\"},\"marker\":{\"symbol\":\"circle\"},\"mode\":\"markers+lines\",\"name\":\"Wisconsin\",\"orientation\":\"v\",\"showlegend\":true,\"x\":[2015],\"xaxis\":\"x\",\"y\":[170.0],\"yaxis\":\"y\",\"type\":\"scatter\"},{\"hovertemplate\":\"color=Wyoming<br>animation_frame=2015<br>x=%{x}<br>y=%{y}<extra></extra>\",\"ids\":[\"Wyoming\"],\"legendgroup\":\"Wyoming\",\"line\":{\"color\":\"#FB0D0D\",\"dash\":\"solid\"},\"marker\":{\"symbol\":\"circle\"},\"mode\":\"markers+lines\",\"name\":\"Wyoming\",\"orientation\":\"v\",\"showlegend\":true,\"x\":[2015],\"xaxis\":\"x\",\"y\":[10.0],\"yaxis\":\"y\",\"type\":\"scatter\"}],\"name\":\"2015\"},{\"data\":[{\"hovertemplate\":\"color=Alabama<br>animation_frame=2016<br>x=%{x}<br>y=%{y}<extra></extra>\",\"ids\":[\"Alabama\"],\"legendgroup\":\"Alabama\",\"line\":{\"color\":\"#2E91E5\",\"dash\":\"solid\"},\"marker\":{\"symbol\":\"circle\"},\"mode\":\"markers+lines\",\"name\":\"Alabama\",\"orientation\":\"v\",\"showlegend\":true,\"x\":[2016],\"xaxis\":\"x\",\"y\":[1.0],\"yaxis\":\"y\",\"type\":\"scatter\"},{\"hovertemplate\":\"color=Alaska<br>animation_frame=2016<br>x=%{x}<br>y=%{y}<extra></extra>\",\"ids\":[\"Alaska\"],\"legendgroup\":\"Alaska\",\"line\":{\"color\":\"#E15F99\",\"dash\":\"solid\"},\"marker\":{\"symbol\":\"circle\"},\"mode\":\"markers+lines\",\"name\":\"Alaska\",\"orientation\":\"v\",\"showlegend\":true,\"x\":[2016],\"xaxis\":\"x\",\"y\":[43.0],\"yaxis\":\"y\",\"type\":\"scatter\"},{\"hovertemplate\":\"color=Arizona<br>animation_frame=2016<br>x=%{x}<br>y=%{y}<extra></extra>\",\"ids\":[\"Arizona\"],\"legendgroup\":\"Arizona\",\"line\":{\"color\":\"#1CA71C\",\"dash\":\"solid\"},\"marker\":{\"symbol\":\"circle\"},\"mode\":\"markers+lines\",\"name\":\"Arizona\",\"orientation\":\"v\",\"showlegend\":true,\"x\":[2016],\"xaxis\":\"x\",\"y\":[227.0],\"yaxis\":\"y\",\"type\":\"scatter\"},{\"hovertemplate\":\"color=Arkansas<br>animation_frame=2016<br>x=%{x}<br>y=%{y}<extra></extra>\",\"ids\":[\"Arkansas\"],\"legendgroup\":\"Arkansas\",\"line\":{\"color\":\"#FB0D0D\",\"dash\":\"solid\"},\"marker\":{\"symbol\":\"circle\"},\"mode\":\"markers+lines\",\"name\":\"Arkansas\",\"orientation\":\"v\",\"showlegend\":true,\"x\":[2016],\"xaxis\":\"x\",\"y\":[151.0],\"yaxis\":\"y\",\"type\":\"scatter\"},{\"hovertemplate\":\"color=California<br>animation_frame=2016<br>x=%{x}<br>y=%{y}<extra></extra>\",\"ids\":[\"California\"],\"legendgroup\":\"California\",\"line\":{\"color\":\"#DA16FF\",\"dash\":\"solid\"},\"marker\":{\"symbol\":\"circle\"},\"mode\":\"markers+lines\",\"name\":\"California\",\"orientation\":\"v\",\"showlegend\":true,\"x\":[2016],\"xaxis\":\"x\",\"y\":[1368.0],\"yaxis\":\"y\",\"type\":\"scatter\"},{\"hovertemplate\":\"color=Colorado<br>animation_frame=2016<br>x=%{x}<br>y=%{y}<extra></extra>\",\"ids\":[\"Colorado\"],\"legendgroup\":\"Colorado\",\"line\":{\"color\":\"#222A2A\",\"dash\":\"solid\"},\"marker\":{\"symbol\":\"circle\"},\"mode\":\"markers+lines\",\"name\":\"Colorado\",\"orientation\":\"v\",\"showlegend\":true,\"x\":[2016],\"xaxis\":\"x\",\"y\":[136.0],\"yaxis\":\"y\",\"type\":\"scatter\"},{\"hovertemplate\":\"color=Connecticut<br>animation_frame=2016<br>x=%{x}<br>y=%{y}<extra></extra>\",\"ids\":[\"Connecticut\"],\"legendgroup\":\"Connecticut\",\"line\":{\"color\":\"#B68100\",\"dash\":\"solid\"},\"marker\":{\"symbol\":\"circle\"},\"mode\":\"markers+lines\",\"name\":\"Connecticut\",\"orientation\":\"v\",\"showlegend\":true,\"x\":[2016],\"xaxis\":\"x\",\"y\":[48.0],\"yaxis\":\"y\",\"type\":\"scatter\"},{\"hovertemplate\":\"color=Delaware<br>animation_frame=2016<br>x=%{x}<br>y=%{y}<extra></extra>\",\"ids\":[\"Delaware\"],\"legendgroup\":\"Delaware\",\"line\":{\"color\":\"#750D86\",\"dash\":\"solid\"},\"marker\":{\"symbol\":\"circle\"},\"mode\":\"markers+lines\",\"name\":\"Delaware\",\"orientation\":\"v\",\"showlegend\":true,\"x\":[2016],\"xaxis\":\"x\",\"y\":[41.0],\"yaxis\":\"y\",\"type\":\"scatter\"},{\"hovertemplate\":\"color=District of Columbia<br>animation_frame=2016<br>x=%{x}<br>y=%{y}<extra></extra>\",\"ids\":[\"District of Columbia\"],\"legendgroup\":\"District of Columbia\",\"line\":{\"color\":\"#EB663B\",\"dash\":\"solid\"},\"marker\":{\"symbol\":\"circle\"},\"mode\":\"markers+lines\",\"name\":\"District of Columbia\",\"orientation\":\"v\",\"showlegend\":true,\"x\":[2016],\"xaxis\":\"x\",\"y\":[105.0],\"yaxis\":\"y\",\"type\":\"scatter\"},{\"hovertemplate\":\"color=Georgia<br>animation_frame=2016<br>x=%{x}<br>y=%{y}<extra></extra>\",\"ids\":[\"Georgia\"],\"legendgroup\":\"Georgia\",\"line\":{\"color\":\"#511CFB\",\"dash\":\"solid\"},\"marker\":{\"symbol\":\"circle\"},\"mode\":\"markers+lines\",\"name\":\"Georgia\",\"orientation\":\"v\",\"showlegend\":true,\"x\":[2016],\"xaxis\":\"x\",\"y\":[522.0],\"yaxis\":\"y\",\"type\":\"scatter\"},{\"hovertemplate\":\"color=Hawaii<br>animation_frame=2016<br>x=%{x}<br>y=%{y}<extra></extra>\",\"ids\":[\"Hawaii\"],\"legendgroup\":\"Hawaii\",\"line\":{\"color\":\"#FB00D1\",\"dash\":\"solid\"},\"marker\":{\"symbol\":\"circle\"},\"mode\":\"markers+lines\",\"name\":\"Hawaii\",\"orientation\":\"v\",\"showlegend\":true,\"x\":[2016],\"xaxis\":\"x\",\"y\":[19.0],\"yaxis\":\"y\",\"type\":\"scatter\"},{\"hovertemplate\":\"color=Idaho<br>animation_frame=2016<br>x=%{x}<br>y=%{y}<extra></extra>\",\"ids\":[\"Idaho\"],\"legendgroup\":\"Idaho\",\"line\":{\"color\":\"#FC0080\",\"dash\":\"solid\"},\"marker\":{\"symbol\":\"circle\"},\"mode\":\"markers+lines\",\"name\":\"Idaho\",\"orientation\":\"v\",\"showlegend\":true,\"x\":[2016],\"xaxis\":\"x\",\"y\":[17.0],\"yaxis\":\"y\",\"type\":\"scatter\"},{\"hovertemplate\":\"color=Illinois<br>animation_frame=2016<br>x=%{x}<br>y=%{y}<extra></extra>\",\"ids\":[\"Illinois\"],\"legendgroup\":\"Illinois\",\"line\":{\"color\":\"#B2828D\",\"dash\":\"solid\"},\"marker\":{\"symbol\":\"circle\"},\"mode\":\"markers+lines\",\"name\":\"Illinois\",\"orientation\":\"v\",\"showlegend\":true,\"x\":[2016],\"xaxis\":\"x\",\"y\":[799.0],\"yaxis\":\"y\",\"type\":\"scatter\"},{\"hovertemplate\":\"color=Indiana<br>animation_frame=2016<br>x=%{x}<br>y=%{y}<extra></extra>\",\"ids\":[\"Indiana\"],\"legendgroup\":\"Indiana\",\"line\":{\"color\":\"#6C7C32\",\"dash\":\"solid\"},\"marker\":{\"symbol\":\"circle\"},\"mode\":\"markers+lines\",\"name\":\"Indiana\",\"orientation\":\"v\",\"showlegend\":true,\"x\":[2016],\"xaxis\":\"x\",\"y\":[287.0],\"yaxis\":\"y\",\"type\":\"scatter\"},{\"hovertemplate\":\"color=Iowa<br>animation_frame=2016<br>x=%{x}<br>y=%{y}<extra></extra>\",\"ids\":[\"Iowa\"],\"legendgroup\":\"Iowa\",\"line\":{\"color\":\"#778AAE\",\"dash\":\"solid\"},\"marker\":{\"symbol\":\"circle\"},\"mode\":\"markers+lines\",\"name\":\"Iowa\",\"orientation\":\"v\",\"showlegend\":true,\"x\":[2016],\"xaxis\":\"x\",\"y\":[43.0],\"yaxis\":\"y\",\"type\":\"scatter\"},{\"hovertemplate\":\"color=Kansas<br>animation_frame=2016<br>x=%{x}<br>y=%{y}<extra></extra>\",\"ids\":[\"Kansas\"],\"legendgroup\":\"Kansas\",\"line\":{\"color\":\"#862A16\",\"dash\":\"solid\"},\"marker\":{\"symbol\":\"circle\"},\"mode\":\"markers+lines\",\"name\":\"Kansas\",\"orientation\":\"v\",\"showlegend\":true,\"x\":[2016],\"xaxis\":\"x\",\"y\":[61.0],\"yaxis\":\"y\",\"type\":\"scatter\"},{\"hovertemplate\":\"color=Kentucky<br>animation_frame=2016<br>x=%{x}<br>y=%{y}<extra></extra>\",\"ids\":[\"Kentucky\"],\"legendgroup\":\"Kentucky\",\"line\":{\"color\":\"#A777F1\",\"dash\":\"solid\"},\"marker\":{\"symbol\":\"circle\"},\"mode\":\"markers+lines\",\"name\":\"Kentucky\",\"orientation\":\"v\",\"showlegend\":true,\"x\":[2016],\"xaxis\":\"x\",\"y\":[207.0],\"yaxis\":\"y\",\"type\":\"scatter\"},{\"hovertemplate\":\"color=Louisiana<br>animation_frame=2016<br>x=%{x}<br>y=%{y}<extra></extra>\",\"ids\":[\"Louisiana\"],\"legendgroup\":\"Louisiana\",\"line\":{\"color\":\"#620042\",\"dash\":\"solid\"},\"marker\":{\"symbol\":\"circle\"},\"mode\":\"markers+lines\",\"name\":\"Louisiana\",\"orientation\":\"v\",\"showlegend\":true,\"x\":[2016],\"xaxis\":\"x\",\"y\":[445.0],\"yaxis\":\"y\",\"type\":\"scatter\"},{\"hovertemplate\":\"color=Maine<br>animation_frame=2016<br>x=%{x}<br>y=%{y}<extra></extra>\",\"ids\":[\"Maine\"],\"legendgroup\":\"Maine\",\"line\":{\"color\":\"#1616A7\",\"dash\":\"solid\"},\"marker\":{\"symbol\":\"circle\"},\"mode\":\"markers+lines\",\"name\":\"Maine\",\"orientation\":\"v\",\"showlegend\":true,\"x\":[2016],\"xaxis\":\"x\",\"y\":[11.0],\"yaxis\":\"y\",\"type\":\"scatter\"},{\"hovertemplate\":\"color=Maryland<br>animation_frame=2016<br>x=%{x}<br>y=%{y}<extra></extra>\",\"ids\":[\"Maryland\"],\"legendgroup\":\"Maryland\",\"line\":{\"color\":\"#DA60CA\",\"dash\":\"solid\"},\"marker\":{\"symbol\":\"circle\"},\"mode\":\"markers+lines\",\"name\":\"Maryland\",\"orientation\":\"v\",\"showlegend\":true,\"x\":[2016],\"xaxis\":\"x\",\"y\":[328.0],\"yaxis\":\"y\",\"type\":\"scatter\"},{\"hovertemplate\":\"color=Massachusetts<br>animation_frame=2016<br>x=%{x}<br>y=%{y}<extra></extra>\",\"ids\":[\"Massachusetts\"],\"legendgroup\":\"Massachusetts\",\"line\":{\"color\":\"#6C4516\",\"dash\":\"solid\"},\"marker\":{\"symbol\":\"circle\"},\"mode\":\"markers+lines\",\"name\":\"Massachusetts\",\"orientation\":\"v\",\"showlegend\":true,\"x\":[2016],\"xaxis\":\"x\",\"y\":[85.0],\"yaxis\":\"y\",\"type\":\"scatter\"},{\"hovertemplate\":\"color=Michigan<br>animation_frame=2016<br>x=%{x}<br>y=%{y}<extra></extra>\",\"ids\":[\"Michigan\"],\"legendgroup\":\"Michigan\",\"line\":{\"color\":\"#0D2A63\",\"dash\":\"solid\"},\"marker\":{\"symbol\":\"circle\"},\"mode\":\"markers+lines\",\"name\":\"Michigan\",\"orientation\":\"v\",\"showlegend\":true,\"x\":[2016],\"xaxis\":\"x\",\"y\":[443.0],\"yaxis\":\"y\",\"type\":\"scatter\"},{\"hovertemplate\":\"color=Minnesota<br>animation_frame=2016<br>x=%{x}<br>y=%{y}<extra></extra>\",\"ids\":[\"Minnesota\"],\"legendgroup\":\"Minnesota\",\"line\":{\"color\":\"#AF0038\",\"dash\":\"solid\"},\"marker\":{\"symbol\":\"circle\"},\"mode\":\"markers+lines\",\"name\":\"Minnesota\",\"orientation\":\"v\",\"showlegend\":true,\"x\":[2016],\"xaxis\":\"x\",\"y\":[60.0],\"yaxis\":\"y\",\"type\":\"scatter\"},{\"hovertemplate\":\"color=Mississippi<br>animation_frame=2016<br>x=%{x}<br>y=%{y}<extra></extra>\",\"ids\":[\"Mississippi\"],\"legendgroup\":\"Mississippi\",\"line\":{\"color\":\"#2E91E5\",\"dash\":\"solid\"},\"marker\":{\"symbol\":\"circle\"},\"mode\":\"markers+lines\",\"name\":\"Mississippi\",\"orientation\":\"v\",\"showlegend\":true,\"x\":[2016],\"xaxis\":\"x\",\"y\":[128.0],\"yaxis\":\"y\",\"type\":\"scatter\"},{\"hovertemplate\":\"color=Missouri<br>animation_frame=2016<br>x=%{x}<br>y=%{y}<extra></extra>\",\"ids\":[\"Missouri\"],\"legendgroup\":\"Missouri\",\"line\":{\"color\":\"#E15F99\",\"dash\":\"solid\"},\"marker\":{\"symbol\":\"circle\"},\"mode\":\"markers+lines\",\"name\":\"Missouri\",\"orientation\":\"v\",\"showlegend\":true,\"x\":[2016],\"xaxis\":\"x\",\"y\":[437.0],\"yaxis\":\"y\",\"type\":\"scatter\"},{\"hovertemplate\":\"color=Montana<br>animation_frame=2016<br>x=%{x}<br>y=%{y}<extra></extra>\",\"ids\":[\"Montana\"],\"legendgroup\":\"Montana\",\"line\":{\"color\":\"#1CA71C\",\"dash\":\"solid\"},\"marker\":{\"symbol\":\"circle\"},\"mode\":\"markers+lines\",\"name\":\"Montana\",\"orientation\":\"v\",\"showlegend\":true,\"x\":[2016],\"xaxis\":\"x\",\"y\":[17.0],\"yaxis\":\"y\",\"type\":\"scatter\"},{\"hovertemplate\":\"color=Nebraska<br>animation_frame=2016<br>x=%{x}<br>y=%{y}<extra></extra>\",\"ids\":[\"Nebraska\"],\"legendgroup\":\"Nebraska\",\"line\":{\"color\":\"#FB0D0D\",\"dash\":\"solid\"},\"marker\":{\"symbol\":\"circle\"},\"mode\":\"markers+lines\",\"name\":\"Nebraska\",\"orientation\":\"v\",\"showlegend\":true,\"x\":[2016],\"xaxis\":\"x\",\"y\":[30.0],\"yaxis\":\"y\",\"type\":\"scatter\"},{\"hovertemplate\":\"color=Nevada<br>animation_frame=2016<br>x=%{x}<br>y=%{y}<extra></extra>\",\"ids\":[\"Nevada\"],\"legendgroup\":\"Nevada\",\"line\":{\"color\":\"#DA16FF\",\"dash\":\"solid\"},\"marker\":{\"symbol\":\"circle\"},\"mode\":\"markers+lines\",\"name\":\"Nevada\",\"orientation\":\"v\",\"showlegend\":true,\"x\":[2016],\"xaxis\":\"x\",\"y\":[141.0],\"yaxis\":\"y\",\"type\":\"scatter\"},{\"hovertemplate\":\"color=New Hampshire<br>animation_frame=2016<br>x=%{x}<br>y=%{y}<extra></extra>\",\"ids\":[\"New Hampshire\"],\"legendgroup\":\"New Hampshire\",\"line\":{\"color\":\"#222A2A\",\"dash\":\"solid\"},\"marker\":{\"symbol\":\"circle\"},\"mode\":\"markers+lines\",\"name\":\"New Hampshire\",\"orientation\":\"v\",\"showlegend\":true,\"x\":[2016],\"xaxis\":\"x\",\"y\":[8.0],\"yaxis\":\"y\",\"type\":\"scatter\"},{\"hovertemplate\":\"color=New Jersey<br>animation_frame=2016<br>x=%{x}<br>y=%{y}<extra></extra>\",\"ids\":[\"New Jersey\"],\"legendgroup\":\"New Jersey\",\"line\":{\"color\":\"#B68100\",\"dash\":\"solid\"},\"marker\":{\"symbol\":\"circle\"},\"mode\":\"markers+lines\",\"name\":\"New Jersey\",\"orientation\":\"v\",\"showlegend\":true,\"x\":[2016],\"xaxis\":\"x\",\"y\":[278.0],\"yaxis\":\"y\",\"type\":\"scatter\"},{\"hovertemplate\":\"color=New Mexico<br>animation_frame=2016<br>x=%{x}<br>y=%{y}<extra></extra>\",\"ids\":[\"New Mexico\"],\"legendgroup\":\"New Mexico\",\"line\":{\"color\":\"#750D86\",\"dash\":\"solid\"},\"marker\":{\"symbol\":\"circle\"},\"mode\":\"markers+lines\",\"name\":\"New Mexico\",\"orientation\":\"v\",\"showlegend\":true,\"x\":[2016],\"xaxis\":\"x\",\"y\":[60.0],\"yaxis\":\"y\",\"type\":\"scatter\"},{\"hovertemplate\":\"color=New York<br>animation_frame=2016<br>x=%{x}<br>y=%{y}<extra></extra>\",\"ids\":[\"New York\"],\"legendgroup\":\"New York\",\"line\":{\"color\":\"#EB663B\",\"dash\":\"solid\"},\"marker\":{\"symbol\":\"circle\"},\"mode\":\"markers+lines\",\"name\":\"New York\",\"orientation\":\"v\",\"showlegend\":true,\"x\":[2016],\"xaxis\":\"x\",\"y\":[367.0],\"yaxis\":\"y\",\"type\":\"scatter\"},{\"hovertemplate\":\"color=North Carolina<br>animation_frame=2016<br>x=%{x}<br>y=%{y}<extra></extra>\",\"ids\":[\"North Carolina\"],\"legendgroup\":\"North Carolina\",\"line\":{\"color\":\"#511CFB\",\"dash\":\"solid\"},\"marker\":{\"symbol\":\"circle\"},\"mode\":\"markers+lines\",\"name\":\"North Carolina\",\"orientation\":\"v\",\"showlegend\":true,\"x\":[2016],\"xaxis\":\"x\",\"y\":[421.0],\"yaxis\":\"y\",\"type\":\"scatter\"},{\"hovertemplate\":\"color=North Dakota<br>animation_frame=2016<br>x=%{x}<br>y=%{y}<extra></extra>\",\"ids\":[\"North Dakota\"],\"legendgroup\":\"North Dakota\",\"line\":{\"color\":\"#00A08B\",\"dash\":\"solid\"},\"marker\":{\"symbol\":\"circle\"},\"mode\":\"markers+lines\",\"name\":\"North Dakota\",\"orientation\":\"v\",\"showlegend\":true,\"x\":[2016],\"xaxis\":\"x\",\"y\":[8.0],\"yaxis\":\"y\",\"type\":\"scatter\"},{\"hovertemplate\":\"color=Ohio<br>animation_frame=2016<br>x=%{x}<br>y=%{y}<extra></extra>\",\"ids\":[\"Ohio\"],\"legendgroup\":\"Ohio\",\"line\":{\"color\":\"#FB00D1\",\"dash\":\"solid\"},\"marker\":{\"symbol\":\"circle\"},\"mode\":\"markers+lines\",\"name\":\"Ohio\",\"orientation\":\"v\",\"showlegend\":true,\"x\":[2016],\"xaxis\":\"x\",\"y\":[452.0],\"yaxis\":\"y\",\"type\":\"scatter\"},{\"hovertemplate\":\"color=Oklahoma<br>animation_frame=2016<br>x=%{x}<br>y=%{y}<extra></extra>\",\"ids\":[\"Oklahoma\"],\"legendgroup\":\"Oklahoma\",\"line\":{\"color\":\"#FC0080\",\"dash\":\"solid\"},\"marker\":{\"symbol\":\"circle\"},\"mode\":\"markers+lines\",\"name\":\"Oklahoma\",\"orientation\":\"v\",\"showlegend\":true,\"x\":[2016],\"xaxis\":\"x\",\"y\":[171.0],\"yaxis\":\"y\",\"type\":\"scatter\"},{\"hovertemplate\":\"color=Oregon<br>animation_frame=2016<br>x=%{x}<br>y=%{y}<extra></extra>\",\"ids\":[\"Oregon\"],\"legendgroup\":\"Oregon\",\"line\":{\"color\":\"#B2828D\",\"dash\":\"solid\"},\"marker\":{\"symbol\":\"circle\"},\"mode\":\"markers+lines\",\"name\":\"Oregon\",\"orientation\":\"v\",\"showlegend\":true,\"x\":[2016],\"xaxis\":\"x\",\"y\":[51.0],\"yaxis\":\"y\",\"type\":\"scatter\"},{\"hovertemplate\":\"color=Pennsylvania<br>animation_frame=2016<br>x=%{x}<br>y=%{y}<extra></extra>\",\"ids\":[\"Pennsylvania\"],\"legendgroup\":\"Pennsylvania\",\"line\":{\"color\":\"#6C7C32\",\"dash\":\"solid\"},\"marker\":{\"symbol\":\"circle\"},\"mode\":\"markers+lines\",\"name\":\"Pennsylvania\",\"orientation\":\"v\",\"showlegend\":true,\"x\":[2016],\"xaxis\":\"x\",\"y\":[486.0],\"yaxis\":\"y\",\"type\":\"scatter\"},{\"hovertemplate\":\"color=Rhode Island<br>animation_frame=2016<br>x=%{x}<br>y=%{y}<extra></extra>\",\"ids\":[\"Rhode Island\"],\"legendgroup\":\"Rhode Island\",\"line\":{\"color\":\"#778AAE\",\"dash\":\"solid\"},\"marker\":{\"symbol\":\"circle\"},\"mode\":\"markers+lines\",\"name\":\"Rhode Island\",\"orientation\":\"v\",\"showlegend\":true,\"x\":[2016],\"xaxis\":\"x\",\"y\":[12.0],\"yaxis\":\"y\",\"type\":\"scatter\"},{\"hovertemplate\":\"color=South Carolina<br>animation_frame=2016<br>x=%{x}<br>y=%{y}<extra></extra>\",\"ids\":[\"South Carolina\"],\"legendgroup\":\"South Carolina\",\"line\":{\"color\":\"#862A16\",\"dash\":\"solid\"},\"marker\":{\"symbol\":\"circle\"},\"mode\":\"markers+lines\",\"name\":\"South Carolina\",\"orientation\":\"v\",\"showlegend\":true,\"x\":[2016],\"xaxis\":\"x\",\"y\":[281.0],\"yaxis\":\"y\",\"type\":\"scatter\"},{\"hovertemplate\":\"color=South Dakota<br>animation_frame=2016<br>x=%{x}<br>y=%{y}<extra></extra>\",\"ids\":[\"South Dakota\"],\"legendgroup\":\"South Dakota\",\"line\":{\"color\":\"#A777F1\",\"dash\":\"solid\"},\"marker\":{\"symbol\":\"circle\"},\"mode\":\"markers+lines\",\"name\":\"South Dakota\",\"orientation\":\"v\",\"showlegend\":true,\"x\":[2016],\"xaxis\":\"x\",\"y\":[7.0],\"yaxis\":\"y\",\"type\":\"scatter\"},{\"hovertemplate\":\"color=Tennessee<br>animation_frame=2016<br>x=%{x}<br>y=%{y}<extra></extra>\",\"ids\":[\"Tennessee\"],\"legendgroup\":\"Tennessee\",\"line\":{\"color\":\"#620042\",\"dash\":\"solid\"},\"marker\":{\"symbol\":\"circle\"},\"mode\":\"markers+lines\",\"name\":\"Tennessee\",\"orientation\":\"v\",\"showlegend\":true,\"x\":[2016],\"xaxis\":\"x\",\"y\":[356.0],\"yaxis\":\"y\",\"type\":\"scatter\"},{\"hovertemplate\":\"color=Texas<br>animation_frame=2016<br>x=%{x}<br>y=%{y}<extra></extra>\",\"ids\":[\"Texas\"],\"legendgroup\":\"Texas\",\"line\":{\"color\":\"#1616A7\",\"dash\":\"solid\"},\"marker\":{\"symbol\":\"circle\"},\"mode\":\"markers+lines\",\"name\":\"Texas\",\"orientation\":\"v\",\"showlegend\":true,\"x\":[2016],\"xaxis\":\"x\",\"y\":[1066.0],\"yaxis\":\"y\",\"type\":\"scatter\"},{\"hovertemplate\":\"color=U.S. Virgin Islands<br>animation_frame=2016<br>x=%{x}<br>y=%{y}<extra></extra>\",\"ids\":[\"U.S. Virgin Islands\"],\"legendgroup\":\"U.S. Virgin Islands\",\"line\":{\"color\":\"#DA60CA\",\"dash\":\"solid\"},\"marker\":{\"symbol\":\"circle\"},\"mode\":\"markers+lines\",\"name\":\"U.S. Virgin Islands\",\"orientation\":\"v\",\"showlegend\":true,\"x\":[2016],\"xaxis\":\"x\",\"y\":[34.0],\"yaxis\":\"y\",\"type\":\"scatter\"},{\"hovertemplate\":\"color=Utah<br>animation_frame=2016<br>x=%{x}<br>y=%{y}<extra></extra>\",\"ids\":[\"Utah\"],\"legendgroup\":\"Utah\",\"line\":{\"color\":\"#6C4516\",\"dash\":\"solid\"},\"marker\":{\"symbol\":\"circle\"},\"mode\":\"markers+lines\",\"name\":\"Utah\",\"orientation\":\"v\",\"showlegend\":true,\"x\":[2016],\"xaxis\":\"x\",\"y\":[42.0],\"yaxis\":\"y\",\"type\":\"scatter\"},{\"hovertemplate\":\"color=Vermont<br>animation_frame=2016<br>x=%{x}<br>y=%{y}<extra></extra>\",\"ids\":[\"Vermont\"],\"legendgroup\":\"Vermont\",\"line\":{\"color\":\"#0D2A63\",\"dash\":\"solid\"},\"marker\":{\"symbol\":\"circle\"},\"mode\":\"markers+lines\",\"name\":\"Vermont\",\"orientation\":\"v\",\"showlegend\":true,\"x\":[2016],\"xaxis\":\"x\",\"y\":[6.0],\"yaxis\":\"y\",\"type\":\"scatter\"},{\"hovertemplate\":\"color=Virginia<br>animation_frame=2016<br>x=%{x}<br>y=%{y}<extra></extra>\",\"ids\":[\"Virginia\"],\"legendgroup\":\"Virginia\",\"line\":{\"color\":\"#AF0038\",\"dash\":\"solid\"},\"marker\":{\"symbol\":\"circle\"},\"mode\":\"markers+lines\",\"name\":\"Virginia\",\"orientation\":\"v\",\"showlegend\":true,\"x\":[2016],\"xaxis\":\"x\",\"y\":[352.0],\"yaxis\":\"y\",\"type\":\"scatter\"},{\"hovertemplate\":\"color=Washington<br>animation_frame=2016<br>x=%{x}<br>y=%{y}<extra></extra>\",\"ids\":[\"Washington\"],\"legendgroup\":\"Washington\",\"line\":{\"color\":\"#2E91E5\",\"dash\":\"solid\"},\"marker\":{\"symbol\":\"circle\"},\"mode\":\"markers+lines\",\"name\":\"Washington\",\"orientation\":\"v\",\"showlegend\":true,\"x\":[2016],\"xaxis\":\"x\",\"y\":[127.0],\"yaxis\":\"y\",\"type\":\"scatter\"},{\"hovertemplate\":\"color=West Virginia<br>animation_frame=2016<br>x=%{x}<br>y=%{y}<extra></extra>\",\"ids\":[\"West Virginia\"],\"legendgroup\":\"West Virginia\",\"line\":{\"color\":\"#E15F99\",\"dash\":\"solid\"},\"marker\":{\"symbol\":\"circle\"},\"mode\":\"markers+lines\",\"name\":\"West Virginia\",\"orientation\":\"v\",\"showlegend\":true,\"x\":[2016],\"xaxis\":\"x\",\"y\":[47.0],\"yaxis\":\"y\",\"type\":\"scatter\"},{\"hovertemplate\":\"color=Wisconsin<br>animation_frame=2016<br>x=%{x}<br>y=%{y}<extra></extra>\",\"ids\":[\"Wisconsin\"],\"legendgroup\":\"Wisconsin\",\"line\":{\"color\":\"#1CA71C\",\"dash\":\"solid\"},\"marker\":{\"symbol\":\"circle\"},\"mode\":\"markers+lines\",\"name\":\"Wisconsin\",\"orientation\":\"v\",\"showlegend\":true,\"x\":[2016],\"xaxis\":\"x\",\"y\":[166.0],\"yaxis\":\"y\",\"type\":\"scatter\"},{\"hovertemplate\":\"color=Wyoming<br>animation_frame=2016<br>x=%{x}<br>y=%{y}<extra></extra>\",\"ids\":[\"Wyoming\"],\"legendgroup\":\"Wyoming\",\"line\":{\"color\":\"#FB0D0D\",\"dash\":\"solid\"},\"marker\":{\"symbol\":\"circle\"},\"mode\":\"markers+lines\",\"name\":\"Wyoming\",\"orientation\":\"v\",\"showlegend\":true,\"x\":[2016],\"xaxis\":\"x\",\"y\":[6.0],\"yaxis\":\"y\",\"type\":\"scatter\"}],\"name\":\"2016\"},{\"data\":[{\"hovertemplate\":\"color=Alabama<br>animation_frame=2017<br>x=%{x}<br>y=%{y}<extra></extra>\",\"ids\":[\"Alabama\"],\"legendgroup\":\"Alabama\",\"line\":{\"color\":\"#2E91E5\",\"dash\":\"solid\"},\"marker\":{\"symbol\":\"circle\"},\"mode\":\"markers+lines\",\"name\":\"Alabama\",\"orientation\":\"v\",\"showlegend\":true,\"x\":[2017],\"xaxis\":\"x\",\"y\":[1.0],\"yaxis\":\"y\",\"type\":\"scatter\"},{\"hovertemplate\":\"color=Alaska<br>animation_frame=2017<br>x=%{x}<br>y=%{y}<extra></extra>\",\"ids\":[\"Alaska\"],\"legendgroup\":\"Alaska\",\"line\":{\"color\":\"#E15F99\",\"dash\":\"solid\"},\"marker\":{\"symbol\":\"circle\"},\"mode\":\"markers+lines\",\"name\":\"Alaska\",\"orientation\":\"v\",\"showlegend\":true,\"x\":[2017],\"xaxis\":\"x\",\"y\":[37.0],\"yaxis\":\"y\",\"type\":\"scatter\"},{\"hovertemplate\":\"color=Arizona<br>animation_frame=2017<br>x=%{x}<br>y=%{y}<extra></extra>\",\"ids\":[\"Arizona\"],\"legendgroup\":\"Arizona\",\"line\":{\"color\":\"#1CA71C\",\"dash\":\"solid\"},\"marker\":{\"symbol\":\"circle\"},\"mode\":\"markers+lines\",\"name\":\"Arizona\",\"orientation\":\"v\",\"showlegend\":true,\"x\":[2017],\"xaxis\":\"x\",\"y\":[249.0],\"yaxis\":\"y\",\"type\":\"scatter\"},{\"hovertemplate\":\"color=Arkansas<br>animation_frame=2017<br>x=%{x}<br>y=%{y}<extra></extra>\",\"ids\":[\"Arkansas\"],\"legendgroup\":\"Arkansas\",\"line\":{\"color\":\"#FB0D0D\",\"dash\":\"solid\"},\"marker\":{\"symbol\":\"circle\"},\"mode\":\"markers+lines\",\"name\":\"Arkansas\",\"orientation\":\"v\",\"showlegend\":true,\"x\":[2017],\"xaxis\":\"x\",\"y\":[168.0],\"yaxis\":\"y\",\"type\":\"scatter\"},{\"hovertemplate\":\"color=California<br>animation_frame=2017<br>x=%{x}<br>y=%{y}<extra></extra>\",\"ids\":[\"California\"],\"legendgroup\":\"California\",\"line\":{\"color\":\"#DA16FF\",\"dash\":\"solid\"},\"marker\":{\"symbol\":\"circle\"},\"mode\":\"markers+lines\",\"name\":\"California\",\"orientation\":\"v\",\"showlegend\":true,\"x\":[2017],\"xaxis\":\"x\",\"y\":[1274.0],\"yaxis\":\"y\",\"type\":\"scatter\"},{\"hovertemplate\":\"color=Colorado<br>animation_frame=2017<br>x=%{x}<br>y=%{y}<extra></extra>\",\"ids\":[\"Colorado\"],\"legendgroup\":\"Colorado\",\"line\":{\"color\":\"#222A2A\",\"dash\":\"solid\"},\"marker\":{\"symbol\":\"circle\"},\"mode\":\"markers+lines\",\"name\":\"Colorado\",\"orientation\":\"v\",\"showlegend\":true,\"x\":[2017],\"xaxis\":\"x\",\"y\":[137.0],\"yaxis\":\"y\",\"type\":\"scatter\"},{\"hovertemplate\":\"color=Connecticut<br>animation_frame=2017<br>x=%{x}<br>y=%{y}<extra></extra>\",\"ids\":[\"Connecticut\"],\"legendgroup\":\"Connecticut\",\"line\":{\"color\":\"#B68100\",\"dash\":\"solid\"},\"marker\":{\"symbol\":\"circle\"},\"mode\":\"markers+lines\",\"name\":\"Connecticut\",\"orientation\":\"v\",\"showlegend\":true,\"x\":[2017],\"xaxis\":\"x\",\"y\":[72.0],\"yaxis\":\"y\",\"type\":\"scatter\"},{\"hovertemplate\":\"color=Delaware<br>animation_frame=2017<br>x=%{x}<br>y=%{y}<extra></extra>\",\"ids\":[\"Delaware\"],\"legendgroup\":\"Delaware\",\"line\":{\"color\":\"#750D86\",\"dash\":\"solid\"},\"marker\":{\"symbol\":\"circle\"},\"mode\":\"markers+lines\",\"name\":\"Delaware\",\"orientation\":\"v\",\"showlegend\":true,\"x\":[2017],\"xaxis\":\"x\",\"y\":[44.0],\"yaxis\":\"y\",\"type\":\"scatter\"},{\"hovertemplate\":\"color=District of Columbia<br>animation_frame=2017<br>x=%{x}<br>y=%{y}<extra></extra>\",\"ids\":[\"District of Columbia\"],\"legendgroup\":\"District of Columbia\",\"line\":{\"color\":\"#EB663B\",\"dash\":\"solid\"},\"marker\":{\"symbol\":\"circle\"},\"mode\":\"markers+lines\",\"name\":\"District of Columbia\",\"orientation\":\"v\",\"showlegend\":true,\"x\":[2017],\"xaxis\":\"x\",\"y\":[90.0],\"yaxis\":\"y\",\"type\":\"scatter\"},{\"hovertemplate\":\"color=Georgia<br>animation_frame=2017<br>x=%{x}<br>y=%{y}<extra></extra>\",\"ids\":[\"Georgia\"],\"legendgroup\":\"Georgia\",\"line\":{\"color\":\"#511CFB\",\"dash\":\"solid\"},\"marker\":{\"symbol\":\"circle\"},\"mode\":\"markers+lines\",\"name\":\"Georgia\",\"orientation\":\"v\",\"showlegend\":true,\"x\":[2017],\"xaxis\":\"x\",\"y\":[542.0],\"yaxis\":\"y\",\"type\":\"scatter\"},{\"hovertemplate\":\"color=Guam<br>animation_frame=2017<br>x=%{x}<br>y=%{y}<extra></extra>\",\"ids\":[\"Guam\"],\"legendgroup\":\"Guam\",\"line\":{\"color\":\"#00A08B\",\"dash\":\"solid\"},\"marker\":{\"symbol\":\"circle\"},\"mode\":\"markers+lines\",\"name\":\"Guam\",\"orientation\":\"v\",\"showlegend\":true,\"x\":[2017],\"xaxis\":\"x\",\"y\":[0.0],\"yaxis\":\"y\",\"type\":\"scatter\"},{\"hovertemplate\":\"color=Hawaii<br>animation_frame=2017<br>x=%{x}<br>y=%{y}<extra></extra>\",\"ids\":[\"Hawaii\"],\"legendgroup\":\"Hawaii\",\"line\":{\"color\":\"#FB00D1\",\"dash\":\"solid\"},\"marker\":{\"symbol\":\"circle\"},\"mode\":\"markers+lines\",\"name\":\"Hawaii\",\"orientation\":\"v\",\"showlegend\":true,\"x\":[2017],\"xaxis\":\"x\",\"y\":[4.0],\"yaxis\":\"y\",\"type\":\"scatter\"},{\"hovertemplate\":\"color=Idaho<br>animation_frame=2017<br>x=%{x}<br>y=%{y}<extra></extra>\",\"ids\":[\"Idaho\"],\"legendgroup\":\"Idaho\",\"line\":{\"color\":\"#FC0080\",\"dash\":\"solid\"},\"marker\":{\"symbol\":\"circle\"},\"mode\":\"markers+lines\",\"name\":\"Idaho\",\"orientation\":\"v\",\"showlegend\":true,\"x\":[2017],\"xaxis\":\"x\",\"y\":[13.0],\"yaxis\":\"y\",\"type\":\"scatter\"},{\"hovertemplate\":\"color=Illinois<br>animation_frame=2017<br>x=%{x}<br>y=%{y}<extra></extra>\",\"ids\":[\"Illinois\"],\"legendgroup\":\"Illinois\",\"line\":{\"color\":\"#B2828D\",\"dash\":\"solid\"},\"marker\":{\"symbol\":\"circle\"},\"mode\":\"markers+lines\",\"name\":\"Illinois\",\"orientation\":\"v\",\"showlegend\":true,\"x\":[2017],\"xaxis\":\"x\",\"y\":[693.0],\"yaxis\":\"y\",\"type\":\"scatter\"},{\"hovertemplate\":\"color=Indiana<br>animation_frame=2017<br>x=%{x}<br>y=%{y}<extra></extra>\",\"ids\":[\"Indiana\"],\"legendgroup\":\"Indiana\",\"line\":{\"color\":\"#6C7C32\",\"dash\":\"solid\"},\"marker\":{\"symbol\":\"circle\"},\"mode\":\"markers+lines\",\"name\":\"Indiana\",\"orientation\":\"v\",\"showlegend\":true,\"x\":[2017],\"xaxis\":\"x\",\"y\":[291.0],\"yaxis\":\"y\",\"type\":\"scatter\"},{\"hovertemplate\":\"color=Iowa<br>animation_frame=2017<br>x=%{x}<br>y=%{y}<extra></extra>\",\"ids\":[\"Iowa\"],\"legendgroup\":\"Iowa\",\"line\":{\"color\":\"#778AAE\",\"dash\":\"solid\"},\"marker\":{\"symbol\":\"circle\"},\"mode\":\"markers+lines\",\"name\":\"Iowa\",\"orientation\":\"v\",\"showlegend\":true,\"x\":[2017],\"xaxis\":\"x\",\"y\":[57.0],\"yaxis\":\"y\",\"type\":\"scatter\"},{\"hovertemplate\":\"color=Kansas<br>animation_frame=2017<br>x=%{x}<br>y=%{y}<extra></extra>\",\"ids\":[\"Kansas\"],\"legendgroup\":\"Kansas\",\"line\":{\"color\":\"#862A16\",\"dash\":\"solid\"},\"marker\":{\"symbol\":\"circle\"},\"mode\":\"markers+lines\",\"name\":\"Kansas\",\"orientation\":\"v\",\"showlegend\":true,\"x\":[2017],\"xaxis\":\"x\",\"y\":[79.0],\"yaxis\":\"y\",\"type\":\"scatter\"},{\"hovertemplate\":\"color=Kentucky<br>animation_frame=2017<br>x=%{x}<br>y=%{y}<extra></extra>\",\"ids\":[\"Kentucky\"],\"legendgroup\":\"Kentucky\",\"line\":{\"color\":\"#A777F1\",\"dash\":\"solid\"},\"marker\":{\"symbol\":\"circle\"},\"mode\":\"markers+lines\",\"name\":\"Kentucky\",\"orientation\":\"v\",\"showlegend\":true,\"x\":[2017],\"xaxis\":\"x\",\"y\":[192.0],\"yaxis\":\"y\",\"type\":\"scatter\"},{\"hovertemplate\":\"color=Louisiana<br>animation_frame=2017<br>x=%{x}<br>y=%{y}<extra></extra>\",\"ids\":[\"Louisiana\"],\"legendgroup\":\"Louisiana\",\"line\":{\"color\":\"#620042\",\"dash\":\"solid\"},\"marker\":{\"symbol\":\"circle\"},\"mode\":\"markers+lines\",\"name\":\"Louisiana\",\"orientation\":\"v\",\"showlegend\":true,\"x\":[2017],\"xaxis\":\"x\",\"y\":[460.0],\"yaxis\":\"y\",\"type\":\"scatter\"},{\"hovertemplate\":\"color=Maine<br>animation_frame=2017<br>x=%{x}<br>y=%{y}<extra></extra>\",\"ids\":[\"Maine\"],\"legendgroup\":\"Maine\",\"line\":{\"color\":\"#1616A7\",\"dash\":\"solid\"},\"marker\":{\"symbol\":\"circle\"},\"mode\":\"markers+lines\",\"name\":\"Maine\",\"orientation\":\"v\",\"showlegend\":true,\"x\":[2017],\"xaxis\":\"x\",\"y\":[12.0],\"yaxis\":\"y\",\"type\":\"scatter\"},{\"hovertemplate\":\"color=Maryland<br>animation_frame=2017<br>x=%{x}<br>y=%{y}<extra></extra>\",\"ids\":[\"Maryland\"],\"legendgroup\":\"Maryland\",\"line\":{\"color\":\"#DA60CA\",\"dash\":\"solid\"},\"marker\":{\"symbol\":\"circle\"},\"mode\":\"markers+lines\",\"name\":\"Maryland\",\"orientation\":\"v\",\"showlegend\":true,\"x\":[2017],\"xaxis\":\"x\",\"y\":[370.0],\"yaxis\":\"y\",\"type\":\"scatter\"},{\"hovertemplate\":\"color=Massachusetts<br>animation_frame=2017<br>x=%{x}<br>y=%{y}<extra></extra>\",\"ids\":[\"Massachusetts\"],\"legendgroup\":\"Massachusetts\",\"line\":{\"color\":\"#6C4516\",\"dash\":\"solid\"},\"marker\":{\"symbol\":\"circle\"},\"mode\":\"markers+lines\",\"name\":\"Massachusetts\",\"orientation\":\"v\",\"showlegend\":true,\"x\":[2017],\"xaxis\":\"x\",\"y\":[99.0],\"yaxis\":\"y\",\"type\":\"scatter\"},{\"hovertemplate\":\"color=Michigan<br>animation_frame=2017<br>x=%{x}<br>y=%{y}<extra></extra>\",\"ids\":[\"Michigan\"],\"legendgroup\":\"Michigan\",\"line\":{\"color\":\"#0D2A63\",\"dash\":\"solid\"},\"marker\":{\"symbol\":\"circle\"},\"mode\":\"markers+lines\",\"name\":\"Michigan\",\"orientation\":\"v\",\"showlegend\":true,\"x\":[2017],\"xaxis\":\"x\",\"y\":[381.0],\"yaxis\":\"y\",\"type\":\"scatter\"},{\"hovertemplate\":\"color=Minnesota<br>animation_frame=2017<br>x=%{x}<br>y=%{y}<extra></extra>\",\"ids\":[\"Minnesota\"],\"legendgroup\":\"Minnesota\",\"line\":{\"color\":\"#AF0038\",\"dash\":\"solid\"},\"marker\":{\"symbol\":\"circle\"},\"mode\":\"markers+lines\",\"name\":\"Minnesota\",\"orientation\":\"v\",\"showlegend\":true,\"x\":[2017],\"xaxis\":\"x\",\"y\":[69.0],\"yaxis\":\"y\",\"type\":\"scatter\"},{\"hovertemplate\":\"color=Mississippi<br>animation_frame=2017<br>x=%{x}<br>y=%{y}<extra></extra>\",\"ids\":[\"Mississippi\"],\"legendgroup\":\"Mississippi\",\"line\":{\"color\":\"#2E91E5\",\"dash\":\"solid\"},\"marker\":{\"symbol\":\"circle\"},\"mode\":\"markers+lines\",\"name\":\"Mississippi\",\"orientation\":\"v\",\"showlegend\":true,\"x\":[2017],\"xaxis\":\"x\",\"y\":[111.0],\"yaxis\":\"y\",\"type\":\"scatter\"},{\"hovertemplate\":\"color=Missouri<br>animation_frame=2017<br>x=%{x}<br>y=%{y}<extra></extra>\",\"ids\":[\"Missouri\"],\"legendgroup\":\"Missouri\",\"line\":{\"color\":\"#E15F99\",\"dash\":\"solid\"},\"marker\":{\"symbol\":\"circle\"},\"mode\":\"markers+lines\",\"name\":\"Missouri\",\"orientation\":\"v\",\"showlegend\":true,\"x\":[2017],\"xaxis\":\"x\",\"y\":[514.0],\"yaxis\":\"y\",\"type\":\"scatter\"},{\"hovertemplate\":\"color=Montana<br>animation_frame=2017<br>x=%{x}<br>y=%{y}<extra></extra>\",\"ids\":[\"Montana\"],\"legendgroup\":\"Montana\",\"line\":{\"color\":\"#1CA71C\",\"dash\":\"solid\"},\"marker\":{\"symbol\":\"circle\"},\"mode\":\"markers+lines\",\"name\":\"Montana\",\"orientation\":\"v\",\"showlegend\":true,\"x\":[2017],\"xaxis\":\"x\",\"y\":[17.0],\"yaxis\":\"y\",\"type\":\"scatter\"},{\"hovertemplate\":\"color=Nebraska<br>animation_frame=2017<br>x=%{x}<br>y=%{y}<extra></extra>\",\"ids\":[\"Nebraska\"],\"legendgroup\":\"Nebraska\",\"line\":{\"color\":\"#FB0D0D\",\"dash\":\"solid\"},\"marker\":{\"symbol\":\"circle\"},\"mode\":\"markers+lines\",\"name\":\"Nebraska\",\"orientation\":\"v\",\"showlegend\":true,\"x\":[2017],\"xaxis\":\"x\",\"y\":[31.0],\"yaxis\":\"y\",\"type\":\"scatter\"},{\"hovertemplate\":\"color=Nevada<br>animation_frame=2017<br>x=%{x}<br>y=%{y}<extra></extra>\",\"ids\":[\"Nevada\"],\"legendgroup\":\"Nevada\",\"line\":{\"color\":\"#DA16FF\",\"dash\":\"solid\"},\"marker\":{\"symbol\":\"circle\"},\"mode\":\"markers+lines\",\"name\":\"Nevada\",\"orientation\":\"v\",\"showlegend\":true,\"x\":[2017],\"xaxis\":\"x\",\"y\":[201.0],\"yaxis\":\"y\",\"type\":\"scatter\"},{\"hovertemplate\":\"color=New Hampshire<br>animation_frame=2017<br>x=%{x}<br>y=%{y}<extra></extra>\",\"ids\":[\"New Hampshire\"],\"legendgroup\":\"New Hampshire\",\"line\":{\"color\":\"#222A2A\",\"dash\":\"solid\"},\"marker\":{\"symbol\":\"circle\"},\"mode\":\"markers+lines\",\"name\":\"New Hampshire\",\"orientation\":\"v\",\"showlegend\":true,\"x\":[2017],\"xaxis\":\"x\",\"y\":[7.0],\"yaxis\":\"y\",\"type\":\"scatter\"},{\"hovertemplate\":\"color=New Jersey<br>animation_frame=2017<br>x=%{x}<br>y=%{y}<extra></extra>\",\"ids\":[\"New Jersey\"],\"legendgroup\":\"New Jersey\",\"line\":{\"color\":\"#B68100\",\"dash\":\"solid\"},\"marker\":{\"symbol\":\"circle\"},\"mode\":\"markers+lines\",\"name\":\"New Jersey\",\"orientation\":\"v\",\"showlegend\":true,\"x\":[2017],\"xaxis\":\"x\",\"y\":[242.0],\"yaxis\":\"y\",\"type\":\"scatter\"},{\"hovertemplate\":\"color=New Mexico<br>animation_frame=2017<br>x=%{x}<br>y=%{y}<extra></extra>\",\"ids\":[\"New Mexico\"],\"legendgroup\":\"New Mexico\",\"line\":{\"color\":\"#750D86\",\"dash\":\"solid\"},\"marker\":{\"symbol\":\"circle\"},\"mode\":\"markers+lines\",\"name\":\"New Mexico\",\"orientation\":\"v\",\"showlegend\":true,\"x\":[2017],\"xaxis\":\"x\",\"y\":[71.0],\"yaxis\":\"y\",\"type\":\"scatter\"},{\"hovertemplate\":\"color=New York<br>animation_frame=2017<br>x=%{x}<br>y=%{y}<extra></extra>\",\"ids\":[\"New York\"],\"legendgroup\":\"New York\",\"line\":{\"color\":\"#EB663B\",\"dash\":\"solid\"},\"marker\":{\"symbol\":\"circle\"},\"mode\":\"markers+lines\",\"name\":\"New York\",\"orientation\":\"v\",\"showlegend\":true,\"x\":[2017],\"xaxis\":\"x\",\"y\":[292.0],\"yaxis\":\"y\",\"type\":\"scatter\"},{\"hovertemplate\":\"color=North Carolina<br>animation_frame=2017<br>x=%{x}<br>y=%{y}<extra></extra>\",\"ids\":[\"North Carolina\"],\"legendgroup\":\"North Carolina\",\"line\":{\"color\":\"#511CFB\",\"dash\":\"solid\"},\"marker\":{\"symbol\":\"circle\"},\"mode\":\"markers+lines\",\"name\":\"North Carolina\",\"orientation\":\"v\",\"showlegend\":true,\"x\":[2017],\"xaxis\":\"x\",\"y\":[413.0],\"yaxis\":\"y\",\"type\":\"scatter\"},{\"hovertemplate\":\"color=North Dakota<br>animation_frame=2017<br>x=%{x}<br>y=%{y}<extra></extra>\",\"ids\":[\"North Dakota\"],\"legendgroup\":\"North Dakota\",\"line\":{\"color\":\"#00A08B\",\"dash\":\"solid\"},\"marker\":{\"symbol\":\"circle\"},\"mode\":\"markers+lines\",\"name\":\"North Dakota\",\"orientation\":\"v\",\"showlegend\":true,\"x\":[2017],\"xaxis\":\"x\",\"y\":[5.0],\"yaxis\":\"y\",\"type\":\"scatter\"},{\"hovertemplate\":\"color=Ohio<br>animation_frame=2017<br>x=%{x}<br>y=%{y}<extra></extra>\",\"ids\":[\"Ohio\"],\"legendgroup\":\"Ohio\",\"line\":{\"color\":\"#FB00D1\",\"dash\":\"solid\"},\"marker\":{\"symbol\":\"circle\"},\"mode\":\"markers+lines\",\"name\":\"Ohio\",\"orientation\":\"v\",\"showlegend\":true,\"x\":[2017],\"xaxis\":\"x\",\"y\":[485.0],\"yaxis\":\"y\",\"type\":\"scatter\"},{\"hovertemplate\":\"color=Oklahoma<br>animation_frame=2017<br>x=%{x}<br>y=%{y}<extra></extra>\",\"ids\":[\"Oklahoma\"],\"legendgroup\":\"Oklahoma\",\"line\":{\"color\":\"#FC0080\",\"dash\":\"solid\"},\"marker\":{\"symbol\":\"circle\"},\"mode\":\"markers+lines\",\"name\":\"Oklahoma\",\"orientation\":\"v\",\"showlegend\":true,\"x\":[2017],\"xaxis\":\"x\",\"y\":[163.0],\"yaxis\":\"y\",\"type\":\"scatter\"},{\"hovertemplate\":\"color=Oregon<br>animation_frame=2017<br>x=%{x}<br>y=%{y}<extra></extra>\",\"ids\":[\"Oregon\"],\"legendgroup\":\"Oregon\",\"line\":{\"color\":\"#B2828D\",\"dash\":\"solid\"},\"marker\":{\"symbol\":\"circle\"},\"mode\":\"markers+lines\",\"name\":\"Oregon\",\"orientation\":\"v\",\"showlegend\":true,\"x\":[2017],\"xaxis\":\"x\",\"y\":[58.0],\"yaxis\":\"y\",\"type\":\"scatter\"},{\"hovertemplate\":\"color=Pennsylvania<br>animation_frame=2017<br>x=%{x}<br>y=%{y}<extra></extra>\",\"ids\":[\"Pennsylvania\"],\"legendgroup\":\"Pennsylvania\",\"line\":{\"color\":\"#6C7C32\",\"dash\":\"solid\"},\"marker\":{\"symbol\":\"circle\"},\"mode\":\"markers+lines\",\"name\":\"Pennsylvania\",\"orientation\":\"v\",\"showlegend\":true,\"x\":[2017],\"xaxis\":\"x\",\"y\":[567.0],\"yaxis\":\"y\",\"type\":\"scatter\"},{\"hovertemplate\":\"color=Rhode Island<br>animation_frame=2017<br>x=%{x}<br>y=%{y}<extra></extra>\",\"ids\":[\"Rhode Island\"],\"legendgroup\":\"Rhode Island\",\"line\":{\"color\":\"#778AAE\",\"dash\":\"solid\"},\"marker\":{\"symbol\":\"circle\"},\"mode\":\"markers+lines\",\"name\":\"Rhode Island\",\"orientation\":\"v\",\"showlegend\":true,\"x\":[2017],\"xaxis\":\"x\",\"y\":[8.0],\"yaxis\":\"y\",\"type\":\"scatter\"},{\"hovertemplate\":\"color=South Carolina<br>animation_frame=2017<br>x=%{x}<br>y=%{y}<extra></extra>\",\"ids\":[\"South Carolina\"],\"legendgroup\":\"South Carolina\",\"line\":{\"color\":\"#862A16\",\"dash\":\"solid\"},\"marker\":{\"symbol\":\"circle\"},\"mode\":\"markers+lines\",\"name\":\"South Carolina\",\"orientation\":\"v\",\"showlegend\":true,\"x\":[2017],\"xaxis\":\"x\",\"y\":[312.0],\"yaxis\":\"y\",\"type\":\"scatter\"},{\"hovertemplate\":\"color=South Dakota<br>animation_frame=2017<br>x=%{x}<br>y=%{y}<extra></extra>\",\"ids\":[\"South Dakota\"],\"legendgroup\":\"South Dakota\",\"line\":{\"color\":\"#A777F1\",\"dash\":\"solid\"},\"marker\":{\"symbol\":\"circle\"},\"mode\":\"markers+lines\",\"name\":\"South Dakota\",\"orientation\":\"v\",\"showlegend\":true,\"x\":[2017],\"xaxis\":\"x\",\"y\":[8.0],\"yaxis\":\"y\",\"type\":\"scatter\"},{\"hovertemplate\":\"color=Tennessee<br>animation_frame=2017<br>x=%{x}<br>y=%{y}<extra></extra>\",\"ids\":[\"Tennessee\"],\"legendgroup\":\"Tennessee\",\"line\":{\"color\":\"#620042\",\"dash\":\"solid\"},\"marker\":{\"symbol\":\"circle\"},\"mode\":\"markers+lines\",\"name\":\"Tennessee\",\"orientation\":\"v\",\"showlegend\":true,\"x\":[2017],\"xaxis\":\"x\",\"y\":[407.0],\"yaxis\":\"y\",\"type\":\"scatter\"},{\"hovertemplate\":\"color=Texas<br>animation_frame=2017<br>x=%{x}<br>y=%{y}<extra></extra>\",\"ids\":[\"Texas\"],\"legendgroup\":\"Texas\",\"line\":{\"color\":\"#1616A7\",\"dash\":\"solid\"},\"marker\":{\"symbol\":\"circle\"},\"mode\":\"markers+lines\",\"name\":\"Texas\",\"orientation\":\"v\",\"showlegend\":true,\"x\":[2017],\"xaxis\":\"x\",\"y\":[1012.0],\"yaxis\":\"y\",\"type\":\"scatter\"},{\"hovertemplate\":\"color=Utah<br>animation_frame=2017<br>x=%{x}<br>y=%{y}<extra></extra>\",\"ids\":[\"Utah\"],\"legendgroup\":\"Utah\",\"line\":{\"color\":\"#6C4516\",\"dash\":\"solid\"},\"marker\":{\"symbol\":\"circle\"},\"mode\":\"markers+lines\",\"name\":\"Utah\",\"orientation\":\"v\",\"showlegend\":true,\"x\":[2017],\"xaxis\":\"x\",\"y\":[46.0],\"yaxis\":\"y\",\"type\":\"scatter\"},{\"hovertemplate\":\"color=Vermont<br>animation_frame=2017<br>x=%{x}<br>y=%{y}<extra></extra>\",\"ids\":[\"Vermont\"],\"legendgroup\":\"Vermont\",\"line\":{\"color\":\"#0D2A63\",\"dash\":\"solid\"},\"marker\":{\"symbol\":\"circle\"},\"mode\":\"markers+lines\",\"name\":\"Vermont\",\"orientation\":\"v\",\"showlegend\":true,\"x\":[2017],\"xaxis\":\"x\",\"y\":[6.0],\"yaxis\":\"y\",\"type\":\"scatter\"},{\"hovertemplate\":\"color=Virginia<br>animation_frame=2017<br>x=%{x}<br>y=%{y}<extra></extra>\",\"ids\":[\"Virginia\"],\"legendgroup\":\"Virginia\",\"line\":{\"color\":\"#AF0038\",\"dash\":\"solid\"},\"marker\":{\"symbol\":\"circle\"},\"mode\":\"markers+lines\",\"name\":\"Virginia\",\"orientation\":\"v\",\"showlegend\":true,\"x\":[2017],\"xaxis\":\"x\",\"y\":[338.0],\"yaxis\":\"y\",\"type\":\"scatter\"},{\"hovertemplate\":\"color=Washington<br>animation_frame=2017<br>x=%{x}<br>y=%{y}<extra></extra>\",\"ids\":[\"Washington\"],\"legendgroup\":\"Washington\",\"line\":{\"color\":\"#2E91E5\",\"dash\":\"solid\"},\"marker\":{\"symbol\":\"circle\"},\"mode\":\"markers+lines\",\"name\":\"Washington\",\"orientation\":\"v\",\"showlegend\":true,\"x\":[2017],\"xaxis\":\"x\",\"y\":[134.0],\"yaxis\":\"y\",\"type\":\"scatter\"},{\"hovertemplate\":\"color=West Virginia<br>animation_frame=2017<br>x=%{x}<br>y=%{y}<extra></extra>\",\"ids\":[\"West Virginia\"],\"legendgroup\":\"West Virginia\",\"line\":{\"color\":\"#E15F99\",\"dash\":\"solid\"},\"marker\":{\"symbol\":\"circle\"},\"mode\":\"markers+lines\",\"name\":\"West Virginia\",\"orientation\":\"v\",\"showlegend\":true,\"x\":[2017],\"xaxis\":\"x\",\"y\":[45.0],\"yaxis\":\"y\",\"type\":\"scatter\"},{\"hovertemplate\":\"color=Wisconsin<br>animation_frame=2017<br>x=%{x}<br>y=%{y}<extra></extra>\",\"ids\":[\"Wisconsin\"],\"legendgroup\":\"Wisconsin\",\"line\":{\"color\":\"#1CA71C\",\"dash\":\"solid\"},\"marker\":{\"symbol\":\"circle\"},\"mode\":\"markers+lines\",\"name\":\"Wisconsin\",\"orientation\":\"v\",\"showlegend\":true,\"x\":[2017],\"xaxis\":\"x\",\"y\":[149.0],\"yaxis\":\"y\",\"type\":\"scatter\"},{\"hovertemplate\":\"color=Wyoming<br>animation_frame=2017<br>x=%{x}<br>y=%{y}<extra></extra>\",\"ids\":[\"Wyoming\"],\"legendgroup\":\"Wyoming\",\"line\":{\"color\":\"#FB0D0D\",\"dash\":\"solid\"},\"marker\":{\"symbol\":\"circle\"},\"mode\":\"markers+lines\",\"name\":\"Wyoming\",\"orientation\":\"v\",\"showlegend\":true,\"x\":[2017],\"xaxis\":\"x\",\"y\":[6.0],\"yaxis\":\"y\",\"type\":\"scatter\"}],\"name\":\"2017\"},{\"data\":[{\"hovertemplate\":\"color=Alabama<br>animation_frame=2018<br>x=%{x}<br>y=%{y}<extra></extra>\",\"ids\":[\"Alabama\"],\"legendgroup\":\"Alabama\",\"line\":{\"color\":\"#2E91E5\",\"dash\":\"solid\"},\"marker\":{\"symbol\":\"circle\"},\"mode\":\"markers+lines\",\"name\":\"Alabama\",\"orientation\":\"v\",\"showlegend\":true,\"x\":[2018],\"xaxis\":\"x\",\"y\":[2.0],\"yaxis\":\"y\",\"type\":\"scatter\"},{\"hovertemplate\":\"color=Alaska<br>animation_frame=2018<br>x=%{x}<br>y=%{y}<extra></extra>\",\"ids\":[\"Alaska\"],\"legendgroup\":\"Alaska\",\"line\":{\"color\":\"#E15F99\",\"dash\":\"solid\"},\"marker\":{\"symbol\":\"circle\"},\"mode\":\"markers+lines\",\"name\":\"Alaska\",\"orientation\":\"v\",\"showlegend\":true,\"x\":[2018],\"xaxis\":\"x\",\"y\":[31.0],\"yaxis\":\"y\",\"type\":\"scatter\"},{\"hovertemplate\":\"color=Arizona<br>animation_frame=2018<br>x=%{x}<br>y=%{y}<extra></extra>\",\"ids\":[\"Arizona\"],\"legendgroup\":\"Arizona\",\"line\":{\"color\":\"#1CA71C\",\"dash\":\"solid\"},\"marker\":{\"symbol\":\"circle\"},\"mode\":\"markers+lines\",\"name\":\"Arizona\",\"orientation\":\"v\",\"showlegend\":true,\"x\":[2018],\"xaxis\":\"x\",\"y\":[203.0],\"yaxis\":\"y\",\"type\":\"scatter\"},{\"hovertemplate\":\"color=Arkansas<br>animation_frame=2018<br>x=%{x}<br>y=%{y}<extra></extra>\",\"ids\":[\"Arkansas\"],\"legendgroup\":\"Arkansas\",\"line\":{\"color\":\"#FB0D0D\",\"dash\":\"solid\"},\"marker\":{\"symbol\":\"circle\"},\"mode\":\"markers+lines\",\"name\":\"Arkansas\",\"orientation\":\"v\",\"showlegend\":true,\"x\":[2018],\"xaxis\":\"x\",\"y\":[156.0],\"yaxis\":\"y\",\"type\":\"scatter\"},{\"hovertemplate\":\"color=California<br>animation_frame=2018<br>x=%{x}<br>y=%{y}<extra></extra>\",\"ids\":[\"California\"],\"legendgroup\":\"California\",\"line\":{\"color\":\"#DA16FF\",\"dash\":\"solid\"},\"marker\":{\"symbol\":\"circle\"},\"mode\":\"markers+lines\",\"name\":\"California\",\"orientation\":\"v\",\"showlegend\":true,\"x\":[2018],\"xaxis\":\"x\",\"y\":[1177.0],\"yaxis\":\"y\",\"type\":\"scatter\"},{\"hovertemplate\":\"color=Colorado<br>animation_frame=2018<br>x=%{x}<br>y=%{y}<extra></extra>\",\"ids\":[\"Colorado\"],\"legendgroup\":\"Colorado\",\"line\":{\"color\":\"#222A2A\",\"dash\":\"solid\"},\"marker\":{\"symbol\":\"circle\"},\"mode\":\"markers+lines\",\"name\":\"Colorado\",\"orientation\":\"v\",\"showlegend\":true,\"x\":[2018],\"xaxis\":\"x\",\"y\":[147.0],\"yaxis\":\"y\",\"type\":\"scatter\"},{\"hovertemplate\":\"color=Connecticut<br>animation_frame=2018<br>x=%{x}<br>y=%{y}<extra></extra>\",\"ids\":[\"Connecticut\"],\"legendgroup\":\"Connecticut\",\"line\":{\"color\":\"#B68100\",\"dash\":\"solid\"},\"marker\":{\"symbol\":\"circle\"},\"mode\":\"markers+lines\",\"name\":\"Connecticut\",\"orientation\":\"v\",\"showlegend\":true,\"x\":[2018],\"xaxis\":\"x\",\"y\":[54.0],\"yaxis\":\"y\",\"type\":\"scatter\"},{\"hovertemplate\":\"color=Delaware<br>animation_frame=2018<br>x=%{x}<br>y=%{y}<extra></extra>\",\"ids\":[\"Delaware\"],\"legendgroup\":\"Delaware\",\"line\":{\"color\":\"#750D86\",\"dash\":\"solid\"},\"marker\":{\"symbol\":\"circle\"},\"mode\":\"markers+lines\",\"name\":\"Delaware\",\"orientation\":\"v\",\"showlegend\":true,\"x\":[2018],\"xaxis\":\"x\",\"y\":[40.0],\"yaxis\":\"y\",\"type\":\"scatter\"},{\"hovertemplate\":\"color=District of Columbia<br>animation_frame=2018<br>x=%{x}<br>y=%{y}<extra></extra>\",\"ids\":[\"District of Columbia\"],\"legendgroup\":\"District of Columbia\",\"line\":{\"color\":\"#EB663B\",\"dash\":\"solid\"},\"marker\":{\"symbol\":\"circle\"},\"mode\":\"markers+lines\",\"name\":\"District of Columbia\",\"orientation\":\"v\",\"showlegend\":true,\"x\":[2018],\"xaxis\":\"x\",\"y\":[120.0],\"yaxis\":\"y\",\"type\":\"scatter\"},{\"hovertemplate\":\"color=Georgia<br>animation_frame=2018<br>x=%{x}<br>y=%{y}<extra></extra>\",\"ids\":[\"Georgia\"],\"legendgroup\":\"Georgia\",\"line\":{\"color\":\"#511CFB\",\"dash\":\"solid\"},\"marker\":{\"symbol\":\"circle\"},\"mode\":\"markers+lines\",\"name\":\"Georgia\",\"orientation\":\"v\",\"showlegend\":true,\"x\":[2018],\"xaxis\":\"x\",\"y\":[460.0],\"yaxis\":\"y\",\"type\":\"scatter\"},{\"hovertemplate\":\"color=Hawaii<br>animation_frame=2018<br>x=%{x}<br>y=%{y}<extra></extra>\",\"ids\":[\"Hawaii\"],\"legendgroup\":\"Hawaii\",\"line\":{\"color\":\"#FB00D1\",\"dash\":\"solid\"},\"marker\":{\"symbol\":\"circle\"},\"mode\":\"markers+lines\",\"name\":\"Hawaii\",\"orientation\":\"v\",\"showlegend\":true,\"x\":[2018],\"xaxis\":\"x\",\"y\":[11.0],\"yaxis\":\"y\",\"type\":\"scatter\"},{\"hovertemplate\":\"color=Idaho<br>animation_frame=2018<br>x=%{x}<br>y=%{y}<extra></extra>\",\"ids\":[\"Idaho\"],\"legendgroup\":\"Idaho\",\"line\":{\"color\":\"#FC0080\",\"dash\":\"solid\"},\"marker\":{\"symbol\":\"circle\"},\"mode\":\"markers+lines\",\"name\":\"Idaho\",\"orientation\":\"v\",\"showlegend\":true,\"x\":[2018],\"xaxis\":\"x\",\"y\":[19.0],\"yaxis\":\"y\",\"type\":\"scatter\"},{\"hovertemplate\":\"color=Illinois<br>animation_frame=2018<br>x=%{x}<br>y=%{y}<extra></extra>\",\"ids\":[\"Illinois\"],\"legendgroup\":\"Illinois\",\"line\":{\"color\":\"#B2828D\",\"dash\":\"solid\"},\"marker\":{\"symbol\":\"circle\"},\"mode\":\"markers+lines\",\"name\":\"Illinois\",\"orientation\":\"v\",\"showlegend\":true,\"x\":[2018],\"xaxis\":\"x\",\"y\":[708.0],\"yaxis\":\"y\",\"type\":\"scatter\"},{\"hovertemplate\":\"color=Indiana<br>animation_frame=2018<br>x=%{x}<br>y=%{y}<extra></extra>\",\"ids\":[\"Indiana\"],\"legendgroup\":\"Indiana\",\"line\":{\"color\":\"#6C7C32\",\"dash\":\"solid\"},\"marker\":{\"symbol\":\"circle\"},\"mode\":\"markers+lines\",\"name\":\"Indiana\",\"orientation\":\"v\",\"showlegend\":true,\"x\":[2018],\"xaxis\":\"x\",\"y\":[294.0],\"yaxis\":\"y\",\"type\":\"scatter\"},{\"hovertemplate\":\"color=Iowa<br>animation_frame=2018<br>x=%{x}<br>y=%{y}<extra></extra>\",\"ids\":[\"Iowa\"],\"legendgroup\":\"Iowa\",\"line\":{\"color\":\"#778AAE\",\"dash\":\"solid\"},\"marker\":{\"symbol\":\"circle\"},\"mode\":\"markers+lines\",\"name\":\"Iowa\",\"orientation\":\"v\",\"showlegend\":true,\"x\":[2018],\"xaxis\":\"x\",\"y\":[20.0],\"yaxis\":\"y\",\"type\":\"scatter\"},{\"hovertemplate\":\"color=Kansas<br>animation_frame=2018<br>x=%{x}<br>y=%{y}<extra></extra>\",\"ids\":[\"Kansas\"],\"legendgroup\":\"Kansas\",\"line\":{\"color\":\"#862A16\",\"dash\":\"solid\"},\"marker\":{\"symbol\":\"circle\"},\"mode\":\"markers+lines\",\"name\":\"Kansas\",\"orientation\":\"v\",\"showlegend\":true,\"x\":[2018],\"xaxis\":\"x\",\"y\":[78.0],\"yaxis\":\"y\",\"type\":\"scatter\"},{\"hovertemplate\":\"color=Kentucky<br>animation_frame=2018<br>x=%{x}<br>y=%{y}<extra></extra>\",\"ids\":[\"Kentucky\"],\"legendgroup\":\"Kentucky\",\"line\":{\"color\":\"#A777F1\",\"dash\":\"solid\"},\"marker\":{\"symbol\":\"circle\"},\"mode\":\"markers+lines\",\"name\":\"Kentucky\",\"orientation\":\"v\",\"showlegend\":true,\"x\":[2018],\"xaxis\":\"x\",\"y\":[179.0],\"yaxis\":\"y\",\"type\":\"scatter\"},{\"hovertemplate\":\"color=Louisiana<br>animation_frame=2018<br>x=%{x}<br>y=%{y}<extra></extra>\",\"ids\":[\"Louisiana\"],\"legendgroup\":\"Louisiana\",\"line\":{\"color\":\"#620042\",\"dash\":\"solid\"},\"marker\":{\"symbol\":\"circle\"},\"mode\":\"markers+lines\",\"name\":\"Louisiana\",\"orientation\":\"v\",\"showlegend\":true,\"x\":[2018],\"xaxis\":\"x\",\"y\":[436.0],\"yaxis\":\"y\",\"type\":\"scatter\"},{\"hovertemplate\":\"color=Maine<br>animation_frame=2018<br>x=%{x}<br>y=%{y}<extra></extra>\",\"ids\":[\"Maine\"],\"legendgroup\":\"Maine\",\"line\":{\"color\":\"#1616A7\",\"dash\":\"solid\"},\"marker\":{\"symbol\":\"circle\"},\"mode\":\"markers+lines\",\"name\":\"Maine\",\"orientation\":\"v\",\"showlegend\":true,\"x\":[2018],\"xaxis\":\"x\",\"y\":[11.0],\"yaxis\":\"y\",\"type\":\"scatter\"},{\"hovertemplate\":\"color=Maryland<br>animation_frame=2018<br>x=%{x}<br>y=%{y}<extra></extra>\",\"ids\":[\"Maryland\"],\"legendgroup\":\"Maryland\",\"line\":{\"color\":\"#DA60CA\",\"dash\":\"solid\"},\"marker\":{\"symbol\":\"circle\"},\"mode\":\"markers+lines\",\"name\":\"Maryland\",\"orientation\":\"v\",\"showlegend\":true,\"x\":[2018],\"xaxis\":\"x\",\"y\":[388.0],\"yaxis\":\"y\",\"type\":\"scatter\"},{\"hovertemplate\":\"color=Massachusetts<br>animation_frame=2018<br>x=%{x}<br>y=%{y}<extra></extra>\",\"ids\":[\"Massachusetts\"],\"legendgroup\":\"Massachusetts\",\"line\":{\"color\":\"#6C4516\",\"dash\":\"solid\"},\"marker\":{\"symbol\":\"circle\"},\"mode\":\"markers+lines\",\"name\":\"Massachusetts\",\"orientation\":\"v\",\"showlegend\":true,\"x\":[2018],\"xaxis\":\"x\",\"y\":[93.0],\"yaxis\":\"y\",\"type\":\"scatter\"},{\"hovertemplate\":\"color=Michigan<br>animation_frame=2018<br>x=%{x}<br>y=%{y}<extra></extra>\",\"ids\":[\"Michigan\"],\"legendgroup\":\"Michigan\",\"line\":{\"color\":\"#0D2A63\",\"dash\":\"solid\"},\"marker\":{\"symbol\":\"circle\"},\"mode\":\"markers+lines\",\"name\":\"Michigan\",\"orientation\":\"v\",\"showlegend\":true,\"x\":[2018],\"xaxis\":\"x\",\"y\":[394.0],\"yaxis\":\"y\",\"type\":\"scatter\"},{\"hovertemplate\":\"color=Minnesota<br>animation_frame=2018<br>x=%{x}<br>y=%{y}<extra></extra>\",\"ids\":[\"Minnesota\"],\"legendgroup\":\"Minnesota\",\"line\":{\"color\":\"#AF0038\",\"dash\":\"solid\"},\"marker\":{\"symbol\":\"circle\"},\"mode\":\"markers+lines\",\"name\":\"Minnesota\",\"orientation\":\"v\",\"showlegend\":true,\"x\":[2018],\"xaxis\":\"x\",\"y\":[49.0],\"yaxis\":\"y\",\"type\":\"scatter\"},{\"hovertemplate\":\"color=Mississippi<br>animation_frame=2018<br>x=%{x}<br>y=%{y}<extra></extra>\",\"ids\":[\"Mississippi\"],\"legendgroup\":\"Mississippi\",\"line\":{\"color\":\"#2E91E5\",\"dash\":\"solid\"},\"marker\":{\"symbol\":\"circle\"},\"mode\":\"markers+lines\",\"name\":\"Mississippi\",\"orientation\":\"v\",\"showlegend\":true,\"x\":[2018],\"xaxis\":\"x\",\"y\":[118.0],\"yaxis\":\"y\",\"type\":\"scatter\"},{\"hovertemplate\":\"color=Missouri<br>animation_frame=2018<br>x=%{x}<br>y=%{y}<extra></extra>\",\"ids\":[\"Missouri\"],\"legendgroup\":\"Missouri\",\"line\":{\"color\":\"#E15F99\",\"dash\":\"solid\"},\"marker\":{\"symbol\":\"circle\"},\"mode\":\"markers+lines\",\"name\":\"Missouri\",\"orientation\":\"v\",\"showlegend\":true,\"x\":[2018],\"xaxis\":\"x\",\"y\":[473.0],\"yaxis\":\"y\",\"type\":\"scatter\"},{\"hovertemplate\":\"color=Montana<br>animation_frame=2018<br>x=%{x}<br>y=%{y}<extra></extra>\",\"ids\":[\"Montana\"],\"legendgroup\":\"Montana\",\"line\":{\"color\":\"#1CA71C\",\"dash\":\"solid\"},\"marker\":{\"symbol\":\"circle\"},\"mode\":\"markers+lines\",\"name\":\"Montana\",\"orientation\":\"v\",\"showlegend\":true,\"x\":[2018],\"xaxis\":\"x\",\"y\":[17.0],\"yaxis\":\"y\",\"type\":\"scatter\"},{\"hovertemplate\":\"color=Nebraska<br>animation_frame=2018<br>x=%{x}<br>y=%{y}<extra></extra>\",\"ids\":[\"Nebraska\"],\"legendgroup\":\"Nebraska\",\"line\":{\"color\":\"#FB0D0D\",\"dash\":\"solid\"},\"marker\":{\"symbol\":\"circle\"},\"mode\":\"markers+lines\",\"name\":\"Nebraska\",\"orientation\":\"v\",\"showlegend\":true,\"x\":[2018],\"xaxis\":\"x\",\"y\":[26.0],\"yaxis\":\"y\",\"type\":\"scatter\"},{\"hovertemplate\":\"color=Nevada<br>animation_frame=2018<br>x=%{x}<br>y=%{y}<extra></extra>\",\"ids\":[\"Nevada\"],\"legendgroup\":\"Nevada\",\"line\":{\"color\":\"#DA16FF\",\"dash\":\"solid\"},\"marker\":{\"symbol\":\"circle\"},\"mode\":\"markers+lines\",\"name\":\"Nevada\",\"orientation\":\"v\",\"showlegend\":true,\"x\":[2018],\"xaxis\":\"x\",\"y\":[134.0],\"yaxis\":\"y\",\"type\":\"scatter\"},{\"hovertemplate\":\"color=New Hampshire<br>animation_frame=2018<br>x=%{x}<br>y=%{y}<extra></extra>\",\"ids\":[\"New Hampshire\"],\"legendgroup\":\"New Hampshire\",\"line\":{\"color\":\"#222A2A\",\"dash\":\"solid\"},\"marker\":{\"symbol\":\"circle\"},\"mode\":\"markers+lines\",\"name\":\"New Hampshire\",\"orientation\":\"v\",\"showlegend\":true,\"x\":[2018],\"xaxis\":\"x\",\"y\":[12.0],\"yaxis\":\"y\",\"type\":\"scatter\"},{\"hovertemplate\":\"color=New Jersey<br>animation_frame=2018<br>x=%{x}<br>y=%{y}<extra></extra>\",\"ids\":[\"New Jersey\"],\"legendgroup\":\"New Jersey\",\"line\":{\"color\":\"#B68100\",\"dash\":\"solid\"},\"marker\":{\"symbol\":\"circle\"},\"mode\":\"markers+lines\",\"name\":\"New Jersey\",\"orientation\":\"v\",\"showlegend\":true,\"x\":[2018],\"xaxis\":\"x\",\"y\":[202.0],\"yaxis\":\"y\",\"type\":\"scatter\"},{\"hovertemplate\":\"color=New Mexico<br>animation_frame=2018<br>x=%{x}<br>y=%{y}<extra></extra>\",\"ids\":[\"New Mexico\"],\"legendgroup\":\"New Mexico\",\"line\":{\"color\":\"#750D86\",\"dash\":\"solid\"},\"marker\":{\"symbol\":\"circle\"},\"mode\":\"markers+lines\",\"name\":\"New Mexico\",\"orientation\":\"v\",\"showlegend\":true,\"x\":[2018],\"xaxis\":\"x\",\"y\":[87.0],\"yaxis\":\"y\",\"type\":\"scatter\"},{\"hovertemplate\":\"color=New York<br>animation_frame=2018<br>x=%{x}<br>y=%{y}<extra></extra>\",\"ids\":[\"New York\"],\"legendgroup\":\"New York\",\"line\":{\"color\":\"#EB663B\",\"dash\":\"solid\"},\"marker\":{\"symbol\":\"circle\"},\"mode\":\"markers+lines\",\"name\":\"New York\",\"orientation\":\"v\",\"showlegend\":true,\"x\":[2018],\"xaxis\":\"x\",\"y\":[313.0],\"yaxis\":\"y\",\"type\":\"scatter\"},{\"hovertemplate\":\"color=North Carolina<br>animation_frame=2018<br>x=%{x}<br>y=%{y}<extra></extra>\",\"ids\":[\"North Carolina\"],\"legendgroup\":\"North Carolina\",\"line\":{\"color\":\"#511CFB\",\"dash\":\"solid\"},\"marker\":{\"symbol\":\"circle\"},\"mode\":\"markers+lines\",\"name\":\"North Carolina\",\"orientation\":\"v\",\"showlegend\":true,\"x\":[2018],\"xaxis\":\"x\",\"y\":[346.0],\"yaxis\":\"y\",\"type\":\"scatter\"},{\"hovertemplate\":\"color=North Dakota<br>animation_frame=2018<br>x=%{x}<br>y=%{y}<extra></extra>\",\"ids\":[\"North Dakota\"],\"legendgroup\":\"North Dakota\",\"line\":{\"color\":\"#00A08B\",\"dash\":\"solid\"},\"marker\":{\"symbol\":\"circle\"},\"mode\":\"markers+lines\",\"name\":\"North Dakota\",\"orientation\":\"v\",\"showlegend\":true,\"x\":[2018],\"xaxis\":\"x\",\"y\":[9.0],\"yaxis\":\"y\",\"type\":\"scatter\"},{\"hovertemplate\":\"color=Ohio<br>animation_frame=2018<br>x=%{x}<br>y=%{y}<extra></extra>\",\"ids\":[\"Ohio\"],\"legendgroup\":\"Ohio\",\"line\":{\"color\":\"#FB00D1\",\"dash\":\"solid\"},\"marker\":{\"symbol\":\"circle\"},\"mode\":\"markers+lines\",\"name\":\"Ohio\",\"orientation\":\"v\",\"showlegend\":true,\"x\":[2018],\"xaxis\":\"x\",\"y\":[383.0],\"yaxis\":\"y\",\"type\":\"scatter\"},{\"hovertemplate\":\"color=Oklahoma<br>animation_frame=2018<br>x=%{x}<br>y=%{y}<extra></extra>\",\"ids\":[\"Oklahoma\"],\"legendgroup\":\"Oklahoma\",\"line\":{\"color\":\"#FC0080\",\"dash\":\"solid\"},\"marker\":{\"symbol\":\"circle\"},\"mode\":\"markers+lines\",\"name\":\"Oklahoma\",\"orientation\":\"v\",\"showlegend\":true,\"x\":[2018],\"xaxis\":\"x\",\"y\":[134.0],\"yaxis\":\"y\",\"type\":\"scatter\"},{\"hovertemplate\":\"color=Oregon<br>animation_frame=2018<br>x=%{x}<br>y=%{y}<extra></extra>\",\"ids\":[\"Oregon\"],\"legendgroup\":\"Oregon\",\"line\":{\"color\":\"#B2828D\",\"dash\":\"solid\"},\"marker\":{\"symbol\":\"circle\"},\"mode\":\"markers+lines\",\"name\":\"Oregon\",\"orientation\":\"v\",\"showlegend\":true,\"x\":[2018],\"xaxis\":\"x\",\"y\":[48.0],\"yaxis\":\"y\",\"type\":\"scatter\"},{\"hovertemplate\":\"color=Pennsylvania<br>animation_frame=2018<br>x=%{x}<br>y=%{y}<extra></extra>\",\"ids\":[\"Pennsylvania\"],\"legendgroup\":\"Pennsylvania\",\"line\":{\"color\":\"#6C7C32\",\"dash\":\"solid\"},\"marker\":{\"symbol\":\"circle\"},\"mode\":\"markers+lines\",\"name\":\"Pennsylvania\",\"orientation\":\"v\",\"showlegend\":true,\"x\":[2018],\"xaxis\":\"x\",\"y\":[580.0],\"yaxis\":\"y\",\"type\":\"scatter\"},{\"hovertemplate\":\"color=Rhode Island<br>animation_frame=2018<br>x=%{x}<br>y=%{y}<extra></extra>\",\"ids\":[\"Rhode Island\"],\"legendgroup\":\"Rhode Island\",\"line\":{\"color\":\"#778AAE\",\"dash\":\"solid\"},\"marker\":{\"symbol\":\"circle\"},\"mode\":\"markers+lines\",\"name\":\"Rhode Island\",\"orientation\":\"v\",\"showlegend\":true,\"x\":[2018],\"xaxis\":\"x\",\"y\":[12.0],\"yaxis\":\"y\",\"type\":\"scatter\"},{\"hovertemplate\":\"color=South Carolina<br>animation_frame=2018<br>x=%{x}<br>y=%{y}<extra></extra>\",\"ids\":[\"South Carolina\"],\"legendgroup\":\"South Carolina\",\"line\":{\"color\":\"#862A16\",\"dash\":\"solid\"},\"marker\":{\"symbol\":\"circle\"},\"mode\":\"markers+lines\",\"name\":\"South Carolina\",\"orientation\":\"v\",\"showlegend\":true,\"x\":[2018],\"xaxis\":\"x\",\"y\":[296.0],\"yaxis\":\"y\",\"type\":\"scatter\"},{\"hovertemplate\":\"color=South Dakota<br>animation_frame=2018<br>x=%{x}<br>y=%{y}<extra></extra>\",\"ids\":[\"South Dakota\"],\"legendgroup\":\"South Dakota\",\"line\":{\"color\":\"#A777F1\",\"dash\":\"solid\"},\"marker\":{\"symbol\":\"circle\"},\"mode\":\"markers+lines\",\"name\":\"South Dakota\",\"orientation\":\"v\",\"showlegend\":true,\"x\":[2018],\"xaxis\":\"x\",\"y\":[8.0],\"yaxis\":\"y\",\"type\":\"scatter\"},{\"hovertemplate\":\"color=Tennessee<br>animation_frame=2018<br>x=%{x}<br>y=%{y}<extra></extra>\",\"ids\":[\"Tennessee\"],\"legendgroup\":\"Tennessee\",\"line\":{\"color\":\"#620042\",\"dash\":\"solid\"},\"marker\":{\"symbol\":\"circle\"},\"mode\":\"markers+lines\",\"name\":\"Tennessee\",\"orientation\":\"v\",\"showlegend\":true,\"x\":[2018],\"xaxis\":\"x\",\"y\":[397.0],\"yaxis\":\"y\",\"type\":\"scatter\"},{\"hovertemplate\":\"color=Texas<br>animation_frame=2018<br>x=%{x}<br>y=%{y}<extra></extra>\",\"ids\":[\"Texas\"],\"legendgroup\":\"Texas\",\"line\":{\"color\":\"#1616A7\",\"dash\":\"solid\"},\"marker\":{\"symbol\":\"circle\"},\"mode\":\"markers+lines\",\"name\":\"Texas\",\"orientation\":\"v\",\"showlegend\":true,\"x\":[2018],\"xaxis\":\"x\",\"y\":[956.0],\"yaxis\":\"y\",\"type\":\"scatter\"},{\"hovertemplate\":\"color=Utah<br>animation_frame=2018<br>x=%{x}<br>y=%{y}<extra></extra>\",\"ids\":[\"Utah\"],\"legendgroup\":\"Utah\",\"line\":{\"color\":\"#6C4516\",\"dash\":\"solid\"},\"marker\":{\"symbol\":\"circle\"},\"mode\":\"markers+lines\",\"name\":\"Utah\",\"orientation\":\"v\",\"showlegend\":true,\"x\":[2018],\"xaxis\":\"x\",\"y\":[28.0],\"yaxis\":\"y\",\"type\":\"scatter\"},{\"hovertemplate\":\"color=Vermont<br>animation_frame=2018<br>x=%{x}<br>y=%{y}<extra></extra>\",\"ids\":[\"Vermont\"],\"legendgroup\":\"Vermont\",\"line\":{\"color\":\"#0D2A63\",\"dash\":\"solid\"},\"marker\":{\"symbol\":\"circle\"},\"mode\":\"markers+lines\",\"name\":\"Vermont\",\"orientation\":\"v\",\"showlegend\":true,\"x\":[2018],\"xaxis\":\"x\",\"y\":[3.0],\"yaxis\":\"y\",\"type\":\"scatter\"},{\"hovertemplate\":\"color=Virginia<br>animation_frame=2018<br>x=%{x}<br>y=%{y}<extra></extra>\",\"ids\":[\"Virginia\"],\"legendgroup\":\"Virginia\",\"line\":{\"color\":\"#AF0038\",\"dash\":\"solid\"},\"marker\":{\"symbol\":\"circle\"},\"mode\":\"markers+lines\",\"name\":\"Virginia\",\"orientation\":\"v\",\"showlegend\":true,\"x\":[2018],\"xaxis\":\"x\",\"y\":[297.0],\"yaxis\":\"y\",\"type\":\"scatter\"},{\"hovertemplate\":\"color=Washington<br>animation_frame=2018<br>x=%{x}<br>y=%{y}<extra></extra>\",\"ids\":[\"Washington\"],\"legendgroup\":\"Washington\",\"line\":{\"color\":\"#2E91E5\",\"dash\":\"solid\"},\"marker\":{\"symbol\":\"circle\"},\"mode\":\"markers+lines\",\"name\":\"Washington\",\"orientation\":\"v\",\"showlegend\":true,\"x\":[2018],\"xaxis\":\"x\",\"y\":[138.0],\"yaxis\":\"y\",\"type\":\"scatter\"},{\"hovertemplate\":\"color=West Virginia<br>animation_frame=2018<br>x=%{x}<br>y=%{y}<extra></extra>\",\"ids\":[\"West Virginia\"],\"legendgroup\":\"West Virginia\",\"line\":{\"color\":\"#E15F99\",\"dash\":\"solid\"},\"marker\":{\"symbol\":\"circle\"},\"mode\":\"markers+lines\",\"name\":\"West Virginia\",\"orientation\":\"v\",\"showlegend\":true,\"x\":[2018],\"xaxis\":\"x\",\"y\":[34.0],\"yaxis\":\"y\",\"type\":\"scatter\"},{\"hovertemplate\":\"color=Wisconsin<br>animation_frame=2018<br>x=%{x}<br>y=%{y}<extra></extra>\",\"ids\":[\"Wisconsin\"],\"legendgroup\":\"Wisconsin\",\"line\":{\"color\":\"#1CA71C\",\"dash\":\"solid\"},\"marker\":{\"symbol\":\"circle\"},\"mode\":\"markers+lines\",\"name\":\"Wisconsin\",\"orientation\":\"v\",\"showlegend\":true,\"x\":[2018],\"xaxis\":\"x\",\"y\":[136.0],\"yaxis\":\"y\",\"type\":\"scatter\"},{\"hovertemplate\":\"color=Wyoming<br>animation_frame=2018<br>x=%{x}<br>y=%{y}<extra></extra>\",\"ids\":[\"Wyoming\"],\"legendgroup\":\"Wyoming\",\"line\":{\"color\":\"#FB0D0D\",\"dash\":\"solid\"},\"marker\":{\"symbol\":\"circle\"},\"mode\":\"markers+lines\",\"name\":\"Wyoming\",\"orientation\":\"v\",\"showlegend\":true,\"x\":[2018],\"xaxis\":\"x\",\"y\":[8.0],\"yaxis\":\"y\",\"type\":\"scatter\"}],\"name\":\"2018\"},{\"data\":[{\"hovertemplate\":\"color=Alabama<br>animation_frame=2019<br>x=%{x}<br>y=%{y}<extra></extra>\",\"ids\":[\"Alabama\"],\"legendgroup\":\"Alabama\",\"line\":{\"color\":\"#2E91E5\",\"dash\":\"solid\"},\"marker\":{\"symbol\":\"circle\"},\"mode\":\"markers+lines\",\"name\":\"Alabama\",\"orientation\":\"v\",\"showlegend\":true,\"x\":[2019],\"xaxis\":\"x\",\"y\":[3.0],\"yaxis\":\"y\",\"type\":\"scatter\"},{\"hovertemplate\":\"color=Alaska<br>animation_frame=2019<br>x=%{x}<br>y=%{y}<extra></extra>\",\"ids\":[\"Alaska\"],\"legendgroup\":\"Alaska\",\"line\":{\"color\":\"#E15F99\",\"dash\":\"solid\"},\"marker\":{\"symbol\":\"circle\"},\"mode\":\"markers+lines\",\"name\":\"Alaska\",\"orientation\":\"v\",\"showlegend\":true,\"x\":[2019],\"xaxis\":\"x\",\"y\":[44.0],\"yaxis\":\"y\",\"type\":\"scatter\"},{\"hovertemplate\":\"color=Arizona<br>animation_frame=2019<br>x=%{x}<br>y=%{y}<extra></extra>\",\"ids\":[\"Arizona\"],\"legendgroup\":\"Arizona\",\"line\":{\"color\":\"#1CA71C\",\"dash\":\"solid\"},\"marker\":{\"symbol\":\"circle\"},\"mode\":\"markers+lines\",\"name\":\"Arizona\",\"orientation\":\"v\",\"showlegend\":true,\"x\":[2019],\"xaxis\":\"x\",\"y\":[213.0],\"yaxis\":\"y\",\"type\":\"scatter\"},{\"hovertemplate\":\"color=Arkansas<br>animation_frame=2019<br>x=%{x}<br>y=%{y}<extra></extra>\",\"ids\":[\"Arkansas\"],\"legendgroup\":\"Arkansas\",\"line\":{\"color\":\"#FB0D0D\",\"dash\":\"solid\"},\"marker\":{\"symbol\":\"circle\"},\"mode\":\"markers+lines\",\"name\":\"Arkansas\",\"orientation\":\"v\",\"showlegend\":true,\"x\":[2019],\"xaxis\":\"x\",\"y\":[177.0],\"yaxis\":\"y\",\"type\":\"scatter\"},{\"hovertemplate\":\"color=California<br>animation_frame=2019<br>x=%{x}<br>y=%{y}<extra></extra>\",\"ids\":[\"California\"],\"legendgroup\":\"California\",\"line\":{\"color\":\"#DA16FF\",\"dash\":\"solid\"},\"marker\":{\"symbol\":\"circle\"},\"mode\":\"markers+lines\",\"name\":\"California\",\"orientation\":\"v\",\"showlegend\":true,\"x\":[2019],\"xaxis\":\"x\",\"y\":[1142.0],\"yaxis\":\"y\",\"type\":\"scatter\"},{\"hovertemplate\":\"color=Colorado<br>animation_frame=2019<br>x=%{x}<br>y=%{y}<extra></extra>\",\"ids\":[\"Colorado\"],\"legendgroup\":\"Colorado\",\"line\":{\"color\":\"#222A2A\",\"dash\":\"solid\"},\"marker\":{\"symbol\":\"circle\"},\"mode\":\"markers+lines\",\"name\":\"Colorado\",\"orientation\":\"v\",\"showlegend\":true,\"x\":[2019],\"xaxis\":\"x\",\"y\":[135.0],\"yaxis\":\"y\",\"type\":\"scatter\"},{\"hovertemplate\":\"color=Connecticut<br>animation_frame=2019<br>x=%{x}<br>y=%{y}<extra></extra>\",\"ids\":[\"Connecticut\"],\"legendgroup\":\"Connecticut\",\"line\":{\"color\":\"#B68100\",\"dash\":\"solid\"},\"marker\":{\"symbol\":\"circle\"},\"mode\":\"markers+lines\",\"name\":\"Connecticut\",\"orientation\":\"v\",\"showlegend\":true,\"x\":[2019],\"xaxis\":\"x\",\"y\":[65.0],\"yaxis\":\"y\",\"type\":\"scatter\"},{\"hovertemplate\":\"color=Delaware<br>animation_frame=2019<br>x=%{x}<br>y=%{y}<extra></extra>\",\"ids\":[\"Delaware\"],\"legendgroup\":\"Delaware\",\"line\":{\"color\":\"#750D86\",\"dash\":\"solid\"},\"marker\":{\"symbol\":\"circle\"},\"mode\":\"markers+lines\",\"name\":\"Delaware\",\"orientation\":\"v\",\"showlegend\":true,\"x\":[2019],\"xaxis\":\"x\",\"y\":[40.0],\"yaxis\":\"y\",\"type\":\"scatter\"},{\"hovertemplate\":\"color=District of Columbia<br>animation_frame=2019<br>x=%{x}<br>y=%{y}<extra></extra>\",\"ids\":[\"District of Columbia\"],\"legendgroup\":\"District of Columbia\",\"line\":{\"color\":\"#EB663B\",\"dash\":\"solid\"},\"marker\":{\"symbol\":\"circle\"},\"mode\":\"markers+lines\",\"name\":\"District of Columbia\",\"orientation\":\"v\",\"showlegend\":true,\"x\":[2019],\"xaxis\":\"x\",\"y\":[136.0],\"yaxis\":\"y\",\"type\":\"scatter\"},{\"hovertemplate\":\"color=Georgia<br>animation_frame=2019<br>x=%{x}<br>y=%{y}<extra></extra>\",\"ids\":[\"Georgia\"],\"legendgroup\":\"Georgia\",\"line\":{\"color\":\"#511CFB\",\"dash\":\"solid\"},\"marker\":{\"symbol\":\"circle\"},\"mode\":\"markers+lines\",\"name\":\"Georgia\",\"orientation\":\"v\",\"showlegend\":true,\"x\":[2019],\"xaxis\":\"x\",\"y\":[367.0],\"yaxis\":\"y\",\"type\":\"scatter\"},{\"hovertemplate\":\"color=Hawaii<br>animation_frame=2019<br>x=%{x}<br>y=%{y}<extra></extra>\",\"ids\":[\"Hawaii\"],\"legendgroup\":\"Hawaii\",\"line\":{\"color\":\"#FB00D1\",\"dash\":\"solid\"},\"marker\":{\"symbol\":\"circle\"},\"mode\":\"markers+lines\",\"name\":\"Hawaii\",\"orientation\":\"v\",\"showlegend\":true,\"x\":[2019],\"xaxis\":\"x\",\"y\":[9.0],\"yaxis\":\"y\",\"type\":\"scatter\"},{\"hovertemplate\":\"color=Idaho<br>animation_frame=2019<br>x=%{x}<br>y=%{y}<extra></extra>\",\"ids\":[\"Idaho\"],\"legendgroup\":\"Idaho\",\"line\":{\"color\":\"#FC0080\",\"dash\":\"solid\"},\"marker\":{\"symbol\":\"circle\"},\"mode\":\"markers+lines\",\"name\":\"Idaho\",\"orientation\":\"v\",\"showlegend\":true,\"x\":[2019],\"xaxis\":\"x\",\"y\":[16.0],\"yaxis\":\"y\",\"type\":\"scatter\"},{\"hovertemplate\":\"color=Illinois<br>animation_frame=2019<br>x=%{x}<br>y=%{y}<extra></extra>\",\"ids\":[\"Illinois\"],\"legendgroup\":\"Illinois\",\"line\":{\"color\":\"#B2828D\",\"dash\":\"solid\"},\"marker\":{\"symbol\":\"circle\"},\"mode\":\"markers+lines\",\"name\":\"Illinois\",\"orientation\":\"v\",\"showlegend\":true,\"x\":[2019],\"xaxis\":\"x\",\"y\":[647.0],\"yaxis\":\"y\",\"type\":\"scatter\"},{\"hovertemplate\":\"color=Indiana<br>animation_frame=2019<br>x=%{x}<br>y=%{y}<extra></extra>\",\"ids\":[\"Indiana\"],\"legendgroup\":\"Indiana\",\"line\":{\"color\":\"#6C7C32\",\"dash\":\"solid\"},\"marker\":{\"symbol\":\"circle\"},\"mode\":\"markers+lines\",\"name\":\"Indiana\",\"orientation\":\"v\",\"showlegend\":true,\"x\":[2019],\"xaxis\":\"x\",\"y\":[185.0],\"yaxis\":\"y\",\"type\":\"scatter\"},{\"hovertemplate\":\"color=Iowa<br>animation_frame=2019<br>x=%{x}<br>y=%{y}<extra></extra>\",\"ids\":[\"Iowa\"],\"legendgroup\":\"Iowa\",\"line\":{\"color\":\"#778AAE\",\"dash\":\"solid\"},\"marker\":{\"symbol\":\"circle\"},\"mode\":\"markers+lines\",\"name\":\"Iowa\",\"orientation\":\"v\",\"showlegend\":true,\"x\":[2019],\"xaxis\":\"x\",\"y\":[36.0],\"yaxis\":\"y\",\"type\":\"scatter\"},{\"hovertemplate\":\"color=Kansas<br>animation_frame=2019<br>x=%{x}<br>y=%{y}<extra></extra>\",\"ids\":[\"Kansas\"],\"legendgroup\":\"Kansas\",\"line\":{\"color\":\"#862A16\",\"dash\":\"solid\"},\"marker\":{\"symbol\":\"circle\"},\"mode\":\"markers+lines\",\"name\":\"Kansas\",\"orientation\":\"v\",\"showlegend\":true,\"x\":[2019],\"xaxis\":\"x\",\"y\":[56.0],\"yaxis\":\"y\",\"type\":\"scatter\"},{\"hovertemplate\":\"color=Kentucky<br>animation_frame=2019<br>x=%{x}<br>y=%{y}<extra></extra>\",\"ids\":[\"Kentucky\"],\"legendgroup\":\"Kentucky\",\"line\":{\"color\":\"#A777F1\",\"dash\":\"solid\"},\"marker\":{\"symbol\":\"circle\"},\"mode\":\"markers+lines\",\"name\":\"Kentucky\",\"orientation\":\"v\",\"showlegend\":true,\"x\":[2019],\"xaxis\":\"x\",\"y\":[174.0],\"yaxis\":\"y\",\"type\":\"scatter\"},{\"hovertemplate\":\"color=Louisiana<br>animation_frame=2019<br>x=%{x}<br>y=%{y}<extra></extra>\",\"ids\":[\"Louisiana\"],\"legendgroup\":\"Louisiana\",\"line\":{\"color\":\"#620042\",\"dash\":\"solid\"},\"marker\":{\"symbol\":\"circle\"},\"mode\":\"markers+lines\",\"name\":\"Louisiana\",\"orientation\":\"v\",\"showlegend\":true,\"x\":[2019],\"xaxis\":\"x\",\"y\":[433.0],\"yaxis\":\"y\",\"type\":\"scatter\"},{\"hovertemplate\":\"color=Maine<br>animation_frame=2019<br>x=%{x}<br>y=%{y}<extra></extra>\",\"ids\":[\"Maine\"],\"legendgroup\":\"Maine\",\"line\":{\"color\":\"#1616A7\",\"dash\":\"solid\"},\"marker\":{\"symbol\":\"circle\"},\"mode\":\"markers+lines\",\"name\":\"Maine\",\"orientation\":\"v\",\"showlegend\":true,\"x\":[2019],\"xaxis\":\"x\",\"y\":[13.0],\"yaxis\":\"y\",\"type\":\"scatter\"},{\"hovertemplate\":\"color=Maryland<br>animation_frame=2019<br>x=%{x}<br>y=%{y}<extra></extra>\",\"ids\":[\"Maryland\"],\"legendgroup\":\"Maryland\",\"line\":{\"color\":\"#DA60CA\",\"dash\":\"solid\"},\"marker\":{\"symbol\":\"circle\"},\"mode\":\"markers+lines\",\"name\":\"Maryland\",\"orientation\":\"v\",\"showlegend\":true,\"x\":[2019],\"xaxis\":\"x\",\"y\":[460.0],\"yaxis\":\"y\",\"type\":\"scatter\"},{\"hovertemplate\":\"color=Massachusetts<br>animation_frame=2019<br>x=%{x}<br>y=%{y}<extra></extra>\",\"ids\":[\"Massachusetts\"],\"legendgroup\":\"Massachusetts\",\"line\":{\"color\":\"#6C4516\",\"dash\":\"solid\"},\"marker\":{\"symbol\":\"circle\"},\"mode\":\"markers+lines\",\"name\":\"Massachusetts\",\"orientation\":\"v\",\"showlegend\":true,\"x\":[2019],\"xaxis\":\"x\",\"y\":[86.0],\"yaxis\":\"y\",\"type\":\"scatter\"},{\"hovertemplate\":\"color=Michigan<br>animation_frame=2019<br>x=%{x}<br>y=%{y}<extra></extra>\",\"ids\":[\"Michigan\"],\"legendgroup\":\"Michigan\",\"line\":{\"color\":\"#0D2A63\",\"dash\":\"solid\"},\"marker\":{\"symbol\":\"circle\"},\"mode\":\"markers+lines\",\"name\":\"Michigan\",\"orientation\":\"v\",\"showlegend\":true,\"x\":[2019],\"xaxis\":\"x\",\"y\":[379.0],\"yaxis\":\"y\",\"type\":\"scatter\"},{\"hovertemplate\":\"color=Minnesota<br>animation_frame=2019<br>x=%{x}<br>y=%{y}<extra></extra>\",\"ids\":[\"Minnesota\"],\"legendgroup\":\"Minnesota\",\"line\":{\"color\":\"#AF0038\",\"dash\":\"solid\"},\"marker\":{\"symbol\":\"circle\"},\"mode\":\"markers+lines\",\"name\":\"Minnesota\",\"orientation\":\"v\",\"showlegend\":true,\"x\":[2019],\"xaxis\":\"x\",\"y\":[79.0],\"yaxis\":\"y\",\"type\":\"scatter\"},{\"hovertemplate\":\"color=Mississippi<br>animation_frame=2019<br>x=%{x}<br>y=%{y}<extra></extra>\",\"ids\":[\"Mississippi\"],\"legendgroup\":\"Mississippi\",\"line\":{\"color\":\"#2E91E5\",\"dash\":\"solid\"},\"marker\":{\"symbol\":\"circle\"},\"mode\":\"markers+lines\",\"name\":\"Mississippi\",\"orientation\":\"v\",\"showlegend\":true,\"x\":[2019],\"xaxis\":\"x\",\"y\":[153.0],\"yaxis\":\"y\",\"type\":\"scatter\"},{\"hovertemplate\":\"color=Missouri<br>animation_frame=2019<br>x=%{x}<br>y=%{y}<extra></extra>\",\"ids\":[\"Missouri\"],\"legendgroup\":\"Missouri\",\"line\":{\"color\":\"#E15F99\",\"dash\":\"solid\"},\"marker\":{\"symbol\":\"circle\"},\"mode\":\"markers+lines\",\"name\":\"Missouri\",\"orientation\":\"v\",\"showlegend\":true,\"x\":[2019],\"xaxis\":\"x\",\"y\":[486.0],\"yaxis\":\"y\",\"type\":\"scatter\"},{\"hovertemplate\":\"color=Montana<br>animation_frame=2019<br>x=%{x}<br>y=%{y}<extra></extra>\",\"ids\":[\"Montana\"],\"legendgroup\":\"Montana\",\"line\":{\"color\":\"#1CA71C\",\"dash\":\"solid\"},\"marker\":{\"symbol\":\"circle\"},\"mode\":\"markers+lines\",\"name\":\"Montana\",\"orientation\":\"v\",\"showlegend\":true,\"x\":[2019],\"xaxis\":\"x\",\"y\":[16.0],\"yaxis\":\"y\",\"type\":\"scatter\"},{\"hovertemplate\":\"color=Nebraska<br>animation_frame=2019<br>x=%{x}<br>y=%{y}<extra></extra>\",\"ids\":[\"Nebraska\"],\"legendgroup\":\"Nebraska\",\"line\":{\"color\":\"#FB0D0D\",\"dash\":\"solid\"},\"marker\":{\"symbol\":\"circle\"},\"mode\":\"markers+lines\",\"name\":\"Nebraska\",\"orientation\":\"v\",\"showlegend\":true,\"x\":[2019],\"xaxis\":\"x\",\"y\":[35.0],\"yaxis\":\"y\",\"type\":\"scatter\"},{\"hovertemplate\":\"color=Nevada<br>animation_frame=2019<br>x=%{x}<br>y=%{y}<extra></extra>\",\"ids\":[\"Nevada\"],\"legendgroup\":\"Nevada\",\"line\":{\"color\":\"#DA16FF\",\"dash\":\"solid\"},\"marker\":{\"symbol\":\"circle\"},\"mode\":\"markers+lines\",\"name\":\"Nevada\",\"orientation\":\"v\",\"showlegend\":true,\"x\":[2019],\"xaxis\":\"x\",\"y\":[94.0],\"yaxis\":\"y\",\"type\":\"scatter\"},{\"hovertemplate\":\"color=New Hampshire<br>animation_frame=2019<br>x=%{x}<br>y=%{y}<extra></extra>\",\"ids\":[\"New Hampshire\"],\"legendgroup\":\"New Hampshire\",\"line\":{\"color\":\"#222A2A\",\"dash\":\"solid\"},\"marker\":{\"symbol\":\"circle\"},\"mode\":\"markers+lines\",\"name\":\"New Hampshire\",\"orientation\":\"v\",\"showlegend\":true,\"x\":[2019],\"xaxis\":\"x\",\"y\":[16.0],\"yaxis\":\"y\",\"type\":\"scatter\"},{\"hovertemplate\":\"color=New Jersey<br>animation_frame=2019<br>x=%{x}<br>y=%{y}<extra></extra>\",\"ids\":[\"New Jersey\"],\"legendgroup\":\"New Jersey\",\"line\":{\"color\":\"#B68100\",\"dash\":\"solid\"},\"marker\":{\"symbol\":\"circle\"},\"mode\":\"markers+lines\",\"name\":\"New Jersey\",\"orientation\":\"v\",\"showlegend\":true,\"x\":[2019],\"xaxis\":\"x\",\"y\":[176.0],\"yaxis\":\"y\",\"type\":\"scatter\"},{\"hovertemplate\":\"color=New Mexico<br>animation_frame=2019<br>x=%{x}<br>y=%{y}<extra></extra>\",\"ids\":[\"New Mexico\"],\"legendgroup\":\"New Mexico\",\"line\":{\"color\":\"#750D86\",\"dash\":\"solid\"},\"marker\":{\"symbol\":\"circle\"},\"mode\":\"markers+lines\",\"name\":\"New Mexico\",\"orientation\":\"v\",\"showlegend\":true,\"x\":[2019],\"xaxis\":\"x\",\"y\":[96.0],\"yaxis\":\"y\",\"type\":\"scatter\"},{\"hovertemplate\":\"color=New York<br>animation_frame=2019<br>x=%{x}<br>y=%{y}<extra></extra>\",\"ids\":[\"New York\"],\"legendgroup\":\"New York\",\"line\":{\"color\":\"#EB663B\",\"dash\":\"solid\"},\"marker\":{\"symbol\":\"circle\"},\"mode\":\"markers+lines\",\"name\":\"New York\",\"orientation\":\"v\",\"showlegend\":true,\"x\":[2019],\"xaxis\":\"x\",\"y\":[298.0],\"yaxis\":\"y\",\"type\":\"scatter\"},{\"hovertemplate\":\"color=North Carolina<br>animation_frame=2019<br>x=%{x}<br>y=%{y}<extra></extra>\",\"ids\":[\"North Carolina\"],\"legendgroup\":\"North Carolina\",\"line\":{\"color\":\"#511CFB\",\"dash\":\"solid\"},\"marker\":{\"symbol\":\"circle\"},\"mode\":\"markers+lines\",\"name\":\"North Carolina\",\"orientation\":\"v\",\"showlegend\":true,\"x\":[2019],\"xaxis\":\"x\",\"y\":[383.0],\"yaxis\":\"y\",\"type\":\"scatter\"},{\"hovertemplate\":\"color=North Dakota<br>animation_frame=2019<br>x=%{x}<br>y=%{y}<extra></extra>\",\"ids\":[\"North Dakota\"],\"legendgroup\":\"North Dakota\",\"line\":{\"color\":\"#00A08B\",\"dash\":\"solid\"},\"marker\":{\"symbol\":\"circle\"},\"mode\":\"markers+lines\",\"name\":\"North Dakota\",\"orientation\":\"v\",\"showlegend\":true,\"x\":[2019],\"xaxis\":\"x\",\"y\":[13.0],\"yaxis\":\"y\",\"type\":\"scatter\"},{\"hovertemplate\":\"color=Ohio<br>animation_frame=2019<br>x=%{x}<br>y=%{y}<extra></extra>\",\"ids\":[\"Ohio\"],\"legendgroup\":\"Ohio\",\"line\":{\"color\":\"#FB00D1\",\"dash\":\"solid\"},\"marker\":{\"symbol\":\"circle\"},\"mode\":\"markers+lines\",\"name\":\"Ohio\",\"orientation\":\"v\",\"showlegend\":true,\"x\":[2019],\"xaxis\":\"x\",\"y\":[382.0],\"yaxis\":\"y\",\"type\":\"scatter\"},{\"hovertemplate\":\"color=Oklahoma<br>animation_frame=2019<br>x=%{x}<br>y=%{y}<extra></extra>\",\"ids\":[\"Oklahoma\"],\"legendgroup\":\"Oklahoma\",\"line\":{\"color\":\"#FC0080\",\"dash\":\"solid\"},\"marker\":{\"symbol\":\"circle\"},\"mode\":\"markers+lines\",\"name\":\"Oklahoma\",\"orientation\":\"v\",\"showlegend\":true,\"x\":[2019],\"xaxis\":\"x\",\"y\":[189.0],\"yaxis\":\"y\",\"type\":\"scatter\"},{\"hovertemplate\":\"color=Oregon<br>animation_frame=2019<br>x=%{x}<br>y=%{y}<extra></extra>\",\"ids\":[\"Oregon\"],\"legendgroup\":\"Oregon\",\"line\":{\"color\":\"#B2828D\",\"dash\":\"solid\"},\"marker\":{\"symbol\":\"circle\"},\"mode\":\"markers+lines\",\"name\":\"Oregon\",\"orientation\":\"v\",\"showlegend\":true,\"x\":[2019],\"xaxis\":\"x\",\"y\":[61.0],\"yaxis\":\"y\",\"type\":\"scatter\"},{\"hovertemplate\":\"color=Pennsylvania<br>animation_frame=2019<br>x=%{x}<br>y=%{y}<extra></extra>\",\"ids\":[\"Pennsylvania\"],\"legendgroup\":\"Pennsylvania\",\"line\":{\"color\":\"#6C7C32\",\"dash\":\"solid\"},\"marker\":{\"symbol\":\"circle\"},\"mode\":\"markers+lines\",\"name\":\"Pennsylvania\",\"orientation\":\"v\",\"showlegend\":true,\"x\":[2019],\"xaxis\":\"x\",\"y\":[429.0],\"yaxis\":\"y\",\"type\":\"scatter\"},{\"hovertemplate\":\"color=Rhode Island<br>animation_frame=2019<br>x=%{x}<br>y=%{y}<extra></extra>\",\"ids\":[\"Rhode Island\"],\"legendgroup\":\"Rhode Island\",\"line\":{\"color\":\"#778AAE\",\"dash\":\"solid\"},\"marker\":{\"symbol\":\"circle\"},\"mode\":\"markers+lines\",\"name\":\"Rhode Island\",\"orientation\":\"v\",\"showlegend\":true,\"x\":[2019],\"xaxis\":\"x\",\"y\":[10.0],\"yaxis\":\"y\",\"type\":\"scatter\"},{\"hovertemplate\":\"color=South Carolina<br>animation_frame=2019<br>x=%{x}<br>y=%{y}<extra></extra>\",\"ids\":[\"South Carolina\"],\"legendgroup\":\"South Carolina\",\"line\":{\"color\":\"#862A16\",\"dash\":\"solid\"},\"marker\":{\"symbol\":\"circle\"},\"mode\":\"markers+lines\",\"name\":\"South Carolina\",\"orientation\":\"v\",\"showlegend\":true,\"x\":[2019],\"xaxis\":\"x\",\"y\":[381.0],\"yaxis\":\"y\",\"type\":\"scatter\"},{\"hovertemplate\":\"color=South Dakota<br>animation_frame=2019<br>x=%{x}<br>y=%{y}<extra></extra>\",\"ids\":[\"South Dakota\"],\"legendgroup\":\"South Dakota\",\"line\":{\"color\":\"#A777F1\",\"dash\":\"solid\"},\"marker\":{\"symbol\":\"circle\"},\"mode\":\"markers+lines\",\"name\":\"South Dakota\",\"orientation\":\"v\",\"showlegend\":true,\"x\":[2019],\"xaxis\":\"x\",\"y\":[7.0],\"yaxis\":\"y\",\"type\":\"scatter\"},{\"hovertemplate\":\"color=Tennessee<br>animation_frame=2019<br>x=%{x}<br>y=%{y}<extra></extra>\",\"ids\":[\"Tennessee\"],\"legendgroup\":\"Tennessee\",\"line\":{\"color\":\"#620042\",\"dash\":\"solid\"},\"marker\":{\"symbol\":\"circle\"},\"mode\":\"markers+lines\",\"name\":\"Tennessee\",\"orientation\":\"v\",\"showlegend\":true,\"x\":[2019],\"xaxis\":\"x\",\"y\":[391.0],\"yaxis\":\"y\",\"type\":\"scatter\"},{\"hovertemplate\":\"color=Texas<br>animation_frame=2019<br>x=%{x}<br>y=%{y}<extra></extra>\",\"ids\":[\"Texas\"],\"legendgroup\":\"Texas\",\"line\":{\"color\":\"#1616A7\",\"dash\":\"solid\"},\"marker\":{\"symbol\":\"circle\"},\"mode\":\"markers+lines\",\"name\":\"Texas\",\"orientation\":\"v\",\"showlegend\":true,\"x\":[2019],\"xaxis\":\"x\",\"y\":[1064.0],\"yaxis\":\"y\",\"type\":\"scatter\"},{\"hovertemplate\":\"color=Utah<br>animation_frame=2019<br>x=%{x}<br>y=%{y}<extra></extra>\",\"ids\":[\"Utah\"],\"legendgroup\":\"Utah\",\"line\":{\"color\":\"#6C4516\",\"dash\":\"solid\"},\"marker\":{\"symbol\":\"circle\"},\"mode\":\"markers+lines\",\"name\":\"Utah\",\"orientation\":\"v\",\"showlegend\":true,\"x\":[2019],\"xaxis\":\"x\",\"y\":[41.0],\"yaxis\":\"y\",\"type\":\"scatter\"},{\"hovertemplate\":\"color=Vermont<br>animation_frame=2019<br>x=%{x}<br>y=%{y}<extra></extra>\",\"ids\":[\"Vermont\"],\"legendgroup\":\"Vermont\",\"line\":{\"color\":\"#0D2A63\",\"dash\":\"solid\"},\"marker\":{\"symbol\":\"circle\"},\"mode\":\"markers+lines\",\"name\":\"Vermont\",\"orientation\":\"v\",\"showlegend\":true,\"x\":[2019],\"xaxis\":\"x\",\"y\":[8.0],\"yaxis\":\"y\",\"type\":\"scatter\"},{\"hovertemplate\":\"color=Virginia<br>animation_frame=2019<br>x=%{x}<br>y=%{y}<extra></extra>\",\"ids\":[\"Virginia\"],\"legendgroup\":\"Virginia\",\"line\":{\"color\":\"#AF0038\",\"dash\":\"solid\"},\"marker\":{\"symbol\":\"circle\"},\"mode\":\"markers+lines\",\"name\":\"Virginia\",\"orientation\":\"v\",\"showlegend\":true,\"x\":[2019],\"xaxis\":\"x\",\"y\":[323.0],\"yaxis\":\"y\",\"type\":\"scatter\"},{\"hovertemplate\":\"color=Washington<br>animation_frame=2019<br>x=%{x}<br>y=%{y}<extra></extra>\",\"ids\":[\"Washington\"],\"legendgroup\":\"Washington\",\"line\":{\"color\":\"#2E91E5\",\"dash\":\"solid\"},\"marker\":{\"symbol\":\"circle\"},\"mode\":\"markers+lines\",\"name\":\"Washington\",\"orientation\":\"v\",\"showlegend\":true,\"x\":[2019],\"xaxis\":\"x\",\"y\":[135.0],\"yaxis\":\"y\",\"type\":\"scatter\"},{\"hovertemplate\":\"color=West Virginia<br>animation_frame=2019<br>x=%{x}<br>y=%{y}<extra></extra>\",\"ids\":[\"West Virginia\"],\"legendgroup\":\"West Virginia\",\"line\":{\"color\":\"#E15F99\",\"dash\":\"solid\"},\"marker\":{\"symbol\":\"circle\"},\"mode\":\"markers+lines\",\"name\":\"West Virginia\",\"orientation\":\"v\",\"showlegend\":true,\"x\":[2019],\"xaxis\":\"x\",\"y\":[48.0],\"yaxis\":\"y\",\"type\":\"scatter\"},{\"hovertemplate\":\"color=Wisconsin<br>animation_frame=2019<br>x=%{x}<br>y=%{y}<extra></extra>\",\"ids\":[\"Wisconsin\"],\"legendgroup\":\"Wisconsin\",\"line\":{\"color\":\"#1CA71C\",\"dash\":\"solid\"},\"marker\":{\"symbol\":\"circle\"},\"mode\":\"markers+lines\",\"name\":\"Wisconsin\",\"orientation\":\"v\",\"showlegend\":true,\"x\":[2019],\"xaxis\":\"x\",\"y\":[119.0],\"yaxis\":\"y\",\"type\":\"scatter\"},{\"hovertemplate\":\"color=Wyoming<br>animation_frame=2019<br>x=%{x}<br>y=%{y}<extra></extra>\",\"ids\":[\"Wyoming\"],\"legendgroup\":\"Wyoming\",\"line\":{\"color\":\"#FB0D0D\",\"dash\":\"solid\"},\"marker\":{\"symbol\":\"circle\"},\"mode\":\"markers+lines\",\"name\":\"Wyoming\",\"orientation\":\"v\",\"showlegend\":true,\"x\":[2019],\"xaxis\":\"x\",\"y\":[9.0],\"yaxis\":\"y\",\"type\":\"scatter\"},{\"hovertemplate\":\"color=Florida<br>animation_frame=2019<br>x=%{x}<br>y=%{y}<extra></extra>\",\"ids\":[\"Florida\"],\"legendgroup\":\"Florida\",\"line\":{\"color\":\"#DA16FF\",\"dash\":\"solid\"},\"marker\":{\"symbol\":\"circle\"},\"mode\":\"markers+lines\",\"name\":\"Florida\",\"orientation\":\"v\",\"showlegend\":true,\"x\":[2019],\"xaxis\":\"x\",\"y\":[0.0],\"yaxis\":\"y\",\"type\":\"scatter\"}],\"name\":\"2019\"}]);\n",
       "                        }).then(function(){\n",
       "                            \n",
       "var gd = document.getElementById('d2799e23-8b02-48f5-95a6-c7da5a035c34');\n",
       "var x = new MutationObserver(function (mutations, observer) {{\n",
       "        var display = window.getComputedStyle(gd).display;\n",
       "        if (!display || display === 'none') {{\n",
       "            console.log([gd, 'removed!']);\n",
       "            Plotly.purge(gd);\n",
       "            observer.disconnect();\n",
       "        }}\n",
       "}});\n",
       "\n",
       "// Listen for the removal of the full notebook cells\n",
       "var notebookContainer = gd.closest('#notebook-container');\n",
       "if (notebookContainer) {{\n",
       "    x.observe(notebookContainer, {childList: true});\n",
       "}}\n",
       "\n",
       "// Listen for the clearing of the current output cell\n",
       "var outputEl = gd.closest('.output');\n",
       "if (outputEl) {{\n",
       "    x.observe(outputEl, {childList: true});\n",
       "}}\n",
       "\n",
       "                        })                };                });            </script>        </div>"
      ]
     },
     "metadata": {},
     "output_type": "display_data"
    }
   ],
   "source": [
    "Year = [x[0] for x in data_to_display.index]\n",
    "TotalFirearms = data_to_display['TotalFirearms']['mean'].values.tolist()\n",
    "State = [x[1] for x in data_to_display.index]\n",
    "\n",
    "\n",
    "fig = px.line(x=Year,\n",
    "              y=TotalFirearms, \n",
    "              color=State,\n",
    "              markers=True,\n",
    "              color_discrete_sequence=px.colors.qualitative.Dark24,\n",
    "              animation_frame=Year, \n",
    "              animation_group=State,\n",
    "              log_x=True, \n",
    "              range_x=[2014,2020], \n",
    "              range_y=[0,1500]\n",
    "              )\n",
    "\n",
    "fig.update_layout(title='',\n",
    "                  xaxis_title='Year',\n",
    "                  yaxis_title='Firearm Murders',\n",
    "                  )\n",
    "#fig.update_xaxes(tickvals=Year, tickangle=45)\n",
    "fig.update_xaxes(tickangle=45)\n",
    "                 \n",
    "fig.show()"
   ]
  },
  {
   "cell_type": "code",
   "execution_count": 14,
   "id": "af3a0d2d",
   "metadata": {},
   "outputs": [
    {
     "data": {
      "application/vnd.plotly.v1+json": {
       "config": {
        "plotlyServerURL": "https://plot.ly"
       },
       "data": [
        {
         "hovertemplate": "animation_frame=COMPACT<br>x=%{x}<br>y=%{y}<br>size=%{marker.size}<br>text=%{text}<br>color=%{marker.color}<extra></extra>",
         "ids": [
          105,
          145,
          133,
          143,
          154,
          146,
          137,
          116,
          148,
          150,
          140,
          124,
          133,
          168,
          168,
          186,
          181,
          159,
          122,
          106,
          108,
          85,
          70
         ],
         "legendgroup": "",
         "marker": {
          "color": [
           105,
           145,
           133,
           143,
           154,
           146,
           137,
           116,
           148,
           150,
           140,
           124,
           133,
           168,
           168,
           186,
           181,
           159,
           122,
           106,
           108,
           85,
           70
          ],
          "coloraxis": "coloraxis",
          "size": [
           105,
           145,
           133,
           143,
           154,
           146,
           137,
           116,
           148,
           150,
           140,
           124,
           133,
           168,
           168,
           186,
           181,
           159,
           122,
           106,
           108,
           85,
           70
          ],
          "sizemode": "area",
          "sizeref": 0.67,
          "symbol": "circle"
         },
         "mode": "markers+text",
         "name": "",
         "orientation": "v",
         "showlegend": false,
         "text": [
          105,
          145,
          133,
          143,
          154,
          146,
          137,
          116,
          148,
          150,
          140,
          124,
          133,
          168,
          168,
          186,
          181,
          159,
          122,
          106,
          108,
          85,
          70
         ],
         "textposition": "top center",
         "type": "scatter",
         "x": [
          2000,
          2001,
          2002,
          2003,
          2004,
          2005,
          2006,
          2007,
          2008,
          2009,
          2010,
          2011,
          2012,
          2013,
          2014,
          2015,
          2016,
          2017,
          2018,
          2019,
          2020,
          2021,
          2022
         ],
         "xaxis": "x",
         "y": [
          105,
          145,
          133,
          143,
          154,
          146,
          137,
          116,
          148,
          150,
          140,
          124,
          133,
          168,
          168,
          186,
          181,
          159,
          122,
          106,
          108,
          85,
          70
         ],
         "yaxis": "y"
        }
       ],
       "frames": [
        {
         "data": [
          {
           "hovertemplate": "animation_frame=COMPACT<br>x=%{x}<br>y=%{y}<br>size=%{marker.size}<br>text=%{text}<br>color=%{marker.color}<extra></extra>",
           "ids": [
            105,
            145,
            133,
            143,
            154,
            146,
            137,
            116,
            148,
            150,
            140,
            124,
            133,
            168,
            168,
            186,
            181,
            159,
            122,
            106,
            108,
            85,
            70
           ],
           "legendgroup": "",
           "marker": {
            "color": [
             105,
             145,
             133,
             143,
             154,
             146,
             137,
             116,
             148,
             150,
             140,
             124,
             133,
             168,
             168,
             186,
             181,
             159,
             122,
             106,
             108,
             85,
             70
            ],
            "coloraxis": "coloraxis",
            "size": [
             105,
             145,
             133,
             143,
             154,
             146,
             137,
             116,
             148,
             150,
             140,
             124,
             133,
             168,
             168,
             186,
             181,
             159,
             122,
             106,
             108,
             85,
             70
            ],
            "sizemode": "area",
            "sizeref": 0.67,
            "symbol": "circle"
           },
           "mode": "markers+text",
           "name": "",
           "orientation": "v",
           "showlegend": false,
           "text": [
            105,
            145,
            133,
            143,
            154,
            146,
            137,
            116,
            148,
            150,
            140,
            124,
            133,
            168,
            168,
            186,
            181,
            159,
            122,
            106,
            108,
            85,
            70
           ],
           "type": "scatter",
           "x": [
            2000,
            2001,
            2002,
            2003,
            2004,
            2005,
            2006,
            2007,
            2008,
            2009,
            2010,
            2011,
            2012,
            2013,
            2014,
            2015,
            2016,
            2017,
            2018,
            2019,
            2020,
            2021,
            2022
           ],
           "xaxis": "x",
           "y": [
            105,
            145,
            133,
            143,
            154,
            146,
            137,
            116,
            148,
            150,
            140,
            124,
            133,
            168,
            168,
            186,
            181,
            159,
            122,
            106,
            108,
            85,
            70
           ],
           "yaxis": "y"
          }
         ],
         "name": "COMPACT"
        },
        {
         "data": [
          {
           "hovertemplate": "animation_frame=FULL-SIZE<br>x=%{x}<br>y=%{y}<br>size=%{marker.size}<br>text=%{text}<br>color=%{marker.color}<extra></extra>",
           "ids": [
            28,
            30,
            29,
            25,
            34,
            45,
            56,
            54,
            63,
            68,
            77,
            71,
            81,
            76,
            84,
            93,
            90,
            82,
            109,
            101,
            78,
            65,
            64
           ],
           "legendgroup": "",
           "marker": {
            "color": [
             28,
             30,
             29,
             25,
             34,
             45,
             56,
             54,
             63,
             68,
             77,
             71,
             81,
             76,
             84,
             93,
             90,
             82,
             109,
             101,
             78,
             65,
             64
            ],
            "coloraxis": "coloraxis",
            "size": [
             28,
             30,
             29,
             25,
             34,
             45,
             56,
             54,
             63,
             68,
             77,
             71,
             81,
             76,
             84,
             93,
             90,
             82,
             109,
             101,
             78,
             65,
             64
            ],
            "sizemode": "area",
            "sizeref": 0.67,
            "symbol": "circle"
           },
           "mode": "markers+text",
           "name": "",
           "orientation": "v",
           "showlegend": false,
           "text": [
            28,
            30,
            29,
            25,
            34,
            45,
            56,
            54,
            63,
            68,
            77,
            71,
            81,
            76,
            84,
            93,
            90,
            82,
            109,
            101,
            78,
            65,
            64
           ],
           "type": "scatter",
           "x": [
            2000,
            2001,
            2002,
            2003,
            2004,
            2005,
            2006,
            2007,
            2008,
            2009,
            2010,
            2011,
            2012,
            2013,
            2014,
            2015,
            2016,
            2017,
            2018,
            2019,
            2020,
            2021,
            2022
           ],
           "xaxis": "x",
           "y": [
            28,
            30,
            29,
            25,
            34,
            45,
            56,
            54,
            63,
            68,
            77,
            71,
            81,
            76,
            84,
            93,
            90,
            82,
            109,
            101,
            78,
            65,
            64
           ],
           "yaxis": "y"
          }
         ],
         "name": "FULL-SIZE"
        },
        {
         "data": [
          {
           "hovertemplate": "animation_frame=MID-SIZE<br>x=%{x}<br>y=%{y}<br>size=%{marker.size}<br>text=%{text}<br>color=%{marker.color}<extra></extra>",
           "ids": [
            77,
            82,
            90,
            89,
            103,
            114,
            111,
            139,
            134,
            125,
            120,
            132,
            131,
            153,
            170,
            180,
            188,
            162,
            158,
            145,
            126,
            114,
            117
           ],
           "legendgroup": "",
           "marker": {
            "color": [
             77,
             82,
             90,
             89,
             103,
             114,
             111,
             139,
             134,
             125,
             120,
             132,
             131,
             153,
             170,
             180,
             188,
             162,
             158,
             145,
             126,
             114,
             117
            ],
            "coloraxis": "coloraxis",
            "size": [
             77,
             82,
             90,
             89,
             103,
             114,
             111,
             139,
             134,
             125,
             120,
             132,
             131,
             153,
             170,
             180,
             188,
             162,
             158,
             145,
             126,
             114,
             117
            ],
            "sizemode": "area",
            "sizeref": 0.67,
            "symbol": "circle"
           },
           "mode": "markers+text",
           "name": "",
           "orientation": "v",
           "showlegend": false,
           "text": [
            77,
            82,
            90,
            89,
            103,
            114,
            111,
            139,
            134,
            125,
            120,
            132,
            131,
            153,
            170,
            180,
            188,
            162,
            158,
            145,
            126,
            114,
            117
           ],
           "type": "scatter",
           "x": [
            2000,
            2001,
            2002,
            2003,
            2004,
            2005,
            2006,
            2007,
            2008,
            2009,
            2010,
            2011,
            2012,
            2013,
            2014,
            2015,
            2016,
            2017,
            2018,
            2019,
            2020,
            2021,
            2022
           ],
           "xaxis": "x",
           "y": [
            77,
            82,
            90,
            89,
            103,
            114,
            111,
            139,
            134,
            125,
            120,
            132,
            131,
            153,
            170,
            180,
            188,
            162,
            158,
            145,
            126,
            114,
            117
           ],
           "yaxis": "y"
          }
         ],
         "name": "MID-SIZE"
        },
        {
         "data": [
          {
           "hovertemplate": "animation_frame=MINICOMPACT<br>x=%{x}<br>y=%{y}<br>size=%{marker.size}<br>text=%{text}<br>color=%{marker.color}<extra></extra>",
           "ids": [
            11,
            17,
            22,
            33,
            25,
            74,
            37,
            47,
            49,
            43,
            41,
            53,
            76,
            53,
            47,
            59,
            52,
            44,
            53,
            56,
            23,
            30,
            49
           ],
           "legendgroup": "",
           "marker": {
            "color": [
             11,
             17,
             22,
             33,
             25,
             74,
             37,
             47,
             49,
             43,
             41,
             53,
             76,
             53,
             47,
             59,
             52,
             44,
             53,
             56,
             23,
             30,
             49
            ],
            "coloraxis": "coloraxis",
            "size": [
             11,
             17,
             22,
             33,
             25,
             74,
             37,
             47,
             49,
             43,
             41,
             53,
             76,
             53,
             47,
             59,
             52,
             44,
             53,
             56,
             23,
             30,
             49
            ],
            "sizemode": "area",
            "sizeref": 0.67,
            "symbol": "circle"
           },
           "mode": "markers+text",
           "name": "",
           "orientation": "v",
           "showlegend": false,
           "text": [
            11,
            17,
            22,
            33,
            25,
            74,
            37,
            47,
            49,
            43,
            41,
            53,
            76,
            53,
            47,
            59,
            52,
            44,
            53,
            56,
            23,
            30,
            49
           ],
           "type": "scatter",
           "x": [
            2000,
            2001,
            2002,
            2003,
            2004,
            2005,
            2006,
            2007,
            2008,
            2009,
            2010,
            2011,
            2012,
            2013,
            2014,
            2015,
            2016,
            2017,
            2018,
            2019,
            2020,
            2021,
            2022
           ],
           "xaxis": "x",
           "y": [
            11,
            17,
            22,
            33,
            25,
            74,
            37,
            47,
            49,
            43,
            41,
            53,
            76,
            53,
            47,
            59,
            52,
            44,
            53,
            56,
            23,
            30,
            49
           ],
           "yaxis": "y"
          }
         ],
         "name": "MINICOMPACT"
        },
        {
         "data": [
          {
           "hovertemplate": "animation_frame=MINIVAN<br>x=%{x}<br>y=%{y}<br>size=%{marker.size}<br>text=%{text}<br>color=%{marker.color}<extra></extra>",
           "ids": [
            26,
            17,
            22,
            28,
            21,
            33,
            35,
            34,
            22,
            16,
            14,
            14,
            16,
            15,
            14,
            15,
            12,
            12,
            11,
            9,
            8,
            7,
            7
           ],
           "legendgroup": "",
           "marker": {
            "color": [
             26,
             17,
             22,
             28,
             21,
             33,
             35,
             34,
             22,
             16,
             14,
             14,
             16,
             15,
             14,
             15,
             12,
             12,
             11,
             9,
             8,
             7,
             7
            ],
            "coloraxis": "coloraxis",
            "size": [
             26,
             17,
             22,
             28,
             21,
             33,
             35,
             34,
             22,
             16,
             14,
             14,
             16,
             15,
             14,
             15,
             12,
             12,
             11,
             9,
             8,
             7,
             7
            ],
            "sizemode": "area",
            "sizeref": 0.67,
            "symbol": "circle"
           },
           "mode": "markers+text",
           "name": "",
           "orientation": "v",
           "showlegend": false,
           "text": [
            26,
            17,
            22,
            28,
            21,
            33,
            35,
            34,
            22,
            16,
            14,
            14,
            16,
            15,
            14,
            15,
            12,
            12,
            11,
            9,
            8,
            7,
            7
           ],
           "type": "scatter",
           "x": [
            2000,
            2001,
            2002,
            2003,
            2004,
            2005,
            2006,
            2007,
            2008,
            2009,
            2010,
            2011,
            2012,
            2013,
            2014,
            2015,
            2016,
            2017,
            2018,
            2019,
            2020,
            2021,
            2022
           ],
           "xaxis": "x",
           "y": [
            26,
            17,
            22,
            28,
            21,
            33,
            35,
            34,
            22,
            16,
            14,
            14,
            16,
            15,
            14,
            15,
            12,
            12,
            11,
            9,
            8,
            7,
            7
           ],
           "yaxis": "y"
          }
         ],
         "name": "MINIVAN"
        },
        {
         "data": [
          {
           "hovertemplate": "animation_frame=PICKUP TRUCK - SMALL<br>x=%{x}<br>y=%{y}<br>size=%{marker.size}<br>text=%{text}<br>color=%{marker.color}<extra></extra>",
           "ids": [
            11,
            12,
            12,
            8,
            1,
            52,
            59,
            54,
            51,
            43,
            12,
            12,
            22,
            26,
            28,
            27,
            25,
            19,
            17,
            20
           ],
           "legendgroup": "",
           "marker": {
            "color": [
             11,
             12,
             12,
             8,
             1,
             52,
             59,
             54,
             51,
             43,
             12,
             12,
             22,
             26,
             28,
             27,
             25,
             19,
             17,
             20
            ],
            "coloraxis": "coloraxis",
            "size": [
             11,
             12,
             12,
             8,
             1,
             52,
             59,
             54,
             51,
             43,
             12,
             12,
             22,
             26,
             28,
             27,
             25,
             19,
             17,
             20
            ],
            "sizemode": "area",
            "sizeref": 0.67,
            "symbol": "circle"
           },
           "mode": "markers+text",
           "name": "",
           "orientation": "v",
           "showlegend": false,
           "text": [
            11,
            12,
            12,
            8,
            1,
            52,
            59,
            54,
            51,
            43,
            12,
            12,
            22,
            26,
            28,
            27,
            25,
            19,
            17,
            20
           ],
           "type": "scatter",
           "x": [
            2000,
            2001,
            2002,
            2003,
            2004,
            2008,
            2009,
            2010,
            2011,
            2012,
            2013,
            2014,
            2015,
            2016,
            2017,
            2018,
            2019,
            2020,
            2021,
            2022
           ],
           "xaxis": "x",
           "y": [
            11,
            12,
            12,
            8,
            1,
            52,
            59,
            54,
            51,
            43,
            12,
            12,
            22,
            26,
            28,
            27,
            25,
            19,
            17,
            20
           ],
           "yaxis": "y"
          }
         ],
         "name": "PICKUP TRUCK - SMALL"
        },
        {
         "data": [
          {
           "hovertemplate": "animation_frame=PICKUP TRUCK - STANDARD<br>x=%{x}<br>y=%{y}<br>size=%{marker.size}<br>text=%{text}<br>color=%{marker.color}<extra></extra>",
           "ids": [
            92,
            101,
            107,
            106,
            122,
            127,
            141,
            154,
            72,
            95,
            73,
            85,
            79,
            84,
            62,
            52,
            62,
            75,
            97,
            99,
            91,
            115,
            113
           ],
           "legendgroup": "",
           "marker": {
            "color": [
             92,
             101,
             107,
             106,
             122,
             127,
             141,
             154,
             72,
             95,
             73,
             85,
             79,
             84,
             62,
             52,
             62,
             75,
             97,
             99,
             91,
             115,
             113
            ],
            "coloraxis": "coloraxis",
            "size": [
             92,
             101,
             107,
             106,
             122,
             127,
             141,
             154,
             72,
             95,
             73,
             85,
             79,
             84,
             62,
             52,
             62,
             75,
             97,
             99,
             91,
             115,
             113
            ],
            "sizemode": "area",
            "sizeref": 0.67,
            "symbol": "circle"
           },
           "mode": "markers+text",
           "name": "",
           "orientation": "v",
           "showlegend": false,
           "text": [
            92,
            101,
            107,
            106,
            122,
            127,
            141,
            154,
            72,
            95,
            73,
            85,
            79,
            84,
            62,
            52,
            62,
            75,
            97,
            99,
            91,
            115,
            113
           ],
           "type": "scatter",
           "x": [
            2000,
            2001,
            2002,
            2003,
            2004,
            2005,
            2006,
            2007,
            2008,
            2009,
            2010,
            2011,
            2012,
            2013,
            2014,
            2015,
            2016,
            2017,
            2018,
            2019,
            2020,
            2021,
            2022
           ],
           "xaxis": "x",
           "y": [
            92,
            101,
            107,
            106,
            122,
            127,
            141,
            154,
            72,
            95,
            73,
            85,
            79,
            84,
            62,
            52,
            62,
            75,
            97,
            99,
            91,
            115,
            113
           ],
           "yaxis": "y"
          }
         ],
         "name": "PICKUP TRUCK - STANDARD"
        },
        {
         "data": [
          {
           "hovertemplate": "animation_frame=STATION WAGON - MID-SIZE<br>x=%{x}<br>y=%{y}<br>size=%{marker.size}<br>text=%{text}<br>color=%{marker.color}<extra></extra>",
           "ids": [
            25,
            31,
            32,
            35,
            41,
            38,
            28,
            32,
            18,
            13,
            9,
            4,
            5,
            3,
            6,
            8,
            7,
            8,
            10,
            9,
            8,
            9,
            8
           ],
           "legendgroup": "",
           "marker": {
            "color": [
             25,
             31,
             32,
             35,
             41,
             38,
             28,
             32,
             18,
             13,
             9,
             4,
             5,
             3,
             6,
             8,
             7,
             8,
             10,
             9,
             8,
             9,
             8
            ],
            "coloraxis": "coloraxis",
            "size": [
             25,
             31,
             32,
             35,
             41,
             38,
             28,
             32,
             18,
             13,
             9,
             4,
             5,
             3,
             6,
             8,
             7,
             8,
             10,
             9,
             8,
             9,
             8
            ],
            "sizemode": "area",
            "sizeref": 0.67,
            "symbol": "circle"
           },
           "mode": "markers+text",
           "name": "",
           "orientation": "v",
           "showlegend": false,
           "text": [
            25,
            31,
            32,
            35,
            41,
            38,
            28,
            32,
            18,
            13,
            9,
            4,
            5,
            3,
            6,
            8,
            7,
            8,
            10,
            9,
            8,
            9,
            8
           ],
           "type": "scatter",
           "x": [
            2000,
            2001,
            2002,
            2003,
            2004,
            2005,
            2006,
            2007,
            2008,
            2009,
            2010,
            2011,
            2012,
            2013,
            2014,
            2015,
            2016,
            2017,
            2018,
            2019,
            2020,
            2021,
            2022
           ],
           "xaxis": "x",
           "y": [
            25,
            31,
            32,
            35,
            41,
            38,
            28,
            32,
            18,
            13,
            9,
            4,
            5,
            3,
            6,
            8,
            7,
            8,
            10,
            9,
            8,
            9,
            8
           ],
           "yaxis": "y"
          }
         ],
         "name": "STATION WAGON - MID-SIZE"
        },
        {
         "data": [
          {
           "hovertemplate": "animation_frame=STATION WAGON - SMALL<br>x=%{x}<br>y=%{y}<br>size=%{marker.size}<br>text=%{text}<br>color=%{marker.color}<extra></extra>",
           "ids": [
            13,
            12,
            18,
            45,
            43,
            54,
            53,
            44,
            43,
            54,
            60,
            56,
            47,
            44,
            34,
            35,
            37,
            45,
            39,
            37,
            25,
            20,
            19
           ],
           "legendgroup": "",
           "marker": {
            "color": [
             13,
             12,
             18,
             45,
             43,
             54,
             53,
             44,
             43,
             54,
             60,
             56,
             47,
             44,
             34,
             35,
             37,
             45,
             39,
             37,
             25,
             20,
             19
            ],
            "coloraxis": "coloraxis",
            "size": [
             13,
             12,
             18,
             45,
             43,
             54,
             53,
             44,
             43,
             54,
             60,
             56,
             47,
             44,
             34,
             35,
             37,
             45,
             39,
             37,
             25,
             20,
             19
            ],
            "sizemode": "area",
            "sizeref": 0.67,
            "symbol": "circle"
           },
           "mode": "markers+text",
           "name": "",
           "orientation": "v",
           "showlegend": false,
           "text": [
            13,
            12,
            18,
            45,
            43,
            54,
            53,
            44,
            43,
            54,
            60,
            56,
            47,
            44,
            34,
            35,
            37,
            45,
            39,
            37,
            25,
            20,
            19
           ],
           "type": "scatter",
           "x": [
            2000,
            2001,
            2002,
            2003,
            2004,
            2005,
            2006,
            2007,
            2008,
            2009,
            2010,
            2011,
            2012,
            2013,
            2014,
            2015,
            2016,
            2017,
            2018,
            2019,
            2020,
            2021,
            2022
           ],
           "xaxis": "x",
           "y": [
            13,
            12,
            18,
            45,
            43,
            54,
            53,
            44,
            43,
            54,
            60,
            56,
            47,
            44,
            34,
            35,
            37,
            45,
            39,
            37,
            25,
            20,
            19
           ],
           "yaxis": "y"
          }
         ],
         "name": "STATION WAGON - SMALL"
        },
        {
         "data": [
          {
           "hovertemplate": "animation_frame=SUBCOMPACT<br>x=%{x}<br>y=%{y}<br>size=%{marker.size}<br>text=%{text}<br>color=%{marker.color}<extra></extra>",
           "ids": [
            104,
            62,
            73,
            65,
            86,
            87,
            78,
            83,
            100,
            99,
            98,
            104,
            102,
            95,
            62,
            92,
            76,
            93,
            96,
            98,
            95,
            83,
            79
           ],
           "legendgroup": "",
           "marker": {
            "color": [
             104,
             62,
             73,
             65,
             86,
             87,
             78,
             83,
             100,
             99,
             98,
             104,
             102,
             95,
             62,
             92,
             76,
             93,
             96,
             98,
             95,
             83,
             79
            ],
            "coloraxis": "coloraxis",
            "size": [
             104,
             62,
             73,
             65,
             86,
             87,
             78,
             83,
             100,
             99,
             98,
             104,
             102,
             95,
             62,
             92,
             76,
             93,
             96,
             98,
             95,
             83,
             79
            ],
            "sizemode": "area",
            "sizeref": 0.67,
            "symbol": "circle"
           },
           "mode": "markers+text",
           "name": "",
           "orientation": "v",
           "showlegend": false,
           "text": [
            104,
            62,
            73,
            65,
            86,
            87,
            78,
            83,
            100,
            99,
            98,
            104,
            102,
            95,
            62,
            92,
            76,
            93,
            96,
            98,
            95,
            83,
            79
           ],
           "type": "scatter",
           "x": [
            2000,
            2001,
            2002,
            2003,
            2004,
            2005,
            2006,
            2007,
            2008,
            2009,
            2010,
            2011,
            2012,
            2013,
            2014,
            2015,
            2016,
            2017,
            2018,
            2019,
            2020,
            2021,
            2022
           ],
           "xaxis": "x",
           "y": [
            104,
            62,
            73,
            65,
            86,
            87,
            78,
            83,
            100,
            99,
            98,
            104,
            102,
            95,
            62,
            92,
            76,
            93,
            96,
            98,
            95,
            83,
            79
           ],
           "yaxis": "y"
          }
         ],
         "name": "SUBCOMPACT"
        },
        {
         "data": [
          {
           "hovertemplate": "animation_frame=SUV<br>x=%{x}<br>y=%{y}<br>size=%{marker.size}<br>text=%{text}<br>color=%{marker.color}<extra></extra>",
           "ids": [
            97,
            98,
            124,
            160,
            190,
            224,
            221,
            239,
            267,
            268,
            249,
            268,
            235
           ],
           "legendgroup": "",
           "marker": {
            "color": [
             97,
             98,
             124,
             160,
             190,
             224,
             221,
             239,
             267,
             268,
             249,
             268,
             235
            ],
            "coloraxis": "coloraxis",
            "size": [
             97,
             98,
             124,
             160,
             190,
             224,
             221,
             239,
             267,
             268,
             249,
             268,
             235
            ],
            "sizemode": "area",
            "sizeref": 0.67,
            "symbol": "circle"
           },
           "mode": "markers+text",
           "name": "",
           "orientation": "v",
           "showlegend": false,
           "text": [
            97,
            98,
            124,
            160,
            190,
            224,
            221,
            239,
            267,
            268,
            249,
            268,
            235
           ],
           "type": "scatter",
           "x": [
            2000,
            2001,
            2002,
            2003,
            2004,
            2005,
            2006,
            2007,
            2008,
            2009,
            2010,
            2011,
            2012
           ],
           "xaxis": "x",
           "y": [
            97,
            98,
            124,
            160,
            190,
            224,
            221,
            239,
            267,
            268,
            249,
            268,
            235
           ],
           "yaxis": "y"
          }
         ],
         "name": "SUV"
        },
        {
         "data": [
          {
           "hovertemplate": "animation_frame=TWO-SEATER<br>x=%{x}<br>y=%{y}<br>size=%{marker.size}<br>text=%{text}<br>color=%{marker.color}<extra></extra>",
           "ids": [
            10,
            31,
            37,
            40,
            46,
            52,
            49,
            61,
            73,
            64,
            59,
            64,
            76,
            58,
            70,
            84,
            68,
            57,
            69,
            70,
            64,
            59,
            51
           ],
           "legendgroup": "",
           "marker": {
            "color": [
             10,
             31,
             37,
             40,
             46,
             52,
             49,
             61,
             73,
             64,
             59,
             64,
             76,
             58,
             70,
             84,
             68,
             57,
             69,
             70,
             64,
             59,
             51
            ],
            "coloraxis": "coloraxis",
            "size": [
             10,
             31,
             37,
             40,
             46,
             52,
             49,
             61,
             73,
             64,
             59,
             64,
             76,
             58,
             70,
             84,
             68,
             57,
             69,
             70,
             64,
             59,
             51
            ],
            "sizemode": "area",
            "sizeref": 0.67,
            "symbol": "circle"
           },
           "mode": "markers+text",
           "name": "",
           "orientation": "v",
           "showlegend": false,
           "text": [
            10,
            31,
            37,
            40,
            46,
            52,
            49,
            61,
            73,
            64,
            59,
            64,
            76,
            58,
            70,
            84,
            68,
            57,
            69,
            70,
            64,
            59,
            51
           ],
           "type": "scatter",
           "x": [
            2000,
            2001,
            2002,
            2003,
            2004,
            2005,
            2006,
            2007,
            2008,
            2009,
            2010,
            2011,
            2012,
            2013,
            2014,
            2015,
            2016,
            2017,
            2018,
            2019,
            2020,
            2021,
            2022
           ],
           "xaxis": "x",
           "y": [
            10,
            31,
            37,
            40,
            46,
            52,
            49,
            61,
            73,
            64,
            59,
            64,
            76,
            58,
            70,
            84,
            68,
            57,
            69,
            70,
            64,
            59,
            51
           ],
           "yaxis": "y"
          }
         ],
         "name": "TWO-SEATER"
        },
        {
         "data": [
          {
           "hovertemplate": "animation_frame=VAN - CARGO<br>x=%{x}<br>y=%{y}<br>size=%{marker.size}<br>text=%{text}<br>color=%{marker.color}<extra></extra>",
           "ids": [
            23,
            23,
            23,
            30,
            21,
            13,
            14,
            27,
            26,
            26,
            18,
            22,
            22,
            22,
            22
           ],
           "legendgroup": "",
           "marker": {
            "color": [
             23,
             23,
             23,
             30,
             21,
             13,
             14,
             27,
             26,
             26,
             18,
             22,
             22,
             22,
             22
            ],
            "coloraxis": "coloraxis",
            "size": [
             23,
             23,
             23,
             30,
             21,
             13,
             14,
             27,
             26,
             26,
             18,
             22,
             22,
             22,
             22
            ],
            "sizemode": "area",
            "sizeref": 0.67,
            "symbol": "circle"
           },
           "mode": "markers+text",
           "name": "",
           "orientation": "v",
           "showlegend": false,
           "text": [
            23,
            23,
            23,
            30,
            21,
            13,
            14,
            27,
            26,
            26,
            18,
            22,
            22,
            22,
            22
           ],
           "type": "scatter",
           "x": [
            2000,
            2001,
            2002,
            2003,
            2004,
            2005,
            2006,
            2007,
            2008,
            2009,
            2010,
            2011,
            2012,
            2013,
            2014
           ],
           "xaxis": "x",
           "y": [
            23,
            23,
            23,
            30,
            21,
            13,
            14,
            27,
            26,
            26,
            18,
            22,
            22,
            22,
            22
           ],
           "yaxis": "y"
          }
         ],
         "name": "VAN - CARGO"
        },
        {
         "data": [
          {
           "hovertemplate": "animation_frame=VAN - PASSENGER<br>x=%{x}<br>y=%{y}<br>size=%{marker.size}<br>text=%{text}<br>color=%{marker.color}<extra></extra>",
           "ids": [
            17,
            18,
            18,
            13,
            11,
            12,
            8,
            12,
            12,
            12,
            8,
            27,
            31,
            30,
            25,
            19,
            7,
            7,
            2,
            2,
            4,
            4
           ],
           "legendgroup": "",
           "marker": {
            "color": [
             17,
             18,
             18,
             13,
             11,
             12,
             8,
             12,
             12,
             12,
             8,
             27,
             31,
             30,
             25,
             19,
             7,
             7,
             2,
             2,
             4,
             4
            ],
            "coloraxis": "coloraxis",
            "size": [
             17,
             18,
             18,
             13,
             11,
             12,
             8,
             12,
             12,
             12,
             8,
             27,
             31,
             30,
             25,
             19,
             7,
             7,
             2,
             2,
             4,
             4
            ],
            "sizemode": "area",
            "sizeref": 0.67,
            "symbol": "circle"
           },
           "mode": "markers+text",
           "name": "",
           "orientation": "v",
           "showlegend": false,
           "text": [
            17,
            18,
            18,
            13,
            11,
            12,
            8,
            12,
            12,
            12,
            8,
            27,
            31,
            30,
            25,
            19,
            7,
            7,
            2,
            2,
            4,
            4
           ],
           "type": "scatter",
           "x": [
            2000,
            2001,
            2002,
            2003,
            2004,
            2005,
            2006,
            2007,
            2008,
            2009,
            2010,
            2011,
            2012,
            2013,
            2014,
            2015,
            2016,
            2017,
            2018,
            2019,
            2020,
            2021
           ],
           "xaxis": "x",
           "y": [
            17,
            18,
            18,
            13,
            11,
            12,
            8,
            12,
            12,
            12,
            8,
            27,
            31,
            30,
            25,
            19,
            7,
            7,
            2,
            2,
            4,
            4
           ],
           "yaxis": "y"
          }
         ],
         "name": "VAN - PASSENGER"
        },
        {
         "data": [
          {
           "hovertemplate": "animation_frame=SUV - STANDARD<br>x=%{x}<br>y=%{y}<br>size=%{marker.size}<br>text=%{text}<br>color=%{marker.color}<extra></extra>",
           "ids": [
            1,
            2,
            101,
            102,
            99,
            107,
            102,
            103,
            111,
            118,
            127,
            149
           ],
           "legendgroup": "",
           "marker": {
            "color": [
             1,
             2,
             101,
             102,
             99,
             107,
             102,
             103,
             111,
             118,
             127,
             149
            ],
            "coloraxis": "coloraxis",
            "size": [
             1,
             2,
             101,
             102,
             99,
             107,
             102,
             103,
             111,
             118,
             127,
             149
            ],
            "sizemode": "area",
            "sizeref": 0.67,
            "symbol": "circle"
           },
           "mode": "markers+text",
           "name": "",
           "orientation": "v",
           "showlegend": false,
           "text": [
            1,
            2,
            101,
            102,
            99,
            107,
            102,
            103,
            111,
            118,
            127,
            149
           ],
           "type": "scatter",
           "x": [
            2007,
            2012,
            2013,
            2014,
            2015,
            2016,
            2017,
            2018,
            2019,
            2020,
            2021,
            2022
           ],
           "xaxis": "x",
           "y": [
            1,
            2,
            101,
            102,
            99,
            107,
            102,
            103,
            111,
            118,
            127,
            149
           ],
           "yaxis": "y"
          }
         ],
         "name": "SUV - STANDARD"
        },
        {
         "data": [
          {
           "hovertemplate": "animation_frame=SPECIAL PURPOSE VEHICLE<br>x=%{x}<br>y=%{y}<br>size=%{marker.size}<br>text=%{text}<br>color=%{marker.color}<extra></extra>",
           "ids": [
            1,
            1,
            2,
            5,
            7,
            9,
            17,
            10,
            10,
            14,
            13,
            13,
            12
           ],
           "legendgroup": "",
           "marker": {
            "color": [
             1,
             1,
             2,
             5,
             7,
             9,
             17,
             10,
             10,
             14,
             13,
             13,
             12
            ],
            "coloraxis": "coloraxis",
            "size": [
             1,
             1,
             2,
             5,
             7,
             9,
             17,
             10,
             10,
             14,
             13,
             13,
             12
            ],
            "sizemode": "area",
            "sizeref": 0.67,
            "symbol": "circle"
           },
           "mode": "markers+text",
           "name": "",
           "orientation": "v",
           "showlegend": false,
           "text": [
            1,
            1,
            2,
            5,
            7,
            9,
            17,
            10,
            10,
            14,
            13,
            13,
            12
           ],
           "type": "scatter",
           "x": [
            2010,
            2011,
            2012,
            2013,
            2014,
            2015,
            2016,
            2017,
            2018,
            2019,
            2020,
            2021,
            2022
           ],
           "xaxis": "x",
           "y": [
            1,
            1,
            2,
            5,
            7,
            9,
            17,
            10,
            10,
            14,
            13,
            13,
            12
           ],
           "yaxis": "y"
          }
         ],
         "name": "SPECIAL PURPOSE VEHICLE"
        },
        {
         "data": [
          {
           "hovertemplate": "animation_frame=SUV - SMALL<br>x=%{x}<br>y=%{y}<br>size=%{marker.size}<br>text=%{text}<br>color=%{marker.color}<extra></extra>",
           "ids": [
            139,
            155,
            179,
            180,
            174,
            177,
            174,
            188,
            193,
            197
           ],
           "legendgroup": "",
           "marker": {
            "color": [
             139,
             155,
             179,
             180,
             174,
             177,
             174,
             188,
             193,
             197
            ],
            "coloraxis": "coloraxis",
            "size": [
             139,
             155,
             179,
             180,
             174,
             177,
             174,
             188,
             193,
             197
            ],
            "sizemode": "area",
            "sizeref": 0.67,
            "symbol": "circle"
           },
           "mode": "markers+text",
           "name": "",
           "orientation": "v",
           "showlegend": false,
           "text": [
            139,
            155,
            179,
            180,
            174,
            177,
            174,
            188,
            193,
            197
           ],
           "type": "scatter",
           "x": [
            2013,
            2014,
            2015,
            2016,
            2017,
            2018,
            2019,
            2020,
            2021,
            2022
           ],
           "xaxis": "x",
           "y": [
            139,
            155,
            179,
            180,
            174,
            177,
            174,
            188,
            193,
            197
           ],
           "yaxis": "y"
          }
         ],
         "name": "SUV - SMALL"
        }
       ],
       "layout": {
        "coloraxis": {
         "colorbar": {
          "title": {
           "text": "color"
          }
         },
         "colorscale": [
          [
           0,
           "rgb(0,0,131)"
          ],
          [
           0.2,
           "rgb(0,60,170)"
          ],
          [
           0.4,
           "rgb(5,255,255)"
          ],
          [
           0.6,
           "rgb(255,255,0)"
          ],
          [
           0.8,
           "rgb(250,0,0)"
          ],
          [
           1,
           "rgb(128,0,0)"
          ]
         ]
        },
        "legend": {
         "itemsizing": "constant",
         "tracegroupgap": 0
        },
        "margin": {
         "t": 60
        },
        "sliders": [
         {
          "active": 0,
          "currentvalue": {
           "prefix": "animation_frame="
          },
          "len": 0.9,
          "pad": {
           "b": 10,
           "t": 60
          },
          "steps": [
           {
            "args": [
             [
              "COMPACT"
             ],
             {
              "frame": {
               "duration": 0,
               "redraw": false
              },
              "fromcurrent": true,
              "mode": "immediate",
              "transition": {
               "duration": 0,
               "easing": "linear"
              }
             }
            ],
            "label": "COMPACT",
            "method": "animate"
           },
           {
            "args": [
             [
              "FULL-SIZE"
             ],
             {
              "frame": {
               "duration": 0,
               "redraw": false
              },
              "fromcurrent": true,
              "mode": "immediate",
              "transition": {
               "duration": 0,
               "easing": "linear"
              }
             }
            ],
            "label": "FULL-SIZE",
            "method": "animate"
           },
           {
            "args": [
             [
              "MID-SIZE"
             ],
             {
              "frame": {
               "duration": 0,
               "redraw": false
              },
              "fromcurrent": true,
              "mode": "immediate",
              "transition": {
               "duration": 0,
               "easing": "linear"
              }
             }
            ],
            "label": "MID-SIZE",
            "method": "animate"
           },
           {
            "args": [
             [
              "MINICOMPACT"
             ],
             {
              "frame": {
               "duration": 0,
               "redraw": false
              },
              "fromcurrent": true,
              "mode": "immediate",
              "transition": {
               "duration": 0,
               "easing": "linear"
              }
             }
            ],
            "label": "MINICOMPACT",
            "method": "animate"
           },
           {
            "args": [
             [
              "MINIVAN"
             ],
             {
              "frame": {
               "duration": 0,
               "redraw": false
              },
              "fromcurrent": true,
              "mode": "immediate",
              "transition": {
               "duration": 0,
               "easing": "linear"
              }
             }
            ],
            "label": "MINIVAN",
            "method": "animate"
           },
           {
            "args": [
             [
              "PICKUP TRUCK - SMALL"
             ],
             {
              "frame": {
               "duration": 0,
               "redraw": false
              },
              "fromcurrent": true,
              "mode": "immediate",
              "transition": {
               "duration": 0,
               "easing": "linear"
              }
             }
            ],
            "label": "PICKUP TRUCK - SMALL",
            "method": "animate"
           },
           {
            "args": [
             [
              "PICKUP TRUCK - STANDARD"
             ],
             {
              "frame": {
               "duration": 0,
               "redraw": false
              },
              "fromcurrent": true,
              "mode": "immediate",
              "transition": {
               "duration": 0,
               "easing": "linear"
              }
             }
            ],
            "label": "PICKUP TRUCK - STANDARD",
            "method": "animate"
           },
           {
            "args": [
             [
              "STATION WAGON - MID-SIZE"
             ],
             {
              "frame": {
               "duration": 0,
               "redraw": false
              },
              "fromcurrent": true,
              "mode": "immediate",
              "transition": {
               "duration": 0,
               "easing": "linear"
              }
             }
            ],
            "label": "STATION WAGON - MID-SIZE",
            "method": "animate"
           },
           {
            "args": [
             [
              "STATION WAGON - SMALL"
             ],
             {
              "frame": {
               "duration": 0,
               "redraw": false
              },
              "fromcurrent": true,
              "mode": "immediate",
              "transition": {
               "duration": 0,
               "easing": "linear"
              }
             }
            ],
            "label": "STATION WAGON - SMALL",
            "method": "animate"
           },
           {
            "args": [
             [
              "SUBCOMPACT"
             ],
             {
              "frame": {
               "duration": 0,
               "redraw": false
              },
              "fromcurrent": true,
              "mode": "immediate",
              "transition": {
               "duration": 0,
               "easing": "linear"
              }
             }
            ],
            "label": "SUBCOMPACT",
            "method": "animate"
           },
           {
            "args": [
             [
              "SUV"
             ],
             {
              "frame": {
               "duration": 0,
               "redraw": false
              },
              "fromcurrent": true,
              "mode": "immediate",
              "transition": {
               "duration": 0,
               "easing": "linear"
              }
             }
            ],
            "label": "SUV",
            "method": "animate"
           },
           {
            "args": [
             [
              "TWO-SEATER"
             ],
             {
              "frame": {
               "duration": 0,
               "redraw": false
              },
              "fromcurrent": true,
              "mode": "immediate",
              "transition": {
               "duration": 0,
               "easing": "linear"
              }
             }
            ],
            "label": "TWO-SEATER",
            "method": "animate"
           },
           {
            "args": [
             [
              "VAN - CARGO"
             ],
             {
              "frame": {
               "duration": 0,
               "redraw": false
              },
              "fromcurrent": true,
              "mode": "immediate",
              "transition": {
               "duration": 0,
               "easing": "linear"
              }
             }
            ],
            "label": "VAN - CARGO",
            "method": "animate"
           },
           {
            "args": [
             [
              "VAN - PASSENGER"
             ],
             {
              "frame": {
               "duration": 0,
               "redraw": false
              },
              "fromcurrent": true,
              "mode": "immediate",
              "transition": {
               "duration": 0,
               "easing": "linear"
              }
             }
            ],
            "label": "VAN - PASSENGER",
            "method": "animate"
           },
           {
            "args": [
             [
              "SUV - STANDARD"
             ],
             {
              "frame": {
               "duration": 0,
               "redraw": false
              },
              "fromcurrent": true,
              "mode": "immediate",
              "transition": {
               "duration": 0,
               "easing": "linear"
              }
             }
            ],
            "label": "SUV - STANDARD",
            "method": "animate"
           },
           {
            "args": [
             [
              "SPECIAL PURPOSE VEHICLE"
             ],
             {
              "frame": {
               "duration": 0,
               "redraw": false
              },
              "fromcurrent": true,
              "mode": "immediate",
              "transition": {
               "duration": 0,
               "easing": "linear"
              }
             }
            ],
            "label": "SPECIAL PURPOSE VEHICLE",
            "method": "animate"
           },
           {
            "args": [
             [
              "SUV - SMALL"
             ],
             {
              "frame": {
               "duration": 0,
               "redraw": false
              },
              "fromcurrent": true,
              "mode": "immediate",
              "transition": {
               "duration": 0,
               "easing": "linear"
              }
             }
            ],
            "label": "SUV - SMALL",
            "method": "animate"
           }
          ],
          "x": 0.1,
          "xanchor": "left",
          "y": 0,
          "yanchor": "top"
         }
        ],
        "template": {
         "data": {
          "bar": [
           {
            "error_x": {
             "color": "#2a3f5f"
            },
            "error_y": {
             "color": "#2a3f5f"
            },
            "marker": {
             "line": {
              "color": "#E5ECF6",
              "width": 0.5
             },
             "pattern": {
              "fillmode": "overlay",
              "size": 10,
              "solidity": 0.2
             }
            },
            "type": "bar"
           }
          ],
          "barpolar": [
           {
            "marker": {
             "line": {
              "color": "#E5ECF6",
              "width": 0.5
             },
             "pattern": {
              "fillmode": "overlay",
              "size": 10,
              "solidity": 0.2
             }
            },
            "type": "barpolar"
           }
          ],
          "carpet": [
           {
            "aaxis": {
             "endlinecolor": "#2a3f5f",
             "gridcolor": "white",
             "linecolor": "white",
             "minorgridcolor": "white",
             "startlinecolor": "#2a3f5f"
            },
            "baxis": {
             "endlinecolor": "#2a3f5f",
             "gridcolor": "white",
             "linecolor": "white",
             "minorgridcolor": "white",
             "startlinecolor": "#2a3f5f"
            },
            "type": "carpet"
           }
          ],
          "choropleth": [
           {
            "colorbar": {
             "outlinewidth": 0,
             "ticks": ""
            },
            "type": "choropleth"
           }
          ],
          "contour": [
           {
            "colorbar": {
             "outlinewidth": 0,
             "ticks": ""
            },
            "colorscale": [
             [
              0,
              "#0d0887"
             ],
             [
              0.1111111111111111,
              "#46039f"
             ],
             [
              0.2222222222222222,
              "#7201a8"
             ],
             [
              0.3333333333333333,
              "#9c179e"
             ],
             [
              0.4444444444444444,
              "#bd3786"
             ],
             [
              0.5555555555555556,
              "#d8576b"
             ],
             [
              0.6666666666666666,
              "#ed7953"
             ],
             [
              0.7777777777777778,
              "#fb9f3a"
             ],
             [
              0.8888888888888888,
              "#fdca26"
             ],
             [
              1,
              "#f0f921"
             ]
            ],
            "type": "contour"
           }
          ],
          "contourcarpet": [
           {
            "colorbar": {
             "outlinewidth": 0,
             "ticks": ""
            },
            "type": "contourcarpet"
           }
          ],
          "heatmap": [
           {
            "colorbar": {
             "outlinewidth": 0,
             "ticks": ""
            },
            "colorscale": [
             [
              0,
              "#0d0887"
             ],
             [
              0.1111111111111111,
              "#46039f"
             ],
             [
              0.2222222222222222,
              "#7201a8"
             ],
             [
              0.3333333333333333,
              "#9c179e"
             ],
             [
              0.4444444444444444,
              "#bd3786"
             ],
             [
              0.5555555555555556,
              "#d8576b"
             ],
             [
              0.6666666666666666,
              "#ed7953"
             ],
             [
              0.7777777777777778,
              "#fb9f3a"
             ],
             [
              0.8888888888888888,
              "#fdca26"
             ],
             [
              1,
              "#f0f921"
             ]
            ],
            "type": "heatmap"
           }
          ],
          "heatmapgl": [
           {
            "colorbar": {
             "outlinewidth": 0,
             "ticks": ""
            },
            "colorscale": [
             [
              0,
              "#0d0887"
             ],
             [
              0.1111111111111111,
              "#46039f"
             ],
             [
              0.2222222222222222,
              "#7201a8"
             ],
             [
              0.3333333333333333,
              "#9c179e"
             ],
             [
              0.4444444444444444,
              "#bd3786"
             ],
             [
              0.5555555555555556,
              "#d8576b"
             ],
             [
              0.6666666666666666,
              "#ed7953"
             ],
             [
              0.7777777777777778,
              "#fb9f3a"
             ],
             [
              0.8888888888888888,
              "#fdca26"
             ],
             [
              1,
              "#f0f921"
             ]
            ],
            "type": "heatmapgl"
           }
          ],
          "histogram": [
           {
            "marker": {
             "pattern": {
              "fillmode": "overlay",
              "size": 10,
              "solidity": 0.2
             }
            },
            "type": "histogram"
           }
          ],
          "histogram2d": [
           {
            "colorbar": {
             "outlinewidth": 0,
             "ticks": ""
            },
            "colorscale": [
             [
              0,
              "#0d0887"
             ],
             [
              0.1111111111111111,
              "#46039f"
             ],
             [
              0.2222222222222222,
              "#7201a8"
             ],
             [
              0.3333333333333333,
              "#9c179e"
             ],
             [
              0.4444444444444444,
              "#bd3786"
             ],
             [
              0.5555555555555556,
              "#d8576b"
             ],
             [
              0.6666666666666666,
              "#ed7953"
             ],
             [
              0.7777777777777778,
              "#fb9f3a"
             ],
             [
              0.8888888888888888,
              "#fdca26"
             ],
             [
              1,
              "#f0f921"
             ]
            ],
            "type": "histogram2d"
           }
          ],
          "histogram2dcontour": [
           {
            "colorbar": {
             "outlinewidth": 0,
             "ticks": ""
            },
            "colorscale": [
             [
              0,
              "#0d0887"
             ],
             [
              0.1111111111111111,
              "#46039f"
             ],
             [
              0.2222222222222222,
              "#7201a8"
             ],
             [
              0.3333333333333333,
              "#9c179e"
             ],
             [
              0.4444444444444444,
              "#bd3786"
             ],
             [
              0.5555555555555556,
              "#d8576b"
             ],
             [
              0.6666666666666666,
              "#ed7953"
             ],
             [
              0.7777777777777778,
              "#fb9f3a"
             ],
             [
              0.8888888888888888,
              "#fdca26"
             ],
             [
              1,
              "#f0f921"
             ]
            ],
            "type": "histogram2dcontour"
           }
          ],
          "mesh3d": [
           {
            "colorbar": {
             "outlinewidth": 0,
             "ticks": ""
            },
            "type": "mesh3d"
           }
          ],
          "parcoords": [
           {
            "line": {
             "colorbar": {
              "outlinewidth": 0,
              "ticks": ""
             }
            },
            "type": "parcoords"
           }
          ],
          "pie": [
           {
            "automargin": true,
            "type": "pie"
           }
          ],
          "scatter": [
           {
            "fillpattern": {
             "fillmode": "overlay",
             "size": 10,
             "solidity": 0.2
            },
            "type": "scatter"
           }
          ],
          "scatter3d": [
           {
            "line": {
             "colorbar": {
              "outlinewidth": 0,
              "ticks": ""
             }
            },
            "marker": {
             "colorbar": {
              "outlinewidth": 0,
              "ticks": ""
             }
            },
            "type": "scatter3d"
           }
          ],
          "scattercarpet": [
           {
            "marker": {
             "colorbar": {
              "outlinewidth": 0,
              "ticks": ""
             }
            },
            "type": "scattercarpet"
           }
          ],
          "scattergeo": [
           {
            "marker": {
             "colorbar": {
              "outlinewidth": 0,
              "ticks": ""
             }
            },
            "type": "scattergeo"
           }
          ],
          "scattergl": [
           {
            "marker": {
             "colorbar": {
              "outlinewidth": 0,
              "ticks": ""
             }
            },
            "type": "scattergl"
           }
          ],
          "scattermapbox": [
           {
            "marker": {
             "colorbar": {
              "outlinewidth": 0,
              "ticks": ""
             }
            },
            "type": "scattermapbox"
           }
          ],
          "scatterpolar": [
           {
            "marker": {
             "colorbar": {
              "outlinewidth": 0,
              "ticks": ""
             }
            },
            "type": "scatterpolar"
           }
          ],
          "scatterpolargl": [
           {
            "marker": {
             "colorbar": {
              "outlinewidth": 0,
              "ticks": ""
             }
            },
            "type": "scatterpolargl"
           }
          ],
          "scatterternary": [
           {
            "marker": {
             "colorbar": {
              "outlinewidth": 0,
              "ticks": ""
             }
            },
            "type": "scatterternary"
           }
          ],
          "surface": [
           {
            "colorbar": {
             "outlinewidth": 0,
             "ticks": ""
            },
            "colorscale": [
             [
              0,
              "#0d0887"
             ],
             [
              0.1111111111111111,
              "#46039f"
             ],
             [
              0.2222222222222222,
              "#7201a8"
             ],
             [
              0.3333333333333333,
              "#9c179e"
             ],
             [
              0.4444444444444444,
              "#bd3786"
             ],
             [
              0.5555555555555556,
              "#d8576b"
             ],
             [
              0.6666666666666666,
              "#ed7953"
             ],
             [
              0.7777777777777778,
              "#fb9f3a"
             ],
             [
              0.8888888888888888,
              "#fdca26"
             ],
             [
              1,
              "#f0f921"
             ]
            ],
            "type": "surface"
           }
          ],
          "table": [
           {
            "cells": {
             "fill": {
              "color": "#EBF0F8"
             },
             "line": {
              "color": "white"
             }
            },
            "header": {
             "fill": {
              "color": "#C8D4E3"
             },
             "line": {
              "color": "white"
             }
            },
            "type": "table"
           }
          ]
         },
         "layout": {
          "annotationdefaults": {
           "arrowcolor": "#2a3f5f",
           "arrowhead": 0,
           "arrowwidth": 1
          },
          "autotypenumbers": "strict",
          "coloraxis": {
           "colorbar": {
            "outlinewidth": 0,
            "ticks": ""
           }
          },
          "colorscale": {
           "diverging": [
            [
             0,
             "#8e0152"
            ],
            [
             0.1,
             "#c51b7d"
            ],
            [
             0.2,
             "#de77ae"
            ],
            [
             0.3,
             "#f1b6da"
            ],
            [
             0.4,
             "#fde0ef"
            ],
            [
             0.5,
             "#f7f7f7"
            ],
            [
             0.6,
             "#e6f5d0"
            ],
            [
             0.7,
             "#b8e186"
            ],
            [
             0.8,
             "#7fbc41"
            ],
            [
             0.9,
             "#4d9221"
            ],
            [
             1,
             "#276419"
            ]
           ],
           "sequential": [
            [
             0,
             "#0d0887"
            ],
            [
             0.1111111111111111,
             "#46039f"
            ],
            [
             0.2222222222222222,
             "#7201a8"
            ],
            [
             0.3333333333333333,
             "#9c179e"
            ],
            [
             0.4444444444444444,
             "#bd3786"
            ],
            [
             0.5555555555555556,
             "#d8576b"
            ],
            [
             0.6666666666666666,
             "#ed7953"
            ],
            [
             0.7777777777777778,
             "#fb9f3a"
            ],
            [
             0.8888888888888888,
             "#fdca26"
            ],
            [
             1,
             "#f0f921"
            ]
           ],
           "sequentialminus": [
            [
             0,
             "#0d0887"
            ],
            [
             0.1111111111111111,
             "#46039f"
            ],
            [
             0.2222222222222222,
             "#7201a8"
            ],
            [
             0.3333333333333333,
             "#9c179e"
            ],
            [
             0.4444444444444444,
             "#bd3786"
            ],
            [
             0.5555555555555556,
             "#d8576b"
            ],
            [
             0.6666666666666666,
             "#ed7953"
            ],
            [
             0.7777777777777778,
             "#fb9f3a"
            ],
            [
             0.8888888888888888,
             "#fdca26"
            ],
            [
             1,
             "#f0f921"
            ]
           ]
          },
          "colorway": [
           "#636efa",
           "#EF553B",
           "#00cc96",
           "#ab63fa",
           "#FFA15A",
           "#19d3f3",
           "#FF6692",
           "#B6E880",
           "#FF97FF",
           "#FECB52"
          ],
          "font": {
           "color": "#2a3f5f"
          },
          "geo": {
           "bgcolor": "white",
           "lakecolor": "white",
           "landcolor": "#E5ECF6",
           "showlakes": true,
           "showland": true,
           "subunitcolor": "white"
          },
          "hoverlabel": {
           "align": "left"
          },
          "hovermode": "closest",
          "mapbox": {
           "style": "light"
          },
          "paper_bgcolor": "white",
          "plot_bgcolor": "#E5ECF6",
          "polar": {
           "angularaxis": {
            "gridcolor": "white",
            "linecolor": "white",
            "ticks": ""
           },
           "bgcolor": "#E5ECF6",
           "radialaxis": {
            "gridcolor": "white",
            "linecolor": "white",
            "ticks": ""
           }
          },
          "scene": {
           "xaxis": {
            "backgroundcolor": "#E5ECF6",
            "gridcolor": "white",
            "gridwidth": 2,
            "linecolor": "white",
            "showbackground": true,
            "ticks": "",
            "zerolinecolor": "white"
           },
           "yaxis": {
            "backgroundcolor": "#E5ECF6",
            "gridcolor": "white",
            "gridwidth": 2,
            "linecolor": "white",
            "showbackground": true,
            "ticks": "",
            "zerolinecolor": "white"
           },
           "zaxis": {
            "backgroundcolor": "#E5ECF6",
            "gridcolor": "white",
            "gridwidth": 2,
            "linecolor": "white",
            "showbackground": true,
            "ticks": "",
            "zerolinecolor": "white"
           }
          },
          "shapedefaults": {
           "line": {
            "color": "#2a3f5f"
           }
          },
          "ternary": {
           "aaxis": {
            "gridcolor": "white",
            "linecolor": "white",
            "ticks": ""
           },
           "baxis": {
            "gridcolor": "white",
            "linecolor": "white",
            "ticks": ""
           },
           "bgcolor": "#E5ECF6",
           "caxis": {
            "gridcolor": "white",
            "linecolor": "white",
            "ticks": ""
           }
          },
          "title": {
           "x": 0.05
          },
          "xaxis": {
           "automargin": true,
           "gridcolor": "white",
           "linecolor": "white",
           "ticks": "",
           "title": {
            "standoff": 15
           },
           "zerolinecolor": "white",
           "zerolinewidth": 2
          },
          "yaxis": {
           "automargin": true,
           "gridcolor": "white",
           "linecolor": "white",
           "ticks": "",
           "title": {
            "standoff": 15
           },
           "zerolinecolor": "white",
           "zerolinewidth": 2
          }
         }
        },
        "title": {
         "text": "Number of Vehicle Models offered in each Vehicle Class each Year"
        },
        "updatemenus": [
         {
          "buttons": [
           {
            "args": [
             null,
             {
              "frame": {
               "duration": 500,
               "redraw": false
              },
              "fromcurrent": true,
              "mode": "immediate",
              "transition": {
               "duration": 500,
               "easing": "linear"
              }
             }
            ],
            "label": "&#9654;",
            "method": "animate"
           },
           {
            "args": [
             [
              null
             ],
             {
              "frame": {
               "duration": 0,
               "redraw": false
              },
              "fromcurrent": true,
              "mode": "immediate",
              "transition": {
               "duration": 0,
               "easing": "linear"
              }
             }
            ],
            "label": "&#9724;",
            "method": "animate"
           }
          ],
          "direction": "left",
          "pad": {
           "r": 10,
           "t": 70
          },
          "showactive": false,
          "type": "buttons",
          "x": 0.1,
          "xanchor": "right",
          "y": 0,
          "yanchor": "top"
         }
        ],
        "xaxis": {
         "anchor": "y",
         "domain": [
          0,
          1
         ],
         "minor": {
          "showgrid": true,
          "tickcolor": "black",
          "ticklen": 5
         },
         "range": [
          3.3008127941181167,
          3.3059958827708047
         ],
         "tickangle": 45,
         "title": {
          "text": "Year"
         },
         "type": "log"
        },
        "yaxis": {
         "anchor": "x",
         "domain": [
          0,
          1
         ],
         "minor": {
          "showgrid": true,
          "tickcolor": "black",
          "ticklen": 5
         },
         "range": [
          0,
          300
         ],
         "title": {
          "text": "Number of Vehicles"
         }
        }
       }
      },
      "text/html": [
       "<div>                            <div id=\"683b6d24-3dfb-4bdc-bc3d-be2c1596b721\" class=\"plotly-graph-div\" style=\"height:525px; width:100%;\"></div>            <script type=\"text/javascript\">                require([\"plotly\"], function(Plotly) {                    window.PLOTLYENV=window.PLOTLYENV || {};                                    if (document.getElementById(\"683b6d24-3dfb-4bdc-bc3d-be2c1596b721\")) {                    Plotly.newPlot(                        \"683b6d24-3dfb-4bdc-bc3d-be2c1596b721\",                        [{\"hovertemplate\":\"animation_frame=COMPACT<br>x=%{x}<br>y=%{y}<br>size=%{marker.size}<br>text=%{text}<br>color=%{marker.color}<extra></extra>\",\"ids\":[105.0,145.0,133.0,143.0,154.0,146.0,137.0,116.0,148.0,150.0,140.0,124.0,133.0,168.0,168.0,186.0,181.0,159.0,122.0,106.0,108.0,85.0,70.0],\"legendgroup\":\"\",\"marker\":{\"color\":[105.0,145.0,133.0,143.0,154.0,146.0,137.0,116.0,148.0,150.0,140.0,124.0,133.0,168.0,168.0,186.0,181.0,159.0,122.0,106.0,108.0,85.0,70.0],\"coloraxis\":\"coloraxis\",\"size\":[105.0,145.0,133.0,143.0,154.0,146.0,137.0,116.0,148.0,150.0,140.0,124.0,133.0,168.0,168.0,186.0,181.0,159.0,122.0,106.0,108.0,85.0,70.0],\"sizemode\":\"area\",\"sizeref\":0.67,\"symbol\":\"circle\"},\"mode\":\"markers+text\",\"name\":\"\",\"orientation\":\"v\",\"showlegend\":false,\"text\":[105.0,145.0,133.0,143.0,154.0,146.0,137.0,116.0,148.0,150.0,140.0,124.0,133.0,168.0,168.0,186.0,181.0,159.0,122.0,106.0,108.0,85.0,70.0],\"x\":[2000,2001,2002,2003,2004,2005,2006,2007,2008,2009,2010,2011,2012,2013,2014,2015,2016,2017,2018,2019,2020,2021,2022],\"xaxis\":\"x\",\"y\":[105.0,145.0,133.0,143.0,154.0,146.0,137.0,116.0,148.0,150.0,140.0,124.0,133.0,168.0,168.0,186.0,181.0,159.0,122.0,106.0,108.0,85.0,70.0],\"yaxis\":\"y\",\"type\":\"scatter\",\"textposition\":\"top center\"}],                        {\"template\":{\"data\":{\"histogram2dcontour\":[{\"type\":\"histogram2dcontour\",\"colorbar\":{\"outlinewidth\":0,\"ticks\":\"\"},\"colorscale\":[[0.0,\"#0d0887\"],[0.1111111111111111,\"#46039f\"],[0.2222222222222222,\"#7201a8\"],[0.3333333333333333,\"#9c179e\"],[0.4444444444444444,\"#bd3786\"],[0.5555555555555556,\"#d8576b\"],[0.6666666666666666,\"#ed7953\"],[0.7777777777777778,\"#fb9f3a\"],[0.8888888888888888,\"#fdca26\"],[1.0,\"#f0f921\"]]}],\"choropleth\":[{\"type\":\"choropleth\",\"colorbar\":{\"outlinewidth\":0,\"ticks\":\"\"}}],\"histogram2d\":[{\"type\":\"histogram2d\",\"colorbar\":{\"outlinewidth\":0,\"ticks\":\"\"},\"colorscale\":[[0.0,\"#0d0887\"],[0.1111111111111111,\"#46039f\"],[0.2222222222222222,\"#7201a8\"],[0.3333333333333333,\"#9c179e\"],[0.4444444444444444,\"#bd3786\"],[0.5555555555555556,\"#d8576b\"],[0.6666666666666666,\"#ed7953\"],[0.7777777777777778,\"#fb9f3a\"],[0.8888888888888888,\"#fdca26\"],[1.0,\"#f0f921\"]]}],\"heatmap\":[{\"type\":\"heatmap\",\"colorbar\":{\"outlinewidth\":0,\"ticks\":\"\"},\"colorscale\":[[0.0,\"#0d0887\"],[0.1111111111111111,\"#46039f\"],[0.2222222222222222,\"#7201a8\"],[0.3333333333333333,\"#9c179e\"],[0.4444444444444444,\"#bd3786\"],[0.5555555555555556,\"#d8576b\"],[0.6666666666666666,\"#ed7953\"],[0.7777777777777778,\"#fb9f3a\"],[0.8888888888888888,\"#fdca26\"],[1.0,\"#f0f921\"]]}],\"heatmapgl\":[{\"type\":\"heatmapgl\",\"colorbar\":{\"outlinewidth\":0,\"ticks\":\"\"},\"colorscale\":[[0.0,\"#0d0887\"],[0.1111111111111111,\"#46039f\"],[0.2222222222222222,\"#7201a8\"],[0.3333333333333333,\"#9c179e\"],[0.4444444444444444,\"#bd3786\"],[0.5555555555555556,\"#d8576b\"],[0.6666666666666666,\"#ed7953\"],[0.7777777777777778,\"#fb9f3a\"],[0.8888888888888888,\"#fdca26\"],[1.0,\"#f0f921\"]]}],\"contourcarpet\":[{\"type\":\"contourcarpet\",\"colorbar\":{\"outlinewidth\":0,\"ticks\":\"\"}}],\"contour\":[{\"type\":\"contour\",\"colorbar\":{\"outlinewidth\":0,\"ticks\":\"\"},\"colorscale\":[[0.0,\"#0d0887\"],[0.1111111111111111,\"#46039f\"],[0.2222222222222222,\"#7201a8\"],[0.3333333333333333,\"#9c179e\"],[0.4444444444444444,\"#bd3786\"],[0.5555555555555556,\"#d8576b\"],[0.6666666666666666,\"#ed7953\"],[0.7777777777777778,\"#fb9f3a\"],[0.8888888888888888,\"#fdca26\"],[1.0,\"#f0f921\"]]}],\"surface\":[{\"type\":\"surface\",\"colorbar\":{\"outlinewidth\":0,\"ticks\":\"\"},\"colorscale\":[[0.0,\"#0d0887\"],[0.1111111111111111,\"#46039f\"],[0.2222222222222222,\"#7201a8\"],[0.3333333333333333,\"#9c179e\"],[0.4444444444444444,\"#bd3786\"],[0.5555555555555556,\"#d8576b\"],[0.6666666666666666,\"#ed7953\"],[0.7777777777777778,\"#fb9f3a\"],[0.8888888888888888,\"#fdca26\"],[1.0,\"#f0f921\"]]}],\"mesh3d\":[{\"type\":\"mesh3d\",\"colorbar\":{\"outlinewidth\":0,\"ticks\":\"\"}}],\"scatter\":[{\"fillpattern\":{\"fillmode\":\"overlay\",\"size\":10,\"solidity\":0.2},\"type\":\"scatter\"}],\"parcoords\":[{\"type\":\"parcoords\",\"line\":{\"colorbar\":{\"outlinewidth\":0,\"ticks\":\"\"}}}],\"scatterpolargl\":[{\"type\":\"scatterpolargl\",\"marker\":{\"colorbar\":{\"outlinewidth\":0,\"ticks\":\"\"}}}],\"bar\":[{\"error_x\":{\"color\":\"#2a3f5f\"},\"error_y\":{\"color\":\"#2a3f5f\"},\"marker\":{\"line\":{\"color\":\"#E5ECF6\",\"width\":0.5},\"pattern\":{\"fillmode\":\"overlay\",\"size\":10,\"solidity\":0.2}},\"type\":\"bar\"}],\"scattergeo\":[{\"type\":\"scattergeo\",\"marker\":{\"colorbar\":{\"outlinewidth\":0,\"ticks\":\"\"}}}],\"scatterpolar\":[{\"type\":\"scatterpolar\",\"marker\":{\"colorbar\":{\"outlinewidth\":0,\"ticks\":\"\"}}}],\"histogram\":[{\"marker\":{\"pattern\":{\"fillmode\":\"overlay\",\"size\":10,\"solidity\":0.2}},\"type\":\"histogram\"}],\"scattergl\":[{\"type\":\"scattergl\",\"marker\":{\"colorbar\":{\"outlinewidth\":0,\"ticks\":\"\"}}}],\"scatter3d\":[{\"type\":\"scatter3d\",\"line\":{\"colorbar\":{\"outlinewidth\":0,\"ticks\":\"\"}},\"marker\":{\"colorbar\":{\"outlinewidth\":0,\"ticks\":\"\"}}}],\"scattermapbox\":[{\"type\":\"scattermapbox\",\"marker\":{\"colorbar\":{\"outlinewidth\":0,\"ticks\":\"\"}}}],\"scatterternary\":[{\"type\":\"scatterternary\",\"marker\":{\"colorbar\":{\"outlinewidth\":0,\"ticks\":\"\"}}}],\"scattercarpet\":[{\"type\":\"scattercarpet\",\"marker\":{\"colorbar\":{\"outlinewidth\":0,\"ticks\":\"\"}}}],\"carpet\":[{\"aaxis\":{\"endlinecolor\":\"#2a3f5f\",\"gridcolor\":\"white\",\"linecolor\":\"white\",\"minorgridcolor\":\"white\",\"startlinecolor\":\"#2a3f5f\"},\"baxis\":{\"endlinecolor\":\"#2a3f5f\",\"gridcolor\":\"white\",\"linecolor\":\"white\",\"minorgridcolor\":\"white\",\"startlinecolor\":\"#2a3f5f\"},\"type\":\"carpet\"}],\"table\":[{\"cells\":{\"fill\":{\"color\":\"#EBF0F8\"},\"line\":{\"color\":\"white\"}},\"header\":{\"fill\":{\"color\":\"#C8D4E3\"},\"line\":{\"color\":\"white\"}},\"type\":\"table\"}],\"barpolar\":[{\"marker\":{\"line\":{\"color\":\"#E5ECF6\",\"width\":0.5},\"pattern\":{\"fillmode\":\"overlay\",\"size\":10,\"solidity\":0.2}},\"type\":\"barpolar\"}],\"pie\":[{\"automargin\":true,\"type\":\"pie\"}]},\"layout\":{\"autotypenumbers\":\"strict\",\"colorway\":[\"#636efa\",\"#EF553B\",\"#00cc96\",\"#ab63fa\",\"#FFA15A\",\"#19d3f3\",\"#FF6692\",\"#B6E880\",\"#FF97FF\",\"#FECB52\"],\"font\":{\"color\":\"#2a3f5f\"},\"hovermode\":\"closest\",\"hoverlabel\":{\"align\":\"left\"},\"paper_bgcolor\":\"white\",\"plot_bgcolor\":\"#E5ECF6\",\"polar\":{\"bgcolor\":\"#E5ECF6\",\"angularaxis\":{\"gridcolor\":\"white\",\"linecolor\":\"white\",\"ticks\":\"\"},\"radialaxis\":{\"gridcolor\":\"white\",\"linecolor\":\"white\",\"ticks\":\"\"}},\"ternary\":{\"bgcolor\":\"#E5ECF6\",\"aaxis\":{\"gridcolor\":\"white\",\"linecolor\":\"white\",\"ticks\":\"\"},\"baxis\":{\"gridcolor\":\"white\",\"linecolor\":\"white\",\"ticks\":\"\"},\"caxis\":{\"gridcolor\":\"white\",\"linecolor\":\"white\",\"ticks\":\"\"}},\"coloraxis\":{\"colorbar\":{\"outlinewidth\":0,\"ticks\":\"\"}},\"colorscale\":{\"sequential\":[[0.0,\"#0d0887\"],[0.1111111111111111,\"#46039f\"],[0.2222222222222222,\"#7201a8\"],[0.3333333333333333,\"#9c179e\"],[0.4444444444444444,\"#bd3786\"],[0.5555555555555556,\"#d8576b\"],[0.6666666666666666,\"#ed7953\"],[0.7777777777777778,\"#fb9f3a\"],[0.8888888888888888,\"#fdca26\"],[1.0,\"#f0f921\"]],\"sequentialminus\":[[0.0,\"#0d0887\"],[0.1111111111111111,\"#46039f\"],[0.2222222222222222,\"#7201a8\"],[0.3333333333333333,\"#9c179e\"],[0.4444444444444444,\"#bd3786\"],[0.5555555555555556,\"#d8576b\"],[0.6666666666666666,\"#ed7953\"],[0.7777777777777778,\"#fb9f3a\"],[0.8888888888888888,\"#fdca26\"],[1.0,\"#f0f921\"]],\"diverging\":[[0,\"#8e0152\"],[0.1,\"#c51b7d\"],[0.2,\"#de77ae\"],[0.3,\"#f1b6da\"],[0.4,\"#fde0ef\"],[0.5,\"#f7f7f7\"],[0.6,\"#e6f5d0\"],[0.7,\"#b8e186\"],[0.8,\"#7fbc41\"],[0.9,\"#4d9221\"],[1,\"#276419\"]]},\"xaxis\":{\"gridcolor\":\"white\",\"linecolor\":\"white\",\"ticks\":\"\",\"title\":{\"standoff\":15},\"zerolinecolor\":\"white\",\"automargin\":true,\"zerolinewidth\":2},\"yaxis\":{\"gridcolor\":\"white\",\"linecolor\":\"white\",\"ticks\":\"\",\"title\":{\"standoff\":15},\"zerolinecolor\":\"white\",\"automargin\":true,\"zerolinewidth\":2},\"scene\":{\"xaxis\":{\"backgroundcolor\":\"#E5ECF6\",\"gridcolor\":\"white\",\"linecolor\":\"white\",\"showbackground\":true,\"ticks\":\"\",\"zerolinecolor\":\"white\",\"gridwidth\":2},\"yaxis\":{\"backgroundcolor\":\"#E5ECF6\",\"gridcolor\":\"white\",\"linecolor\":\"white\",\"showbackground\":true,\"ticks\":\"\",\"zerolinecolor\":\"white\",\"gridwidth\":2},\"zaxis\":{\"backgroundcolor\":\"#E5ECF6\",\"gridcolor\":\"white\",\"linecolor\":\"white\",\"showbackground\":true,\"ticks\":\"\",\"zerolinecolor\":\"white\",\"gridwidth\":2}},\"shapedefaults\":{\"line\":{\"color\":\"#2a3f5f\"}},\"annotationdefaults\":{\"arrowcolor\":\"#2a3f5f\",\"arrowhead\":0,\"arrowwidth\":1},\"geo\":{\"bgcolor\":\"white\",\"landcolor\":\"#E5ECF6\",\"subunitcolor\":\"white\",\"showland\":true,\"showlakes\":true,\"lakecolor\":\"white\"},\"title\":{\"x\":0.05},\"mapbox\":{\"style\":\"light\"}}},\"xaxis\":{\"anchor\":\"y\",\"domain\":[0.0,1.0],\"title\":{\"text\":\"Year\"},\"type\":\"log\",\"range\":[3.3008127941181167,3.3059958827708047],\"minor\":{\"ticklen\":5,\"tickcolor\":\"black\",\"showgrid\":true},\"tickangle\":45},\"yaxis\":{\"anchor\":\"x\",\"domain\":[0.0,1.0],\"title\":{\"text\":\"Number of Vehicles\"},\"range\":[0,300],\"minor\":{\"ticklen\":5,\"tickcolor\":\"black\",\"showgrid\":true}},\"coloraxis\":{\"colorbar\":{\"title\":{\"text\":\"color\"}},\"colorscale\":[[0.0,\"rgb(0,0,131)\"],[0.2,\"rgb(0,60,170)\"],[0.4,\"rgb(5,255,255)\"],[0.6,\"rgb(255,255,0)\"],[0.8,\"rgb(250,0,0)\"],[1.0,\"rgb(128,0,0)\"]]},\"legend\":{\"tracegroupgap\":0,\"itemsizing\":\"constant\"},\"margin\":{\"t\":60},\"updatemenus\":[{\"buttons\":[{\"args\":[null,{\"frame\":{\"duration\":500,\"redraw\":false},\"mode\":\"immediate\",\"fromcurrent\":true,\"transition\":{\"duration\":500,\"easing\":\"linear\"}}],\"label\":\"&#9654;\",\"method\":\"animate\"},{\"args\":[[null],{\"frame\":{\"duration\":0,\"redraw\":false},\"mode\":\"immediate\",\"fromcurrent\":true,\"transition\":{\"duration\":0,\"easing\":\"linear\"}}],\"label\":\"&#9724;\",\"method\":\"animate\"}],\"direction\":\"left\",\"pad\":{\"r\":10,\"t\":70},\"showactive\":false,\"type\":\"buttons\",\"x\":0.1,\"xanchor\":\"right\",\"y\":0,\"yanchor\":\"top\"}],\"sliders\":[{\"active\":0,\"currentvalue\":{\"prefix\":\"animation_frame=\"},\"len\":0.9,\"pad\":{\"b\":10,\"t\":60},\"steps\":[{\"args\":[[\"COMPACT\"],{\"frame\":{\"duration\":0,\"redraw\":false},\"mode\":\"immediate\",\"fromcurrent\":true,\"transition\":{\"duration\":0,\"easing\":\"linear\"}}],\"label\":\"COMPACT\",\"method\":\"animate\"},{\"args\":[[\"FULL-SIZE\"],{\"frame\":{\"duration\":0,\"redraw\":false},\"mode\":\"immediate\",\"fromcurrent\":true,\"transition\":{\"duration\":0,\"easing\":\"linear\"}}],\"label\":\"FULL-SIZE\",\"method\":\"animate\"},{\"args\":[[\"MID-SIZE\"],{\"frame\":{\"duration\":0,\"redraw\":false},\"mode\":\"immediate\",\"fromcurrent\":true,\"transition\":{\"duration\":0,\"easing\":\"linear\"}}],\"label\":\"MID-SIZE\",\"method\":\"animate\"},{\"args\":[[\"MINICOMPACT\"],{\"frame\":{\"duration\":0,\"redraw\":false},\"mode\":\"immediate\",\"fromcurrent\":true,\"transition\":{\"duration\":0,\"easing\":\"linear\"}}],\"label\":\"MINICOMPACT\",\"method\":\"animate\"},{\"args\":[[\"MINIVAN\"],{\"frame\":{\"duration\":0,\"redraw\":false},\"mode\":\"immediate\",\"fromcurrent\":true,\"transition\":{\"duration\":0,\"easing\":\"linear\"}}],\"label\":\"MINIVAN\",\"method\":\"animate\"},{\"args\":[[\"PICKUP TRUCK - SMALL\"],{\"frame\":{\"duration\":0,\"redraw\":false},\"mode\":\"immediate\",\"fromcurrent\":true,\"transition\":{\"duration\":0,\"easing\":\"linear\"}}],\"label\":\"PICKUP TRUCK - SMALL\",\"method\":\"animate\"},{\"args\":[[\"PICKUP TRUCK - STANDARD\"],{\"frame\":{\"duration\":0,\"redraw\":false},\"mode\":\"immediate\",\"fromcurrent\":true,\"transition\":{\"duration\":0,\"easing\":\"linear\"}}],\"label\":\"PICKUP TRUCK - STANDARD\",\"method\":\"animate\"},{\"args\":[[\"STATION WAGON - MID-SIZE\"],{\"frame\":{\"duration\":0,\"redraw\":false},\"mode\":\"immediate\",\"fromcurrent\":true,\"transition\":{\"duration\":0,\"easing\":\"linear\"}}],\"label\":\"STATION WAGON - MID-SIZE\",\"method\":\"animate\"},{\"args\":[[\"STATION WAGON - SMALL\"],{\"frame\":{\"duration\":0,\"redraw\":false},\"mode\":\"immediate\",\"fromcurrent\":true,\"transition\":{\"duration\":0,\"easing\":\"linear\"}}],\"label\":\"STATION WAGON - SMALL\",\"method\":\"animate\"},{\"args\":[[\"SUBCOMPACT\"],{\"frame\":{\"duration\":0,\"redraw\":false},\"mode\":\"immediate\",\"fromcurrent\":true,\"transition\":{\"duration\":0,\"easing\":\"linear\"}}],\"label\":\"SUBCOMPACT\",\"method\":\"animate\"},{\"args\":[[\"SUV\"],{\"frame\":{\"duration\":0,\"redraw\":false},\"mode\":\"immediate\",\"fromcurrent\":true,\"transition\":{\"duration\":0,\"easing\":\"linear\"}}],\"label\":\"SUV\",\"method\":\"animate\"},{\"args\":[[\"TWO-SEATER\"],{\"frame\":{\"duration\":0,\"redraw\":false},\"mode\":\"immediate\",\"fromcurrent\":true,\"transition\":{\"duration\":0,\"easing\":\"linear\"}}],\"label\":\"TWO-SEATER\",\"method\":\"animate\"},{\"args\":[[\"VAN - CARGO\"],{\"frame\":{\"duration\":0,\"redraw\":false},\"mode\":\"immediate\",\"fromcurrent\":true,\"transition\":{\"duration\":0,\"easing\":\"linear\"}}],\"label\":\"VAN - CARGO\",\"method\":\"animate\"},{\"args\":[[\"VAN - PASSENGER\"],{\"frame\":{\"duration\":0,\"redraw\":false},\"mode\":\"immediate\",\"fromcurrent\":true,\"transition\":{\"duration\":0,\"easing\":\"linear\"}}],\"label\":\"VAN - PASSENGER\",\"method\":\"animate\"},{\"args\":[[\"SUV - STANDARD\"],{\"frame\":{\"duration\":0,\"redraw\":false},\"mode\":\"immediate\",\"fromcurrent\":true,\"transition\":{\"duration\":0,\"easing\":\"linear\"}}],\"label\":\"SUV - STANDARD\",\"method\":\"animate\"},{\"args\":[[\"SPECIAL PURPOSE VEHICLE\"],{\"frame\":{\"duration\":0,\"redraw\":false},\"mode\":\"immediate\",\"fromcurrent\":true,\"transition\":{\"duration\":0,\"easing\":\"linear\"}}],\"label\":\"SPECIAL PURPOSE VEHICLE\",\"method\":\"animate\"},{\"args\":[[\"SUV - SMALL\"],{\"frame\":{\"duration\":0,\"redraw\":false},\"mode\":\"immediate\",\"fromcurrent\":true,\"transition\":{\"duration\":0,\"easing\":\"linear\"}}],\"label\":\"SUV - SMALL\",\"method\":\"animate\"}],\"x\":0.1,\"xanchor\":\"left\",\"y\":0,\"yanchor\":\"top\"}],\"title\":{\"text\":\"Number of Vehicle Models offered in each Vehicle Class each Year\"}},                        {\"responsive\": true}                    ).then(function(){\n",
       "                            Plotly.addFrames('683b6d24-3dfb-4bdc-bc3d-be2c1596b721', [{\"data\":[{\"hovertemplate\":\"animation_frame=COMPACT<br>x=%{x}<br>y=%{y}<br>size=%{marker.size}<br>text=%{text}<br>color=%{marker.color}<extra></extra>\",\"ids\":[105.0,145.0,133.0,143.0,154.0,146.0,137.0,116.0,148.0,150.0,140.0,124.0,133.0,168.0,168.0,186.0,181.0,159.0,122.0,106.0,108.0,85.0,70.0],\"legendgroup\":\"\",\"marker\":{\"color\":[105.0,145.0,133.0,143.0,154.0,146.0,137.0,116.0,148.0,150.0,140.0,124.0,133.0,168.0,168.0,186.0,181.0,159.0,122.0,106.0,108.0,85.0,70.0],\"coloraxis\":\"coloraxis\",\"size\":[105.0,145.0,133.0,143.0,154.0,146.0,137.0,116.0,148.0,150.0,140.0,124.0,133.0,168.0,168.0,186.0,181.0,159.0,122.0,106.0,108.0,85.0,70.0],\"sizemode\":\"area\",\"sizeref\":0.67,\"symbol\":\"circle\"},\"mode\":\"markers+text\",\"name\":\"\",\"orientation\":\"v\",\"showlegend\":false,\"text\":[105.0,145.0,133.0,143.0,154.0,146.0,137.0,116.0,148.0,150.0,140.0,124.0,133.0,168.0,168.0,186.0,181.0,159.0,122.0,106.0,108.0,85.0,70.0],\"x\":[2000,2001,2002,2003,2004,2005,2006,2007,2008,2009,2010,2011,2012,2013,2014,2015,2016,2017,2018,2019,2020,2021,2022],\"xaxis\":\"x\",\"y\":[105.0,145.0,133.0,143.0,154.0,146.0,137.0,116.0,148.0,150.0,140.0,124.0,133.0,168.0,168.0,186.0,181.0,159.0,122.0,106.0,108.0,85.0,70.0],\"yaxis\":\"y\",\"type\":\"scatter\"}],\"name\":\"COMPACT\"},{\"data\":[{\"hovertemplate\":\"animation_frame=FULL-SIZE<br>x=%{x}<br>y=%{y}<br>size=%{marker.size}<br>text=%{text}<br>color=%{marker.color}<extra></extra>\",\"ids\":[28.0,30.0,29.0,25.0,34.0,45.0,56.0,54.0,63.0,68.0,77.0,71.0,81.0,76.0,84.0,93.0,90.0,82.0,109.0,101.0,78.0,65.0,64.0],\"legendgroup\":\"\",\"marker\":{\"color\":[28.0,30.0,29.0,25.0,34.0,45.0,56.0,54.0,63.0,68.0,77.0,71.0,81.0,76.0,84.0,93.0,90.0,82.0,109.0,101.0,78.0,65.0,64.0],\"coloraxis\":\"coloraxis\",\"size\":[28.0,30.0,29.0,25.0,34.0,45.0,56.0,54.0,63.0,68.0,77.0,71.0,81.0,76.0,84.0,93.0,90.0,82.0,109.0,101.0,78.0,65.0,64.0],\"sizemode\":\"area\",\"sizeref\":0.67,\"symbol\":\"circle\"},\"mode\":\"markers+text\",\"name\":\"\",\"orientation\":\"v\",\"showlegend\":false,\"text\":[28.0,30.0,29.0,25.0,34.0,45.0,56.0,54.0,63.0,68.0,77.0,71.0,81.0,76.0,84.0,93.0,90.0,82.0,109.0,101.0,78.0,65.0,64.0],\"x\":[2000,2001,2002,2003,2004,2005,2006,2007,2008,2009,2010,2011,2012,2013,2014,2015,2016,2017,2018,2019,2020,2021,2022],\"xaxis\":\"x\",\"y\":[28.0,30.0,29.0,25.0,34.0,45.0,56.0,54.0,63.0,68.0,77.0,71.0,81.0,76.0,84.0,93.0,90.0,82.0,109.0,101.0,78.0,65.0,64.0],\"yaxis\":\"y\",\"type\":\"scatter\"}],\"name\":\"FULL-SIZE\"},{\"data\":[{\"hovertemplate\":\"animation_frame=MID-SIZE<br>x=%{x}<br>y=%{y}<br>size=%{marker.size}<br>text=%{text}<br>color=%{marker.color}<extra></extra>\",\"ids\":[77.0,82.0,90.0,89.0,103.0,114.0,111.0,139.0,134.0,125.0,120.0,132.0,131.0,153.0,170.0,180.0,188.0,162.0,158.0,145.0,126.0,114.0,117.0],\"legendgroup\":\"\",\"marker\":{\"color\":[77.0,82.0,90.0,89.0,103.0,114.0,111.0,139.0,134.0,125.0,120.0,132.0,131.0,153.0,170.0,180.0,188.0,162.0,158.0,145.0,126.0,114.0,117.0],\"coloraxis\":\"coloraxis\",\"size\":[77.0,82.0,90.0,89.0,103.0,114.0,111.0,139.0,134.0,125.0,120.0,132.0,131.0,153.0,170.0,180.0,188.0,162.0,158.0,145.0,126.0,114.0,117.0],\"sizemode\":\"area\",\"sizeref\":0.67,\"symbol\":\"circle\"},\"mode\":\"markers+text\",\"name\":\"\",\"orientation\":\"v\",\"showlegend\":false,\"text\":[77.0,82.0,90.0,89.0,103.0,114.0,111.0,139.0,134.0,125.0,120.0,132.0,131.0,153.0,170.0,180.0,188.0,162.0,158.0,145.0,126.0,114.0,117.0],\"x\":[2000,2001,2002,2003,2004,2005,2006,2007,2008,2009,2010,2011,2012,2013,2014,2015,2016,2017,2018,2019,2020,2021,2022],\"xaxis\":\"x\",\"y\":[77.0,82.0,90.0,89.0,103.0,114.0,111.0,139.0,134.0,125.0,120.0,132.0,131.0,153.0,170.0,180.0,188.0,162.0,158.0,145.0,126.0,114.0,117.0],\"yaxis\":\"y\",\"type\":\"scatter\"}],\"name\":\"MID-SIZE\"},{\"data\":[{\"hovertemplate\":\"animation_frame=MINICOMPACT<br>x=%{x}<br>y=%{y}<br>size=%{marker.size}<br>text=%{text}<br>color=%{marker.color}<extra></extra>\",\"ids\":[11.0,17.0,22.0,33.0,25.0,74.0,37.0,47.0,49.0,43.0,41.0,53.0,76.0,53.0,47.0,59.0,52.0,44.0,53.0,56.0,23.0,30.0,49.0],\"legendgroup\":\"\",\"marker\":{\"color\":[11.0,17.0,22.0,33.0,25.0,74.0,37.0,47.0,49.0,43.0,41.0,53.0,76.0,53.0,47.0,59.0,52.0,44.0,53.0,56.0,23.0,30.0,49.0],\"coloraxis\":\"coloraxis\",\"size\":[11.0,17.0,22.0,33.0,25.0,74.0,37.0,47.0,49.0,43.0,41.0,53.0,76.0,53.0,47.0,59.0,52.0,44.0,53.0,56.0,23.0,30.0,49.0],\"sizemode\":\"area\",\"sizeref\":0.67,\"symbol\":\"circle\"},\"mode\":\"markers+text\",\"name\":\"\",\"orientation\":\"v\",\"showlegend\":false,\"text\":[11.0,17.0,22.0,33.0,25.0,74.0,37.0,47.0,49.0,43.0,41.0,53.0,76.0,53.0,47.0,59.0,52.0,44.0,53.0,56.0,23.0,30.0,49.0],\"x\":[2000,2001,2002,2003,2004,2005,2006,2007,2008,2009,2010,2011,2012,2013,2014,2015,2016,2017,2018,2019,2020,2021,2022],\"xaxis\":\"x\",\"y\":[11.0,17.0,22.0,33.0,25.0,74.0,37.0,47.0,49.0,43.0,41.0,53.0,76.0,53.0,47.0,59.0,52.0,44.0,53.0,56.0,23.0,30.0,49.0],\"yaxis\":\"y\",\"type\":\"scatter\"}],\"name\":\"MINICOMPACT\"},{\"data\":[{\"hovertemplate\":\"animation_frame=MINIVAN<br>x=%{x}<br>y=%{y}<br>size=%{marker.size}<br>text=%{text}<br>color=%{marker.color}<extra></extra>\",\"ids\":[26.0,17.0,22.0,28.0,21.0,33.0,35.0,34.0,22.0,16.0,14.0,14.0,16.0,15.0,14.0,15.0,12.0,12.0,11.0,9.0,8.0,7.0,7.0],\"legendgroup\":\"\",\"marker\":{\"color\":[26.0,17.0,22.0,28.0,21.0,33.0,35.0,34.0,22.0,16.0,14.0,14.0,16.0,15.0,14.0,15.0,12.0,12.0,11.0,9.0,8.0,7.0,7.0],\"coloraxis\":\"coloraxis\",\"size\":[26.0,17.0,22.0,28.0,21.0,33.0,35.0,34.0,22.0,16.0,14.0,14.0,16.0,15.0,14.0,15.0,12.0,12.0,11.0,9.0,8.0,7.0,7.0],\"sizemode\":\"area\",\"sizeref\":0.67,\"symbol\":\"circle\"},\"mode\":\"markers+text\",\"name\":\"\",\"orientation\":\"v\",\"showlegend\":false,\"text\":[26.0,17.0,22.0,28.0,21.0,33.0,35.0,34.0,22.0,16.0,14.0,14.0,16.0,15.0,14.0,15.0,12.0,12.0,11.0,9.0,8.0,7.0,7.0],\"x\":[2000,2001,2002,2003,2004,2005,2006,2007,2008,2009,2010,2011,2012,2013,2014,2015,2016,2017,2018,2019,2020,2021,2022],\"xaxis\":\"x\",\"y\":[26.0,17.0,22.0,28.0,21.0,33.0,35.0,34.0,22.0,16.0,14.0,14.0,16.0,15.0,14.0,15.0,12.0,12.0,11.0,9.0,8.0,7.0,7.0],\"yaxis\":\"y\",\"type\":\"scatter\"}],\"name\":\"MINIVAN\"},{\"data\":[{\"hovertemplate\":\"animation_frame=PICKUP TRUCK - SMALL<br>x=%{x}<br>y=%{y}<br>size=%{marker.size}<br>text=%{text}<br>color=%{marker.color}<extra></extra>\",\"ids\":[11.0,12.0,12.0,8.0,1.0,52.0,59.0,54.0,51.0,43.0,12.0,12.0,22.0,26.0,28.0,27.0,25.0,19.0,17.0,20.0],\"legendgroup\":\"\",\"marker\":{\"color\":[11.0,12.0,12.0,8.0,1.0,52.0,59.0,54.0,51.0,43.0,12.0,12.0,22.0,26.0,28.0,27.0,25.0,19.0,17.0,20.0],\"coloraxis\":\"coloraxis\",\"size\":[11.0,12.0,12.0,8.0,1.0,52.0,59.0,54.0,51.0,43.0,12.0,12.0,22.0,26.0,28.0,27.0,25.0,19.0,17.0,20.0],\"sizemode\":\"area\",\"sizeref\":0.67,\"symbol\":\"circle\"},\"mode\":\"markers+text\",\"name\":\"\",\"orientation\":\"v\",\"showlegend\":false,\"text\":[11.0,12.0,12.0,8.0,1.0,52.0,59.0,54.0,51.0,43.0,12.0,12.0,22.0,26.0,28.0,27.0,25.0,19.0,17.0,20.0],\"x\":[2000,2001,2002,2003,2004,2008,2009,2010,2011,2012,2013,2014,2015,2016,2017,2018,2019,2020,2021,2022],\"xaxis\":\"x\",\"y\":[11.0,12.0,12.0,8.0,1.0,52.0,59.0,54.0,51.0,43.0,12.0,12.0,22.0,26.0,28.0,27.0,25.0,19.0,17.0,20.0],\"yaxis\":\"y\",\"type\":\"scatter\"}],\"name\":\"PICKUP TRUCK - SMALL\"},{\"data\":[{\"hovertemplate\":\"animation_frame=PICKUP TRUCK - STANDARD<br>x=%{x}<br>y=%{y}<br>size=%{marker.size}<br>text=%{text}<br>color=%{marker.color}<extra></extra>\",\"ids\":[92.0,101.0,107.0,106.0,122.0,127.0,141.0,154.0,72.0,95.0,73.0,85.0,79.0,84.0,62.0,52.0,62.0,75.0,97.0,99.0,91.0,115.0,113.0],\"legendgroup\":\"\",\"marker\":{\"color\":[92.0,101.0,107.0,106.0,122.0,127.0,141.0,154.0,72.0,95.0,73.0,85.0,79.0,84.0,62.0,52.0,62.0,75.0,97.0,99.0,91.0,115.0,113.0],\"coloraxis\":\"coloraxis\",\"size\":[92.0,101.0,107.0,106.0,122.0,127.0,141.0,154.0,72.0,95.0,73.0,85.0,79.0,84.0,62.0,52.0,62.0,75.0,97.0,99.0,91.0,115.0,113.0],\"sizemode\":\"area\",\"sizeref\":0.67,\"symbol\":\"circle\"},\"mode\":\"markers+text\",\"name\":\"\",\"orientation\":\"v\",\"showlegend\":false,\"text\":[92.0,101.0,107.0,106.0,122.0,127.0,141.0,154.0,72.0,95.0,73.0,85.0,79.0,84.0,62.0,52.0,62.0,75.0,97.0,99.0,91.0,115.0,113.0],\"x\":[2000,2001,2002,2003,2004,2005,2006,2007,2008,2009,2010,2011,2012,2013,2014,2015,2016,2017,2018,2019,2020,2021,2022],\"xaxis\":\"x\",\"y\":[92.0,101.0,107.0,106.0,122.0,127.0,141.0,154.0,72.0,95.0,73.0,85.0,79.0,84.0,62.0,52.0,62.0,75.0,97.0,99.0,91.0,115.0,113.0],\"yaxis\":\"y\",\"type\":\"scatter\"}],\"name\":\"PICKUP TRUCK - STANDARD\"},{\"data\":[{\"hovertemplate\":\"animation_frame=STATION WAGON - MID-SIZE<br>x=%{x}<br>y=%{y}<br>size=%{marker.size}<br>text=%{text}<br>color=%{marker.color}<extra></extra>\",\"ids\":[25.0,31.0,32.0,35.0,41.0,38.0,28.0,32.0,18.0,13.0,9.0,4.0,5.0,3.0,6.0,8.0,7.0,8.0,10.0,9.0,8.0,9.0,8.0],\"legendgroup\":\"\",\"marker\":{\"color\":[25.0,31.0,32.0,35.0,41.0,38.0,28.0,32.0,18.0,13.0,9.0,4.0,5.0,3.0,6.0,8.0,7.0,8.0,10.0,9.0,8.0,9.0,8.0],\"coloraxis\":\"coloraxis\",\"size\":[25.0,31.0,32.0,35.0,41.0,38.0,28.0,32.0,18.0,13.0,9.0,4.0,5.0,3.0,6.0,8.0,7.0,8.0,10.0,9.0,8.0,9.0,8.0],\"sizemode\":\"area\",\"sizeref\":0.67,\"symbol\":\"circle\"},\"mode\":\"markers+text\",\"name\":\"\",\"orientation\":\"v\",\"showlegend\":false,\"text\":[25.0,31.0,32.0,35.0,41.0,38.0,28.0,32.0,18.0,13.0,9.0,4.0,5.0,3.0,6.0,8.0,7.0,8.0,10.0,9.0,8.0,9.0,8.0],\"x\":[2000,2001,2002,2003,2004,2005,2006,2007,2008,2009,2010,2011,2012,2013,2014,2015,2016,2017,2018,2019,2020,2021,2022],\"xaxis\":\"x\",\"y\":[25.0,31.0,32.0,35.0,41.0,38.0,28.0,32.0,18.0,13.0,9.0,4.0,5.0,3.0,6.0,8.0,7.0,8.0,10.0,9.0,8.0,9.0,8.0],\"yaxis\":\"y\",\"type\":\"scatter\"}],\"name\":\"STATION WAGON - MID-SIZE\"},{\"data\":[{\"hovertemplate\":\"animation_frame=STATION WAGON - SMALL<br>x=%{x}<br>y=%{y}<br>size=%{marker.size}<br>text=%{text}<br>color=%{marker.color}<extra></extra>\",\"ids\":[13.0,12.0,18.0,45.0,43.0,54.0,53.0,44.0,43.0,54.0,60.0,56.0,47.0,44.0,34.0,35.0,37.0,45.0,39.0,37.0,25.0,20.0,19.0],\"legendgroup\":\"\",\"marker\":{\"color\":[13.0,12.0,18.0,45.0,43.0,54.0,53.0,44.0,43.0,54.0,60.0,56.0,47.0,44.0,34.0,35.0,37.0,45.0,39.0,37.0,25.0,20.0,19.0],\"coloraxis\":\"coloraxis\",\"size\":[13.0,12.0,18.0,45.0,43.0,54.0,53.0,44.0,43.0,54.0,60.0,56.0,47.0,44.0,34.0,35.0,37.0,45.0,39.0,37.0,25.0,20.0,19.0],\"sizemode\":\"area\",\"sizeref\":0.67,\"symbol\":\"circle\"},\"mode\":\"markers+text\",\"name\":\"\",\"orientation\":\"v\",\"showlegend\":false,\"text\":[13.0,12.0,18.0,45.0,43.0,54.0,53.0,44.0,43.0,54.0,60.0,56.0,47.0,44.0,34.0,35.0,37.0,45.0,39.0,37.0,25.0,20.0,19.0],\"x\":[2000,2001,2002,2003,2004,2005,2006,2007,2008,2009,2010,2011,2012,2013,2014,2015,2016,2017,2018,2019,2020,2021,2022],\"xaxis\":\"x\",\"y\":[13.0,12.0,18.0,45.0,43.0,54.0,53.0,44.0,43.0,54.0,60.0,56.0,47.0,44.0,34.0,35.0,37.0,45.0,39.0,37.0,25.0,20.0,19.0],\"yaxis\":\"y\",\"type\":\"scatter\"}],\"name\":\"STATION WAGON - SMALL\"},{\"data\":[{\"hovertemplate\":\"animation_frame=SUBCOMPACT<br>x=%{x}<br>y=%{y}<br>size=%{marker.size}<br>text=%{text}<br>color=%{marker.color}<extra></extra>\",\"ids\":[104.0,62.0,73.0,65.0,86.0,87.0,78.0,83.0,100.0,99.0,98.0,104.0,102.0,95.0,62.0,92.0,76.0,93.0,96.0,98.0,95.0,83.0,79.0],\"legendgroup\":\"\",\"marker\":{\"color\":[104.0,62.0,73.0,65.0,86.0,87.0,78.0,83.0,100.0,99.0,98.0,104.0,102.0,95.0,62.0,92.0,76.0,93.0,96.0,98.0,95.0,83.0,79.0],\"coloraxis\":\"coloraxis\",\"size\":[104.0,62.0,73.0,65.0,86.0,87.0,78.0,83.0,100.0,99.0,98.0,104.0,102.0,95.0,62.0,92.0,76.0,93.0,96.0,98.0,95.0,83.0,79.0],\"sizemode\":\"area\",\"sizeref\":0.67,\"symbol\":\"circle\"},\"mode\":\"markers+text\",\"name\":\"\",\"orientation\":\"v\",\"showlegend\":false,\"text\":[104.0,62.0,73.0,65.0,86.0,87.0,78.0,83.0,100.0,99.0,98.0,104.0,102.0,95.0,62.0,92.0,76.0,93.0,96.0,98.0,95.0,83.0,79.0],\"x\":[2000,2001,2002,2003,2004,2005,2006,2007,2008,2009,2010,2011,2012,2013,2014,2015,2016,2017,2018,2019,2020,2021,2022],\"xaxis\":\"x\",\"y\":[104.0,62.0,73.0,65.0,86.0,87.0,78.0,83.0,100.0,99.0,98.0,104.0,102.0,95.0,62.0,92.0,76.0,93.0,96.0,98.0,95.0,83.0,79.0],\"yaxis\":\"y\",\"type\":\"scatter\"}],\"name\":\"SUBCOMPACT\"},{\"data\":[{\"hovertemplate\":\"animation_frame=SUV<br>x=%{x}<br>y=%{y}<br>size=%{marker.size}<br>text=%{text}<br>color=%{marker.color}<extra></extra>\",\"ids\":[97.0,98.0,124.0,160.0,190.0,224.0,221.0,239.0,267.0,268.0,249.0,268.0,235.0],\"legendgroup\":\"\",\"marker\":{\"color\":[97.0,98.0,124.0,160.0,190.0,224.0,221.0,239.0,267.0,268.0,249.0,268.0,235.0],\"coloraxis\":\"coloraxis\",\"size\":[97.0,98.0,124.0,160.0,190.0,224.0,221.0,239.0,267.0,268.0,249.0,268.0,235.0],\"sizemode\":\"area\",\"sizeref\":0.67,\"symbol\":\"circle\"},\"mode\":\"markers+text\",\"name\":\"\",\"orientation\":\"v\",\"showlegend\":false,\"text\":[97.0,98.0,124.0,160.0,190.0,224.0,221.0,239.0,267.0,268.0,249.0,268.0,235.0],\"x\":[2000,2001,2002,2003,2004,2005,2006,2007,2008,2009,2010,2011,2012],\"xaxis\":\"x\",\"y\":[97.0,98.0,124.0,160.0,190.0,224.0,221.0,239.0,267.0,268.0,249.0,268.0,235.0],\"yaxis\":\"y\",\"type\":\"scatter\"}],\"name\":\"SUV\"},{\"data\":[{\"hovertemplate\":\"animation_frame=TWO-SEATER<br>x=%{x}<br>y=%{y}<br>size=%{marker.size}<br>text=%{text}<br>color=%{marker.color}<extra></extra>\",\"ids\":[10.0,31.0,37.0,40.0,46.0,52.0,49.0,61.0,73.0,64.0,59.0,64.0,76.0,58.0,70.0,84.0,68.0,57.0,69.0,70.0,64.0,59.0,51.0],\"legendgroup\":\"\",\"marker\":{\"color\":[10.0,31.0,37.0,40.0,46.0,52.0,49.0,61.0,73.0,64.0,59.0,64.0,76.0,58.0,70.0,84.0,68.0,57.0,69.0,70.0,64.0,59.0,51.0],\"coloraxis\":\"coloraxis\",\"size\":[10.0,31.0,37.0,40.0,46.0,52.0,49.0,61.0,73.0,64.0,59.0,64.0,76.0,58.0,70.0,84.0,68.0,57.0,69.0,70.0,64.0,59.0,51.0],\"sizemode\":\"area\",\"sizeref\":0.67,\"symbol\":\"circle\"},\"mode\":\"markers+text\",\"name\":\"\",\"orientation\":\"v\",\"showlegend\":false,\"text\":[10.0,31.0,37.0,40.0,46.0,52.0,49.0,61.0,73.0,64.0,59.0,64.0,76.0,58.0,70.0,84.0,68.0,57.0,69.0,70.0,64.0,59.0,51.0],\"x\":[2000,2001,2002,2003,2004,2005,2006,2007,2008,2009,2010,2011,2012,2013,2014,2015,2016,2017,2018,2019,2020,2021,2022],\"xaxis\":\"x\",\"y\":[10.0,31.0,37.0,40.0,46.0,52.0,49.0,61.0,73.0,64.0,59.0,64.0,76.0,58.0,70.0,84.0,68.0,57.0,69.0,70.0,64.0,59.0,51.0],\"yaxis\":\"y\",\"type\":\"scatter\"}],\"name\":\"TWO-SEATER\"},{\"data\":[{\"hovertemplate\":\"animation_frame=VAN - CARGO<br>x=%{x}<br>y=%{y}<br>size=%{marker.size}<br>text=%{text}<br>color=%{marker.color}<extra></extra>\",\"ids\":[23.0,23.0,23.0,30.0,21.0,13.0,14.0,27.0,26.0,26.0,18.0,22.0,22.0,22.0,22.0],\"legendgroup\":\"\",\"marker\":{\"color\":[23.0,23.0,23.0,30.0,21.0,13.0,14.0,27.0,26.0,26.0,18.0,22.0,22.0,22.0,22.0],\"coloraxis\":\"coloraxis\",\"size\":[23.0,23.0,23.0,30.0,21.0,13.0,14.0,27.0,26.0,26.0,18.0,22.0,22.0,22.0,22.0],\"sizemode\":\"area\",\"sizeref\":0.67,\"symbol\":\"circle\"},\"mode\":\"markers+text\",\"name\":\"\",\"orientation\":\"v\",\"showlegend\":false,\"text\":[23.0,23.0,23.0,30.0,21.0,13.0,14.0,27.0,26.0,26.0,18.0,22.0,22.0,22.0,22.0],\"x\":[2000,2001,2002,2003,2004,2005,2006,2007,2008,2009,2010,2011,2012,2013,2014],\"xaxis\":\"x\",\"y\":[23.0,23.0,23.0,30.0,21.0,13.0,14.0,27.0,26.0,26.0,18.0,22.0,22.0,22.0,22.0],\"yaxis\":\"y\",\"type\":\"scatter\"}],\"name\":\"VAN - CARGO\"},{\"data\":[{\"hovertemplate\":\"animation_frame=VAN - PASSENGER<br>x=%{x}<br>y=%{y}<br>size=%{marker.size}<br>text=%{text}<br>color=%{marker.color}<extra></extra>\",\"ids\":[17.0,18.0,18.0,13.0,11.0,12.0,8.0,12.0,12.0,12.0,8.0,27.0,31.0,30.0,25.0,19.0,7.0,7.0,2.0,2.0,4.0,4.0],\"legendgroup\":\"\",\"marker\":{\"color\":[17.0,18.0,18.0,13.0,11.0,12.0,8.0,12.0,12.0,12.0,8.0,27.0,31.0,30.0,25.0,19.0,7.0,7.0,2.0,2.0,4.0,4.0],\"coloraxis\":\"coloraxis\",\"size\":[17.0,18.0,18.0,13.0,11.0,12.0,8.0,12.0,12.0,12.0,8.0,27.0,31.0,30.0,25.0,19.0,7.0,7.0,2.0,2.0,4.0,4.0],\"sizemode\":\"area\",\"sizeref\":0.67,\"symbol\":\"circle\"},\"mode\":\"markers+text\",\"name\":\"\",\"orientation\":\"v\",\"showlegend\":false,\"text\":[17.0,18.0,18.0,13.0,11.0,12.0,8.0,12.0,12.0,12.0,8.0,27.0,31.0,30.0,25.0,19.0,7.0,7.0,2.0,2.0,4.0,4.0],\"x\":[2000,2001,2002,2003,2004,2005,2006,2007,2008,2009,2010,2011,2012,2013,2014,2015,2016,2017,2018,2019,2020,2021],\"xaxis\":\"x\",\"y\":[17.0,18.0,18.0,13.0,11.0,12.0,8.0,12.0,12.0,12.0,8.0,27.0,31.0,30.0,25.0,19.0,7.0,7.0,2.0,2.0,4.0,4.0],\"yaxis\":\"y\",\"type\":\"scatter\"}],\"name\":\"VAN - PASSENGER\"},{\"data\":[{\"hovertemplate\":\"animation_frame=SUV - STANDARD<br>x=%{x}<br>y=%{y}<br>size=%{marker.size}<br>text=%{text}<br>color=%{marker.color}<extra></extra>\",\"ids\":[1.0,2.0,101.0,102.0,99.0,107.0,102.0,103.0,111.0,118.0,127.0,149.0],\"legendgroup\":\"\",\"marker\":{\"color\":[1.0,2.0,101.0,102.0,99.0,107.0,102.0,103.0,111.0,118.0,127.0,149.0],\"coloraxis\":\"coloraxis\",\"size\":[1.0,2.0,101.0,102.0,99.0,107.0,102.0,103.0,111.0,118.0,127.0,149.0],\"sizemode\":\"area\",\"sizeref\":0.67,\"symbol\":\"circle\"},\"mode\":\"markers+text\",\"name\":\"\",\"orientation\":\"v\",\"showlegend\":false,\"text\":[1.0,2.0,101.0,102.0,99.0,107.0,102.0,103.0,111.0,118.0,127.0,149.0],\"x\":[2007,2012,2013,2014,2015,2016,2017,2018,2019,2020,2021,2022],\"xaxis\":\"x\",\"y\":[1.0,2.0,101.0,102.0,99.0,107.0,102.0,103.0,111.0,118.0,127.0,149.0],\"yaxis\":\"y\",\"type\":\"scatter\"}],\"name\":\"SUV - STANDARD\"},{\"data\":[{\"hovertemplate\":\"animation_frame=SPECIAL PURPOSE VEHICLE<br>x=%{x}<br>y=%{y}<br>size=%{marker.size}<br>text=%{text}<br>color=%{marker.color}<extra></extra>\",\"ids\":[1.0,1.0,2.0,5.0,7.0,9.0,17.0,10.0,10.0,14.0,13.0,13.0,12.0],\"legendgroup\":\"\",\"marker\":{\"color\":[1.0,1.0,2.0,5.0,7.0,9.0,17.0,10.0,10.0,14.0,13.0,13.0,12.0],\"coloraxis\":\"coloraxis\",\"size\":[1.0,1.0,2.0,5.0,7.0,9.0,17.0,10.0,10.0,14.0,13.0,13.0,12.0],\"sizemode\":\"area\",\"sizeref\":0.67,\"symbol\":\"circle\"},\"mode\":\"markers+text\",\"name\":\"\",\"orientation\":\"v\",\"showlegend\":false,\"text\":[1.0,1.0,2.0,5.0,7.0,9.0,17.0,10.0,10.0,14.0,13.0,13.0,12.0],\"x\":[2010,2011,2012,2013,2014,2015,2016,2017,2018,2019,2020,2021,2022],\"xaxis\":\"x\",\"y\":[1.0,1.0,2.0,5.0,7.0,9.0,17.0,10.0,10.0,14.0,13.0,13.0,12.0],\"yaxis\":\"y\",\"type\":\"scatter\"}],\"name\":\"SPECIAL PURPOSE VEHICLE\"},{\"data\":[{\"hovertemplate\":\"animation_frame=SUV - SMALL<br>x=%{x}<br>y=%{y}<br>size=%{marker.size}<br>text=%{text}<br>color=%{marker.color}<extra></extra>\",\"ids\":[139.0,155.0,179.0,180.0,174.0,177.0,174.0,188.0,193.0,197.0],\"legendgroup\":\"\",\"marker\":{\"color\":[139.0,155.0,179.0,180.0,174.0,177.0,174.0,188.0,193.0,197.0],\"coloraxis\":\"coloraxis\",\"size\":[139.0,155.0,179.0,180.0,174.0,177.0,174.0,188.0,193.0,197.0],\"sizemode\":\"area\",\"sizeref\":0.67,\"symbol\":\"circle\"},\"mode\":\"markers+text\",\"name\":\"\",\"orientation\":\"v\",\"showlegend\":false,\"text\":[139.0,155.0,179.0,180.0,174.0,177.0,174.0,188.0,193.0,197.0],\"x\":[2013,2014,2015,2016,2017,2018,2019,2020,2021,2022],\"xaxis\":\"x\",\"y\":[139.0,155.0,179.0,180.0,174.0,177.0,174.0,188.0,193.0,197.0],\"yaxis\":\"y\",\"type\":\"scatter\"}],\"name\":\"SUV - SMALL\"}]);\n",
       "                        }).then(function(){\n",
       "                            \n",
       "var gd = document.getElementById('683b6d24-3dfb-4bdc-bc3d-be2c1596b721');\n",
       "var x = new MutationObserver(function (mutations, observer) {{\n",
       "        var display = window.getComputedStyle(gd).display;\n",
       "        if (!display || display === 'none') {{\n",
       "            console.log([gd, 'removed!']);\n",
       "            Plotly.purge(gd);\n",
       "            observer.disconnect();\n",
       "        }}\n",
       "}});\n",
       "\n",
       "// Listen for the removal of the full notebook cells\n",
       "var notebookContainer = gd.closest('#notebook-container');\n",
       "if (notebookContainer) {{\n",
       "    x.observe(notebookContainer, {childList: true});\n",
       "}}\n",
       "\n",
       "// Listen for the clearing of the current output cell\n",
       "var outputEl = gd.closest('.output');\n",
       "if (outputEl) {{\n",
       "    x.observe(outputEl, {childList: true});\n",
       "}}\n",
       "\n",
       "                        })                };                });            </script>        </div>"
      ]
     },
     "metadata": {},
     "output_type": "display_data"
    }
   ],
   "source": [
    "Year = [x[0] for x in data_to_display.index]\n",
    "Count = data_to_display['ID']['count'].values.tolist()\n",
    "VehicleClass = [x[1] for x in data_to_display.index]\n",
    "\n",
    "fig = px.scatter(x= Year, \n",
    "                 y=Count, \n",
    "                 color=Count,\n",
    "                 color_continuous_scale=px.colors.sequential.Jet,\n",
    "                 size=Count,\n",
    "                 text=Count,\n",
    "                 animation_frame=VehicleClass, \n",
    "                 animation_group=Count,\n",
    "                 log_x=True, \n",
    "                 range_x=[1999,2023], \n",
    "                 range_y=[0,300]\n",
    "                 )\n",
    "\n",
    "fig.update_layout(title='Number of Vehicle Models offered in each Vehicle Class each Year',\n",
    "                  xaxis_title='Year',\n",
    "                  yaxis_title='Number of Vehicles',\n",
    "                  )\n",
    "\n",
    "fig.update_xaxes(tickangle=45,minor=dict(ticklen=5, tickcolor=\"black\", showgrid=True))\n",
    "fig.update_yaxes(minor=dict(ticklen=5, tickcolor=\"black\", showgrid=True))\n",
    "fig.update_traces(textposition='top center')\n",
    "\n",
    "fig.show()"
   ]
  },
  {
   "cell_type": "code",
   "execution_count": 19,
   "id": "03580477",
   "metadata": {},
   "outputs": [
    {
     "data": {
      "application/vnd.plotly.v1+json": {
       "config": {
        "plotlyServerURL": "https://plot.ly"
       },
       "data": [
        {
         "alignmentgroup": "True",
         "hovertemplate": "<b>Class: %{text}</b><br>Year: %{x}</br>Count: %{y}<br>",
         "legendgroup": "COMPACT",
         "marker": {
          "color": "#FD3216",
          "pattern": {
           "shape": ""
          }
         },
         "name": "COMPACT",
         "offsetgroup": "COMPACT",
         "orientation": "v",
         "showlegend": true,
         "text": [
          "COMPACT",
          "COMPACT",
          "COMPACT",
          "COMPACT",
          "COMPACT",
          "COMPACT",
          "COMPACT",
          "COMPACT",
          "COMPACT",
          "COMPACT",
          "COMPACT",
          "COMPACT",
          "COMPACT",
          "COMPACT",
          "COMPACT",
          "COMPACT",
          "COMPACT",
          "COMPACT",
          "COMPACT",
          "COMPACT",
          "COMPACT",
          "COMPACT",
          "COMPACT"
         ],
         "textposition": "auto",
         "type": "bar",
         "x": [
          2000,
          2001,
          2002,
          2003,
          2004,
          2005,
          2006,
          2007,
          2008,
          2009,
          2010,
          2011,
          2012,
          2013,
          2014,
          2015,
          2016,
          2017,
          2018,
          2019,
          2020,
          2021,
          2022
         ],
         "xaxis": "x",
         "y": [
          105,
          145,
          133,
          143,
          154,
          146,
          137,
          116,
          148,
          150,
          140,
          124,
          133,
          168,
          168,
          186,
          181,
          159,
          122,
          106,
          108,
          85,
          70
         ],
         "yaxis": "y"
        },
        {
         "alignmentgroup": "True",
         "hovertemplate": "<b>Class: %{text}</b><br>Year: %{x}</br>Count: %{y}<br>",
         "legendgroup": "FULL-SIZE",
         "marker": {
          "color": "#00FE35",
          "pattern": {
           "shape": ""
          }
         },
         "name": "FULL-SIZE",
         "offsetgroup": "FULL-SIZE",
         "orientation": "v",
         "showlegend": true,
         "text": [
          "FULL-SIZE",
          "FULL-SIZE",
          "FULL-SIZE",
          "FULL-SIZE",
          "FULL-SIZE",
          "FULL-SIZE",
          "FULL-SIZE",
          "FULL-SIZE",
          "FULL-SIZE",
          "FULL-SIZE",
          "FULL-SIZE",
          "FULL-SIZE",
          "FULL-SIZE",
          "FULL-SIZE",
          "FULL-SIZE",
          "FULL-SIZE",
          "FULL-SIZE",
          "FULL-SIZE",
          "FULL-SIZE",
          "FULL-SIZE",
          "FULL-SIZE",
          "FULL-SIZE",
          "FULL-SIZE"
         ],
         "textposition": "auto",
         "type": "bar",
         "x": [
          2000,
          2001,
          2002,
          2003,
          2004,
          2005,
          2006,
          2007,
          2008,
          2009,
          2010,
          2011,
          2012,
          2013,
          2014,
          2015,
          2016,
          2017,
          2018,
          2019,
          2020,
          2021,
          2022
         ],
         "xaxis": "x",
         "y": [
          28,
          30,
          29,
          25,
          34,
          45,
          56,
          54,
          63,
          68,
          77,
          71,
          81,
          76,
          84,
          93,
          90,
          82,
          109,
          101,
          78,
          65,
          64
         ],
         "yaxis": "y"
        },
        {
         "alignmentgroup": "True",
         "hovertemplate": "<b>Class: %{text}</b><br>Year: %{x}</br>Count: %{y}<br>",
         "legendgroup": "MID-SIZE",
         "marker": {
          "color": "#6A76FC",
          "pattern": {
           "shape": ""
          }
         },
         "name": "MID-SIZE",
         "offsetgroup": "MID-SIZE",
         "orientation": "v",
         "showlegend": true,
         "text": [
          "MID-SIZE",
          "MID-SIZE",
          "MID-SIZE",
          "MID-SIZE",
          "MID-SIZE",
          "MID-SIZE",
          "MID-SIZE",
          "MID-SIZE",
          "MID-SIZE",
          "MID-SIZE",
          "MID-SIZE",
          "MID-SIZE",
          "MID-SIZE",
          "MID-SIZE",
          "MID-SIZE",
          "MID-SIZE",
          "MID-SIZE",
          "MID-SIZE",
          "MID-SIZE",
          "MID-SIZE",
          "MID-SIZE",
          "MID-SIZE",
          "MID-SIZE"
         ],
         "textposition": "auto",
         "type": "bar",
         "x": [
          2000,
          2001,
          2002,
          2003,
          2004,
          2005,
          2006,
          2007,
          2008,
          2009,
          2010,
          2011,
          2012,
          2013,
          2014,
          2015,
          2016,
          2017,
          2018,
          2019,
          2020,
          2021,
          2022
         ],
         "xaxis": "x",
         "y": [
          77,
          82,
          90,
          89,
          103,
          114,
          111,
          139,
          134,
          125,
          120,
          132,
          131,
          153,
          170,
          180,
          188,
          162,
          158,
          145,
          126,
          114,
          117
         ],
         "yaxis": "y"
        },
        {
         "alignmentgroup": "True",
         "hovertemplate": "<b>Class: %{text}</b><br>Year: %{x}</br>Count: %{y}<br>",
         "legendgroup": "MINICOMPACT",
         "marker": {
          "color": "#FED4C4",
          "pattern": {
           "shape": ""
          }
         },
         "name": "MINICOMPACT",
         "offsetgroup": "MINICOMPACT",
         "orientation": "v",
         "showlegend": true,
         "text": [
          "MINICOMPACT",
          "MINICOMPACT",
          "MINICOMPACT",
          "MINICOMPACT",
          "MINICOMPACT",
          "MINICOMPACT",
          "MINICOMPACT",
          "MINICOMPACT",
          "MINICOMPACT",
          "MINICOMPACT",
          "MINICOMPACT",
          "MINICOMPACT",
          "MINICOMPACT",
          "MINICOMPACT",
          "MINICOMPACT",
          "MINICOMPACT",
          "MINICOMPACT",
          "MINICOMPACT",
          "MINICOMPACT",
          "MINICOMPACT",
          "MINICOMPACT",
          "MINICOMPACT",
          "MINICOMPACT"
         ],
         "textposition": "auto",
         "type": "bar",
         "x": [
          2000,
          2001,
          2002,
          2003,
          2004,
          2005,
          2006,
          2007,
          2008,
          2009,
          2010,
          2011,
          2012,
          2013,
          2014,
          2015,
          2016,
          2017,
          2018,
          2019,
          2020,
          2021,
          2022
         ],
         "xaxis": "x",
         "y": [
          11,
          17,
          22,
          33,
          25,
          74,
          37,
          47,
          49,
          43,
          41,
          53,
          76,
          53,
          47,
          59,
          52,
          44,
          53,
          56,
          23,
          30,
          49
         ],
         "yaxis": "y"
        },
        {
         "alignmentgroup": "True",
         "hovertemplate": "<b>Class: %{text}</b><br>Year: %{x}</br>Count: %{y}<br>",
         "legendgroup": "MINIVAN",
         "marker": {
          "color": "#FE00CE",
          "pattern": {
           "shape": ""
          }
         },
         "name": "MINIVAN",
         "offsetgroup": "MINIVAN",
         "orientation": "v",
         "showlegend": true,
         "text": [
          "MINIVAN",
          "MINIVAN",
          "MINIVAN",
          "MINIVAN",
          "MINIVAN",
          "MINIVAN",
          "MINIVAN",
          "MINIVAN",
          "MINIVAN",
          "MINIVAN",
          "MINIVAN",
          "MINIVAN",
          "MINIVAN",
          "MINIVAN",
          "MINIVAN",
          "MINIVAN",
          "MINIVAN",
          "MINIVAN",
          "MINIVAN",
          "MINIVAN",
          "MINIVAN",
          "MINIVAN",
          "MINIVAN"
         ],
         "textposition": "auto",
         "type": "bar",
         "x": [
          2000,
          2001,
          2002,
          2003,
          2004,
          2005,
          2006,
          2007,
          2008,
          2009,
          2010,
          2011,
          2012,
          2013,
          2014,
          2015,
          2016,
          2017,
          2018,
          2019,
          2020,
          2021,
          2022
         ],
         "xaxis": "x",
         "y": [
          26,
          17,
          22,
          28,
          21,
          33,
          35,
          34,
          22,
          16,
          14,
          14,
          16,
          15,
          14,
          15,
          12,
          12,
          11,
          9,
          8,
          7,
          7
         ],
         "yaxis": "y"
        },
        {
         "alignmentgroup": "True",
         "hovertemplate": "<b>Class: %{text}</b><br>Year: %{x}</br>Count: %{y}<br>",
         "legendgroup": "PICKUP TRUCK - SMALL",
         "marker": {
          "color": "#0DF9FF",
          "pattern": {
           "shape": ""
          }
         },
         "name": "PICKUP TRUCK - SMALL",
         "offsetgroup": "PICKUP TRUCK - SMALL",
         "orientation": "v",
         "showlegend": true,
         "text": [
          "PICKUP TRUCK - SMALL",
          "PICKUP TRUCK - SMALL",
          "PICKUP TRUCK - SMALL",
          "PICKUP TRUCK - SMALL",
          "PICKUP TRUCK - SMALL",
          "PICKUP TRUCK - SMALL",
          "PICKUP TRUCK - SMALL",
          "PICKUP TRUCK - SMALL",
          "PICKUP TRUCK - SMALL",
          "PICKUP TRUCK - SMALL",
          "PICKUP TRUCK - SMALL",
          "PICKUP TRUCK - SMALL",
          "PICKUP TRUCK - SMALL",
          "PICKUP TRUCK - SMALL",
          "PICKUP TRUCK - SMALL",
          "PICKUP TRUCK - SMALL",
          "PICKUP TRUCK - SMALL",
          "PICKUP TRUCK - SMALL",
          "PICKUP TRUCK - SMALL",
          "PICKUP TRUCK - SMALL"
         ],
         "textposition": "auto",
         "type": "bar",
         "x": [
          2000,
          2001,
          2002,
          2003,
          2004,
          2008,
          2009,
          2010,
          2011,
          2012,
          2013,
          2014,
          2015,
          2016,
          2017,
          2018,
          2019,
          2020,
          2021,
          2022
         ],
         "xaxis": "x",
         "y": [
          11,
          12,
          12,
          8,
          1,
          52,
          59,
          54,
          51,
          43,
          12,
          12,
          22,
          26,
          28,
          27,
          25,
          19,
          17,
          20
         ],
         "yaxis": "y"
        },
        {
         "alignmentgroup": "True",
         "hovertemplate": "<b>Class: %{text}</b><br>Year: %{x}</br>Count: %{y}<br>",
         "legendgroup": "PICKUP TRUCK - STANDARD",
         "marker": {
          "color": "#F6F926",
          "pattern": {
           "shape": ""
          }
         },
         "name": "PICKUP TRUCK - STANDARD",
         "offsetgroup": "PICKUP TRUCK - STANDARD",
         "orientation": "v",
         "showlegend": true,
         "text": [
          "PICKUP TRUCK - STANDARD",
          "PICKUP TRUCK - STANDARD",
          "PICKUP TRUCK - STANDARD",
          "PICKUP TRUCK - STANDARD",
          "PICKUP TRUCK - STANDARD",
          "PICKUP TRUCK - STANDARD",
          "PICKUP TRUCK - STANDARD",
          "PICKUP TRUCK - STANDARD",
          "PICKUP TRUCK - STANDARD",
          "PICKUP TRUCK - STANDARD",
          "PICKUP TRUCK - STANDARD",
          "PICKUP TRUCK - STANDARD",
          "PICKUP TRUCK - STANDARD",
          "PICKUP TRUCK - STANDARD",
          "PICKUP TRUCK - STANDARD",
          "PICKUP TRUCK - STANDARD",
          "PICKUP TRUCK - STANDARD",
          "PICKUP TRUCK - STANDARD",
          "PICKUP TRUCK - STANDARD",
          "PICKUP TRUCK - STANDARD",
          "PICKUP TRUCK - STANDARD",
          "PICKUP TRUCK - STANDARD",
          "PICKUP TRUCK - STANDARD"
         ],
         "textposition": "auto",
         "type": "bar",
         "x": [
          2000,
          2001,
          2002,
          2003,
          2004,
          2005,
          2006,
          2007,
          2008,
          2009,
          2010,
          2011,
          2012,
          2013,
          2014,
          2015,
          2016,
          2017,
          2018,
          2019,
          2020,
          2021,
          2022
         ],
         "xaxis": "x",
         "y": [
          92,
          101,
          107,
          106,
          122,
          127,
          141,
          154,
          72,
          95,
          73,
          85,
          79,
          84,
          62,
          52,
          62,
          75,
          97,
          99,
          91,
          115,
          113
         ],
         "yaxis": "y"
        },
        {
         "alignmentgroup": "True",
         "hovertemplate": "<b>Class: %{text}</b><br>Year: %{x}</br>Count: %{y}<br>",
         "legendgroup": "STATION WAGON - MID-SIZE",
         "marker": {
          "color": "#FF9616",
          "pattern": {
           "shape": ""
          }
         },
         "name": "STATION WAGON - MID-SIZE",
         "offsetgroup": "STATION WAGON - MID-SIZE",
         "orientation": "v",
         "showlegend": true,
         "text": [
          "STATION WAGON - MID-SIZE",
          "STATION WAGON - MID-SIZE",
          "STATION WAGON - MID-SIZE",
          "STATION WAGON - MID-SIZE",
          "STATION WAGON - MID-SIZE",
          "STATION WAGON - MID-SIZE",
          "STATION WAGON - MID-SIZE",
          "STATION WAGON - MID-SIZE",
          "STATION WAGON - MID-SIZE",
          "STATION WAGON - MID-SIZE",
          "STATION WAGON - MID-SIZE",
          "STATION WAGON - MID-SIZE",
          "STATION WAGON - MID-SIZE",
          "STATION WAGON - MID-SIZE",
          "STATION WAGON - MID-SIZE",
          "STATION WAGON - MID-SIZE",
          "STATION WAGON - MID-SIZE",
          "STATION WAGON - MID-SIZE",
          "STATION WAGON - MID-SIZE",
          "STATION WAGON - MID-SIZE",
          "STATION WAGON - MID-SIZE",
          "STATION WAGON - MID-SIZE",
          "STATION WAGON - MID-SIZE"
         ],
         "textposition": "auto",
         "type": "bar",
         "x": [
          2000,
          2001,
          2002,
          2003,
          2004,
          2005,
          2006,
          2007,
          2008,
          2009,
          2010,
          2011,
          2012,
          2013,
          2014,
          2015,
          2016,
          2017,
          2018,
          2019,
          2020,
          2021,
          2022
         ],
         "xaxis": "x",
         "y": [
          25,
          31,
          32,
          35,
          41,
          38,
          28,
          32,
          18,
          13,
          9,
          4,
          5,
          3,
          6,
          8,
          7,
          8,
          10,
          9,
          8,
          9,
          8
         ],
         "yaxis": "y"
        },
        {
         "alignmentgroup": "True",
         "hovertemplate": "<b>Class: %{text}</b><br>Year: %{x}</br>Count: %{y}<br>",
         "legendgroup": "STATION WAGON - SMALL",
         "marker": {
          "color": "#479B55",
          "pattern": {
           "shape": ""
          }
         },
         "name": "STATION WAGON - SMALL",
         "offsetgroup": "STATION WAGON - SMALL",
         "orientation": "v",
         "showlegend": true,
         "text": [
          "STATION WAGON - SMALL",
          "STATION WAGON - SMALL",
          "STATION WAGON - SMALL",
          "STATION WAGON - SMALL",
          "STATION WAGON - SMALL",
          "STATION WAGON - SMALL",
          "STATION WAGON - SMALL",
          "STATION WAGON - SMALL",
          "STATION WAGON - SMALL",
          "STATION WAGON - SMALL",
          "STATION WAGON - SMALL",
          "STATION WAGON - SMALL",
          "STATION WAGON - SMALL",
          "STATION WAGON - SMALL",
          "STATION WAGON - SMALL",
          "STATION WAGON - SMALL",
          "STATION WAGON - SMALL",
          "STATION WAGON - SMALL",
          "STATION WAGON - SMALL",
          "STATION WAGON - SMALL",
          "STATION WAGON - SMALL",
          "STATION WAGON - SMALL",
          "STATION WAGON - SMALL"
         ],
         "textposition": "auto",
         "type": "bar",
         "x": [
          2000,
          2001,
          2002,
          2003,
          2004,
          2005,
          2006,
          2007,
          2008,
          2009,
          2010,
          2011,
          2012,
          2013,
          2014,
          2015,
          2016,
          2017,
          2018,
          2019,
          2020,
          2021,
          2022
         ],
         "xaxis": "x",
         "y": [
          13,
          12,
          18,
          45,
          43,
          54,
          53,
          44,
          43,
          54,
          60,
          56,
          47,
          44,
          34,
          35,
          37,
          45,
          39,
          37,
          25,
          20,
          19
         ],
         "yaxis": "y"
        },
        {
         "alignmentgroup": "True",
         "hovertemplate": "<b>Class: %{text}</b><br>Year: %{x}</br>Count: %{y}<br>",
         "legendgroup": "SUBCOMPACT",
         "marker": {
          "color": "#EEA6FB",
          "pattern": {
           "shape": ""
          }
         },
         "name": "SUBCOMPACT",
         "offsetgroup": "SUBCOMPACT",
         "orientation": "v",
         "showlegend": true,
         "text": [
          "SUBCOMPACT",
          "SUBCOMPACT",
          "SUBCOMPACT",
          "SUBCOMPACT",
          "SUBCOMPACT",
          "SUBCOMPACT",
          "SUBCOMPACT",
          "SUBCOMPACT",
          "SUBCOMPACT",
          "SUBCOMPACT",
          "SUBCOMPACT",
          "SUBCOMPACT",
          "SUBCOMPACT",
          "SUBCOMPACT",
          "SUBCOMPACT",
          "SUBCOMPACT",
          "SUBCOMPACT",
          "SUBCOMPACT",
          "SUBCOMPACT",
          "SUBCOMPACT",
          "SUBCOMPACT",
          "SUBCOMPACT",
          "SUBCOMPACT"
         ],
         "textposition": "auto",
         "type": "bar",
         "x": [
          2000,
          2001,
          2002,
          2003,
          2004,
          2005,
          2006,
          2007,
          2008,
          2009,
          2010,
          2011,
          2012,
          2013,
          2014,
          2015,
          2016,
          2017,
          2018,
          2019,
          2020,
          2021,
          2022
         ],
         "xaxis": "x",
         "y": [
          104,
          62,
          73,
          65,
          86,
          87,
          78,
          83,
          100,
          99,
          98,
          104,
          102,
          95,
          62,
          92,
          76,
          93,
          96,
          98,
          95,
          83,
          79
         ],
         "yaxis": "y"
        },
        {
         "alignmentgroup": "True",
         "hovertemplate": "<b>Class: %{text}</b><br>Year: %{x}</br>Count: %{y}<br>",
         "legendgroup": "SUV",
         "marker": {
          "color": "#DC587D",
          "pattern": {
           "shape": ""
          }
         },
         "name": "SUV",
         "offsetgroup": "SUV",
         "orientation": "v",
         "showlegend": true,
         "text": [
          "SUV",
          "SUV",
          "SUV",
          "SUV",
          "SUV",
          "SUV",
          "SUV",
          "SUV",
          "SUV",
          "SUV",
          "SUV",
          "SUV",
          "SUV"
         ],
         "textposition": "auto",
         "type": "bar",
         "x": [
          2000,
          2001,
          2002,
          2003,
          2004,
          2005,
          2006,
          2007,
          2008,
          2009,
          2010,
          2011,
          2012
         ],
         "xaxis": "x",
         "y": [
          97,
          98,
          124,
          160,
          190,
          224,
          221,
          239,
          267,
          268,
          249,
          268,
          235
         ],
         "yaxis": "y"
        },
        {
         "alignmentgroup": "True",
         "hovertemplate": "<b>Class: %{text}</b><br>Year: %{x}</br>Count: %{y}<br>",
         "legendgroup": "TWO-SEATER",
         "marker": {
          "color": "#D626FF",
          "pattern": {
           "shape": ""
          }
         },
         "name": "TWO-SEATER",
         "offsetgroup": "TWO-SEATER",
         "orientation": "v",
         "showlegend": true,
         "text": [
          "TWO-SEATER",
          "TWO-SEATER",
          "TWO-SEATER",
          "TWO-SEATER",
          "TWO-SEATER",
          "TWO-SEATER",
          "TWO-SEATER",
          "TWO-SEATER",
          "TWO-SEATER",
          "TWO-SEATER",
          "TWO-SEATER",
          "TWO-SEATER",
          "TWO-SEATER",
          "TWO-SEATER",
          "TWO-SEATER",
          "TWO-SEATER",
          "TWO-SEATER",
          "TWO-SEATER",
          "TWO-SEATER",
          "TWO-SEATER",
          "TWO-SEATER",
          "TWO-SEATER",
          "TWO-SEATER"
         ],
         "textposition": "auto",
         "type": "bar",
         "x": [
          2000,
          2001,
          2002,
          2003,
          2004,
          2005,
          2006,
          2007,
          2008,
          2009,
          2010,
          2011,
          2012,
          2013,
          2014,
          2015,
          2016,
          2017,
          2018,
          2019,
          2020,
          2021,
          2022
         ],
         "xaxis": "x",
         "y": [
          10,
          31,
          37,
          40,
          46,
          52,
          49,
          61,
          73,
          64,
          59,
          64,
          76,
          58,
          70,
          84,
          68,
          57,
          69,
          70,
          64,
          59,
          51
         ],
         "yaxis": "y"
        },
        {
         "alignmentgroup": "True",
         "hovertemplate": "<b>Class: %{text}</b><br>Year: %{x}</br>Count: %{y}<br>",
         "legendgroup": "VAN - CARGO",
         "marker": {
          "color": "#6E899C",
          "pattern": {
           "shape": ""
          }
         },
         "name": "VAN - CARGO",
         "offsetgroup": "VAN - CARGO",
         "orientation": "v",
         "showlegend": true,
         "text": [
          "VAN - CARGO",
          "VAN - CARGO",
          "VAN - CARGO",
          "VAN - CARGO",
          "VAN - CARGO",
          "VAN - CARGO",
          "VAN - CARGO",
          "VAN - CARGO",
          "VAN - CARGO",
          "VAN - CARGO",
          "VAN - CARGO",
          "VAN - CARGO",
          "VAN - CARGO",
          "VAN - CARGO",
          "VAN - CARGO"
         ],
         "textposition": "auto",
         "type": "bar",
         "x": [
          2000,
          2001,
          2002,
          2003,
          2004,
          2005,
          2006,
          2007,
          2008,
          2009,
          2010,
          2011,
          2012,
          2013,
          2014
         ],
         "xaxis": "x",
         "y": [
          23,
          23,
          23,
          30,
          21,
          13,
          14,
          27,
          26,
          26,
          18,
          22,
          22,
          22,
          22
         ],
         "yaxis": "y"
        },
        {
         "alignmentgroup": "True",
         "hovertemplate": "<b>Class: %{text}</b><br>Year: %{x}</br>Count: %{y}<br>",
         "legendgroup": "VAN - PASSENGER",
         "marker": {
          "color": "#00B5F7",
          "pattern": {
           "shape": ""
          }
         },
         "name": "VAN - PASSENGER",
         "offsetgroup": "VAN - PASSENGER",
         "orientation": "v",
         "showlegend": true,
         "text": [
          "VAN - PASSENGER",
          "VAN - PASSENGER",
          "VAN - PASSENGER",
          "VAN - PASSENGER",
          "VAN - PASSENGER",
          "VAN - PASSENGER",
          "VAN - PASSENGER",
          "VAN - PASSENGER",
          "VAN - PASSENGER",
          "VAN - PASSENGER",
          "VAN - PASSENGER",
          "VAN - PASSENGER",
          "VAN - PASSENGER",
          "VAN - PASSENGER",
          "VAN - PASSENGER",
          "VAN - PASSENGER",
          "VAN - PASSENGER",
          "VAN - PASSENGER",
          "VAN - PASSENGER",
          "VAN - PASSENGER",
          "VAN - PASSENGER",
          "VAN - PASSENGER"
         ],
         "textposition": "auto",
         "type": "bar",
         "x": [
          2000,
          2001,
          2002,
          2003,
          2004,
          2005,
          2006,
          2007,
          2008,
          2009,
          2010,
          2011,
          2012,
          2013,
          2014,
          2015,
          2016,
          2017,
          2018,
          2019,
          2020,
          2021
         ],
         "xaxis": "x",
         "y": [
          17,
          18,
          18,
          13,
          11,
          12,
          8,
          12,
          12,
          12,
          8,
          27,
          31,
          30,
          25,
          19,
          7,
          7,
          2,
          2,
          4,
          4
         ],
         "yaxis": "y"
        },
        {
         "alignmentgroup": "True",
         "hovertemplate": "<b>Class: %{text}</b><br>Year: %{x}</br>Count: %{y}<br>",
         "legendgroup": "SUV - STANDARD",
         "marker": {
          "color": "#B68E00",
          "pattern": {
           "shape": ""
          }
         },
         "name": "SUV - STANDARD",
         "offsetgroup": "SUV - STANDARD",
         "orientation": "v",
         "showlegend": true,
         "text": [
          "SUV - STANDARD",
          "SUV - STANDARD",
          "SUV - STANDARD",
          "SUV - STANDARD",
          "SUV - STANDARD",
          "SUV - STANDARD",
          "SUV - STANDARD",
          "SUV - STANDARD",
          "SUV - STANDARD",
          "SUV - STANDARD",
          "SUV - STANDARD",
          "SUV - STANDARD"
         ],
         "textposition": "auto",
         "type": "bar",
         "x": [
          2007,
          2012,
          2013,
          2014,
          2015,
          2016,
          2017,
          2018,
          2019,
          2020,
          2021,
          2022
         ],
         "xaxis": "x",
         "y": [
          1,
          2,
          101,
          102,
          99,
          107,
          102,
          103,
          111,
          118,
          127,
          149
         ],
         "yaxis": "y"
        },
        {
         "alignmentgroup": "True",
         "hovertemplate": "<b>Class: %{text}</b><br>Year: %{x}</br>Count: %{y}<br>",
         "legendgroup": "SPECIAL PURPOSE VEHICLE",
         "marker": {
          "color": "#C9FBE5",
          "pattern": {
           "shape": ""
          }
         },
         "name": "SPECIAL PURPOSE VEHICLE",
         "offsetgroup": "SPECIAL PURPOSE VEHICLE",
         "orientation": "v",
         "showlegend": true,
         "text": [
          "SPECIAL PURPOSE VEHICLE",
          "SPECIAL PURPOSE VEHICLE",
          "SPECIAL PURPOSE VEHICLE",
          "SPECIAL PURPOSE VEHICLE",
          "SPECIAL PURPOSE VEHICLE",
          "SPECIAL PURPOSE VEHICLE",
          "SPECIAL PURPOSE VEHICLE",
          "SPECIAL PURPOSE VEHICLE",
          "SPECIAL PURPOSE VEHICLE",
          "SPECIAL PURPOSE VEHICLE",
          "SPECIAL PURPOSE VEHICLE",
          "SPECIAL PURPOSE VEHICLE",
          "SPECIAL PURPOSE VEHICLE"
         ],
         "textposition": "auto",
         "type": "bar",
         "x": [
          2010,
          2011,
          2012,
          2013,
          2014,
          2015,
          2016,
          2017,
          2018,
          2019,
          2020,
          2021,
          2022
         ],
         "xaxis": "x",
         "y": [
          1,
          1,
          2,
          5,
          7,
          9,
          17,
          10,
          10,
          14,
          13,
          13,
          12
         ],
         "yaxis": "y"
        },
        {
         "alignmentgroup": "True",
         "hovertemplate": "<b>Class: %{text}</b><br>Year: %{x}</br>Count: %{y}<br>",
         "legendgroup": "SUV - SMALL",
         "marker": {
          "color": "#FF0092",
          "pattern": {
           "shape": ""
          }
         },
         "name": "SUV - SMALL",
         "offsetgroup": "SUV - SMALL",
         "orientation": "v",
         "showlegend": true,
         "text": [
          "SUV - SMALL",
          "SUV - SMALL",
          "SUV - SMALL",
          "SUV - SMALL",
          "SUV - SMALL",
          "SUV - SMALL",
          "SUV - SMALL",
          "SUV - SMALL",
          "SUV - SMALL",
          "SUV - SMALL"
         ],
         "textposition": "auto",
         "type": "bar",
         "x": [
          2013,
          2014,
          2015,
          2016,
          2017,
          2018,
          2019,
          2020,
          2021,
          2022
         ],
         "xaxis": "x",
         "y": [
          139,
          155,
          179,
          180,
          174,
          177,
          174,
          188,
          193,
          197
         ],
         "yaxis": "y"
        }
       ],
       "layout": {
        "barmode": "relative",
        "hovermode": "closest",
        "legend": {
         "title": {
          "text": "color"
         },
         "tracegroupgap": 0
        },
        "template": {
         "data": {
          "bar": [
           {
            "error_x": {
             "color": "#2a3f5f"
            },
            "error_y": {
             "color": "#2a3f5f"
            },
            "marker": {
             "line": {
              "color": "#E5ECF6",
              "width": 0.5
             },
             "pattern": {
              "fillmode": "overlay",
              "size": 10,
              "solidity": 0.2
             }
            },
            "type": "bar"
           }
          ],
          "barpolar": [
           {
            "marker": {
             "line": {
              "color": "#E5ECF6",
              "width": 0.5
             },
             "pattern": {
              "fillmode": "overlay",
              "size": 10,
              "solidity": 0.2
             }
            },
            "type": "barpolar"
           }
          ],
          "carpet": [
           {
            "aaxis": {
             "endlinecolor": "#2a3f5f",
             "gridcolor": "white",
             "linecolor": "white",
             "minorgridcolor": "white",
             "startlinecolor": "#2a3f5f"
            },
            "baxis": {
             "endlinecolor": "#2a3f5f",
             "gridcolor": "white",
             "linecolor": "white",
             "minorgridcolor": "white",
             "startlinecolor": "#2a3f5f"
            },
            "type": "carpet"
           }
          ],
          "choropleth": [
           {
            "colorbar": {
             "outlinewidth": 0,
             "ticks": ""
            },
            "type": "choropleth"
           }
          ],
          "contour": [
           {
            "colorbar": {
             "outlinewidth": 0,
             "ticks": ""
            },
            "colorscale": [
             [
              0,
              "#0d0887"
             ],
             [
              0.1111111111111111,
              "#46039f"
             ],
             [
              0.2222222222222222,
              "#7201a8"
             ],
             [
              0.3333333333333333,
              "#9c179e"
             ],
             [
              0.4444444444444444,
              "#bd3786"
             ],
             [
              0.5555555555555556,
              "#d8576b"
             ],
             [
              0.6666666666666666,
              "#ed7953"
             ],
             [
              0.7777777777777778,
              "#fb9f3a"
             ],
             [
              0.8888888888888888,
              "#fdca26"
             ],
             [
              1,
              "#f0f921"
             ]
            ],
            "type": "contour"
           }
          ],
          "contourcarpet": [
           {
            "colorbar": {
             "outlinewidth": 0,
             "ticks": ""
            },
            "type": "contourcarpet"
           }
          ],
          "heatmap": [
           {
            "colorbar": {
             "outlinewidth": 0,
             "ticks": ""
            },
            "colorscale": [
             [
              0,
              "#0d0887"
             ],
             [
              0.1111111111111111,
              "#46039f"
             ],
             [
              0.2222222222222222,
              "#7201a8"
             ],
             [
              0.3333333333333333,
              "#9c179e"
             ],
             [
              0.4444444444444444,
              "#bd3786"
             ],
             [
              0.5555555555555556,
              "#d8576b"
             ],
             [
              0.6666666666666666,
              "#ed7953"
             ],
             [
              0.7777777777777778,
              "#fb9f3a"
             ],
             [
              0.8888888888888888,
              "#fdca26"
             ],
             [
              1,
              "#f0f921"
             ]
            ],
            "type": "heatmap"
           }
          ],
          "heatmapgl": [
           {
            "colorbar": {
             "outlinewidth": 0,
             "ticks": ""
            },
            "colorscale": [
             [
              0,
              "#0d0887"
             ],
             [
              0.1111111111111111,
              "#46039f"
             ],
             [
              0.2222222222222222,
              "#7201a8"
             ],
             [
              0.3333333333333333,
              "#9c179e"
             ],
             [
              0.4444444444444444,
              "#bd3786"
             ],
             [
              0.5555555555555556,
              "#d8576b"
             ],
             [
              0.6666666666666666,
              "#ed7953"
             ],
             [
              0.7777777777777778,
              "#fb9f3a"
             ],
             [
              0.8888888888888888,
              "#fdca26"
             ],
             [
              1,
              "#f0f921"
             ]
            ],
            "type": "heatmapgl"
           }
          ],
          "histogram": [
           {
            "marker": {
             "pattern": {
              "fillmode": "overlay",
              "size": 10,
              "solidity": 0.2
             }
            },
            "type": "histogram"
           }
          ],
          "histogram2d": [
           {
            "colorbar": {
             "outlinewidth": 0,
             "ticks": ""
            },
            "colorscale": [
             [
              0,
              "#0d0887"
             ],
             [
              0.1111111111111111,
              "#46039f"
             ],
             [
              0.2222222222222222,
              "#7201a8"
             ],
             [
              0.3333333333333333,
              "#9c179e"
             ],
             [
              0.4444444444444444,
              "#bd3786"
             ],
             [
              0.5555555555555556,
              "#d8576b"
             ],
             [
              0.6666666666666666,
              "#ed7953"
             ],
             [
              0.7777777777777778,
              "#fb9f3a"
             ],
             [
              0.8888888888888888,
              "#fdca26"
             ],
             [
              1,
              "#f0f921"
             ]
            ],
            "type": "histogram2d"
           }
          ],
          "histogram2dcontour": [
           {
            "colorbar": {
             "outlinewidth": 0,
             "ticks": ""
            },
            "colorscale": [
             [
              0,
              "#0d0887"
             ],
             [
              0.1111111111111111,
              "#46039f"
             ],
             [
              0.2222222222222222,
              "#7201a8"
             ],
             [
              0.3333333333333333,
              "#9c179e"
             ],
             [
              0.4444444444444444,
              "#bd3786"
             ],
             [
              0.5555555555555556,
              "#d8576b"
             ],
             [
              0.6666666666666666,
              "#ed7953"
             ],
             [
              0.7777777777777778,
              "#fb9f3a"
             ],
             [
              0.8888888888888888,
              "#fdca26"
             ],
             [
              1,
              "#f0f921"
             ]
            ],
            "type": "histogram2dcontour"
           }
          ],
          "mesh3d": [
           {
            "colorbar": {
             "outlinewidth": 0,
             "ticks": ""
            },
            "type": "mesh3d"
           }
          ],
          "parcoords": [
           {
            "line": {
             "colorbar": {
              "outlinewidth": 0,
              "ticks": ""
             }
            },
            "type": "parcoords"
           }
          ],
          "pie": [
           {
            "automargin": true,
            "type": "pie"
           }
          ],
          "scatter": [
           {
            "fillpattern": {
             "fillmode": "overlay",
             "size": 10,
             "solidity": 0.2
            },
            "type": "scatter"
           }
          ],
          "scatter3d": [
           {
            "line": {
             "colorbar": {
              "outlinewidth": 0,
              "ticks": ""
             }
            },
            "marker": {
             "colorbar": {
              "outlinewidth": 0,
              "ticks": ""
             }
            },
            "type": "scatter3d"
           }
          ],
          "scattercarpet": [
           {
            "marker": {
             "colorbar": {
              "outlinewidth": 0,
              "ticks": ""
             }
            },
            "type": "scattercarpet"
           }
          ],
          "scattergeo": [
           {
            "marker": {
             "colorbar": {
              "outlinewidth": 0,
              "ticks": ""
             }
            },
            "type": "scattergeo"
           }
          ],
          "scattergl": [
           {
            "marker": {
             "colorbar": {
              "outlinewidth": 0,
              "ticks": ""
             }
            },
            "type": "scattergl"
           }
          ],
          "scattermapbox": [
           {
            "marker": {
             "colorbar": {
              "outlinewidth": 0,
              "ticks": ""
             }
            },
            "type": "scattermapbox"
           }
          ],
          "scatterpolar": [
           {
            "marker": {
             "colorbar": {
              "outlinewidth": 0,
              "ticks": ""
             }
            },
            "type": "scatterpolar"
           }
          ],
          "scatterpolargl": [
           {
            "marker": {
             "colorbar": {
              "outlinewidth": 0,
              "ticks": ""
             }
            },
            "type": "scatterpolargl"
           }
          ],
          "scatterternary": [
           {
            "marker": {
             "colorbar": {
              "outlinewidth": 0,
              "ticks": ""
             }
            },
            "type": "scatterternary"
           }
          ],
          "surface": [
           {
            "colorbar": {
             "outlinewidth": 0,
             "ticks": ""
            },
            "colorscale": [
             [
              0,
              "#0d0887"
             ],
             [
              0.1111111111111111,
              "#46039f"
             ],
             [
              0.2222222222222222,
              "#7201a8"
             ],
             [
              0.3333333333333333,
              "#9c179e"
             ],
             [
              0.4444444444444444,
              "#bd3786"
             ],
             [
              0.5555555555555556,
              "#d8576b"
             ],
             [
              0.6666666666666666,
              "#ed7953"
             ],
             [
              0.7777777777777778,
              "#fb9f3a"
             ],
             [
              0.8888888888888888,
              "#fdca26"
             ],
             [
              1,
              "#f0f921"
             ]
            ],
            "type": "surface"
           }
          ],
          "table": [
           {
            "cells": {
             "fill": {
              "color": "#EBF0F8"
             },
             "line": {
              "color": "white"
             }
            },
            "header": {
             "fill": {
              "color": "#C8D4E3"
             },
             "line": {
              "color": "white"
             }
            },
            "type": "table"
           }
          ]
         },
         "layout": {
          "annotationdefaults": {
           "arrowcolor": "#2a3f5f",
           "arrowhead": 0,
           "arrowwidth": 1
          },
          "autotypenumbers": "strict",
          "coloraxis": {
           "colorbar": {
            "outlinewidth": 0,
            "ticks": ""
           }
          },
          "colorscale": {
           "diverging": [
            [
             0,
             "#8e0152"
            ],
            [
             0.1,
             "#c51b7d"
            ],
            [
             0.2,
             "#de77ae"
            ],
            [
             0.3,
             "#f1b6da"
            ],
            [
             0.4,
             "#fde0ef"
            ],
            [
             0.5,
             "#f7f7f7"
            ],
            [
             0.6,
             "#e6f5d0"
            ],
            [
             0.7,
             "#b8e186"
            ],
            [
             0.8,
             "#7fbc41"
            ],
            [
             0.9,
             "#4d9221"
            ],
            [
             1,
             "#276419"
            ]
           ],
           "sequential": [
            [
             0,
             "#0d0887"
            ],
            [
             0.1111111111111111,
             "#46039f"
            ],
            [
             0.2222222222222222,
             "#7201a8"
            ],
            [
             0.3333333333333333,
             "#9c179e"
            ],
            [
             0.4444444444444444,
             "#bd3786"
            ],
            [
             0.5555555555555556,
             "#d8576b"
            ],
            [
             0.6666666666666666,
             "#ed7953"
            ],
            [
             0.7777777777777778,
             "#fb9f3a"
            ],
            [
             0.8888888888888888,
             "#fdca26"
            ],
            [
             1,
             "#f0f921"
            ]
           ],
           "sequentialminus": [
            [
             0,
             "#0d0887"
            ],
            [
             0.1111111111111111,
             "#46039f"
            ],
            [
             0.2222222222222222,
             "#7201a8"
            ],
            [
             0.3333333333333333,
             "#9c179e"
            ],
            [
             0.4444444444444444,
             "#bd3786"
            ],
            [
             0.5555555555555556,
             "#d8576b"
            ],
            [
             0.6666666666666666,
             "#ed7953"
            ],
            [
             0.7777777777777778,
             "#fb9f3a"
            ],
            [
             0.8888888888888888,
             "#fdca26"
            ],
            [
             1,
             "#f0f921"
            ]
           ]
          },
          "colorway": [
           "#636efa",
           "#EF553B",
           "#00cc96",
           "#ab63fa",
           "#FFA15A",
           "#19d3f3",
           "#FF6692",
           "#B6E880",
           "#FF97FF",
           "#FECB52"
          ],
          "font": {
           "color": "#2a3f5f"
          },
          "geo": {
           "bgcolor": "white",
           "lakecolor": "white",
           "landcolor": "#E5ECF6",
           "showlakes": true,
           "showland": true,
           "subunitcolor": "white"
          },
          "hoverlabel": {
           "align": "left"
          },
          "hovermode": "closest",
          "mapbox": {
           "style": "light"
          },
          "paper_bgcolor": "white",
          "plot_bgcolor": "#E5ECF6",
          "polar": {
           "angularaxis": {
            "gridcolor": "white",
            "linecolor": "white",
            "ticks": ""
           },
           "bgcolor": "#E5ECF6",
           "radialaxis": {
            "gridcolor": "white",
            "linecolor": "white",
            "ticks": ""
           }
          },
          "scene": {
           "xaxis": {
            "backgroundcolor": "#E5ECF6",
            "gridcolor": "white",
            "gridwidth": 2,
            "linecolor": "white",
            "showbackground": true,
            "ticks": "",
            "zerolinecolor": "white"
           },
           "yaxis": {
            "backgroundcolor": "#E5ECF6",
            "gridcolor": "white",
            "gridwidth": 2,
            "linecolor": "white",
            "showbackground": true,
            "ticks": "",
            "zerolinecolor": "white"
           },
           "zaxis": {
            "backgroundcolor": "#E5ECF6",
            "gridcolor": "white",
            "gridwidth": 2,
            "linecolor": "white",
            "showbackground": true,
            "ticks": "",
            "zerolinecolor": "white"
           }
          },
          "shapedefaults": {
           "line": {
            "color": "#2a3f5f"
           }
          },
          "ternary": {
           "aaxis": {
            "gridcolor": "white",
            "linecolor": "white",
            "ticks": ""
           },
           "baxis": {
            "gridcolor": "white",
            "linecolor": "white",
            "ticks": ""
           },
           "bgcolor": "#E5ECF6",
           "caxis": {
            "gridcolor": "white",
            "linecolor": "white",
            "ticks": ""
           }
          },
          "title": {
           "x": 0.05
          },
          "xaxis": {
           "automargin": true,
           "gridcolor": "white",
           "linecolor": "white",
           "ticks": "",
           "title": {
            "standoff": 15
           },
           "zerolinecolor": "white",
           "zerolinewidth": 2
          },
          "yaxis": {
           "automargin": true,
           "gridcolor": "white",
           "linecolor": "white",
           "ticks": "",
           "title": {
            "standoff": 15
           },
           "zerolinecolor": "white",
           "zerolinewidth": 2
          }
         }
        },
        "title": {
         "text": "Vehicle Class focus per Year"
        },
        "xaxis": {
         "anchor": "y",
         "domain": [
          0,
          1
         ],
         "minor": {
          "showgrid": true,
          "tickcolor": "black"
         },
         "tickangle": 45,
         "title": {
          "text": "Year"
         }
        },
        "yaxis": {
         "anchor": "x",
         "domain": [
          0,
          1
         ],
         "minor": {
          "showgrid": true,
          "tickcolor": "black",
          "ticklen": 5
         },
         "title": {
          "text": "Number of Vehicles grouped by Class"
         }
        }
       }
      },
      "text/html": [
       "<div>                            <div id=\"db448307-3e71-42e8-a281-177e70b55ac9\" class=\"plotly-graph-div\" style=\"height:525px; width:100%;\"></div>            <script type=\"text/javascript\">                require([\"plotly\"], function(Plotly) {                    window.PLOTLYENV=window.PLOTLYENV || {};                                    if (document.getElementById(\"db448307-3e71-42e8-a281-177e70b55ac9\")) {                    Plotly.newPlot(                        \"db448307-3e71-42e8-a281-177e70b55ac9\",                        [{\"alignmentgroup\":\"True\",\"hovertemplate\":\"<b>Class: %{text}</b><br>Year: %{x}</br>Count: %{y}<br>\",\"legendgroup\":\"COMPACT\",\"marker\":{\"color\":\"#FD3216\",\"pattern\":{\"shape\":\"\"}},\"name\":\"COMPACT\",\"offsetgroup\":\"COMPACT\",\"orientation\":\"v\",\"showlegend\":true,\"text\":[\"COMPACT\",\"COMPACT\",\"COMPACT\",\"COMPACT\",\"COMPACT\",\"COMPACT\",\"COMPACT\",\"COMPACT\",\"COMPACT\",\"COMPACT\",\"COMPACT\",\"COMPACT\",\"COMPACT\",\"COMPACT\",\"COMPACT\",\"COMPACT\",\"COMPACT\",\"COMPACT\",\"COMPACT\",\"COMPACT\",\"COMPACT\",\"COMPACT\",\"COMPACT\"],\"textposition\":\"auto\",\"x\":[2000,2001,2002,2003,2004,2005,2006,2007,2008,2009,2010,2011,2012,2013,2014,2015,2016,2017,2018,2019,2020,2021,2022],\"xaxis\":\"x\",\"y\":[105.0,145.0,133.0,143.0,154.0,146.0,137.0,116.0,148.0,150.0,140.0,124.0,133.0,168.0,168.0,186.0,181.0,159.0,122.0,106.0,108.0,85.0,70.0],\"yaxis\":\"y\",\"type\":\"bar\"},{\"alignmentgroup\":\"True\",\"hovertemplate\":\"<b>Class: %{text}</b><br>Year: %{x}</br>Count: %{y}<br>\",\"legendgroup\":\"FULL-SIZE\",\"marker\":{\"color\":\"#00FE35\",\"pattern\":{\"shape\":\"\"}},\"name\":\"FULL-SIZE\",\"offsetgroup\":\"FULL-SIZE\",\"orientation\":\"v\",\"showlegend\":true,\"text\":[\"FULL-SIZE\",\"FULL-SIZE\",\"FULL-SIZE\",\"FULL-SIZE\",\"FULL-SIZE\",\"FULL-SIZE\",\"FULL-SIZE\",\"FULL-SIZE\",\"FULL-SIZE\",\"FULL-SIZE\",\"FULL-SIZE\",\"FULL-SIZE\",\"FULL-SIZE\",\"FULL-SIZE\",\"FULL-SIZE\",\"FULL-SIZE\",\"FULL-SIZE\",\"FULL-SIZE\",\"FULL-SIZE\",\"FULL-SIZE\",\"FULL-SIZE\",\"FULL-SIZE\",\"FULL-SIZE\"],\"textposition\":\"auto\",\"x\":[2000,2001,2002,2003,2004,2005,2006,2007,2008,2009,2010,2011,2012,2013,2014,2015,2016,2017,2018,2019,2020,2021,2022],\"xaxis\":\"x\",\"y\":[28.0,30.0,29.0,25.0,34.0,45.0,56.0,54.0,63.0,68.0,77.0,71.0,81.0,76.0,84.0,93.0,90.0,82.0,109.0,101.0,78.0,65.0,64.0],\"yaxis\":\"y\",\"type\":\"bar\"},{\"alignmentgroup\":\"True\",\"hovertemplate\":\"<b>Class: %{text}</b><br>Year: %{x}</br>Count: %{y}<br>\",\"legendgroup\":\"MID-SIZE\",\"marker\":{\"color\":\"#6A76FC\",\"pattern\":{\"shape\":\"\"}},\"name\":\"MID-SIZE\",\"offsetgroup\":\"MID-SIZE\",\"orientation\":\"v\",\"showlegend\":true,\"text\":[\"MID-SIZE\",\"MID-SIZE\",\"MID-SIZE\",\"MID-SIZE\",\"MID-SIZE\",\"MID-SIZE\",\"MID-SIZE\",\"MID-SIZE\",\"MID-SIZE\",\"MID-SIZE\",\"MID-SIZE\",\"MID-SIZE\",\"MID-SIZE\",\"MID-SIZE\",\"MID-SIZE\",\"MID-SIZE\",\"MID-SIZE\",\"MID-SIZE\",\"MID-SIZE\",\"MID-SIZE\",\"MID-SIZE\",\"MID-SIZE\",\"MID-SIZE\"],\"textposition\":\"auto\",\"x\":[2000,2001,2002,2003,2004,2005,2006,2007,2008,2009,2010,2011,2012,2013,2014,2015,2016,2017,2018,2019,2020,2021,2022],\"xaxis\":\"x\",\"y\":[77.0,82.0,90.0,89.0,103.0,114.0,111.0,139.0,134.0,125.0,120.0,132.0,131.0,153.0,170.0,180.0,188.0,162.0,158.0,145.0,126.0,114.0,117.0],\"yaxis\":\"y\",\"type\":\"bar\"},{\"alignmentgroup\":\"True\",\"hovertemplate\":\"<b>Class: %{text}</b><br>Year: %{x}</br>Count: %{y}<br>\",\"legendgroup\":\"MINICOMPACT\",\"marker\":{\"color\":\"#FED4C4\",\"pattern\":{\"shape\":\"\"}},\"name\":\"MINICOMPACT\",\"offsetgroup\":\"MINICOMPACT\",\"orientation\":\"v\",\"showlegend\":true,\"text\":[\"MINICOMPACT\",\"MINICOMPACT\",\"MINICOMPACT\",\"MINICOMPACT\",\"MINICOMPACT\",\"MINICOMPACT\",\"MINICOMPACT\",\"MINICOMPACT\",\"MINICOMPACT\",\"MINICOMPACT\",\"MINICOMPACT\",\"MINICOMPACT\",\"MINICOMPACT\",\"MINICOMPACT\",\"MINICOMPACT\",\"MINICOMPACT\",\"MINICOMPACT\",\"MINICOMPACT\",\"MINICOMPACT\",\"MINICOMPACT\",\"MINICOMPACT\",\"MINICOMPACT\",\"MINICOMPACT\"],\"textposition\":\"auto\",\"x\":[2000,2001,2002,2003,2004,2005,2006,2007,2008,2009,2010,2011,2012,2013,2014,2015,2016,2017,2018,2019,2020,2021,2022],\"xaxis\":\"x\",\"y\":[11.0,17.0,22.0,33.0,25.0,74.0,37.0,47.0,49.0,43.0,41.0,53.0,76.0,53.0,47.0,59.0,52.0,44.0,53.0,56.0,23.0,30.0,49.0],\"yaxis\":\"y\",\"type\":\"bar\"},{\"alignmentgroup\":\"True\",\"hovertemplate\":\"<b>Class: %{text}</b><br>Year: %{x}</br>Count: %{y}<br>\",\"legendgroup\":\"MINIVAN\",\"marker\":{\"color\":\"#FE00CE\",\"pattern\":{\"shape\":\"\"}},\"name\":\"MINIVAN\",\"offsetgroup\":\"MINIVAN\",\"orientation\":\"v\",\"showlegend\":true,\"text\":[\"MINIVAN\",\"MINIVAN\",\"MINIVAN\",\"MINIVAN\",\"MINIVAN\",\"MINIVAN\",\"MINIVAN\",\"MINIVAN\",\"MINIVAN\",\"MINIVAN\",\"MINIVAN\",\"MINIVAN\",\"MINIVAN\",\"MINIVAN\",\"MINIVAN\",\"MINIVAN\",\"MINIVAN\",\"MINIVAN\",\"MINIVAN\",\"MINIVAN\",\"MINIVAN\",\"MINIVAN\",\"MINIVAN\"],\"textposition\":\"auto\",\"x\":[2000,2001,2002,2003,2004,2005,2006,2007,2008,2009,2010,2011,2012,2013,2014,2015,2016,2017,2018,2019,2020,2021,2022],\"xaxis\":\"x\",\"y\":[26.0,17.0,22.0,28.0,21.0,33.0,35.0,34.0,22.0,16.0,14.0,14.0,16.0,15.0,14.0,15.0,12.0,12.0,11.0,9.0,8.0,7.0,7.0],\"yaxis\":\"y\",\"type\":\"bar\"},{\"alignmentgroup\":\"True\",\"hovertemplate\":\"<b>Class: %{text}</b><br>Year: %{x}</br>Count: %{y}<br>\",\"legendgroup\":\"PICKUP TRUCK - SMALL\",\"marker\":{\"color\":\"#0DF9FF\",\"pattern\":{\"shape\":\"\"}},\"name\":\"PICKUP TRUCK - SMALL\",\"offsetgroup\":\"PICKUP TRUCK - SMALL\",\"orientation\":\"v\",\"showlegend\":true,\"text\":[\"PICKUP TRUCK - SMALL\",\"PICKUP TRUCK - SMALL\",\"PICKUP TRUCK - SMALL\",\"PICKUP TRUCK - SMALL\",\"PICKUP TRUCK - SMALL\",\"PICKUP TRUCK - SMALL\",\"PICKUP TRUCK - SMALL\",\"PICKUP TRUCK - SMALL\",\"PICKUP TRUCK - SMALL\",\"PICKUP TRUCK - SMALL\",\"PICKUP TRUCK - SMALL\",\"PICKUP TRUCK - SMALL\",\"PICKUP TRUCK - SMALL\",\"PICKUP TRUCK - SMALL\",\"PICKUP TRUCK - SMALL\",\"PICKUP TRUCK - SMALL\",\"PICKUP TRUCK - SMALL\",\"PICKUP TRUCK - SMALL\",\"PICKUP TRUCK - SMALL\",\"PICKUP TRUCK - SMALL\"],\"textposition\":\"auto\",\"x\":[2000,2001,2002,2003,2004,2008,2009,2010,2011,2012,2013,2014,2015,2016,2017,2018,2019,2020,2021,2022],\"xaxis\":\"x\",\"y\":[11.0,12.0,12.0,8.0,1.0,52.0,59.0,54.0,51.0,43.0,12.0,12.0,22.0,26.0,28.0,27.0,25.0,19.0,17.0,20.0],\"yaxis\":\"y\",\"type\":\"bar\"},{\"alignmentgroup\":\"True\",\"hovertemplate\":\"<b>Class: %{text}</b><br>Year: %{x}</br>Count: %{y}<br>\",\"legendgroup\":\"PICKUP TRUCK - STANDARD\",\"marker\":{\"color\":\"#F6F926\",\"pattern\":{\"shape\":\"\"}},\"name\":\"PICKUP TRUCK - STANDARD\",\"offsetgroup\":\"PICKUP TRUCK - STANDARD\",\"orientation\":\"v\",\"showlegend\":true,\"text\":[\"PICKUP TRUCK - STANDARD\",\"PICKUP TRUCK - STANDARD\",\"PICKUP TRUCK - STANDARD\",\"PICKUP TRUCK - STANDARD\",\"PICKUP TRUCK - STANDARD\",\"PICKUP TRUCK - STANDARD\",\"PICKUP TRUCK - STANDARD\",\"PICKUP TRUCK - STANDARD\",\"PICKUP TRUCK - STANDARD\",\"PICKUP TRUCK - STANDARD\",\"PICKUP TRUCK - STANDARD\",\"PICKUP TRUCK - STANDARD\",\"PICKUP TRUCK - STANDARD\",\"PICKUP TRUCK - STANDARD\",\"PICKUP TRUCK - STANDARD\",\"PICKUP TRUCK - STANDARD\",\"PICKUP TRUCK - STANDARD\",\"PICKUP TRUCK - STANDARD\",\"PICKUP TRUCK - STANDARD\",\"PICKUP TRUCK - STANDARD\",\"PICKUP TRUCK - STANDARD\",\"PICKUP TRUCK - STANDARD\",\"PICKUP TRUCK - STANDARD\"],\"textposition\":\"auto\",\"x\":[2000,2001,2002,2003,2004,2005,2006,2007,2008,2009,2010,2011,2012,2013,2014,2015,2016,2017,2018,2019,2020,2021,2022],\"xaxis\":\"x\",\"y\":[92.0,101.0,107.0,106.0,122.0,127.0,141.0,154.0,72.0,95.0,73.0,85.0,79.0,84.0,62.0,52.0,62.0,75.0,97.0,99.0,91.0,115.0,113.0],\"yaxis\":\"y\",\"type\":\"bar\"},{\"alignmentgroup\":\"True\",\"hovertemplate\":\"<b>Class: %{text}</b><br>Year: %{x}</br>Count: %{y}<br>\",\"legendgroup\":\"STATION WAGON - MID-SIZE\",\"marker\":{\"color\":\"#FF9616\",\"pattern\":{\"shape\":\"\"}},\"name\":\"STATION WAGON - MID-SIZE\",\"offsetgroup\":\"STATION WAGON - MID-SIZE\",\"orientation\":\"v\",\"showlegend\":true,\"text\":[\"STATION WAGON - MID-SIZE\",\"STATION WAGON - MID-SIZE\",\"STATION WAGON - MID-SIZE\",\"STATION WAGON - MID-SIZE\",\"STATION WAGON - MID-SIZE\",\"STATION WAGON - MID-SIZE\",\"STATION WAGON - MID-SIZE\",\"STATION WAGON - MID-SIZE\",\"STATION WAGON - MID-SIZE\",\"STATION WAGON - MID-SIZE\",\"STATION WAGON - MID-SIZE\",\"STATION WAGON - MID-SIZE\",\"STATION WAGON - MID-SIZE\",\"STATION WAGON - MID-SIZE\",\"STATION WAGON - MID-SIZE\",\"STATION WAGON - MID-SIZE\",\"STATION WAGON - MID-SIZE\",\"STATION WAGON - MID-SIZE\",\"STATION WAGON - MID-SIZE\",\"STATION WAGON - MID-SIZE\",\"STATION WAGON - MID-SIZE\",\"STATION WAGON - MID-SIZE\",\"STATION WAGON - MID-SIZE\"],\"textposition\":\"auto\",\"x\":[2000,2001,2002,2003,2004,2005,2006,2007,2008,2009,2010,2011,2012,2013,2014,2015,2016,2017,2018,2019,2020,2021,2022],\"xaxis\":\"x\",\"y\":[25.0,31.0,32.0,35.0,41.0,38.0,28.0,32.0,18.0,13.0,9.0,4.0,5.0,3.0,6.0,8.0,7.0,8.0,10.0,9.0,8.0,9.0,8.0],\"yaxis\":\"y\",\"type\":\"bar\"},{\"alignmentgroup\":\"True\",\"hovertemplate\":\"<b>Class: %{text}</b><br>Year: %{x}</br>Count: %{y}<br>\",\"legendgroup\":\"STATION WAGON - SMALL\",\"marker\":{\"color\":\"#479B55\",\"pattern\":{\"shape\":\"\"}},\"name\":\"STATION WAGON - SMALL\",\"offsetgroup\":\"STATION WAGON - SMALL\",\"orientation\":\"v\",\"showlegend\":true,\"text\":[\"STATION WAGON - SMALL\",\"STATION WAGON - SMALL\",\"STATION WAGON - SMALL\",\"STATION WAGON - SMALL\",\"STATION WAGON - SMALL\",\"STATION WAGON - SMALL\",\"STATION WAGON - SMALL\",\"STATION WAGON - SMALL\",\"STATION WAGON - SMALL\",\"STATION WAGON - SMALL\",\"STATION WAGON - SMALL\",\"STATION WAGON - SMALL\",\"STATION WAGON - SMALL\",\"STATION WAGON - SMALL\",\"STATION WAGON - SMALL\",\"STATION WAGON - SMALL\",\"STATION WAGON - SMALL\",\"STATION WAGON - SMALL\",\"STATION WAGON - SMALL\",\"STATION WAGON - SMALL\",\"STATION WAGON - SMALL\",\"STATION WAGON - SMALL\",\"STATION WAGON - SMALL\"],\"textposition\":\"auto\",\"x\":[2000,2001,2002,2003,2004,2005,2006,2007,2008,2009,2010,2011,2012,2013,2014,2015,2016,2017,2018,2019,2020,2021,2022],\"xaxis\":\"x\",\"y\":[13.0,12.0,18.0,45.0,43.0,54.0,53.0,44.0,43.0,54.0,60.0,56.0,47.0,44.0,34.0,35.0,37.0,45.0,39.0,37.0,25.0,20.0,19.0],\"yaxis\":\"y\",\"type\":\"bar\"},{\"alignmentgroup\":\"True\",\"hovertemplate\":\"<b>Class: %{text}</b><br>Year: %{x}</br>Count: %{y}<br>\",\"legendgroup\":\"SUBCOMPACT\",\"marker\":{\"color\":\"#EEA6FB\",\"pattern\":{\"shape\":\"\"}},\"name\":\"SUBCOMPACT\",\"offsetgroup\":\"SUBCOMPACT\",\"orientation\":\"v\",\"showlegend\":true,\"text\":[\"SUBCOMPACT\",\"SUBCOMPACT\",\"SUBCOMPACT\",\"SUBCOMPACT\",\"SUBCOMPACT\",\"SUBCOMPACT\",\"SUBCOMPACT\",\"SUBCOMPACT\",\"SUBCOMPACT\",\"SUBCOMPACT\",\"SUBCOMPACT\",\"SUBCOMPACT\",\"SUBCOMPACT\",\"SUBCOMPACT\",\"SUBCOMPACT\",\"SUBCOMPACT\",\"SUBCOMPACT\",\"SUBCOMPACT\",\"SUBCOMPACT\",\"SUBCOMPACT\",\"SUBCOMPACT\",\"SUBCOMPACT\",\"SUBCOMPACT\"],\"textposition\":\"auto\",\"x\":[2000,2001,2002,2003,2004,2005,2006,2007,2008,2009,2010,2011,2012,2013,2014,2015,2016,2017,2018,2019,2020,2021,2022],\"xaxis\":\"x\",\"y\":[104.0,62.0,73.0,65.0,86.0,87.0,78.0,83.0,100.0,99.0,98.0,104.0,102.0,95.0,62.0,92.0,76.0,93.0,96.0,98.0,95.0,83.0,79.0],\"yaxis\":\"y\",\"type\":\"bar\"},{\"alignmentgroup\":\"True\",\"hovertemplate\":\"<b>Class: %{text}</b><br>Year: %{x}</br>Count: %{y}<br>\",\"legendgroup\":\"SUV\",\"marker\":{\"color\":\"#DC587D\",\"pattern\":{\"shape\":\"\"}},\"name\":\"SUV\",\"offsetgroup\":\"SUV\",\"orientation\":\"v\",\"showlegend\":true,\"text\":[\"SUV\",\"SUV\",\"SUV\",\"SUV\",\"SUV\",\"SUV\",\"SUV\",\"SUV\",\"SUV\",\"SUV\",\"SUV\",\"SUV\",\"SUV\"],\"textposition\":\"auto\",\"x\":[2000,2001,2002,2003,2004,2005,2006,2007,2008,2009,2010,2011,2012],\"xaxis\":\"x\",\"y\":[97.0,98.0,124.0,160.0,190.0,224.0,221.0,239.0,267.0,268.0,249.0,268.0,235.0],\"yaxis\":\"y\",\"type\":\"bar\"},{\"alignmentgroup\":\"True\",\"hovertemplate\":\"<b>Class: %{text}</b><br>Year: %{x}</br>Count: %{y}<br>\",\"legendgroup\":\"TWO-SEATER\",\"marker\":{\"color\":\"#D626FF\",\"pattern\":{\"shape\":\"\"}},\"name\":\"TWO-SEATER\",\"offsetgroup\":\"TWO-SEATER\",\"orientation\":\"v\",\"showlegend\":true,\"text\":[\"TWO-SEATER\",\"TWO-SEATER\",\"TWO-SEATER\",\"TWO-SEATER\",\"TWO-SEATER\",\"TWO-SEATER\",\"TWO-SEATER\",\"TWO-SEATER\",\"TWO-SEATER\",\"TWO-SEATER\",\"TWO-SEATER\",\"TWO-SEATER\",\"TWO-SEATER\",\"TWO-SEATER\",\"TWO-SEATER\",\"TWO-SEATER\",\"TWO-SEATER\",\"TWO-SEATER\",\"TWO-SEATER\",\"TWO-SEATER\",\"TWO-SEATER\",\"TWO-SEATER\",\"TWO-SEATER\"],\"textposition\":\"auto\",\"x\":[2000,2001,2002,2003,2004,2005,2006,2007,2008,2009,2010,2011,2012,2013,2014,2015,2016,2017,2018,2019,2020,2021,2022],\"xaxis\":\"x\",\"y\":[10.0,31.0,37.0,40.0,46.0,52.0,49.0,61.0,73.0,64.0,59.0,64.0,76.0,58.0,70.0,84.0,68.0,57.0,69.0,70.0,64.0,59.0,51.0],\"yaxis\":\"y\",\"type\":\"bar\"},{\"alignmentgroup\":\"True\",\"hovertemplate\":\"<b>Class: %{text}</b><br>Year: %{x}</br>Count: %{y}<br>\",\"legendgroup\":\"VAN - CARGO\",\"marker\":{\"color\":\"#6E899C\",\"pattern\":{\"shape\":\"\"}},\"name\":\"VAN - CARGO\",\"offsetgroup\":\"VAN - CARGO\",\"orientation\":\"v\",\"showlegend\":true,\"text\":[\"VAN - CARGO\",\"VAN - CARGO\",\"VAN - CARGO\",\"VAN - CARGO\",\"VAN - CARGO\",\"VAN - CARGO\",\"VAN - CARGO\",\"VAN - CARGO\",\"VAN - CARGO\",\"VAN - CARGO\",\"VAN - CARGO\",\"VAN - CARGO\",\"VAN - CARGO\",\"VAN - CARGO\",\"VAN - CARGO\"],\"textposition\":\"auto\",\"x\":[2000,2001,2002,2003,2004,2005,2006,2007,2008,2009,2010,2011,2012,2013,2014],\"xaxis\":\"x\",\"y\":[23.0,23.0,23.0,30.0,21.0,13.0,14.0,27.0,26.0,26.0,18.0,22.0,22.0,22.0,22.0],\"yaxis\":\"y\",\"type\":\"bar\"},{\"alignmentgroup\":\"True\",\"hovertemplate\":\"<b>Class: %{text}</b><br>Year: %{x}</br>Count: %{y}<br>\",\"legendgroup\":\"VAN - PASSENGER\",\"marker\":{\"color\":\"#00B5F7\",\"pattern\":{\"shape\":\"\"}},\"name\":\"VAN - PASSENGER\",\"offsetgroup\":\"VAN - PASSENGER\",\"orientation\":\"v\",\"showlegend\":true,\"text\":[\"VAN - PASSENGER\",\"VAN - PASSENGER\",\"VAN - PASSENGER\",\"VAN - PASSENGER\",\"VAN - PASSENGER\",\"VAN - PASSENGER\",\"VAN - PASSENGER\",\"VAN - PASSENGER\",\"VAN - PASSENGER\",\"VAN - PASSENGER\",\"VAN - PASSENGER\",\"VAN - PASSENGER\",\"VAN - PASSENGER\",\"VAN - PASSENGER\",\"VAN - PASSENGER\",\"VAN - PASSENGER\",\"VAN - PASSENGER\",\"VAN - PASSENGER\",\"VAN - PASSENGER\",\"VAN - PASSENGER\",\"VAN - PASSENGER\",\"VAN - PASSENGER\"],\"textposition\":\"auto\",\"x\":[2000,2001,2002,2003,2004,2005,2006,2007,2008,2009,2010,2011,2012,2013,2014,2015,2016,2017,2018,2019,2020,2021],\"xaxis\":\"x\",\"y\":[17.0,18.0,18.0,13.0,11.0,12.0,8.0,12.0,12.0,12.0,8.0,27.0,31.0,30.0,25.0,19.0,7.0,7.0,2.0,2.0,4.0,4.0],\"yaxis\":\"y\",\"type\":\"bar\"},{\"alignmentgroup\":\"True\",\"hovertemplate\":\"<b>Class: %{text}</b><br>Year: %{x}</br>Count: %{y}<br>\",\"legendgroup\":\"SUV - STANDARD\",\"marker\":{\"color\":\"#B68E00\",\"pattern\":{\"shape\":\"\"}},\"name\":\"SUV - STANDARD\",\"offsetgroup\":\"SUV - STANDARD\",\"orientation\":\"v\",\"showlegend\":true,\"text\":[\"SUV - STANDARD\",\"SUV - STANDARD\",\"SUV - STANDARD\",\"SUV - STANDARD\",\"SUV - STANDARD\",\"SUV - STANDARD\",\"SUV - STANDARD\",\"SUV - STANDARD\",\"SUV - STANDARD\",\"SUV - STANDARD\",\"SUV - STANDARD\",\"SUV - STANDARD\"],\"textposition\":\"auto\",\"x\":[2007,2012,2013,2014,2015,2016,2017,2018,2019,2020,2021,2022],\"xaxis\":\"x\",\"y\":[1.0,2.0,101.0,102.0,99.0,107.0,102.0,103.0,111.0,118.0,127.0,149.0],\"yaxis\":\"y\",\"type\":\"bar\"},{\"alignmentgroup\":\"True\",\"hovertemplate\":\"<b>Class: %{text}</b><br>Year: %{x}</br>Count: %{y}<br>\",\"legendgroup\":\"SPECIAL PURPOSE VEHICLE\",\"marker\":{\"color\":\"#C9FBE5\",\"pattern\":{\"shape\":\"\"}},\"name\":\"SPECIAL PURPOSE VEHICLE\",\"offsetgroup\":\"SPECIAL PURPOSE VEHICLE\",\"orientation\":\"v\",\"showlegend\":true,\"text\":[\"SPECIAL PURPOSE VEHICLE\",\"SPECIAL PURPOSE VEHICLE\",\"SPECIAL PURPOSE VEHICLE\",\"SPECIAL PURPOSE VEHICLE\",\"SPECIAL PURPOSE VEHICLE\",\"SPECIAL PURPOSE VEHICLE\",\"SPECIAL PURPOSE VEHICLE\",\"SPECIAL PURPOSE VEHICLE\",\"SPECIAL PURPOSE VEHICLE\",\"SPECIAL PURPOSE VEHICLE\",\"SPECIAL PURPOSE VEHICLE\",\"SPECIAL PURPOSE VEHICLE\",\"SPECIAL PURPOSE VEHICLE\"],\"textposition\":\"auto\",\"x\":[2010,2011,2012,2013,2014,2015,2016,2017,2018,2019,2020,2021,2022],\"xaxis\":\"x\",\"y\":[1.0,1.0,2.0,5.0,7.0,9.0,17.0,10.0,10.0,14.0,13.0,13.0,12.0],\"yaxis\":\"y\",\"type\":\"bar\"},{\"alignmentgroup\":\"True\",\"hovertemplate\":\"<b>Class: %{text}</b><br>Year: %{x}</br>Count: %{y}<br>\",\"legendgroup\":\"SUV - SMALL\",\"marker\":{\"color\":\"#FF0092\",\"pattern\":{\"shape\":\"\"}},\"name\":\"SUV - SMALL\",\"offsetgroup\":\"SUV - SMALL\",\"orientation\":\"v\",\"showlegend\":true,\"text\":[\"SUV - SMALL\",\"SUV - SMALL\",\"SUV - SMALL\",\"SUV - SMALL\",\"SUV - SMALL\",\"SUV - SMALL\",\"SUV - SMALL\",\"SUV - SMALL\",\"SUV - SMALL\",\"SUV - SMALL\"],\"textposition\":\"auto\",\"x\":[2013,2014,2015,2016,2017,2018,2019,2020,2021,2022],\"xaxis\":\"x\",\"y\":[139.0,155.0,179.0,180.0,174.0,177.0,174.0,188.0,193.0,197.0],\"yaxis\":\"y\",\"type\":\"bar\"}],                        {\"template\":{\"data\":{\"histogram2dcontour\":[{\"type\":\"histogram2dcontour\",\"colorbar\":{\"outlinewidth\":0,\"ticks\":\"\"},\"colorscale\":[[0.0,\"#0d0887\"],[0.1111111111111111,\"#46039f\"],[0.2222222222222222,\"#7201a8\"],[0.3333333333333333,\"#9c179e\"],[0.4444444444444444,\"#bd3786\"],[0.5555555555555556,\"#d8576b\"],[0.6666666666666666,\"#ed7953\"],[0.7777777777777778,\"#fb9f3a\"],[0.8888888888888888,\"#fdca26\"],[1.0,\"#f0f921\"]]}],\"choropleth\":[{\"type\":\"choropleth\",\"colorbar\":{\"outlinewidth\":0,\"ticks\":\"\"}}],\"histogram2d\":[{\"type\":\"histogram2d\",\"colorbar\":{\"outlinewidth\":0,\"ticks\":\"\"},\"colorscale\":[[0.0,\"#0d0887\"],[0.1111111111111111,\"#46039f\"],[0.2222222222222222,\"#7201a8\"],[0.3333333333333333,\"#9c179e\"],[0.4444444444444444,\"#bd3786\"],[0.5555555555555556,\"#d8576b\"],[0.6666666666666666,\"#ed7953\"],[0.7777777777777778,\"#fb9f3a\"],[0.8888888888888888,\"#fdca26\"],[1.0,\"#f0f921\"]]}],\"heatmap\":[{\"type\":\"heatmap\",\"colorbar\":{\"outlinewidth\":0,\"ticks\":\"\"},\"colorscale\":[[0.0,\"#0d0887\"],[0.1111111111111111,\"#46039f\"],[0.2222222222222222,\"#7201a8\"],[0.3333333333333333,\"#9c179e\"],[0.4444444444444444,\"#bd3786\"],[0.5555555555555556,\"#d8576b\"],[0.6666666666666666,\"#ed7953\"],[0.7777777777777778,\"#fb9f3a\"],[0.8888888888888888,\"#fdca26\"],[1.0,\"#f0f921\"]]}],\"heatmapgl\":[{\"type\":\"heatmapgl\",\"colorbar\":{\"outlinewidth\":0,\"ticks\":\"\"},\"colorscale\":[[0.0,\"#0d0887\"],[0.1111111111111111,\"#46039f\"],[0.2222222222222222,\"#7201a8\"],[0.3333333333333333,\"#9c179e\"],[0.4444444444444444,\"#bd3786\"],[0.5555555555555556,\"#d8576b\"],[0.6666666666666666,\"#ed7953\"],[0.7777777777777778,\"#fb9f3a\"],[0.8888888888888888,\"#fdca26\"],[1.0,\"#f0f921\"]]}],\"contourcarpet\":[{\"type\":\"contourcarpet\",\"colorbar\":{\"outlinewidth\":0,\"ticks\":\"\"}}],\"contour\":[{\"type\":\"contour\",\"colorbar\":{\"outlinewidth\":0,\"ticks\":\"\"},\"colorscale\":[[0.0,\"#0d0887\"],[0.1111111111111111,\"#46039f\"],[0.2222222222222222,\"#7201a8\"],[0.3333333333333333,\"#9c179e\"],[0.4444444444444444,\"#bd3786\"],[0.5555555555555556,\"#d8576b\"],[0.6666666666666666,\"#ed7953\"],[0.7777777777777778,\"#fb9f3a\"],[0.8888888888888888,\"#fdca26\"],[1.0,\"#f0f921\"]]}],\"surface\":[{\"type\":\"surface\",\"colorbar\":{\"outlinewidth\":0,\"ticks\":\"\"},\"colorscale\":[[0.0,\"#0d0887\"],[0.1111111111111111,\"#46039f\"],[0.2222222222222222,\"#7201a8\"],[0.3333333333333333,\"#9c179e\"],[0.4444444444444444,\"#bd3786\"],[0.5555555555555556,\"#d8576b\"],[0.6666666666666666,\"#ed7953\"],[0.7777777777777778,\"#fb9f3a\"],[0.8888888888888888,\"#fdca26\"],[1.0,\"#f0f921\"]]}],\"mesh3d\":[{\"type\":\"mesh3d\",\"colorbar\":{\"outlinewidth\":0,\"ticks\":\"\"}}],\"scatter\":[{\"fillpattern\":{\"fillmode\":\"overlay\",\"size\":10,\"solidity\":0.2},\"type\":\"scatter\"}],\"parcoords\":[{\"type\":\"parcoords\",\"line\":{\"colorbar\":{\"outlinewidth\":0,\"ticks\":\"\"}}}],\"scatterpolargl\":[{\"type\":\"scatterpolargl\",\"marker\":{\"colorbar\":{\"outlinewidth\":0,\"ticks\":\"\"}}}],\"bar\":[{\"error_x\":{\"color\":\"#2a3f5f\"},\"error_y\":{\"color\":\"#2a3f5f\"},\"marker\":{\"line\":{\"color\":\"#E5ECF6\",\"width\":0.5},\"pattern\":{\"fillmode\":\"overlay\",\"size\":10,\"solidity\":0.2}},\"type\":\"bar\"}],\"scattergeo\":[{\"type\":\"scattergeo\",\"marker\":{\"colorbar\":{\"outlinewidth\":0,\"ticks\":\"\"}}}],\"scatterpolar\":[{\"type\":\"scatterpolar\",\"marker\":{\"colorbar\":{\"outlinewidth\":0,\"ticks\":\"\"}}}],\"histogram\":[{\"marker\":{\"pattern\":{\"fillmode\":\"overlay\",\"size\":10,\"solidity\":0.2}},\"type\":\"histogram\"}],\"scattergl\":[{\"type\":\"scattergl\",\"marker\":{\"colorbar\":{\"outlinewidth\":0,\"ticks\":\"\"}}}],\"scatter3d\":[{\"type\":\"scatter3d\",\"line\":{\"colorbar\":{\"outlinewidth\":0,\"ticks\":\"\"}},\"marker\":{\"colorbar\":{\"outlinewidth\":0,\"ticks\":\"\"}}}],\"scattermapbox\":[{\"type\":\"scattermapbox\",\"marker\":{\"colorbar\":{\"outlinewidth\":0,\"ticks\":\"\"}}}],\"scatterternary\":[{\"type\":\"scatterternary\",\"marker\":{\"colorbar\":{\"outlinewidth\":0,\"ticks\":\"\"}}}],\"scattercarpet\":[{\"type\":\"scattercarpet\",\"marker\":{\"colorbar\":{\"outlinewidth\":0,\"ticks\":\"\"}}}],\"carpet\":[{\"aaxis\":{\"endlinecolor\":\"#2a3f5f\",\"gridcolor\":\"white\",\"linecolor\":\"white\",\"minorgridcolor\":\"white\",\"startlinecolor\":\"#2a3f5f\"},\"baxis\":{\"endlinecolor\":\"#2a3f5f\",\"gridcolor\":\"white\",\"linecolor\":\"white\",\"minorgridcolor\":\"white\",\"startlinecolor\":\"#2a3f5f\"},\"type\":\"carpet\"}],\"table\":[{\"cells\":{\"fill\":{\"color\":\"#EBF0F8\"},\"line\":{\"color\":\"white\"}},\"header\":{\"fill\":{\"color\":\"#C8D4E3\"},\"line\":{\"color\":\"white\"}},\"type\":\"table\"}],\"barpolar\":[{\"marker\":{\"line\":{\"color\":\"#E5ECF6\",\"width\":0.5},\"pattern\":{\"fillmode\":\"overlay\",\"size\":10,\"solidity\":0.2}},\"type\":\"barpolar\"}],\"pie\":[{\"automargin\":true,\"type\":\"pie\"}]},\"layout\":{\"autotypenumbers\":\"strict\",\"colorway\":[\"#636efa\",\"#EF553B\",\"#00cc96\",\"#ab63fa\",\"#FFA15A\",\"#19d3f3\",\"#FF6692\",\"#B6E880\",\"#FF97FF\",\"#FECB52\"],\"font\":{\"color\":\"#2a3f5f\"},\"hovermode\":\"closest\",\"hoverlabel\":{\"align\":\"left\"},\"paper_bgcolor\":\"white\",\"plot_bgcolor\":\"#E5ECF6\",\"polar\":{\"bgcolor\":\"#E5ECF6\",\"angularaxis\":{\"gridcolor\":\"white\",\"linecolor\":\"white\",\"ticks\":\"\"},\"radialaxis\":{\"gridcolor\":\"white\",\"linecolor\":\"white\",\"ticks\":\"\"}},\"ternary\":{\"bgcolor\":\"#E5ECF6\",\"aaxis\":{\"gridcolor\":\"white\",\"linecolor\":\"white\",\"ticks\":\"\"},\"baxis\":{\"gridcolor\":\"white\",\"linecolor\":\"white\",\"ticks\":\"\"},\"caxis\":{\"gridcolor\":\"white\",\"linecolor\":\"white\",\"ticks\":\"\"}},\"coloraxis\":{\"colorbar\":{\"outlinewidth\":0,\"ticks\":\"\"}},\"colorscale\":{\"sequential\":[[0.0,\"#0d0887\"],[0.1111111111111111,\"#46039f\"],[0.2222222222222222,\"#7201a8\"],[0.3333333333333333,\"#9c179e\"],[0.4444444444444444,\"#bd3786\"],[0.5555555555555556,\"#d8576b\"],[0.6666666666666666,\"#ed7953\"],[0.7777777777777778,\"#fb9f3a\"],[0.8888888888888888,\"#fdca26\"],[1.0,\"#f0f921\"]],\"sequentialminus\":[[0.0,\"#0d0887\"],[0.1111111111111111,\"#46039f\"],[0.2222222222222222,\"#7201a8\"],[0.3333333333333333,\"#9c179e\"],[0.4444444444444444,\"#bd3786\"],[0.5555555555555556,\"#d8576b\"],[0.6666666666666666,\"#ed7953\"],[0.7777777777777778,\"#fb9f3a\"],[0.8888888888888888,\"#fdca26\"],[1.0,\"#f0f921\"]],\"diverging\":[[0,\"#8e0152\"],[0.1,\"#c51b7d\"],[0.2,\"#de77ae\"],[0.3,\"#f1b6da\"],[0.4,\"#fde0ef\"],[0.5,\"#f7f7f7\"],[0.6,\"#e6f5d0\"],[0.7,\"#b8e186\"],[0.8,\"#7fbc41\"],[0.9,\"#4d9221\"],[1,\"#276419\"]]},\"xaxis\":{\"gridcolor\":\"white\",\"linecolor\":\"white\",\"ticks\":\"\",\"title\":{\"standoff\":15},\"zerolinecolor\":\"white\",\"automargin\":true,\"zerolinewidth\":2},\"yaxis\":{\"gridcolor\":\"white\",\"linecolor\":\"white\",\"ticks\":\"\",\"title\":{\"standoff\":15},\"zerolinecolor\":\"white\",\"automargin\":true,\"zerolinewidth\":2},\"scene\":{\"xaxis\":{\"backgroundcolor\":\"#E5ECF6\",\"gridcolor\":\"white\",\"linecolor\":\"white\",\"showbackground\":true,\"ticks\":\"\",\"zerolinecolor\":\"white\",\"gridwidth\":2},\"yaxis\":{\"backgroundcolor\":\"#E5ECF6\",\"gridcolor\":\"white\",\"linecolor\":\"white\",\"showbackground\":true,\"ticks\":\"\",\"zerolinecolor\":\"white\",\"gridwidth\":2},\"zaxis\":{\"backgroundcolor\":\"#E5ECF6\",\"gridcolor\":\"white\",\"linecolor\":\"white\",\"showbackground\":true,\"ticks\":\"\",\"zerolinecolor\":\"white\",\"gridwidth\":2}},\"shapedefaults\":{\"line\":{\"color\":\"#2a3f5f\"}},\"annotationdefaults\":{\"arrowcolor\":\"#2a3f5f\",\"arrowhead\":0,\"arrowwidth\":1},\"geo\":{\"bgcolor\":\"white\",\"landcolor\":\"#E5ECF6\",\"subunitcolor\":\"white\",\"showland\":true,\"showlakes\":true,\"lakecolor\":\"white\"},\"title\":{\"x\":0.05},\"mapbox\":{\"style\":\"light\"}}},\"xaxis\":{\"anchor\":\"y\",\"domain\":[0.0,1.0],\"title\":{\"text\":\"Year\"},\"minor\":{\"tickcolor\":\"black\",\"showgrid\":true},\"tickangle\":45},\"yaxis\":{\"anchor\":\"x\",\"domain\":[0.0,1.0],\"title\":{\"text\":\"Number of Vehicles grouped by Class\"},\"minor\":{\"ticklen\":5,\"tickcolor\":\"black\",\"showgrid\":true}},\"legend\":{\"title\":{\"text\":\"color\"},\"tracegroupgap\":0},\"title\":{\"text\":\"Vehicle Class focus per Year\"},\"barmode\":\"relative\",\"hovermode\":\"closest\"},                        {\"responsive\": true}                    ).then(function(){\n",
       "                            \n",
       "var gd = document.getElementById('db448307-3e71-42e8-a281-177e70b55ac9');\n",
       "var x = new MutationObserver(function (mutations, observer) {{\n",
       "        var display = window.getComputedStyle(gd).display;\n",
       "        if (!display || display === 'none') {{\n",
       "            console.log([gd, 'removed!']);\n",
       "            Plotly.purge(gd);\n",
       "            observer.disconnect();\n",
       "        }}\n",
       "}});\n",
       "\n",
       "// Listen for the removal of the full notebook cells\n",
       "var notebookContainer = gd.closest('#notebook-container');\n",
       "if (notebookContainer) {{\n",
       "    x.observe(notebookContainer, {childList: true});\n",
       "}}\n",
       "\n",
       "// Listen for the clearing of the current output cell\n",
       "var outputEl = gd.closest('.output');\n",
       "if (outputEl) {{\n",
       "    x.observe(outputEl, {childList: true});\n",
       "}}\n",
       "\n",
       "                        })                };                });            </script>        </div>"
      ]
     },
     "metadata": {},
     "output_type": "display_data"
    }
   ],
   "source": [
    "Year = [x[0] for x in data_to_display.index]\n",
    "Count = data_to_display['ID']['count'].values.tolist()\n",
    "VehicleClass = [x[1] for x in data_to_display.index]\n",
    "text = VehicleClass\n",
    "\n",
    "fig = px.bar(x=Year, \n",
    "             y=Count, \n",
    "             color=VehicleClass, \n",
    "             color_discrete_sequence=px.colors.qualitative.Light24,\n",
    "             title=\"Vehicle Class focus per Year\",\n",
    "             text=VehicleClass\n",
    "             ) \n",
    "\n",
    "fig.update_layout(xaxis_title='Year',\n",
    "                  yaxis_title='Number of Vehicles grouped by Class',\n",
    "                  )\n",
    "\n",
    "fig.update_xaxes(tickangle=45,minor=dict(tickcolor=\"black\", showgrid=True))\n",
    "fig.update_yaxes(minor=dict(ticklen=5, tickcolor=\"black\", showgrid=True))\n",
    "fig.update_layout(hovermode='closest')\n",
    "fig.update_traces(hovertemplate= \"<b>Class: %{text}</b><br>\" + \"Year: %{x}</br>\" + \"Count: %{y}<br>\", selector=dict(type='bar'))\n",
    "\n",
    "fig.show()"
   ]
  },
  {
   "cell_type": "code",
   "execution_count": 16,
   "id": "55e8e84a",
   "metadata": {
    "scrolled": true
   },
   "outputs": [
    {
     "data": {
      "text/html": [
       "<div>\n",
       "<style scoped>\n",
       "    .dataframe tbody tr th:only-of-type {\n",
       "        vertical-align: middle;\n",
       "    }\n",
       "\n",
       "    .dataframe tbody tr th {\n",
       "        vertical-align: top;\n",
       "    }\n",
       "\n",
       "    .dataframe thead tr th {\n",
       "        text-align: left;\n",
       "    }\n",
       "\n",
       "    .dataframe thead tr:last-of-type th {\n",
       "        text-align: right;\n",
       "    }\n",
       "</style>\n",
       "<table border=\"1\" class=\"dataframe\">\n",
       "  <thead>\n",
       "    <tr>\n",
       "      <th></th>\n",
       "      <th></th>\n",
       "      <th colspan=\"8\" halign=\"left\">ID</th>\n",
       "      <th colspan=\"2\" halign=\"left\">ENGINE SIZE</th>\n",
       "      <th>...</th>\n",
       "      <th colspan=\"2\" halign=\"left\">COMB (mpg)</th>\n",
       "      <th colspan=\"8\" halign=\"left\">EMISSIONS</th>\n",
       "    </tr>\n",
       "    <tr>\n",
       "      <th></th>\n",
       "      <th></th>\n",
       "      <th>count</th>\n",
       "      <th>mean</th>\n",
       "      <th>std</th>\n",
       "      <th>min</th>\n",
       "      <th>25%</th>\n",
       "      <th>50%</th>\n",
       "      <th>75%</th>\n",
       "      <th>max</th>\n",
       "      <th>count</th>\n",
       "      <th>mean</th>\n",
       "      <th>...</th>\n",
       "      <th>75%</th>\n",
       "      <th>max</th>\n",
       "      <th>count</th>\n",
       "      <th>mean</th>\n",
       "      <th>std</th>\n",
       "      <th>min</th>\n",
       "      <th>25%</th>\n",
       "      <th>50%</th>\n",
       "      <th>75%</th>\n",
       "      <th>max</th>\n",
       "    </tr>\n",
       "    <tr>\n",
       "      <th>MAKE</th>\n",
       "      <th>VEHICLE CLASS</th>\n",
       "      <th></th>\n",
       "      <th></th>\n",
       "      <th></th>\n",
       "      <th></th>\n",
       "      <th></th>\n",
       "      <th></th>\n",
       "      <th></th>\n",
       "      <th></th>\n",
       "      <th></th>\n",
       "      <th></th>\n",
       "      <th></th>\n",
       "      <th></th>\n",
       "      <th></th>\n",
       "      <th></th>\n",
       "      <th></th>\n",
       "      <th></th>\n",
       "      <th></th>\n",
       "      <th></th>\n",
       "      <th></th>\n",
       "      <th></th>\n",
       "      <th></th>\n",
       "    </tr>\n",
       "  </thead>\n",
       "  <tbody>\n",
       "    <tr>\n",
       "      <th rowspan=\"5\" valign=\"top\">ACURA</th>\n",
       "      <th>COMPACT</th>\n",
       "      <td>102.0</td>\n",
       "      <td>10923.705882</td>\n",
       "      <td>6435.149032</td>\n",
       "      <td>1.0</td>\n",
       "      <td>5765.25</td>\n",
       "      <td>10545.5</td>\n",
       "      <td>16501.25</td>\n",
       "      <td>21609.0</td>\n",
       "      <td>102.0</td>\n",
       "      <td>2.411765</td>\n",
       "      <td>...</td>\n",
       "      <td>35.75</td>\n",
       "      <td>58.0</td>\n",
       "      <td>102.0</td>\n",
       "      <td>198.421569</td>\n",
       "      <td>27.198368</td>\n",
       "      <td>113.0</td>\n",
       "      <td>183.00</td>\n",
       "      <td>199.5</td>\n",
       "      <td>212.00</td>\n",
       "      <td>261.0</td>\n",
       "    </tr>\n",
       "    <tr>\n",
       "      <th>MID-SIZE</th>\n",
       "      <td>55.0</td>\n",
       "      <td>8324.236364</td>\n",
       "      <td>5088.902326</td>\n",
       "      <td>3.0</td>\n",
       "      <td>4293.00</td>\n",
       "      <td>7893.0</td>\n",
       "      <td>12161.50</td>\n",
       "      <td>19700.0</td>\n",
       "      <td>55.0</td>\n",
       "      <td>3.489091</td>\n",
       "      <td>...</td>\n",
       "      <td>29.00</td>\n",
       "      <td>37.0</td>\n",
       "      <td>55.0</td>\n",
       "      <td>228.709091</td>\n",
       "      <td>20.635885</td>\n",
       "      <td>177.0</td>\n",
       "      <td>223.00</td>\n",
       "      <td>228.0</td>\n",
       "      <td>239.00</td>\n",
       "      <td>264.0</td>\n",
       "    </tr>\n",
       "    <tr>\n",
       "      <th>SUBCOMPACT</th>\n",
       "      <td>25.0</td>\n",
       "      <td>2028.520000</td>\n",
       "      <td>1609.384435</td>\n",
       "      <td>5.0</td>\n",
       "      <td>646.00</td>\n",
       "      <td>2067.0</td>\n",
       "      <td>2888.00</td>\n",
       "      <td>4802.0</td>\n",
       "      <td>25.0</td>\n",
       "      <td>2.128000</td>\n",
       "      <td>...</td>\n",
       "      <td>35.00</td>\n",
       "      <td>37.0</td>\n",
       "      <td>25.0</td>\n",
       "      <td>201.440000</td>\n",
       "      <td>31.098071</td>\n",
       "      <td>175.0</td>\n",
       "      <td>184.00</td>\n",
       "      <td>191.0</td>\n",
       "      <td>200.00</td>\n",
       "      <td>271.0</td>\n",
       "    </tr>\n",
       "    <tr>\n",
       "      <th>SUV</th>\n",
       "      <td>20.0</td>\n",
       "      <td>6882.350000</td>\n",
       "      <td>3389.977539</td>\n",
       "      <td>648.0</td>\n",
       "      <td>4543.25</td>\n",
       "      <td>7350.0</td>\n",
       "      <td>10002.25</td>\n",
       "      <td>11084.0</td>\n",
       "      <td>20.0</td>\n",
       "      <td>3.220000</td>\n",
       "      <td>...</td>\n",
       "      <td>26.00</td>\n",
       "      <td>27.0</td>\n",
       "      <td>20.0</td>\n",
       "      <td>263.150000</td>\n",
       "      <td>15.163235</td>\n",
       "      <td>237.0</td>\n",
       "      <td>252.50</td>\n",
       "      <td>267.0</td>\n",
       "      <td>276.50</td>\n",
       "      <td>278.0</td>\n",
       "    </tr>\n",
       "    <tr>\n",
       "      <th>SUV - SMALL</th>\n",
       "      <td>33.0</td>\n",
       "      <td>17322.575758</td>\n",
       "      <td>2854.399521</td>\n",
       "      <td>12159.0</td>\n",
       "      <td>15388.00</td>\n",
       "      <td>17557.0</td>\n",
       "      <td>19695.00</td>\n",
       "      <td>21605.0</td>\n",
       "      <td>33.0</td>\n",
       "      <td>3.087879</td>\n",
       "      <td>...</td>\n",
       "      <td>29.00</td>\n",
       "      <td>31.0</td>\n",
       "      <td>33.0</td>\n",
       "      <td>241.090909</td>\n",
       "      <td>17.614560</td>\n",
       "      <td>210.0</td>\n",
       "      <td>232.00</td>\n",
       "      <td>249.0</td>\n",
       "      <td>254.00</td>\n",
       "      <td>267.0</td>\n",
       "    </tr>\n",
       "    <tr>\n",
       "      <th>...</th>\n",
       "      <th>...</th>\n",
       "      <td>...</td>\n",
       "      <td>...</td>\n",
       "      <td>...</td>\n",
       "      <td>...</td>\n",
       "      <td>...</td>\n",
       "      <td>...</td>\n",
       "      <td>...</td>\n",
       "      <td>...</td>\n",
       "      <td>...</td>\n",
       "      <td>...</td>\n",
       "      <td>...</td>\n",
       "      <td>...</td>\n",
       "      <td>...</td>\n",
       "      <td>...</td>\n",
       "      <td>...</td>\n",
       "      <td>...</td>\n",
       "      <td>...</td>\n",
       "      <td>...</td>\n",
       "      <td>...</td>\n",
       "      <td>...</td>\n",
       "      <td>...</td>\n",
       "    </tr>\n",
       "    <tr>\n",
       "      <th rowspan=\"5\" valign=\"top\">VOLVO</th>\n",
       "      <th>STATION WAGON - SMALL</th>\n",
       "      <td>71.0</td>\n",
       "      <td>11823.366197</td>\n",
       "      <td>6153.472075</td>\n",
       "      <td>1310.0</td>\n",
       "      <td>6787.50</td>\n",
       "      <td>9985.0</td>\n",
       "      <td>17541.50</td>\n",
       "      <td>22549.0</td>\n",
       "      <td>71.0</td>\n",
       "      <td>2.315493</td>\n",
       "      <td>...</td>\n",
       "      <td>31.00</td>\n",
       "      <td>34.0</td>\n",
       "      <td>71.0</td>\n",
       "      <td>219.140845</td>\n",
       "      <td>15.430300</td>\n",
       "      <td>193.0</td>\n",
       "      <td>207.00</td>\n",
       "      <td>218.0</td>\n",
       "      <td>228.00</td>\n",
       "      <td>259.0</td>\n",
       "    </tr>\n",
       "    <tr>\n",
       "      <th>SUBCOMPACT</th>\n",
       "      <td>22.0</td>\n",
       "      <td>4949.590909</td>\n",
       "      <td>4305.847195</td>\n",
       "      <td>619.0</td>\n",
       "      <td>1482.00</td>\n",
       "      <td>2858.5</td>\n",
       "      <td>9172.25</td>\n",
       "      <td>13202.0</td>\n",
       "      <td>22.0</td>\n",
       "      <td>2.390909</td>\n",
       "      <td>...</td>\n",
       "      <td>29.75</td>\n",
       "      <td>31.0</td>\n",
       "      <td>22.0</td>\n",
       "      <td>229.590909</td>\n",
       "      <td>11.454503</td>\n",
       "      <td>212.0</td>\n",
       "      <td>218.75</td>\n",
       "      <td>230.0</td>\n",
       "      <td>237.00</td>\n",
       "      <td>251.0</td>\n",
       "    </tr>\n",
       "    <tr>\n",
       "      <th>SUV</th>\n",
       "      <td>55.0</td>\n",
       "      <td>8154.800000</td>\n",
       "      <td>3134.694630</td>\n",
       "      <td>1318.0</td>\n",
       "      <td>5761.50</td>\n",
       "      <td>8974.0</td>\n",
       "      <td>11068.50</td>\n",
       "      <td>12155.0</td>\n",
       "      <td>55.0</td>\n",
       "      <td>3.094545</td>\n",
       "      <td>...</td>\n",
       "      <td>26.00</td>\n",
       "      <td>29.0</td>\n",
       "      <td>55.0</td>\n",
       "      <td>267.454545</td>\n",
       "      <td>25.964233</td>\n",
       "      <td>223.0</td>\n",
       "      <td>251.00</td>\n",
       "      <td>267.0</td>\n",
       "      <td>283.00</td>\n",
       "      <td>315.0</td>\n",
       "    </tr>\n",
       "    <tr>\n",
       "      <th>SUV - SMALL</th>\n",
       "      <td>48.0</td>\n",
       "      <td>17403.770833</td>\n",
       "      <td>3033.581797</td>\n",
       "      <td>13208.0</td>\n",
       "      <td>15376.75</td>\n",
       "      <td>16489.5</td>\n",
       "      <td>20654.25</td>\n",
       "      <td>22554.0</td>\n",
       "      <td>48.0</td>\n",
       "      <td>2.387500</td>\n",
       "      <td>...</td>\n",
       "      <td>30.00</td>\n",
       "      <td>32.0</td>\n",
       "      <td>48.0</td>\n",
       "      <td>231.937500</td>\n",
       "      <td>19.007732</td>\n",
       "      <td>202.0</td>\n",
       "      <td>218.50</td>\n",
       "      <td>230.0</td>\n",
       "      <td>240.00</td>\n",
       "      <td>276.0</td>\n",
       "    </tr>\n",
       "    <tr>\n",
       "      <th>SUV - STANDARD</th>\n",
       "      <td>18.0</td>\n",
       "      <td>18660.500000</td>\n",
       "      <td>2707.475778</td>\n",
       "      <td>13213.0</td>\n",
       "      <td>16759.00</td>\n",
       "      <td>18635.5</td>\n",
       "      <td>20659.75</td>\n",
       "      <td>22556.0</td>\n",
       "      <td>18.0</td>\n",
       "      <td>2.133333</td>\n",
       "      <td>...</td>\n",
       "      <td>28.00</td>\n",
       "      <td>29.0</td>\n",
       "      <td>18.0</td>\n",
       "      <td>241.833333</td>\n",
       "      <td>9.376127</td>\n",
       "      <td>227.0</td>\n",
       "      <td>233.75</td>\n",
       "      <td>239.5</td>\n",
       "      <td>248.75</td>\n",
       "      <td>258.0</td>\n",
       "    </tr>\n",
       "  </tbody>\n",
       "</table>\n",
       "<p>361 rows × 48 columns</p>\n",
       "</div>"
      ],
      "text/plain": [
       "                                ID                                      \\\n",
       "                             count          mean          std      min   \n",
       "MAKE  VEHICLE CLASS                                                      \n",
       "ACURA COMPACT                102.0  10923.705882  6435.149032      1.0   \n",
       "      MID-SIZE                55.0   8324.236364  5088.902326      3.0   \n",
       "      SUBCOMPACT              25.0   2028.520000  1609.384435      5.0   \n",
       "      SUV                     20.0   6882.350000  3389.977539    648.0   \n",
       "      SUV - SMALL             33.0  17322.575758  2854.399521  12159.0   \n",
       "...                            ...           ...          ...      ...   \n",
       "VOLVO STATION WAGON - SMALL   71.0  11823.366197  6153.472075   1310.0   \n",
       "      SUBCOMPACT              22.0   4949.590909  4305.847195    619.0   \n",
       "      SUV                     55.0   8154.800000  3134.694630   1318.0   \n",
       "      SUV - SMALL             48.0  17403.770833  3033.581797  13208.0   \n",
       "      SUV - STANDARD          18.0  18660.500000  2707.475778  13213.0   \n",
       "\n",
       "                                                                  ENGINE SIZE  \\\n",
       "                                  25%      50%       75%      max       count   \n",
       "MAKE  VEHICLE CLASS                                                             \n",
       "ACURA COMPACT                 5765.25  10545.5  16501.25  21609.0       102.0   \n",
       "      MID-SIZE                4293.00   7893.0  12161.50  19700.0        55.0   \n",
       "      SUBCOMPACT               646.00   2067.0   2888.00   4802.0        25.0   \n",
       "      SUV                     4543.25   7350.0  10002.25  11084.0        20.0   \n",
       "      SUV - SMALL            15388.00  17557.0  19695.00  21605.0        33.0   \n",
       "...                               ...      ...       ...      ...         ...   \n",
       "VOLVO STATION WAGON - SMALL   6787.50   9985.0  17541.50  22549.0        71.0   \n",
       "      SUBCOMPACT              1482.00   2858.5   9172.25  13202.0        22.0   \n",
       "      SUV                     5761.50   8974.0  11068.50  12155.0        55.0   \n",
       "      SUV - SMALL            15376.75  16489.5  20654.25  22554.0        48.0   \n",
       "      SUV - STANDARD         16759.00  18635.5  20659.75  22556.0        18.0   \n",
       "\n",
       "                                       ... COMB (mpg)       EMISSIONS  \\\n",
       "                                 mean  ...        75%   max     count   \n",
       "MAKE  VEHICLE CLASS                    ...                              \n",
       "ACURA COMPACT                2.411765  ...      35.75  58.0     102.0   \n",
       "      MID-SIZE               3.489091  ...      29.00  37.0      55.0   \n",
       "      SUBCOMPACT             2.128000  ...      35.00  37.0      25.0   \n",
       "      SUV                    3.220000  ...      26.00  27.0      20.0   \n",
       "      SUV - SMALL            3.087879  ...      29.00  31.0      33.0   \n",
       "...                               ...  ...        ...   ...       ...   \n",
       "VOLVO STATION WAGON - SMALL  2.315493  ...      31.00  34.0      71.0   \n",
       "      SUBCOMPACT             2.390909  ...      29.75  31.0      22.0   \n",
       "      SUV                    3.094545  ...      26.00  29.0      55.0   \n",
       "      SUV - SMALL            2.387500  ...      30.00  32.0      48.0   \n",
       "      SUV - STANDARD         2.133333  ...      28.00  29.0      18.0   \n",
       "\n",
       "                                                                          \\\n",
       "                                   mean        std    min     25%    50%   \n",
       "MAKE  VEHICLE CLASS                                                        \n",
       "ACURA COMPACT                198.421569  27.198368  113.0  183.00  199.5   \n",
       "      MID-SIZE               228.709091  20.635885  177.0  223.00  228.0   \n",
       "      SUBCOMPACT             201.440000  31.098071  175.0  184.00  191.0   \n",
       "      SUV                    263.150000  15.163235  237.0  252.50  267.0   \n",
       "      SUV - SMALL            241.090909  17.614560  210.0  232.00  249.0   \n",
       "...                                 ...        ...    ...     ...    ...   \n",
       "VOLVO STATION WAGON - SMALL  219.140845  15.430300  193.0  207.00  218.0   \n",
       "      SUBCOMPACT             229.590909  11.454503  212.0  218.75  230.0   \n",
       "      SUV                    267.454545  25.964233  223.0  251.00  267.0   \n",
       "      SUV - SMALL            231.937500  19.007732  202.0  218.50  230.0   \n",
       "      SUV - STANDARD         241.833333   9.376127  227.0  233.75  239.5   \n",
       "\n",
       "                                            \n",
       "                                75%    max  \n",
       "MAKE  VEHICLE CLASS                         \n",
       "ACURA COMPACT                212.00  261.0  \n",
       "      MID-SIZE               239.00  264.0  \n",
       "      SUBCOMPACT             200.00  271.0  \n",
       "      SUV                    276.50  278.0  \n",
       "      SUV - SMALL            254.00  267.0  \n",
       "...                             ...    ...  \n",
       "VOLVO STATION WAGON - SMALL  228.00  259.0  \n",
       "      SUBCOMPACT             237.00  251.0  \n",
       "      SUV                    283.00  315.0  \n",
       "      SUV - SMALL            240.00  276.0  \n",
       "      SUV - STANDARD         248.75  258.0  \n",
       "\n",
       "[361 rows x 48 columns]"
      ]
     },
     "execution_count": 16,
     "metadata": {},
     "output_type": "execute_result"
    }
   ],
   "source": [
    "data_by_make = data_group.groupby(['MAKE', 'VEHICLE CLASS']).describe()\n",
    "data_by_make"
   ]
  },
  {
   "cell_type": "code",
   "execution_count": 21,
   "id": "82c2eb6a",
   "metadata": {
    "scrolled": true
   },
   "outputs": [
    {
     "data": {
      "application/vnd.plotly.v1+json": {
       "config": {
        "plotlyServerURL": "https://plot.ly"
       },
       "data": [
        {
         "alignmentgroup": "True",
         "hovertemplate": "color=COMPACT<br>x=%{x}<br>y=%{y}<extra></extra>",
         "legendgroup": "COMPACT",
         "marker": {
          "color": "#AA0DFE",
          "pattern": {
           "shape": ""
          }
         },
         "name": "COMPACT",
         "offsetgroup": "COMPACT",
         "orientation": "v",
         "showlegend": true,
         "textposition": "auto",
         "type": "bar",
         "x": [
          "ACURA",
          "AUDI",
          "BENTLEY",
          "BMW",
          "BUICK",
          "CADILLAC",
          "CHEVROLET",
          "CHRYSLER",
          "DAEWOO",
          "DODGE",
          "FORD",
          "GENESIS",
          "HONDA",
          "HYUNDAI",
          "INFINITI",
          "JAGUAR",
          "KIA",
          "LEXUS",
          "MAZDA",
          "MERCEDES-BENZ",
          "MINI",
          "MITSUBISHI",
          "NISSAN",
          "OLDSMOBILE",
          "PONTIAC",
          "ROLLS-ROYCE",
          "SAAB",
          "SATURN",
          "SCION",
          "SUBARU",
          "SUZUKI",
          "TOYOTA",
          "VOLKSWAGEN",
          "VOLVO"
         ],
         "xaxis": "x",
         "y": [
          102,
          139,
          22,
          368,
          16,
          63,
          135,
          62,
          18,
          25,
          125,
          11,
          103,
          100,
          38,
          32,
          92,
          67,
          137,
          279,
          52,
          96,
          57,
          15,
          67,
          26,
          43,
          18,
          12,
          113,
          56,
          146,
          315,
          177
         ],
         "yaxis": "y"
        },
        {
         "alignmentgroup": "True",
         "hovertemplate": "color=MID-SIZE<br>x=%{x}<br>y=%{y}<extra></extra>",
         "legendgroup": "MID-SIZE",
         "marker": {
          "color": "#3283FE",
          "pattern": {
           "shape": ""
          }
         },
         "name": "MID-SIZE",
         "offsetgroup": "MID-SIZE",
         "orientation": "v",
         "showlegend": true,
         "textposition": "auto",
         "type": "bar",
         "x": [
          "ACURA",
          "ALFA ROMEO",
          "AUDI",
          "BENTLEY",
          "BMW",
          "BUICK",
          "CADILLAC",
          "CHEVROLET",
          "CHRYSLER",
          "DAEWOO",
          "DODGE",
          "FERRARI",
          "FORD",
          "HONDA",
          "HYUNDAI",
          "INFINITI",
          "JAGUAR",
          "KIA",
          "LEXUS",
          "LINCOLN",
          "MASERATI",
          "MAZDA",
          "MERCEDES-BENZ",
          "MINI",
          "MITSUBISHI",
          "NISSAN",
          "OLDSMOBILE",
          "PONTIAC",
          "ROLLS-ROYCE",
          "SAAB",
          "SATURN",
          "SCION",
          "SUBARU",
          "SUZUKI",
          "TOYOTA",
          "VOLKSWAGEN",
          "VOLVO"
         ],
         "xaxis": "x",
         "y": [
          55,
          18,
          144,
          45,
          151,
          107,
          160,
          150,
          95,
          4,
          178,
          19,
          117,
          101,
          102,
          92,
          69,
          108,
          151,
          68,
          27,
          131,
          120,
          57,
          18,
          196,
          8,
          29,
          21,
          41,
          25,
          2,
          41,
          3,
          178,
          77,
          52
         ],
         "yaxis": "y"
        },
        {
         "alignmentgroup": "True",
         "hovertemplate": "color=SUBCOMPACT<br>x=%{x}<br>y=%{y}<extra></extra>",
         "legendgroup": "SUBCOMPACT",
         "marker": {
          "color": "#85660D",
          "pattern": {
           "shape": ""
          }
         },
         "name": "SUBCOMPACT",
         "offsetgroup": "SUBCOMPACT",
         "orientation": "v",
         "showlegend": true,
         "textposition": "auto",
         "type": "bar",
         "x": [
          "ACURA",
          "ASTON MARTIN",
          "AUDI",
          "BENTLEY",
          "BMW",
          "CHEVROLET",
          "CHRYSLER",
          "DAEWOO",
          "DODGE",
          "FERRARI",
          "FORD",
          "HONDA",
          "HYUNDAI",
          "INFINITI",
          "JAGUAR",
          "JEEP",
          "KIA",
          "LEXUS",
          "MASERATI",
          "MAZDA",
          "MERCEDES-BENZ",
          "MINI",
          "MITSUBISHI",
          "NISSAN",
          "PLYMOUTH",
          "PONTIAC",
          "ROLLS-ROYCE",
          "SAAB",
          "SATURN",
          "SCION",
          "SUBARU",
          "SUZUKI",
          "TOYOTA",
          "VOLKSWAGEN",
          "VOLVO"
         ],
         "xaxis": "x",
         "y": [
          25,
          8,
          181,
          26,
          428,
          137,
          7,
          4,
          2,
          7,
          184,
          26,
          53,
          52,
          34,
          1,
          2,
          93,
          31,
          19,
          177,
          112,
          39,
          34,
          1,
          56,
          1,
          27,
          28,
          8,
          35,
          12,
          46,
          92,
          22
         ],
         "yaxis": "y"
        },
        {
         "alignmentgroup": "True",
         "hovertemplate": "color=SUV<br>x=%{x}<br>y=%{y}<extra></extra>",
         "legendgroup": "SUV",
         "marker": {
          "color": "#782AB6",
          "pattern": {
           "shape": ""
          }
         },
         "name": "SUV",
         "offsetgroup": "SUV",
         "orientation": "v",
         "showlegend": true,
         "textposition": "auto",
         "type": "bar",
         "x": [
          "ACURA",
          "AUDI",
          "BMW",
          "BUICK",
          "CADILLAC",
          "CHEVROLET",
          "CHRYSLER",
          "DODGE",
          "FORD",
          "GMC",
          "HONDA",
          "HUMMER",
          "HYUNDAI",
          "INFINITI",
          "ISUZU",
          "JEEP",
          "KIA",
          "LAND ROVER",
          "LEXUS",
          "LINCOLN",
          "MAZDA",
          "MERCEDES-BENZ",
          "MITSUBISHI",
          "NISSAN",
          "OLDSMOBILE",
          "PONTIAC",
          "PORSCHE",
          "SAAB",
          "SATURN",
          "SUBARU",
          "SUZUKI",
          "TOYOTA",
          "VOLKSWAGEN",
          "VOLVO"
         ],
         "xaxis": "x",
         "y": [
          20,
          25,
          85,
          34,
          60,
          360,
          51,
          92,
          175,
          285,
          72,
          14,
          88,
          32,
          14,
          201,
          80,
          63,
          50,
          24,
          74,
          90,
          56,
          87,
          3,
          22,
          43,
          11,
          49,
          101,
          61,
          135,
          28,
          55
         ],
         "yaxis": "y"
        },
        {
         "alignmentgroup": "True",
         "hovertemplate": "color=SUV - SMALL<br>x=%{x}<br>y=%{y}<extra></extra>",
         "legendgroup": "SUV - SMALL",
         "marker": {
          "color": "#565656",
          "pattern": {
           "shape": ""
          }
         },
         "name": "SUV - SMALL",
         "offsetgroup": "SUV - SMALL",
         "orientation": "v",
         "showlegend": true,
         "textposition": "auto",
         "type": "bar",
         "x": [
          "ACURA",
          "ALFA ROMEO",
          "AUDI",
          "BMW",
          "BUICK",
          "CADILLAC",
          "CHEVROLET",
          "DODGE",
          "FIAT",
          "FORD",
          "GENESIS",
          "GMC",
          "HONDA",
          "HYUNDAI",
          "INFINITI",
          "JAGUAR",
          "JEEP",
          "KIA",
          "LAND ROVER",
          "LEXUS",
          "LINCOLN",
          "MAZDA",
          "MERCEDES-BENZ",
          "MITSUBISHI",
          "NISSAN",
          "PORSCHE",
          "SUBARU",
          "SUZUKI",
          "TOYOTA",
          "VOLKSWAGEN",
          "VOLVO"
         ],
         "xaxis": "x",
         "y": [
          33,
          14,
          40,
          74,
          50,
          28,
          108,
          29,
          13,
          131,
          2,
          47,
          54,
          100,
          24,
          16,
          283,
          80,
          34,
          46,
          39,
          74,
          50,
          59,
          54,
          26,
          76,
          1,
          85,
          38,
          48
         ],
         "yaxis": "y"
        },
        {
         "alignmentgroup": "True",
         "hovertemplate": "color=TWO-SEATER<br>x=%{x}<br>y=%{y}<extra></extra>",
         "legendgroup": "TWO-SEATER",
         "marker": {
          "color": "#1C8356",
          "pattern": {
           "shape": ""
          }
         },
         "name": "TWO-SEATER",
         "offsetgroup": "TWO-SEATER",
         "orientation": "v",
         "showlegend": true,
         "textposition": "auto",
         "type": "bar",
         "x": [
          "ACURA",
          "ALFA ROMEO",
          "ASTON MARTIN",
          "AUDI",
          "BENTLEY",
          "BMW",
          "BUGATTI",
          "CADILLAC",
          "CHEVROLET",
          "CHRYSLER",
          "DODGE",
          "FERRARI",
          "FIAT",
          "FORD",
          "HONDA",
          "JAGUAR",
          "LAMBORGHINI",
          "LEXUS",
          "MASERATI",
          "MAZDA",
          "MERCEDES-BENZ",
          "MINI",
          "NISSAN",
          "PLYMOUTH",
          "PONTIAC",
          "PORSCHE",
          "SATURN",
          "SMART",
          "SRT",
          "TOYOTA"
         ],
         "xaxis": "x",
         "y": [
          12,
          10,
          48,
          96,
          6,
          83,
          12,
          9,
          66,
          24,
          18,
          47,
          8,
          13,
          27,
          88,
          107,
          1,
          10,
          57,
          175,
          46,
          67,
          1,
          13,
          225,
          12,
          22,
          4,
          5
         ],
         "yaxis": "y"
        },
        {
         "alignmentgroup": "True",
         "hovertemplate": "color=MINICOMPACT<br>x=%{x}<br>y=%{y}<extra></extra>",
         "legendgroup": "MINICOMPACT",
         "marker": {
          "color": "#16FF32",
          "pattern": {
           "shape": ""
          }
         },
         "name": "MINICOMPACT",
         "offsetgroup": "MINICOMPACT",
         "orientation": "v",
         "showlegend": true,
         "textposition": "auto",
         "type": "bar",
         "x": [
          "ASTON MARTIN",
          "AUDI",
          "BENTLEY",
          "BMW",
          "FIAT",
          "JAGUAR",
          "LEXUS",
          "MERCEDES-BENZ",
          "MINI",
          "MITSUBISHI",
          "PORSCHE",
          "SCION",
          "SUBARU",
          "TOYOTA",
          "VOLKSWAGEN"
         ],
         "xaxis": "x",
         "y": [
          48,
          16,
          4,
          39,
          52,
          53,
          11,
          8,
          135,
          32,
          534,
          12,
          20,
          10,
          20
         ],
         "yaxis": "y"
        },
        {
         "alignmentgroup": "True",
         "hovertemplate": "color=SUV - STANDARD<br>x=%{x}<br>y=%{y}<extra></extra>",
         "legendgroup": "SUV - STANDARD",
         "marker": {
          "color": "#F7E1A0",
          "pattern": {
           "shape": ""
          }
         },
         "name": "SUV - STANDARD",
         "offsetgroup": "SUV - STANDARD",
         "orientation": "v",
         "showlegend": true,
         "textposition": "auto",
         "type": "bar",
         "x": [
          "ASTON MARTIN",
          "AUDI",
          "BENTLEY",
          "BMW",
          "BUICK",
          "CADILLAC",
          "CHEVROLET",
          "DODGE",
          "FORD",
          "GENESIS",
          "GMC",
          "HONDA",
          "HYUNDAI",
          "INFINITI",
          "JEEP",
          "LAMBORGHINI",
          "LAND ROVER",
          "LEXUS",
          "LINCOLN",
          "MASERATI",
          "MERCEDES-BENZ",
          "NISSAN",
          "PORSCHE",
          "SUBARU",
          "TOYOTA",
          "VOLKSWAGEN",
          "VOLVO"
         ],
         "xaxis": "x",
         "y": [
          2,
          29,
          9,
          81,
          22,
          34,
          146,
          29,
          100,
          4,
          177,
          1,
          5,
          15,
          49,
          4,
          77,
          31,
          24,
          20,
          113,
          11,
          51,
          4,
          59,
          7,
          18
         ],
         "yaxis": "y"
        },
        {
         "alignmentgroup": "True",
         "hovertemplate": "color=FULL-SIZE<br>x=%{x}<br>y=%{y}<extra></extra>",
         "legendgroup": "FULL-SIZE",
         "marker": {
          "color": "#E2E2E2",
          "pattern": {
           "shape": ""
          }
         },
         "name": "FULL-SIZE",
         "offsetgroup": "FULL-SIZE",
         "orientation": "v",
         "showlegend": true,
         "textposition": "auto",
         "type": "bar",
         "x": [
          "AUDI",
          "BENTLEY",
          "BMW",
          "BUICK",
          "CADILLAC",
          "CHEVROLET",
          "CHRYSLER",
          "DODGE",
          "FORD",
          "GENESIS",
          "HONDA",
          "HYUNDAI",
          "INFINITI",
          "JAGUAR",
          "KIA",
          "LEXUS",
          "LINCOLN",
          "MASERATI",
          "MERCEDES-BENZ",
          "PONTIAC",
          "PORSCHE",
          "ROLLS-ROYCE",
          "SAAB",
          "SUBARU",
          "TOYOTA",
          "VOLKSWAGEN"
         ],
         "xaxis": "x",
         "y": [
          43,
          6,
          116,
          36,
          47,
          73,
          141,
          167,
          97,
          25,
          70,
          99,
          19,
          64,
          61,
          9,
          55,
          37,
          136,
          13,
          109,
          51,
          3,
          6,
          12,
          8
         ],
         "yaxis": "y"
        },
        {
         "alignmentgroup": "True",
         "hovertemplate": "color=STATION WAGON - MID-SIZE<br>x=%{x}<br>y=%{y}<extra></extra>",
         "legendgroup": "STATION WAGON - MID-SIZE",
         "marker": {
          "color": "#1CBE4F",
          "pattern": {
           "shape": ""
          }
         },
         "name": "STATION WAGON - MID-SIZE",
         "offsetgroup": "STATION WAGON - MID-SIZE",
         "orientation": "v",
         "showlegend": true,
         "textposition": "auto",
         "type": "bar",
         "x": [
          "AUDI",
          "BMW",
          "FORD",
          "KIA",
          "LEXUS",
          "MAZDA",
          "MERCEDES-BENZ",
          "NISSAN",
          "ROLLS-ROYCE",
          "SAAB",
          "SATURN",
          "SUBARU",
          "TOYOTA",
          "VOLKSWAGEN",
          "VOLVO"
         ],
         "xaxis": "x",
         "y": [
          17,
          10,
          38,
          19,
          1,
          10,
          51,
          15,
          7,
          37,
          12,
          42,
          7,
          49,
          72
         ],
         "yaxis": "y"
        },
        {
         "alignmentgroup": "True",
         "hovertemplate": "color=STATION WAGON - SMALL<br>x=%{x}<br>y=%{y}<extra></extra>",
         "legendgroup": "STATION WAGON - SMALL",
         "marker": {
          "color": "#C4451C",
          "pattern": {
           "shape": ""
          }
         },
         "name": "STATION WAGON - SMALL",
         "offsetgroup": "STATION WAGON - SMALL",
         "orientation": "v",
         "showlegend": true,
         "textposition": "auto",
         "type": "bar",
         "x": [
          "AUDI",
          "BMW",
          "CADILLAC",
          "CHEVROLET",
          "DAEWOO",
          "FIAT",
          "HONDA",
          "HYUNDAI",
          "INFINITI",
          "JAGUAR",
          "KIA",
          "MERCEDES-BENZ",
          "MINI",
          "MITSUBISHI",
          "NISSAN",
          "PONTIAC",
          "SAAB",
          "SATURN",
          "SCION",
          "SUBARU",
          "SUZUKI",
          "TOYOTA",
          "VOLKSWAGEN",
          "VOLVO"
         ],
         "xaxis": "x",
         "y": [
          75,
          55,
          28,
          20,
          8,
          12,
          58,
          10,
          8,
          8,
          62,
          59,
          4,
          22,
          56,
          32,
          28,
          4,
          10,
          82,
          61,
          48,
          56,
          71
         ],
         "yaxis": "y"
        },
        {
         "alignmentgroup": "True",
         "hovertemplate": "color=MINIVAN<br>x=%{x}<br>y=%{y}<extra></extra>",
         "legendgroup": "MINIVAN",
         "marker": {
          "color": "#DEA0FD",
          "pattern": {
           "shape": ""
          }
         },
         "name": "MINIVAN",
         "offsetgroup": "MINIVAN",
         "orientation": "v",
         "showlegend": true,
         "textposition": "auto",
         "type": "bar",
         "x": [
          "BUICK",
          "CHEVROLET",
          "CHRYSLER",
          "DODGE",
          "FORD",
          "HONDA",
          "HYUNDAI",
          "KIA",
          "MAZDA",
          "NISSAN",
          "OLDSMOBILE",
          "PONTIAC",
          "RAM",
          "SATURN",
          "TOYOTA",
          "VOLKSWAGEN"
         ],
         "xaxis": "x",
         "y": [
          8,
          21,
          45,
          121,
          9,
          34,
          3,
          28,
          25,
          15,
          8,
          21,
          8,
          8,
          43,
          11
         ],
         "yaxis": "y"
        },
        {
         "alignmentgroup": "True",
         "hovertemplate": "color=PICKUP TRUCK - STANDARD<br>x=%{x}<br>y=%{y}<extra></extra>",
         "legendgroup": "PICKUP TRUCK - STANDARD",
         "marker": {
          "color": "#FE00FA",
          "pattern": {
           "shape": ""
          }
         },
         "name": "PICKUP TRUCK - STANDARD",
         "offsetgroup": "PICKUP TRUCK - STANDARD",
         "orientation": "v",
         "showlegend": true,
         "textposition": "auto",
         "type": "bar",
         "x": [
          "CADILLAC",
          "CHEVROLET",
          "DODGE",
          "FORD",
          "GMC",
          "HONDA",
          "HUMMER",
          "ISUZU",
          "JEEP",
          "LINCOLN",
          "MAZDA",
          "NISSAN",
          "RAM",
          "TOYOTA"
         ],
         "xaxis": "x",
         "y": [
          5,
          513,
          223,
          525,
          464,
          15,
          7,
          1,
          10,
          4,
          58,
          102,
          137,
          140
         ],
         "yaxis": "y"
        },
        {
         "alignmentgroup": "True",
         "hovertemplate": "color=PICKUP TRUCK - SMALL<br>x=%{x}<br>y=%{y}<extra></extra>",
         "legendgroup": "PICKUP TRUCK - SMALL",
         "marker": {
          "color": "#325A9B",
          "pattern": {
           "shape": ""
          }
         },
         "name": "PICKUP TRUCK - SMALL",
         "offsetgroup": "PICKUP TRUCK - SMALL",
         "orientation": "v",
         "showlegend": true,
         "textposition": "auto",
         "type": "bar",
         "x": [
          "CHEVROLET",
          "FORD",
          "GMC",
          "HYUNDAI",
          "ISUZU",
          "MAZDA",
          "NISSAN",
          "SUZUKI",
          "TOYOTA"
         ],
         "xaxis": "x",
         "y": [
          160,
          30,
          147,
          1,
          3,
          17,
          61,
          5,
          87
         ],
         "yaxis": "y"
        },
        {
         "alignmentgroup": "True",
         "hovertemplate": "color=SPECIAL PURPOSE VEHICLE<br>x=%{x}<br>y=%{y}<extra></extra>",
         "legendgroup": "SPECIAL PURPOSE VEHICLE",
         "marker": {
          "color": "#FEAF16",
          "pattern": {
           "shape": ""
          }
         },
         "name": "SPECIAL PURPOSE VEHICLE",
         "offsetgroup": "SPECIAL PURPOSE VEHICLE",
         "orientation": "v",
         "showlegend": true,
         "textposition": "auto",
         "type": "bar",
         "x": [
          "CHEVROLET",
          "FORD",
          "LINCOLN",
          "MERCEDES-BENZ",
          "NISSAN",
          "RAM"
         ],
         "xaxis": "x",
         "y": [
          4,
          64,
          11,
          18,
          9,
          8
         ],
         "yaxis": "y"
        },
        {
         "alignmentgroup": "True",
         "hovertemplate": "color=VAN - CARGO<br>x=%{x}<br>y=%{y}<extra></extra>",
         "legendgroup": "VAN - CARGO",
         "marker": {
          "color": "#F8A19F",
          "pattern": {
           "shape": ""
          }
         },
         "name": "VAN - CARGO",
         "offsetgroup": "VAN - CARGO",
         "orientation": "v",
         "showlegend": true,
         "textposition": "auto",
         "type": "bar",
         "x": [
          "CHEVROLET",
          "DODGE",
          "FORD",
          "GMC"
         ],
         "xaxis": "x",
         "y": [
          127,
          27,
          52,
          126
         ],
         "yaxis": "y"
        },
        {
         "alignmentgroup": "True",
         "hovertemplate": "color=VAN - PASSENGER<br>x=%{x}<br>y=%{y}<extra></extra>",
         "legendgroup": "VAN - PASSENGER",
         "marker": {
          "color": "#90AD1C",
          "pattern": {
           "shape": ""
          }
         },
         "name": "VAN - PASSENGER",
         "offsetgroup": "VAN - PASSENGER",
         "orientation": "v",
         "showlegend": true,
         "textposition": "auto",
         "type": "bar",
         "x": [
          "CHEVROLET",
          "DODGE",
          "FORD",
          "GMC"
         ],
         "xaxis": "x",
         "y": [
          110,
          14,
          64,
          111
         ],
         "yaxis": "y"
        }
       ],
       "layout": {
        "barmode": "relative",
        "legend": {
         "title": {
          "text": "color"
         },
         "tracegroupgap": 0
        },
        "template": {
         "data": {
          "bar": [
           {
            "error_x": {
             "color": "#2a3f5f"
            },
            "error_y": {
             "color": "#2a3f5f"
            },
            "marker": {
             "line": {
              "color": "#E5ECF6",
              "width": 0.5
             },
             "pattern": {
              "fillmode": "overlay",
              "size": 10,
              "solidity": 0.2
             }
            },
            "type": "bar"
           }
          ],
          "barpolar": [
           {
            "marker": {
             "line": {
              "color": "#E5ECF6",
              "width": 0.5
             },
             "pattern": {
              "fillmode": "overlay",
              "size": 10,
              "solidity": 0.2
             }
            },
            "type": "barpolar"
           }
          ],
          "carpet": [
           {
            "aaxis": {
             "endlinecolor": "#2a3f5f",
             "gridcolor": "white",
             "linecolor": "white",
             "minorgridcolor": "white",
             "startlinecolor": "#2a3f5f"
            },
            "baxis": {
             "endlinecolor": "#2a3f5f",
             "gridcolor": "white",
             "linecolor": "white",
             "minorgridcolor": "white",
             "startlinecolor": "#2a3f5f"
            },
            "type": "carpet"
           }
          ],
          "choropleth": [
           {
            "colorbar": {
             "outlinewidth": 0,
             "ticks": ""
            },
            "type": "choropleth"
           }
          ],
          "contour": [
           {
            "colorbar": {
             "outlinewidth": 0,
             "ticks": ""
            },
            "colorscale": [
             [
              0,
              "#0d0887"
             ],
             [
              0.1111111111111111,
              "#46039f"
             ],
             [
              0.2222222222222222,
              "#7201a8"
             ],
             [
              0.3333333333333333,
              "#9c179e"
             ],
             [
              0.4444444444444444,
              "#bd3786"
             ],
             [
              0.5555555555555556,
              "#d8576b"
             ],
             [
              0.6666666666666666,
              "#ed7953"
             ],
             [
              0.7777777777777778,
              "#fb9f3a"
             ],
             [
              0.8888888888888888,
              "#fdca26"
             ],
             [
              1,
              "#f0f921"
             ]
            ],
            "type": "contour"
           }
          ],
          "contourcarpet": [
           {
            "colorbar": {
             "outlinewidth": 0,
             "ticks": ""
            },
            "type": "contourcarpet"
           }
          ],
          "heatmap": [
           {
            "colorbar": {
             "outlinewidth": 0,
             "ticks": ""
            },
            "colorscale": [
             [
              0,
              "#0d0887"
             ],
             [
              0.1111111111111111,
              "#46039f"
             ],
             [
              0.2222222222222222,
              "#7201a8"
             ],
             [
              0.3333333333333333,
              "#9c179e"
             ],
             [
              0.4444444444444444,
              "#bd3786"
             ],
             [
              0.5555555555555556,
              "#d8576b"
             ],
             [
              0.6666666666666666,
              "#ed7953"
             ],
             [
              0.7777777777777778,
              "#fb9f3a"
             ],
             [
              0.8888888888888888,
              "#fdca26"
             ],
             [
              1,
              "#f0f921"
             ]
            ],
            "type": "heatmap"
           }
          ],
          "heatmapgl": [
           {
            "colorbar": {
             "outlinewidth": 0,
             "ticks": ""
            },
            "colorscale": [
             [
              0,
              "#0d0887"
             ],
             [
              0.1111111111111111,
              "#46039f"
             ],
             [
              0.2222222222222222,
              "#7201a8"
             ],
             [
              0.3333333333333333,
              "#9c179e"
             ],
             [
              0.4444444444444444,
              "#bd3786"
             ],
             [
              0.5555555555555556,
              "#d8576b"
             ],
             [
              0.6666666666666666,
              "#ed7953"
             ],
             [
              0.7777777777777778,
              "#fb9f3a"
             ],
             [
              0.8888888888888888,
              "#fdca26"
             ],
             [
              1,
              "#f0f921"
             ]
            ],
            "type": "heatmapgl"
           }
          ],
          "histogram": [
           {
            "marker": {
             "pattern": {
              "fillmode": "overlay",
              "size": 10,
              "solidity": 0.2
             }
            },
            "type": "histogram"
           }
          ],
          "histogram2d": [
           {
            "colorbar": {
             "outlinewidth": 0,
             "ticks": ""
            },
            "colorscale": [
             [
              0,
              "#0d0887"
             ],
             [
              0.1111111111111111,
              "#46039f"
             ],
             [
              0.2222222222222222,
              "#7201a8"
             ],
             [
              0.3333333333333333,
              "#9c179e"
             ],
             [
              0.4444444444444444,
              "#bd3786"
             ],
             [
              0.5555555555555556,
              "#d8576b"
             ],
             [
              0.6666666666666666,
              "#ed7953"
             ],
             [
              0.7777777777777778,
              "#fb9f3a"
             ],
             [
              0.8888888888888888,
              "#fdca26"
             ],
             [
              1,
              "#f0f921"
             ]
            ],
            "type": "histogram2d"
           }
          ],
          "histogram2dcontour": [
           {
            "colorbar": {
             "outlinewidth": 0,
             "ticks": ""
            },
            "colorscale": [
             [
              0,
              "#0d0887"
             ],
             [
              0.1111111111111111,
              "#46039f"
             ],
             [
              0.2222222222222222,
              "#7201a8"
             ],
             [
              0.3333333333333333,
              "#9c179e"
             ],
             [
              0.4444444444444444,
              "#bd3786"
             ],
             [
              0.5555555555555556,
              "#d8576b"
             ],
             [
              0.6666666666666666,
              "#ed7953"
             ],
             [
              0.7777777777777778,
              "#fb9f3a"
             ],
             [
              0.8888888888888888,
              "#fdca26"
             ],
             [
              1,
              "#f0f921"
             ]
            ],
            "type": "histogram2dcontour"
           }
          ],
          "mesh3d": [
           {
            "colorbar": {
             "outlinewidth": 0,
             "ticks": ""
            },
            "type": "mesh3d"
           }
          ],
          "parcoords": [
           {
            "line": {
             "colorbar": {
              "outlinewidth": 0,
              "ticks": ""
             }
            },
            "type": "parcoords"
           }
          ],
          "pie": [
           {
            "automargin": true,
            "type": "pie"
           }
          ],
          "scatter": [
           {
            "fillpattern": {
             "fillmode": "overlay",
             "size": 10,
             "solidity": 0.2
            },
            "type": "scatter"
           }
          ],
          "scatter3d": [
           {
            "line": {
             "colorbar": {
              "outlinewidth": 0,
              "ticks": ""
             }
            },
            "marker": {
             "colorbar": {
              "outlinewidth": 0,
              "ticks": ""
             }
            },
            "type": "scatter3d"
           }
          ],
          "scattercarpet": [
           {
            "marker": {
             "colorbar": {
              "outlinewidth": 0,
              "ticks": ""
             }
            },
            "type": "scattercarpet"
           }
          ],
          "scattergeo": [
           {
            "marker": {
             "colorbar": {
              "outlinewidth": 0,
              "ticks": ""
             }
            },
            "type": "scattergeo"
           }
          ],
          "scattergl": [
           {
            "marker": {
             "colorbar": {
              "outlinewidth": 0,
              "ticks": ""
             }
            },
            "type": "scattergl"
           }
          ],
          "scattermapbox": [
           {
            "marker": {
             "colorbar": {
              "outlinewidth": 0,
              "ticks": ""
             }
            },
            "type": "scattermapbox"
           }
          ],
          "scatterpolar": [
           {
            "marker": {
             "colorbar": {
              "outlinewidth": 0,
              "ticks": ""
             }
            },
            "type": "scatterpolar"
           }
          ],
          "scatterpolargl": [
           {
            "marker": {
             "colorbar": {
              "outlinewidth": 0,
              "ticks": ""
             }
            },
            "type": "scatterpolargl"
           }
          ],
          "scatterternary": [
           {
            "marker": {
             "colorbar": {
              "outlinewidth": 0,
              "ticks": ""
             }
            },
            "type": "scatterternary"
           }
          ],
          "surface": [
           {
            "colorbar": {
             "outlinewidth": 0,
             "ticks": ""
            },
            "colorscale": [
             [
              0,
              "#0d0887"
             ],
             [
              0.1111111111111111,
              "#46039f"
             ],
             [
              0.2222222222222222,
              "#7201a8"
             ],
             [
              0.3333333333333333,
              "#9c179e"
             ],
             [
              0.4444444444444444,
              "#bd3786"
             ],
             [
              0.5555555555555556,
              "#d8576b"
             ],
             [
              0.6666666666666666,
              "#ed7953"
             ],
             [
              0.7777777777777778,
              "#fb9f3a"
             ],
             [
              0.8888888888888888,
              "#fdca26"
             ],
             [
              1,
              "#f0f921"
             ]
            ],
            "type": "surface"
           }
          ],
          "table": [
           {
            "cells": {
             "fill": {
              "color": "#EBF0F8"
             },
             "line": {
              "color": "white"
             }
            },
            "header": {
             "fill": {
              "color": "#C8D4E3"
             },
             "line": {
              "color": "white"
             }
            },
            "type": "table"
           }
          ]
         },
         "layout": {
          "annotationdefaults": {
           "arrowcolor": "#2a3f5f",
           "arrowhead": 0,
           "arrowwidth": 1
          },
          "autotypenumbers": "strict",
          "coloraxis": {
           "colorbar": {
            "outlinewidth": 0,
            "ticks": ""
           }
          },
          "colorscale": {
           "diverging": [
            [
             0,
             "#8e0152"
            ],
            [
             0.1,
             "#c51b7d"
            ],
            [
             0.2,
             "#de77ae"
            ],
            [
             0.3,
             "#f1b6da"
            ],
            [
             0.4,
             "#fde0ef"
            ],
            [
             0.5,
             "#f7f7f7"
            ],
            [
             0.6,
             "#e6f5d0"
            ],
            [
             0.7,
             "#b8e186"
            ],
            [
             0.8,
             "#7fbc41"
            ],
            [
             0.9,
             "#4d9221"
            ],
            [
             1,
             "#276419"
            ]
           ],
           "sequential": [
            [
             0,
             "#0d0887"
            ],
            [
             0.1111111111111111,
             "#46039f"
            ],
            [
             0.2222222222222222,
             "#7201a8"
            ],
            [
             0.3333333333333333,
             "#9c179e"
            ],
            [
             0.4444444444444444,
             "#bd3786"
            ],
            [
             0.5555555555555556,
             "#d8576b"
            ],
            [
             0.6666666666666666,
             "#ed7953"
            ],
            [
             0.7777777777777778,
             "#fb9f3a"
            ],
            [
             0.8888888888888888,
             "#fdca26"
            ],
            [
             1,
             "#f0f921"
            ]
           ],
           "sequentialminus": [
            [
             0,
             "#0d0887"
            ],
            [
             0.1111111111111111,
             "#46039f"
            ],
            [
             0.2222222222222222,
             "#7201a8"
            ],
            [
             0.3333333333333333,
             "#9c179e"
            ],
            [
             0.4444444444444444,
             "#bd3786"
            ],
            [
             0.5555555555555556,
             "#d8576b"
            ],
            [
             0.6666666666666666,
             "#ed7953"
            ],
            [
             0.7777777777777778,
             "#fb9f3a"
            ],
            [
             0.8888888888888888,
             "#fdca26"
            ],
            [
             1,
             "#f0f921"
            ]
           ]
          },
          "colorway": [
           "#636efa",
           "#EF553B",
           "#00cc96",
           "#ab63fa",
           "#FFA15A",
           "#19d3f3",
           "#FF6692",
           "#B6E880",
           "#FF97FF",
           "#FECB52"
          ],
          "font": {
           "color": "#2a3f5f"
          },
          "geo": {
           "bgcolor": "white",
           "lakecolor": "white",
           "landcolor": "#E5ECF6",
           "showlakes": true,
           "showland": true,
           "subunitcolor": "white"
          },
          "hoverlabel": {
           "align": "left"
          },
          "hovermode": "closest",
          "mapbox": {
           "style": "light"
          },
          "paper_bgcolor": "white",
          "plot_bgcolor": "#E5ECF6",
          "polar": {
           "angularaxis": {
            "gridcolor": "white",
            "linecolor": "white",
            "ticks": ""
           },
           "bgcolor": "#E5ECF6",
           "radialaxis": {
            "gridcolor": "white",
            "linecolor": "white",
            "ticks": ""
           }
          },
          "scene": {
           "xaxis": {
            "backgroundcolor": "#E5ECF6",
            "gridcolor": "white",
            "gridwidth": 2,
            "linecolor": "white",
            "showbackground": true,
            "ticks": "",
            "zerolinecolor": "white"
           },
           "yaxis": {
            "backgroundcolor": "#E5ECF6",
            "gridcolor": "white",
            "gridwidth": 2,
            "linecolor": "white",
            "showbackground": true,
            "ticks": "",
            "zerolinecolor": "white"
           },
           "zaxis": {
            "backgroundcolor": "#E5ECF6",
            "gridcolor": "white",
            "gridwidth": 2,
            "linecolor": "white",
            "showbackground": true,
            "ticks": "",
            "zerolinecolor": "white"
           }
          },
          "shapedefaults": {
           "line": {
            "color": "#2a3f5f"
           }
          },
          "ternary": {
           "aaxis": {
            "gridcolor": "white",
            "linecolor": "white",
            "ticks": ""
           },
           "baxis": {
            "gridcolor": "white",
            "linecolor": "white",
            "ticks": ""
           },
           "bgcolor": "#E5ECF6",
           "caxis": {
            "gridcolor": "white",
            "linecolor": "white",
            "ticks": ""
           }
          },
          "title": {
           "x": 0.05
          },
          "xaxis": {
           "automargin": true,
           "gridcolor": "white",
           "linecolor": "white",
           "ticks": "",
           "title": {
            "standoff": 15
           },
           "zerolinecolor": "white",
           "zerolinewidth": 2
          },
          "yaxis": {
           "automargin": true,
           "gridcolor": "white",
           "linecolor": "white",
           "ticks": "",
           "title": {
            "standoff": 15
           },
           "zerolinecolor": "white",
           "zerolinewidth": 2
          }
         }
        },
        "title": {
         "text": "Manufacturer Class Focus"
        },
        "xaxis": {
         "anchor": "y",
         "domain": [
          0,
          1
         ],
         "minor": {
          "showgrid": true,
          "tickcolor": "black"
         },
         "tickangle": 45,
         "title": {
          "text": "Make/Manufacturer"
         }
        },
        "yaxis": {
         "anchor": "x",
         "domain": [
          0,
          1
         ],
         "title": {
          "text": "Number of Vehicles grouped by Class"
         }
        }
       }
      },
      "text/html": [
       "<div>                            <div id=\"42f4170f-1791-46d1-b039-0c3ee8026b8b\" class=\"plotly-graph-div\" style=\"height:525px; width:100%;\"></div>            <script type=\"text/javascript\">                require([\"plotly\"], function(Plotly) {                    window.PLOTLYENV=window.PLOTLYENV || {};                                    if (document.getElementById(\"42f4170f-1791-46d1-b039-0c3ee8026b8b\")) {                    Plotly.newPlot(                        \"42f4170f-1791-46d1-b039-0c3ee8026b8b\",                        [{\"alignmentgroup\":\"True\",\"hovertemplate\":\"color=COMPACT<br>x=%{x}<br>y=%{y}<extra></extra>\",\"legendgroup\":\"COMPACT\",\"marker\":{\"color\":\"#AA0DFE\",\"pattern\":{\"shape\":\"\"}},\"name\":\"COMPACT\",\"offsetgroup\":\"COMPACT\",\"orientation\":\"v\",\"showlegend\":true,\"textposition\":\"auto\",\"x\":[\"ACURA\",\"AUDI\",\"BENTLEY\",\"BMW\",\"BUICK\",\"CADILLAC\",\"CHEVROLET\",\"CHRYSLER\",\"DAEWOO\",\"DODGE\",\"FORD\",\"GENESIS\",\"HONDA\",\"HYUNDAI\",\"INFINITI\",\"JAGUAR\",\"KIA\",\"LEXUS\",\"MAZDA\",\"MERCEDES-BENZ\",\"MINI\",\"MITSUBISHI\",\"NISSAN\",\"OLDSMOBILE\",\"PONTIAC\",\"ROLLS-ROYCE\",\"SAAB\",\"SATURN\",\"SCION\",\"SUBARU\",\"SUZUKI\",\"TOYOTA\",\"VOLKSWAGEN\",\"VOLVO\"],\"xaxis\":\"x\",\"y\":[102.0,139.0,22.0,368.0,16.0,63.0,135.0,62.0,18.0,25.0,125.0,11.0,103.0,100.0,38.0,32.0,92.0,67.0,137.0,279.0,52.0,96.0,57.0,15.0,67.0,26.0,43.0,18.0,12.0,113.0,56.0,146.0,315.0,177.0],\"yaxis\":\"y\",\"type\":\"bar\"},{\"alignmentgroup\":\"True\",\"hovertemplate\":\"color=MID-SIZE<br>x=%{x}<br>y=%{y}<extra></extra>\",\"legendgroup\":\"MID-SIZE\",\"marker\":{\"color\":\"#3283FE\",\"pattern\":{\"shape\":\"\"}},\"name\":\"MID-SIZE\",\"offsetgroup\":\"MID-SIZE\",\"orientation\":\"v\",\"showlegend\":true,\"textposition\":\"auto\",\"x\":[\"ACURA\",\"ALFA ROMEO\",\"AUDI\",\"BENTLEY\",\"BMW\",\"BUICK\",\"CADILLAC\",\"CHEVROLET\",\"CHRYSLER\",\"DAEWOO\",\"DODGE\",\"FERRARI\",\"FORD\",\"HONDA\",\"HYUNDAI\",\"INFINITI\",\"JAGUAR\",\"KIA\",\"LEXUS\",\"LINCOLN\",\"MASERATI\",\"MAZDA\",\"MERCEDES-BENZ\",\"MINI\",\"MITSUBISHI\",\"NISSAN\",\"OLDSMOBILE\",\"PONTIAC\",\"ROLLS-ROYCE\",\"SAAB\",\"SATURN\",\"SCION\",\"SUBARU\",\"SUZUKI\",\"TOYOTA\",\"VOLKSWAGEN\",\"VOLVO\"],\"xaxis\":\"x\",\"y\":[55.0,18.0,144.0,45.0,151.0,107.0,160.0,150.0,95.0,4.0,178.0,19.0,117.0,101.0,102.0,92.0,69.0,108.0,151.0,68.0,27.0,131.0,120.0,57.0,18.0,196.0,8.0,29.0,21.0,41.0,25.0,2.0,41.0,3.0,178.0,77.0,52.0],\"yaxis\":\"y\",\"type\":\"bar\"},{\"alignmentgroup\":\"True\",\"hovertemplate\":\"color=SUBCOMPACT<br>x=%{x}<br>y=%{y}<extra></extra>\",\"legendgroup\":\"SUBCOMPACT\",\"marker\":{\"color\":\"#85660D\",\"pattern\":{\"shape\":\"\"}},\"name\":\"SUBCOMPACT\",\"offsetgroup\":\"SUBCOMPACT\",\"orientation\":\"v\",\"showlegend\":true,\"textposition\":\"auto\",\"x\":[\"ACURA\",\"ASTON MARTIN\",\"AUDI\",\"BENTLEY\",\"BMW\",\"CHEVROLET\",\"CHRYSLER\",\"DAEWOO\",\"DODGE\",\"FERRARI\",\"FORD\",\"HONDA\",\"HYUNDAI\",\"INFINITI\",\"JAGUAR\",\"JEEP\",\"KIA\",\"LEXUS\",\"MASERATI\",\"MAZDA\",\"MERCEDES-BENZ\",\"MINI\",\"MITSUBISHI\",\"NISSAN\",\"PLYMOUTH\",\"PONTIAC\",\"ROLLS-ROYCE\",\"SAAB\",\"SATURN\",\"SCION\",\"SUBARU\",\"SUZUKI\",\"TOYOTA\",\"VOLKSWAGEN\",\"VOLVO\"],\"xaxis\":\"x\",\"y\":[25.0,8.0,181.0,26.0,428.0,137.0,7.0,4.0,2.0,7.0,184.0,26.0,53.0,52.0,34.0,1.0,2.0,93.0,31.0,19.0,177.0,112.0,39.0,34.0,1.0,56.0,1.0,27.0,28.0,8.0,35.0,12.0,46.0,92.0,22.0],\"yaxis\":\"y\",\"type\":\"bar\"},{\"alignmentgroup\":\"True\",\"hovertemplate\":\"color=SUV<br>x=%{x}<br>y=%{y}<extra></extra>\",\"legendgroup\":\"SUV\",\"marker\":{\"color\":\"#782AB6\",\"pattern\":{\"shape\":\"\"}},\"name\":\"SUV\",\"offsetgroup\":\"SUV\",\"orientation\":\"v\",\"showlegend\":true,\"textposition\":\"auto\",\"x\":[\"ACURA\",\"AUDI\",\"BMW\",\"BUICK\",\"CADILLAC\",\"CHEVROLET\",\"CHRYSLER\",\"DODGE\",\"FORD\",\"GMC\",\"HONDA\",\"HUMMER\",\"HYUNDAI\",\"INFINITI\",\"ISUZU\",\"JEEP\",\"KIA\",\"LAND ROVER\",\"LEXUS\",\"LINCOLN\",\"MAZDA\",\"MERCEDES-BENZ\",\"MITSUBISHI\",\"NISSAN\",\"OLDSMOBILE\",\"PONTIAC\",\"PORSCHE\",\"SAAB\",\"SATURN\",\"SUBARU\",\"SUZUKI\",\"TOYOTA\",\"VOLKSWAGEN\",\"VOLVO\"],\"xaxis\":\"x\",\"y\":[20.0,25.0,85.0,34.0,60.0,360.0,51.0,92.0,175.0,285.0,72.0,14.0,88.0,32.0,14.0,201.0,80.0,63.0,50.0,24.0,74.0,90.0,56.0,87.0,3.0,22.0,43.0,11.0,49.0,101.0,61.0,135.0,28.0,55.0],\"yaxis\":\"y\",\"type\":\"bar\"},{\"alignmentgroup\":\"True\",\"hovertemplate\":\"color=SUV - SMALL<br>x=%{x}<br>y=%{y}<extra></extra>\",\"legendgroup\":\"SUV - SMALL\",\"marker\":{\"color\":\"#565656\",\"pattern\":{\"shape\":\"\"}},\"name\":\"SUV - SMALL\",\"offsetgroup\":\"SUV - SMALL\",\"orientation\":\"v\",\"showlegend\":true,\"textposition\":\"auto\",\"x\":[\"ACURA\",\"ALFA ROMEO\",\"AUDI\",\"BMW\",\"BUICK\",\"CADILLAC\",\"CHEVROLET\",\"DODGE\",\"FIAT\",\"FORD\",\"GENESIS\",\"GMC\",\"HONDA\",\"HYUNDAI\",\"INFINITI\",\"JAGUAR\",\"JEEP\",\"KIA\",\"LAND ROVER\",\"LEXUS\",\"LINCOLN\",\"MAZDA\",\"MERCEDES-BENZ\",\"MITSUBISHI\",\"NISSAN\",\"PORSCHE\",\"SUBARU\",\"SUZUKI\",\"TOYOTA\",\"VOLKSWAGEN\",\"VOLVO\"],\"xaxis\":\"x\",\"y\":[33.0,14.0,40.0,74.0,50.0,28.0,108.0,29.0,13.0,131.0,2.0,47.0,54.0,100.0,24.0,16.0,283.0,80.0,34.0,46.0,39.0,74.0,50.0,59.0,54.0,26.0,76.0,1.0,85.0,38.0,48.0],\"yaxis\":\"y\",\"type\":\"bar\"},{\"alignmentgroup\":\"True\",\"hovertemplate\":\"color=TWO-SEATER<br>x=%{x}<br>y=%{y}<extra></extra>\",\"legendgroup\":\"TWO-SEATER\",\"marker\":{\"color\":\"#1C8356\",\"pattern\":{\"shape\":\"\"}},\"name\":\"TWO-SEATER\",\"offsetgroup\":\"TWO-SEATER\",\"orientation\":\"v\",\"showlegend\":true,\"textposition\":\"auto\",\"x\":[\"ACURA\",\"ALFA ROMEO\",\"ASTON MARTIN\",\"AUDI\",\"BENTLEY\",\"BMW\",\"BUGATTI\",\"CADILLAC\",\"CHEVROLET\",\"CHRYSLER\",\"DODGE\",\"FERRARI\",\"FIAT\",\"FORD\",\"HONDA\",\"JAGUAR\",\"LAMBORGHINI\",\"LEXUS\",\"MASERATI\",\"MAZDA\",\"MERCEDES-BENZ\",\"MINI\",\"NISSAN\",\"PLYMOUTH\",\"PONTIAC\",\"PORSCHE\",\"SATURN\",\"SMART\",\"SRT\",\"TOYOTA\"],\"xaxis\":\"x\",\"y\":[12.0,10.0,48.0,96.0,6.0,83.0,12.0,9.0,66.0,24.0,18.0,47.0,8.0,13.0,27.0,88.0,107.0,1.0,10.0,57.0,175.0,46.0,67.0,1.0,13.0,225.0,12.0,22.0,4.0,5.0],\"yaxis\":\"y\",\"type\":\"bar\"},{\"alignmentgroup\":\"True\",\"hovertemplate\":\"color=MINICOMPACT<br>x=%{x}<br>y=%{y}<extra></extra>\",\"legendgroup\":\"MINICOMPACT\",\"marker\":{\"color\":\"#16FF32\",\"pattern\":{\"shape\":\"\"}},\"name\":\"MINICOMPACT\",\"offsetgroup\":\"MINICOMPACT\",\"orientation\":\"v\",\"showlegend\":true,\"textposition\":\"auto\",\"x\":[\"ASTON MARTIN\",\"AUDI\",\"BENTLEY\",\"BMW\",\"FIAT\",\"JAGUAR\",\"LEXUS\",\"MERCEDES-BENZ\",\"MINI\",\"MITSUBISHI\",\"PORSCHE\",\"SCION\",\"SUBARU\",\"TOYOTA\",\"VOLKSWAGEN\"],\"xaxis\":\"x\",\"y\":[48.0,16.0,4.0,39.0,52.0,53.0,11.0,8.0,135.0,32.0,534.0,12.0,20.0,10.0,20.0],\"yaxis\":\"y\",\"type\":\"bar\"},{\"alignmentgroup\":\"True\",\"hovertemplate\":\"color=SUV - STANDARD<br>x=%{x}<br>y=%{y}<extra></extra>\",\"legendgroup\":\"SUV - STANDARD\",\"marker\":{\"color\":\"#F7E1A0\",\"pattern\":{\"shape\":\"\"}},\"name\":\"SUV - STANDARD\",\"offsetgroup\":\"SUV - STANDARD\",\"orientation\":\"v\",\"showlegend\":true,\"textposition\":\"auto\",\"x\":[\"ASTON MARTIN\",\"AUDI\",\"BENTLEY\",\"BMW\",\"BUICK\",\"CADILLAC\",\"CHEVROLET\",\"DODGE\",\"FORD\",\"GENESIS\",\"GMC\",\"HONDA\",\"HYUNDAI\",\"INFINITI\",\"JEEP\",\"LAMBORGHINI\",\"LAND ROVER\",\"LEXUS\",\"LINCOLN\",\"MASERATI\",\"MERCEDES-BENZ\",\"NISSAN\",\"PORSCHE\",\"SUBARU\",\"TOYOTA\",\"VOLKSWAGEN\",\"VOLVO\"],\"xaxis\":\"x\",\"y\":[2.0,29.0,9.0,81.0,22.0,34.0,146.0,29.0,100.0,4.0,177.0,1.0,5.0,15.0,49.0,4.0,77.0,31.0,24.0,20.0,113.0,11.0,51.0,4.0,59.0,7.0,18.0],\"yaxis\":\"y\",\"type\":\"bar\"},{\"alignmentgroup\":\"True\",\"hovertemplate\":\"color=FULL-SIZE<br>x=%{x}<br>y=%{y}<extra></extra>\",\"legendgroup\":\"FULL-SIZE\",\"marker\":{\"color\":\"#E2E2E2\",\"pattern\":{\"shape\":\"\"}},\"name\":\"FULL-SIZE\",\"offsetgroup\":\"FULL-SIZE\",\"orientation\":\"v\",\"showlegend\":true,\"textposition\":\"auto\",\"x\":[\"AUDI\",\"BENTLEY\",\"BMW\",\"BUICK\",\"CADILLAC\",\"CHEVROLET\",\"CHRYSLER\",\"DODGE\",\"FORD\",\"GENESIS\",\"HONDA\",\"HYUNDAI\",\"INFINITI\",\"JAGUAR\",\"KIA\",\"LEXUS\",\"LINCOLN\",\"MASERATI\",\"MERCEDES-BENZ\",\"PONTIAC\",\"PORSCHE\",\"ROLLS-ROYCE\",\"SAAB\",\"SUBARU\",\"TOYOTA\",\"VOLKSWAGEN\"],\"xaxis\":\"x\",\"y\":[43.0,6.0,116.0,36.0,47.0,73.0,141.0,167.0,97.0,25.0,70.0,99.0,19.0,64.0,61.0,9.0,55.0,37.0,136.0,13.0,109.0,51.0,3.0,6.0,12.0,8.0],\"yaxis\":\"y\",\"type\":\"bar\"},{\"alignmentgroup\":\"True\",\"hovertemplate\":\"color=STATION WAGON - MID-SIZE<br>x=%{x}<br>y=%{y}<extra></extra>\",\"legendgroup\":\"STATION WAGON - MID-SIZE\",\"marker\":{\"color\":\"#1CBE4F\",\"pattern\":{\"shape\":\"\"}},\"name\":\"STATION WAGON - MID-SIZE\",\"offsetgroup\":\"STATION WAGON - MID-SIZE\",\"orientation\":\"v\",\"showlegend\":true,\"textposition\":\"auto\",\"x\":[\"AUDI\",\"BMW\",\"FORD\",\"KIA\",\"LEXUS\",\"MAZDA\",\"MERCEDES-BENZ\",\"NISSAN\",\"ROLLS-ROYCE\",\"SAAB\",\"SATURN\",\"SUBARU\",\"TOYOTA\",\"VOLKSWAGEN\",\"VOLVO\"],\"xaxis\":\"x\",\"y\":[17.0,10.0,38.0,19.0,1.0,10.0,51.0,15.0,7.0,37.0,12.0,42.0,7.0,49.0,72.0],\"yaxis\":\"y\",\"type\":\"bar\"},{\"alignmentgroup\":\"True\",\"hovertemplate\":\"color=STATION WAGON - SMALL<br>x=%{x}<br>y=%{y}<extra></extra>\",\"legendgroup\":\"STATION WAGON - SMALL\",\"marker\":{\"color\":\"#C4451C\",\"pattern\":{\"shape\":\"\"}},\"name\":\"STATION WAGON - SMALL\",\"offsetgroup\":\"STATION WAGON - SMALL\",\"orientation\":\"v\",\"showlegend\":true,\"textposition\":\"auto\",\"x\":[\"AUDI\",\"BMW\",\"CADILLAC\",\"CHEVROLET\",\"DAEWOO\",\"FIAT\",\"HONDA\",\"HYUNDAI\",\"INFINITI\",\"JAGUAR\",\"KIA\",\"MERCEDES-BENZ\",\"MINI\",\"MITSUBISHI\",\"NISSAN\",\"PONTIAC\",\"SAAB\",\"SATURN\",\"SCION\",\"SUBARU\",\"SUZUKI\",\"TOYOTA\",\"VOLKSWAGEN\",\"VOLVO\"],\"xaxis\":\"x\",\"y\":[75.0,55.0,28.0,20.0,8.0,12.0,58.0,10.0,8.0,8.0,62.0,59.0,4.0,22.0,56.0,32.0,28.0,4.0,10.0,82.0,61.0,48.0,56.0,71.0],\"yaxis\":\"y\",\"type\":\"bar\"},{\"alignmentgroup\":\"True\",\"hovertemplate\":\"color=MINIVAN<br>x=%{x}<br>y=%{y}<extra></extra>\",\"legendgroup\":\"MINIVAN\",\"marker\":{\"color\":\"#DEA0FD\",\"pattern\":{\"shape\":\"\"}},\"name\":\"MINIVAN\",\"offsetgroup\":\"MINIVAN\",\"orientation\":\"v\",\"showlegend\":true,\"textposition\":\"auto\",\"x\":[\"BUICK\",\"CHEVROLET\",\"CHRYSLER\",\"DODGE\",\"FORD\",\"HONDA\",\"HYUNDAI\",\"KIA\",\"MAZDA\",\"NISSAN\",\"OLDSMOBILE\",\"PONTIAC\",\"RAM\",\"SATURN\",\"TOYOTA\",\"VOLKSWAGEN\"],\"xaxis\":\"x\",\"y\":[8.0,21.0,45.0,121.0,9.0,34.0,3.0,28.0,25.0,15.0,8.0,21.0,8.0,8.0,43.0,11.0],\"yaxis\":\"y\",\"type\":\"bar\"},{\"alignmentgroup\":\"True\",\"hovertemplate\":\"color=PICKUP TRUCK - STANDARD<br>x=%{x}<br>y=%{y}<extra></extra>\",\"legendgroup\":\"PICKUP TRUCK - STANDARD\",\"marker\":{\"color\":\"#FE00FA\",\"pattern\":{\"shape\":\"\"}},\"name\":\"PICKUP TRUCK - STANDARD\",\"offsetgroup\":\"PICKUP TRUCK - STANDARD\",\"orientation\":\"v\",\"showlegend\":true,\"textposition\":\"auto\",\"x\":[\"CADILLAC\",\"CHEVROLET\",\"DODGE\",\"FORD\",\"GMC\",\"HONDA\",\"HUMMER\",\"ISUZU\",\"JEEP\",\"LINCOLN\",\"MAZDA\",\"NISSAN\",\"RAM\",\"TOYOTA\"],\"xaxis\":\"x\",\"y\":[5.0,513.0,223.0,525.0,464.0,15.0,7.0,1.0,10.0,4.0,58.0,102.0,137.0,140.0],\"yaxis\":\"y\",\"type\":\"bar\"},{\"alignmentgroup\":\"True\",\"hovertemplate\":\"color=PICKUP TRUCK - SMALL<br>x=%{x}<br>y=%{y}<extra></extra>\",\"legendgroup\":\"PICKUP TRUCK - SMALL\",\"marker\":{\"color\":\"#325A9B\",\"pattern\":{\"shape\":\"\"}},\"name\":\"PICKUP TRUCK - SMALL\",\"offsetgroup\":\"PICKUP TRUCK - SMALL\",\"orientation\":\"v\",\"showlegend\":true,\"textposition\":\"auto\",\"x\":[\"CHEVROLET\",\"FORD\",\"GMC\",\"HYUNDAI\",\"ISUZU\",\"MAZDA\",\"NISSAN\",\"SUZUKI\",\"TOYOTA\"],\"xaxis\":\"x\",\"y\":[160.0,30.0,147.0,1.0,3.0,17.0,61.0,5.0,87.0],\"yaxis\":\"y\",\"type\":\"bar\"},{\"alignmentgroup\":\"True\",\"hovertemplate\":\"color=SPECIAL PURPOSE VEHICLE<br>x=%{x}<br>y=%{y}<extra></extra>\",\"legendgroup\":\"SPECIAL PURPOSE VEHICLE\",\"marker\":{\"color\":\"#FEAF16\",\"pattern\":{\"shape\":\"\"}},\"name\":\"SPECIAL PURPOSE VEHICLE\",\"offsetgroup\":\"SPECIAL PURPOSE VEHICLE\",\"orientation\":\"v\",\"showlegend\":true,\"textposition\":\"auto\",\"x\":[\"CHEVROLET\",\"FORD\",\"LINCOLN\",\"MERCEDES-BENZ\",\"NISSAN\",\"RAM\"],\"xaxis\":\"x\",\"y\":[4.0,64.0,11.0,18.0,9.0,8.0],\"yaxis\":\"y\",\"type\":\"bar\"},{\"alignmentgroup\":\"True\",\"hovertemplate\":\"color=VAN - CARGO<br>x=%{x}<br>y=%{y}<extra></extra>\",\"legendgroup\":\"VAN - CARGO\",\"marker\":{\"color\":\"#F8A19F\",\"pattern\":{\"shape\":\"\"}},\"name\":\"VAN - CARGO\",\"offsetgroup\":\"VAN - CARGO\",\"orientation\":\"v\",\"showlegend\":true,\"textposition\":\"auto\",\"x\":[\"CHEVROLET\",\"DODGE\",\"FORD\",\"GMC\"],\"xaxis\":\"x\",\"y\":[127.0,27.0,52.0,126.0],\"yaxis\":\"y\",\"type\":\"bar\"},{\"alignmentgroup\":\"True\",\"hovertemplate\":\"color=VAN - PASSENGER<br>x=%{x}<br>y=%{y}<extra></extra>\",\"legendgroup\":\"VAN - PASSENGER\",\"marker\":{\"color\":\"#90AD1C\",\"pattern\":{\"shape\":\"\"}},\"name\":\"VAN - PASSENGER\",\"offsetgroup\":\"VAN - PASSENGER\",\"orientation\":\"v\",\"showlegend\":true,\"textposition\":\"auto\",\"x\":[\"CHEVROLET\",\"DODGE\",\"FORD\",\"GMC\"],\"xaxis\":\"x\",\"y\":[110.0,14.0,64.0,111.0],\"yaxis\":\"y\",\"type\":\"bar\"}],                        {\"template\":{\"data\":{\"histogram2dcontour\":[{\"type\":\"histogram2dcontour\",\"colorbar\":{\"outlinewidth\":0,\"ticks\":\"\"},\"colorscale\":[[0.0,\"#0d0887\"],[0.1111111111111111,\"#46039f\"],[0.2222222222222222,\"#7201a8\"],[0.3333333333333333,\"#9c179e\"],[0.4444444444444444,\"#bd3786\"],[0.5555555555555556,\"#d8576b\"],[0.6666666666666666,\"#ed7953\"],[0.7777777777777778,\"#fb9f3a\"],[0.8888888888888888,\"#fdca26\"],[1.0,\"#f0f921\"]]}],\"choropleth\":[{\"type\":\"choropleth\",\"colorbar\":{\"outlinewidth\":0,\"ticks\":\"\"}}],\"histogram2d\":[{\"type\":\"histogram2d\",\"colorbar\":{\"outlinewidth\":0,\"ticks\":\"\"},\"colorscale\":[[0.0,\"#0d0887\"],[0.1111111111111111,\"#46039f\"],[0.2222222222222222,\"#7201a8\"],[0.3333333333333333,\"#9c179e\"],[0.4444444444444444,\"#bd3786\"],[0.5555555555555556,\"#d8576b\"],[0.6666666666666666,\"#ed7953\"],[0.7777777777777778,\"#fb9f3a\"],[0.8888888888888888,\"#fdca26\"],[1.0,\"#f0f921\"]]}],\"heatmap\":[{\"type\":\"heatmap\",\"colorbar\":{\"outlinewidth\":0,\"ticks\":\"\"},\"colorscale\":[[0.0,\"#0d0887\"],[0.1111111111111111,\"#46039f\"],[0.2222222222222222,\"#7201a8\"],[0.3333333333333333,\"#9c179e\"],[0.4444444444444444,\"#bd3786\"],[0.5555555555555556,\"#d8576b\"],[0.6666666666666666,\"#ed7953\"],[0.7777777777777778,\"#fb9f3a\"],[0.8888888888888888,\"#fdca26\"],[1.0,\"#f0f921\"]]}],\"heatmapgl\":[{\"type\":\"heatmapgl\",\"colorbar\":{\"outlinewidth\":0,\"ticks\":\"\"},\"colorscale\":[[0.0,\"#0d0887\"],[0.1111111111111111,\"#46039f\"],[0.2222222222222222,\"#7201a8\"],[0.3333333333333333,\"#9c179e\"],[0.4444444444444444,\"#bd3786\"],[0.5555555555555556,\"#d8576b\"],[0.6666666666666666,\"#ed7953\"],[0.7777777777777778,\"#fb9f3a\"],[0.8888888888888888,\"#fdca26\"],[1.0,\"#f0f921\"]]}],\"contourcarpet\":[{\"type\":\"contourcarpet\",\"colorbar\":{\"outlinewidth\":0,\"ticks\":\"\"}}],\"contour\":[{\"type\":\"contour\",\"colorbar\":{\"outlinewidth\":0,\"ticks\":\"\"},\"colorscale\":[[0.0,\"#0d0887\"],[0.1111111111111111,\"#46039f\"],[0.2222222222222222,\"#7201a8\"],[0.3333333333333333,\"#9c179e\"],[0.4444444444444444,\"#bd3786\"],[0.5555555555555556,\"#d8576b\"],[0.6666666666666666,\"#ed7953\"],[0.7777777777777778,\"#fb9f3a\"],[0.8888888888888888,\"#fdca26\"],[1.0,\"#f0f921\"]]}],\"surface\":[{\"type\":\"surface\",\"colorbar\":{\"outlinewidth\":0,\"ticks\":\"\"},\"colorscale\":[[0.0,\"#0d0887\"],[0.1111111111111111,\"#46039f\"],[0.2222222222222222,\"#7201a8\"],[0.3333333333333333,\"#9c179e\"],[0.4444444444444444,\"#bd3786\"],[0.5555555555555556,\"#d8576b\"],[0.6666666666666666,\"#ed7953\"],[0.7777777777777778,\"#fb9f3a\"],[0.8888888888888888,\"#fdca26\"],[1.0,\"#f0f921\"]]}],\"mesh3d\":[{\"type\":\"mesh3d\",\"colorbar\":{\"outlinewidth\":0,\"ticks\":\"\"}}],\"scatter\":[{\"fillpattern\":{\"fillmode\":\"overlay\",\"size\":10,\"solidity\":0.2},\"type\":\"scatter\"}],\"parcoords\":[{\"type\":\"parcoords\",\"line\":{\"colorbar\":{\"outlinewidth\":0,\"ticks\":\"\"}}}],\"scatterpolargl\":[{\"type\":\"scatterpolargl\",\"marker\":{\"colorbar\":{\"outlinewidth\":0,\"ticks\":\"\"}}}],\"bar\":[{\"error_x\":{\"color\":\"#2a3f5f\"},\"error_y\":{\"color\":\"#2a3f5f\"},\"marker\":{\"line\":{\"color\":\"#E5ECF6\",\"width\":0.5},\"pattern\":{\"fillmode\":\"overlay\",\"size\":10,\"solidity\":0.2}},\"type\":\"bar\"}],\"scattergeo\":[{\"type\":\"scattergeo\",\"marker\":{\"colorbar\":{\"outlinewidth\":0,\"ticks\":\"\"}}}],\"scatterpolar\":[{\"type\":\"scatterpolar\",\"marker\":{\"colorbar\":{\"outlinewidth\":0,\"ticks\":\"\"}}}],\"histogram\":[{\"marker\":{\"pattern\":{\"fillmode\":\"overlay\",\"size\":10,\"solidity\":0.2}},\"type\":\"histogram\"}],\"scattergl\":[{\"type\":\"scattergl\",\"marker\":{\"colorbar\":{\"outlinewidth\":0,\"ticks\":\"\"}}}],\"scatter3d\":[{\"type\":\"scatter3d\",\"line\":{\"colorbar\":{\"outlinewidth\":0,\"ticks\":\"\"}},\"marker\":{\"colorbar\":{\"outlinewidth\":0,\"ticks\":\"\"}}}],\"scattermapbox\":[{\"type\":\"scattermapbox\",\"marker\":{\"colorbar\":{\"outlinewidth\":0,\"ticks\":\"\"}}}],\"scatterternary\":[{\"type\":\"scatterternary\",\"marker\":{\"colorbar\":{\"outlinewidth\":0,\"ticks\":\"\"}}}],\"scattercarpet\":[{\"type\":\"scattercarpet\",\"marker\":{\"colorbar\":{\"outlinewidth\":0,\"ticks\":\"\"}}}],\"carpet\":[{\"aaxis\":{\"endlinecolor\":\"#2a3f5f\",\"gridcolor\":\"white\",\"linecolor\":\"white\",\"minorgridcolor\":\"white\",\"startlinecolor\":\"#2a3f5f\"},\"baxis\":{\"endlinecolor\":\"#2a3f5f\",\"gridcolor\":\"white\",\"linecolor\":\"white\",\"minorgridcolor\":\"white\",\"startlinecolor\":\"#2a3f5f\"},\"type\":\"carpet\"}],\"table\":[{\"cells\":{\"fill\":{\"color\":\"#EBF0F8\"},\"line\":{\"color\":\"white\"}},\"header\":{\"fill\":{\"color\":\"#C8D4E3\"},\"line\":{\"color\":\"white\"}},\"type\":\"table\"}],\"barpolar\":[{\"marker\":{\"line\":{\"color\":\"#E5ECF6\",\"width\":0.5},\"pattern\":{\"fillmode\":\"overlay\",\"size\":10,\"solidity\":0.2}},\"type\":\"barpolar\"}],\"pie\":[{\"automargin\":true,\"type\":\"pie\"}]},\"layout\":{\"autotypenumbers\":\"strict\",\"colorway\":[\"#636efa\",\"#EF553B\",\"#00cc96\",\"#ab63fa\",\"#FFA15A\",\"#19d3f3\",\"#FF6692\",\"#B6E880\",\"#FF97FF\",\"#FECB52\"],\"font\":{\"color\":\"#2a3f5f\"},\"hovermode\":\"closest\",\"hoverlabel\":{\"align\":\"left\"},\"paper_bgcolor\":\"white\",\"plot_bgcolor\":\"#E5ECF6\",\"polar\":{\"bgcolor\":\"#E5ECF6\",\"angularaxis\":{\"gridcolor\":\"white\",\"linecolor\":\"white\",\"ticks\":\"\"},\"radialaxis\":{\"gridcolor\":\"white\",\"linecolor\":\"white\",\"ticks\":\"\"}},\"ternary\":{\"bgcolor\":\"#E5ECF6\",\"aaxis\":{\"gridcolor\":\"white\",\"linecolor\":\"white\",\"ticks\":\"\"},\"baxis\":{\"gridcolor\":\"white\",\"linecolor\":\"white\",\"ticks\":\"\"},\"caxis\":{\"gridcolor\":\"white\",\"linecolor\":\"white\",\"ticks\":\"\"}},\"coloraxis\":{\"colorbar\":{\"outlinewidth\":0,\"ticks\":\"\"}},\"colorscale\":{\"sequential\":[[0.0,\"#0d0887\"],[0.1111111111111111,\"#46039f\"],[0.2222222222222222,\"#7201a8\"],[0.3333333333333333,\"#9c179e\"],[0.4444444444444444,\"#bd3786\"],[0.5555555555555556,\"#d8576b\"],[0.6666666666666666,\"#ed7953\"],[0.7777777777777778,\"#fb9f3a\"],[0.8888888888888888,\"#fdca26\"],[1.0,\"#f0f921\"]],\"sequentialminus\":[[0.0,\"#0d0887\"],[0.1111111111111111,\"#46039f\"],[0.2222222222222222,\"#7201a8\"],[0.3333333333333333,\"#9c179e\"],[0.4444444444444444,\"#bd3786\"],[0.5555555555555556,\"#d8576b\"],[0.6666666666666666,\"#ed7953\"],[0.7777777777777778,\"#fb9f3a\"],[0.8888888888888888,\"#fdca26\"],[1.0,\"#f0f921\"]],\"diverging\":[[0,\"#8e0152\"],[0.1,\"#c51b7d\"],[0.2,\"#de77ae\"],[0.3,\"#f1b6da\"],[0.4,\"#fde0ef\"],[0.5,\"#f7f7f7\"],[0.6,\"#e6f5d0\"],[0.7,\"#b8e186\"],[0.8,\"#7fbc41\"],[0.9,\"#4d9221\"],[1,\"#276419\"]]},\"xaxis\":{\"gridcolor\":\"white\",\"linecolor\":\"white\",\"ticks\":\"\",\"title\":{\"standoff\":15},\"zerolinecolor\":\"white\",\"automargin\":true,\"zerolinewidth\":2},\"yaxis\":{\"gridcolor\":\"white\",\"linecolor\":\"white\",\"ticks\":\"\",\"title\":{\"standoff\":15},\"zerolinecolor\":\"white\",\"automargin\":true,\"zerolinewidth\":2},\"scene\":{\"xaxis\":{\"backgroundcolor\":\"#E5ECF6\",\"gridcolor\":\"white\",\"linecolor\":\"white\",\"showbackground\":true,\"ticks\":\"\",\"zerolinecolor\":\"white\",\"gridwidth\":2},\"yaxis\":{\"backgroundcolor\":\"#E5ECF6\",\"gridcolor\":\"white\",\"linecolor\":\"white\",\"showbackground\":true,\"ticks\":\"\",\"zerolinecolor\":\"white\",\"gridwidth\":2},\"zaxis\":{\"backgroundcolor\":\"#E5ECF6\",\"gridcolor\":\"white\",\"linecolor\":\"white\",\"showbackground\":true,\"ticks\":\"\",\"zerolinecolor\":\"white\",\"gridwidth\":2}},\"shapedefaults\":{\"line\":{\"color\":\"#2a3f5f\"}},\"annotationdefaults\":{\"arrowcolor\":\"#2a3f5f\",\"arrowhead\":0,\"arrowwidth\":1},\"geo\":{\"bgcolor\":\"white\",\"landcolor\":\"#E5ECF6\",\"subunitcolor\":\"white\",\"showland\":true,\"showlakes\":true,\"lakecolor\":\"white\"},\"title\":{\"x\":0.05},\"mapbox\":{\"style\":\"light\"}}},\"xaxis\":{\"anchor\":\"y\",\"domain\":[0.0,1.0],\"title\":{\"text\":\"Make/Manufacturer\"},\"minor\":{\"tickcolor\":\"black\",\"showgrid\":true},\"tickangle\":45},\"yaxis\":{\"anchor\":\"x\",\"domain\":[0.0,1.0],\"title\":{\"text\":\"Number of Vehicles grouped by Class\"}},\"legend\":{\"title\":{\"text\":\"color\"},\"tracegroupgap\":0},\"title\":{\"text\":\"Manufacturer Class Focus\"},\"barmode\":\"relative\"},                        {\"responsive\": true}                    ).then(function(){\n",
       "                            \n",
       "var gd = document.getElementById('42f4170f-1791-46d1-b039-0c3ee8026b8b');\n",
       "var x = new MutationObserver(function (mutations, observer) {{\n",
       "        var display = window.getComputedStyle(gd).display;\n",
       "        if (!display || display === 'none') {{\n",
       "            console.log([gd, 'removed!']);\n",
       "            Plotly.purge(gd);\n",
       "            observer.disconnect();\n",
       "        }}\n",
       "}});\n",
       "\n",
       "// Listen for the removal of the full notebook cells\n",
       "var notebookContainer = gd.closest('#notebook-container');\n",
       "if (notebookContainer) {{\n",
       "    x.observe(notebookContainer, {childList: true});\n",
       "}}\n",
       "\n",
       "// Listen for the clearing of the current output cell\n",
       "var outputEl = gd.closest('.output');\n",
       "if (outputEl) {{\n",
       "    x.observe(outputEl, {childList: true});\n",
       "}}\n",
       "\n",
       "                        })                };                });            </script>        </div>"
      ]
     },
     "metadata": {},
     "output_type": "display_data"
    }
   ],
   "source": [
    "Make = [x[0] for x in data_by_make.index]\n",
    "Count = data_by_make['ID']['count'].values.tolist()\n",
    "VehicleClass = [x[1] for x in data_by_make.index]\n",
    "\n",
    "fig = px.bar(x=Make, \n",
    "             y=Count, \n",
    "             color=VehicleClass, \n",
    "             color_discrete_sequence=px.colors.qualitative.Alphabet,\n",
    "             title=\"Manufacturer Class Focus\")\n",
    "\n",
    "fig.update_layout(xaxis_title='Make/Manufacturer',\n",
    "                  yaxis_title='Number of Vehicles grouped by Class',\n",
    "                  )                \n",
    "fig.update_xaxes(tickangle=45,minor=dict(tickcolor=\"black\", showgrid=True))    \n",
    "    \n",
    "fig.show()"
   ]
  },
  {
   "cell_type": "code",
   "execution_count": 20,
   "id": "ce80ccbb",
   "metadata": {},
   "outputs": [
    {
     "data": {
      "application/vnd.plotly.v1+json": {
       "config": {
        "plotlyServerURL": "https://plot.ly"
       },
       "data": [
        {
         "alignmentgroup": "True",
         "hovertemplate": "<b>Class: %{x}</b><br>Count: %{y}</br>Make: %{text}<br>",
         "legendgroup": "ACURA",
         "marker": {
          "color": "#AA0DFE",
          "pattern": {
           "shape": ""
          }
         },
         "name": "ACURA",
         "offsetgroup": "ACURA",
         "orientation": "v",
         "showlegend": true,
         "text": [
          "ACURA",
          "ACURA",
          "ACURA",
          "ACURA",
          "ACURA",
          "ACURA"
         ],
         "textposition": "auto",
         "type": "bar",
         "x": [
          "COMPACT",
          "MID-SIZE",
          "SUBCOMPACT",
          "SUV",
          "SUV - SMALL",
          "TWO-SEATER"
         ],
         "xaxis": "x",
         "y": [
          102,
          55,
          25,
          20,
          33,
          12
         ],
         "yaxis": "y"
        },
        {
         "alignmentgroup": "True",
         "hovertemplate": "<b>Class: %{x}</b><br>Count: %{y}</br>Make: %{text}<br>",
         "legendgroup": "ALFA ROMEO",
         "marker": {
          "color": "#3283FE",
          "pattern": {
           "shape": ""
          }
         },
         "name": "ALFA ROMEO",
         "offsetgroup": "ALFA ROMEO",
         "orientation": "v",
         "showlegend": true,
         "text": [
          "ALFA ROMEO",
          "ALFA ROMEO",
          "ALFA ROMEO"
         ],
         "textposition": "auto",
         "type": "bar",
         "x": [
          "MID-SIZE",
          "SUV - SMALL",
          "TWO-SEATER"
         ],
         "xaxis": "x",
         "y": [
          18,
          14,
          10
         ],
         "yaxis": "y"
        },
        {
         "alignmentgroup": "True",
         "hovertemplate": "<b>Class: %{x}</b><br>Count: %{y}</br>Make: %{text}<br>",
         "legendgroup": "ASTON MARTIN",
         "marker": {
          "color": "#85660D",
          "pattern": {
           "shape": ""
          }
         },
         "name": "ASTON MARTIN",
         "offsetgroup": "ASTON MARTIN",
         "orientation": "v",
         "showlegend": true,
         "text": [
          "ASTON MARTIN",
          "ASTON MARTIN",
          "ASTON MARTIN",
          "ASTON MARTIN"
         ],
         "textposition": "auto",
         "type": "bar",
         "x": [
          "MINICOMPACT",
          "SUBCOMPACT",
          "SUV - STANDARD",
          "TWO-SEATER"
         ],
         "xaxis": "x",
         "y": [
          48,
          8,
          2,
          48
         ],
         "yaxis": "y"
        },
        {
         "alignmentgroup": "True",
         "hovertemplate": "<b>Class: %{x}</b><br>Count: %{y}</br>Make: %{text}<br>",
         "legendgroup": "AUDI",
         "marker": {
          "color": "#782AB6",
          "pattern": {
           "shape": ""
          }
         },
         "name": "AUDI",
         "offsetgroup": "AUDI",
         "orientation": "v",
         "showlegend": true,
         "text": [
          "AUDI",
          "AUDI",
          "AUDI",
          "AUDI",
          "AUDI",
          "AUDI",
          "AUDI",
          "AUDI",
          "AUDI",
          "AUDI",
          "AUDI"
         ],
         "textposition": "auto",
         "type": "bar",
         "x": [
          "COMPACT",
          "FULL-SIZE",
          "MID-SIZE",
          "MINICOMPACT",
          "STATION WAGON - MID-SIZE",
          "STATION WAGON - SMALL",
          "SUBCOMPACT",
          "SUV",
          "SUV - SMALL",
          "SUV - STANDARD",
          "TWO-SEATER"
         ],
         "xaxis": "x",
         "y": [
          139,
          43,
          144,
          16,
          17,
          75,
          181,
          25,
          40,
          29,
          96
         ],
         "yaxis": "y"
        },
        {
         "alignmentgroup": "True",
         "hovertemplate": "<b>Class: %{x}</b><br>Count: %{y}</br>Make: %{text}<br>",
         "legendgroup": "BENTLEY",
         "marker": {
          "color": "#565656",
          "pattern": {
           "shape": ""
          }
         },
         "name": "BENTLEY",
         "offsetgroup": "BENTLEY",
         "orientation": "v",
         "showlegend": true,
         "text": [
          "BENTLEY",
          "BENTLEY",
          "BENTLEY",
          "BENTLEY",
          "BENTLEY",
          "BENTLEY",
          "BENTLEY"
         ],
         "textposition": "auto",
         "type": "bar",
         "x": [
          "COMPACT",
          "FULL-SIZE",
          "MID-SIZE",
          "MINICOMPACT",
          "SUBCOMPACT",
          "SUV - STANDARD",
          "TWO-SEATER"
         ],
         "xaxis": "x",
         "y": [
          22,
          6,
          45,
          4,
          26,
          9,
          6
         ],
         "yaxis": "y"
        },
        {
         "alignmentgroup": "True",
         "hovertemplate": "<b>Class: %{x}</b><br>Count: %{y}</br>Make: %{text}<br>",
         "legendgroup": "BMW",
         "marker": {
          "color": "#1C8356",
          "pattern": {
           "shape": ""
          }
         },
         "name": "BMW",
         "offsetgroup": "BMW",
         "orientation": "v",
         "showlegend": true,
         "text": [
          "BMW",
          "BMW",
          "BMW",
          "BMW",
          "BMW",
          "BMW",
          "BMW",
          "BMW",
          "BMW",
          "BMW",
          "BMW"
         ],
         "textposition": "auto",
         "type": "bar",
         "x": [
          "COMPACT",
          "FULL-SIZE",
          "MID-SIZE",
          "MINICOMPACT",
          "STATION WAGON - MID-SIZE",
          "STATION WAGON - SMALL",
          "SUBCOMPACT",
          "SUV",
          "SUV - SMALL",
          "SUV - STANDARD",
          "TWO-SEATER"
         ],
         "xaxis": "x",
         "y": [
          368,
          116,
          151,
          39,
          10,
          55,
          428,
          85,
          74,
          81,
          83
         ],
         "yaxis": "y"
        },
        {
         "alignmentgroup": "True",
         "hovertemplate": "<b>Class: %{x}</b><br>Count: %{y}</br>Make: %{text}<br>",
         "legendgroup": "BUGATTI",
         "marker": {
          "color": "#16FF32",
          "pattern": {
           "shape": ""
          }
         },
         "name": "BUGATTI",
         "offsetgroup": "BUGATTI",
         "orientation": "v",
         "showlegend": true,
         "text": [
          "BUGATTI"
         ],
         "textposition": "auto",
         "type": "bar",
         "x": [
          "TWO-SEATER"
         ],
         "xaxis": "x",
         "y": [
          12
         ],
         "yaxis": "y"
        },
        {
         "alignmentgroup": "True",
         "hovertemplate": "<b>Class: %{x}</b><br>Count: %{y}</br>Make: %{text}<br>",
         "legendgroup": "BUICK",
         "marker": {
          "color": "#F7E1A0",
          "pattern": {
           "shape": ""
          }
         },
         "name": "BUICK",
         "offsetgroup": "BUICK",
         "orientation": "v",
         "showlegend": true,
         "text": [
          "BUICK",
          "BUICK",
          "BUICK",
          "BUICK",
          "BUICK",
          "BUICK",
          "BUICK"
         ],
         "textposition": "auto",
         "type": "bar",
         "x": [
          "COMPACT",
          "FULL-SIZE",
          "MID-SIZE",
          "MINIVAN",
          "SUV",
          "SUV - SMALL",
          "SUV - STANDARD"
         ],
         "xaxis": "x",
         "y": [
          16,
          36,
          107,
          8,
          34,
          50,
          22
         ],
         "yaxis": "y"
        },
        {
         "alignmentgroup": "True",
         "hovertemplate": "<b>Class: %{x}</b><br>Count: %{y}</br>Make: %{text}<br>",
         "legendgroup": "CADILLAC",
         "marker": {
          "color": "#E2E2E2",
          "pattern": {
           "shape": ""
          }
         },
         "name": "CADILLAC",
         "offsetgroup": "CADILLAC",
         "orientation": "v",
         "showlegend": true,
         "text": [
          "CADILLAC",
          "CADILLAC",
          "CADILLAC",
          "CADILLAC",
          "CADILLAC",
          "CADILLAC",
          "CADILLAC",
          "CADILLAC",
          "CADILLAC"
         ],
         "textposition": "auto",
         "type": "bar",
         "x": [
          "COMPACT",
          "FULL-SIZE",
          "MID-SIZE",
          "PICKUP TRUCK - STANDARD",
          "STATION WAGON - SMALL",
          "SUV",
          "SUV - SMALL",
          "SUV - STANDARD",
          "TWO-SEATER"
         ],
         "xaxis": "x",
         "y": [
          63,
          47,
          160,
          5,
          28,
          60,
          28,
          34,
          9
         ],
         "yaxis": "y"
        },
        {
         "alignmentgroup": "True",
         "hovertemplate": "<b>Class: %{x}</b><br>Count: %{y}</br>Make: %{text}<br>",
         "legendgroup": "CHEVROLET",
         "marker": {
          "color": "#1CBE4F",
          "pattern": {
           "shape": ""
          }
         },
         "name": "CHEVROLET",
         "offsetgroup": "CHEVROLET",
         "orientation": "v",
         "showlegend": true,
         "text": [
          "CHEVROLET",
          "CHEVROLET",
          "CHEVROLET",
          "CHEVROLET",
          "CHEVROLET",
          "CHEVROLET",
          "CHEVROLET",
          "CHEVROLET",
          "CHEVROLET",
          "CHEVROLET",
          "CHEVROLET",
          "CHEVROLET",
          "CHEVROLET",
          "CHEVROLET",
          "CHEVROLET"
         ],
         "textposition": "auto",
         "type": "bar",
         "x": [
          "COMPACT",
          "FULL-SIZE",
          "MID-SIZE",
          "MINIVAN",
          "PICKUP TRUCK - SMALL",
          "PICKUP TRUCK - STANDARD",
          "SPECIAL PURPOSE VEHICLE",
          "STATION WAGON - SMALL",
          "SUBCOMPACT",
          "SUV",
          "SUV - SMALL",
          "SUV - STANDARD",
          "TWO-SEATER",
          "VAN - CARGO",
          "VAN - PASSENGER"
         ],
         "xaxis": "x",
         "y": [
          135,
          73,
          150,
          21,
          160,
          513,
          4,
          20,
          137,
          360,
          108,
          146,
          66,
          127,
          110
         ],
         "yaxis": "y"
        },
        {
         "alignmentgroup": "True",
         "hovertemplate": "<b>Class: %{x}</b><br>Count: %{y}</br>Make: %{text}<br>",
         "legendgroup": "CHRYSLER",
         "marker": {
          "color": "#C4451C",
          "pattern": {
           "shape": ""
          }
         },
         "name": "CHRYSLER",
         "offsetgroup": "CHRYSLER",
         "orientation": "v",
         "showlegend": true,
         "text": [
          "CHRYSLER",
          "CHRYSLER",
          "CHRYSLER",
          "CHRYSLER",
          "CHRYSLER",
          "CHRYSLER",
          "CHRYSLER"
         ],
         "textposition": "auto",
         "type": "bar",
         "x": [
          "COMPACT",
          "FULL-SIZE",
          "MID-SIZE",
          "MINIVAN",
          "SUBCOMPACT",
          "SUV",
          "TWO-SEATER"
         ],
         "xaxis": "x",
         "y": [
          62,
          141,
          95,
          45,
          7,
          51,
          24
         ],
         "yaxis": "y"
        },
        {
         "alignmentgroup": "True",
         "hovertemplate": "<b>Class: %{x}</b><br>Count: %{y}</br>Make: %{text}<br>",
         "legendgroup": "DAEWOO",
         "marker": {
          "color": "#DEA0FD",
          "pattern": {
           "shape": ""
          }
         },
         "name": "DAEWOO",
         "offsetgroup": "DAEWOO",
         "orientation": "v",
         "showlegend": true,
         "text": [
          "DAEWOO",
          "DAEWOO",
          "DAEWOO",
          "DAEWOO"
         ],
         "textposition": "auto",
         "type": "bar",
         "x": [
          "COMPACT",
          "MID-SIZE",
          "STATION WAGON - SMALL",
          "SUBCOMPACT"
         ],
         "xaxis": "x",
         "y": [
          18,
          4,
          8,
          4
         ],
         "yaxis": "y"
        },
        {
         "alignmentgroup": "True",
         "hovertemplate": "<b>Class: %{x}</b><br>Count: %{y}</br>Make: %{text}<br>",
         "legendgroup": "DODGE",
         "marker": {
          "color": "#FE00FA",
          "pattern": {
           "shape": ""
          }
         },
         "name": "DODGE",
         "offsetgroup": "DODGE",
         "orientation": "v",
         "showlegend": true,
         "text": [
          "DODGE",
          "DODGE",
          "DODGE",
          "DODGE",
          "DODGE",
          "DODGE",
          "DODGE",
          "DODGE",
          "DODGE",
          "DODGE",
          "DODGE",
          "DODGE"
         ],
         "textposition": "auto",
         "type": "bar",
         "x": [
          "COMPACT",
          "FULL-SIZE",
          "MID-SIZE",
          "MINIVAN",
          "PICKUP TRUCK - STANDARD",
          "SUBCOMPACT",
          "SUV",
          "SUV - SMALL",
          "SUV - STANDARD",
          "TWO-SEATER",
          "VAN - CARGO",
          "VAN - PASSENGER"
         ],
         "xaxis": "x",
         "y": [
          25,
          167,
          178,
          121,
          223,
          2,
          92,
          29,
          29,
          18,
          27,
          14
         ],
         "yaxis": "y"
        },
        {
         "alignmentgroup": "True",
         "hovertemplate": "<b>Class: %{x}</b><br>Count: %{y}</br>Make: %{text}<br>",
         "legendgroup": "FERRARI",
         "marker": {
          "color": "#325A9B",
          "pattern": {
           "shape": ""
          }
         },
         "name": "FERRARI",
         "offsetgroup": "FERRARI",
         "orientation": "v",
         "showlegend": true,
         "text": [
          "FERRARI",
          "FERRARI",
          "FERRARI"
         ],
         "textposition": "auto",
         "type": "bar",
         "x": [
          "MID-SIZE",
          "SUBCOMPACT",
          "TWO-SEATER"
         ],
         "xaxis": "x",
         "y": [
          19,
          7,
          47
         ],
         "yaxis": "y"
        },
        {
         "alignmentgroup": "True",
         "hovertemplate": "<b>Class: %{x}</b><br>Count: %{y}</br>Make: %{text}<br>",
         "legendgroup": "FIAT",
         "marker": {
          "color": "#FEAF16",
          "pattern": {
           "shape": ""
          }
         },
         "name": "FIAT",
         "offsetgroup": "FIAT",
         "orientation": "v",
         "showlegend": true,
         "text": [
          "FIAT",
          "FIAT",
          "FIAT",
          "FIAT"
         ],
         "textposition": "auto",
         "type": "bar",
         "x": [
          "MINICOMPACT",
          "STATION WAGON - SMALL",
          "SUV - SMALL",
          "TWO-SEATER"
         ],
         "xaxis": "x",
         "y": [
          52,
          12,
          13,
          8
         ],
         "yaxis": "y"
        },
        {
         "alignmentgroup": "True",
         "hovertemplate": "<b>Class: %{x}</b><br>Count: %{y}</br>Make: %{text}<br>",
         "legendgroup": "FORD",
         "marker": {
          "color": "#F8A19F",
          "pattern": {
           "shape": ""
          }
         },
         "name": "FORD",
         "offsetgroup": "FORD",
         "orientation": "v",
         "showlegend": true,
         "text": [
          "FORD",
          "FORD",
          "FORD",
          "FORD",
          "FORD",
          "FORD",
          "FORD",
          "FORD",
          "FORD",
          "FORD",
          "FORD",
          "FORD",
          "FORD",
          "FORD",
          "FORD"
         ],
         "textposition": "auto",
         "type": "bar",
         "x": [
          "COMPACT",
          "FULL-SIZE",
          "MID-SIZE",
          "MINIVAN",
          "PICKUP TRUCK - SMALL",
          "PICKUP TRUCK - STANDARD",
          "SPECIAL PURPOSE VEHICLE",
          "STATION WAGON - MID-SIZE",
          "SUBCOMPACT",
          "SUV",
          "SUV - SMALL",
          "SUV - STANDARD",
          "TWO-SEATER",
          "VAN - CARGO",
          "VAN - PASSENGER"
         ],
         "xaxis": "x",
         "y": [
          125,
          97,
          117,
          9,
          30,
          525,
          64,
          38,
          184,
          175,
          131,
          100,
          13,
          52,
          64
         ],
         "yaxis": "y"
        },
        {
         "alignmentgroup": "True",
         "hovertemplate": "<b>Class: %{x}</b><br>Count: %{y}</br>Make: %{text}<br>",
         "legendgroup": "GENESIS",
         "marker": {
          "color": "#90AD1C",
          "pattern": {
           "shape": ""
          }
         },
         "name": "GENESIS",
         "offsetgroup": "GENESIS",
         "orientation": "v",
         "showlegend": true,
         "text": [
          "GENESIS",
          "GENESIS",
          "GENESIS",
          "GENESIS"
         ],
         "textposition": "auto",
         "type": "bar",
         "x": [
          "COMPACT",
          "FULL-SIZE",
          "SUV - SMALL",
          "SUV - STANDARD"
         ],
         "xaxis": "x",
         "y": [
          11,
          25,
          2,
          4
         ],
         "yaxis": "y"
        },
        {
         "alignmentgroup": "True",
         "hovertemplate": "<b>Class: %{x}</b><br>Count: %{y}</br>Make: %{text}<br>",
         "legendgroup": "GMC",
         "marker": {
          "color": "#F6222E",
          "pattern": {
           "shape": ""
          }
         },
         "name": "GMC",
         "offsetgroup": "GMC",
         "orientation": "v",
         "showlegend": true,
         "text": [
          "GMC",
          "GMC",
          "GMC",
          "GMC",
          "GMC",
          "GMC",
          "GMC"
         ],
         "textposition": "auto",
         "type": "bar",
         "x": [
          "PICKUP TRUCK - SMALL",
          "PICKUP TRUCK - STANDARD",
          "SUV",
          "SUV - SMALL",
          "SUV - STANDARD",
          "VAN - CARGO",
          "VAN - PASSENGER"
         ],
         "xaxis": "x",
         "y": [
          147,
          464,
          285,
          47,
          177,
          126,
          111
         ],
         "yaxis": "y"
        },
        {
         "alignmentgroup": "True",
         "hovertemplate": "<b>Class: %{x}</b><br>Count: %{y}</br>Make: %{text}<br>",
         "legendgroup": "HONDA",
         "marker": {
          "color": "#1CFFCE",
          "pattern": {
           "shape": ""
          }
         },
         "name": "HONDA",
         "offsetgroup": "HONDA",
         "orientation": "v",
         "showlegend": true,
         "text": [
          "HONDA",
          "HONDA",
          "HONDA",
          "HONDA",
          "HONDA",
          "HONDA",
          "HONDA",
          "HONDA",
          "HONDA",
          "HONDA",
          "HONDA"
         ],
         "textposition": "auto",
         "type": "bar",
         "x": [
          "COMPACT",
          "FULL-SIZE",
          "MID-SIZE",
          "MINIVAN",
          "PICKUP TRUCK - STANDARD",
          "STATION WAGON - SMALL",
          "SUBCOMPACT",
          "SUV",
          "SUV - SMALL",
          "SUV - STANDARD",
          "TWO-SEATER"
         ],
         "xaxis": "x",
         "y": [
          103,
          70,
          101,
          34,
          15,
          58,
          26,
          72,
          54,
          1,
          27
         ],
         "yaxis": "y"
        },
        {
         "alignmentgroup": "True",
         "hovertemplate": "<b>Class: %{x}</b><br>Count: %{y}</br>Make: %{text}<br>",
         "legendgroup": "HUMMER",
         "marker": {
          "color": "#2ED9FF",
          "pattern": {
           "shape": ""
          }
         },
         "name": "HUMMER",
         "offsetgroup": "HUMMER",
         "orientation": "v",
         "showlegend": true,
         "text": [
          "HUMMER",
          "HUMMER"
         ],
         "textposition": "auto",
         "type": "bar",
         "x": [
          "PICKUP TRUCK - STANDARD",
          "SUV"
         ],
         "xaxis": "x",
         "y": [
          7,
          14
         ],
         "yaxis": "y"
        },
        {
         "alignmentgroup": "True",
         "hovertemplate": "<b>Class: %{x}</b><br>Count: %{y}</br>Make: %{text}<br>",
         "legendgroup": "HYUNDAI",
         "marker": {
          "color": "#B10DA1",
          "pattern": {
           "shape": ""
          }
         },
         "name": "HYUNDAI",
         "offsetgroup": "HYUNDAI",
         "orientation": "v",
         "showlegend": true,
         "text": [
          "HYUNDAI",
          "HYUNDAI",
          "HYUNDAI",
          "HYUNDAI",
          "HYUNDAI",
          "HYUNDAI",
          "HYUNDAI",
          "HYUNDAI",
          "HYUNDAI",
          "HYUNDAI"
         ],
         "textposition": "auto",
         "type": "bar",
         "x": [
          "COMPACT",
          "FULL-SIZE",
          "MID-SIZE",
          "MINIVAN",
          "PICKUP TRUCK - SMALL",
          "STATION WAGON - SMALL",
          "SUBCOMPACT",
          "SUV",
          "SUV - SMALL",
          "SUV - STANDARD"
         ],
         "xaxis": "x",
         "y": [
          100,
          99,
          102,
          3,
          1,
          10,
          53,
          88,
          100,
          5
         ],
         "yaxis": "y"
        },
        {
         "alignmentgroup": "True",
         "hovertemplate": "<b>Class: %{x}</b><br>Count: %{y}</br>Make: %{text}<br>",
         "legendgroup": "INFINITI",
         "marker": {
          "color": "#C075A6",
          "pattern": {
           "shape": ""
          }
         },
         "name": "INFINITI",
         "offsetgroup": "INFINITI",
         "orientation": "v",
         "showlegend": true,
         "text": [
          "INFINITI",
          "INFINITI",
          "INFINITI",
          "INFINITI",
          "INFINITI",
          "INFINITI",
          "INFINITI",
          "INFINITI"
         ],
         "textposition": "auto",
         "type": "bar",
         "x": [
          "COMPACT",
          "FULL-SIZE",
          "MID-SIZE",
          "STATION WAGON - SMALL",
          "SUBCOMPACT",
          "SUV",
          "SUV - SMALL",
          "SUV - STANDARD"
         ],
         "xaxis": "x",
         "y": [
          38,
          19,
          92,
          8,
          52,
          32,
          24,
          15
         ],
         "yaxis": "y"
        },
        {
         "alignmentgroup": "True",
         "hovertemplate": "<b>Class: %{x}</b><br>Count: %{y}</br>Make: %{text}<br>",
         "legendgroup": "ISUZU",
         "marker": {
          "color": "#FC1CBF",
          "pattern": {
           "shape": ""
          }
         },
         "name": "ISUZU",
         "offsetgroup": "ISUZU",
         "orientation": "v",
         "showlegend": true,
         "text": [
          "ISUZU",
          "ISUZU",
          "ISUZU"
         ],
         "textposition": "auto",
         "type": "bar",
         "x": [
          "PICKUP TRUCK - SMALL",
          "PICKUP TRUCK - STANDARD",
          "SUV"
         ],
         "xaxis": "x",
         "y": [
          3,
          1,
          14
         ],
         "yaxis": "y"
        },
        {
         "alignmentgroup": "True",
         "hovertemplate": "<b>Class: %{x}</b><br>Count: %{y}</br>Make: %{text}<br>",
         "legendgroup": "JAGUAR",
         "marker": {
          "color": "#B00068",
          "pattern": {
           "shape": ""
          }
         },
         "name": "JAGUAR",
         "offsetgroup": "JAGUAR",
         "orientation": "v",
         "showlegend": true,
         "text": [
          "JAGUAR",
          "JAGUAR",
          "JAGUAR",
          "JAGUAR",
          "JAGUAR",
          "JAGUAR",
          "JAGUAR",
          "JAGUAR"
         ],
         "textposition": "auto",
         "type": "bar",
         "x": [
          "COMPACT",
          "FULL-SIZE",
          "MID-SIZE",
          "MINICOMPACT",
          "STATION WAGON - SMALL",
          "SUBCOMPACT",
          "SUV - SMALL",
          "TWO-SEATER"
         ],
         "xaxis": "x",
         "y": [
          32,
          64,
          69,
          53,
          8,
          34,
          16,
          88
         ],
         "yaxis": "y"
        },
        {
         "alignmentgroup": "True",
         "hovertemplate": "<b>Class: %{x}</b><br>Count: %{y}</br>Make: %{text}<br>",
         "legendgroup": "JEEP",
         "marker": {
          "color": "#FBE426",
          "pattern": {
           "shape": ""
          }
         },
         "name": "JEEP",
         "offsetgroup": "JEEP",
         "orientation": "v",
         "showlegend": true,
         "text": [
          "JEEP",
          "JEEP",
          "JEEP",
          "JEEP",
          "JEEP"
         ],
         "textposition": "auto",
         "type": "bar",
         "x": [
          "PICKUP TRUCK - STANDARD",
          "SUBCOMPACT",
          "SUV",
          "SUV - SMALL",
          "SUV - STANDARD"
         ],
         "xaxis": "x",
         "y": [
          10,
          1,
          201,
          283,
          49
         ],
         "yaxis": "y"
        },
        {
         "alignmentgroup": "True",
         "hovertemplate": "<b>Class: %{x}</b><br>Count: %{y}</br>Make: %{text}<br>",
         "legendgroup": "KIA",
         "marker": {
          "color": "#FA0087",
          "pattern": {
           "shape": ""
          }
         },
         "name": "KIA",
         "offsetgroup": "KIA",
         "orientation": "v",
         "showlegend": true,
         "text": [
          "KIA",
          "KIA",
          "KIA",
          "KIA",
          "KIA",
          "KIA",
          "KIA",
          "KIA",
          "KIA"
         ],
         "textposition": "auto",
         "type": "bar",
         "x": [
          "COMPACT",
          "FULL-SIZE",
          "MID-SIZE",
          "MINIVAN",
          "STATION WAGON - MID-SIZE",
          "STATION WAGON - SMALL",
          "SUBCOMPACT",
          "SUV",
          "SUV - SMALL"
         ],
         "xaxis": "x",
         "y": [
          92,
          61,
          108,
          28,
          19,
          62,
          2,
          80,
          80
         ],
         "yaxis": "y"
        },
        {
         "alignmentgroup": "True",
         "hovertemplate": "<b>Class: %{x}</b><br>Count: %{y}</br>Make: %{text}<br>",
         "legendgroup": "LAMBORGHINI",
         "marker": {
          "color": "#AA0DFE",
          "pattern": {
           "shape": ""
          }
         },
         "name": "LAMBORGHINI",
         "offsetgroup": "LAMBORGHINI",
         "orientation": "v",
         "showlegend": true,
         "text": [
          "LAMBORGHINI",
          "LAMBORGHINI"
         ],
         "textposition": "auto",
         "type": "bar",
         "x": [
          "SUV - STANDARD",
          "TWO-SEATER"
         ],
         "xaxis": "x",
         "y": [
          4,
          107
         ],
         "yaxis": "y"
        },
        {
         "alignmentgroup": "True",
         "hovertemplate": "<b>Class: %{x}</b><br>Count: %{y}</br>Make: %{text}<br>",
         "legendgroup": "LAND ROVER",
         "marker": {
          "color": "#3283FE",
          "pattern": {
           "shape": ""
          }
         },
         "name": "LAND ROVER",
         "offsetgroup": "LAND ROVER",
         "orientation": "v",
         "showlegend": true,
         "text": [
          "LAND ROVER",
          "LAND ROVER",
          "LAND ROVER"
         ],
         "textposition": "auto",
         "type": "bar",
         "x": [
          "SUV",
          "SUV - SMALL",
          "SUV - STANDARD"
         ],
         "xaxis": "x",
         "y": [
          63,
          34,
          77
         ],
         "yaxis": "y"
        },
        {
         "alignmentgroup": "True",
         "hovertemplate": "<b>Class: %{x}</b><br>Count: %{y}</br>Make: %{text}<br>",
         "legendgroup": "LEXUS",
         "marker": {
          "color": "#85660D",
          "pattern": {
           "shape": ""
          }
         },
         "name": "LEXUS",
         "offsetgroup": "LEXUS",
         "orientation": "v",
         "showlegend": true,
         "text": [
          "LEXUS",
          "LEXUS",
          "LEXUS",
          "LEXUS",
          "LEXUS",
          "LEXUS",
          "LEXUS",
          "LEXUS",
          "LEXUS",
          "LEXUS"
         ],
         "textposition": "auto",
         "type": "bar",
         "x": [
          "COMPACT",
          "FULL-SIZE",
          "MID-SIZE",
          "MINICOMPACT",
          "STATION WAGON - MID-SIZE",
          "SUBCOMPACT",
          "SUV",
          "SUV - SMALL",
          "SUV - STANDARD",
          "TWO-SEATER"
         ],
         "xaxis": "x",
         "y": [
          67,
          9,
          151,
          11,
          1,
          93,
          50,
          46,
          31,
          1
         ],
         "yaxis": "y"
        },
        {
         "alignmentgroup": "True",
         "hovertemplate": "<b>Class: %{x}</b><br>Count: %{y}</br>Make: %{text}<br>",
         "legendgroup": "LINCOLN",
         "marker": {
          "color": "#782AB6",
          "pattern": {
           "shape": ""
          }
         },
         "name": "LINCOLN",
         "offsetgroup": "LINCOLN",
         "orientation": "v",
         "showlegend": true,
         "text": [
          "LINCOLN",
          "LINCOLN",
          "LINCOLN",
          "LINCOLN",
          "LINCOLN",
          "LINCOLN",
          "LINCOLN"
         ],
         "textposition": "auto",
         "type": "bar",
         "x": [
          "FULL-SIZE",
          "MID-SIZE",
          "PICKUP TRUCK - STANDARD",
          "SPECIAL PURPOSE VEHICLE",
          "SUV",
          "SUV - SMALL",
          "SUV - STANDARD"
         ],
         "xaxis": "x",
         "y": [
          55,
          68,
          4,
          11,
          24,
          39,
          24
         ],
         "yaxis": "y"
        },
        {
         "alignmentgroup": "True",
         "hovertemplate": "<b>Class: %{x}</b><br>Count: %{y}</br>Make: %{text}<br>",
         "legendgroup": "MASERATI",
         "marker": {
          "color": "#565656",
          "pattern": {
           "shape": ""
          }
         },
         "name": "MASERATI",
         "offsetgroup": "MASERATI",
         "orientation": "v",
         "showlegend": true,
         "text": [
          "MASERATI",
          "MASERATI",
          "MASERATI",
          "MASERATI",
          "MASERATI"
         ],
         "textposition": "auto",
         "type": "bar",
         "x": [
          "FULL-SIZE",
          "MID-SIZE",
          "SUBCOMPACT",
          "SUV - STANDARD",
          "TWO-SEATER"
         ],
         "xaxis": "x",
         "y": [
          37,
          27,
          31,
          20,
          10
         ],
         "yaxis": "y"
        },
        {
         "alignmentgroup": "True",
         "hovertemplate": "<b>Class: %{x}</b><br>Count: %{y}</br>Make: %{text}<br>",
         "legendgroup": "MAZDA",
         "marker": {
          "color": "#1C8356",
          "pattern": {
           "shape": ""
          }
         },
         "name": "MAZDA",
         "offsetgroup": "MAZDA",
         "orientation": "v",
         "showlegend": true,
         "text": [
          "MAZDA",
          "MAZDA",
          "MAZDA",
          "MAZDA",
          "MAZDA",
          "MAZDA",
          "MAZDA",
          "MAZDA",
          "MAZDA",
          "MAZDA"
         ],
         "textposition": "auto",
         "type": "bar",
         "x": [
          "COMPACT",
          "MID-SIZE",
          "MINIVAN",
          "PICKUP TRUCK - SMALL",
          "PICKUP TRUCK - STANDARD",
          "STATION WAGON - MID-SIZE",
          "SUBCOMPACT",
          "SUV",
          "SUV - SMALL",
          "TWO-SEATER"
         ],
         "xaxis": "x",
         "y": [
          137,
          131,
          25,
          17,
          58,
          10,
          19,
          74,
          74,
          57
         ],
         "yaxis": "y"
        },
        {
         "alignmentgroup": "True",
         "hovertemplate": "<b>Class: %{x}</b><br>Count: %{y}</br>Make: %{text}<br>",
         "legendgroup": "MERCEDES-BENZ",
         "marker": {
          "color": "#16FF32",
          "pattern": {
           "shape": ""
          }
         },
         "name": "MERCEDES-BENZ",
         "offsetgroup": "MERCEDES-BENZ",
         "orientation": "v",
         "showlegend": true,
         "text": [
          "MERCEDES-BENZ",
          "MERCEDES-BENZ",
          "MERCEDES-BENZ",
          "MERCEDES-BENZ",
          "MERCEDES-BENZ",
          "MERCEDES-BENZ",
          "MERCEDES-BENZ",
          "MERCEDES-BENZ",
          "MERCEDES-BENZ",
          "MERCEDES-BENZ",
          "MERCEDES-BENZ",
          "MERCEDES-BENZ"
         ],
         "textposition": "auto",
         "type": "bar",
         "x": [
          "COMPACT",
          "FULL-SIZE",
          "MID-SIZE",
          "MINICOMPACT",
          "SPECIAL PURPOSE VEHICLE",
          "STATION WAGON - MID-SIZE",
          "STATION WAGON - SMALL",
          "SUBCOMPACT",
          "SUV",
          "SUV - SMALL",
          "SUV - STANDARD",
          "TWO-SEATER"
         ],
         "xaxis": "x",
         "y": [
          279,
          136,
          120,
          8,
          18,
          51,
          59,
          177,
          90,
          50,
          113,
          175
         ],
         "yaxis": "y"
        },
        {
         "alignmentgroup": "True",
         "hovertemplate": "<b>Class: %{x}</b><br>Count: %{y}</br>Make: %{text}<br>",
         "legendgroup": "MINI",
         "marker": {
          "color": "#F7E1A0",
          "pattern": {
           "shape": ""
          }
         },
         "name": "MINI",
         "offsetgroup": "MINI",
         "orientation": "v",
         "showlegend": true,
         "text": [
          "MINI",
          "MINI",
          "MINI",
          "MINI",
          "MINI",
          "MINI"
         ],
         "textposition": "auto",
         "type": "bar",
         "x": [
          "COMPACT",
          "MID-SIZE",
          "MINICOMPACT",
          "STATION WAGON - SMALL",
          "SUBCOMPACT",
          "TWO-SEATER"
         ],
         "xaxis": "x",
         "y": [
          52,
          57,
          135,
          4,
          112,
          46
         ],
         "yaxis": "y"
        },
        {
         "alignmentgroup": "True",
         "hovertemplate": "<b>Class: %{x}</b><br>Count: %{y}</br>Make: %{text}<br>",
         "legendgroup": "MITSUBISHI",
         "marker": {
          "color": "#E2E2E2",
          "pattern": {
           "shape": ""
          }
         },
         "name": "MITSUBISHI",
         "offsetgroup": "MITSUBISHI",
         "orientation": "v",
         "showlegend": true,
         "text": [
          "MITSUBISHI",
          "MITSUBISHI",
          "MITSUBISHI",
          "MITSUBISHI",
          "MITSUBISHI",
          "MITSUBISHI",
          "MITSUBISHI"
         ],
         "textposition": "auto",
         "type": "bar",
         "x": [
          "COMPACT",
          "MID-SIZE",
          "MINICOMPACT",
          "STATION WAGON - SMALL",
          "SUBCOMPACT",
          "SUV",
          "SUV - SMALL"
         ],
         "xaxis": "x",
         "y": [
          96,
          18,
          32,
          22,
          39,
          56,
          59
         ],
         "yaxis": "y"
        },
        {
         "alignmentgroup": "True",
         "hovertemplate": "<b>Class: %{x}</b><br>Count: %{y}</br>Make: %{text}<br>",
         "legendgroup": "NISSAN",
         "marker": {
          "color": "#1CBE4F",
          "pattern": {
           "shape": ""
          }
         },
         "name": "NISSAN",
         "offsetgroup": "NISSAN",
         "orientation": "v",
         "showlegend": true,
         "text": [
          "NISSAN",
          "NISSAN",
          "NISSAN",
          "NISSAN",
          "NISSAN",
          "NISSAN",
          "NISSAN",
          "NISSAN",
          "NISSAN",
          "NISSAN",
          "NISSAN",
          "NISSAN",
          "NISSAN"
         ],
         "textposition": "auto",
         "type": "bar",
         "x": [
          "COMPACT",
          "MID-SIZE",
          "MINIVAN",
          "PICKUP TRUCK - SMALL",
          "PICKUP TRUCK - STANDARD",
          "SPECIAL PURPOSE VEHICLE",
          "STATION WAGON - MID-SIZE",
          "STATION WAGON - SMALL",
          "SUBCOMPACT",
          "SUV",
          "SUV - SMALL",
          "SUV - STANDARD",
          "TWO-SEATER"
         ],
         "xaxis": "x",
         "y": [
          57,
          196,
          15,
          61,
          102,
          9,
          15,
          56,
          34,
          87,
          54,
          11,
          67
         ],
         "yaxis": "y"
        },
        {
         "alignmentgroup": "True",
         "hovertemplate": "<b>Class: %{x}</b><br>Count: %{y}</br>Make: %{text}<br>",
         "legendgroup": "OLDSMOBILE",
         "marker": {
          "color": "#C4451C",
          "pattern": {
           "shape": ""
          }
         },
         "name": "OLDSMOBILE",
         "offsetgroup": "OLDSMOBILE",
         "orientation": "v",
         "showlegend": true,
         "text": [
          "OLDSMOBILE",
          "OLDSMOBILE",
          "OLDSMOBILE",
          "OLDSMOBILE"
         ],
         "textposition": "auto",
         "type": "bar",
         "x": [
          "COMPACT",
          "MID-SIZE",
          "MINIVAN",
          "SUV"
         ],
         "xaxis": "x",
         "y": [
          15,
          8,
          8,
          3
         ],
         "yaxis": "y"
        },
        {
         "alignmentgroup": "True",
         "hovertemplate": "<b>Class: %{x}</b><br>Count: %{y}</br>Make: %{text}<br>",
         "legendgroup": "PLYMOUTH",
         "marker": {
          "color": "#DEA0FD",
          "pattern": {
           "shape": ""
          }
         },
         "name": "PLYMOUTH",
         "offsetgroup": "PLYMOUTH",
         "orientation": "v",
         "showlegend": true,
         "text": [
          "PLYMOUTH",
          "PLYMOUTH"
         ],
         "textposition": "auto",
         "type": "bar",
         "x": [
          "SUBCOMPACT",
          "TWO-SEATER"
         ],
         "xaxis": "x",
         "y": [
          1,
          1
         ],
         "yaxis": "y"
        },
        {
         "alignmentgroup": "True",
         "hovertemplate": "<b>Class: %{x}</b><br>Count: %{y}</br>Make: %{text}<br>",
         "legendgroup": "PONTIAC",
         "marker": {
          "color": "#FE00FA",
          "pattern": {
           "shape": ""
          }
         },
         "name": "PONTIAC",
         "offsetgroup": "PONTIAC",
         "orientation": "v",
         "showlegend": true,
         "text": [
          "PONTIAC",
          "PONTIAC",
          "PONTIAC",
          "PONTIAC",
          "PONTIAC",
          "PONTIAC",
          "PONTIAC",
          "PONTIAC"
         ],
         "textposition": "auto",
         "type": "bar",
         "x": [
          "COMPACT",
          "FULL-SIZE",
          "MID-SIZE",
          "MINIVAN",
          "STATION WAGON - SMALL",
          "SUBCOMPACT",
          "SUV",
          "TWO-SEATER"
         ],
         "xaxis": "x",
         "y": [
          67,
          13,
          29,
          21,
          32,
          56,
          22,
          13
         ],
         "yaxis": "y"
        },
        {
         "alignmentgroup": "True",
         "hovertemplate": "<b>Class: %{x}</b><br>Count: %{y}</br>Make: %{text}<br>",
         "legendgroup": "PORSCHE",
         "marker": {
          "color": "#325A9B",
          "pattern": {
           "shape": ""
          }
         },
         "name": "PORSCHE",
         "offsetgroup": "PORSCHE",
         "orientation": "v",
         "showlegend": true,
         "text": [
          "PORSCHE",
          "PORSCHE",
          "PORSCHE",
          "PORSCHE",
          "PORSCHE",
          "PORSCHE"
         ],
         "textposition": "auto",
         "type": "bar",
         "x": [
          "FULL-SIZE",
          "MINICOMPACT",
          "SUV",
          "SUV - SMALL",
          "SUV - STANDARD",
          "TWO-SEATER"
         ],
         "xaxis": "x",
         "y": [
          109,
          534,
          43,
          26,
          51,
          225
         ],
         "yaxis": "y"
        },
        {
         "alignmentgroup": "True",
         "hovertemplate": "<b>Class: %{x}</b><br>Count: %{y}</br>Make: %{text}<br>",
         "legendgroup": "RAM",
         "marker": {
          "color": "#FEAF16",
          "pattern": {
           "shape": ""
          }
         },
         "name": "RAM",
         "offsetgroup": "RAM",
         "orientation": "v",
         "showlegend": true,
         "text": [
          "RAM",
          "RAM",
          "RAM"
         ],
         "textposition": "auto",
         "type": "bar",
         "x": [
          "MINIVAN",
          "PICKUP TRUCK - STANDARD",
          "SPECIAL PURPOSE VEHICLE"
         ],
         "xaxis": "x",
         "y": [
          8,
          137,
          8
         ],
         "yaxis": "y"
        },
        {
         "alignmentgroup": "True",
         "hovertemplate": "<b>Class: %{x}</b><br>Count: %{y}</br>Make: %{text}<br>",
         "legendgroup": "ROLLS-ROYCE",
         "marker": {
          "color": "#F8A19F",
          "pattern": {
           "shape": ""
          }
         },
         "name": "ROLLS-ROYCE",
         "offsetgroup": "ROLLS-ROYCE",
         "orientation": "v",
         "showlegend": true,
         "text": [
          "ROLLS-ROYCE",
          "ROLLS-ROYCE",
          "ROLLS-ROYCE",
          "ROLLS-ROYCE",
          "ROLLS-ROYCE"
         ],
         "textposition": "auto",
         "type": "bar",
         "x": [
          "COMPACT",
          "FULL-SIZE",
          "MID-SIZE",
          "STATION WAGON - MID-SIZE",
          "SUBCOMPACT"
         ],
         "xaxis": "x",
         "y": [
          26,
          51,
          21,
          7,
          1
         ],
         "yaxis": "y"
        },
        {
         "alignmentgroup": "True",
         "hovertemplate": "<b>Class: %{x}</b><br>Count: %{y}</br>Make: %{text}<br>",
         "legendgroup": "SAAB",
         "marker": {
          "color": "#90AD1C",
          "pattern": {
           "shape": ""
          }
         },
         "name": "SAAB",
         "offsetgroup": "SAAB",
         "orientation": "v",
         "showlegend": true,
         "text": [
          "SAAB",
          "SAAB",
          "SAAB",
          "SAAB",
          "SAAB",
          "SAAB",
          "SAAB"
         ],
         "textposition": "auto",
         "type": "bar",
         "x": [
          "COMPACT",
          "FULL-SIZE",
          "MID-SIZE",
          "STATION WAGON - MID-SIZE",
          "STATION WAGON - SMALL",
          "SUBCOMPACT",
          "SUV"
         ],
         "xaxis": "x",
         "y": [
          43,
          3,
          41,
          37,
          28,
          27,
          11
         ],
         "yaxis": "y"
        },
        {
         "alignmentgroup": "True",
         "hovertemplate": "<b>Class: %{x}</b><br>Count: %{y}</br>Make: %{text}<br>",
         "legendgroup": "SATURN",
         "marker": {
          "color": "#F6222E",
          "pattern": {
           "shape": ""
          }
         },
         "name": "SATURN",
         "offsetgroup": "SATURN",
         "orientation": "v",
         "showlegend": true,
         "text": [
          "SATURN",
          "SATURN",
          "SATURN",
          "SATURN",
          "SATURN",
          "SATURN",
          "SATURN",
          "SATURN"
         ],
         "textposition": "auto",
         "type": "bar",
         "x": [
          "COMPACT",
          "MID-SIZE",
          "MINIVAN",
          "STATION WAGON - MID-SIZE",
          "STATION WAGON - SMALL",
          "SUBCOMPACT",
          "SUV",
          "TWO-SEATER"
         ],
         "xaxis": "x",
         "y": [
          18,
          25,
          8,
          12,
          4,
          28,
          49,
          12
         ],
         "yaxis": "y"
        },
        {
         "alignmentgroup": "True",
         "hovertemplate": "<b>Class: %{x}</b><br>Count: %{y}</br>Make: %{text}<br>",
         "legendgroup": "SCION",
         "marker": {
          "color": "#1CFFCE",
          "pattern": {
           "shape": ""
          }
         },
         "name": "SCION",
         "offsetgroup": "SCION",
         "orientation": "v",
         "showlegend": true,
         "text": [
          "SCION",
          "SCION",
          "SCION",
          "SCION",
          "SCION"
         ],
         "textposition": "auto",
         "type": "bar",
         "x": [
          "COMPACT",
          "MID-SIZE",
          "MINICOMPACT",
          "STATION WAGON - SMALL",
          "SUBCOMPACT"
         ],
         "xaxis": "x",
         "y": [
          12,
          2,
          12,
          10,
          8
         ],
         "yaxis": "y"
        },
        {
         "alignmentgroup": "True",
         "hovertemplate": "<b>Class: %{x}</b><br>Count: %{y}</br>Make: %{text}<br>",
         "legendgroup": "SMART",
         "marker": {
          "color": "#2ED9FF",
          "pattern": {
           "shape": ""
          }
         },
         "name": "SMART",
         "offsetgroup": "SMART",
         "orientation": "v",
         "showlegend": true,
         "text": [
          "SMART"
         ],
         "textposition": "auto",
         "type": "bar",
         "x": [
          "TWO-SEATER"
         ],
         "xaxis": "x",
         "y": [
          22
         ],
         "yaxis": "y"
        },
        {
         "alignmentgroup": "True",
         "hovertemplate": "<b>Class: %{x}</b><br>Count: %{y}</br>Make: %{text}<br>",
         "legendgroup": "SRT",
         "marker": {
          "color": "#B10DA1",
          "pattern": {
           "shape": ""
          }
         },
         "name": "SRT",
         "offsetgroup": "SRT",
         "orientation": "v",
         "showlegend": true,
         "text": [
          "SRT"
         ],
         "textposition": "auto",
         "type": "bar",
         "x": [
          "TWO-SEATER"
         ],
         "xaxis": "x",
         "y": [
          4
         ],
         "yaxis": "y"
        },
        {
         "alignmentgroup": "True",
         "hovertemplate": "<b>Class: %{x}</b><br>Count: %{y}</br>Make: %{text}<br>",
         "legendgroup": "SUBARU",
         "marker": {
          "color": "#C075A6",
          "pattern": {
           "shape": ""
          }
         },
         "name": "SUBARU",
         "offsetgroup": "SUBARU",
         "orientation": "v",
         "showlegend": true,
         "text": [
          "SUBARU",
          "SUBARU",
          "SUBARU",
          "SUBARU",
          "SUBARU",
          "SUBARU",
          "SUBARU",
          "SUBARU",
          "SUBARU",
          "SUBARU"
         ],
         "textposition": "auto",
         "type": "bar",
         "x": [
          "COMPACT",
          "FULL-SIZE",
          "MID-SIZE",
          "MINICOMPACT",
          "STATION WAGON - MID-SIZE",
          "STATION WAGON - SMALL",
          "SUBCOMPACT",
          "SUV",
          "SUV - SMALL",
          "SUV - STANDARD"
         ],
         "xaxis": "x",
         "y": [
          113,
          6,
          41,
          20,
          42,
          82,
          35,
          101,
          76,
          4
         ],
         "yaxis": "y"
        },
        {
         "alignmentgroup": "True",
         "hovertemplate": "<b>Class: %{x}</b><br>Count: %{y}</br>Make: %{text}<br>",
         "legendgroup": "SUZUKI",
         "marker": {
          "color": "#FC1CBF",
          "pattern": {
           "shape": ""
          }
         },
         "name": "SUZUKI",
         "offsetgroup": "SUZUKI",
         "orientation": "v",
         "showlegend": true,
         "text": [
          "SUZUKI",
          "SUZUKI",
          "SUZUKI",
          "SUZUKI",
          "SUZUKI",
          "SUZUKI",
          "SUZUKI"
         ],
         "textposition": "auto",
         "type": "bar",
         "x": [
          "COMPACT",
          "MID-SIZE",
          "PICKUP TRUCK - SMALL",
          "STATION WAGON - SMALL",
          "SUBCOMPACT",
          "SUV",
          "SUV - SMALL"
         ],
         "xaxis": "x",
         "y": [
          56,
          3,
          5,
          61,
          12,
          61,
          1
         ],
         "yaxis": "y"
        },
        {
         "alignmentgroup": "True",
         "hovertemplate": "<b>Class: %{x}</b><br>Count: %{y}</br>Make: %{text}<br>",
         "legendgroup": "TOYOTA",
         "marker": {
          "color": "#B00068",
          "pattern": {
           "shape": ""
          }
         },
         "name": "TOYOTA",
         "offsetgroup": "TOYOTA",
         "orientation": "v",
         "showlegend": true,
         "text": [
          "TOYOTA",
          "TOYOTA",
          "TOYOTA",
          "TOYOTA",
          "TOYOTA",
          "TOYOTA",
          "TOYOTA",
          "TOYOTA",
          "TOYOTA",
          "TOYOTA",
          "TOYOTA",
          "TOYOTA",
          "TOYOTA",
          "TOYOTA"
         ],
         "textposition": "auto",
         "type": "bar",
         "x": [
          "COMPACT",
          "FULL-SIZE",
          "MID-SIZE",
          "MINICOMPACT",
          "MINIVAN",
          "PICKUP TRUCK - SMALL",
          "PICKUP TRUCK - STANDARD",
          "STATION WAGON - MID-SIZE",
          "STATION WAGON - SMALL",
          "SUBCOMPACT",
          "SUV",
          "SUV - SMALL",
          "SUV - STANDARD",
          "TWO-SEATER"
         ],
         "xaxis": "x",
         "y": [
          146,
          12,
          178,
          10,
          43,
          87,
          140,
          7,
          48,
          46,
          135,
          85,
          59,
          5
         ],
         "yaxis": "y"
        },
        {
         "alignmentgroup": "True",
         "hovertemplate": "<b>Class: %{x}</b><br>Count: %{y}</br>Make: %{text}<br>",
         "legendgroup": "VOLKSWAGEN",
         "marker": {
          "color": "#FBE426",
          "pattern": {
           "shape": ""
          }
         },
         "name": "VOLKSWAGEN",
         "offsetgroup": "VOLKSWAGEN",
         "orientation": "v",
         "showlegend": true,
         "text": [
          "VOLKSWAGEN",
          "VOLKSWAGEN",
          "VOLKSWAGEN",
          "VOLKSWAGEN",
          "VOLKSWAGEN",
          "VOLKSWAGEN",
          "VOLKSWAGEN",
          "VOLKSWAGEN",
          "VOLKSWAGEN",
          "VOLKSWAGEN",
          "VOLKSWAGEN"
         ],
         "textposition": "auto",
         "type": "bar",
         "x": [
          "COMPACT",
          "FULL-SIZE",
          "MID-SIZE",
          "MINICOMPACT",
          "MINIVAN",
          "STATION WAGON - MID-SIZE",
          "STATION WAGON - SMALL",
          "SUBCOMPACT",
          "SUV",
          "SUV - SMALL",
          "SUV - STANDARD"
         ],
         "xaxis": "x",
         "y": [
          315,
          8,
          77,
          20,
          11,
          49,
          56,
          92,
          28,
          38,
          7
         ],
         "yaxis": "y"
        },
        {
         "alignmentgroup": "True",
         "hovertemplate": "<b>Class: %{x}</b><br>Count: %{y}</br>Make: %{text}<br>",
         "legendgroup": "VOLVO",
         "marker": {
          "color": "#FA0087",
          "pattern": {
           "shape": ""
          }
         },
         "name": "VOLVO",
         "offsetgroup": "VOLVO",
         "orientation": "v",
         "showlegend": true,
         "text": [
          "VOLVO",
          "VOLVO",
          "VOLVO",
          "VOLVO",
          "VOLVO",
          "VOLVO",
          "VOLVO",
          "VOLVO"
         ],
         "textposition": "auto",
         "type": "bar",
         "x": [
          "COMPACT",
          "MID-SIZE",
          "STATION WAGON - MID-SIZE",
          "STATION WAGON - SMALL",
          "SUBCOMPACT",
          "SUV",
          "SUV - SMALL",
          "SUV - STANDARD"
         ],
         "xaxis": "x",
         "y": [
          177,
          52,
          72,
          71,
          22,
          55,
          48,
          18
         ],
         "yaxis": "y"
        }
       ],
       "layout": {
        "barmode": "relative",
        "legend": {
         "title": {
          "text": "color"
         },
         "tracegroupgap": 0
        },
        "template": {
         "data": {
          "bar": [
           {
            "error_x": {
             "color": "#2a3f5f"
            },
            "error_y": {
             "color": "#2a3f5f"
            },
            "marker": {
             "line": {
              "color": "#E5ECF6",
              "width": 0.5
             },
             "pattern": {
              "fillmode": "overlay",
              "size": 10,
              "solidity": 0.2
             }
            },
            "type": "bar"
           }
          ],
          "barpolar": [
           {
            "marker": {
             "line": {
              "color": "#E5ECF6",
              "width": 0.5
             },
             "pattern": {
              "fillmode": "overlay",
              "size": 10,
              "solidity": 0.2
             }
            },
            "type": "barpolar"
           }
          ],
          "carpet": [
           {
            "aaxis": {
             "endlinecolor": "#2a3f5f",
             "gridcolor": "white",
             "linecolor": "white",
             "minorgridcolor": "white",
             "startlinecolor": "#2a3f5f"
            },
            "baxis": {
             "endlinecolor": "#2a3f5f",
             "gridcolor": "white",
             "linecolor": "white",
             "minorgridcolor": "white",
             "startlinecolor": "#2a3f5f"
            },
            "type": "carpet"
           }
          ],
          "choropleth": [
           {
            "colorbar": {
             "outlinewidth": 0,
             "ticks": ""
            },
            "type": "choropleth"
           }
          ],
          "contour": [
           {
            "colorbar": {
             "outlinewidth": 0,
             "ticks": ""
            },
            "colorscale": [
             [
              0,
              "#0d0887"
             ],
             [
              0.1111111111111111,
              "#46039f"
             ],
             [
              0.2222222222222222,
              "#7201a8"
             ],
             [
              0.3333333333333333,
              "#9c179e"
             ],
             [
              0.4444444444444444,
              "#bd3786"
             ],
             [
              0.5555555555555556,
              "#d8576b"
             ],
             [
              0.6666666666666666,
              "#ed7953"
             ],
             [
              0.7777777777777778,
              "#fb9f3a"
             ],
             [
              0.8888888888888888,
              "#fdca26"
             ],
             [
              1,
              "#f0f921"
             ]
            ],
            "type": "contour"
           }
          ],
          "contourcarpet": [
           {
            "colorbar": {
             "outlinewidth": 0,
             "ticks": ""
            },
            "type": "contourcarpet"
           }
          ],
          "heatmap": [
           {
            "colorbar": {
             "outlinewidth": 0,
             "ticks": ""
            },
            "colorscale": [
             [
              0,
              "#0d0887"
             ],
             [
              0.1111111111111111,
              "#46039f"
             ],
             [
              0.2222222222222222,
              "#7201a8"
             ],
             [
              0.3333333333333333,
              "#9c179e"
             ],
             [
              0.4444444444444444,
              "#bd3786"
             ],
             [
              0.5555555555555556,
              "#d8576b"
             ],
             [
              0.6666666666666666,
              "#ed7953"
             ],
             [
              0.7777777777777778,
              "#fb9f3a"
             ],
             [
              0.8888888888888888,
              "#fdca26"
             ],
             [
              1,
              "#f0f921"
             ]
            ],
            "type": "heatmap"
           }
          ],
          "heatmapgl": [
           {
            "colorbar": {
             "outlinewidth": 0,
             "ticks": ""
            },
            "colorscale": [
             [
              0,
              "#0d0887"
             ],
             [
              0.1111111111111111,
              "#46039f"
             ],
             [
              0.2222222222222222,
              "#7201a8"
             ],
             [
              0.3333333333333333,
              "#9c179e"
             ],
             [
              0.4444444444444444,
              "#bd3786"
             ],
             [
              0.5555555555555556,
              "#d8576b"
             ],
             [
              0.6666666666666666,
              "#ed7953"
             ],
             [
              0.7777777777777778,
              "#fb9f3a"
             ],
             [
              0.8888888888888888,
              "#fdca26"
             ],
             [
              1,
              "#f0f921"
             ]
            ],
            "type": "heatmapgl"
           }
          ],
          "histogram": [
           {
            "marker": {
             "pattern": {
              "fillmode": "overlay",
              "size": 10,
              "solidity": 0.2
             }
            },
            "type": "histogram"
           }
          ],
          "histogram2d": [
           {
            "colorbar": {
             "outlinewidth": 0,
             "ticks": ""
            },
            "colorscale": [
             [
              0,
              "#0d0887"
             ],
             [
              0.1111111111111111,
              "#46039f"
             ],
             [
              0.2222222222222222,
              "#7201a8"
             ],
             [
              0.3333333333333333,
              "#9c179e"
             ],
             [
              0.4444444444444444,
              "#bd3786"
             ],
             [
              0.5555555555555556,
              "#d8576b"
             ],
             [
              0.6666666666666666,
              "#ed7953"
             ],
             [
              0.7777777777777778,
              "#fb9f3a"
             ],
             [
              0.8888888888888888,
              "#fdca26"
             ],
             [
              1,
              "#f0f921"
             ]
            ],
            "type": "histogram2d"
           }
          ],
          "histogram2dcontour": [
           {
            "colorbar": {
             "outlinewidth": 0,
             "ticks": ""
            },
            "colorscale": [
             [
              0,
              "#0d0887"
             ],
             [
              0.1111111111111111,
              "#46039f"
             ],
             [
              0.2222222222222222,
              "#7201a8"
             ],
             [
              0.3333333333333333,
              "#9c179e"
             ],
             [
              0.4444444444444444,
              "#bd3786"
             ],
             [
              0.5555555555555556,
              "#d8576b"
             ],
             [
              0.6666666666666666,
              "#ed7953"
             ],
             [
              0.7777777777777778,
              "#fb9f3a"
             ],
             [
              0.8888888888888888,
              "#fdca26"
             ],
             [
              1,
              "#f0f921"
             ]
            ],
            "type": "histogram2dcontour"
           }
          ],
          "mesh3d": [
           {
            "colorbar": {
             "outlinewidth": 0,
             "ticks": ""
            },
            "type": "mesh3d"
           }
          ],
          "parcoords": [
           {
            "line": {
             "colorbar": {
              "outlinewidth": 0,
              "ticks": ""
             }
            },
            "type": "parcoords"
           }
          ],
          "pie": [
           {
            "automargin": true,
            "type": "pie"
           }
          ],
          "scatter": [
           {
            "fillpattern": {
             "fillmode": "overlay",
             "size": 10,
             "solidity": 0.2
            },
            "type": "scatter"
           }
          ],
          "scatter3d": [
           {
            "line": {
             "colorbar": {
              "outlinewidth": 0,
              "ticks": ""
             }
            },
            "marker": {
             "colorbar": {
              "outlinewidth": 0,
              "ticks": ""
             }
            },
            "type": "scatter3d"
           }
          ],
          "scattercarpet": [
           {
            "marker": {
             "colorbar": {
              "outlinewidth": 0,
              "ticks": ""
             }
            },
            "type": "scattercarpet"
           }
          ],
          "scattergeo": [
           {
            "marker": {
             "colorbar": {
              "outlinewidth": 0,
              "ticks": ""
             }
            },
            "type": "scattergeo"
           }
          ],
          "scattergl": [
           {
            "marker": {
             "colorbar": {
              "outlinewidth": 0,
              "ticks": ""
             }
            },
            "type": "scattergl"
           }
          ],
          "scattermapbox": [
           {
            "marker": {
             "colorbar": {
              "outlinewidth": 0,
              "ticks": ""
             }
            },
            "type": "scattermapbox"
           }
          ],
          "scatterpolar": [
           {
            "marker": {
             "colorbar": {
              "outlinewidth": 0,
              "ticks": ""
             }
            },
            "type": "scatterpolar"
           }
          ],
          "scatterpolargl": [
           {
            "marker": {
             "colorbar": {
              "outlinewidth": 0,
              "ticks": ""
             }
            },
            "type": "scatterpolargl"
           }
          ],
          "scatterternary": [
           {
            "marker": {
             "colorbar": {
              "outlinewidth": 0,
              "ticks": ""
             }
            },
            "type": "scatterternary"
           }
          ],
          "surface": [
           {
            "colorbar": {
             "outlinewidth": 0,
             "ticks": ""
            },
            "colorscale": [
             [
              0,
              "#0d0887"
             ],
             [
              0.1111111111111111,
              "#46039f"
             ],
             [
              0.2222222222222222,
              "#7201a8"
             ],
             [
              0.3333333333333333,
              "#9c179e"
             ],
             [
              0.4444444444444444,
              "#bd3786"
             ],
             [
              0.5555555555555556,
              "#d8576b"
             ],
             [
              0.6666666666666666,
              "#ed7953"
             ],
             [
              0.7777777777777778,
              "#fb9f3a"
             ],
             [
              0.8888888888888888,
              "#fdca26"
             ],
             [
              1,
              "#f0f921"
             ]
            ],
            "type": "surface"
           }
          ],
          "table": [
           {
            "cells": {
             "fill": {
              "color": "#EBF0F8"
             },
             "line": {
              "color": "white"
             }
            },
            "header": {
             "fill": {
              "color": "#C8D4E3"
             },
             "line": {
              "color": "white"
             }
            },
            "type": "table"
           }
          ]
         },
         "layout": {
          "annotationdefaults": {
           "arrowcolor": "#2a3f5f",
           "arrowhead": 0,
           "arrowwidth": 1
          },
          "autotypenumbers": "strict",
          "coloraxis": {
           "colorbar": {
            "outlinewidth": 0,
            "ticks": ""
           }
          },
          "colorscale": {
           "diverging": [
            [
             0,
             "#8e0152"
            ],
            [
             0.1,
             "#c51b7d"
            ],
            [
             0.2,
             "#de77ae"
            ],
            [
             0.3,
             "#f1b6da"
            ],
            [
             0.4,
             "#fde0ef"
            ],
            [
             0.5,
             "#f7f7f7"
            ],
            [
             0.6,
             "#e6f5d0"
            ],
            [
             0.7,
             "#b8e186"
            ],
            [
             0.8,
             "#7fbc41"
            ],
            [
             0.9,
             "#4d9221"
            ],
            [
             1,
             "#276419"
            ]
           ],
           "sequential": [
            [
             0,
             "#0d0887"
            ],
            [
             0.1111111111111111,
             "#46039f"
            ],
            [
             0.2222222222222222,
             "#7201a8"
            ],
            [
             0.3333333333333333,
             "#9c179e"
            ],
            [
             0.4444444444444444,
             "#bd3786"
            ],
            [
             0.5555555555555556,
             "#d8576b"
            ],
            [
             0.6666666666666666,
             "#ed7953"
            ],
            [
             0.7777777777777778,
             "#fb9f3a"
            ],
            [
             0.8888888888888888,
             "#fdca26"
            ],
            [
             1,
             "#f0f921"
            ]
           ],
           "sequentialminus": [
            [
             0,
             "#0d0887"
            ],
            [
             0.1111111111111111,
             "#46039f"
            ],
            [
             0.2222222222222222,
             "#7201a8"
            ],
            [
             0.3333333333333333,
             "#9c179e"
            ],
            [
             0.4444444444444444,
             "#bd3786"
            ],
            [
             0.5555555555555556,
             "#d8576b"
            ],
            [
             0.6666666666666666,
             "#ed7953"
            ],
            [
             0.7777777777777778,
             "#fb9f3a"
            ],
            [
             0.8888888888888888,
             "#fdca26"
            ],
            [
             1,
             "#f0f921"
            ]
           ]
          },
          "colorway": [
           "#636efa",
           "#EF553B",
           "#00cc96",
           "#ab63fa",
           "#FFA15A",
           "#19d3f3",
           "#FF6692",
           "#B6E880",
           "#FF97FF",
           "#FECB52"
          ],
          "font": {
           "color": "#2a3f5f"
          },
          "geo": {
           "bgcolor": "white",
           "lakecolor": "white",
           "landcolor": "#E5ECF6",
           "showlakes": true,
           "showland": true,
           "subunitcolor": "white"
          },
          "hoverlabel": {
           "align": "left"
          },
          "hovermode": "closest",
          "mapbox": {
           "style": "light"
          },
          "paper_bgcolor": "white",
          "plot_bgcolor": "#E5ECF6",
          "polar": {
           "angularaxis": {
            "gridcolor": "white",
            "linecolor": "white",
            "ticks": ""
           },
           "bgcolor": "#E5ECF6",
           "radialaxis": {
            "gridcolor": "white",
            "linecolor": "white",
            "ticks": ""
           }
          },
          "scene": {
           "xaxis": {
            "backgroundcolor": "#E5ECF6",
            "gridcolor": "white",
            "gridwidth": 2,
            "linecolor": "white",
            "showbackground": true,
            "ticks": "",
            "zerolinecolor": "white"
           },
           "yaxis": {
            "backgroundcolor": "#E5ECF6",
            "gridcolor": "white",
            "gridwidth": 2,
            "linecolor": "white",
            "showbackground": true,
            "ticks": "",
            "zerolinecolor": "white"
           },
           "zaxis": {
            "backgroundcolor": "#E5ECF6",
            "gridcolor": "white",
            "gridwidth": 2,
            "linecolor": "white",
            "showbackground": true,
            "ticks": "",
            "zerolinecolor": "white"
           }
          },
          "shapedefaults": {
           "line": {
            "color": "#2a3f5f"
           }
          },
          "ternary": {
           "aaxis": {
            "gridcolor": "white",
            "linecolor": "white",
            "ticks": ""
           },
           "baxis": {
            "gridcolor": "white",
            "linecolor": "white",
            "ticks": ""
           },
           "bgcolor": "#E5ECF6",
           "caxis": {
            "gridcolor": "white",
            "linecolor": "white",
            "ticks": ""
           }
          },
          "title": {
           "x": 0.05
          },
          "xaxis": {
           "automargin": true,
           "gridcolor": "white",
           "linecolor": "white",
           "ticks": "",
           "title": {
            "standoff": 15
           },
           "zerolinecolor": "white",
           "zerolinewidth": 2
          },
          "yaxis": {
           "automargin": true,
           "gridcolor": "white",
           "linecolor": "white",
           "ticks": "",
           "title": {
            "standoff": 15
           },
           "zerolinecolor": "white",
           "zerolinewidth": 2
          }
         }
        },
        "title": {
         "text": "Vehicle Class focus for each Manufacturer"
        },
        "xaxis": {
         "anchor": "y",
         "domain": [
          0,
          1
         ],
         "title": {
          "text": "Vehicle Class"
         }
        },
        "yaxis": {
         "anchor": "x",
         "domain": [
          0,
          1
         ],
         "title": {
          "text": "Number of Vehicles grouped by Make"
         }
        }
       }
      },
      "text/html": [
       "<div>                            <div id=\"411f4b2d-aa84-42c8-8214-e79b799cf4fe\" class=\"plotly-graph-div\" style=\"height:525px; width:100%;\"></div>            <script type=\"text/javascript\">                require([\"plotly\"], function(Plotly) {                    window.PLOTLYENV=window.PLOTLYENV || {};                                    if (document.getElementById(\"411f4b2d-aa84-42c8-8214-e79b799cf4fe\")) {                    Plotly.newPlot(                        \"411f4b2d-aa84-42c8-8214-e79b799cf4fe\",                        [{\"alignmentgroup\":\"True\",\"hovertemplate\":\"<b>Class: %{x}</b><br>Count: %{y}</br>Make: %{text}<br>\",\"legendgroup\":\"ACURA\",\"marker\":{\"color\":\"#AA0DFE\",\"pattern\":{\"shape\":\"\"}},\"name\":\"ACURA\",\"offsetgroup\":\"ACURA\",\"orientation\":\"v\",\"showlegend\":true,\"text\":[\"ACURA\",\"ACURA\",\"ACURA\",\"ACURA\",\"ACURA\",\"ACURA\"],\"textposition\":\"auto\",\"x\":[\"COMPACT\",\"MID-SIZE\",\"SUBCOMPACT\",\"SUV\",\"SUV - SMALL\",\"TWO-SEATER\"],\"xaxis\":\"x\",\"y\":[102.0,55.0,25.0,20.0,33.0,12.0],\"yaxis\":\"y\",\"type\":\"bar\"},{\"alignmentgroup\":\"True\",\"hovertemplate\":\"<b>Class: %{x}</b><br>Count: %{y}</br>Make: %{text}<br>\",\"legendgroup\":\"ALFA ROMEO\",\"marker\":{\"color\":\"#3283FE\",\"pattern\":{\"shape\":\"\"}},\"name\":\"ALFA ROMEO\",\"offsetgroup\":\"ALFA ROMEO\",\"orientation\":\"v\",\"showlegend\":true,\"text\":[\"ALFA ROMEO\",\"ALFA ROMEO\",\"ALFA ROMEO\"],\"textposition\":\"auto\",\"x\":[\"MID-SIZE\",\"SUV - SMALL\",\"TWO-SEATER\"],\"xaxis\":\"x\",\"y\":[18.0,14.0,10.0],\"yaxis\":\"y\",\"type\":\"bar\"},{\"alignmentgroup\":\"True\",\"hovertemplate\":\"<b>Class: %{x}</b><br>Count: %{y}</br>Make: %{text}<br>\",\"legendgroup\":\"ASTON MARTIN\",\"marker\":{\"color\":\"#85660D\",\"pattern\":{\"shape\":\"\"}},\"name\":\"ASTON MARTIN\",\"offsetgroup\":\"ASTON MARTIN\",\"orientation\":\"v\",\"showlegend\":true,\"text\":[\"ASTON MARTIN\",\"ASTON MARTIN\",\"ASTON MARTIN\",\"ASTON MARTIN\"],\"textposition\":\"auto\",\"x\":[\"MINICOMPACT\",\"SUBCOMPACT\",\"SUV - STANDARD\",\"TWO-SEATER\"],\"xaxis\":\"x\",\"y\":[48.0,8.0,2.0,48.0],\"yaxis\":\"y\",\"type\":\"bar\"},{\"alignmentgroup\":\"True\",\"hovertemplate\":\"<b>Class: %{x}</b><br>Count: %{y}</br>Make: %{text}<br>\",\"legendgroup\":\"AUDI\",\"marker\":{\"color\":\"#782AB6\",\"pattern\":{\"shape\":\"\"}},\"name\":\"AUDI\",\"offsetgroup\":\"AUDI\",\"orientation\":\"v\",\"showlegend\":true,\"text\":[\"AUDI\",\"AUDI\",\"AUDI\",\"AUDI\",\"AUDI\",\"AUDI\",\"AUDI\",\"AUDI\",\"AUDI\",\"AUDI\",\"AUDI\"],\"textposition\":\"auto\",\"x\":[\"COMPACT\",\"FULL-SIZE\",\"MID-SIZE\",\"MINICOMPACT\",\"STATION WAGON - MID-SIZE\",\"STATION WAGON - SMALL\",\"SUBCOMPACT\",\"SUV\",\"SUV - SMALL\",\"SUV - STANDARD\",\"TWO-SEATER\"],\"xaxis\":\"x\",\"y\":[139.0,43.0,144.0,16.0,17.0,75.0,181.0,25.0,40.0,29.0,96.0],\"yaxis\":\"y\",\"type\":\"bar\"},{\"alignmentgroup\":\"True\",\"hovertemplate\":\"<b>Class: %{x}</b><br>Count: %{y}</br>Make: %{text}<br>\",\"legendgroup\":\"BENTLEY\",\"marker\":{\"color\":\"#565656\",\"pattern\":{\"shape\":\"\"}},\"name\":\"BENTLEY\",\"offsetgroup\":\"BENTLEY\",\"orientation\":\"v\",\"showlegend\":true,\"text\":[\"BENTLEY\",\"BENTLEY\",\"BENTLEY\",\"BENTLEY\",\"BENTLEY\",\"BENTLEY\",\"BENTLEY\"],\"textposition\":\"auto\",\"x\":[\"COMPACT\",\"FULL-SIZE\",\"MID-SIZE\",\"MINICOMPACT\",\"SUBCOMPACT\",\"SUV - STANDARD\",\"TWO-SEATER\"],\"xaxis\":\"x\",\"y\":[22.0,6.0,45.0,4.0,26.0,9.0,6.0],\"yaxis\":\"y\",\"type\":\"bar\"},{\"alignmentgroup\":\"True\",\"hovertemplate\":\"<b>Class: %{x}</b><br>Count: %{y}</br>Make: %{text}<br>\",\"legendgroup\":\"BMW\",\"marker\":{\"color\":\"#1C8356\",\"pattern\":{\"shape\":\"\"}},\"name\":\"BMW\",\"offsetgroup\":\"BMW\",\"orientation\":\"v\",\"showlegend\":true,\"text\":[\"BMW\",\"BMW\",\"BMW\",\"BMW\",\"BMW\",\"BMW\",\"BMW\",\"BMW\",\"BMW\",\"BMW\",\"BMW\"],\"textposition\":\"auto\",\"x\":[\"COMPACT\",\"FULL-SIZE\",\"MID-SIZE\",\"MINICOMPACT\",\"STATION WAGON - MID-SIZE\",\"STATION WAGON - SMALL\",\"SUBCOMPACT\",\"SUV\",\"SUV - SMALL\",\"SUV - STANDARD\",\"TWO-SEATER\"],\"xaxis\":\"x\",\"y\":[368.0,116.0,151.0,39.0,10.0,55.0,428.0,85.0,74.0,81.0,83.0],\"yaxis\":\"y\",\"type\":\"bar\"},{\"alignmentgroup\":\"True\",\"hovertemplate\":\"<b>Class: %{x}</b><br>Count: %{y}</br>Make: %{text}<br>\",\"legendgroup\":\"BUGATTI\",\"marker\":{\"color\":\"#16FF32\",\"pattern\":{\"shape\":\"\"}},\"name\":\"BUGATTI\",\"offsetgroup\":\"BUGATTI\",\"orientation\":\"v\",\"showlegend\":true,\"text\":[\"BUGATTI\"],\"textposition\":\"auto\",\"x\":[\"TWO-SEATER\"],\"xaxis\":\"x\",\"y\":[12.0],\"yaxis\":\"y\",\"type\":\"bar\"},{\"alignmentgroup\":\"True\",\"hovertemplate\":\"<b>Class: %{x}</b><br>Count: %{y}</br>Make: %{text}<br>\",\"legendgroup\":\"BUICK\",\"marker\":{\"color\":\"#F7E1A0\",\"pattern\":{\"shape\":\"\"}},\"name\":\"BUICK\",\"offsetgroup\":\"BUICK\",\"orientation\":\"v\",\"showlegend\":true,\"text\":[\"BUICK\",\"BUICK\",\"BUICK\",\"BUICK\",\"BUICK\",\"BUICK\",\"BUICK\"],\"textposition\":\"auto\",\"x\":[\"COMPACT\",\"FULL-SIZE\",\"MID-SIZE\",\"MINIVAN\",\"SUV\",\"SUV - SMALL\",\"SUV - STANDARD\"],\"xaxis\":\"x\",\"y\":[16.0,36.0,107.0,8.0,34.0,50.0,22.0],\"yaxis\":\"y\",\"type\":\"bar\"},{\"alignmentgroup\":\"True\",\"hovertemplate\":\"<b>Class: %{x}</b><br>Count: %{y}</br>Make: %{text}<br>\",\"legendgroup\":\"CADILLAC\",\"marker\":{\"color\":\"#E2E2E2\",\"pattern\":{\"shape\":\"\"}},\"name\":\"CADILLAC\",\"offsetgroup\":\"CADILLAC\",\"orientation\":\"v\",\"showlegend\":true,\"text\":[\"CADILLAC\",\"CADILLAC\",\"CADILLAC\",\"CADILLAC\",\"CADILLAC\",\"CADILLAC\",\"CADILLAC\",\"CADILLAC\",\"CADILLAC\"],\"textposition\":\"auto\",\"x\":[\"COMPACT\",\"FULL-SIZE\",\"MID-SIZE\",\"PICKUP TRUCK - STANDARD\",\"STATION WAGON - SMALL\",\"SUV\",\"SUV - SMALL\",\"SUV - STANDARD\",\"TWO-SEATER\"],\"xaxis\":\"x\",\"y\":[63.0,47.0,160.0,5.0,28.0,60.0,28.0,34.0,9.0],\"yaxis\":\"y\",\"type\":\"bar\"},{\"alignmentgroup\":\"True\",\"hovertemplate\":\"<b>Class: %{x}</b><br>Count: %{y}</br>Make: %{text}<br>\",\"legendgroup\":\"CHEVROLET\",\"marker\":{\"color\":\"#1CBE4F\",\"pattern\":{\"shape\":\"\"}},\"name\":\"CHEVROLET\",\"offsetgroup\":\"CHEVROLET\",\"orientation\":\"v\",\"showlegend\":true,\"text\":[\"CHEVROLET\",\"CHEVROLET\",\"CHEVROLET\",\"CHEVROLET\",\"CHEVROLET\",\"CHEVROLET\",\"CHEVROLET\",\"CHEVROLET\",\"CHEVROLET\",\"CHEVROLET\",\"CHEVROLET\",\"CHEVROLET\",\"CHEVROLET\",\"CHEVROLET\",\"CHEVROLET\"],\"textposition\":\"auto\",\"x\":[\"COMPACT\",\"FULL-SIZE\",\"MID-SIZE\",\"MINIVAN\",\"PICKUP TRUCK - SMALL\",\"PICKUP TRUCK - STANDARD\",\"SPECIAL PURPOSE VEHICLE\",\"STATION WAGON - SMALL\",\"SUBCOMPACT\",\"SUV\",\"SUV - SMALL\",\"SUV - STANDARD\",\"TWO-SEATER\",\"VAN - CARGO\",\"VAN - PASSENGER\"],\"xaxis\":\"x\",\"y\":[135.0,73.0,150.0,21.0,160.0,513.0,4.0,20.0,137.0,360.0,108.0,146.0,66.0,127.0,110.0],\"yaxis\":\"y\",\"type\":\"bar\"},{\"alignmentgroup\":\"True\",\"hovertemplate\":\"<b>Class: %{x}</b><br>Count: %{y}</br>Make: %{text}<br>\",\"legendgroup\":\"CHRYSLER\",\"marker\":{\"color\":\"#C4451C\",\"pattern\":{\"shape\":\"\"}},\"name\":\"CHRYSLER\",\"offsetgroup\":\"CHRYSLER\",\"orientation\":\"v\",\"showlegend\":true,\"text\":[\"CHRYSLER\",\"CHRYSLER\",\"CHRYSLER\",\"CHRYSLER\",\"CHRYSLER\",\"CHRYSLER\",\"CHRYSLER\"],\"textposition\":\"auto\",\"x\":[\"COMPACT\",\"FULL-SIZE\",\"MID-SIZE\",\"MINIVAN\",\"SUBCOMPACT\",\"SUV\",\"TWO-SEATER\"],\"xaxis\":\"x\",\"y\":[62.0,141.0,95.0,45.0,7.0,51.0,24.0],\"yaxis\":\"y\",\"type\":\"bar\"},{\"alignmentgroup\":\"True\",\"hovertemplate\":\"<b>Class: %{x}</b><br>Count: %{y}</br>Make: %{text}<br>\",\"legendgroup\":\"DAEWOO\",\"marker\":{\"color\":\"#DEA0FD\",\"pattern\":{\"shape\":\"\"}},\"name\":\"DAEWOO\",\"offsetgroup\":\"DAEWOO\",\"orientation\":\"v\",\"showlegend\":true,\"text\":[\"DAEWOO\",\"DAEWOO\",\"DAEWOO\",\"DAEWOO\"],\"textposition\":\"auto\",\"x\":[\"COMPACT\",\"MID-SIZE\",\"STATION WAGON - SMALL\",\"SUBCOMPACT\"],\"xaxis\":\"x\",\"y\":[18.0,4.0,8.0,4.0],\"yaxis\":\"y\",\"type\":\"bar\"},{\"alignmentgroup\":\"True\",\"hovertemplate\":\"<b>Class: %{x}</b><br>Count: %{y}</br>Make: %{text}<br>\",\"legendgroup\":\"DODGE\",\"marker\":{\"color\":\"#FE00FA\",\"pattern\":{\"shape\":\"\"}},\"name\":\"DODGE\",\"offsetgroup\":\"DODGE\",\"orientation\":\"v\",\"showlegend\":true,\"text\":[\"DODGE\",\"DODGE\",\"DODGE\",\"DODGE\",\"DODGE\",\"DODGE\",\"DODGE\",\"DODGE\",\"DODGE\",\"DODGE\",\"DODGE\",\"DODGE\"],\"textposition\":\"auto\",\"x\":[\"COMPACT\",\"FULL-SIZE\",\"MID-SIZE\",\"MINIVAN\",\"PICKUP TRUCK - STANDARD\",\"SUBCOMPACT\",\"SUV\",\"SUV - SMALL\",\"SUV - STANDARD\",\"TWO-SEATER\",\"VAN - CARGO\",\"VAN - PASSENGER\"],\"xaxis\":\"x\",\"y\":[25.0,167.0,178.0,121.0,223.0,2.0,92.0,29.0,29.0,18.0,27.0,14.0],\"yaxis\":\"y\",\"type\":\"bar\"},{\"alignmentgroup\":\"True\",\"hovertemplate\":\"<b>Class: %{x}</b><br>Count: %{y}</br>Make: %{text}<br>\",\"legendgroup\":\"FERRARI\",\"marker\":{\"color\":\"#325A9B\",\"pattern\":{\"shape\":\"\"}},\"name\":\"FERRARI\",\"offsetgroup\":\"FERRARI\",\"orientation\":\"v\",\"showlegend\":true,\"text\":[\"FERRARI\",\"FERRARI\",\"FERRARI\"],\"textposition\":\"auto\",\"x\":[\"MID-SIZE\",\"SUBCOMPACT\",\"TWO-SEATER\"],\"xaxis\":\"x\",\"y\":[19.0,7.0,47.0],\"yaxis\":\"y\",\"type\":\"bar\"},{\"alignmentgroup\":\"True\",\"hovertemplate\":\"<b>Class: %{x}</b><br>Count: %{y}</br>Make: %{text}<br>\",\"legendgroup\":\"FIAT\",\"marker\":{\"color\":\"#FEAF16\",\"pattern\":{\"shape\":\"\"}},\"name\":\"FIAT\",\"offsetgroup\":\"FIAT\",\"orientation\":\"v\",\"showlegend\":true,\"text\":[\"FIAT\",\"FIAT\",\"FIAT\",\"FIAT\"],\"textposition\":\"auto\",\"x\":[\"MINICOMPACT\",\"STATION WAGON - SMALL\",\"SUV - SMALL\",\"TWO-SEATER\"],\"xaxis\":\"x\",\"y\":[52.0,12.0,13.0,8.0],\"yaxis\":\"y\",\"type\":\"bar\"},{\"alignmentgroup\":\"True\",\"hovertemplate\":\"<b>Class: %{x}</b><br>Count: %{y}</br>Make: %{text}<br>\",\"legendgroup\":\"FORD\",\"marker\":{\"color\":\"#F8A19F\",\"pattern\":{\"shape\":\"\"}},\"name\":\"FORD\",\"offsetgroup\":\"FORD\",\"orientation\":\"v\",\"showlegend\":true,\"text\":[\"FORD\",\"FORD\",\"FORD\",\"FORD\",\"FORD\",\"FORD\",\"FORD\",\"FORD\",\"FORD\",\"FORD\",\"FORD\",\"FORD\",\"FORD\",\"FORD\",\"FORD\"],\"textposition\":\"auto\",\"x\":[\"COMPACT\",\"FULL-SIZE\",\"MID-SIZE\",\"MINIVAN\",\"PICKUP TRUCK - SMALL\",\"PICKUP TRUCK - STANDARD\",\"SPECIAL PURPOSE VEHICLE\",\"STATION WAGON - MID-SIZE\",\"SUBCOMPACT\",\"SUV\",\"SUV - SMALL\",\"SUV - STANDARD\",\"TWO-SEATER\",\"VAN - CARGO\",\"VAN - PASSENGER\"],\"xaxis\":\"x\",\"y\":[125.0,97.0,117.0,9.0,30.0,525.0,64.0,38.0,184.0,175.0,131.0,100.0,13.0,52.0,64.0],\"yaxis\":\"y\",\"type\":\"bar\"},{\"alignmentgroup\":\"True\",\"hovertemplate\":\"<b>Class: %{x}</b><br>Count: %{y}</br>Make: %{text}<br>\",\"legendgroup\":\"GENESIS\",\"marker\":{\"color\":\"#90AD1C\",\"pattern\":{\"shape\":\"\"}},\"name\":\"GENESIS\",\"offsetgroup\":\"GENESIS\",\"orientation\":\"v\",\"showlegend\":true,\"text\":[\"GENESIS\",\"GENESIS\",\"GENESIS\",\"GENESIS\"],\"textposition\":\"auto\",\"x\":[\"COMPACT\",\"FULL-SIZE\",\"SUV - SMALL\",\"SUV - STANDARD\"],\"xaxis\":\"x\",\"y\":[11.0,25.0,2.0,4.0],\"yaxis\":\"y\",\"type\":\"bar\"},{\"alignmentgroup\":\"True\",\"hovertemplate\":\"<b>Class: %{x}</b><br>Count: %{y}</br>Make: %{text}<br>\",\"legendgroup\":\"GMC\",\"marker\":{\"color\":\"#F6222E\",\"pattern\":{\"shape\":\"\"}},\"name\":\"GMC\",\"offsetgroup\":\"GMC\",\"orientation\":\"v\",\"showlegend\":true,\"text\":[\"GMC\",\"GMC\",\"GMC\",\"GMC\",\"GMC\",\"GMC\",\"GMC\"],\"textposition\":\"auto\",\"x\":[\"PICKUP TRUCK - SMALL\",\"PICKUP TRUCK - STANDARD\",\"SUV\",\"SUV - SMALL\",\"SUV - STANDARD\",\"VAN - CARGO\",\"VAN - PASSENGER\"],\"xaxis\":\"x\",\"y\":[147.0,464.0,285.0,47.0,177.0,126.0,111.0],\"yaxis\":\"y\",\"type\":\"bar\"},{\"alignmentgroup\":\"True\",\"hovertemplate\":\"<b>Class: %{x}</b><br>Count: %{y}</br>Make: %{text}<br>\",\"legendgroup\":\"HONDA\",\"marker\":{\"color\":\"#1CFFCE\",\"pattern\":{\"shape\":\"\"}},\"name\":\"HONDA\",\"offsetgroup\":\"HONDA\",\"orientation\":\"v\",\"showlegend\":true,\"text\":[\"HONDA\",\"HONDA\",\"HONDA\",\"HONDA\",\"HONDA\",\"HONDA\",\"HONDA\",\"HONDA\",\"HONDA\",\"HONDA\",\"HONDA\"],\"textposition\":\"auto\",\"x\":[\"COMPACT\",\"FULL-SIZE\",\"MID-SIZE\",\"MINIVAN\",\"PICKUP TRUCK - STANDARD\",\"STATION WAGON - SMALL\",\"SUBCOMPACT\",\"SUV\",\"SUV - SMALL\",\"SUV - STANDARD\",\"TWO-SEATER\"],\"xaxis\":\"x\",\"y\":[103.0,70.0,101.0,34.0,15.0,58.0,26.0,72.0,54.0,1.0,27.0],\"yaxis\":\"y\",\"type\":\"bar\"},{\"alignmentgroup\":\"True\",\"hovertemplate\":\"<b>Class: %{x}</b><br>Count: %{y}</br>Make: %{text}<br>\",\"legendgroup\":\"HUMMER\",\"marker\":{\"color\":\"#2ED9FF\",\"pattern\":{\"shape\":\"\"}},\"name\":\"HUMMER\",\"offsetgroup\":\"HUMMER\",\"orientation\":\"v\",\"showlegend\":true,\"text\":[\"HUMMER\",\"HUMMER\"],\"textposition\":\"auto\",\"x\":[\"PICKUP TRUCK - STANDARD\",\"SUV\"],\"xaxis\":\"x\",\"y\":[7.0,14.0],\"yaxis\":\"y\",\"type\":\"bar\"},{\"alignmentgroup\":\"True\",\"hovertemplate\":\"<b>Class: %{x}</b><br>Count: %{y}</br>Make: %{text}<br>\",\"legendgroup\":\"HYUNDAI\",\"marker\":{\"color\":\"#B10DA1\",\"pattern\":{\"shape\":\"\"}},\"name\":\"HYUNDAI\",\"offsetgroup\":\"HYUNDAI\",\"orientation\":\"v\",\"showlegend\":true,\"text\":[\"HYUNDAI\",\"HYUNDAI\",\"HYUNDAI\",\"HYUNDAI\",\"HYUNDAI\",\"HYUNDAI\",\"HYUNDAI\",\"HYUNDAI\",\"HYUNDAI\",\"HYUNDAI\"],\"textposition\":\"auto\",\"x\":[\"COMPACT\",\"FULL-SIZE\",\"MID-SIZE\",\"MINIVAN\",\"PICKUP TRUCK - SMALL\",\"STATION WAGON - SMALL\",\"SUBCOMPACT\",\"SUV\",\"SUV - SMALL\",\"SUV - STANDARD\"],\"xaxis\":\"x\",\"y\":[100.0,99.0,102.0,3.0,1.0,10.0,53.0,88.0,100.0,5.0],\"yaxis\":\"y\",\"type\":\"bar\"},{\"alignmentgroup\":\"True\",\"hovertemplate\":\"<b>Class: %{x}</b><br>Count: %{y}</br>Make: %{text}<br>\",\"legendgroup\":\"INFINITI\",\"marker\":{\"color\":\"#C075A6\",\"pattern\":{\"shape\":\"\"}},\"name\":\"INFINITI\",\"offsetgroup\":\"INFINITI\",\"orientation\":\"v\",\"showlegend\":true,\"text\":[\"INFINITI\",\"INFINITI\",\"INFINITI\",\"INFINITI\",\"INFINITI\",\"INFINITI\",\"INFINITI\",\"INFINITI\"],\"textposition\":\"auto\",\"x\":[\"COMPACT\",\"FULL-SIZE\",\"MID-SIZE\",\"STATION WAGON - SMALL\",\"SUBCOMPACT\",\"SUV\",\"SUV - SMALL\",\"SUV - STANDARD\"],\"xaxis\":\"x\",\"y\":[38.0,19.0,92.0,8.0,52.0,32.0,24.0,15.0],\"yaxis\":\"y\",\"type\":\"bar\"},{\"alignmentgroup\":\"True\",\"hovertemplate\":\"<b>Class: %{x}</b><br>Count: %{y}</br>Make: %{text}<br>\",\"legendgroup\":\"ISUZU\",\"marker\":{\"color\":\"#FC1CBF\",\"pattern\":{\"shape\":\"\"}},\"name\":\"ISUZU\",\"offsetgroup\":\"ISUZU\",\"orientation\":\"v\",\"showlegend\":true,\"text\":[\"ISUZU\",\"ISUZU\",\"ISUZU\"],\"textposition\":\"auto\",\"x\":[\"PICKUP TRUCK - SMALL\",\"PICKUP TRUCK - STANDARD\",\"SUV\"],\"xaxis\":\"x\",\"y\":[3.0,1.0,14.0],\"yaxis\":\"y\",\"type\":\"bar\"},{\"alignmentgroup\":\"True\",\"hovertemplate\":\"<b>Class: %{x}</b><br>Count: %{y}</br>Make: %{text}<br>\",\"legendgroup\":\"JAGUAR\",\"marker\":{\"color\":\"#B00068\",\"pattern\":{\"shape\":\"\"}},\"name\":\"JAGUAR\",\"offsetgroup\":\"JAGUAR\",\"orientation\":\"v\",\"showlegend\":true,\"text\":[\"JAGUAR\",\"JAGUAR\",\"JAGUAR\",\"JAGUAR\",\"JAGUAR\",\"JAGUAR\",\"JAGUAR\",\"JAGUAR\"],\"textposition\":\"auto\",\"x\":[\"COMPACT\",\"FULL-SIZE\",\"MID-SIZE\",\"MINICOMPACT\",\"STATION WAGON - SMALL\",\"SUBCOMPACT\",\"SUV - SMALL\",\"TWO-SEATER\"],\"xaxis\":\"x\",\"y\":[32.0,64.0,69.0,53.0,8.0,34.0,16.0,88.0],\"yaxis\":\"y\",\"type\":\"bar\"},{\"alignmentgroup\":\"True\",\"hovertemplate\":\"<b>Class: %{x}</b><br>Count: %{y}</br>Make: %{text}<br>\",\"legendgroup\":\"JEEP\",\"marker\":{\"color\":\"#FBE426\",\"pattern\":{\"shape\":\"\"}},\"name\":\"JEEP\",\"offsetgroup\":\"JEEP\",\"orientation\":\"v\",\"showlegend\":true,\"text\":[\"JEEP\",\"JEEP\",\"JEEP\",\"JEEP\",\"JEEP\"],\"textposition\":\"auto\",\"x\":[\"PICKUP TRUCK - STANDARD\",\"SUBCOMPACT\",\"SUV\",\"SUV - SMALL\",\"SUV - STANDARD\"],\"xaxis\":\"x\",\"y\":[10.0,1.0,201.0,283.0,49.0],\"yaxis\":\"y\",\"type\":\"bar\"},{\"alignmentgroup\":\"True\",\"hovertemplate\":\"<b>Class: %{x}</b><br>Count: %{y}</br>Make: %{text}<br>\",\"legendgroup\":\"KIA\",\"marker\":{\"color\":\"#FA0087\",\"pattern\":{\"shape\":\"\"}},\"name\":\"KIA\",\"offsetgroup\":\"KIA\",\"orientation\":\"v\",\"showlegend\":true,\"text\":[\"KIA\",\"KIA\",\"KIA\",\"KIA\",\"KIA\",\"KIA\",\"KIA\",\"KIA\",\"KIA\"],\"textposition\":\"auto\",\"x\":[\"COMPACT\",\"FULL-SIZE\",\"MID-SIZE\",\"MINIVAN\",\"STATION WAGON - MID-SIZE\",\"STATION WAGON - SMALL\",\"SUBCOMPACT\",\"SUV\",\"SUV - SMALL\"],\"xaxis\":\"x\",\"y\":[92.0,61.0,108.0,28.0,19.0,62.0,2.0,80.0,80.0],\"yaxis\":\"y\",\"type\":\"bar\"},{\"alignmentgroup\":\"True\",\"hovertemplate\":\"<b>Class: %{x}</b><br>Count: %{y}</br>Make: %{text}<br>\",\"legendgroup\":\"LAMBORGHINI\",\"marker\":{\"color\":\"#AA0DFE\",\"pattern\":{\"shape\":\"\"}},\"name\":\"LAMBORGHINI\",\"offsetgroup\":\"LAMBORGHINI\",\"orientation\":\"v\",\"showlegend\":true,\"text\":[\"LAMBORGHINI\",\"LAMBORGHINI\"],\"textposition\":\"auto\",\"x\":[\"SUV - STANDARD\",\"TWO-SEATER\"],\"xaxis\":\"x\",\"y\":[4.0,107.0],\"yaxis\":\"y\",\"type\":\"bar\"},{\"alignmentgroup\":\"True\",\"hovertemplate\":\"<b>Class: %{x}</b><br>Count: %{y}</br>Make: %{text}<br>\",\"legendgroup\":\"LAND ROVER\",\"marker\":{\"color\":\"#3283FE\",\"pattern\":{\"shape\":\"\"}},\"name\":\"LAND ROVER\",\"offsetgroup\":\"LAND ROVER\",\"orientation\":\"v\",\"showlegend\":true,\"text\":[\"LAND ROVER\",\"LAND ROVER\",\"LAND ROVER\"],\"textposition\":\"auto\",\"x\":[\"SUV\",\"SUV - SMALL\",\"SUV - STANDARD\"],\"xaxis\":\"x\",\"y\":[63.0,34.0,77.0],\"yaxis\":\"y\",\"type\":\"bar\"},{\"alignmentgroup\":\"True\",\"hovertemplate\":\"<b>Class: %{x}</b><br>Count: %{y}</br>Make: %{text}<br>\",\"legendgroup\":\"LEXUS\",\"marker\":{\"color\":\"#85660D\",\"pattern\":{\"shape\":\"\"}},\"name\":\"LEXUS\",\"offsetgroup\":\"LEXUS\",\"orientation\":\"v\",\"showlegend\":true,\"text\":[\"LEXUS\",\"LEXUS\",\"LEXUS\",\"LEXUS\",\"LEXUS\",\"LEXUS\",\"LEXUS\",\"LEXUS\",\"LEXUS\",\"LEXUS\"],\"textposition\":\"auto\",\"x\":[\"COMPACT\",\"FULL-SIZE\",\"MID-SIZE\",\"MINICOMPACT\",\"STATION WAGON - MID-SIZE\",\"SUBCOMPACT\",\"SUV\",\"SUV - SMALL\",\"SUV - STANDARD\",\"TWO-SEATER\"],\"xaxis\":\"x\",\"y\":[67.0,9.0,151.0,11.0,1.0,93.0,50.0,46.0,31.0,1.0],\"yaxis\":\"y\",\"type\":\"bar\"},{\"alignmentgroup\":\"True\",\"hovertemplate\":\"<b>Class: %{x}</b><br>Count: %{y}</br>Make: %{text}<br>\",\"legendgroup\":\"LINCOLN\",\"marker\":{\"color\":\"#782AB6\",\"pattern\":{\"shape\":\"\"}},\"name\":\"LINCOLN\",\"offsetgroup\":\"LINCOLN\",\"orientation\":\"v\",\"showlegend\":true,\"text\":[\"LINCOLN\",\"LINCOLN\",\"LINCOLN\",\"LINCOLN\",\"LINCOLN\",\"LINCOLN\",\"LINCOLN\"],\"textposition\":\"auto\",\"x\":[\"FULL-SIZE\",\"MID-SIZE\",\"PICKUP TRUCK - STANDARD\",\"SPECIAL PURPOSE VEHICLE\",\"SUV\",\"SUV - SMALL\",\"SUV - STANDARD\"],\"xaxis\":\"x\",\"y\":[55.0,68.0,4.0,11.0,24.0,39.0,24.0],\"yaxis\":\"y\",\"type\":\"bar\"},{\"alignmentgroup\":\"True\",\"hovertemplate\":\"<b>Class: %{x}</b><br>Count: %{y}</br>Make: %{text}<br>\",\"legendgroup\":\"MASERATI\",\"marker\":{\"color\":\"#565656\",\"pattern\":{\"shape\":\"\"}},\"name\":\"MASERATI\",\"offsetgroup\":\"MASERATI\",\"orientation\":\"v\",\"showlegend\":true,\"text\":[\"MASERATI\",\"MASERATI\",\"MASERATI\",\"MASERATI\",\"MASERATI\"],\"textposition\":\"auto\",\"x\":[\"FULL-SIZE\",\"MID-SIZE\",\"SUBCOMPACT\",\"SUV - STANDARD\",\"TWO-SEATER\"],\"xaxis\":\"x\",\"y\":[37.0,27.0,31.0,20.0,10.0],\"yaxis\":\"y\",\"type\":\"bar\"},{\"alignmentgroup\":\"True\",\"hovertemplate\":\"<b>Class: %{x}</b><br>Count: %{y}</br>Make: %{text}<br>\",\"legendgroup\":\"MAZDA\",\"marker\":{\"color\":\"#1C8356\",\"pattern\":{\"shape\":\"\"}},\"name\":\"MAZDA\",\"offsetgroup\":\"MAZDA\",\"orientation\":\"v\",\"showlegend\":true,\"text\":[\"MAZDA\",\"MAZDA\",\"MAZDA\",\"MAZDA\",\"MAZDA\",\"MAZDA\",\"MAZDA\",\"MAZDA\",\"MAZDA\",\"MAZDA\"],\"textposition\":\"auto\",\"x\":[\"COMPACT\",\"MID-SIZE\",\"MINIVAN\",\"PICKUP TRUCK - SMALL\",\"PICKUP TRUCK - STANDARD\",\"STATION WAGON - MID-SIZE\",\"SUBCOMPACT\",\"SUV\",\"SUV - SMALL\",\"TWO-SEATER\"],\"xaxis\":\"x\",\"y\":[137.0,131.0,25.0,17.0,58.0,10.0,19.0,74.0,74.0,57.0],\"yaxis\":\"y\",\"type\":\"bar\"},{\"alignmentgroup\":\"True\",\"hovertemplate\":\"<b>Class: %{x}</b><br>Count: %{y}</br>Make: %{text}<br>\",\"legendgroup\":\"MERCEDES-BENZ\",\"marker\":{\"color\":\"#16FF32\",\"pattern\":{\"shape\":\"\"}},\"name\":\"MERCEDES-BENZ\",\"offsetgroup\":\"MERCEDES-BENZ\",\"orientation\":\"v\",\"showlegend\":true,\"text\":[\"MERCEDES-BENZ\",\"MERCEDES-BENZ\",\"MERCEDES-BENZ\",\"MERCEDES-BENZ\",\"MERCEDES-BENZ\",\"MERCEDES-BENZ\",\"MERCEDES-BENZ\",\"MERCEDES-BENZ\",\"MERCEDES-BENZ\",\"MERCEDES-BENZ\",\"MERCEDES-BENZ\",\"MERCEDES-BENZ\"],\"textposition\":\"auto\",\"x\":[\"COMPACT\",\"FULL-SIZE\",\"MID-SIZE\",\"MINICOMPACT\",\"SPECIAL PURPOSE VEHICLE\",\"STATION WAGON - MID-SIZE\",\"STATION WAGON - SMALL\",\"SUBCOMPACT\",\"SUV\",\"SUV - SMALL\",\"SUV - STANDARD\",\"TWO-SEATER\"],\"xaxis\":\"x\",\"y\":[279.0,136.0,120.0,8.0,18.0,51.0,59.0,177.0,90.0,50.0,113.0,175.0],\"yaxis\":\"y\",\"type\":\"bar\"},{\"alignmentgroup\":\"True\",\"hovertemplate\":\"<b>Class: %{x}</b><br>Count: %{y}</br>Make: %{text}<br>\",\"legendgroup\":\"MINI\",\"marker\":{\"color\":\"#F7E1A0\",\"pattern\":{\"shape\":\"\"}},\"name\":\"MINI\",\"offsetgroup\":\"MINI\",\"orientation\":\"v\",\"showlegend\":true,\"text\":[\"MINI\",\"MINI\",\"MINI\",\"MINI\",\"MINI\",\"MINI\"],\"textposition\":\"auto\",\"x\":[\"COMPACT\",\"MID-SIZE\",\"MINICOMPACT\",\"STATION WAGON - SMALL\",\"SUBCOMPACT\",\"TWO-SEATER\"],\"xaxis\":\"x\",\"y\":[52.0,57.0,135.0,4.0,112.0,46.0],\"yaxis\":\"y\",\"type\":\"bar\"},{\"alignmentgroup\":\"True\",\"hovertemplate\":\"<b>Class: %{x}</b><br>Count: %{y}</br>Make: %{text}<br>\",\"legendgroup\":\"MITSUBISHI\",\"marker\":{\"color\":\"#E2E2E2\",\"pattern\":{\"shape\":\"\"}},\"name\":\"MITSUBISHI\",\"offsetgroup\":\"MITSUBISHI\",\"orientation\":\"v\",\"showlegend\":true,\"text\":[\"MITSUBISHI\",\"MITSUBISHI\",\"MITSUBISHI\",\"MITSUBISHI\",\"MITSUBISHI\",\"MITSUBISHI\",\"MITSUBISHI\"],\"textposition\":\"auto\",\"x\":[\"COMPACT\",\"MID-SIZE\",\"MINICOMPACT\",\"STATION WAGON - SMALL\",\"SUBCOMPACT\",\"SUV\",\"SUV - SMALL\"],\"xaxis\":\"x\",\"y\":[96.0,18.0,32.0,22.0,39.0,56.0,59.0],\"yaxis\":\"y\",\"type\":\"bar\"},{\"alignmentgroup\":\"True\",\"hovertemplate\":\"<b>Class: %{x}</b><br>Count: %{y}</br>Make: %{text}<br>\",\"legendgroup\":\"NISSAN\",\"marker\":{\"color\":\"#1CBE4F\",\"pattern\":{\"shape\":\"\"}},\"name\":\"NISSAN\",\"offsetgroup\":\"NISSAN\",\"orientation\":\"v\",\"showlegend\":true,\"text\":[\"NISSAN\",\"NISSAN\",\"NISSAN\",\"NISSAN\",\"NISSAN\",\"NISSAN\",\"NISSAN\",\"NISSAN\",\"NISSAN\",\"NISSAN\",\"NISSAN\",\"NISSAN\",\"NISSAN\"],\"textposition\":\"auto\",\"x\":[\"COMPACT\",\"MID-SIZE\",\"MINIVAN\",\"PICKUP TRUCK - SMALL\",\"PICKUP TRUCK - STANDARD\",\"SPECIAL PURPOSE VEHICLE\",\"STATION WAGON - MID-SIZE\",\"STATION WAGON - SMALL\",\"SUBCOMPACT\",\"SUV\",\"SUV - SMALL\",\"SUV - STANDARD\",\"TWO-SEATER\"],\"xaxis\":\"x\",\"y\":[57.0,196.0,15.0,61.0,102.0,9.0,15.0,56.0,34.0,87.0,54.0,11.0,67.0],\"yaxis\":\"y\",\"type\":\"bar\"},{\"alignmentgroup\":\"True\",\"hovertemplate\":\"<b>Class: %{x}</b><br>Count: %{y}</br>Make: %{text}<br>\",\"legendgroup\":\"OLDSMOBILE\",\"marker\":{\"color\":\"#C4451C\",\"pattern\":{\"shape\":\"\"}},\"name\":\"OLDSMOBILE\",\"offsetgroup\":\"OLDSMOBILE\",\"orientation\":\"v\",\"showlegend\":true,\"text\":[\"OLDSMOBILE\",\"OLDSMOBILE\",\"OLDSMOBILE\",\"OLDSMOBILE\"],\"textposition\":\"auto\",\"x\":[\"COMPACT\",\"MID-SIZE\",\"MINIVAN\",\"SUV\"],\"xaxis\":\"x\",\"y\":[15.0,8.0,8.0,3.0],\"yaxis\":\"y\",\"type\":\"bar\"},{\"alignmentgroup\":\"True\",\"hovertemplate\":\"<b>Class: %{x}</b><br>Count: %{y}</br>Make: %{text}<br>\",\"legendgroup\":\"PLYMOUTH\",\"marker\":{\"color\":\"#DEA0FD\",\"pattern\":{\"shape\":\"\"}},\"name\":\"PLYMOUTH\",\"offsetgroup\":\"PLYMOUTH\",\"orientation\":\"v\",\"showlegend\":true,\"text\":[\"PLYMOUTH\",\"PLYMOUTH\"],\"textposition\":\"auto\",\"x\":[\"SUBCOMPACT\",\"TWO-SEATER\"],\"xaxis\":\"x\",\"y\":[1.0,1.0],\"yaxis\":\"y\",\"type\":\"bar\"},{\"alignmentgroup\":\"True\",\"hovertemplate\":\"<b>Class: %{x}</b><br>Count: %{y}</br>Make: %{text}<br>\",\"legendgroup\":\"PONTIAC\",\"marker\":{\"color\":\"#FE00FA\",\"pattern\":{\"shape\":\"\"}},\"name\":\"PONTIAC\",\"offsetgroup\":\"PONTIAC\",\"orientation\":\"v\",\"showlegend\":true,\"text\":[\"PONTIAC\",\"PONTIAC\",\"PONTIAC\",\"PONTIAC\",\"PONTIAC\",\"PONTIAC\",\"PONTIAC\",\"PONTIAC\"],\"textposition\":\"auto\",\"x\":[\"COMPACT\",\"FULL-SIZE\",\"MID-SIZE\",\"MINIVAN\",\"STATION WAGON - SMALL\",\"SUBCOMPACT\",\"SUV\",\"TWO-SEATER\"],\"xaxis\":\"x\",\"y\":[67.0,13.0,29.0,21.0,32.0,56.0,22.0,13.0],\"yaxis\":\"y\",\"type\":\"bar\"},{\"alignmentgroup\":\"True\",\"hovertemplate\":\"<b>Class: %{x}</b><br>Count: %{y}</br>Make: %{text}<br>\",\"legendgroup\":\"PORSCHE\",\"marker\":{\"color\":\"#325A9B\",\"pattern\":{\"shape\":\"\"}},\"name\":\"PORSCHE\",\"offsetgroup\":\"PORSCHE\",\"orientation\":\"v\",\"showlegend\":true,\"text\":[\"PORSCHE\",\"PORSCHE\",\"PORSCHE\",\"PORSCHE\",\"PORSCHE\",\"PORSCHE\"],\"textposition\":\"auto\",\"x\":[\"FULL-SIZE\",\"MINICOMPACT\",\"SUV\",\"SUV - SMALL\",\"SUV - STANDARD\",\"TWO-SEATER\"],\"xaxis\":\"x\",\"y\":[109.0,534.0,43.0,26.0,51.0,225.0],\"yaxis\":\"y\",\"type\":\"bar\"},{\"alignmentgroup\":\"True\",\"hovertemplate\":\"<b>Class: %{x}</b><br>Count: %{y}</br>Make: %{text}<br>\",\"legendgroup\":\"RAM\",\"marker\":{\"color\":\"#FEAF16\",\"pattern\":{\"shape\":\"\"}},\"name\":\"RAM\",\"offsetgroup\":\"RAM\",\"orientation\":\"v\",\"showlegend\":true,\"text\":[\"RAM\",\"RAM\",\"RAM\"],\"textposition\":\"auto\",\"x\":[\"MINIVAN\",\"PICKUP TRUCK - STANDARD\",\"SPECIAL PURPOSE VEHICLE\"],\"xaxis\":\"x\",\"y\":[8.0,137.0,8.0],\"yaxis\":\"y\",\"type\":\"bar\"},{\"alignmentgroup\":\"True\",\"hovertemplate\":\"<b>Class: %{x}</b><br>Count: %{y}</br>Make: %{text}<br>\",\"legendgroup\":\"ROLLS-ROYCE\",\"marker\":{\"color\":\"#F8A19F\",\"pattern\":{\"shape\":\"\"}},\"name\":\"ROLLS-ROYCE\",\"offsetgroup\":\"ROLLS-ROYCE\",\"orientation\":\"v\",\"showlegend\":true,\"text\":[\"ROLLS-ROYCE\",\"ROLLS-ROYCE\",\"ROLLS-ROYCE\",\"ROLLS-ROYCE\",\"ROLLS-ROYCE\"],\"textposition\":\"auto\",\"x\":[\"COMPACT\",\"FULL-SIZE\",\"MID-SIZE\",\"STATION WAGON - MID-SIZE\",\"SUBCOMPACT\"],\"xaxis\":\"x\",\"y\":[26.0,51.0,21.0,7.0,1.0],\"yaxis\":\"y\",\"type\":\"bar\"},{\"alignmentgroup\":\"True\",\"hovertemplate\":\"<b>Class: %{x}</b><br>Count: %{y}</br>Make: %{text}<br>\",\"legendgroup\":\"SAAB\",\"marker\":{\"color\":\"#90AD1C\",\"pattern\":{\"shape\":\"\"}},\"name\":\"SAAB\",\"offsetgroup\":\"SAAB\",\"orientation\":\"v\",\"showlegend\":true,\"text\":[\"SAAB\",\"SAAB\",\"SAAB\",\"SAAB\",\"SAAB\",\"SAAB\",\"SAAB\"],\"textposition\":\"auto\",\"x\":[\"COMPACT\",\"FULL-SIZE\",\"MID-SIZE\",\"STATION WAGON - MID-SIZE\",\"STATION WAGON - SMALL\",\"SUBCOMPACT\",\"SUV\"],\"xaxis\":\"x\",\"y\":[43.0,3.0,41.0,37.0,28.0,27.0,11.0],\"yaxis\":\"y\",\"type\":\"bar\"},{\"alignmentgroup\":\"True\",\"hovertemplate\":\"<b>Class: %{x}</b><br>Count: %{y}</br>Make: %{text}<br>\",\"legendgroup\":\"SATURN\",\"marker\":{\"color\":\"#F6222E\",\"pattern\":{\"shape\":\"\"}},\"name\":\"SATURN\",\"offsetgroup\":\"SATURN\",\"orientation\":\"v\",\"showlegend\":true,\"text\":[\"SATURN\",\"SATURN\",\"SATURN\",\"SATURN\",\"SATURN\",\"SATURN\",\"SATURN\",\"SATURN\"],\"textposition\":\"auto\",\"x\":[\"COMPACT\",\"MID-SIZE\",\"MINIVAN\",\"STATION WAGON - MID-SIZE\",\"STATION WAGON - SMALL\",\"SUBCOMPACT\",\"SUV\",\"TWO-SEATER\"],\"xaxis\":\"x\",\"y\":[18.0,25.0,8.0,12.0,4.0,28.0,49.0,12.0],\"yaxis\":\"y\",\"type\":\"bar\"},{\"alignmentgroup\":\"True\",\"hovertemplate\":\"<b>Class: %{x}</b><br>Count: %{y}</br>Make: %{text}<br>\",\"legendgroup\":\"SCION\",\"marker\":{\"color\":\"#1CFFCE\",\"pattern\":{\"shape\":\"\"}},\"name\":\"SCION\",\"offsetgroup\":\"SCION\",\"orientation\":\"v\",\"showlegend\":true,\"text\":[\"SCION\",\"SCION\",\"SCION\",\"SCION\",\"SCION\"],\"textposition\":\"auto\",\"x\":[\"COMPACT\",\"MID-SIZE\",\"MINICOMPACT\",\"STATION WAGON - SMALL\",\"SUBCOMPACT\"],\"xaxis\":\"x\",\"y\":[12.0,2.0,12.0,10.0,8.0],\"yaxis\":\"y\",\"type\":\"bar\"},{\"alignmentgroup\":\"True\",\"hovertemplate\":\"<b>Class: %{x}</b><br>Count: %{y}</br>Make: %{text}<br>\",\"legendgroup\":\"SMART\",\"marker\":{\"color\":\"#2ED9FF\",\"pattern\":{\"shape\":\"\"}},\"name\":\"SMART\",\"offsetgroup\":\"SMART\",\"orientation\":\"v\",\"showlegend\":true,\"text\":[\"SMART\"],\"textposition\":\"auto\",\"x\":[\"TWO-SEATER\"],\"xaxis\":\"x\",\"y\":[22.0],\"yaxis\":\"y\",\"type\":\"bar\"},{\"alignmentgroup\":\"True\",\"hovertemplate\":\"<b>Class: %{x}</b><br>Count: %{y}</br>Make: %{text}<br>\",\"legendgroup\":\"SRT\",\"marker\":{\"color\":\"#B10DA1\",\"pattern\":{\"shape\":\"\"}},\"name\":\"SRT\",\"offsetgroup\":\"SRT\",\"orientation\":\"v\",\"showlegend\":true,\"text\":[\"SRT\"],\"textposition\":\"auto\",\"x\":[\"TWO-SEATER\"],\"xaxis\":\"x\",\"y\":[4.0],\"yaxis\":\"y\",\"type\":\"bar\"},{\"alignmentgroup\":\"True\",\"hovertemplate\":\"<b>Class: %{x}</b><br>Count: %{y}</br>Make: %{text}<br>\",\"legendgroup\":\"SUBARU\",\"marker\":{\"color\":\"#C075A6\",\"pattern\":{\"shape\":\"\"}},\"name\":\"SUBARU\",\"offsetgroup\":\"SUBARU\",\"orientation\":\"v\",\"showlegend\":true,\"text\":[\"SUBARU\",\"SUBARU\",\"SUBARU\",\"SUBARU\",\"SUBARU\",\"SUBARU\",\"SUBARU\",\"SUBARU\",\"SUBARU\",\"SUBARU\"],\"textposition\":\"auto\",\"x\":[\"COMPACT\",\"FULL-SIZE\",\"MID-SIZE\",\"MINICOMPACT\",\"STATION WAGON - MID-SIZE\",\"STATION WAGON - SMALL\",\"SUBCOMPACT\",\"SUV\",\"SUV - SMALL\",\"SUV - STANDARD\"],\"xaxis\":\"x\",\"y\":[113.0,6.0,41.0,20.0,42.0,82.0,35.0,101.0,76.0,4.0],\"yaxis\":\"y\",\"type\":\"bar\"},{\"alignmentgroup\":\"True\",\"hovertemplate\":\"<b>Class: %{x}</b><br>Count: %{y}</br>Make: %{text}<br>\",\"legendgroup\":\"SUZUKI\",\"marker\":{\"color\":\"#FC1CBF\",\"pattern\":{\"shape\":\"\"}},\"name\":\"SUZUKI\",\"offsetgroup\":\"SUZUKI\",\"orientation\":\"v\",\"showlegend\":true,\"text\":[\"SUZUKI\",\"SUZUKI\",\"SUZUKI\",\"SUZUKI\",\"SUZUKI\",\"SUZUKI\",\"SUZUKI\"],\"textposition\":\"auto\",\"x\":[\"COMPACT\",\"MID-SIZE\",\"PICKUP TRUCK - SMALL\",\"STATION WAGON - SMALL\",\"SUBCOMPACT\",\"SUV\",\"SUV - SMALL\"],\"xaxis\":\"x\",\"y\":[56.0,3.0,5.0,61.0,12.0,61.0,1.0],\"yaxis\":\"y\",\"type\":\"bar\"},{\"alignmentgroup\":\"True\",\"hovertemplate\":\"<b>Class: %{x}</b><br>Count: %{y}</br>Make: %{text}<br>\",\"legendgroup\":\"TOYOTA\",\"marker\":{\"color\":\"#B00068\",\"pattern\":{\"shape\":\"\"}},\"name\":\"TOYOTA\",\"offsetgroup\":\"TOYOTA\",\"orientation\":\"v\",\"showlegend\":true,\"text\":[\"TOYOTA\",\"TOYOTA\",\"TOYOTA\",\"TOYOTA\",\"TOYOTA\",\"TOYOTA\",\"TOYOTA\",\"TOYOTA\",\"TOYOTA\",\"TOYOTA\",\"TOYOTA\",\"TOYOTA\",\"TOYOTA\",\"TOYOTA\"],\"textposition\":\"auto\",\"x\":[\"COMPACT\",\"FULL-SIZE\",\"MID-SIZE\",\"MINICOMPACT\",\"MINIVAN\",\"PICKUP TRUCK - SMALL\",\"PICKUP TRUCK - STANDARD\",\"STATION WAGON - MID-SIZE\",\"STATION WAGON - SMALL\",\"SUBCOMPACT\",\"SUV\",\"SUV - SMALL\",\"SUV - STANDARD\",\"TWO-SEATER\"],\"xaxis\":\"x\",\"y\":[146.0,12.0,178.0,10.0,43.0,87.0,140.0,7.0,48.0,46.0,135.0,85.0,59.0,5.0],\"yaxis\":\"y\",\"type\":\"bar\"},{\"alignmentgroup\":\"True\",\"hovertemplate\":\"<b>Class: %{x}</b><br>Count: %{y}</br>Make: %{text}<br>\",\"legendgroup\":\"VOLKSWAGEN\",\"marker\":{\"color\":\"#FBE426\",\"pattern\":{\"shape\":\"\"}},\"name\":\"VOLKSWAGEN\",\"offsetgroup\":\"VOLKSWAGEN\",\"orientation\":\"v\",\"showlegend\":true,\"text\":[\"VOLKSWAGEN\",\"VOLKSWAGEN\",\"VOLKSWAGEN\",\"VOLKSWAGEN\",\"VOLKSWAGEN\",\"VOLKSWAGEN\",\"VOLKSWAGEN\",\"VOLKSWAGEN\",\"VOLKSWAGEN\",\"VOLKSWAGEN\",\"VOLKSWAGEN\"],\"textposition\":\"auto\",\"x\":[\"COMPACT\",\"FULL-SIZE\",\"MID-SIZE\",\"MINICOMPACT\",\"MINIVAN\",\"STATION WAGON - MID-SIZE\",\"STATION WAGON - SMALL\",\"SUBCOMPACT\",\"SUV\",\"SUV - SMALL\",\"SUV - STANDARD\"],\"xaxis\":\"x\",\"y\":[315.0,8.0,77.0,20.0,11.0,49.0,56.0,92.0,28.0,38.0,7.0],\"yaxis\":\"y\",\"type\":\"bar\"},{\"alignmentgroup\":\"True\",\"hovertemplate\":\"<b>Class: %{x}</b><br>Count: %{y}</br>Make: %{text}<br>\",\"legendgroup\":\"VOLVO\",\"marker\":{\"color\":\"#FA0087\",\"pattern\":{\"shape\":\"\"}},\"name\":\"VOLVO\",\"offsetgroup\":\"VOLVO\",\"orientation\":\"v\",\"showlegend\":true,\"text\":[\"VOLVO\",\"VOLVO\",\"VOLVO\",\"VOLVO\",\"VOLVO\",\"VOLVO\",\"VOLVO\",\"VOLVO\"],\"textposition\":\"auto\",\"x\":[\"COMPACT\",\"MID-SIZE\",\"STATION WAGON - MID-SIZE\",\"STATION WAGON - SMALL\",\"SUBCOMPACT\",\"SUV\",\"SUV - SMALL\",\"SUV - STANDARD\"],\"xaxis\":\"x\",\"y\":[177.0,52.0,72.0,71.0,22.0,55.0,48.0,18.0],\"yaxis\":\"y\",\"type\":\"bar\"}],                        {\"template\":{\"data\":{\"histogram2dcontour\":[{\"type\":\"histogram2dcontour\",\"colorbar\":{\"outlinewidth\":0,\"ticks\":\"\"},\"colorscale\":[[0.0,\"#0d0887\"],[0.1111111111111111,\"#46039f\"],[0.2222222222222222,\"#7201a8\"],[0.3333333333333333,\"#9c179e\"],[0.4444444444444444,\"#bd3786\"],[0.5555555555555556,\"#d8576b\"],[0.6666666666666666,\"#ed7953\"],[0.7777777777777778,\"#fb9f3a\"],[0.8888888888888888,\"#fdca26\"],[1.0,\"#f0f921\"]]}],\"choropleth\":[{\"type\":\"choropleth\",\"colorbar\":{\"outlinewidth\":0,\"ticks\":\"\"}}],\"histogram2d\":[{\"type\":\"histogram2d\",\"colorbar\":{\"outlinewidth\":0,\"ticks\":\"\"},\"colorscale\":[[0.0,\"#0d0887\"],[0.1111111111111111,\"#46039f\"],[0.2222222222222222,\"#7201a8\"],[0.3333333333333333,\"#9c179e\"],[0.4444444444444444,\"#bd3786\"],[0.5555555555555556,\"#d8576b\"],[0.6666666666666666,\"#ed7953\"],[0.7777777777777778,\"#fb9f3a\"],[0.8888888888888888,\"#fdca26\"],[1.0,\"#f0f921\"]]}],\"heatmap\":[{\"type\":\"heatmap\",\"colorbar\":{\"outlinewidth\":0,\"ticks\":\"\"},\"colorscale\":[[0.0,\"#0d0887\"],[0.1111111111111111,\"#46039f\"],[0.2222222222222222,\"#7201a8\"],[0.3333333333333333,\"#9c179e\"],[0.4444444444444444,\"#bd3786\"],[0.5555555555555556,\"#d8576b\"],[0.6666666666666666,\"#ed7953\"],[0.7777777777777778,\"#fb9f3a\"],[0.8888888888888888,\"#fdca26\"],[1.0,\"#f0f921\"]]}],\"heatmapgl\":[{\"type\":\"heatmapgl\",\"colorbar\":{\"outlinewidth\":0,\"ticks\":\"\"},\"colorscale\":[[0.0,\"#0d0887\"],[0.1111111111111111,\"#46039f\"],[0.2222222222222222,\"#7201a8\"],[0.3333333333333333,\"#9c179e\"],[0.4444444444444444,\"#bd3786\"],[0.5555555555555556,\"#d8576b\"],[0.6666666666666666,\"#ed7953\"],[0.7777777777777778,\"#fb9f3a\"],[0.8888888888888888,\"#fdca26\"],[1.0,\"#f0f921\"]]}],\"contourcarpet\":[{\"type\":\"contourcarpet\",\"colorbar\":{\"outlinewidth\":0,\"ticks\":\"\"}}],\"contour\":[{\"type\":\"contour\",\"colorbar\":{\"outlinewidth\":0,\"ticks\":\"\"},\"colorscale\":[[0.0,\"#0d0887\"],[0.1111111111111111,\"#46039f\"],[0.2222222222222222,\"#7201a8\"],[0.3333333333333333,\"#9c179e\"],[0.4444444444444444,\"#bd3786\"],[0.5555555555555556,\"#d8576b\"],[0.6666666666666666,\"#ed7953\"],[0.7777777777777778,\"#fb9f3a\"],[0.8888888888888888,\"#fdca26\"],[1.0,\"#f0f921\"]]}],\"surface\":[{\"type\":\"surface\",\"colorbar\":{\"outlinewidth\":0,\"ticks\":\"\"},\"colorscale\":[[0.0,\"#0d0887\"],[0.1111111111111111,\"#46039f\"],[0.2222222222222222,\"#7201a8\"],[0.3333333333333333,\"#9c179e\"],[0.4444444444444444,\"#bd3786\"],[0.5555555555555556,\"#d8576b\"],[0.6666666666666666,\"#ed7953\"],[0.7777777777777778,\"#fb9f3a\"],[0.8888888888888888,\"#fdca26\"],[1.0,\"#f0f921\"]]}],\"mesh3d\":[{\"type\":\"mesh3d\",\"colorbar\":{\"outlinewidth\":0,\"ticks\":\"\"}}],\"scatter\":[{\"fillpattern\":{\"fillmode\":\"overlay\",\"size\":10,\"solidity\":0.2},\"type\":\"scatter\"}],\"parcoords\":[{\"type\":\"parcoords\",\"line\":{\"colorbar\":{\"outlinewidth\":0,\"ticks\":\"\"}}}],\"scatterpolargl\":[{\"type\":\"scatterpolargl\",\"marker\":{\"colorbar\":{\"outlinewidth\":0,\"ticks\":\"\"}}}],\"bar\":[{\"error_x\":{\"color\":\"#2a3f5f\"},\"error_y\":{\"color\":\"#2a3f5f\"},\"marker\":{\"line\":{\"color\":\"#E5ECF6\",\"width\":0.5},\"pattern\":{\"fillmode\":\"overlay\",\"size\":10,\"solidity\":0.2}},\"type\":\"bar\"}],\"scattergeo\":[{\"type\":\"scattergeo\",\"marker\":{\"colorbar\":{\"outlinewidth\":0,\"ticks\":\"\"}}}],\"scatterpolar\":[{\"type\":\"scatterpolar\",\"marker\":{\"colorbar\":{\"outlinewidth\":0,\"ticks\":\"\"}}}],\"histogram\":[{\"marker\":{\"pattern\":{\"fillmode\":\"overlay\",\"size\":10,\"solidity\":0.2}},\"type\":\"histogram\"}],\"scattergl\":[{\"type\":\"scattergl\",\"marker\":{\"colorbar\":{\"outlinewidth\":0,\"ticks\":\"\"}}}],\"scatter3d\":[{\"type\":\"scatter3d\",\"line\":{\"colorbar\":{\"outlinewidth\":0,\"ticks\":\"\"}},\"marker\":{\"colorbar\":{\"outlinewidth\":0,\"ticks\":\"\"}}}],\"scattermapbox\":[{\"type\":\"scattermapbox\",\"marker\":{\"colorbar\":{\"outlinewidth\":0,\"ticks\":\"\"}}}],\"scatterternary\":[{\"type\":\"scatterternary\",\"marker\":{\"colorbar\":{\"outlinewidth\":0,\"ticks\":\"\"}}}],\"scattercarpet\":[{\"type\":\"scattercarpet\",\"marker\":{\"colorbar\":{\"outlinewidth\":0,\"ticks\":\"\"}}}],\"carpet\":[{\"aaxis\":{\"endlinecolor\":\"#2a3f5f\",\"gridcolor\":\"white\",\"linecolor\":\"white\",\"minorgridcolor\":\"white\",\"startlinecolor\":\"#2a3f5f\"},\"baxis\":{\"endlinecolor\":\"#2a3f5f\",\"gridcolor\":\"white\",\"linecolor\":\"white\",\"minorgridcolor\":\"white\",\"startlinecolor\":\"#2a3f5f\"},\"type\":\"carpet\"}],\"table\":[{\"cells\":{\"fill\":{\"color\":\"#EBF0F8\"},\"line\":{\"color\":\"white\"}},\"header\":{\"fill\":{\"color\":\"#C8D4E3\"},\"line\":{\"color\":\"white\"}},\"type\":\"table\"}],\"barpolar\":[{\"marker\":{\"line\":{\"color\":\"#E5ECF6\",\"width\":0.5},\"pattern\":{\"fillmode\":\"overlay\",\"size\":10,\"solidity\":0.2}},\"type\":\"barpolar\"}],\"pie\":[{\"automargin\":true,\"type\":\"pie\"}]},\"layout\":{\"autotypenumbers\":\"strict\",\"colorway\":[\"#636efa\",\"#EF553B\",\"#00cc96\",\"#ab63fa\",\"#FFA15A\",\"#19d3f3\",\"#FF6692\",\"#B6E880\",\"#FF97FF\",\"#FECB52\"],\"font\":{\"color\":\"#2a3f5f\"},\"hovermode\":\"closest\",\"hoverlabel\":{\"align\":\"left\"},\"paper_bgcolor\":\"white\",\"plot_bgcolor\":\"#E5ECF6\",\"polar\":{\"bgcolor\":\"#E5ECF6\",\"angularaxis\":{\"gridcolor\":\"white\",\"linecolor\":\"white\",\"ticks\":\"\"},\"radialaxis\":{\"gridcolor\":\"white\",\"linecolor\":\"white\",\"ticks\":\"\"}},\"ternary\":{\"bgcolor\":\"#E5ECF6\",\"aaxis\":{\"gridcolor\":\"white\",\"linecolor\":\"white\",\"ticks\":\"\"},\"baxis\":{\"gridcolor\":\"white\",\"linecolor\":\"white\",\"ticks\":\"\"},\"caxis\":{\"gridcolor\":\"white\",\"linecolor\":\"white\",\"ticks\":\"\"}},\"coloraxis\":{\"colorbar\":{\"outlinewidth\":0,\"ticks\":\"\"}},\"colorscale\":{\"sequential\":[[0.0,\"#0d0887\"],[0.1111111111111111,\"#46039f\"],[0.2222222222222222,\"#7201a8\"],[0.3333333333333333,\"#9c179e\"],[0.4444444444444444,\"#bd3786\"],[0.5555555555555556,\"#d8576b\"],[0.6666666666666666,\"#ed7953\"],[0.7777777777777778,\"#fb9f3a\"],[0.8888888888888888,\"#fdca26\"],[1.0,\"#f0f921\"]],\"sequentialminus\":[[0.0,\"#0d0887\"],[0.1111111111111111,\"#46039f\"],[0.2222222222222222,\"#7201a8\"],[0.3333333333333333,\"#9c179e\"],[0.4444444444444444,\"#bd3786\"],[0.5555555555555556,\"#d8576b\"],[0.6666666666666666,\"#ed7953\"],[0.7777777777777778,\"#fb9f3a\"],[0.8888888888888888,\"#fdca26\"],[1.0,\"#f0f921\"]],\"diverging\":[[0,\"#8e0152\"],[0.1,\"#c51b7d\"],[0.2,\"#de77ae\"],[0.3,\"#f1b6da\"],[0.4,\"#fde0ef\"],[0.5,\"#f7f7f7\"],[0.6,\"#e6f5d0\"],[0.7,\"#b8e186\"],[0.8,\"#7fbc41\"],[0.9,\"#4d9221\"],[1,\"#276419\"]]},\"xaxis\":{\"gridcolor\":\"white\",\"linecolor\":\"white\",\"ticks\":\"\",\"title\":{\"standoff\":15},\"zerolinecolor\":\"white\",\"automargin\":true,\"zerolinewidth\":2},\"yaxis\":{\"gridcolor\":\"white\",\"linecolor\":\"white\",\"ticks\":\"\",\"title\":{\"standoff\":15},\"zerolinecolor\":\"white\",\"automargin\":true,\"zerolinewidth\":2},\"scene\":{\"xaxis\":{\"backgroundcolor\":\"#E5ECF6\",\"gridcolor\":\"white\",\"linecolor\":\"white\",\"showbackground\":true,\"ticks\":\"\",\"zerolinecolor\":\"white\",\"gridwidth\":2},\"yaxis\":{\"backgroundcolor\":\"#E5ECF6\",\"gridcolor\":\"white\",\"linecolor\":\"white\",\"showbackground\":true,\"ticks\":\"\",\"zerolinecolor\":\"white\",\"gridwidth\":2},\"zaxis\":{\"backgroundcolor\":\"#E5ECF6\",\"gridcolor\":\"white\",\"linecolor\":\"white\",\"showbackground\":true,\"ticks\":\"\",\"zerolinecolor\":\"white\",\"gridwidth\":2}},\"shapedefaults\":{\"line\":{\"color\":\"#2a3f5f\"}},\"annotationdefaults\":{\"arrowcolor\":\"#2a3f5f\",\"arrowhead\":0,\"arrowwidth\":1},\"geo\":{\"bgcolor\":\"white\",\"landcolor\":\"#E5ECF6\",\"subunitcolor\":\"white\",\"showland\":true,\"showlakes\":true,\"lakecolor\":\"white\"},\"title\":{\"x\":0.05},\"mapbox\":{\"style\":\"light\"}}},\"xaxis\":{\"anchor\":\"y\",\"domain\":[0.0,1.0],\"title\":{\"text\":\"Vehicle Class\"}},\"yaxis\":{\"anchor\":\"x\",\"domain\":[0.0,1.0],\"title\":{\"text\":\"Number of Vehicles grouped by Make\"}},\"legend\":{\"title\":{\"text\":\"color\"},\"tracegroupgap\":0},\"title\":{\"text\":\"Vehicle Class focus for each Manufacturer\"},\"barmode\":\"relative\"},                        {\"responsive\": true}                    ).then(function(){\n",
       "                            \n",
       "var gd = document.getElementById('411f4b2d-aa84-42c8-8214-e79b799cf4fe');\n",
       "var x = new MutationObserver(function (mutations, observer) {{\n",
       "        var display = window.getComputedStyle(gd).display;\n",
       "        if (!display || display === 'none') {{\n",
       "            console.log([gd, 'removed!']);\n",
       "            Plotly.purge(gd);\n",
       "            observer.disconnect();\n",
       "        }}\n",
       "}});\n",
       "\n",
       "// Listen for the removal of the full notebook cells\n",
       "var notebookContainer = gd.closest('#notebook-container');\n",
       "if (notebookContainer) {{\n",
       "    x.observe(notebookContainer, {childList: true});\n",
       "}}\n",
       "\n",
       "// Listen for the clearing of the current output cell\n",
       "var outputEl = gd.closest('.output');\n",
       "if (outputEl) {{\n",
       "    x.observe(outputEl, {childList: true});\n",
       "}}\n",
       "\n",
       "                        })                };                });            </script>        </div>"
      ]
     },
     "metadata": {},
     "output_type": "display_data"
    }
   ],
   "source": [
    "Make = [x[0] for x in data_by_make.index]\n",
    "Count = data_by_make['ID']['count'].values.tolist()\n",
    "VehicleClass = [x[1] for x in data_by_make.index]\n",
    "\n",
    "fig = px.bar(x=VehicleClass, \n",
    "             y=Count, \n",
    "             color=Make, \n",
    "             color_discrete_sequence=px.colors.qualitative.Alphabet,\n",
    "             text=Make,\n",
    "             title=\"Vehicle Class focus for each Manufacturer\")\n",
    "\n",
    "fig.update_layout(xaxis_title='Vehicle Class',\n",
    "                  yaxis_title='Number of Vehicles grouped by Make',\n",
    "                  )\n",
    "\n",
    "fig.update_traces(hovertemplate= \"<b>Class: %{x}</b><br>\" + \"Count: %{y}</br>\" + \"Make: %{text}<br>\", selector=dict(type='bar'))\n",
    "\n",
    "fig.show()"
   ]
  },
  {
   "cell_type": "code",
   "execution_count": null,
   "id": "b4e98c45",
   "metadata": {},
   "outputs": [],
   "source": []
  }
 ],
 "metadata": {
  "kernelspec": {
   "display_name": "Python 3 (ipykernel)",
   "language": "python",
   "name": "python3"
  },
  "language_info": {
   "codemirror_mode": {
    "name": "ipython",
    "version": 3
   },
   "file_extension": ".py",
   "mimetype": "text/x-python",
   "name": "python",
   "nbconvert_exporter": "python",
   "pygments_lexer": "ipython3",
   "version": "3.9.16"
  }
 },
 "nbformat": 4,
 "nbformat_minor": 5
}
